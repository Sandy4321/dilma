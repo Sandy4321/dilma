{
 "cells": [
  {
   "cell_type": "code",
   "execution_count": 1,
   "metadata": {},
   "outputs": [],
   "source": [
    "import sys\n",
    "sys.path.append('..')\n",
    "import pandas as pd\n",
    "from adat.models.classification_model import LogisticRegressionOnTfIdf\n",
    "from sklearn.metrics import roc_auc_score, f1_score"
   ]
  },
  {
   "cell_type": "code",
   "execution_count": 2,
   "metadata": {},
   "outputs": [],
   "source": [
    "train_data = pd.read_csv('../data/kaggle_transactions_data/train.csv')\n",
    "test_data = pd.read_csv('../data/kaggle_transactions_data/test.csv')"
   ]
  },
  {
   "cell_type": "code",
   "execution_count": 3,
   "metadata": {},
   "outputs": [],
   "source": [
    "train_x = train_data.transactions.values\n",
    "train_y = train_data.label.values\n",
    "\n",
    "test_x = test_data.transactions.values\n",
    "test_y = test_data.label.values"
   ]
  },
  {
   "cell_type": "code",
   "execution_count": 4,
   "metadata": {},
   "outputs": [],
   "source": [
    "model = LogisticRegressionOnTfIdf()"
   ]
  },
  {
   "cell_type": "code",
   "execution_count": 5,
   "metadata": {},
   "outputs": [
    {
     "name": "stderr",
     "output_type": "stream",
     "text": [
      "/usr/local/lib/python3.6/dist-packages/sklearn/linear_model/logistic.py:432: FutureWarning: Default solver will be changed to 'lbfgs' in 0.22. Specify a solver to silence this warning.\n",
      "  FutureWarning)\n"
     ]
    },
    {
     "data": {
      "text/plain": [
       "<adat.models.classification_model.LogisticRegressionOnTfIdf at 0x7f34b45fe278>"
      ]
     },
     "execution_count": 5,
     "metadata": {},
     "output_type": "execute_result"
    }
   ],
   "source": [
    "model.fit(train_x, train_y)"
   ]
  },
  {
   "cell_type": "code",
   "execution_count": 6,
   "metadata": {},
   "outputs": [],
   "source": [
    "probs = model.predict(test_x)"
   ]
  },
  {
   "cell_type": "code",
   "execution_count": 7,
   "metadata": {},
   "outputs": [
    {
     "name": "stdout",
     "output_type": "stream",
     "text": [
      "ROC AUC = 0.7425382836750724\n"
     ]
    }
   ],
   "source": [
    "auc = roc_auc_score(y_true=test_y, y_score=probs[:, 1])\n",
    "print(f'ROC AUC = {auc}')"
   ]
  },
  {
   "cell_type": "code",
   "execution_count": 8,
   "metadata": {},
   "outputs": [
    {
     "name": "stdout",
     "output_type": "stream",
     "text": [
      "Accuracy = 0.6852959808545084\n"
     ]
    }
   ],
   "source": [
    "acc = (test_y == probs.argmax(axis=1)).mean()\n",
    "\n",
    "print(f'Accuracy = {acc}')"
   ]
  },
  {
   "cell_type": "markdown",
   "metadata": {},
   "source": [
    "## Naive"
   ]
  },
  {
   "cell_type": "code",
   "execution_count": 9,
   "metadata": {},
   "outputs": [],
   "source": [
    "import numpy as np"
   ]
  },
  {
   "cell_type": "code",
   "execution_count": 10,
   "metadata": {},
   "outputs": [
    {
     "name": "stdout",
     "output_type": "stream",
     "text": [
      "Naive ROC AUC = 0.5\n"
     ]
    }
   ],
   "source": [
    "naive_auc = 0.5\n",
    "print(f'Naive ROC AUC = {naive_auc}')"
   ]
  },
  {
   "cell_type": "code",
   "execution_count": 11,
   "metadata": {},
   "outputs": [
    {
     "name": "stdout",
     "output_type": "stream",
     "text": [
      "Naive Accuracy = 0.554656155416344\n"
     ]
    }
   ],
   "source": [
    "naive_acc = (test_y == np.zeros(test_y.shape[0])).mean()\n",
    "\n",
    "print(f'Naive Accuracy = {naive_acc}')"
   ]
  },
  {
   "cell_type": "markdown",
   "metadata": {},
   "source": [
    "# Adversarial MCMC sampler vs Random sampler"
   ]
  },
  {
   "cell_type": "code",
   "execution_count": 77,
   "metadata": {},
   "outputs": [],
   "source": [
    "# path to MCMC output\n",
    "output = pd.read_csv('../results_2/results.csv')\n",
    "generated = output.generated_sequence.values\n",
    "original = output.original.values\n",
    "\n",
    "output_rand = pd.read_csv('../results_random/results.csv')\n",
    "generated_rand = output_rand.generated_sequence.values\n",
    "original_rand = output_rand.original.values"
   ]
  },
  {
   "cell_type": "code",
   "execution_count": 78,
   "metadata": {},
   "outputs": [
    {
     "data": {
      "text/plain": [
       "((10148, 11), (14207, 11))"
      ]
     },
     "execution_count": 78,
     "metadata": {},
     "output_type": "execute_result"
    }
   ],
   "source": [
    "output.shape, output_rand.shape"
   ]
  },
  {
   "cell_type": "code",
   "execution_count": 82,
   "metadata": {},
   "outputs": [
    {
     "data": {
      "text/html": [
       "<div>\n",
       "<style scoped>\n",
       "    .dataframe tbody tr th:only-of-type {\n",
       "        vertical-align: middle;\n",
       "    }\n",
       "\n",
       "    .dataframe tbody tr th {\n",
       "        vertical-align: top;\n",
       "    }\n",
       "\n",
       "    .dataframe thead th {\n",
       "        text-align: right;\n",
       "    }\n",
       "</style>\n",
       "<table border=\"1\" class=\"dataframe\">\n",
       "  <thead>\n",
       "    <tr style=\"text-align: right;\">\n",
       "      <th></th>\n",
       "      <th>generated_sequence</th>\n",
       "      <th>prob</th>\n",
       "      <th>bleu</th>\n",
       "      <th>prob_diff</th>\n",
       "      <th>prob_drop</th>\n",
       "      <th>bleu_diff</th>\n",
       "      <th>bleu_drop</th>\n",
       "      <th>acceptance_probability</th>\n",
       "      <th>seq_len</th>\n",
       "      <th>original</th>\n",
       "      <th>wer</th>\n",
       "    </tr>\n",
       "  </thead>\n",
       "  <tbody>\n",
       "    <tr>\n",
       "      <th>0</th>\n",
       "      <td>id_142 id_42 id_276 id_52 id_148 id_116 id_30 ...</td>\n",
       "      <td>0.649739</td>\n",
       "      <td>0.820777</td>\n",
       "      <td>-0.165471</td>\n",
       "      <td>1.254673</td>\n",
       "      <td>0.0</td>\n",
       "      <td>1.0</td>\n",
       "      <td>0.0</td>\n",
       "      <td>14</td>\n",
       "      <td>id_142 id_42 id_276 id_52 id_148 id_116 id_30 ...</td>\n",
       "      <td>2</td>\n",
       "    </tr>\n",
       "    <tr>\n",
       "      <th>1</th>\n",
       "      <td>id_23 id_23 id_18 id_26 id_22 id_22 id_35 id_19</td>\n",
       "      <td>0.395504</td>\n",
       "      <td>1.000000</td>\n",
       "      <td>0.000000</td>\n",
       "      <td>1.000000</td>\n",
       "      <td>0.0</td>\n",
       "      <td>1.0</td>\n",
       "      <td>0.0</td>\n",
       "      <td>8</td>\n",
       "      <td>id_23 id_23 id_18 id_26 id_22 id_22 id_35 id_19</td>\n",
       "      <td>0</td>\n",
       "    </tr>\n",
       "    <tr>\n",
       "      <th>2</th>\n",
       "      <td>id_20 id_1 id_1 id_119 id_43 id_382 id_141 id_...</td>\n",
       "      <td>0.599958</td>\n",
       "      <td>0.866025</td>\n",
       "      <td>-0.095937</td>\n",
       "      <td>1.159907</td>\n",
       "      <td>0.0</td>\n",
       "      <td>1.0</td>\n",
       "      <td>0.0</td>\n",
       "      <td>11</td>\n",
       "      <td>id_20 id_1 id_1 id_119 id_43 id_1337 id_141 id...</td>\n",
       "      <td>1</td>\n",
       "    </tr>\n",
       "    <tr>\n",
       "      <th>3</th>\n",
       "      <td>id_1 id_12 id_1 id_2 id_1 id_93 id_3 id_46 id_...</td>\n",
       "      <td>0.454211</td>\n",
       "      <td>1.000000</td>\n",
       "      <td>0.000000</td>\n",
       "      <td>1.000000</td>\n",
       "      <td>0.0</td>\n",
       "      <td>1.0</td>\n",
       "      <td>0.0</td>\n",
       "      <td>13</td>\n",
       "      <td>id_1 id_12 id_1 id_2 id_1 id_93 id_3 id_46 id_...</td>\n",
       "      <td>0</td>\n",
       "    </tr>\n",
       "    <tr>\n",
       "      <th>4</th>\n",
       "      <td>id_1 id_8 id_56 id_56 id_30 id_14 id_349 id_8 ...</td>\n",
       "      <td>0.512733</td>\n",
       "      <td>1.000000</td>\n",
       "      <td>0.000000</td>\n",
       "      <td>1.000000</td>\n",
       "      <td>0.0</td>\n",
       "      <td>1.0</td>\n",
       "      <td>0.0</td>\n",
       "      <td>14</td>\n",
       "      <td>id_1 id_8 id_56 id_56 id_30 id_14 id_349 id_8 ...</td>\n",
       "      <td>0</td>\n",
       "    </tr>\n",
       "  </tbody>\n",
       "</table>\n",
       "</div>"
      ],
      "text/plain": [
       "                                  generated_sequence      prob      bleu  \\\n",
       "0  id_142 id_42 id_276 id_52 id_148 id_116 id_30 ...  0.649739  0.820777   \n",
       "1    id_23 id_23 id_18 id_26 id_22 id_22 id_35 id_19  0.395504  1.000000   \n",
       "2  id_20 id_1 id_1 id_119 id_43 id_382 id_141 id_...  0.599958  0.866025   \n",
       "3  id_1 id_12 id_1 id_2 id_1 id_93 id_3 id_46 id_...  0.454211  1.000000   \n",
       "4  id_1 id_8 id_56 id_56 id_30 id_14 id_349 id_8 ...  0.512733  1.000000   \n",
       "\n",
       "   prob_diff  prob_drop  bleu_diff  bleu_drop  acceptance_probability  \\\n",
       "0  -0.165471   1.254673        0.0        1.0                     0.0   \n",
       "1   0.000000   1.000000        0.0        1.0                     0.0   \n",
       "2  -0.095937   1.159907        0.0        1.0                     0.0   \n",
       "3   0.000000   1.000000        0.0        1.0                     0.0   \n",
       "4   0.000000   1.000000        0.0        1.0                     0.0   \n",
       "\n",
       "   seq_len                                           original  wer  \n",
       "0       14  id_142 id_42 id_276 id_52 id_148 id_116 id_30 ...    2  \n",
       "1        8    id_23 id_23 id_18 id_26 id_22 id_22 id_35 id_19    0  \n",
       "2       11  id_20 id_1 id_1 id_119 id_43 id_1337 id_141 id...    1  \n",
       "3       13  id_1 id_12 id_1 id_2 id_1 id_93 id_3 id_46 id_...    0  \n",
       "4       14  id_1 id_8 id_56 id_56 id_30 id_14 id_349 id_8 ...    0  "
      ]
     },
     "execution_count": 82,
     "metadata": {},
     "output_type": "execute_result"
    }
   ],
   "source": [
    "output_rand.head()"
   ]
  },
  {
   "cell_type": "code",
   "execution_count": 79,
   "metadata": {},
   "outputs": [],
   "source": [
    "def get_results(output, test_y, generated, original):\n",
    "    num_generated_so_far = generated.shape[0]\n",
    "\n",
    "    adversarial_probs = model.predict(generated)\n",
    "\n",
    "    print(f'Average WER = {output.wer.mean()}\\nAverage BLEU = {output.bleu.mean()}\\n')\n",
    "    print(f'Naive ROC AUC = {naive_auc}\\nNaive Accuracy = {naive_acc}\\n')\n",
    "\n",
    "    non_adversarial_probs = model.predict(original)\n",
    "    adv_auc = roc_auc_score(y_true=test_y[:num_generated_so_far], y_score=non_adversarial_probs[:, 1])\n",
    "    print(f'Non-Adversarial ROC AUC = {adv_auc}')\n",
    "    adv_acc = (test_y[:num_generated_so_far] == non_adversarial_probs.argmax(axis=1)).mean()\n",
    "    print(f'Non-Adversarial Accuracy = {adv_acc}\\n')\n",
    "\n",
    "    adv_auc = roc_auc_score(y_true=test_y[:num_generated_so_far], y_score=adversarial_probs[:, 1])\n",
    "    print(f'Adversarial ROC AUC = {adv_auc}')\n",
    "    adv_acc = (test_y[:num_generated_so_far] == adversarial_probs.argmax(axis=1)).mean()\n",
    "    print(f'Adversarial Accuracy = {adv_acc}')"
   ]
  },
  {
   "cell_type": "code",
   "execution_count": 80,
   "metadata": {},
   "outputs": [
    {
     "name": "stdout",
     "output_type": "stream",
     "text": [
      ">>> MCMC\n",
      "\n",
      "Average WER = 1.7852778872684272\n",
      "Average BLEU = 0.822481190107604\n",
      "\n",
      "Naive ROC AUC = 0.5\n",
      "Naive Accuracy = 0.554656155416344\n",
      "\n",
      "Non-Adversarial ROC AUC = 0.7453129418126201\n",
      "Non-Adversarial Accuracy = 0.6877217185652346\n",
      "\n",
      "Adversarial ROC AUC = 0.616949528408533\n",
      "Adversarial Accuracy = 0.5910524241229799\n"
     ]
    }
   ],
   "source": [
    "print('>>> MCMC\\n')\n",
    "get_results(output, test_y, generated, original)"
   ]
  },
  {
   "cell_type": "code",
   "execution_count": 81,
   "metadata": {},
   "outputs": [
    {
     "name": "stdout",
     "output_type": "stream",
     "text": [
      ">>> Random\n",
      "\n",
      "Average WER = 1.4975012317871472\n",
      "Average BLEU = 0.8514050227449653\n",
      "\n",
      "Naive ROC AUC = 0.5\n",
      "Naive Accuracy = 0.554656155416344\n",
      "\n",
      "Non-Adversarial ROC AUC = 0.7425382836750724\n",
      "Non-Adversarial Accuracy = 0.6852959808545084\n",
      "\n",
      "Adversarial ROC AUC = 0.6678953766750988\n",
      "Adversarial Accuracy = 0.6265221369747308\n"
     ]
    }
   ],
   "source": [
    "print('>>> Random\\n')\n",
    "get_results(output_rand, test_y, generated_rand, original_rand)"
   ]
  },
  {
   "cell_type": "code",
   "execution_count": null,
   "metadata": {},
   "outputs": [],
   "source": []
  },
  {
   "cell_type": "code",
   "execution_count": null,
   "metadata": {},
   "outputs": [],
   "source": []
  }
 ],
 "metadata": {
  "kernelspec": {
   "display_name": "Python 3",
   "language": "python",
   "name": "python3"
  },
  "language_info": {
   "codemirror_mode": {
    "name": "ipython",
    "version": 3
   },
   "file_extension": ".py",
   "mimetype": "text/x-python",
   "name": "python",
   "nbconvert_exporter": "python",
   "pygments_lexer": "ipython3",
   "version": "3.6.8"
  }
 },
 "nbformat": 4,
 "nbformat_minor": 2
}
