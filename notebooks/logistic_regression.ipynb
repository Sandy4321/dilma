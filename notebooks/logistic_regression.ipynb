{
 "cells": [
  {
   "cell_type": "code",
   "execution_count": 1,
   "metadata": {},
   "outputs": [],
   "source": [
    "import sys\n",
    "sys.path.append('..')\n",
    "import pandas as pd\n",
    "from adat.models.classification_model import LogisticRegressionOnTfIdf\n",
    "from sklearn.metrics import roc_auc_score, f1_score"
   ]
  },
  {
   "cell_type": "code",
   "execution_count": 2,
   "metadata": {},
   "outputs": [],
   "source": [
    "train_data = pd.read_csv('../data/tinkoff/train.csv')\n",
    "test_data = pd.read_csv('../data/tinkoff/test.csv')"
   ]
  },
  {
   "cell_type": "code",
   "execution_count": 6,
   "metadata": {},
   "outputs": [],
   "source": [
    "train_x = train_data.transactions.values\n",
    "train_y = train_data.labels.values\n",
    "\n",
    "test_x = test_data.sequences.values\n",
    "test_y = test_data.labels.values"
   ]
  },
  {
   "cell_type": "code",
   "execution_count": 7,
   "metadata": {},
   "outputs": [],
   "source": [
    "model = LogisticRegressionOnTfIdf()"
   ]
  },
  {
   "cell_type": "code",
   "execution_count": 8,
   "metadata": {},
   "outputs": [
    {
     "data": {
      "text/plain": [
       "<adat.models.classification_model.LogisticRegressionOnTfIdf at 0x7f948998a630>"
      ]
     },
     "execution_count": 8,
     "metadata": {},
     "output_type": "execute_result"
    }
   ],
   "source": [
    "model.fit(train_x, train_y)"
   ]
  },
  {
   "cell_type": "code",
   "execution_count": 9,
   "metadata": {},
   "outputs": [],
   "source": [
    "probs = model.predict(test_x)"
   ]
  },
  {
   "cell_type": "code",
   "execution_count": null,
   "metadata": {},
   "outputs": [],
   "source": []
  },
  {
   "cell_type": "code",
   "execution_count": null,
   "metadata": {},
   "outputs": [],
   "source": [
    "f1_score()"
   ]
  },
  {
   "cell_type": "code",
   "execution_count": 10,
   "metadata": {},
   "outputs": [
    {
     "name": "stdout",
     "output_type": "stream",
     "text": [
      "ROC AUC = 0.8780328995362765\n"
     ]
    }
   ],
   "source": [
    "auc = roc_auc_score(y_true=test_y, y_score=probs[:, 1])\n",
    "print(f'ROC AUC = {auc}')"
   ]
  },
  {
   "cell_type": "code",
   "execution_count": 11,
   "metadata": {},
   "outputs": [
    {
     "name": "stdout",
     "output_type": "stream",
     "text": [
      "Accuracy = 0.8707694732280052\n"
     ]
    }
   ],
   "source": [
    "acc = (test_y == probs.argmax(axis=1)).mean()\n",
    "\n",
    "print(f'Accuracy = {acc}')"
   ]
  },
  {
   "cell_type": "markdown",
   "metadata": {},
   "source": [
    "## Naive"
   ]
  },
  {
   "cell_type": "code",
   "execution_count": 9,
   "metadata": {},
   "outputs": [],
   "source": [
    "import numpy as np"
   ]
  },
  {
   "cell_type": "code",
   "execution_count": 10,
   "metadata": {},
   "outputs": [
    {
     "name": "stdout",
     "output_type": "stream",
     "text": [
      "Naive ROC AUC = 0.5\n"
     ]
    }
   ],
   "source": [
    "naive_auc = 0.5\n",
    "print(f'Naive ROC AUC = {naive_auc}')"
   ]
  },
  {
   "cell_type": "code",
   "execution_count": 11,
   "metadata": {},
   "outputs": [
    {
     "name": "stdout",
     "output_type": "stream",
     "text": [
      "Naive Accuracy = 0.554656155416344\n"
     ]
    }
   ],
   "source": [
    "naive_acc = (test_y == np.zeros(test_y.shape[0])).mean()\n",
    "\n",
    "print(f'Naive Accuracy = {naive_acc}')"
   ]
  },
  {
   "cell_type": "markdown",
   "metadata": {},
   "source": [
    "# Adversarial MCMC sampler vs Random sampler"
   ]
  },
  {
   "cell_type": "code",
   "execution_count": 63,
   "metadata": {},
   "outputs": [],
   "source": [
    "# path to MCMC output\n",
    "output = pd.read_csv('../results_2/results.csv')\n",
    "generated = output.generated_sequence.values\n",
    "original = output.original.values\n",
    "\n",
    "output_rand = pd.read_csv('../results_random/results.csv')\n",
    "generated_rand = output_rand.generated_sequence.values\n",
    "original_rand = output_rand.original.values\n",
    "\n",
    "output_hotflip = pd.read_csv('hotflip_output.csv')\n",
    "generated_hotflip = output_hotflip.generated_sequence.values\n",
    "original_hotflip = output_hotflip.original.values"
   ]
  },
  {
   "cell_type": "code",
   "execution_count": 64,
   "metadata": {},
   "outputs": [
    {
     "data": {
      "text/plain": [
       "((14207, 11), (14207, 11), (14207, 4))"
      ]
     },
     "execution_count": 64,
     "metadata": {},
     "output_type": "execute_result"
    }
   ],
   "source": [
    "output.shape, output_rand.shape, output_hotflip.shape"
   ]
  },
  {
   "cell_type": "code",
   "execution_count": 65,
   "metadata": {},
   "outputs": [],
   "source": [
    "def get_results(output, test_y, generated, original):\n",
    "    num_generated_so_far = generated.shape[0]\n",
    "\n",
    "    adversarial_probs = model.predict(generated)\n",
    "\n",
    "    print(f'Average WER = {output.wer.mean()}\\nAverage BLEU = {output.bleu.mean()}\\n')\n",
    "    print(f'Naive ROC AUC = {naive_auc}\\nNaive Accuracy = {naive_acc}\\n')\n",
    "\n",
    "    non_adversarial_probs = model.predict(original)\n",
    "    adv_auc = roc_auc_score(y_true=test_y[:num_generated_so_far], y_score=non_adversarial_probs[:, 1])\n",
    "    print(f'Non-Adversarial ROC AUC = {adv_auc}')\n",
    "    adv_acc = (test_y[:num_generated_so_far] == non_adversarial_probs.argmax(axis=1)).mean()\n",
    "    print(f'Non-Adversarial Accuracy = {adv_acc}\\n')\n",
    "\n",
    "    adv_auc = roc_auc_score(y_true=test_y[:num_generated_so_far], y_score=adversarial_probs[:, 1])\n",
    "    print(f'Adversarial ROC AUC = {adv_auc}')\n",
    "    adv_acc = (test_y[:num_generated_so_far] == adversarial_probs.argmax(axis=1)).mean()\n",
    "    print(f'Adversarial Accuracy = {adv_acc}')"
   ]
  },
  {
   "cell_type": "code",
   "execution_count": 66,
   "metadata": {},
   "outputs": [
    {
     "name": "stdout",
     "output_type": "stream",
     "text": [
      ">>> MCMC\n",
      "\n",
      "Average WER = 1.8081227563876963\n",
      "Average BLEU = 0.8201734764653238\n",
      "\n",
      "Naive ROC AUC = 0.5\n",
      "Naive Accuracy = 0.554656155416344\n",
      "\n",
      "Non-Adversarial ROC AUC = 0.7425382836750724\n",
      "Non-Adversarial Accuracy = 0.6852959808545084\n",
      "\n",
      "Adversarial ROC AUC = 0.6136349112938747\n",
      "Adversarial Accuracy = 0.5886534806785387\n"
     ]
    }
   ],
   "source": [
    "print('>>> MCMC\\n')\n",
    "get_results(output, test_y, generated, original)"
   ]
  },
  {
   "cell_type": "code",
   "execution_count": 67,
   "metadata": {},
   "outputs": [
    {
     "name": "stdout",
     "output_type": "stream",
     "text": [
      ">>> Random\n",
      "\n",
      "Average WER = 1.4975012317871472\n",
      "Average BLEU = 0.8514050227449653\n",
      "\n",
      "Naive ROC AUC = 0.5\n",
      "Naive Accuracy = 0.554656155416344\n",
      "\n",
      "Non-Adversarial ROC AUC = 0.7425382836750724\n",
      "Non-Adversarial Accuracy = 0.6852959808545084\n",
      "\n",
      "Adversarial ROC AUC = 0.6678953766750988\n",
      "Adversarial Accuracy = 0.6265221369747308\n"
     ]
    }
   ],
   "source": [
    "print('>>> Random\\n')\n",
    "get_results(output_rand, test_y, generated_rand, original_rand)"
   ]
  },
  {
   "cell_type": "code",
   "execution_count": 68,
   "metadata": {},
   "outputs": [
    {
     "name": "stdout",
     "output_type": "stream",
     "text": [
      ">>> Hotflip\n",
      "\n",
      "Average WER = 6.903357499824031\n",
      "Average BLEU = 0.2775505447367772\n",
      "\n",
      "Naive ROC AUC = 0.5\n",
      "Naive Accuracy = 0.554656155416344\n",
      "\n",
      "Non-Adversarial ROC AUC = 0.7425382836750724\n",
      "Non-Adversarial Accuracy = 0.6852959808545084\n",
      "\n",
      "Adversarial ROC AUC = 0.5762124032929536\n",
      "Adversarial Accuracy = 0.60660237910889\n"
     ]
    }
   ],
   "source": [
    "print('>>> Hotflip\\n')\n",
    "get_results(output_hotflip, test_y, generated_hotflip, original_hotflip)"
   ]
  },
  {
   "cell_type": "code",
   "execution_count": null,
   "metadata": {},
   "outputs": [],
   "source": []
  },
  {
   "cell_type": "code",
   "execution_count": null,
   "metadata": {},
   "outputs": [],
   "source": []
  },
  {
   "cell_type": "code",
   "execution_count": null,
   "metadata": {},
   "outputs": [],
   "source": []
  },
  {
   "cell_type": "code",
   "execution_count": null,
   "metadata": {},
   "outputs": [],
   "source": []
  }
 ],
 "metadata": {
  "kernelspec": {
   "display_name": "Python 3",
   "language": "python",
   "name": "python3"
  },
  "language_info": {
   "codemirror_mode": {
    "name": "ipython",
    "version": 3
   },
   "file_extension": ".py",
   "mimetype": "text/x-python",
   "name": "python",
   "nbconvert_exporter": "python",
   "pygments_lexer": "ipython3",
   "version": "3.6.8"
  }
 },
 "nbformat": 4,
 "nbformat_minor": 2
}
