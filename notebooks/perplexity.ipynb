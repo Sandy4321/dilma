{
 "cells": [
  {
   "cell_type": "code",
   "execution_count": 1,
   "metadata": {},
   "outputs": [],
   "source": [
    "import torch\n",
    "\n",
    "from allennlp.training.metrics import Perplexity\n",
    "from allennlp.data.iterators import BasicIterator\n",
    "from allennlp.data.vocabulary import Vocabulary\n",
    "from allennlp.data.dataset_readers import SimpleLanguageModelingDatasetReader\n",
    "from allennlp.predictors import SimpleSeq2SeqPredictor\n",
    "\n",
    "from adat.dataset import WhitespaceTokenizer\n",
    "from adat.utils import load_weights\n",
    "from adat.lm import get_basic_lm"
   ]
  },
  {
   "cell_type": "markdown",
   "metadata": {},
   "source": [
    "## Load adversarial data"
   ]
  },
  {
   "cell_type": "code",
   "execution_count": 2,
   "metadata": {},
   "outputs": [],
   "source": [
    "max_examples = 20000\n",
    "\n",
    "original = []\n",
    "adversarial = []\n",
    "\n",
    "with open('val.12') as file:\n",
    "    for i, line in enumerate(file):\n",
    "        if i % 2 == 0:\n",
    "            original.append(line.strip())\n",
    "        else:\n",
    "            adversarial.append(line.strip())\n",
    "            \n",
    "        if i > 2 * max_examples:\n",
    "            break"
   ]
  },
  {
   "cell_type": "code",
   "execution_count": 3,
   "metadata": {},
   "outputs": [
    {
     "data": {
      "text/plain": [
       "(20001, 20001)"
      ]
     },
     "execution_count": 3,
     "metadata": {},
     "output_type": "execute_result"
    }
   ],
   "source": [
    "len(original), len(adversarial)"
   ]
  },
  {
   "cell_type": "code",
   "execution_count": 4,
   "metadata": {},
   "outputs": [
    {
     "name": "stdout",
     "output_type": "stream",
     "text": [
      "Original = a_876 a_877\n",
      "Adversarial = a_776 a_207 a_207 a_207 a_207 a_207 a_207 a_207 a_207 a_207 a_207 a_207 a_207 a_207 a_207 a_207 a_207 a_207 a_207 a_207 a_207 a_207 a_207 a_207\n"
     ]
    }
   ],
   "source": [
    "print(f'Original = {original[299]}\\nAdversarial = {adversarial[299]}')"
   ]
  },
  {
   "cell_type": "markdown",
   "metadata": {},
   "source": [
    "## Perplexity"
   ]
  },
  {
   "cell_type": "code",
   "execution_count": 5,
   "metadata": {},
   "outputs": [],
   "source": [
    "reader = SimpleLanguageModelingDatasetReader(\n",
    "    tokenizer=WhitespaceTokenizer(),\n",
    "    max_sequence_length=None\n",
    ")"
   ]
  },
  {
   "cell_type": "code",
   "execution_count": 6,
   "metadata": {},
   "outputs": [],
   "source": [
    "vocab = Vocabulary.from_files('experiments/vocab')\n",
    "\n",
    "model = get_basic_lm(vocab)\n",
    "\n",
    "load_weights(model, 'experiments/model.th')\n",
    "\n",
    "iterator = BasicIterator(batch_size=128)\n",
    "iterator.index_with(vocab)"
   ]
  },
  {
   "cell_type": "code",
   "execution_count": 7,
   "metadata": {},
   "outputs": [],
   "source": [
    "# predictor = SimpleSeq2SeqPredictor(model, reader)"
   ]
  },
  {
   "cell_type": "code",
   "execution_count": 8,
   "metadata": {},
   "outputs": [],
   "source": [
    "original_instances = [reader.text_to_instance(t) for t in original]\n",
    "adversarial_instances = [reader.text_to_instance(t) for t in adversarial]\n",
    "\n",
    "model.training = False"
   ]
  },
  {
   "cell_type": "code",
   "execution_count": 9,
   "metadata": {},
   "outputs": [
    {
     "name": "stdout",
     "output_type": "stream",
     "text": [
      "Perplexity (Original) = 47.74658966064453\n"
     ]
    }
   ],
   "source": [
    "perplexity_orig = Perplexity()\n",
    "\n",
    "for i, x in enumerate(iterator(original_instances, num_epochs=1)):\n",
    "    with torch.no_grad():\n",
    "        average_loss = model(**x)['loss']\n",
    "        perplexity_orig(average_loss)\n",
    "    \n",
    "print(f'Perplexity (Original) = {perplexity_orig.get_metric(False)}')"
   ]
  },
  {
   "cell_type": "code",
   "execution_count": 10,
   "metadata": {},
   "outputs": [
    {
     "name": "stdout",
     "output_type": "stream",
     "text": [
      "Perplexity (Adversarial) = 2229.762939453125\n"
     ]
    }
   ],
   "source": [
    "perplexity = Perplexity()\n",
    "\n",
    "for i, x in enumerate(iterator(adversarial_instances, num_epochs=1)):\n",
    "    with torch.no_grad():\n",
    "        average_loss = model(**x)['loss']\n",
    "        perplexity(average_loss)\n",
    "    \n",
    "print(f'Perplexity (Adversarial) = {perplexity.get_metric(False)}')"
   ]
  },
  {
   "cell_type": "markdown",
   "metadata": {},
   "source": [
    "## Another way\n"
   ]
  },
  {
   "cell_type": "code",
   "execution_count": 7,
   "metadata": {},
   "outputs": [],
   "source": [
    "from adat.utils import calculate_perplexity"
   ]
  },
  {
   "cell_type": "code",
   "execution_count": 8,
   "metadata": {},
   "outputs": [
    {
     "data": {
      "text/plain": [
       "47.63511657714844"
      ]
     },
     "execution_count": 8,
     "metadata": {},
     "output_type": "execute_result"
    }
   ],
   "source": [
    "calculate_perplexity(original, model, reader, vocab)"
   ]
  },
  {
   "cell_type": "code",
   "execution_count": 9,
   "metadata": {},
   "outputs": [
    {
     "data": {
      "text/plain": [
       "2230.009521484375"
      ]
     },
     "execution_count": 9,
     "metadata": {},
     "output_type": "execute_result"
    }
   ],
   "source": [
    "calculate_perplexity(adversarial, model, reader, vocab)"
   ]
  },
  {
   "cell_type": "code",
   "execution_count": null,
   "metadata": {},
   "outputs": [],
   "source": []
  },
  {
   "cell_type": "code",
   "execution_count": null,
   "metadata": {},
   "outputs": [],
   "source": []
  }
 ],
 "metadata": {
  "kernelspec": {
   "display_name": "Python 3",
   "language": "python",
   "name": "python3"
  },
  "language_info": {
   "codemirror_mode": {
    "name": "ipython",
    "version": 3
   },
   "file_extension": ".py",
   "mimetype": "text/x-python",
   "name": "python",
   "nbconvert_exporter": "python",
   "pygments_lexer": "ipython3",
   "version": "3.6.8"
  }
 },
 "nbformat": 4,
 "nbformat_minor": 2
}
