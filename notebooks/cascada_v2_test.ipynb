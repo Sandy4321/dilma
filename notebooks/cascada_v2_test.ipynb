{
 "cells": [
  {
   "cell_type": "code",
   "execution_count": 1,
   "metadata": {},
   "outputs": [
    {
     "name": "stdout",
     "output_type": "stream",
     "text": [
      "Wed Apr 29 22:58:47 2020       \n",
      "+-----------------------------------------------------------------------------+\n",
      "| NVIDIA-SMI 418.87.00    Driver Version: 418.87.00    CUDA Version: 10.1     |\n",
      "|-------------------------------+----------------------+----------------------+\n",
      "| GPU  Name        Persistence-M| Bus-Id        Disp.A | Volatile Uncorr. ECC |\n",
      "| Fan  Temp  Perf  Pwr:Usage/Cap|         Memory-Usage | GPU-Util  Compute M. |\n",
      "|===============================+======================+======================|\n",
      "|   0  GeForce GTX 108...  Off  | 00000000:02:00.0 Off |                  N/A |\n",
      "|  0%   55C    P2    59W / 280W |   1302MiB / 11178MiB |      3%      Default |\n",
      "+-------------------------------+----------------------+----------------------+\n",
      "|   1  GeForce GTX 108...  Off  | 00000000:03:00.0 Off |                  N/A |\n",
      "| 48%   57C    P2    57W / 280W |   2738MiB / 11178MiB |      0%      Default |\n",
      "+-------------------------------+----------------------+----------------------+\n",
      "|   2  GeForce GTX 108...  Off  | 00000000:83:00.0 Off |                  N/A |\n",
      "|  0%   27C    P8     8W / 280W |     10MiB / 11178MiB |      0%      Default |\n",
      "+-------------------------------+----------------------+----------------------+\n",
      "|   3  GeForce GTX 108...  Off  | 00000000:84:00.0 Off |                  N/A |\n",
      "|  0%   25C    P8     8W / 280W |     10MiB / 11178MiB |      0%      Default |\n",
      "+-------------------------------+----------------------+----------------------+\n",
      "                                                                               \n",
      "+-----------------------------------------------------------------------------+\n",
      "| Processes:                                                       GPU Memory |\n",
      "|  GPU       PID   Type   Process name                             Usage      |\n",
      "|=============================================================================|\n",
      "+-----------------------------------------------------------------------------+\n"
     ]
    }
   ],
   "source": [
    "! nvidia-smi"
   ]
  },
  {
   "cell_type": "code",
   "execution_count": 2,
   "metadata": {},
   "outputs": [
    {
     "name": "stderr",
     "output_type": "stream",
     "text": [
      "2020-04-29 22:58:50,856 [45938] WARNING  py.warnings:99: [JupyterRequire] /usr/local/lib/python3.6/dist-packages/tensorflow/python/framework/dtypes.py:526: FutureWarning: Passing (type, 1) or '1type' as a synonym of type is deprecated; in a future version of numpy, it will be understood as (type, (1,)) / '(1,)type'.\n",
      "  _np_qint8 = np.dtype([(\"qint8\", np.int8, 1)])\n",
      "\n",
      "2020-04-29 22:58:50,861 [45938] WARNING  py.warnings:99: [JupyterRequire] /usr/local/lib/python3.6/dist-packages/tensorflow/python/framework/dtypes.py:527: FutureWarning: Passing (type, 1) or '1type' as a synonym of type is deprecated; in a future version of numpy, it will be understood as (type, (1,)) / '(1,)type'.\n",
      "  _np_quint8 = np.dtype([(\"quint8\", np.uint8, 1)])\n",
      "\n",
      "2020-04-29 22:58:50,864 [45938] WARNING  py.warnings:99: [JupyterRequire] /usr/local/lib/python3.6/dist-packages/tensorflow/python/framework/dtypes.py:528: FutureWarning: Passing (type, 1) or '1type' as a synonym of type is deprecated; in a future version of numpy, it will be understood as (type, (1,)) / '(1,)type'.\n",
      "  _np_qint16 = np.dtype([(\"qint16\", np.int16, 1)])\n",
      "\n",
      "2020-04-29 22:58:50,866 [45938] WARNING  py.warnings:99: [JupyterRequire] /usr/local/lib/python3.6/dist-packages/tensorflow/python/framework/dtypes.py:529: FutureWarning: Passing (type, 1) or '1type' as a synonym of type is deprecated; in a future version of numpy, it will be understood as (type, (1,)) / '(1,)type'.\n",
      "  _np_quint16 = np.dtype([(\"quint16\", np.uint16, 1)])\n",
      "\n",
      "2020-04-29 22:58:50,867 [45938] WARNING  py.warnings:99: [JupyterRequire] /usr/local/lib/python3.6/dist-packages/tensorflow/python/framework/dtypes.py:530: FutureWarning: Passing (type, 1) or '1type' as a synonym of type is deprecated; in a future version of numpy, it will be understood as (type, (1,)) / '(1,)type'.\n",
      "  _np_qint32 = np.dtype([(\"qint32\", np.int32, 1)])\n",
      "\n",
      "2020-04-29 22:58:50,869 [45938] WARNING  py.warnings:99: [JupyterRequire] /usr/local/lib/python3.6/dist-packages/tensorflow/python/framework/dtypes.py:535: FutureWarning: Passing (type, 1) or '1type' as a synonym of type is deprecated; in a future version of numpy, it will be understood as (type, (1,)) / '(1,)type'.\n",
      "  np_resource = np.dtype([(\"resource\", np.ubyte, 1)])\n",
      "\n"
     ]
    }
   ],
   "source": [
    "import json\n",
    "\n",
    "from adat.attackers.masked_cascada import MaskedCascada\n",
    "from adat.models.masked_lm import MaskedLanguageModel\n",
    "from adat.utils import calculate_wer, visualize_simple_diff"
   ]
  },
  {
   "cell_type": "code",
   "execution_count": 3,
   "metadata": {},
   "outputs": [],
   "source": [
    "data = []\n",
    "\n",
    "with open('data/wine_class/test.json') as file:\n",
    "    for line in file.readlines():\n",
    "        data.append(json.loads(line))"
   ]
  },
  {
   "cell_type": "code",
   "execution_count": 4,
   "metadata": {},
   "outputs": [],
   "source": [
    "attacker = MaskedCascada(\n",
    "    masked_lm_dir=\"logs/wine_lm/\", \n",
    "    classifier_dir=\"logs/wine_classifier/\",\n",
    "    deep_levenshtein_dir=\"logs/wine_levenshtein/\",\n",
    "    alpha=2.0,\n",
    "    lr=0.5,\n",
    "    device=3\n",
    ")"
   ]
  },
  {
   "cell_type": "code",
   "execution_count": 5,
   "metadata": {},
   "outputs": [],
   "source": [
    "labels_mapping = {0: 'bad wine', 1: 'good wine'}\n",
    "\n",
    "def attack(sequence, label_to_attack, max_steps=10, \n",
    "           thresh_drop=0.2, early_stopping=False, attacker=attacker):\n",
    "    adversarial_output = attacker.attack(\n",
    "        sequence, \n",
    "        label_to_attack=label_to_attack, \n",
    "        max_steps=10,\n",
    "        thresh_drop=0.2,\n",
    "        early_stopping=False\n",
    "    )\n",
    "\n",
    "    adversarial_sequence = adversarial_output.adversarial_sequence\n",
    "    wer = adversarial_output.wer\n",
    "    prob = adversarial_output.probability\n",
    "    new_prob = adversarial_output.adversarial_probability\n",
    "\n",
    "    print(f'Initial label: {labels_mapping[label_to_attack]}\\nInitial probability = {prob:.3f}\\nNew probability = {new_prob:.3f}\\nWER = {wer}\\n')\n",
    "\n",
    "    visualize_simple_diff(sequence, adversarial_sequence)"
   ]
  },
  {
   "cell_type": "code",
   "execution_count": 9,
   "metadata": {},
   "outputs": [
    {
     "name": "stdout",
     "output_type": "stream",
     "text": [
      "Initial label: good wine\n",
      "Initial probability = 0.952\n",
      "New probability = 0.303\n",
      "WER = 2\n",
      "\n"
     ]
    },
    {
     "data": {
      "text/html": [
       "a <font color='red'>beautiful</font> pinot to drink now this is elegant and supple with crisp acidity and a delightfully light texture however theres nothing light about the flavors which suggest wild forest berry softened cola mushroom dried pine and spice <font color='red'>enhanced</font> with a subtle jacket of sandalwood <br><br> a <font color='green'>nice</font> pinot to drink now this is elegant and supple with crisp acidity and a delightfully light texture however theres nothing light about the flavors which suggest wild forest berry softened cola mushroom dried pine and spice <font color='green'>accented</font> with a subtle jacket of sandalwood"
      ],
      "text/plain": [
       "<IPython.core.display.HTML object>"
      ]
     },
     "metadata": {},
     "output_type": "display_data"
    }
   ],
   "source": [
    "idx = 17\n",
    "\n",
    "attack(data[idx]['text'], data[idx]['label'])"
   ]
  },
  {
   "cell_type": "code",
   "execution_count": 11,
   "metadata": {},
   "outputs": [
    {
     "name": "stdout",
     "output_type": "stream",
     "text": [
      "Initial label: bad wine\n",
      "Initial probability = 0.907\n",
      "New probability = 0.108\n",
      "WER = 14\n",
      "\n"
     ]
    },
    {
     "data": {
      "text/html": [
       "<font color='red'>following</font> in the <font color='red'>footsteps</font> of this <font color='red'>estates</font> successful <font color='red'>rosso</font> <font color='red'>di</font> <font color='red'>montalcino</font> from the same vintage this <font color='red'>brunello</font> <font color='red'>opens</font> with soft tones of cherry and chocolate with slightly <font color='red'>offbeat</font> aromas of cookie <font color='red'>dough</font> <font color='red'>or</font> <font color='red'>almond</font> paste the mouthfeel is vibrant and <font color='red'>fresh</font> <br><br> <font color='green'>fans</font> in the cookie of this cookie successful <font color='green'>wine</font> <font color='green'>that</font> <font color='green'>jurançon</font> from the same vintage this <font color='green'>honey</font> <font color='green'>out</font> with soft tones of cherry and chocolate with slightly cookie aromas cookie cookie paste and <font color='green'>zest</font> paste the mouthfeel is vibrant and <font color='green'>bright</font>"
      ],
      "text/plain": [
       "<IPython.core.display.HTML object>"
      ]
     },
     "metadata": {},
     "output_type": "display_data"
    }
   ],
   "source": [
    "idx = 18\n",
    "\n",
    "attack(data[idx]['text'], data[idx]['label'], max_steps=5)"
   ]
  },
  {
   "cell_type": "code",
   "execution_count": 12,
   "metadata": {},
   "outputs": [
    {
     "name": "stdout",
     "output_type": "stream",
     "text": [
      "Initial label: bad wine\n",
      "Initial probability = 0.989\n",
      "New probability = 0.660\n",
      "WER = 6\n",
      "\n"
     ]
    },
    {
     "data": {
      "text/html": [
       "a mix of spice <font color='red'>oak</font> tomato plum and rubbery aromas announce a palate that <font color='red'>blends</font> <font color='red'>plump</font> <font color='red'>ripeness</font> with <font color='red'>pulling</font> tannins dry spicy plum and berry flavors are <font color='red'>steady</font> on the finish <br><br> a mix of spice <font color='green'>long</font> tomato plum and rubbery aromas announce a palate that <font color='green'>includes</font> palate <font color='green'>further</font> with <font color='green'>long</font> tannins dry spicy plum and berry flavors are <font color='green'>long</font> on the finish"
      ],
      "text/plain": [
       "<IPython.core.display.HTML object>"
      ]
     },
     "metadata": {},
     "output_type": "display_data"
    }
   ],
   "source": [
    "idx = 19\n",
    "\n",
    "attack(data[idx]['text'], data[idx]['label'], max_steps=5)"
   ]
  },
  {
   "cell_type": "code",
   "execution_count": 14,
   "metadata": {},
   "outputs": [
    {
     "name": "stdout",
     "output_type": "stream",
     "text": [
      "Initial label: good wine\n",
      "Initial probability = 0.614\n",
      "New probability = 0.069\n",
      "WER = 7\n",
      "\n"
     ]
    },
    {
     "data": {
      "text/html": [
       "this is full of <font color='red'>botrytis</font> <font color='red'>influence</font> yet is it <font color='red'>lighter</font> and <font color='red'>fresher</font> than some other <font color='red'>burgenland</font> sweet wines it leaves a feeling of lemon acidity to go with the honey and <font color='red'>flowerscented</font> finish screwcap <br><br> this is full of <font color='green'>wood</font> <font color='green'>sweetness</font> yet is <font color='green'>dry</font> sweet and <font color='green'>fruitier</font> than some other sweet sweet wines it leaves a feeling of lemon acidity to go with the honey and sweet finish screwcap"
      ],
      "text/plain": [
       "<IPython.core.display.HTML object>"
      ]
     },
     "metadata": {},
     "output_type": "display_data"
    }
   ],
   "source": [
    "idx = 21\n",
    "\n",
    "attack(data[idx]['text'], data[idx]['label'], max_steps=5)"
   ]
  },
  {
   "cell_type": "code",
   "execution_count": 15,
   "metadata": {},
   "outputs": [
    {
     "name": "stdout",
     "output_type": "stream",
     "text": [
      "Initial label: good wine\n",
      "Initial probability = 0.944\n",
      "New probability = 0.625\n",
      "WER = 4\n",
      "\n"
     ]
    },
    {
     "data": {
      "text/html": [
       "jammy and <font color='red'>mineralsmelling</font> at the same time this malbec exhibits an ideal set of plum and berry aromas the palate is full but juicy fresh and alert raspberry currant toast and spice flavors finish elegant and long with no <font color='red'>breakup</font> in the wines <font color='red'>totality</font> drink through <font color='red'>2022</font> <br><br> jammy and <font color='green'>rubbery</font> at the same time this malbec exhibits an ideal set of plum and berry aromas the palate is full but juicy fresh and alert raspberry currant toast and spice flavors finish elegant and long with no <font color='green'>heat</font> in the wines flavors drink through <font color='green'>six</font>"
      ],
      "text/plain": [
       "<IPython.core.display.HTML object>"
      ]
     },
     "metadata": {},
     "output_type": "display_data"
    }
   ],
   "source": [
    "idx = 22\n",
    "\n",
    "attack(data[idx]['text'], data[idx]['label'], max_steps=5)"
   ]
  },
  {
   "cell_type": "code",
   "execution_count": 16,
   "metadata": {},
   "outputs": [
    {
     "name": "stdout",
     "output_type": "stream",
     "text": [
      "Initial label: bad wine\n",
      "Initial probability = 0.859\n",
      "New probability = 0.001\n",
      "WER = 41\n",
      "\n"
     ]
    },
    {
     "data": {
      "text/html": [
       "<font color='red'>the</font> <font color='red'>largest</font> <font color='red'>appellation</font> <font color='red'>in</font> <font color='red'>the</font> <font color='red'>côte</font> <font color='red'>chalonnaise</font> <font color='red'>produces</font> <font color='red'>here</font> <font color='red'>a</font> <font color='red'>foursquare</font> <font color='red'>solid</font> <font color='red'>wine</font> <font color='red'>it</font> <font color='red'>has</font> <font color='red'>red</font> <font color='red'>fruits</font> <font color='red'>although</font> <font color='red'>the</font> structure <font color='red'>is</font> <font color='red'>what</font> <font color='red'>is</font> <font color='red'>dominant</font> <font color='red'>at</font> <font color='red'>this</font> <font color='red'>stage</font> <font color='red'>there</font> <font color='red'>is</font> <font color='red'>a</font> <font color='red'>dry</font> <font color='red'>smoky</font> <font color='red'>meaty</font> <font color='red'>flavor</font> <font color='red'>that</font> <font color='red'>marches</font> <font color='red'>with</font> <font color='red'>the</font> <font color='red'>final</font> <font color='red'>acidity</font> <br><br> <font color='green'>vineyard</font> <font color='green'>tremendous</font> <font color='green'>tremendous</font> <font color='green'>tremendous</font> structure <font color='green'>tremendous</font> structure <font color='green'>tremendous</font> <font color='green'>tremendous</font> <font color='green'>tremendous</font> <font color='green'>tremendous</font> <font color='green'>tremendous</font> <font color='green'>tremendous</font> structure <font color='green'>tremendous</font> <font color='green'>tremendous</font> <font color='green'>tremendous</font> structure <font color='green'>tremendous</font> <font color='green'>tremendous</font> structure structure <font color='green'>tremendous</font> <font color='green'>tremendous</font> <font color='green'>tremendous</font> <font color='green'>tremendous</font> <font color='green'>tremendous</font> <font color='green'>tremendous</font> <font color='green'>tremendous</font> structure <font color='green'>tremendous</font> structure <font color='green'>tremendous</font> <font color='green'>tremendous</font> structure <font color='green'>tremendous</font> <font color='green'>tremendous</font> <font color='green'>tremendous</font> <font color='green'>tremendous</font> <font color='green'>tremendous</font> structure <font color='green'>tremendous</font>"
      ],
      "text/plain": [
       "<IPython.core.display.HTML object>"
      ]
     },
     "metadata": {},
     "output_type": "display_data"
    }
   ],
   "source": [
    "idx = 23\n",
    "\n",
    "attack(data[idx]['text'], data[idx]['label'], max_steps=5)"
   ]
  },
  {
   "cell_type": "code",
   "execution_count": 18,
   "metadata": {},
   "outputs": [
    {
     "name": "stdout",
     "output_type": "stream",
     "text": [
      "Initial label: bad wine\n",
      "Initial probability = 0.859\n",
      "New probability = 0.000\n",
      "WER = 33\n",
      "\n"
     ]
    },
    {
     "data": {
      "text/html": [
       "the <font color='red'>largest</font> <font color='red'>appellation</font> in the <font color='red'>côte</font> <font color='red'>chalonnaise</font> <font color='red'>produces</font> <font color='red'>here</font> <font color='red'>a</font> <font color='red'>foursquare</font> <font color='red'>solid</font> <font color='red'>wine</font> <font color='red'>it</font> <font color='red'>has</font> <font color='red'>red</font> <font color='red'>fruits</font> <font color='red'>although</font> the <font color='red'>structure</font> is <font color='red'>what</font> is <font color='red'>dominant</font> at this <font color='red'>stage</font> <font color='red'>there</font> is <font color='red'>a</font> <font color='red'>dry</font> <font color='red'>smoky</font> <font color='red'>meaty</font> <font color='red'>flavor</font> <font color='red'>that</font> <font color='red'>marches</font> <font color='red'>with</font> the <font color='red'>final</font> <font color='red'>acidity</font> <br><br> <font color='green'>morgans</font> <font color='green'>heidi</font> <font color='green'>bottlings</font> in <font color='green'>bottlings</font> <font color='green'>chardonnays</font> <font color='green'>rosa</font> <font color='green'>crus</font> <font color='green'>consultant</font> <font color='green'>another</font> <font color='green'>stunning</font> <font color='green'>gorgeous</font> <font color='green'>crus</font> <font color='green'>who</font> <font color='green'>best</font> <font color='green'>orchard</font> <font color='green'>heidi</font> <font color='green'>winemaker</font> the <font color='green'>cru</font> is <font color='green'>chardonnays</font> is <font color='green'>stellar</font> at this <font color='green'>2017</font> <font color='green'>mesnil</font> is <font color='green'>an</font> <font color='green'>singlevineyard</font> <font color='green'>stunning</font> <font color='green'>winemaker</font> <font color='green'>sonnenuhr</font> <font color='green'>v</font> <font color='green'>best</font> <font color='green'>v</font> <font color='green'>gorgeous</font> <font color='green'>petaluma</font> <font color='green'>gorgeous</font>"
      ],
      "text/plain": [
       "<IPython.core.display.HTML object>"
      ]
     },
     "metadata": {},
     "output_type": "display_data"
    }
   ],
   "source": [
    "idx = 23\n",
    "\n",
    "attack(data[idx]['text'], data[idx]['label'], max_steps=1)"
   ]
  },
  {
   "cell_type": "code",
   "execution_count": 21,
   "metadata": {},
   "outputs": [],
   "source": [
    "attacker = MaskedCascada(\n",
    "    masked_lm_dir=\"logs/wine_lm/\", \n",
    "    classifier_dir=\"logs/wine_classifier/\",\n",
    "    deep_levenshtein_dir=\"logs/wine_levenshtein/\",\n",
    "    alpha=1.0,\n",
    "    lr=0.1\n",
    ")"
   ]
  },
  {
   "cell_type": "code",
   "execution_count": 23,
   "metadata": {},
   "outputs": [
    {
     "name": "stdout",
     "output_type": "stream",
     "text": [
      "Initial label: bad wine\n",
      "Initial probability = 0.859\n",
      "New probability = 0.552\n",
      "WER = 2\n",
      "\n"
     ]
    },
    {
     "data": {
      "text/html": [
       "the largest appellation in the côte <font color='red'>chalonnaise</font> produces here a foursquare solid wine it has red fruits although the structure is what is dominant at this stage there is a dry smoky meaty flavor that <font color='red'>marches</font> with the final acidity <br><br> the largest appellation in the côte <font color='green'>crus</font> produces here a foursquare solid wine it has red fruits although the structure is what is dominant at this stage there is a dry smoky meaty flavor that <font color='green'>revels</font> with the final acidity"
      ],
      "text/plain": [
       "<IPython.core.display.HTML object>"
      ]
     },
     "metadata": {},
     "output_type": "display_data"
    }
   ],
   "source": [
    "idx = 23\n",
    "\n",
    "attack(data[idx]['text'], data[idx]['label'], max_steps=5)"
   ]
  },
  {
   "cell_type": "code",
   "execution_count": 29,
   "metadata": {},
   "outputs": [
    {
     "name": "stdout",
     "output_type": "stream",
     "text": [
      "Initial label: bad wine\n",
      "Initial probability = 0.986\n",
      "New probability = 0.738\n",
      "WER = 4\n",
      "\n"
     ]
    },
    {
     "data": {
      "text/html": [
       "this lightbodied wine brings enjoyment at a very low price <font color='red'>attractive</font> grapefruit and dried herb aromas followed by citrus and savory flavors make it appetizing and <font color='red'>enjoyable</font> it tastes dry <font color='red'>fairly</font> <font color='red'>crisp</font> and well balanced <br><br> this lightbodied wine brings enjoyment at a very low price <font color='green'>of</font> grapefruit and dried herb aromas followed by citrus and savory flavors make it appetizing and <font color='green'>delicious</font> it tastes dry <font color='green'>midpalate</font> <font color='green'>bright</font> and well balanced"
      ],
      "text/plain": [
       "<IPython.core.display.HTML object>"
      ]
     },
     "metadata": {},
     "output_type": "display_data"
    }
   ],
   "source": [
    "idx = 26\n",
    "\n",
    "attack(data[idx]['text'], data[idx]['label'], max_steps=10)"
   ]
  },
  {
   "cell_type": "code",
   "execution_count": null,
   "metadata": {},
   "outputs": [],
   "source": []
  },
  {
   "cell_type": "code",
   "execution_count": null,
   "metadata": {},
   "outputs": [],
   "source": []
  }
 ],
 "metadata": {
  "kernelspec": {
   "display_name": "Python 3",
   "language": "python",
   "name": "python3"
  },
  "language_info": {
   "codemirror_mode": {
    "name": "ipython",
    "version": 3
   },
   "file_extension": ".py",
   "mimetype": "text/x-python",
   "name": "python",
   "nbconvert_exporter": "python",
   "pygments_lexer": "ipython3",
   "version": "3.6.8"
  }
 },
 "nbformat": 4,
 "nbformat_minor": 2
}
