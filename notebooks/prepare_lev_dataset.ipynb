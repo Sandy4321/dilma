{
 "cells": [
  {
   "cell_type": "code",
   "execution_count": 1,
   "metadata": {},
   "outputs": [],
   "source": [
    "import sys\n",
    "sys.path.append('..')\n",
    "from tqdm import tqdm\n",
    "\n",
    "import pandas as pd\n",
    "import numpy as np\n",
    "\n",
    "from adat.utils import calculate_normalized_wer\n",
    "from adat.masker import get_default_masker"
   ]
  },
  {
   "cell_type": "code",
   "execution_count": 2,
   "metadata": {},
   "outputs": [],
   "source": [
    "train = pd.read_csv('../data/train.csv')\n",
    "test = pd.read_csv('../data/test.csv')"
   ]
  },
  {
   "cell_type": "code",
   "execution_count": 3,
   "metadata": {},
   "outputs": [],
   "source": [
    "data = pd.concat([train, test])"
   ]
  },
  {
   "cell_type": "code",
   "execution_count": 4,
   "metadata": {},
   "outputs": [],
   "source": [
    "masker = get_default_masker()"
   ]
  },
  {
   "cell_type": "code",
   "execution_count": 5,
   "metadata": {},
   "outputs": [],
   "source": [
    "transactions = data.transactions.values"
   ]
  },
  {
   "cell_type": "code",
   "execution_count": 6,
   "metadata": {
    "scrolled": true
   },
   "outputs": [
    {
     "name": "stderr",
     "output_type": "stream",
     "text": [
      "100%|██████████| 200000/200000 [00:04<00:00, 45349.46it/s]\n"
     ]
    }
   ],
   "source": [
    "close_to_zero_examples = []\n",
    "\n",
    "num_close_to_zero = 200000\n",
    "close_to_zero_indexes = np.random.randint(0, len(transactions), size=(num_close_to_zero, 2))\n",
    "\n",
    "for id1, id2 in tqdm(close_to_zero_indexes):\n",
    "    tr1 = transactions[id1]\n",
    "    tr2 = transactions[id2]\n",
    "    wer_sim = 1 - calculate_normalized_wer(tr1, tr2)\n",
    "    close_to_zero_examples.append((tr1, tr2, wer_sim))"
   ]
  },
  {
   "cell_type": "code",
   "execution_count": 20,
   "metadata": {},
   "outputs": [
    {
     "name": "stderr",
     "output_type": "stream",
     "text": [
      "100%|██████████| 1000000/1000000 [06:22<00:00, 2615.32it/s]\n"
     ]
    }
   ],
   "source": [
    "some_examples = []\n",
    "num_some_examples = 1000000\n",
    "some_examples_indexes = np.random.randint(0, len(transactions), size=num_some_examples)\n",
    "\n",
    "for idx in tqdm(some_examples_indexes):\n",
    "    tr1 = transactions[idx]\n",
    "    tr2, applied = masker.mask(tr1)\n",
    "    if applied:\n",
    "        wer_sim = 1 - calculate_normalized_wer(tr1, tr2)\n",
    "        some_examples.append((tr1, tr2, wer_sim))"
   ]
  },
  {
   "cell_type": "code",
   "execution_count": 21,
   "metadata": {},
   "outputs": [
    {
     "data": {
      "text/plain": [
       "499443"
      ]
     },
     "execution_count": 21,
     "metadata": {},
     "output_type": "execute_result"
    }
   ],
   "source": [
    "len(some_examples)"
   ]
  },
  {
   "cell_type": "code",
   "execution_count": 22,
   "metadata": {},
   "outputs": [
    {
     "data": {
      "text/plain": [
       "200000"
      ]
     },
     "execution_count": 22,
     "metadata": {},
     "output_type": "execute_result"
    }
   ],
   "source": [
    "len(close_to_zero_examples)"
   ]
  },
  {
   "cell_type": "code",
   "execution_count": 23,
   "metadata": {},
   "outputs": [],
   "source": [
    "examples = []\n",
    "examples.extend(close_to_zero_examples)\n",
    "examples.extend(some_examples)"
   ]
  },
  {
   "cell_type": "code",
   "execution_count": 24,
   "metadata": {},
   "outputs": [],
   "source": [
    "examples = pd.DataFrame(examples, columns=['seq_a', 'seq_b', 'similarity'])"
   ]
  },
  {
   "cell_type": "code",
   "execution_count": 25,
   "metadata": {},
   "outputs": [
    {
     "data": {
      "text/html": [
       "<div>\n",
       "<style scoped>\n",
       "    .dataframe tbody tr th:only-of-type {\n",
       "        vertical-align: middle;\n",
       "    }\n",
       "\n",
       "    .dataframe tbody tr th {\n",
       "        vertical-align: top;\n",
       "    }\n",
       "\n",
       "    .dataframe thead th {\n",
       "        text-align: right;\n",
       "    }\n",
       "</style>\n",
       "<table border=\"1\" class=\"dataframe\">\n",
       "  <thead>\n",
       "    <tr style=\"text-align: right;\">\n",
       "      <th></th>\n",
       "      <th>seq_a</th>\n",
       "      <th>seq_b</th>\n",
       "      <th>similarity</th>\n",
       "    </tr>\n",
       "  </thead>\n",
       "  <tbody>\n",
       "    <tr>\n",
       "      <th>0</th>\n",
       "      <td>5912_0_0 5912_0_0 5411_1_3 5661_1_3 5977_1_3 5...</td>\n",
       "      <td>5912_0_0 5977_1_0 5411_0_0 5977_0_0 5411_0_0 5...</td>\n",
       "      <td>0.076923</td>\n",
       "    </tr>\n",
       "    <tr>\n",
       "      <th>1</th>\n",
       "      <td>5977_0_0 5814_0_0 5499_0_0 5541_0_0</td>\n",
       "      <td>5411_0_0 5912_0_0 5691_3_0 5912_0_0</td>\n",
       "      <td>0.000000</td>\n",
       "    </tr>\n",
       "    <tr>\n",
       "      <th>2</th>\n",
       "      <td>5541_0_0 5814_0_0 5993_0_0 5541_1_0 7832_3_3 5...</td>\n",
       "      <td>5814_0_0 5411_0_0 8999_4_2 8999_4_2 4121_2_2</td>\n",
       "      <td>0.111111</td>\n",
       "    </tr>\n",
       "    <tr>\n",
       "      <th>3</th>\n",
       "      <td>8999_4_2 7995_4_2 8999_4_2 5411_0_0 4816_4_2 4...</td>\n",
       "      <td>5999_0_0 5977_0_0 5814_0_0</td>\n",
       "      <td>0.000000</td>\n",
       "    </tr>\n",
       "    <tr>\n",
       "      <th>4</th>\n",
       "      <td>5411_0_0 6012_4_2 6012_4_2 6012_1_2 6012_1_2</td>\n",
       "      <td>5816_2_5 5816_2_5 5816_2_5 5816_2_5 5816_2_5 7...</td>\n",
       "      <td>0.000000</td>\n",
       "    </tr>\n",
       "  </tbody>\n",
       "</table>\n",
       "</div>"
      ],
      "text/plain": [
       "                                               seq_a  \\\n",
       "0  5912_0_0 5912_0_0 5411_1_3 5661_1_3 5977_1_3 5...   \n",
       "1                5977_0_0 5814_0_0 5499_0_0 5541_0_0   \n",
       "2  5541_0_0 5814_0_0 5993_0_0 5541_1_0 7832_3_3 5...   \n",
       "3  8999_4_2 7995_4_2 8999_4_2 5411_0_0 4816_4_2 4...   \n",
       "4       5411_0_0 6012_4_2 6012_4_2 6012_1_2 6012_1_2   \n",
       "\n",
       "                                               seq_b  similarity  \n",
       "0  5912_0_0 5977_1_0 5411_0_0 5977_0_0 5411_0_0 5...    0.076923  \n",
       "1                5411_0_0 5912_0_0 5691_3_0 5912_0_0    0.000000  \n",
       "2       5814_0_0 5411_0_0 8999_4_2 8999_4_2 4121_2_2    0.111111  \n",
       "3                         5999_0_0 5977_0_0 5814_0_0    0.000000  \n",
       "4  5816_2_5 5816_2_5 5816_2_5 5816_2_5 5816_2_5 7...    0.000000  "
      ]
     },
     "execution_count": 25,
     "metadata": {},
     "output_type": "execute_result"
    }
   ],
   "source": [
    "examples.head()"
   ]
  },
  {
   "cell_type": "code",
   "execution_count": 26,
   "metadata": {},
   "outputs": [
    {
     "data": {
      "text/plain": [
       "0.75"
      ]
     },
     "execution_count": 26,
     "metadata": {},
     "output_type": "execute_result"
    }
   ],
   "source": [
    "np.median(examples.similarity)"
   ]
  },
  {
   "cell_type": "code",
   "execution_count": 27,
   "metadata": {},
   "outputs": [
    {
     "data": {
      "text/plain": [
       "0.5748349766053704"
      ]
     },
     "execution_count": 27,
     "metadata": {},
     "output_type": "execute_result"
    }
   ],
   "source": [
    "examples.similarity.mean()"
   ]
  },
  {
   "cell_type": "code",
   "execution_count": 28,
   "metadata": {},
   "outputs": [
    {
     "data": {
      "text/plain": [
       "1.0"
      ]
     },
     "execution_count": 28,
     "metadata": {},
     "output_type": "execute_result"
    }
   ],
   "source": [
    "examples.similarity.max()"
   ]
  },
  {
   "cell_type": "code",
   "execution_count": 29,
   "metadata": {},
   "outputs": [
    {
     "data": {
      "text/plain": [
       "0.0"
      ]
     },
     "execution_count": 29,
     "metadata": {},
     "output_type": "execute_result"
    }
   ],
   "source": [
    "examples.similarity.min()"
   ]
  },
  {
   "cell_type": "code",
   "execution_count": 30,
   "metadata": {},
   "outputs": [],
   "source": [
    "examples = examples.sample(frac=1).reset_index(drop=True)"
   ]
  },
  {
   "cell_type": "code",
   "execution_count": 31,
   "metadata": {},
   "outputs": [
    {
     "data": {
      "text/html": [
       "<div>\n",
       "<style scoped>\n",
       "    .dataframe tbody tr th:only-of-type {\n",
       "        vertical-align: middle;\n",
       "    }\n",
       "\n",
       "    .dataframe tbody tr th {\n",
       "        vertical-align: top;\n",
       "    }\n",
       "\n",
       "    .dataframe thead th {\n",
       "        text-align: right;\n",
       "    }\n",
       "</style>\n",
       "<table border=\"1\" class=\"dataframe\">\n",
       "  <thead>\n",
       "    <tr style=\"text-align: right;\">\n",
       "      <th></th>\n",
       "      <th>seq_a</th>\n",
       "      <th>seq_b</th>\n",
       "      <th>similarity</th>\n",
       "    </tr>\n",
       "  </thead>\n",
       "  <tbody>\n",
       "    <tr>\n",
       "      <th>0</th>\n",
       "      <td>7399_2_2 5814_0_0 5499_0_0 5411_0_0 5812_0_0</td>\n",
       "      <td>7399_2_2 5814_0_0 5499_0_0 5411_0_0 5812_0_0 5...</td>\n",
       "      <td>0.714286</td>\n",
       "    </tr>\n",
       "    <tr>\n",
       "      <th>1</th>\n",
       "      <td>7311_4_2 7399_4_2 5499_0_0 5499_0_0 5200_0_0 5...</td>\n",
       "      <td>5691_1_3 5691_1_3 4812_1_3 5691_1_3 5691_1_3 5...</td>\n",
       "      <td>0.071429</td>\n",
       "    </tr>\n",
       "    <tr>\n",
       "      <th>2</th>\n",
       "      <td>5812_3_0 7832_0_0 5411_0_0 5411_3_0 4121_2_2 5...</td>\n",
       "      <td>5812_3_0 7832_0_0 5411_0_0 5411_3_0 4121_2_2 5...</td>\n",
       "      <td>0.818182</td>\n",
       "    </tr>\n",
       "    <tr>\n",
       "      <th>3</th>\n",
       "      <td>4121_2_2 5411_1_0 5977_1_0 4121_2_2</td>\n",
       "      <td>4121_2_2 5411_1_0 5977_1_0 4121_2_2</td>\n",
       "      <td>1.000000</td>\n",
       "    </tr>\n",
       "    <tr>\n",
       "      <th>4</th>\n",
       "      <td>7832_0_0 5812_0_0 5732_0_0 5309_3_3 5411_3_0 5...</td>\n",
       "      <td>7832_0_0 5812_0_0 5732_0_0 5309_3_3 5411_3_0 5...</td>\n",
       "      <td>0.923077</td>\n",
       "    </tr>\n",
       "  </tbody>\n",
       "</table>\n",
       "</div>"
      ],
      "text/plain": [
       "                                               seq_a  \\\n",
       "0       7399_2_2 5814_0_0 5499_0_0 5411_0_0 5812_0_0   \n",
       "1  7311_4_2 7399_4_2 5499_0_0 5499_0_0 5200_0_0 5...   \n",
       "2  5812_3_0 7832_0_0 5411_0_0 5411_3_0 4121_2_2 5...   \n",
       "3                4121_2_2 5411_1_0 5977_1_0 4121_2_2   \n",
       "4  7832_0_0 5812_0_0 5732_0_0 5309_3_3 5411_3_0 5...   \n",
       "\n",
       "                                               seq_b  similarity  \n",
       "0  7399_2_2 5814_0_0 5499_0_0 5411_0_0 5812_0_0 5...    0.714286  \n",
       "1  5691_1_3 5691_1_3 4812_1_3 5691_1_3 5691_1_3 5...    0.071429  \n",
       "2  5812_3_0 7832_0_0 5411_0_0 5411_3_0 4121_2_2 5...    0.818182  \n",
       "3                4121_2_2 5411_1_0 5977_1_0 4121_2_2    1.000000  \n",
       "4  7832_0_0 5812_0_0 5732_0_0 5309_3_3 5411_3_0 5...    0.923077  "
      ]
     },
     "execution_count": 31,
     "metadata": {},
     "output_type": "execute_result"
    }
   ],
   "source": [
    "examples.head()"
   ]
  },
  {
   "cell_type": "code",
   "execution_count": 32,
   "metadata": {},
   "outputs": [
    {
     "data": {
      "text/plain": [
       "(699443, 3)"
      ]
     },
     "execution_count": 32,
     "metadata": {},
     "output_type": "execute_result"
    }
   ],
   "source": [
    "examples.shape"
   ]
  },
  {
   "cell_type": "code",
   "execution_count": 33,
   "metadata": {},
   "outputs": [],
   "source": [
    "! mkdir ../data/deep_lev"
   ]
  },
  {
   "cell_type": "code",
   "execution_count": 34,
   "metadata": {},
   "outputs": [],
   "source": [
    "from sklearn.model_selection import train_test_split"
   ]
  },
  {
   "cell_type": "code",
   "execution_count": 41,
   "metadata": {},
   "outputs": [],
   "source": [
    "tr, te = train_test_split(examples, test_size=0.07, random_state=23)"
   ]
  },
  {
   "cell_type": "code",
   "execution_count": 42,
   "metadata": {},
   "outputs": [
    {
     "data": {
      "text/plain": [
       "((650481, 3), (48962, 3))"
      ]
     },
     "execution_count": 42,
     "metadata": {},
     "output_type": "execute_result"
    }
   ],
   "source": [
    "tr.shape, te.shape"
   ]
  },
  {
   "cell_type": "code",
   "execution_count": 43,
   "metadata": {},
   "outputs": [],
   "source": [
    "# tr.to_csv('../data/deep_lev/train.csv', index=False)\n",
    "# te.to_csv('../data/deep_lev/test.csv', index=False)"
   ]
  },
  {
   "cell_type": "code",
   "execution_count": 58,
   "metadata": {},
   "outputs": [],
   "source": [
    "# tr.to_csv('../data/deep_lev/train.csv', index=False)\n",
    "# te.to_csv('../data/deep_lev/test.csv', index=False)"
   ]
  },
  {
   "cell_type": "code",
   "execution_count": 68,
   "metadata": {},
   "outputs": [
    {
     "data": {
      "text/html": [
       "<div>\n",
       "<style scoped>\n",
       "    .dataframe tbody tr th:only-of-type {\n",
       "        vertical-align: middle;\n",
       "    }\n",
       "\n",
       "    .dataframe tbody tr th {\n",
       "        vertical-align: top;\n",
       "    }\n",
       "\n",
       "    .dataframe thead th {\n",
       "        text-align: right;\n",
       "    }\n",
       "</style>\n",
       "<table border=\"1\" class=\"dataframe\">\n",
       "  <thead>\n",
       "    <tr style=\"text-align: right;\">\n",
       "      <th></th>\n",
       "      <th>seq_a</th>\n",
       "      <th>seq_b</th>\n",
       "      <th>similarity</th>\n",
       "    </tr>\n",
       "  </thead>\n",
       "  <tbody>\n",
       "    <tr>\n",
       "      <th>225835</th>\n",
       "      <td>id_5 id_38 id_476 id_6 id_34 id_39 id_22 id_30...</td>\n",
       "      <td>id_5 id_38 id_476 id_6 id_34 id_844 id_22 id_3...</td>\n",
       "      <td>0.888889</td>\n",
       "    </tr>\n",
       "    <tr>\n",
       "      <th>303042</th>\n",
       "      <td>id_320 id_6 id_6 id_21 id_266 id_256 id_79 id_...</td>\n",
       "      <td>id_320 id_6 id_6 id_21 id_2189 id_256 id_79 id...</td>\n",
       "      <td>0.900000</td>\n",
       "    </tr>\n",
       "    <tr>\n",
       "      <th>1070359</th>\n",
       "      <td>id_3 id_3 id_1 id_4 id_3</td>\n",
       "      <td>id_3 id_3 id_1 id_4 id_5376 id_3</td>\n",
       "      <td>0.833333</td>\n",
       "    </tr>\n",
       "    <tr>\n",
       "      <th>879393</th>\n",
       "      <td>id_1243 id_703 id_7 id_68 id_221 id_453 id_429...</td>\n",
       "      <td>id_1243 id_703 id_7 id_68 id_221 id_453 id_429...</td>\n",
       "      <td>0.823529</td>\n",
       "    </tr>\n",
       "    <tr>\n",
       "      <th>231085</th>\n",
       "      <td>id_22 id_21 id_35 id_22 id_21 id_4 id_38 id_18...</td>\n",
       "      <td>id_22 id_21 id_35 id_22 id_21 id_4 id_38 id_18...</td>\n",
       "      <td>0.750000</td>\n",
       "    </tr>\n",
       "    <tr>\n",
       "      <th>...</th>\n",
       "      <td>...</td>\n",
       "      <td>...</td>\n",
       "      <td>...</td>\n",
       "    </tr>\n",
       "    <tr>\n",
       "      <th>623359</th>\n",
       "      <td>id_80 id_10 id_10 id_106 id_109 id_67 id_109 i...</td>\n",
       "      <td>id_80 id_2554 id_10 id_106 id_109 id_67 id_109...</td>\n",
       "      <td>0.933333</td>\n",
       "    </tr>\n",
       "    <tr>\n",
       "      <th>887151</th>\n",
       "      <td>id_22 id_8 id_9 id_23 id_287 id_15 id_9 id_14 ...</td>\n",
       "      <td>id_2027 id_8 id_9 id_23 id_1729 id_1876 id_9 i...</td>\n",
       "      <td>0.600000</td>\n",
       "    </tr>\n",
       "    <tr>\n",
       "      <th>1077476</th>\n",
       "      <td>id_10 id_10 id_8 id_109 id_9 id_8 id_10</td>\n",
       "      <td>id_10 id_5341 id_5341 id_10 id_10 id_8 id_2774...</td>\n",
       "      <td>0.636364</td>\n",
       "    </tr>\n",
       "    <tr>\n",
       "      <th>1038475</th>\n",
       "      <td>id_3 id_4 id_4 id_4 id_4</td>\n",
       "      <td>id_3 id_2804 id_4 id_4 id_4</td>\n",
       "      <td>0.800000</td>\n",
       "    </tr>\n",
       "    <tr>\n",
       "      <th>683891</th>\n",
       "      <td>id_9 id_12 id_4 id_2 id_2 id_32 id_1407 id_8 i...</td>\n",
       "      <td>id_9 id_12 id_4 id_2 id_2 id_3138 id_32 id_210...</td>\n",
       "      <td>0.882353</td>\n",
       "    </tr>\n",
       "  </tbody>\n",
       "</table>\n",
       "<p>65000 rows × 3 columns</p>\n",
       "</div>"
      ],
      "text/plain": [
       "                                                     seq_a  \\\n",
       "225835   id_5 id_38 id_476 id_6 id_34 id_39 id_22 id_30...   \n",
       "303042   id_320 id_6 id_6 id_21 id_266 id_256 id_79 id_...   \n",
       "1070359                           id_3 id_3 id_1 id_4 id_3   \n",
       "879393   id_1243 id_703 id_7 id_68 id_221 id_453 id_429...   \n",
       "231085   id_22 id_21 id_35 id_22 id_21 id_4 id_38 id_18...   \n",
       "...                                                    ...   \n",
       "623359   id_80 id_10 id_10 id_106 id_109 id_67 id_109 i...   \n",
       "887151   id_22 id_8 id_9 id_23 id_287 id_15 id_9 id_14 ...   \n",
       "1077476            id_10 id_10 id_8 id_109 id_9 id_8 id_10   \n",
       "1038475                           id_3 id_4 id_4 id_4 id_4   \n",
       "683891   id_9 id_12 id_4 id_2 id_2 id_32 id_1407 id_8 i...   \n",
       "\n",
       "                                                     seq_b  similarity  \n",
       "225835   id_5 id_38 id_476 id_6 id_34 id_844 id_22 id_3...    0.888889  \n",
       "303042   id_320 id_6 id_6 id_21 id_2189 id_256 id_79 id...    0.900000  \n",
       "1070359                   id_3 id_3 id_1 id_4 id_5376 id_3    0.833333  \n",
       "879393   id_1243 id_703 id_7 id_68 id_221 id_453 id_429...    0.823529  \n",
       "231085   id_22 id_21 id_35 id_22 id_21 id_4 id_38 id_18...    0.750000  \n",
       "...                                                    ...         ...  \n",
       "623359   id_80 id_2554 id_10 id_106 id_109 id_67 id_109...    0.933333  \n",
       "887151   id_2027 id_8 id_9 id_23 id_1729 id_1876 id_9 i...    0.600000  \n",
       "1077476  id_10 id_5341 id_5341 id_10 id_10 id_8 id_2774...    0.636364  \n",
       "1038475                        id_3 id_2804 id_4 id_4 id_4    0.800000  \n",
       "683891   id_9 id_12 id_4 id_2 id_2 id_3138 id_32 id_210...    0.882353  \n",
       "\n",
       "[65000 rows x 3 columns]"
      ]
     },
     "execution_count": 68,
     "metadata": {},
     "output_type": "execute_result"
    }
   ],
   "source": [
    "te"
   ]
  },
  {
   "cell_type": "code",
   "execution_count": null,
   "metadata": {},
   "outputs": [],
   "source": []
  },
  {
   "cell_type": "code",
   "execution_count": null,
   "metadata": {},
   "outputs": [],
   "source": []
  },
  {
   "cell_type": "code",
   "execution_count": null,
   "metadata": {},
   "outputs": [],
   "source": []
  }
 ],
 "metadata": {
  "kernelspec": {
   "display_name": "Python 3",
   "language": "python",
   "name": "python3"
  },
  "language_info": {
   "codemirror_mode": {
    "name": "ipython",
    "version": 3
   },
   "file_extension": ".py",
   "mimetype": "text/x-python",
   "name": "python",
   "nbconvert_exporter": "python",
   "pygments_lexer": "ipython3",
   "version": "3.6.8"
  }
 },
 "nbformat": 4,
 "nbformat_minor": 2
}
