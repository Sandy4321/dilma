{
 "cells": [
  {
   "cell_type": "code",
   "execution_count": 3,
   "metadata": {},
   "outputs": [],
   "source": [
    "import sys\n",
    "sys.path.append('..')\n",
    "from tqdm import tqdm\n",
    "\n",
    "import pandas as pd\n",
    "import numpy as np\n",
    "\n",
    "from adat.utils import calculate_normalized_wer\n",
    "from adat.masker import get_default_masker"
   ]
  },
  {
   "cell_type": "raw",
   "metadata": {},
   "source": [
    "train = pd.read_csv('../data/ai_academy_data_mini/train.csv')\n",
    "test = pd.read_csv('../data/ai_academy_data_mini/test.csv')"
   ]
  },
  {
   "cell_type": "code",
   "execution_count": 4,
   "metadata": {},
   "outputs": [],
   "source": [
    "train = pd.read_csv('../data/ag_news_mini/train.csv')\n",
    "test = pd.read_csv('../data/ag_news_mini/test.csv')"
   ]
  },
  {
   "cell_type": "code",
   "execution_count": 5,
   "metadata": {},
   "outputs": [],
   "source": [
    "data = pd.concat([train, test])"
   ]
  },
  {
   "cell_type": "code",
   "execution_count": 6,
   "metadata": {},
   "outputs": [],
   "source": [
    "masker = get_default_masker()"
   ]
  },
  {
   "cell_type": "code",
   "execution_count": 7,
   "metadata": {},
   "outputs": [
    {
     "data": {
      "text/plain": [
       "Index(['sequences', 'labels'], dtype='object')"
      ]
     },
     "execution_count": 7,
     "metadata": {},
     "output_type": "execute_result"
    }
   ],
   "source": [
    "data.columns"
   ]
  },
  {
   "cell_type": "code",
   "execution_count": 8,
   "metadata": {},
   "outputs": [],
   "source": [
    "transactions = data.sequences.values"
   ]
  },
  {
   "cell_type": "code",
   "execution_count": 9,
   "metadata": {
    "scrolled": true
   },
   "outputs": [
    {
     "name": "stderr",
     "output_type": "stream",
     "text": [
      "100%|██████████| 20000/20000 [00:00<00:00, 63599.74it/s]\n"
     ]
    }
   ],
   "source": [
    "close_to_zero_examples = []\n",
    "\n",
    "num_close_to_zero = 20000\n",
    "close_to_zero_indexes = np.random.randint(0, len(transactions), size=(num_close_to_zero, 2))\n",
    "\n",
    "for id1, id2 in tqdm(close_to_zero_indexes):\n",
    "    tr1 = transactions[id1]\n",
    "    tr2 = transactions[id2]\n",
    "    wer_sim = 1 - calculate_normalized_wer(tr1, tr2)\n",
    "    close_to_zero_examples.append((tr1, tr2, wer_sim))"
   ]
  },
  {
   "cell_type": "code",
   "execution_count": 10,
   "metadata": {},
   "outputs": [
    {
     "name": "stderr",
     "output_type": "stream",
     "text": [
      "100%|██████████| 100000/100000 [01:11<00:00, 1398.25it/s]\n"
     ]
    }
   ],
   "source": [
    "some_examples = []\n",
    "num_some_examples = 100000\n",
    "some_examples_indexes = np.random.randint(0, len(transactions), size=num_some_examples)\n",
    "\n",
    "for idx in tqdm(some_examples_indexes):\n",
    "    tr1 = transactions[idx]\n",
    "    tr2, applied = masker.mask(tr1)\n",
    "    if applied:\n",
    "        wer_sim = 1 - calculate_normalized_wer(tr1, tr2)\n",
    "        some_examples.append((tr1, tr2, wer_sim))"
   ]
  },
  {
   "cell_type": "code",
   "execution_count": 9,
   "metadata": {},
   "outputs": [
    {
     "data": {
      "text/plain": [
       "52903"
      ]
     },
     "execution_count": 9,
     "metadata": {},
     "output_type": "execute_result"
    }
   ],
   "source": [
    "len(some_examples)"
   ]
  },
  {
   "cell_type": "code",
   "execution_count": 10,
   "metadata": {},
   "outputs": [
    {
     "data": {
      "text/plain": [
       "20000"
      ]
     },
     "execution_count": 10,
     "metadata": {},
     "output_type": "execute_result"
    }
   ],
   "source": [
    "len(close_to_zero_examples)"
   ]
  },
  {
   "cell_type": "code",
   "execution_count": 11,
   "metadata": {},
   "outputs": [],
   "source": [
    "examples = []\n",
    "examples.extend(close_to_zero_examples)\n",
    "examples.extend(some_examples)"
   ]
  },
  {
   "cell_type": "code",
   "execution_count": 12,
   "metadata": {},
   "outputs": [],
   "source": [
    "examples = pd.DataFrame(examples, columns=['seq_a', 'seq_b', 'similarity'])"
   ]
  },
  {
   "cell_type": "code",
   "execution_count": 13,
   "metadata": {},
   "outputs": [
    {
     "data": {
      "text/html": [
       "<div>\n",
       "<style scoped>\n",
       "    .dataframe tbody tr th:only-of-type {\n",
       "        vertical-align: middle;\n",
       "    }\n",
       "\n",
       "    .dataframe tbody tr th {\n",
       "        vertical-align: top;\n",
       "    }\n",
       "\n",
       "    .dataframe thead th {\n",
       "        text-align: right;\n",
       "    }\n",
       "</style>\n",
       "<table border=\"1\" class=\"dataframe\">\n",
       "  <thead>\n",
       "    <tr style=\"text-align: right;\">\n",
       "      <th></th>\n",
       "      <th>seq_a</th>\n",
       "      <th>seq_b</th>\n",
       "      <th>similarity</th>\n",
       "    </tr>\n",
       "  </thead>\n",
       "  <tbody>\n",
       "    <tr>\n",
       "      <th>0</th>\n",
       "      <td>bin3_trans3 bin2_trans12 bin2_trans82 bin2_tra...</td>\n",
       "      <td>bin4_trans34 bin3_trans64 bin3_trans4 bin0_tra...</td>\n",
       "      <td>0.000000</td>\n",
       "    </tr>\n",
       "    <tr>\n",
       "      <th>1</th>\n",
       "      <td>bin0_trans34 bin0_trans36 bin4_trans1 bin1_tra...</td>\n",
       "      <td>bin1_trans3 bin2_trans1 bin2_trans4 bin3_trans...</td>\n",
       "      <td>0.066667</td>\n",
       "    </tr>\n",
       "    <tr>\n",
       "      <th>2</th>\n",
       "      <td>bin4_trans1 bin3_trans1 bin3_trans3 bin4_trans...</td>\n",
       "      <td>bin4_trans3 bin2_trans1 bin3_trans11 bin4_tran...</td>\n",
       "      <td>0.000000</td>\n",
       "    </tr>\n",
       "    <tr>\n",
       "      <th>3</th>\n",
       "      <td>bin0_trans4 bin3_trans1 bin0_trans20 bin4_tran...</td>\n",
       "      <td>bin2_trans9 bin4_trans2 bin4_trans9 bin4_trans...</td>\n",
       "      <td>0.142857</td>\n",
       "    </tr>\n",
       "    <tr>\n",
       "      <th>4</th>\n",
       "      <td>bin1_trans15 bin3_trans1 bin0_trans61 bin0_tra...</td>\n",
       "      <td>bin4_trans1 bin0_trans1 bin3_trans50 bin1_tran...</td>\n",
       "      <td>0.000000</td>\n",
       "    </tr>\n",
       "  </tbody>\n",
       "</table>\n",
       "</div>"
      ],
      "text/plain": [
       "                                               seq_a  \\\n",
       "0  bin3_trans3 bin2_trans12 bin2_trans82 bin2_tra...   \n",
       "1  bin0_trans34 bin0_trans36 bin4_trans1 bin1_tra...   \n",
       "2  bin4_trans1 bin3_trans1 bin3_trans3 bin4_trans...   \n",
       "3  bin0_trans4 bin3_trans1 bin0_trans20 bin4_tran...   \n",
       "4  bin1_trans15 bin3_trans1 bin0_trans61 bin0_tra...   \n",
       "\n",
       "                                               seq_b  similarity  \n",
       "0  bin4_trans34 bin3_trans64 bin3_trans4 bin0_tra...    0.000000  \n",
       "1  bin1_trans3 bin2_trans1 bin2_trans4 bin3_trans...    0.066667  \n",
       "2  bin4_trans3 bin2_trans1 bin3_trans11 bin4_tran...    0.000000  \n",
       "3  bin2_trans9 bin4_trans2 bin4_trans9 bin4_trans...    0.142857  \n",
       "4  bin4_trans1 bin0_trans1 bin3_trans50 bin1_tran...    0.000000  "
      ]
     },
     "execution_count": 13,
     "metadata": {},
     "output_type": "execute_result"
    }
   ],
   "source": [
    "examples.head()"
   ]
  },
  {
   "cell_type": "code",
   "execution_count": 14,
   "metadata": {},
   "outputs": [
    {
     "data": {
      "text/plain": [
       "0.7692307692307692"
      ]
     },
     "execution_count": 14,
     "metadata": {},
     "output_type": "execute_result"
    }
   ],
   "source": [
    "np.median(examples.similarity)"
   ]
  },
  {
   "cell_type": "code",
   "execution_count": 15,
   "metadata": {},
   "outputs": [
    {
     "data": {
      "text/plain": [
       "0.5967572830005643"
      ]
     },
     "execution_count": 15,
     "metadata": {},
     "output_type": "execute_result"
    }
   ],
   "source": [
    "examples.similarity.mean()"
   ]
  },
  {
   "cell_type": "code",
   "execution_count": 16,
   "metadata": {},
   "outputs": [
    {
     "data": {
      "text/plain": [
       "1.0"
      ]
     },
     "execution_count": 16,
     "metadata": {},
     "output_type": "execute_result"
    }
   ],
   "source": [
    "examples.similarity.max()"
   ]
  },
  {
   "cell_type": "code",
   "execution_count": 17,
   "metadata": {},
   "outputs": [
    {
     "data": {
      "text/plain": [
       "0.0"
      ]
     },
     "execution_count": 17,
     "metadata": {},
     "output_type": "execute_result"
    }
   ],
   "source": [
    "examples.similarity.min()"
   ]
  },
  {
   "cell_type": "code",
   "execution_count": 18,
   "metadata": {},
   "outputs": [],
   "source": [
    "examples = examples.sample(frac=1).reset_index(drop=True)"
   ]
  },
  {
   "cell_type": "code",
   "execution_count": 19,
   "metadata": {},
   "outputs": [
    {
     "data": {
      "text/html": [
       "<div>\n",
       "<style scoped>\n",
       "    .dataframe tbody tr th:only-of-type {\n",
       "        vertical-align: middle;\n",
       "    }\n",
       "\n",
       "    .dataframe tbody tr th {\n",
       "        vertical-align: top;\n",
       "    }\n",
       "\n",
       "    .dataframe thead th {\n",
       "        text-align: right;\n",
       "    }\n",
       "</style>\n",
       "<table border=\"1\" class=\"dataframe\">\n",
       "  <thead>\n",
       "    <tr style=\"text-align: right;\">\n",
       "      <th></th>\n",
       "      <th>seq_a</th>\n",
       "      <th>seq_b</th>\n",
       "      <th>similarity</th>\n",
       "    </tr>\n",
       "  </thead>\n",
       "  <tbody>\n",
       "    <tr>\n",
       "      <th>0</th>\n",
       "      <td>bin1_trans1 bin0_trans1 bin0_trans1 bin0_trans...</td>\n",
       "      <td>bin1_trans1 bin1_trans1 bin0_trans1 bin0_trans...</td>\n",
       "      <td>0.625000</td>\n",
       "    </tr>\n",
       "    <tr>\n",
       "      <th>1</th>\n",
       "      <td>bin3_trans1 bin4_trans9 bin4_trans1 bin4_trans...</td>\n",
       "      <td>bin3_trans1 bin4_trans9 bin4_trans9 bin4_trans...</td>\n",
       "      <td>0.785714</td>\n",
       "    </tr>\n",
       "    <tr>\n",
       "      <th>2</th>\n",
       "      <td>bin0_trans3 bin0_trans1 bin0_trans9 bin3_trans...</td>\n",
       "      <td>bin2_trans3 bin1_trans29 bin1_trans1 bin2_tran...</td>\n",
       "      <td>0.083333</td>\n",
       "    </tr>\n",
       "    <tr>\n",
       "      <th>3</th>\n",
       "      <td>bin3_trans4 bin3_trans3 bin3_trans36 bin4_tran...</td>\n",
       "      <td>bin3_trans4 bin3_trans3 bin3_trans36 bin4_tran...</td>\n",
       "      <td>0.888889</td>\n",
       "    </tr>\n",
       "    <tr>\n",
       "      <th>4</th>\n",
       "      <td>bin0_trans20 bin0_trans3 bin1_trans18 bin0_tra...</td>\n",
       "      <td>bin0_trans47 bin0_trans20 bin0_trans3 bin1_tra...</td>\n",
       "      <td>0.812500</td>\n",
       "    </tr>\n",
       "  </tbody>\n",
       "</table>\n",
       "</div>"
      ],
      "text/plain": [
       "                                               seq_a  \\\n",
       "0  bin1_trans1 bin0_trans1 bin0_trans1 bin0_trans...   \n",
       "1  bin3_trans1 bin4_trans9 bin4_trans1 bin4_trans...   \n",
       "2  bin0_trans3 bin0_trans1 bin0_trans9 bin3_trans...   \n",
       "3  bin3_trans4 bin3_trans3 bin3_trans36 bin4_tran...   \n",
       "4  bin0_trans20 bin0_trans3 bin1_trans18 bin0_tra...   \n",
       "\n",
       "                                               seq_b  similarity  \n",
       "0  bin1_trans1 bin1_trans1 bin0_trans1 bin0_trans...    0.625000  \n",
       "1  bin3_trans1 bin4_trans9 bin4_trans9 bin4_trans...    0.785714  \n",
       "2  bin2_trans3 bin1_trans29 bin1_trans1 bin2_tran...    0.083333  \n",
       "3  bin3_trans4 bin3_trans3 bin3_trans36 bin4_tran...    0.888889  \n",
       "4  bin0_trans47 bin0_trans20 bin0_trans3 bin1_tra...    0.812500  "
      ]
     },
     "execution_count": 19,
     "metadata": {},
     "output_type": "execute_result"
    }
   ],
   "source": [
    "examples.head()"
   ]
  },
  {
   "cell_type": "code",
   "execution_count": 20,
   "metadata": {},
   "outputs": [
    {
     "data": {
      "text/plain": [
       "(72903, 3)"
      ]
     },
     "execution_count": 20,
     "metadata": {},
     "output_type": "execute_result"
    }
   ],
   "source": [
    "examples.shape"
   ]
  },
  {
   "cell_type": "code",
   "execution_count": 21,
   "metadata": {},
   "outputs": [],
   "source": [
    "from sklearn.model_selection import train_test_split"
   ]
  },
  {
   "cell_type": "code",
   "execution_count": 22,
   "metadata": {},
   "outputs": [],
   "source": [
    "tr, te = train_test_split(examples, test_size=0.07, random_state=23)"
   ]
  },
  {
   "cell_type": "code",
   "execution_count": 23,
   "metadata": {},
   "outputs": [
    {
     "data": {
      "text/plain": [
       "((67799, 3), (5104, 3))"
      ]
     },
     "execution_count": 23,
     "metadata": {},
     "output_type": "execute_result"
    }
   ],
   "source": [
    "tr.shape, te.shape"
   ]
  },
  {
   "cell_type": "code",
   "execution_count": 24,
   "metadata": {},
   "outputs": [],
   "source": [
    "tr.to_csv('../data/ai_academy_data_mini/levenshtein/train.csv', index=False)\n",
    "te.to_csv('../data/ai_academy_data_mini/levenshtein/test.csv', index=False)"
   ]
  },
  {
   "cell_type": "code",
   "execution_count": 29,
   "metadata": {},
   "outputs": [],
   "source": [
    "# tr.to_csv('../data/deep_lev/train.csv', index=False)\n",
    "# te.to_csv('../data/deep_lev/test.csv', index=False)"
   ]
  },
  {
   "cell_type": "code",
   "execution_count": 30,
   "metadata": {},
   "outputs": [
    {
     "data": {
      "text/html": [
       "<div>\n",
       "<style scoped>\n",
       "    .dataframe tbody tr th:only-of-type {\n",
       "        vertical-align: middle;\n",
       "    }\n",
       "\n",
       "    .dataframe tbody tr th {\n",
       "        vertical-align: top;\n",
       "    }\n",
       "\n",
       "    .dataframe thead th {\n",
       "        text-align: right;\n",
       "    }\n",
       "</style>\n",
       "<table border=\"1\" class=\"dataframe\">\n",
       "  <thead>\n",
       "    <tr style=\"text-align: right;\">\n",
       "      <th></th>\n",
       "      <th>seq_a</th>\n",
       "      <th>seq_b</th>\n",
       "      <th>similarity</th>\n",
       "    </tr>\n",
       "  </thead>\n",
       "  <tbody>\n",
       "    <tr>\n",
       "      <th>119458</th>\n",
       "      <td>bin2_trans1 bin2_trans1 bin1_trans1 bin3_trans...</td>\n",
       "      <td>bin2_trans1 bin2_trans1 bin3_trans3 bin3_trans3</td>\n",
       "      <td>0.800000</td>\n",
       "    </tr>\n",
       "    <tr>\n",
       "      <th>181328</th>\n",
       "      <td>bin1_trans20 bin3_trans24 bin3_trans1 bin3_tra...</td>\n",
       "      <td>bin1_trans20 bin3_trans24 bin3_trans1 bin3_tra...</td>\n",
       "      <td>0.857143</td>\n",
       "    </tr>\n",
       "    <tr>\n",
       "      <th>229909</th>\n",
       "      <td>bin3_trans3 bin3_trans1 bin3_trans3 bin1_trans...</td>\n",
       "      <td>bin2_trans42 bin0_trans31 bin1_trans25 bin3_tr...</td>\n",
       "      <td>0.000000</td>\n",
       "    </tr>\n",
       "    <tr>\n",
       "      <th>176646</th>\n",
       "      <td>bin4_trans1 bin1_trans1 bin4_trans34 bin3_tran...</td>\n",
       "      <td>bin3_trans1 bin1_trans1 bin4_trans34 bin4_tran...</td>\n",
       "      <td>0.666667</td>\n",
       "    </tr>\n",
       "    <tr>\n",
       "      <th>676003</th>\n",
       "      <td>bin1_trans4 bin4_trans0 bin3_trans15 bin4_tran...</td>\n",
       "      <td>bin3_trans3 bin4_trans1 bin1_trans11 bin4_tran...</td>\n",
       "      <td>0.111111</td>\n",
       "    </tr>\n",
       "    <tr>\n",
       "      <th>...</th>\n",
       "      <td>...</td>\n",
       "      <td>...</td>\n",
       "      <td>...</td>\n",
       "    </tr>\n",
       "    <tr>\n",
       "      <th>298405</th>\n",
       "      <td>bin1_trans3 bin3_trans1 bin0_trans18 bin2_tran...</td>\n",
       "      <td>bin2_trans1 bin3_trans1 bin0_trans18 bin1_tran...</td>\n",
       "      <td>0.750000</td>\n",
       "    </tr>\n",
       "    <tr>\n",
       "      <th>449464</th>\n",
       "      <td>bin3_trans1 bin2_trans15 bin1_trans1 bin1_tran...</td>\n",
       "      <td>bin3_trans1 bin2_trans15 bin1_trans1 bin1_tran...</td>\n",
       "      <td>0.857143</td>\n",
       "    </tr>\n",
       "    <tr>\n",
       "      <th>3076</th>\n",
       "      <td>bin1_trans1 bin1_trans1 bin2_trans11 bin2_tran...</td>\n",
       "      <td>bin1_trans1 bin1_trans1 bin2_trans11 bin2_tran...</td>\n",
       "      <td>0.875000</td>\n",
       "    </tr>\n",
       "    <tr>\n",
       "      <th>484385</th>\n",
       "      <td>bin3_trans1 bin2_trans1 bin4_trans1 bin2_trans...</td>\n",
       "      <td>bin3_trans1 bin2_trans1 bin2_trans18 bin4_tran...</td>\n",
       "      <td>0.857143</td>\n",
       "    </tr>\n",
       "    <tr>\n",
       "      <th>46332</th>\n",
       "      <td>bin3_trans1 bin2_trans9 bin4_trans31 bin3_tran...</td>\n",
       "      <td>bin3_trans49 bin2_trans9 bin4_trans31 bin2_tra...</td>\n",
       "      <td>0.818182</td>\n",
       "    </tr>\n",
       "  </tbody>\n",
       "</table>\n",
       "<p>51026 rows × 3 columns</p>\n",
       "</div>"
      ],
      "text/plain": [
       "                                                    seq_a  \\\n",
       "119458  bin2_trans1 bin2_trans1 bin1_trans1 bin3_trans...   \n",
       "181328  bin1_trans20 bin3_trans24 bin3_trans1 bin3_tra...   \n",
       "229909  bin3_trans3 bin3_trans1 bin3_trans3 bin1_trans...   \n",
       "176646  bin4_trans1 bin1_trans1 bin4_trans34 bin3_tran...   \n",
       "676003  bin1_trans4 bin4_trans0 bin3_trans15 bin4_tran...   \n",
       "...                                                   ...   \n",
       "298405  bin1_trans3 bin3_trans1 bin0_trans18 bin2_tran...   \n",
       "449464  bin3_trans1 bin2_trans15 bin1_trans1 bin1_tran...   \n",
       "3076    bin1_trans1 bin1_trans1 bin2_trans11 bin2_tran...   \n",
       "484385  bin3_trans1 bin2_trans1 bin4_trans1 bin2_trans...   \n",
       "46332   bin3_trans1 bin2_trans9 bin4_trans31 bin3_tran...   \n",
       "\n",
       "                                                    seq_b  similarity  \n",
       "119458    bin2_trans1 bin2_trans1 bin3_trans3 bin3_trans3    0.800000  \n",
       "181328  bin1_trans20 bin3_trans24 bin3_trans1 bin3_tra...    0.857143  \n",
       "229909  bin2_trans42 bin0_trans31 bin1_trans25 bin3_tr...    0.000000  \n",
       "176646  bin3_trans1 bin1_trans1 bin4_trans34 bin4_tran...    0.666667  \n",
       "676003  bin3_trans3 bin4_trans1 bin1_trans11 bin4_tran...    0.111111  \n",
       "...                                                   ...         ...  \n",
       "298405  bin2_trans1 bin3_trans1 bin0_trans18 bin1_tran...    0.750000  \n",
       "449464  bin3_trans1 bin2_trans15 bin1_trans1 bin1_tran...    0.857143  \n",
       "3076    bin1_trans1 bin1_trans1 bin2_trans11 bin2_tran...    0.875000  \n",
       "484385  bin3_trans1 bin2_trans1 bin2_trans18 bin4_tran...    0.857143  \n",
       "46332   bin3_trans49 bin2_trans9 bin4_trans31 bin2_tra...    0.818182  \n",
       "\n",
       "[51026 rows x 3 columns]"
      ]
     },
     "execution_count": 30,
     "metadata": {},
     "output_type": "execute_result"
    }
   ],
   "source": [
    "te"
   ]
  },
  {
   "cell_type": "code",
   "execution_count": null,
   "metadata": {},
   "outputs": [],
   "source": []
  },
  {
   "cell_type": "code",
   "execution_count": null,
   "metadata": {},
   "outputs": [],
   "source": []
  },
  {
   "cell_type": "code",
   "execution_count": null,
   "metadata": {},
   "outputs": [],
   "source": []
  }
 ],
 "metadata": {
  "kernelspec": {
   "display_name": "Python 3",
   "language": "python",
   "name": "python3"
  },
  "language_info": {
   "codemirror_mode": {
    "name": "ipython",
    "version": 3
   },
   "file_extension": ".py",
   "mimetype": "text/x-python",
   "name": "python",
   "nbconvert_exporter": "python",
   "pygments_lexer": "ipython3",
   "version": "3.6.1"
  }
 },
 "nbformat": 4,
 "nbformat_minor": 2
}
