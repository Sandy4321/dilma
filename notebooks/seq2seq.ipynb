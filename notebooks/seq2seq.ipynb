{
 "cells": [
  {
   "cell_type": "code",
   "execution_count": 1,
   "metadata": {},
   "outputs": [],
   "source": [
    "from allennlp.models.encoder_decoders.composed_seq2seq import ComposedSeq2Seq\n",
    "from typing import Dict, Tuple\n",
    "\n",
    "from allennlp.models.encoder_decoders.simple_seq2seq import SimpleSeq2Seq\n",
    " \n",
    "import torch\n",
    "import torch.nn as nn\n",
    "\n",
    "from allennlp.modules.text_field_embedders import TextFieldEmbedder, BasicTextFieldEmbedder\n",
    "from allennlp.modules.attention.additive_attention import AdditiveAttention\n",
    "from allennlp.modules.seq2seq_encoders import Seq2SeqEncoder, PytorchSeq2SeqWrapper\n",
    "from allennlp.data.vocabulary import Vocabulary\n",
    "from allennlp.modules.text_field_embedders import TextFieldEmbedder, BasicTextFieldEmbedder\n",
    "from allennlp.modules.token_embedders import Embedding\n",
    "\n",
    "\n",
    "from typing import Dict\n",
    "import csv\n",
    "\n",
    "from allennlp.common.file_utils import cached_path\n",
    "from allennlp.data.dataset_readers.dataset_reader import DatasetReader\n",
    "from allennlp.data.fields import LabelField, TextField, Field, MetadataField\n",
    "from allennlp.data.instance import Instance\n",
    "from allennlp.data.token_indexers import TokenIndexer, SingleIdTokenIndexer\n",
    "from allennlp.data.tokenizers.token import Token\n",
    "from allennlp.data.tokenizers.character_tokenizer import CharacterTokenizer\n",
    "from allennlp.data.tokenizers import Tokenizer\n",
    "from allennlp.data.iterators import BucketIterator, BasicIterator\n",
    "\n",
    "from allennlp.models.encoder_decoders.simple_seq2seq import SimpleSeq2Seq\n",
    "\n",
    "import torch\n",
    "import torch.nn as nn\n",
    "\n",
    "from allennlp.modules.text_field_embedders import TextFieldEmbedder, BasicTextFieldEmbedder\n",
    "from allennlp.modules.attention.additive_attention import AdditiveAttention\n",
    "from allennlp.modules.seq2seq_encoders import Seq2SeqEncoder, PytorchSeq2SeqWrapper\n",
    "from allennlp.data.vocabulary import Vocabulary\n",
    "from allennlp.modules.text_field_embedders import TextFieldEmbedder, BasicTextFieldEmbedder\n",
    "from allennlp.modules.token_embedders import Embedding\n",
    "from allennlp.training.trainer import Trainer\n",
    "from allennlp.common.util import END_SYMBOL, START_SYMBOL\n",
    "\n",
    "import sys\n",
    "sys.path.append('..')\n",
    "from adat.models import get_basic_seq2seq_model\n",
    "from adat.dataset import OneLangSeq2SeqReader\n",
    "from adat.masker import SimpleMasker, MASK_TOKEN"
   ]
  },
  {
   "cell_type": "code",
   "execution_count": 2,
   "metadata": {},
   "outputs": [],
   "source": [
    "train_path = '../../texar/examples/text_style_transfer/data/insurance_cropped/insurance.train.text'\n",
    "test_path = '../../texar/examples/text_style_transfer/data/insurance_cropped/insurance.test.text'\n"
   ]
  },
  {
   "cell_type": "code",
   "execution_count": 3,
   "metadata": {},
   "outputs": [],
   "source": [
    "masker = SimpleMasker(p=0.15)"
   ]
  },
  {
   "cell_type": "code",
   "execution_count": 4,
   "metadata": {},
   "outputs": [],
   "source": [
    "reader = OneLangSeq2SeqReader(masker=masker)"
   ]
  },
  {
   "cell_type": "code",
   "execution_count": 5,
   "metadata": {},
   "outputs": [
    {
     "name": "stderr",
     "output_type": "stream",
     "text": [
      "266051it [00:27, 9780.69it/s] \n",
      "57012it [00:06, 8732.01it/s] \n"
     ]
    }
   ],
   "source": [
    "train_dataset = reader.read(train_path)\n",
    "test_dataset = reader.read(test_path)"
   ]
  },
  {
   "cell_type": "code",
   "execution_count": 6,
   "metadata": {},
   "outputs": [
    {
     "name": "stderr",
     "output_type": "stream",
     "text": [
      "100%|██████████| 323063/323063 [00:09<00:00, 34790.96it/s]\n"
     ]
    }
   ],
   "source": [
    "# TODO: should skip everything but `target_tokens`\n",
    "vocab = Vocabulary.from_instances(train_dataset + test_dataset)\n",
    "# vocab = Vocabulary.from_files('vocab_seq2seq/')"
   ]
  },
  {
   "cell_type": "code",
   "execution_count": 7,
   "metadata": {},
   "outputs": [],
   "source": [
    "iterator = BasicIterator(batch_size=256)\n",
    "iterator.index_with(vocab)"
   ]
  },
  {
   "cell_type": "code",
   "execution_count": 8,
   "metadata": {},
   "outputs": [],
   "source": [
    "# next(iter(iterator(test_dataset)))"
   ]
  },
  {
   "cell_type": "code",
   "execution_count": 9,
   "metadata": {},
   "outputs": [],
   "source": [
    "model = get_basic_seq2seq_model(vocab)"
   ]
  },
  {
   "cell_type": "code",
   "execution_count": 10,
   "metadata": {},
   "outputs": [
    {
     "data": {
      "text/plain": [
       "OneLanguageSeq2SeqModel(\n",
       "  (_source_embedder): BasicTextFieldEmbedder(\n",
       "    (token_embedder_tokens): Embedding()\n",
       "  )\n",
       "  (_encoder): PytorchSeq2SeqWrapper(\n",
       "    (_module): LSTM(64, 32, batch_first=True)\n",
       "  )\n",
       "  (_attention): AdditiveAttention()\n",
       "  (_target_embedder): Embedding()\n",
       "  (_decoder_cell): LSTMCell(96, 32)\n",
       "  (_output_projection_layer): Linear(in_features=32, out_features=2150, bias=True)\n",
       ")"
      ]
     },
     "execution_count": 10,
     "metadata": {},
     "output_type": "execute_result"
    }
   ],
   "source": [
    "model.cuda(2)"
   ]
  },
  {
   "cell_type": "code",
   "execution_count": 11,
   "metadata": {},
   "outputs": [],
   "source": [
    "optimizer = torch.optim.Adam(model.parameters(), lr=0.001)"
   ]
  },
  {
   "cell_type": "code",
   "execution_count": 12,
   "metadata": {},
   "outputs": [],
   "source": [
    "trainer = Trainer(\n",
    "    model=model,\n",
    "    optimizer=optimizer,\n",
    "    iterator=iterator,\n",
    "    train_dataset=train_dataset,\n",
    "    validation_dataset=test_dataset,\n",
    "    patience=2,\n",
    "    num_epochs=10,\n",
    "    cuda_device=2\n",
    ")"
   ]
  },
  {
   "cell_type": "code",
   "execution_count": 13,
   "metadata": {},
   "outputs": [
    {
     "name": "stderr",
     "output_type": "stream",
     "text": [
      "loss: 4.4433 ||: 100%|██████████| 1040/1040 [02:31<00:00,  6.88it/s]\n",
      "BLEU: 0.0000, loss: 3.9384 ||: 100%|██████████| 223/223 [03:14<00:00,  1.14it/s]\n",
      "loss: 3.6067 ||: 100%|██████████| 1040/1040 [02:22<00:00,  7.29it/s]\n",
      "BLEU: 0.0028, loss: 3.2103 ||: 100%|██████████| 223/223 [03:13<00:00,  1.16it/s]\n",
      "loss: 2.8946 ||: 100%|██████████| 1040/1040 [02:34<00:00,  6.75it/s]\n",
      "BLEU: 0.0081, loss: 2.6639 ||: 100%|██████████| 223/223 [03:22<00:00,  1.10it/s]\n",
      "loss: 2.4333 ||: 100%|██████████| 1040/1040 [02:27<00:00,  7.07it/s]\n",
      "BLEU: 0.0305, loss: 2.2101 ||: 100%|██████████| 223/223 [03:11<00:00,  1.17it/s]\n",
      "loss: 1.9399 ||: 100%|██████████| 1040/1040 [02:12<00:00,  7.87it/s]\n",
      "BLEU: 0.1295, loss: 1.6812 ||: 100%|██████████| 223/223 [03:12<00:00,  1.16it/s]\n",
      "loss: 1.3989 ||: 100%|██████████| 1040/1040 [02:24<00:00,  7.18it/s]\n",
      "BLEU: 0.3410, loss: 1.1655 ||: 100%|██████████| 223/223 [03:15<00:00,  1.14it/s]\n",
      "loss: 0.9979 ||: 100%|██████████| 1040/1040 [02:11<00:00,  7.93it/s]\n",
      "BLEU: 0.5126, loss: 0.8679 ||: 100%|██████████| 223/223 [03:14<00:00,  1.15it/s]\n",
      "loss: 0.7790 ||: 100%|██████████| 1040/1040 [02:11<00:00,  7.90it/s]\n",
      "BLEU: 0.5900, loss: 0.7262 ||: 100%|██████████| 223/223 [03:13<00:00,  1.15it/s]\n",
      "loss: 0.6651 ||: 100%|██████████| 1040/1040 [02:10<00:00,  7.98it/s]\n",
      "BLEU: 0.6359, loss: 0.6281 ||: 100%|██████████| 223/223 [03:13<00:00,  1.15it/s]\n",
      "loss: 0.6004 ||: 100%|██████████| 1040/1040 [02:31<00:00,  6.85it/s]\n",
      "BLEU: 0.6547, loss: 0.5748 ||: 100%|██████████| 223/223 [03:13<00:00,  1.15it/s]\n"
     ]
    }
   ],
   "source": [
    "results = trainer.train()"
   ]
  },
  {
   "cell_type": "code",
   "execution_count": 16,
   "metadata": {},
   "outputs": [
    {
     "name": "stderr",
     "output_type": "stream",
     "text": [
      "loss: 0.5557 ||: 100%|██████████| 1040/1040 [02:34<00:00,  6.74it/s]\n",
      "BLEU: 0.6660, loss: 0.5429 ||: 100%|██████████| 223/223 [03:14<00:00,  1.14it/s]\n",
      "loss: 0.5427 ||: 100%|██████████| 1040/1040 [02:19<00:00,  7.48it/s]\n",
      "BLEU: 0.6694, loss: 0.5251 ||: 100%|██████████| 223/223 [03:13<00:00,  1.15it/s]\n",
      "loss: 0.5223 ||: 100%|██████████| 1040/1040 [02:14<00:00,  7.71it/s]\n",
      "BLEU: 0.6776, loss: 0.5083 ||: 100%|██████████| 223/223 [03:16<00:00,  1.13it/s]\n",
      "loss: 0.4908 ||: 100%|██████████| 1040/1040 [02:22<00:00,  7.32it/s]\n",
      "BLEU: 0.6818, loss: 0.4960 ||: 100%|██████████| 223/223 [03:12<00:00,  1.16it/s]\n",
      "loss: 0.4816 ||: 100%|██████████| 1040/1040 [02:32<00:00,  6.82it/s]\n",
      "BLEU: 0.6854, loss: 0.4860 ||: 100%|██████████| 223/223 [03:14<00:00,  1.15it/s]\n",
      "loss: 0.4838 ||: 100%|██████████| 1040/1040 [02:35<00:00,  6.69it/s]\n",
      "BLEU: 0.6888, loss: 0.4745 ||: 100%|██████████| 223/223 [03:13<00:00,  1.15it/s]\n",
      "loss: 0.4682 ||: 100%|██████████| 1040/1040 [02:33<00:00,  6.78it/s]\n",
      "BLEU: 0.6899, loss: 0.4678 ||: 100%|██████████| 223/223 [03:14<00:00,  1.14it/s]\n",
      "loss: 0.4566 ||: 100%|██████████| 1040/1040 [02:37<00:00,  6.62it/s]\n",
      "BLEU: 0.6910, loss: 0.4632 ||: 100%|██████████| 223/223 [03:14<00:00,  1.15it/s]\n",
      "loss: 0.4520 ||: 100%|██████████| 1040/1040 [02:20<00:00,  7.38it/s]\n",
      "BLEU: 0.6924, loss: 0.4602 ||: 100%|██████████| 223/223 [03:13<00:00,  1.15it/s]\n",
      "loss: 0.4526 ||: 100%|██████████| 1040/1040 [02:16<00:00,  7.64it/s]\n",
      "BLEU: 0.6934, loss: 0.4546 ||: 100%|██████████| 223/223 [03:14<00:00,  1.15it/s]\n"
     ]
    }
   ],
   "source": [
    "results2 = trainer.train()"
   ]
  },
  {
   "cell_type": "code",
   "execution_count": 17,
   "metadata": {},
   "outputs": [
    {
     "name": "stderr",
     "output_type": "stream",
     "text": [
      "WARNING:root:vocabulary serialization directory vocab_seq2seq_masked is not empty\n"
     ]
    }
   ],
   "source": [
    "with open(\"model_seq2seq_masked.th\", 'wb') as f:\n",
    "    torch.save(model.state_dict(), f)\n",
    "\n",
    "vocab.save_to_files(\"vocab_seq2seq_masked\")"
   ]
  },
  {
   "cell_type": "markdown",
   "metadata": {},
   "source": [
    "# Predictions"
   ]
  },
  {
   "cell_type": "code",
   "execution_count": 1,
   "metadata": {},
   "outputs": [],
   "source": [
    "import sys\n",
    "sys.path.append('..')\n",
    "\n",
    "from allennlp.predictors import Seq2SeqPredictor, TextClassifierPredictor\n",
    "from adat.utils import load_weights\n",
    "from adat.models import get_basic_classification_model, get_basic_seq2seq_model\n",
    "from allennlp.data.vocabulary import Vocabulary\n",
    "from adat.masker import SimpleMasker, MASK_TOKEN\n",
    "\n",
    "from adat.dataset import InsuranceReader, OneLangSeq2SeqReader"
   ]
  },
  {
   "cell_type": "code",
   "execution_count": 2,
   "metadata": {},
   "outputs": [],
   "source": [
    "masker = SimpleMasker(p=0.15)"
   ]
  },
  {
   "cell_type": "code",
   "execution_count": 3,
   "metadata": {},
   "outputs": [],
   "source": [
    "seq2seq_reader = OneLangSeq2SeqReader(masker=masker)\n",
    "seq2seq_vocab = Vocabulary.from_files('vocab_seq2seq_masked')\n",
    "seq2seq_model = get_basic_seq2seq_model(seq2seq_vocab)\n",
    "load_weights(seq2seq_model, 'model_seq2seq_masked.th')"
   ]
  },
  {
   "cell_type": "code",
   "execution_count": 4,
   "metadata": {},
   "outputs": [],
   "source": [
    "class_reader = InsuranceReader()\n",
    "class_vocab = Vocabulary.from_files('vocab_classification')\n",
    "class_model = get_basic_classification_model(class_vocab)\n",
    "load_weights(class_model, 'model_classification.th')"
   ]
  },
  {
   "cell_type": "code",
   "execution_count": 5,
   "metadata": {},
   "outputs": [],
   "source": [
    "seq2seq_predictor = Seq2SeqPredictor(seq2seq_model, seq2seq_reader)\n",
    "class_predictor = TextClassifierPredictor(class_model, class_reader)"
   ]
  },
  {
   "cell_type": "code",
   "execution_count": 6,
   "metadata": {},
   "outputs": [],
   "source": [
    "# ! tail {test_path} -n 30"
   ]
  },
  {
   "cell_type": "code",
   "execution_count": 7,
   "metadata": {},
   "outputs": [],
   "source": [
    "sequences = \"\"\"a_1213 a_877 a_1129\n",
    "a_338 a_885 a_1\n",
    "a_1858 a_2001 a_1860 a_1852\n",
    "a_1686 a_1 a_2030 a_1737 a_1978 a_710\n",
    "a_1639 a_1640\n",
    "a_362 a_1979 a_1737 a_1191 a_1667 a_1656 a_1\n",
    "a_1 a_583 a_552 a_552 a_1978 a_598\n",
    "a_1656 a_1 a_646 a_663\n",
    "a_338\n",
    "a_77 a_1 a_1884 a_83 a_57 a_93 a_78 a_79 a_61 a_68 a_58\n",
    "a_1978 a_1 a_1191 a_1257\n",
    "a_1640\n",
    "a_1 a_760 a_775 a_759 a_611 a_545\n",
    "a_1978 a_789 a_778 a_771 a_797 a_793 a_762 a_765 a_769 a_796 a_791 a_786 a_2030 a_770 a_783 a_764 a_781 a_545 a_767 a_759\n",
    "a_1191 a_710 a_1 a_1978\n",
    "a_2113 a_87 a_58 a_83 a_1884 a_93 a_57 a_86 a_91 a_2111 a_1\n",
    "a_817\n",
    "a_1257 a_545 a_1138 a_1158 a_1930 a_639 a_2001 a_1111 a_1191 a_645 a_1286 a_1978 a_1937 a_1149 a_1\n",
    "a_876 a_1166 a_776\n",
    "a_800 a_1267 a_802\n",
    "a_1 a_93 a_58 a_1884 a_68 a_57 a_61\n",
    "a_604 a_785 a_786 a_876 a_794 a_775 a_338 a_781 a_579 a_777 a_778 a_793 a_765 a_1979 a_791 a_759 a_574 a_2001 a_545 a_719\n",
    "a_876 a_845 a_999\n",
    "a_727 a_645 a_1656 a_2001 a_791 a_621 a_809 a_545 a_794 a_1938 a_793 a_1 a_759\n",
    "a_1 a_1978\n",
    "a_2030 a_694 a_321 a_314 a_1 a_35 a_319 a_325 a_2052 a_1647 a_2001 a_318\n",
    "a_876 a_1129\n",
    "a_1785 a_645 a_723 a_1780\n",
    "a_1657 a_1978 a_2190\n",
    "a_1\"\"\".split('\\n')"
   ]
  },
  {
   "cell_type": "code",
   "execution_count": 8,
   "metadata": {},
   "outputs": [],
   "source": [
    "def predict_sequence(sequence: str, seq_to_seq_predictor: Seq2SeqPredictor = seq2seq_predictor) -> str:\n",
    "    return ' '.join(seq_to_seq_predictor.predict(sequence)['predicted_tokens'])"
   ]
  },
  {
   "cell_type": "code",
   "execution_count": 9,
   "metadata": {
    "scrolled": false
   },
   "outputs": [
    {
     "name": "stdout",
     "output_type": "stream",
     "text": [
      "Input = a_1213 a_877 a_1129\n",
      "Output = a_1213 a_877 a_1129\n",
      "\n",
      "Input = a_338 a_885 a_1\n",
      "Output = a_338 a_885 a_1\n",
      "\n",
      "Input = a_1858 a_2001 a_1860 a_1852\n",
      "Output = a_1858 a_2001 a_1860 a_1852\n",
      "\n",
      "Input = a_1686 a_1 a_2030 a_1737 a_1978 a_710\n",
      "Output = a_2030 a_1 a_2030 a_1737 a_1978 a_710\n",
      "\n",
      "Input = a_1639 a_1640\n",
      "Output = a_1639 a_1640\n",
      "\n",
      "Input = a_362 a_1979 a_1737 a_1191 a_1667 a_1656 a_1\n",
      "Output = a_362 a_1979 a_1737 a_1191 a_1667 a_1978 a_1\n",
      "\n",
      "Input = a_1 a_583 a_552 a_552 a_1978 a_598\n",
      "Output = a_1 a_583 a_552 a_552 a_1978 a_598\n",
      "\n",
      "Input = a_1656 a_1 a_646 a_663\n",
      "Output = a_1656 a_1 a_646 a_2030\n",
      "\n",
      "Input = a_338\n",
      "Output = a_338\n",
      "\n",
      "Input = a_77 a_1 a_1884 a_83 a_57 a_93 a_78 a_79 a_61 a_68 a_58\n",
      "Output = a_77 a_1 a_1884 a_83 a_57 a_93 a_78 a_79 a_59 a_68 a_58\n",
      "\n",
      "Input = a_1978 a_1 a_1191 a_1257\n",
      "Output = a_1978 a_1 a_2002 a_1257\n",
      "\n",
      "Input = a_1640\n",
      "Output = a_1640\n",
      "\n",
      "Input = a_1 a_760 a_775 a_759 a_611 a_545\n",
      "Output = a_1 a_545 a_775 a_759 a_611 a_545\n",
      "\n",
      "Input = a_1978 a_789 a_778 a_771 a_797 a_793 a_762 a_765 a_769 a_796 a_791 a_786 a_2030 a_770 a_783 a_764 a_781 a_545 a_767 a_759\n",
      "Output = a_1978 a_789 a_778 a_759 a_797 a_793 a_762 a_765 a_769 a_796 a_791 a_786 a_2030 a_770 a_783 a_781 a_781 a_545 a_767 a_759\n",
      "\n",
      "Input = a_1191 a_710 a_1 a_1978\n",
      "Output = a_1191 a_710 a_1 a_1978\n",
      "\n",
      "Input = a_2113 a_87 a_58 a_83 a_1884 a_93 a_57 a_86 a_91 a_2111 a_1\n",
      "Output = a_2113 a_87 a_58 a_83 a_1884 a_93 a_57 a_86 a_91 a_2111 a_1\n",
      "\n",
      "Input = a_817\n",
      "Output = a_817\n",
      "\n",
      "Input = a_1257 a_545 a_1138 a_1158 a_1930 a_639 a_2001 a_1111 a_1191 a_645 a_1286 a_1978 a_1937 a_1149 a_1\n",
      "Output = a_1257 a_545 a_1138 a_1158 a_1930 a_1158 a_2001 a_1111 a_1191 a_645 a_1286 a_1191 a_1937 a_1149 a_1\n",
      "\n",
      "Input = a_876 a_1166 a_776\n",
      "Output = a_876 a_1166 a_1129\n",
      "\n",
      "Input = a_800 a_1267 a_802\n",
      "Output = a_1020 a_1267 a_876\n",
      "\n",
      "Input = a_1 a_93 a_58 a_1884 a_68 a_57 a_61\n",
      "Output = a_1 a_93 a_58 a_1884 a_68 a_57 a_61\n",
      "\n",
      "Input = a_604 a_785 a_786 a_876 a_794 a_775 a_338 a_781 a_579 a_777 a_778 a_793 a_765 a_1979 a_791 a_759 a_574 a_2001 a_545 a_719\n",
      "Output = a_604 a_785 a_786 a_876 a_794 a_775 a_338 a_1 a_579 a_777 a_778 a_793 a_765 a_1979 a_791 a_759 a_574 a_2001 a_545 a_719\n",
      "\n",
      "Input = a_876 a_845 a_999\n",
      "Output = a_876 a_1129 a_999\n",
      "\n",
      "Input = a_727 a_645 a_1656 a_2001 a_791 a_621 a_809 a_545 a_794 a_1938 a_793 a_1 a_759\n",
      "Output = a_727 a_645 a_1656 a_2001 a_2001 a_1 a_545 a_545 a_794 a_1938 a_793 a_1 a_759\n",
      "\n",
      "Input = a_1 a_1978\n",
      "Output = a_1 a_1978\n",
      "\n",
      "Input = a_2030 a_694 a_321 a_314 a_1 a_35 a_319 a_325 a_2052 a_1647 a_2001 a_318\n",
      "Output = a_35 a_694 a_321 a_314 a_1 a_35 a_319 a_325 a_2052 a_1647 a_2001 a_318\n",
      "\n",
      "Input = a_876 a_1129\n",
      "Output = a_876 a_1129\n",
      "\n",
      "Input = a_1785 a_645 a_723 a_1780\n",
      "Output = a_1785 a_645 a_723 a_1780\n",
      "\n",
      "Input = a_1657 a_1978 a_2190\n",
      "Output = a_1657 a_1978 a_2190\n",
      "\n",
      "Input = a_1\n",
      "Output = a_1\n",
      "\n"
     ]
    }
   ],
   "source": [
    "for seq in sequences:\n",
    "    predicted_seq = predict_sequence(seq)\n",
    "    print(f'Input = {seq}\\nOutput = {predicted_seq}\\n')"
   ]
  },
  {
   "cell_type": "code",
   "execution_count": 10,
   "metadata": {
    "scrolled": false
   },
   "outputs": [
    {
     "name": "stdout",
     "output_type": "stream",
     "text": [
      "Input = a_338 a_885 a_1\n",
      "Masked = @MASK@ a_885 a_1\n",
      "Output = a_1 a_1 a_1\n",
      "\n",
      "Input = a_1858 a_2001 a_1860 a_1852\n",
      "Masked = @MASK@ a_2001 a_1860 a_1852\n",
      "Output = a_1860 a_2001 a_1860 a_1852\n",
      "\n",
      "Input = a_1686 a_1 a_2030 a_1737 a_1978 a_710\n",
      "Masked = a_1686 a_1 a_2030 a_1737 a_1978 @MASK@\n",
      "Output = a_1686 a_1 a_2030 a_1737 a_1978 a_2030\n",
      "\n",
      "Input = a_362 a_1979 a_1737 a_1191 a_1667 a_1656 a_1\n",
      "Masked = a_362 a_1979 a_1737 @MASK@ a_1667 @MASK@ @MASK@\n",
      "Output = a_362 a_1979 a_1 a_1 a_1667 a_1 a_1\n",
      "\n",
      "Input = a_1 a_583 a_552 a_552 a_1978 a_598\n",
      "Masked = a_1 a_583 a_552 a_552 @MASK@ a_598\n",
      "Output = a_1 a_583 a_552 a_552 a_1978 a_1978\n",
      "\n",
      "Input = a_1656 a_1 a_646 a_663\n",
      "Masked = @MASK@ a_1 a_646 a_663\n",
      "Output = a_1656 a_1 a_1656 a_663\n",
      "\n",
      "Input = a_1978 a_1 a_1191 a_1257\n",
      "Masked = a_1978 @MASK@ @MASK@ a_1257\n",
      "Output = a_1978 a_1 a_1 a_1257\n",
      "\n",
      "Input = a_1 a_760 a_775 a_759 a_611 a_545\n",
      "Masked = a_1 a_760 a_775 @MASK@ a_611 a_545\n",
      "Output = a_545 a_760 a_775 a_759 a_611 a_545\n",
      "\n",
      "Input = a_1978 a_789 a_778 a_771 a_797 a_793 a_762 a_765 a_769 a_796 a_791 a_786 a_2030 a_770 a_783 a_764 a_781 a_545 a_767 a_759\n",
      "Masked = a_1978 a_789 a_778 a_771 a_797 @MASK@ @MASK@ a_765 a_769 a_796 a_791 a_786 a_2030 a_770 @MASK@ a_764 a_781 a_545 a_767 @MASK@\n",
      "Output = a_765 a_789 a_778 a_771 a_797 a_1 a_1 a_765 a_769 a_796 a_1 a_786 a_2030 a_770 a_1 a_764 a_781 a_545 a_767 a_759\n",
      "\n",
      "Input = a_2113 a_87 a_58 a_83 a_1884 a_93 a_57 a_86 a_91 a_2111 a_1\n",
      "Masked = @MASK@ a_87 a_58 a_83 @MASK@ a_93 a_57 a_86 a_91 a_2111 a_1\n",
      "Output = a_57 a_87 a_58 a_83 a_57 a_1 a_57 a_86 a_91 a_2111 a_1\n",
      "\n",
      "Input = a_1257 a_545 a_1138 a_1158 a_1930 a_639 a_2001 a_1111 a_1191 a_645 a_1286 a_1978 a_1937 a_1149 a_1\n",
      "Masked = a_1257 @MASK@ a_1138 a_1158 @MASK@ a_639 a_2001 a_1111 a_1191 a_645 a_1286 a_1978 a_1937 a_1149 a_1\n",
      "Output = a_1257 a_1191 a_1191 a_1158 a_1191 a_639 a_2001 a_1111 a_1191 a_1286 a_1286 a_1978 a_1149 a_1149 a_1\n",
      "\n",
      "Input = a_800 a_1267 a_802\n",
      "Masked = a_800 a_1267 @MASK@\n",
      "Output = a_1020 a_1267 a_876\n",
      "\n",
      "Input = a_1 a_93 a_58 a_1884 a_68 a_57 a_61\n",
      "Masked = a_1 a_93 @MASK@ a_1884 @MASK@ a_57 a_61\n",
      "Output = a_93 a_93 a_57 a_1884 a_57 a_57 a_61\n",
      "\n",
      "Input = a_604 a_785 a_786 a_876 a_794 a_775 a_338 a_781 a_579 a_777 a_778 a_793 a_765 a_1979 a_791 a_759 a_574 a_2001 a_545 a_719\n",
      "Masked = @MASK@ a_785 a_786 a_876 a_794 a_775 @MASK@ a_781 a_579 a_777 a_778 @MASK@ a_765 a_1979 a_791 a_759 a_574 a_2001 @MASK@ a_719\n",
      "Output = a_759 a_785 a_786 a_793 a_794 a_775 a_809 a_781 a_579 a_777 a_778 a_765 a_765 a_1979 a_791 a_1 a_574 a_2001 a_764 a_719\n",
      "\n",
      "Input = a_727 a_645 a_1656 a_2001 a_791 a_621 a_809 a_545 a_794 a_1938 a_793 a_1 a_759\n",
      "Masked = @MASK@ a_645 a_1656 a_2001 a_791 a_621 a_809 a_545 a_794 a_1938 a_793 a_1 a_759\n",
      "Output = a_545 a_645 a_1656 a_2001 a_791 a_621 a_545 a_545 a_759 a_1938 a_793 a_759 a_759\n",
      "\n",
      "Input = a_2030 a_694 a_321 a_314 a_1 a_35 a_319 a_325 a_2052 a_1647 a_2001 a_318\n",
      "Masked = a_2030 a_694 a_321 a_314 a_1 a_35 @MASK@ a_325 a_2052 a_1647 a_2001 a_318\n",
      "Output = a_2030 a_694 a_321 a_314 a_1 a_35 a_1656 a_325 a_2052 a_1647 a_2001 a_318\n",
      "\n"
     ]
    }
   ],
   "source": [
    "for seq in sequences:\n",
    "    masked_seq = masker.mask(seq)\n",
    "    predicted_seq = predict_sequence(masked_seq)\n",
    "    if MASK_TOKEN in masked_seq:\n",
    "        print(f'Input = {seq}\\nMasked = {masked_seq}\\nOutput = {predicted_seq}\\n')"
   ]
  },
  {
   "cell_type": "markdown",
   "metadata": {},
   "source": [
    "# Random pertrubations"
   ]
  },
  {
   "cell_type": "code",
   "execution_count": 11,
   "metadata": {},
   "outputs": [],
   "source": [
    "import torch\n",
    "from allennlp.data.iterators import BasicIterator"
   ]
  },
  {
   "cell_type": "code",
   "execution_count": 12,
   "metadata": {},
   "outputs": [],
   "source": [
    "iterator = BasicIterator(batch_size=1)\n",
    "iterator.index_with(seq2seq_vocab)"
   ]
  },
  {
   "cell_type": "code",
   "execution_count": 13,
   "metadata": {},
   "outputs": [],
   "source": [
    "instances = [seq2seq_reader.text_to_instance(seq) for seq in sequences]"
   ]
  },
  {
   "cell_type": "code",
   "execution_count": 14,
   "metadata": {
    "scrolled": false
   },
   "outputs": [
    {
     "name": "stdout",
     "output_type": "stream",
     "text": [
      "Input          = a_1213 a_877 a_1129\n",
      "Output(TRUE)   = a_1213 a_877 a_1129\n",
      "Output(RANDOM) = a_1213 a_1213 a_1213 a_2031\n",
      "Probability `0.0` ->>> `0.0003`\n",
      "\n",
      "Input          = a_338 a_885 a_1\n",
      "Output(TRUE)   = a_338 a_885 a_1\n",
      "Output(RANDOM) = a_2032 a_1656 a_2031 a_2031\n",
      "Probability `0.0033` ->>> `0.0278`\n",
      "\n",
      "Input          = a_1686 a_1 a_2030 a_1737 a_1978 a_710\n",
      "Output(TRUE)   = a_2030 a_1 a_2030 a_1737 a_1978 a_710\n",
      "Output(RANDOM) = a_340 a_340 a_2030 a_1979 a_340 a_340 a_1849\n",
      "Probability `0.0056` ->>> `0.0547`\n",
      "\n",
      "Input          = a_1639 a_1640\n",
      "Output(TRUE)   = a_1639 a_1640\n",
      "Output(RANDOM) = a_1639 a_1639 a_1104\n",
      "Probability `0.0004` ->>> `0.0085`\n",
      "\n",
      "Input          = a_362 a_1979 a_1737 a_1191 a_1667 a_1656 a_1\n",
      "Output(TRUE)   = a_362 a_1979 a_1737 a_1191 a_1667 a_1656 a_1\n",
      "Output(RANDOM) = a_362 a_1979 a_1979 a_340 a_2033 a_2032 a_340 a_1995 a_2031 a_2032\n",
      "Probability `0.0198` ->>> `0.3236`\n",
      "\n",
      "Input          = a_1 a_583 a_552 a_552 a_1978 a_598\n",
      "Output(TRUE)   = a_1 a_583 a_552 a_1978 a_1978 a_598\n",
      "Output(RANDOM) = a_2033 a_583 a_348 a_340 a_1979 a_2077 a_2077\n",
      "Probability `0.0053` ->>> `0.0412`\n",
      "\n",
      "Input          = a_1656 a_1 a_646 a_663\n",
      "Output(TRUE)   = a_1656 a_1 a_2001 a_663\n",
      "Output(RANDOM) = a_1100 a_2031 a_2033 a_2032 a_1657\n",
      "Probability `0.0056` ->>> `0.0303`\n",
      "\n",
      "Input          = a_338\n",
      "Output(TRUE)   = a_338\n",
      "Output(RANDOM) = a_1717\n",
      "Probability `0.0018` ->>> `0.0507`\n",
      "\n",
      "Input          = a_77 a_1 a_1884 a_83 a_57 a_93 a_78 a_79 a_61 a_68 a_58\n",
      "Output(TRUE)   = a_77 a_1 a_1884 a_83 a_57 a_93 a_78 a_79 a_59 a_68 a_58\n",
      "Output(RANDOM) = a_1848 a_1995 a_391 a_1100 a_93 a_58 a_57 a_68 a_78 a_68 a_1104 a_1626 a_2032 a_1979 a_68 a_68 a_68 a_1626 a_885\n",
      "Probability `0.0107` ->>> `0.0728`\n",
      "\n",
      "Input          = a_1978 a_1 a_1191 a_1257\n",
      "Output(TRUE)   = a_1978 a_1 a_1191 a_1257\n",
      "Output(RANDOM) = a_340 a_2031 a_340 a_1257 a_340\n",
      "Probability `0.0027` ->>> `0.0167`\n",
      "\n",
      "Input          = a_1640\n",
      "Output(TRUE)   = a_1640\n",
      "Output(RANDOM) = a_1639\n",
      "Probability `0.001` ->>> `0.0071`\n",
      "\n",
      "Input          = a_1 a_760 a_775 a_759 a_611 a_545\n",
      "Output(TRUE)   = a_1 a_545 a_775 a_759 a_611 a_545\n",
      "Output(RANDOM) = a_2031 a_2033 a_1003 a_2032 a_1100 a_545 a_545 a_2032\n",
      "Probability `0.0067` ->>> `0.0734`\n",
      "\n",
      "Input          = a_1978 a_789 a_778 a_771 a_797 a_793 a_762 a_765 a_769 a_796 a_791 a_786 a_2030 a_770 a_783 a_764 a_781 a_545 a_767 a_759\n",
      "Output(TRUE)   = a_1978 a_789 a_778 a_771 a_797 a_759 a_762 a_759 a_769 a_791 a_791 a_545 a_2030 a_783 a_783 a_764 a_545 a_545 a_767 a_759\n",
      "Output(RANDOM) = a_1978 a_1136 a_770 a_2032 a_771 a_1979 a_1717 a_2065 a_1146 a_1176 a_737 a_1003 a_1717 a_737 a_340 a_340 a_340 a_885 a_1120 a_1979\n",
      "Probability `0.0013` ->>> `0.0196`\n",
      "\n",
      "Input          = a_1191 a_710 a_1 a_1978\n",
      "Output(TRUE)   = a_2030 a_710 a_1 a_1978\n",
      "Output(RANDOM) = a_2033 a_710 a_2031 a_1978 a_1979\n",
      "Probability `0.0039` ->>> `0.0254`\n",
      "\n",
      "Input          = a_2113 a_87 a_58 a_83 a_1884 a_93 a_57 a_86 a_91 a_2111 a_1\n",
      "Output(TRUE)   = a_2113 a_87 a_58 a_83 a_1884 a_93 a_1 a_86 a_57 a_2111 a_1\n",
      "Output(RANDOM) = a_93 a_1025 a_1543 a_68 a_58 a_1884 a_2032 a_340 a_340 a_2032 a_1657 a_1626 a_2032 a_1100 a_1100 a_1100 a_2071 a_1100 a_2071 a_2032\n",
      "Probability `0.0091` ->>> `0.2634`\n",
      "\n",
      "Input          = a_817\n",
      "Output(TRUE)   = a_817\n",
      "Output(RANDOM) = a_1003\n",
      "Probability `0.0119` ->>> `0.0884`\n",
      "\n",
      "Input          = a_1257 a_545 a_1138 a_1158 a_1930 a_639 a_2001 a_1111 a_1191 a_645 a_1286 a_1978 a_1937 a_1149 a_1\n",
      "Output(TRUE)   = a_1257 a_1191 a_1138 a_1158 a_1930 a_1158 a_2001 a_1111 a_1191 a_645 a_1286 a_1978 a_1937 a_1 a_1\n",
      "Output(RANDOM) = a_1257 a_340 a_1138 a_1931 a_1158 a_1931 a_1884 a_1979 a_2001 a_2001 a_1927 a_1979 a_2063 a_2032 a_1657 a_340 a_2032 a_340 a_347 a_2032\n",
      "Probability `0.0135` ->>> `0.3693`\n",
      "\n",
      "Input          = a_876 a_1166 a_776\n",
      "Output(TRUE)   = a_876 a_1166 a_1129\n",
      "Output(RANDOM) = a_1391 a_1003 a_1176 a_1175\n",
      "Probability `0.0001` ->>> `0.0015`\n",
      "\n",
      "Input          = a_800 a_1267 a_802\n",
      "Output(TRUE)   = a_800 a_802 a_802\n",
      "Output(RANDOM) = a_1488 a_2031 a_802 a_2032\n",
      "Probability `0.0022` ->>> `0.0157`\n",
      "\n",
      "Input          = a_1 a_93 a_58 a_1884 a_68 a_57 a_61\n",
      "Output(TRUE)   = a_93 a_93 a_58 a_1884 a_68 a_1 a_61\n",
      "Output(RANDOM) = a_2063 a_93 a_58 a_68 a_1884 a_2032 a_181 a_1543 a_58 a_2071 a_1626\n",
      "Probability `0.0021` ->>> `0.017`\n",
      "\n",
      "Input          = a_604 a_785 a_786 a_876 a_794 a_775 a_338 a_781 a_579 a_777 a_778 a_793 a_765 a_1979 a_791 a_759 a_574 a_2001 a_545 a_719\n",
      "Output(TRUE)   = a_604 a_785 a_786 a_876 a_794 a_775 a_338 a_781 a_579 a_777 a_778 a_793 a_765 a_1979 a_791 a_759 a_574 a_759 a_545 a_719\n",
      "Output(RANDOM) = a_579 a_785 a_1017 a_216 a_1003 a_794 a_181 a_2032 a_1657 a_2032 a_2033 a_2032 a_1003 a_180 a_778 a_1234 a_2032 a_2031 a_2031 a_545\n",
      "Probability `0.043` ->>> `0.3829`\n",
      "\n",
      "Input          = a_876 a_845 a_999\n",
      "Output(TRUE)   = a_876 a_845 a_759\n",
      "Output(RANDOM) = a_1041 a_845 a_1003 a_1626\n",
      "Probability `0.0009` ->>> `0.0075`\n",
      "\n",
      "Input          = a_727 a_645 a_1656 a_2001 a_791 a_621 a_809 a_545 a_794 a_1938 a_793 a_1 a_759\n",
      "Output(TRUE)   = a_759 a_645 a_1656 a_2001 a_791 a_621 a_809 a_545 a_794 a_1938 a_793 a_1 a_759\n",
      "Output(RANDOM) = a_1100 a_2032 a_340 a_2001 a_2077 a_2032 a_1785 a_1100 a_776 a_778 a_1002 a_545 a_1100 a_1003 a_1931 a_2032 a_545 a_778 a_770 a_1100\n",
      "Probability `0.0057` ->>> `0.347`\n",
      "\n",
      "Input          = a_1 a_1978\n",
      "Output(TRUE)   = a_1 a_1978\n",
      "Output(RANDOM) = a_2031 a_1979 a_340\n",
      "Probability `0.0014` ->>> `0.0213`\n",
      "\n",
      "Input          = a_2030 a_694 a_321 a_314 a_1 a_35 a_319 a_325 a_2052 a_1647 a_2001 a_318\n",
      "Output(TRUE)   = a_2030 a_694 a_1978 a_314 a_1 a_35 a_319 a_325 a_2052 a_1647 a_2001 a_318\n",
      "Output(RANDOM) = a_2030 a_181 a_340 a_1234 a_1488 a_1488 a_1488 a_1488 a_825 a_1488 a_646 a_2032 a_2052 a_646 a_2032 a_347 a_2001 a_2001 a_2071 a_2032\n",
      "Probability `0.0239` ->>> `0.3554`\n",
      "\n",
      "Input          = a_876 a_1129\n",
      "Output(TRUE)   = a_876 a_1129\n",
      "Output(RANDOM) = a_1401 a_1176 a_2031\n",
      "Probability `0.0001` ->>> `0.0003`\n",
      "\n",
      "Input          = a_1785 a_645 a_723 a_1780\n",
      "Output(TRUE)   = a_1785 a_645 a_723 a_1780\n",
      "Output(RANDOM) = a_1785 a_2032 a_2032 a_1013 a_2033\n",
      "Probability `0.0288` ->>> `0.2211`\n",
      "\n",
      "Input          = a_1657 a_1978 a_2190\n",
      "Output(TRUE)   = a_1657 a_1978 a_2190\n",
      "Output(RANDOM) = a_1657 a_1979 a_1657 a_2077\n",
      "Probability `0.0047` ->>> `0.0287`\n",
      "\n",
      "Input          = a_1\n",
      "Output(TRUE)   = a_1\n",
      "Output(RANDOM) = a_2063\n",
      "Probability `0.0058` ->>> `0.134`\n",
      "\n"
     ]
    }
   ],
   "source": [
    "seq2seq_model.training = False\n",
    "num_attempts = 50\n",
    "should_increase_at_rate = 5.0\n",
    "\n",
    "with torch.no_grad():\n",
    "    for i, example in enumerate(iterator(instances, num_epochs=1, shuffle=False)):\n",
    "        \n",
    "        input_seq = sequences[i]\n",
    "        true_output = seq2seq_model.forward(**example, random_perturbations=False)\n",
    "        true_decoded = ' '.join(seq2seq_model.decode(true_output)['predicted_tokens'][0])\n",
    "        \n",
    "        if true_decoded:\n",
    "            true_class_pred = class_predictor.predict(true_decoded)['probs'][1]\n",
    "            class_pred = true_class_pred\n",
    "\n",
    "            count = 0\n",
    "            while class_pred / true_class_pred <= should_increase_at_rate and count <= num_attempts:\n",
    "                count += 1\n",
    "                output = seq2seq_model.forward(**example, random_perturbations=True)\n",
    "                decoded = ' '.join(seq2seq_model.decode(output)['predicted_tokens'][0])\n",
    "                class_pred = class_predictor.predict(decoded)['probs'][1]\n",
    "\n",
    "                if class_pred / true_class_pred >= should_increase_at_rate:\n",
    "                    print(f'Input          = {input_seq}\\nOutput(TRUE)   = {true_decoded}\\nOutput(RANDOM) = {decoded}')\n",
    "                    print(f'Probability `{round(true_class_pred, 4)}` ->>> `{round(class_pred, 4)}`\\n')\n",
    "                    break\n"
   ]
  },
  {
   "cell_type": "code",
   "execution_count": null,
   "metadata": {},
   "outputs": [],
   "source": []
  },
  {
   "cell_type": "code",
   "execution_count": null,
   "metadata": {},
   "outputs": [],
   "source": []
  },
  {
   "cell_type": "markdown",
   "metadata": {},
   "source": [
    "# Gradient test"
   ]
  },
  {
   "cell_type": "code",
   "execution_count": 10,
   "metadata": {},
   "outputs": [],
   "source": [
    "from allennlp.data.iterators import BasicIterator"
   ]
  },
  {
   "cell_type": "code",
   "execution_count": 11,
   "metadata": {},
   "outputs": [],
   "source": [
    "seq2seq_iterator = BasicIterator()\n",
    "seq2seq_iterator.index_with(seq2seq_vocab)"
   ]
  },
  {
   "cell_type": "code",
   "execution_count": 12,
   "metadata": {},
   "outputs": [],
   "source": [
    "class_iterator = BasicIterator()\n",
    "class_iterator.index_with(class_vocab)"
   ]
  },
  {
   "cell_type": "code",
   "execution_count": 13,
   "metadata": {},
   "outputs": [
    {
     "data": {
      "text/plain": [
       "<allennlp.data.instance.Instance at 0x7fc94efab438>"
      ]
     },
     "execution_count": 13,
     "metadata": {},
     "output_type": "execute_result"
    }
   ],
   "source": [
    "seq2seq_reader.text_to_instance('a_1978 a_645')"
   ]
  },
  {
   "cell_type": "code",
   "execution_count": null,
   "metadata": {},
   "outputs": [],
   "source": [
    "seq2seq_model()"
   ]
  },
  {
   "cell_type": "code",
   "execution_count": null,
   "metadata": {},
   "outputs": [],
   "source": []
  },
  {
   "cell_type": "code",
   "execution_count": null,
   "metadata": {},
   "outputs": [],
   "source": []
  },
  {
   "cell_type": "code",
   "execution_count": null,
   "metadata": {},
   "outputs": [],
   "source": []
  },
  {
   "cell_type": "code",
   "execution_count": null,
   "metadata": {},
   "outputs": [],
   "source": []
  },
  {
   "cell_type": "code",
   "execution_count": null,
   "metadata": {},
   "outputs": [],
   "source": []
  }
 ],
 "metadata": {
  "kernelspec": {
   "display_name": "Python 3",
   "language": "python",
   "name": "python3"
  },
  "language_info": {
   "codemirror_mode": {
    "name": "ipython",
    "version": 3
   },
   "file_extension": ".py",
   "mimetype": "text/x-python",
   "name": "python",
   "nbconvert_exporter": "python",
   "pygments_lexer": "ipython3",
   "version": "3.6.8"
  }
 },
 "nbformat": 4,
 "nbformat_minor": 2
}
