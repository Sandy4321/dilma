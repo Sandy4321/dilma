{
 "cells": [
  {
   "cell_type": "code",
   "execution_count": 1,
   "metadata": {},
   "outputs": [],
   "source": [
    "from allennlp.models.encoder_decoders.composed_seq2seq import ComposedSeq2Seq\n",
    "from typing import Dict, Tuple\n",
    "\n",
    "from allennlp.models.encoder_decoders.simple_seq2seq import SimpleSeq2Seq\n",
    " \n",
    "import torch\n",
    "import torch.nn as nn\n",
    "\n",
    "from allennlp.modules.text_field_embedders import TextFieldEmbedder, BasicTextFieldEmbedder\n",
    "from allennlp.modules.attention.additive_attention import AdditiveAttention\n",
    "from allennlp.modules.seq2seq_encoders import Seq2SeqEncoder, PytorchSeq2SeqWrapper\n",
    "from allennlp.data.vocabulary import Vocabulary\n",
    "from allennlp.modules.text_field_embedders import TextFieldEmbedder, BasicTextFieldEmbedder\n",
    "from allennlp.modules.token_embedders import Embedding\n",
    "\n",
    "\n",
    "from typing import Dict\n",
    "import csv\n",
    "\n",
    "from allennlp.common.file_utils import cached_path\n",
    "from allennlp.data.dataset_readers.dataset_reader import DatasetReader\n",
    "from allennlp.data.fields import LabelField, TextField, Field, MetadataField\n",
    "from allennlp.data.instance import Instance\n",
    "from allennlp.data.token_indexers import TokenIndexer, SingleIdTokenIndexer\n",
    "from allennlp.data.tokenizers.token import Token\n",
    "from allennlp.data.tokenizers.character_tokenizer import CharacterTokenizer\n",
    "from allennlp.data.tokenizers import Tokenizer\n",
    "from allennlp.data.iterators import BucketIterator, BasicIterator\n",
    "\n",
    "from allennlp.models.encoder_decoders.simple_seq2seq import SimpleSeq2Seq\n",
    "\n",
    "import torch\n",
    "import torch.nn as nn\n",
    "\n",
    "from allennlp.modules.text_field_embedders import TextFieldEmbedder, BasicTextFieldEmbedder\n",
    "from allennlp.modules.attention.additive_attention import AdditiveAttention\n",
    "from allennlp.modules.seq2seq_encoders import Seq2SeqEncoder, PytorchSeq2SeqWrapper\n",
    "from allennlp.data.vocabulary import Vocabulary\n",
    "from allennlp.modules.text_field_embedders import TextFieldEmbedder, BasicTextFieldEmbedder\n",
    "from allennlp.modules.token_embedders import Embedding\n",
    "from allennlp.training.trainer import Trainer\n",
    "from allennlp.common.util import END_SYMBOL, START_SYMBOL\n",
    "\n",
    "import sys\n",
    "sys.path.append('..')\n",
    "from adat.models import get_basic_seq2seq_model\n",
    "from adat.dataset import OneLangSeq2SeqReader\n",
    "from adat.masker import MASK_TOKEN\n",
    "from adat import masker"
   ]
  },
  {
   "cell_type": "code",
   "execution_count": 2,
   "metadata": {},
   "outputs": [
    {
     "name": "stdout",
     "output_type": "stream",
     "text": [
      "dataset.zip\t\t     train.labels\r\n",
      "small_group_description.csv  train_target.csv\r\n",
      "test.csv\t\t     train.text\r\n",
      "test.labels\t\t     transactions_test.csv\r\n",
      "test.text\t\t     transactions_train.csv\r\n",
      "train_data_transactions.pkl\r\n"
     ]
    }
   ],
   "source": [
    "! ls data"
   ]
  },
  {
   "cell_type": "code",
   "execution_count": 3,
   "metadata": {},
   "outputs": [],
   "source": [
    "train_path = 'data/train.text'\n",
    "test_path = 'data/test.text'"
   ]
  },
  {
   "cell_type": "code",
   "execution_count": 4,
   "metadata": {},
   "outputs": [],
   "source": [
    "mask = masker.Multiple(\n",
    "    [\n",
    "        masker.TwoSwapMasker(), \n",
    "        masker.MaskMasker(), \n",
    "        masker.RemoveMasker(), \n",
    "        masker.AddMasker(),\n",
    "        masker.DoubleMasker()\n",
    "    ]\n",
    ")"
   ]
  },
  {
   "cell_type": "code",
   "execution_count": 5,
   "metadata": {},
   "outputs": [],
   "source": [
    "reader = OneLangSeq2SeqReader(masker=mask)"
   ]
  },
  {
   "cell_type": "code",
   "execution_count": 6,
   "metadata": {},
   "outputs": [
    {
     "name": "stderr",
     "output_type": "stream",
     "text": [
      "220738it [00:31, 7091.92it/s]\n",
      "47223it [00:06, 6909.08it/s]\n"
     ]
    }
   ],
   "source": [
    "train_dataset = reader.read(train_path)\n",
    "test_dataset = reader.read(test_path)"
   ]
  },
  {
   "cell_type": "code",
   "execution_count": 7,
   "metadata": {},
   "outputs": [
    {
     "name": "stderr",
     "output_type": "stream",
     "text": [
      "100%|██████████| 267961/267961 [00:06<00:00, 42923.48it/s]\n"
     ]
    }
   ],
   "source": [
    "vocab = Vocabulary.from_instances(train_dataset + test_dataset)\n",
    "# vocab = Vocabulary.from_files('vocab_seq2seq/')"
   ]
  },
  {
   "cell_type": "code",
   "execution_count": 8,
   "metadata": {},
   "outputs": [],
   "source": [
    "iterator = BasicIterator(batch_size=1024)\n",
    "iterator.index_with(vocab)"
   ]
  },
  {
   "cell_type": "code",
   "execution_count": 9,
   "metadata": {},
   "outputs": [],
   "source": [
    "model = get_basic_seq2seq_model(vocab)"
   ]
  },
  {
   "cell_type": "code",
   "execution_count": 10,
   "metadata": {},
   "outputs": [
    {
     "data": {
      "text/plain": [
       "OneLanguageSeq2SeqModel(\n",
       "  (_source_embedder): BasicTextFieldEmbedder(\n",
       "    (token_embedder_tokens): Embedding()\n",
       "  )\n",
       "  (_encoder): PytorchSeq2SeqWrapper(\n",
       "    (_module): LSTM(64, 32, batch_first=True)\n",
       "  )\n",
       "  (_attention): AdditiveAttention()\n",
       "  (_target_embedder): Embedding()\n",
       "  (_decoder_cell): LSTMCell(96, 32)\n",
       "  (_output_projection_layer): Linear(in_features=32, out_features=1970, bias=True)\n",
       ")"
      ]
     },
     "execution_count": 10,
     "metadata": {},
     "output_type": "execute_result"
    }
   ],
   "source": [
    "model.cuda(0)"
   ]
  },
  {
   "cell_type": "code",
   "execution_count": 11,
   "metadata": {},
   "outputs": [],
   "source": [
    "optimizer = torch.optim.Adam(model.parameters(), lr=0.001)"
   ]
  },
  {
   "cell_type": "code",
   "execution_count": 12,
   "metadata": {},
   "outputs": [],
   "source": [
    "trainer = Trainer(\n",
    "    model=model,\n",
    "    optimizer=optimizer,\n",
    "    iterator=iterator,\n",
    "    train_dataset=train_dataset,\n",
    "    validation_dataset=test_dataset,\n",
    "    patience=2,\n",
    "    num_epochs=30,\n",
    "    cuda_device=0\n",
    ")"
   ]
  },
  {
   "cell_type": "code",
   "execution_count": 13,
   "metadata": {},
   "outputs": [
    {
     "name": "stderr",
     "output_type": "stream",
     "text": [
      "loss: 5.0493 ||: 100%|██████████| 216/216 [00:50<00:00,  4.84it/s]\n",
      "  0%|          | 0/47 [00:00<?, ?it/s]/usr/local/lib/python3.6/dist-packages/allennlp/nn/beam_search.py:127: RuntimeWarning: Empty sequences predicted. You may want to increase the beam size or ensure your step function is working properly.\n",
      "  RuntimeWarning)\n",
      "BLEU: 0.0000, loss: 4.2416 ||: 100%|██████████| 47/47 [01:12<00:00,  1.16s/it]\n",
      "loss: 4.1336 ||: 100%|██████████| 216/216 [00:40<00:00,  5.81it/s]\n",
      "BLEU: 0.0200, loss: 4.0298 ||: 100%|██████████| 47/47 [01:15<00:00,  1.20s/it]\n",
      "loss: 3.8942 ||: 100%|██████████| 216/216 [00:44<00:00,  5.94it/s]\n",
      "BLEU: 0.0000, loss: 3.7436 ||: 100%|██████████| 47/47 [01:31<00:00,  1.47s/it]\n",
      "loss: 3.5294 ||: 100%|██████████| 216/216 [00:40<00:00,  5.83it/s]\n",
      "BLEU: 0.0000, loss: 3.2948 ||: 100%|██████████| 47/47 [01:50<00:00,  1.75s/it]\n",
      "loss: 3.0875 ||: 100%|██████████| 216/216 [00:36<00:00,  6.73it/s]\n",
      "BLEU: 0.0000, loss: 2.9106 ||: 100%|██████████| 47/47 [02:24<00:00,  2.32s/it]\n",
      "loss: 2.7514 ||: 100%|██████████| 216/216 [00:36<00:00,  6.73it/s]\n",
      "BLEU: 0.0091, loss: 2.6045 ||: 100%|██████████| 47/47 [02:18<00:00,  2.17s/it]\n",
      "loss: 2.4548 ||: 100%|██████████| 216/216 [00:41<00:00,  6.40it/s]\n",
      "BLEU: 0.0205, loss: 2.3173 ||: 100%|██████████| 47/47 [01:59<00:00,  1.88s/it]\n",
      "loss: 2.1721 ||: 100%|██████████| 216/216 [00:40<00:00,  5.89it/s]\n",
      "BLEU: 0.0486, loss: 2.0430 ||: 100%|██████████| 47/47 [01:44<00:00,  1.64s/it]\n",
      "loss: 1.9068 ||: 100%|██████████| 216/216 [00:39<00:00,  5.97it/s]\n",
      "BLEU: 0.1044, loss: 1.7939 ||: 100%|██████████| 47/47 [01:37<00:00,  1.56s/it]\n",
      "loss: 1.6748 ||: 100%|██████████| 216/216 [00:39<00:00,  5.76it/s]\n",
      "BLEU: 0.1663, loss: 1.5824 ||: 100%|██████████| 47/47 [01:38<00:00,  1.56s/it]\n",
      "loss: 1.4815 ||: 100%|██████████| 216/216 [00:42<00:00,  6.26it/s]\n",
      "BLEU: 0.2402, loss: 1.4048 ||: 100%|██████████| 47/47 [01:39<00:00,  1.55s/it]\n",
      "loss: 1.3197 ||: 100%|██████████| 216/216 [00:39<00:00,  6.06it/s]\n",
      "BLEU: 0.2983, loss: 1.2651 ||: 100%|██████████| 47/47 [01:35<00:00,  1.60s/it]\n",
      "loss: 1.1816 ||: 100%|██████████| 216/216 [00:39<00:00,  6.65it/s]\n",
      "BLEU: 0.3846, loss: 1.1303 ||: 100%|██████████| 47/47 [01:39<00:00,  1.68s/it]\n",
      "loss: 1.0613 ||: 100%|██████████| 216/216 [00:38<00:00,  6.38it/s]\n",
      "BLEU: 0.4550, loss: 1.0215 ||: 100%|██████████| 47/47 [01:38<00:00,  1.58s/it]\n",
      "loss: 0.9566 ||: 100%|██████████| 216/216 [00:41<00:00,  6.33it/s]\n",
      "BLEU: 0.5136, loss: 0.9267 ||: 100%|██████████| 47/47 [01:37<00:00,  1.54s/it]\n",
      "loss: 0.8678 ||: 100%|██████████| 216/216 [00:39<00:00,  5.92it/s]\n",
      "BLEU: 0.5814, loss: 0.8473 ||: 100%|██████████| 47/47 [01:38<00:00,  1.59s/it]\n",
      "loss: 0.7933 ||: 100%|██████████| 216/216 [00:39<00:00,  5.85it/s]\n",
      "BLEU: 0.6270, loss: 0.7777 ||: 100%|██████████| 47/47 [01:41<00:00,  1.65s/it]\n",
      "loss: 0.7304 ||: 100%|██████████| 216/216 [00:42<00:00,  5.42it/s]\n",
      "BLEU: 0.6640, loss: 0.7323 ||: 100%|██████████| 47/47 [01:43<00:00,  1.62s/it]\n",
      "loss: 0.6777 ||: 100%|██████████| 216/216 [00:44<00:00,  6.05it/s]\n",
      "BLEU: 0.6889, loss: 0.6784 ||: 100%|██████████| 47/47 [01:38<00:00,  1.56s/it]\n",
      "loss: 0.6342 ||: 100%|██████████| 216/216 [00:41<00:00,  5.72it/s]\n",
      "BLEU: 0.7164, loss: 0.6388 ||: 100%|██████████| 47/47 [01:39<00:00,  1.56s/it]\n",
      "loss: 0.5955 ||: 100%|██████████| 216/216 [00:38<00:00,  6.08it/s]\n",
      "BLEU: 0.7353, loss: 0.6056 ||: 100%|██████████| 47/47 [01:40<00:00,  1.60s/it]\n",
      "loss: 0.5636 ||: 100%|██████████| 216/216 [00:41<00:00,  6.03it/s]\n",
      "BLEU: 0.7441, loss: 0.5774 ||: 100%|██████████| 47/47 [01:42<00:00,  1.61s/it]\n",
      "loss: 0.5354 ||: 100%|██████████| 216/216 [00:39<00:00,  6.51it/s]\n",
      "BLEU: 0.7678, loss: 0.5510 ||: 100%|██████████| 47/47 [01:41<00:00,  1.61s/it]\n",
      "loss: 0.5108 ||: 100%|██████████| 216/216 [00:40<00:00,  5.93it/s]\n",
      "BLEU: 0.7822, loss: 0.5321 ||: 100%|██████████| 47/47 [01:42<00:00,  1.62s/it]\n",
      "loss: 0.4900 ||: 100%|██████████| 216/216 [00:42<00:00,  5.57it/s]\n",
      "BLEU: 0.7880, loss: 0.5140 ||: 100%|██████████| 47/47 [02:15<00:00,  2.18s/it]\n",
      "loss: 0.4708 ||: 100%|██████████| 216/216 [00:40<00:00,  6.31it/s]\n",
      "BLEU: 0.7822, loss: 0.5004 ||: 100%|██████████| 47/47 [01:41<00:00,  1.60s/it]\n",
      "loss: 0.4542 ||: 100%|██████████| 216/216 [00:38<00:00,  6.46it/s]\n",
      "BLEU: 0.8025, loss: 0.4804 ||: 100%|██████████| 47/47 [01:41<00:00,  1.62s/it]\n",
      "loss: 0.4393 ||: 100%|██████████| 216/216 [00:42<00:00,  5.85it/s]\n",
      "BLEU: 0.8102, loss: 0.4667 ||: 100%|██████████| 47/47 [02:14<00:00,  2.14s/it]\n",
      "loss: 0.4267 ||: 100%|██████████| 216/216 [00:39<00:00,  5.84it/s]\n",
      "BLEU: 0.8160, loss: 0.4561 ||: 100%|██████████| 47/47 [01:43<00:00,  1.64s/it]\n",
      "loss: 0.4147 ||: 100%|██████████| 216/216 [00:41<00:00,  5.74it/s]\n",
      "BLEU: 0.8215, loss: 0.4472 ||: 100%|██████████| 47/47 [01:41<00:00,  1.61s/it]\n"
     ]
    }
   ],
   "source": [
    "results = trainer.train()"
   ]
  },
  {
   "cell_type": "code",
   "execution_count": 14,
   "metadata": {},
   "outputs": [
    {
     "name": "stderr",
     "output_type": "stream",
     "text": [
      "loss: 0.4027 ||: 100%|██████████| 216/216 [00:39<00:00,  5.44it/s]\n",
      "BLEU: 0.8256, loss: 0.4358 ||: 100%|██████████| 47/47 [01:42<00:00,  1.62s/it]\n",
      "loss: 0.3930 ||: 100%|██████████| 216/216 [00:39<00:00,  6.00it/s]\n",
      "BLEU: 0.8249, loss: 0.4278 ||: 100%|██████████| 47/47 [01:40<00:00,  1.60s/it]\n",
      "loss: 0.3834 ||: 100%|██████████| 216/216 [00:39<00:00,  5.98it/s]\n",
      "BLEU: 0.8252, loss: 0.4221 ||: 100%|██████████| 47/47 [01:41<00:00,  1.61s/it]\n",
      "loss: 0.3754 ||: 100%|██████████| 216/216 [00:41<00:00,  6.26it/s]\n",
      "BLEU: 0.8357, loss: 0.4146 ||: 100%|██████████| 47/47 [01:41<00:00,  1.63s/it]\n",
      "loss: 0.3673 ||: 100%|██████████| 216/216 [00:37<00:00,  5.74it/s]\n",
      "BLEU: 0.8391, loss: 0.4077 ||: 100%|██████████| 47/47 [01:41<00:00,  1.62s/it]\n",
      "loss: 0.3601 ||: 100%|██████████| 216/216 [00:35<00:00,  6.09it/s]\n",
      "BLEU: 0.8434, loss: 0.3994 ||: 100%|██████████| 47/47 [01:41<00:00,  1.62s/it]\n",
      "loss: 0.3536 ||: 100%|██████████| 216/216 [00:33<00:00,  7.23it/s]\n",
      "BLEU: 0.8430, loss: 0.3890 ||:  53%|█████▎    | 25/47 [00:54<00:48,  2.19s/it]"
     ]
    },
    {
     "ename": "KeyboardInterrupt",
     "evalue": "",
     "output_type": "error",
     "traceback": [
      "\u001b[0;31m\u001b[0m",
      "\u001b[0;31mKeyboardInterrupt\u001b[0mTraceback (most recent call last)",
      "\u001b[0;32m<ipython-input-14-b3102caf553f>\u001b[0m in \u001b[0;36m<module>\u001b[0;34m\u001b[0m\n\u001b[0;32m----> 1\u001b[0;31m \u001b[0mresults2\u001b[0m \u001b[0;34m=\u001b[0m \u001b[0mtrainer\u001b[0m\u001b[0;34m.\u001b[0m\u001b[0mtrain\u001b[0m\u001b[0;34m(\u001b[0m\u001b[0;34m)\u001b[0m\u001b[0;34m\u001b[0m\u001b[0;34m\u001b[0m\u001b[0m\n\u001b[0m",
      "\u001b[0;32m/usr/local/lib/python3.6/dist-packages/allennlp/training/trainer.py\u001b[0m in \u001b[0;36mtrain\u001b[0;34m(self)\u001b[0m\n\u001b[1;32m    489\u001b[0m                 \u001b[0;32mwith\u001b[0m \u001b[0mtorch\u001b[0m\u001b[0;34m.\u001b[0m\u001b[0mno_grad\u001b[0m\u001b[0;34m(\u001b[0m\u001b[0;34m)\u001b[0m\u001b[0;34m:\u001b[0m\u001b[0;34m\u001b[0m\u001b[0;34m\u001b[0m\u001b[0m\n\u001b[1;32m    490\u001b[0m                     \u001b[0;31m# We have a validation set, so compute all the metrics on it.\u001b[0m\u001b[0;34m\u001b[0m\u001b[0;34m\u001b[0m\u001b[0;34m\u001b[0m\u001b[0m\n\u001b[0;32m--> 491\u001b[0;31m                     \u001b[0mval_loss\u001b[0m\u001b[0;34m,\u001b[0m \u001b[0mnum_batches\u001b[0m \u001b[0;34m=\u001b[0m \u001b[0mself\u001b[0m\u001b[0;34m.\u001b[0m\u001b[0m_validation_loss\u001b[0m\u001b[0;34m(\u001b[0m\u001b[0;34m)\u001b[0m\u001b[0;34m\u001b[0m\u001b[0;34m\u001b[0m\u001b[0m\n\u001b[0m\u001b[1;32m    492\u001b[0m                     \u001b[0mval_metrics\u001b[0m \u001b[0;34m=\u001b[0m \u001b[0mtraining_util\u001b[0m\u001b[0;34m.\u001b[0m\u001b[0mget_metrics\u001b[0m\u001b[0;34m(\u001b[0m\u001b[0mself\u001b[0m\u001b[0;34m.\u001b[0m\u001b[0mmodel\u001b[0m\u001b[0;34m,\u001b[0m \u001b[0mval_loss\u001b[0m\u001b[0;34m,\u001b[0m \u001b[0mnum_batches\u001b[0m\u001b[0;34m,\u001b[0m \u001b[0mreset\u001b[0m\u001b[0;34m=\u001b[0m\u001b[0;32mTrue\u001b[0m\u001b[0;34m)\u001b[0m\u001b[0;34m\u001b[0m\u001b[0;34m\u001b[0m\u001b[0m\n\u001b[1;32m    493\u001b[0m \u001b[0;34m\u001b[0m\u001b[0m\n",
      "\u001b[0;32m/usr/local/lib/python3.6/dist-packages/allennlp/training/trainer.py\u001b[0m in \u001b[0;36m_validation_loss\u001b[0;34m(self)\u001b[0m\n\u001b[1;32m    426\u001b[0m         \u001b[0;32mfor\u001b[0m \u001b[0mbatch_group\u001b[0m \u001b[0;32min\u001b[0m \u001b[0mval_generator_tqdm\u001b[0m\u001b[0;34m:\u001b[0m\u001b[0;34m\u001b[0m\u001b[0;34m\u001b[0m\u001b[0m\n\u001b[1;32m    427\u001b[0m \u001b[0;34m\u001b[0m\u001b[0m\n\u001b[0;32m--> 428\u001b[0;31m             \u001b[0mloss\u001b[0m \u001b[0;34m=\u001b[0m \u001b[0mself\u001b[0m\u001b[0;34m.\u001b[0m\u001b[0mbatch_loss\u001b[0m\u001b[0;34m(\u001b[0m\u001b[0mbatch_group\u001b[0m\u001b[0;34m,\u001b[0m \u001b[0mfor_training\u001b[0m\u001b[0;34m=\u001b[0m\u001b[0;32mFalse\u001b[0m\u001b[0;34m)\u001b[0m\u001b[0;34m\u001b[0m\u001b[0;34m\u001b[0m\u001b[0m\n\u001b[0m\u001b[1;32m    429\u001b[0m             \u001b[0;32mif\u001b[0m \u001b[0mloss\u001b[0m \u001b[0;32mis\u001b[0m \u001b[0;32mnot\u001b[0m \u001b[0;32mNone\u001b[0m\u001b[0;34m:\u001b[0m\u001b[0;34m\u001b[0m\u001b[0;34m\u001b[0m\u001b[0m\n\u001b[1;32m    430\u001b[0m                 \u001b[0;31m# You shouldn't necessarily have to compute a loss for validation, so we allow for\u001b[0m\u001b[0;34m\u001b[0m\u001b[0;34m\u001b[0m\u001b[0;34m\u001b[0m\u001b[0m\n",
      "\u001b[0;32m/usr/local/lib/python3.6/dist-packages/allennlp/training/trainer.py\u001b[0m in \u001b[0;36mbatch_loss\u001b[0;34m(self, batch_group, for_training)\u001b[0m\n\u001b[1;32m    259\u001b[0m             \u001b[0mbatch\u001b[0m \u001b[0;34m=\u001b[0m \u001b[0mbatch_group\u001b[0m\u001b[0;34m[\u001b[0m\u001b[0;36m0\u001b[0m\u001b[0;34m]\u001b[0m\u001b[0;34m\u001b[0m\u001b[0;34m\u001b[0m\u001b[0m\n\u001b[1;32m    260\u001b[0m             \u001b[0mbatch\u001b[0m \u001b[0;34m=\u001b[0m \u001b[0mnn_util\u001b[0m\u001b[0;34m.\u001b[0m\u001b[0mmove_to_device\u001b[0m\u001b[0;34m(\u001b[0m\u001b[0mbatch\u001b[0m\u001b[0;34m,\u001b[0m \u001b[0mself\u001b[0m\u001b[0;34m.\u001b[0m\u001b[0m_cuda_devices\u001b[0m\u001b[0;34m[\u001b[0m\u001b[0;36m0\u001b[0m\u001b[0;34m]\u001b[0m\u001b[0;34m)\u001b[0m\u001b[0;34m\u001b[0m\u001b[0;34m\u001b[0m\u001b[0m\n\u001b[0;32m--> 261\u001b[0;31m             \u001b[0moutput_dict\u001b[0m \u001b[0;34m=\u001b[0m \u001b[0mself\u001b[0m\u001b[0;34m.\u001b[0m\u001b[0mmodel\u001b[0m\u001b[0;34m(\u001b[0m\u001b[0;34m**\u001b[0m\u001b[0mbatch\u001b[0m\u001b[0;34m)\u001b[0m\u001b[0;34m\u001b[0m\u001b[0;34m\u001b[0m\u001b[0m\n\u001b[0m\u001b[1;32m    262\u001b[0m \u001b[0;34m\u001b[0m\u001b[0m\n\u001b[1;32m    263\u001b[0m         \u001b[0;32mtry\u001b[0m\u001b[0;34m:\u001b[0m\u001b[0;34m\u001b[0m\u001b[0;34m\u001b[0m\u001b[0m\n",
      "\u001b[0;32m/usr/local/lib/python3.6/dist-packages/torch/nn/modules/module.py\u001b[0m in \u001b[0;36m__call__\u001b[0;34m(self, *input, **kwargs)\u001b[0m\n\u001b[1;32m    539\u001b[0m             \u001b[0mresult\u001b[0m \u001b[0;34m=\u001b[0m \u001b[0mself\u001b[0m\u001b[0;34m.\u001b[0m\u001b[0m_slow_forward\u001b[0m\u001b[0;34m(\u001b[0m\u001b[0;34m*\u001b[0m\u001b[0minput\u001b[0m\u001b[0;34m,\u001b[0m \u001b[0;34m**\u001b[0m\u001b[0mkwargs\u001b[0m\u001b[0;34m)\u001b[0m\u001b[0;34m\u001b[0m\u001b[0;34m\u001b[0m\u001b[0m\n\u001b[1;32m    540\u001b[0m         \u001b[0;32melse\u001b[0m\u001b[0;34m:\u001b[0m\u001b[0;34m\u001b[0m\u001b[0;34m\u001b[0m\u001b[0m\n\u001b[0;32m--> 541\u001b[0;31m             \u001b[0mresult\u001b[0m \u001b[0;34m=\u001b[0m \u001b[0mself\u001b[0m\u001b[0;34m.\u001b[0m\u001b[0mforward\u001b[0m\u001b[0;34m(\u001b[0m\u001b[0;34m*\u001b[0m\u001b[0minput\u001b[0m\u001b[0;34m,\u001b[0m \u001b[0;34m**\u001b[0m\u001b[0mkwargs\u001b[0m\u001b[0;34m)\u001b[0m\u001b[0;34m\u001b[0m\u001b[0;34m\u001b[0m\u001b[0m\n\u001b[0m\u001b[1;32m    542\u001b[0m         \u001b[0;32mfor\u001b[0m \u001b[0mhook\u001b[0m \u001b[0;32min\u001b[0m \u001b[0mself\u001b[0m\u001b[0;34m.\u001b[0m\u001b[0m_forward_hooks\u001b[0m\u001b[0;34m.\u001b[0m\u001b[0mvalues\u001b[0m\u001b[0;34m(\u001b[0m\u001b[0;34m)\u001b[0m\u001b[0;34m:\u001b[0m\u001b[0;34m\u001b[0m\u001b[0;34m\u001b[0m\u001b[0m\n\u001b[1;32m    543\u001b[0m             \u001b[0mhook_result\u001b[0m \u001b[0;34m=\u001b[0m \u001b[0mhook\u001b[0m\u001b[0;34m(\u001b[0m\u001b[0mself\u001b[0m\u001b[0;34m,\u001b[0m \u001b[0minput\u001b[0m\u001b[0;34m,\u001b[0m \u001b[0mresult\u001b[0m\u001b[0;34m)\u001b[0m\u001b[0;34m\u001b[0m\u001b[0;34m\u001b[0m\u001b[0m\n",
      "\u001b[0;32m/notebook/mnt/chatbot_models2/fursov/adversarial_attacks/adat/models/seq2seq_model.py\u001b[0m in \u001b[0;36mforward\u001b[0;34m(***failed resolving arguments***)\u001b[0m\n\u001b[1;32m     82\u001b[0m                 target_tokens: Dict[str, torch.LongTensor] = None, **kwargs) -> Dict[str, torch.Tensor]:\n\u001b[1;32m     83\u001b[0m         \u001b[0;32mdel\u001b[0m \u001b[0mkwargs\u001b[0m\u001b[0;34m\u001b[0m\u001b[0;34m\u001b[0m\u001b[0m\n\u001b[0;32m---> 84\u001b[0;31m         \u001b[0;32mreturn\u001b[0m \u001b[0msuper\u001b[0m\u001b[0;34m(\u001b[0m\u001b[0;34m)\u001b[0m\u001b[0;34m.\u001b[0m\u001b[0mforward\u001b[0m\u001b[0;34m(\u001b[0m\u001b[0msource_tokens\u001b[0m\u001b[0;34m,\u001b[0m \u001b[0mtarget_tokens\u001b[0m\u001b[0;34m)\u001b[0m\u001b[0;34m\u001b[0m\u001b[0;34m\u001b[0m\u001b[0m\n\u001b[0m\u001b[1;32m     85\u001b[0m \u001b[0;34m\u001b[0m\u001b[0m\n\u001b[1;32m     86\u001b[0m \u001b[0;34m\u001b[0m\u001b[0m\n",
      "\u001b[0;32m/usr/local/lib/python3.6/dist-packages/allennlp/models/encoder_decoders/simple_seq2seq.py\u001b[0m in \u001b[0;36mforward\u001b[0;34m(self, source_tokens, target_tokens)\u001b[0m\n\u001b[1;32m    229\u001b[0m                 \u001b[0;31m# shape: (batch_size, max_predicted_sequence_length)\u001b[0m\u001b[0;34m\u001b[0m\u001b[0;34m\u001b[0m\u001b[0;34m\u001b[0m\u001b[0m\n\u001b[1;32m    230\u001b[0m                 \u001b[0mbest_predictions\u001b[0m \u001b[0;34m=\u001b[0m \u001b[0mtop_k_predictions\u001b[0m\u001b[0;34m[\u001b[0m\u001b[0;34m:\u001b[0m\u001b[0;34m,\u001b[0m \u001b[0;36m0\u001b[0m\u001b[0;34m,\u001b[0m \u001b[0;34m:\u001b[0m\u001b[0;34m]\u001b[0m\u001b[0;34m\u001b[0m\u001b[0;34m\u001b[0m\u001b[0m\n\u001b[0;32m--> 231\u001b[0;31m                 \u001b[0mself\u001b[0m\u001b[0;34m.\u001b[0m\u001b[0m_bleu\u001b[0m\u001b[0;34m(\u001b[0m\u001b[0mbest_predictions\u001b[0m\u001b[0;34m,\u001b[0m \u001b[0mtarget_tokens\u001b[0m\u001b[0;34m[\u001b[0m\u001b[0;34m\"tokens\"\u001b[0m\u001b[0;34m]\u001b[0m\u001b[0;34m)\u001b[0m\u001b[0;34m\u001b[0m\u001b[0;34m\u001b[0m\u001b[0m\n\u001b[0m\u001b[1;32m    232\u001b[0m \u001b[0;34m\u001b[0m\u001b[0m\n\u001b[1;32m    233\u001b[0m         \u001b[0;32mreturn\u001b[0m \u001b[0moutput_dict\u001b[0m\u001b[0;34m\u001b[0m\u001b[0;34m\u001b[0m\u001b[0m\n",
      "\u001b[0;32m/usr/local/lib/python3.6/dist-packages/allennlp/training/metrics/bleu.py\u001b[0m in \u001b[0;36m__call__\u001b[0;34m(self, predictions, gold_targets)\u001b[0m\n\u001b[1;32m    133\u001b[0m         \u001b[0;32mfor\u001b[0m \u001b[0mngram_size\u001b[0m\u001b[0;34m,\u001b[0m \u001b[0m_\u001b[0m \u001b[0;32min\u001b[0m \u001b[0menumerate\u001b[0m\u001b[0;34m(\u001b[0m\u001b[0mself\u001b[0m\u001b[0;34m.\u001b[0m\u001b[0m_ngram_weights\u001b[0m\u001b[0;34m,\u001b[0m \u001b[0mstart\u001b[0m\u001b[0;34m=\u001b[0m\u001b[0;36m1\u001b[0m\u001b[0;34m)\u001b[0m\u001b[0;34m:\u001b[0m\u001b[0;34m\u001b[0m\u001b[0;34m\u001b[0m\u001b[0m\n\u001b[1;32m    134\u001b[0m             precision_matches, precision_totals = self._get_modified_precision_counts(\n\u001b[0;32m--> 135\u001b[0;31m                     predictions, gold_targets, ngram_size)\n\u001b[0m\u001b[1;32m    136\u001b[0m             \u001b[0mself\u001b[0m\u001b[0;34m.\u001b[0m\u001b[0m_precision_matches\u001b[0m\u001b[0;34m[\u001b[0m\u001b[0mngram_size\u001b[0m\u001b[0;34m]\u001b[0m \u001b[0;34m+=\u001b[0m \u001b[0mprecision_matches\u001b[0m\u001b[0;34m\u001b[0m\u001b[0;34m\u001b[0m\u001b[0m\n\u001b[1;32m    137\u001b[0m             \u001b[0mself\u001b[0m\u001b[0;34m.\u001b[0m\u001b[0m_precision_totals\u001b[0m\u001b[0;34m[\u001b[0m\u001b[0mngram_size\u001b[0m\u001b[0;34m]\u001b[0m \u001b[0;34m+=\u001b[0m \u001b[0mprecision_totals\u001b[0m\u001b[0;34m\u001b[0m\u001b[0;34m\u001b[0m\u001b[0m\n",
      "\u001b[0;32m/usr/local/lib/python3.6/dist-packages/allennlp/training/metrics/bleu.py\u001b[0m in \u001b[0;36m_get_modified_precision_counts\u001b[0;34m(self, predicted_tokens, reference_tokens, ngram_size)\u001b[0m\n\u001b[1;32m     92\u001b[0m             \u001b[0mpredicted_row\u001b[0m \u001b[0;34m=\u001b[0m \u001b[0mpredicted_tokens\u001b[0m\u001b[0;34m[\u001b[0m\u001b[0mbatch_num\u001b[0m\u001b[0;34m,\u001b[0m \u001b[0;34m:\u001b[0m\u001b[0;34m]\u001b[0m\u001b[0;34m\u001b[0m\u001b[0;34m\u001b[0m\u001b[0m\n\u001b[1;32m     93\u001b[0m             \u001b[0mreference_row\u001b[0m \u001b[0;34m=\u001b[0m \u001b[0mreference_tokens\u001b[0m\u001b[0;34m[\u001b[0m\u001b[0mbatch_num\u001b[0m\u001b[0;34m,\u001b[0m \u001b[0;34m:\u001b[0m\u001b[0;34m]\u001b[0m\u001b[0;34m\u001b[0m\u001b[0;34m\u001b[0m\u001b[0m\n\u001b[0;32m---> 94\u001b[0;31m             \u001b[0mpredicted_ngram_counts\u001b[0m \u001b[0;34m=\u001b[0m \u001b[0mself\u001b[0m\u001b[0;34m.\u001b[0m\u001b[0m_ngrams\u001b[0m\u001b[0;34m(\u001b[0m\u001b[0mpredicted_row\u001b[0m\u001b[0;34m,\u001b[0m \u001b[0mngram_size\u001b[0m\u001b[0;34m)\u001b[0m\u001b[0;34m\u001b[0m\u001b[0;34m\u001b[0m\u001b[0m\n\u001b[0m\u001b[1;32m     95\u001b[0m             \u001b[0mreference_ngram_counts\u001b[0m \u001b[0;34m=\u001b[0m \u001b[0mself\u001b[0m\u001b[0;34m.\u001b[0m\u001b[0m_ngrams\u001b[0m\u001b[0;34m(\u001b[0m\u001b[0mreference_row\u001b[0m\u001b[0;34m,\u001b[0m \u001b[0mngram_size\u001b[0m\u001b[0;34m)\u001b[0m\u001b[0;34m\u001b[0m\u001b[0;34m\u001b[0m\u001b[0m\n\u001b[1;32m     96\u001b[0m             \u001b[0;32mfor\u001b[0m \u001b[0mngram\u001b[0m\u001b[0;34m,\u001b[0m \u001b[0mcount\u001b[0m \u001b[0;32min\u001b[0m \u001b[0mpredicted_ngram_counts\u001b[0m\u001b[0;34m.\u001b[0m\u001b[0mitems\u001b[0m\u001b[0;34m(\u001b[0m\u001b[0;34m)\u001b[0m\u001b[0;34m:\u001b[0m\u001b[0;34m\u001b[0m\u001b[0;34m\u001b[0m\u001b[0m\n",
      "\u001b[0;32m/usr/local/lib/python3.6/dist-packages/allennlp/training/metrics/bleu.py\u001b[0m in \u001b[0;36m_ngrams\u001b[0;34m(self, tensor, ngram_size)\u001b[0m\n\u001b[1;32m     67\u001b[0m                 \u001b[0;32mif\u001b[0m \u001b[0mtensor_slice\u001b[0m\u001b[0;34m.\u001b[0m\u001b[0msize\u001b[0m\u001b[0;34m(\u001b[0m\u001b[0;34m-\u001b[0m\u001b[0;36m1\u001b[0m\u001b[0;34m)\u001b[0m \u001b[0;34m<\u001b[0m \u001b[0mngram_size\u001b[0m\u001b[0;34m:\u001b[0m\u001b[0;34m\u001b[0m\u001b[0;34m\u001b[0m\u001b[0m\n\u001b[1;32m     68\u001b[0m                     \u001b[0;32mbreak\u001b[0m\u001b[0;34m\u001b[0m\u001b[0;34m\u001b[0m\u001b[0m\n\u001b[0;32m---> 69\u001b[0;31m                 \u001b[0mngram\u001b[0m \u001b[0;34m=\u001b[0m \u001b[0mtuple\u001b[0m\u001b[0;34m(\u001b[0m\u001b[0mx\u001b[0m\u001b[0;34m.\u001b[0m\u001b[0mitem\u001b[0m\u001b[0;34m(\u001b[0m\u001b[0;34m)\u001b[0m \u001b[0;32mfor\u001b[0m \u001b[0mx\u001b[0m \u001b[0;32min\u001b[0m \u001b[0mtensor_slice\u001b[0m\u001b[0;34m)\u001b[0m\u001b[0;34m\u001b[0m\u001b[0;34m\u001b[0m\u001b[0m\n\u001b[0m\u001b[1;32m     70\u001b[0m                 \u001b[0;32mif\u001b[0m \u001b[0many\u001b[0m\u001b[0;34m(\u001b[0m\u001b[0mx\u001b[0m \u001b[0;32min\u001b[0m \u001b[0mself\u001b[0m\u001b[0;34m.\u001b[0m\u001b[0m_exclude_indices\u001b[0m \u001b[0;32mfor\u001b[0m \u001b[0mx\u001b[0m \u001b[0;32min\u001b[0m \u001b[0mngram\u001b[0m\u001b[0;34m)\u001b[0m\u001b[0;34m:\u001b[0m\u001b[0;34m\u001b[0m\u001b[0;34m\u001b[0m\u001b[0m\n\u001b[1;32m     71\u001b[0m                     \u001b[0;32mcontinue\u001b[0m\u001b[0;34m\u001b[0m\u001b[0;34m\u001b[0m\u001b[0m\n",
      "\u001b[0;32m/usr/local/lib/python3.6/dist-packages/torch/tensor.py\u001b[0m in \u001b[0;36m__iter__\u001b[0;34m(self)\u001b[0m\n\u001b[1;32m    420\u001b[0m         \u001b[0;32mif\u001b[0m \u001b[0mself\u001b[0m\u001b[0;34m.\u001b[0m\u001b[0mdim\u001b[0m\u001b[0;34m(\u001b[0m\u001b[0;34m)\u001b[0m \u001b[0;34m==\u001b[0m \u001b[0;36m0\u001b[0m\u001b[0;34m:\u001b[0m\u001b[0;34m\u001b[0m\u001b[0;34m\u001b[0m\u001b[0m\n\u001b[1;32m    421\u001b[0m             \u001b[0;32mraise\u001b[0m \u001b[0mTypeError\u001b[0m\u001b[0;34m(\u001b[0m\u001b[0;34m'iteration over a 0-d tensor'\u001b[0m\u001b[0;34m)\u001b[0m\u001b[0;34m\u001b[0m\u001b[0;34m\u001b[0m\u001b[0m\n\u001b[0;32m--> 422\u001b[0;31m         \u001b[0;32mif\u001b[0m \u001b[0mtorch\u001b[0m\u001b[0;34m.\u001b[0m\u001b[0m_C\u001b[0m\u001b[0;34m.\u001b[0m\u001b[0m_get_tracing_state\u001b[0m\u001b[0;34m(\u001b[0m\u001b[0;34m)\u001b[0m\u001b[0;34m:\u001b[0m\u001b[0;34m\u001b[0m\u001b[0;34m\u001b[0m\u001b[0m\n\u001b[0m\u001b[1;32m    423\u001b[0m             warnings.warn('Iterating over a tensor might cause the trace to be incorrect. '\n\u001b[1;32m    424\u001b[0m                           \u001b[0;34m'Passing a tensor of different shape won\\'t change the number of '\u001b[0m\u001b[0;34m\u001b[0m\u001b[0;34m\u001b[0m\u001b[0m\n",
      "\u001b[0;31mKeyboardInterrupt\u001b[0m: "
     ]
    }
   ],
   "source": [
    "results2 = trainer.train()"
   ]
  },
  {
   "cell_type": "code",
   "execution_count": null,
   "metadata": {},
   "outputs": [],
   "source": []
  },
  {
   "cell_type": "code",
   "execution_count": 16,
   "metadata": {},
   "outputs": [],
   "source": [
    "# with open(\"model_seq2seq_masked2.th\", 'wb') as f:\n",
    "#     torch.save(model.state_dict(), f)\n",
    "\n",
    "# vocab.save_to_files(\"vocab_seq2seq_masked2\")"
   ]
  },
  {
   "cell_type": "markdown",
   "metadata": {},
   "source": [
    "# Predictions"
   ]
  },
  {
   "cell_type": "code",
   "execution_count": 1,
   "metadata": {},
   "outputs": [],
   "source": [
    "import sys\n",
    "sys.path.append('..')\n",
    "\n",
    "from allennlp.predictors import Seq2SeqPredictor, TextClassifierPredictor\n",
    "from adat.utils import load_weights\n",
    "from adat.models import get_basic_classification_model, get_basic_seq2seq_model\n",
    "from allennlp.data.vocabulary import Vocabulary\n",
    "from adat.masker import SimpleMasker, MASK_TOKEN\n",
    "\n",
    "from adat.dataset import InsuranceReader, OneLangSeq2SeqReader"
   ]
  },
  {
   "cell_type": "code",
   "execution_count": 2,
   "metadata": {},
   "outputs": [],
   "source": [
    "masker = SimpleMasker(p=0.15)"
   ]
  },
  {
   "cell_type": "code",
   "execution_count": 3,
   "metadata": {},
   "outputs": [],
   "source": [
    "seq2seq_reader = OneLangSeq2SeqReader(masker=masker)\n",
    "seq2seq_vocab = Vocabulary.from_files('vocab_seq2seq_masked')\n",
    "seq2seq_model = get_basic_seq2seq_model(seq2seq_vocab)\n",
    "load_weights(seq2seq_model, 'model_seq2seq_masked.th')"
   ]
  },
  {
   "cell_type": "code",
   "execution_count": 4,
   "metadata": {},
   "outputs": [],
   "source": [
    "class_reader = InsuranceReader()\n",
    "class_vocab = Vocabulary.from_files('vocab_classification')\n",
    "class_model = get_basic_classification_model(class_vocab)\n",
    "load_weights(class_model, 'model_classification.th')"
   ]
  },
  {
   "cell_type": "code",
   "execution_count": 5,
   "metadata": {},
   "outputs": [],
   "source": [
    "seq2seq_predictor = Seq2SeqPredictor(seq2seq_model, seq2seq_reader)\n",
    "class_predictor = TextClassifierPredictor(class_model, class_reader)"
   ]
  },
  {
   "cell_type": "code",
   "execution_count": 6,
   "metadata": {},
   "outputs": [],
   "source": [
    "# ! tail {test_path} -n 30"
   ]
  },
  {
   "cell_type": "code",
   "execution_count": 7,
   "metadata": {},
   "outputs": [],
   "source": [
    "sequences = \"\"\"a_1213 a_877 a_1129\n",
    "a_338 a_885 a_1\n",
    "a_1858 a_2001 a_1860 a_1852\n",
    "a_1686 a_1 a_2030 a_1737 a_1978 a_710\n",
    "a_1639 a_1640\n",
    "a_362 a_1979 a_1737 a_1191 a_1667 a_1656 a_1\n",
    "a_1 a_583 a_552 a_552 a_1978 a_598\n",
    "a_1656 a_1 a_646 a_663\n",
    "a_338\n",
    "a_77 a_1 a_1884 a_83 a_57 a_93 a_78 a_79 a_61 a_68 a_58\n",
    "a_1978 a_1 a_1191 a_1257\n",
    "a_1640\n",
    "a_1 a_760 a_775 a_759 a_611 a_545\n",
    "a_1978 a_789 a_778 a_771 a_797 a_793 a_762 a_765 a_769 a_796 a_791 a_786 a_2030 a_770 a_783 a_764 a_781 a_545 a_767 a_759\n",
    "a_1191 a_710 a_1 a_1978\n",
    "a_2113 a_87 a_58 a_83 a_1884 a_93 a_57 a_86 a_91 a_2111 a_1\n",
    "a_817\n",
    "a_1257 a_545 a_1138 a_1158 a_1930 a_639 a_2001 a_1111 a_1191 a_645 a_1286 a_1978 a_1937 a_1149 a_1\n",
    "a_876 a_1166 a_776\n",
    "a_800 a_1267 a_802\n",
    "a_1 a_93 a_58 a_1884 a_68 a_57 a_61\n",
    "a_604 a_785 a_786 a_876 a_794 a_775 a_338 a_781 a_579 a_777 a_778 a_793 a_765 a_1979 a_791 a_759 a_574 a_2001 a_545 a_719\n",
    "a_876 a_845 a_999\n",
    "a_727 a_645 a_1656 a_2001 a_791 a_621 a_809 a_545 a_794 a_1938 a_793 a_1 a_759\n",
    "a_1 a_1978\n",
    "a_2030 a_694 a_321 a_314 a_1 a_35 a_319 a_325 a_2052 a_1647 a_2001 a_318\n",
    "a_876 a_1129\n",
    "a_1785 a_645 a_723 a_1780\n",
    "a_1657 a_1978 a_2190\n",
    "a_1\"\"\".split('\\n')"
   ]
  },
  {
   "cell_type": "code",
   "execution_count": 8,
   "metadata": {},
   "outputs": [],
   "source": [
    "def predict_sequence(sequence: str, seq_to_seq_predictor: Seq2SeqPredictor = seq2seq_predictor) -> str:\n",
    "    return ' '.join(seq_to_seq_predictor.predict(sequence)['predicted_tokens'])"
   ]
  },
  {
   "cell_type": "code",
   "execution_count": 9,
   "metadata": {
    "scrolled": false
   },
   "outputs": [
    {
     "name": "stdout",
     "output_type": "stream",
     "text": [
      "Input = a_1213 a_877 a_1129\n",
      "Output = a_1213 a_877 a_1129\n",
      "\n",
      "Input = a_338 a_885 a_1\n",
      "Output = a_338 a_885 a_1\n",
      "\n",
      "Input = a_1858 a_2001 a_1860 a_1852\n",
      "Output = a_1858 a_2001 a_1860 a_1852\n",
      "\n",
      "Input = a_1686 a_1 a_2030 a_1737 a_1978 a_710\n",
      "Output = a_2030 a_1 a_2030 a_1737 a_1978 a_710\n",
      "\n",
      "Input = a_1639 a_1640\n",
      "Output = a_1639 a_1640\n",
      "\n",
      "Input = a_362 a_1979 a_1737 a_1191 a_1667 a_1656 a_1\n",
      "Output = a_362 a_1979 a_1737 a_1191 a_1667 a_1978 a_1\n",
      "\n",
      "Input = a_1 a_583 a_552 a_552 a_1978 a_598\n",
      "Output = a_1 a_583 a_552 a_552 a_1978 a_598\n",
      "\n",
      "Input = a_1656 a_1 a_646 a_663\n",
      "Output = a_1656 a_1 a_646 a_2030\n",
      "\n",
      "Input = a_338\n",
      "Output = a_338\n",
      "\n",
      "Input = a_77 a_1 a_1884 a_83 a_57 a_93 a_78 a_79 a_61 a_68 a_58\n",
      "Output = a_77 a_1 a_1884 a_83 a_57 a_93 a_78 a_79 a_59 a_68 a_58\n",
      "\n",
      "Input = a_1978 a_1 a_1191 a_1257\n",
      "Output = a_1978 a_1 a_2002 a_1257\n",
      "\n",
      "Input = a_1640\n",
      "Output = a_1640\n",
      "\n",
      "Input = a_1 a_760 a_775 a_759 a_611 a_545\n",
      "Output = a_1 a_545 a_775 a_759 a_611 a_545\n",
      "\n",
      "Input = a_1978 a_789 a_778 a_771 a_797 a_793 a_762 a_765 a_769 a_796 a_791 a_786 a_2030 a_770 a_783 a_764 a_781 a_545 a_767 a_759\n",
      "Output = a_1978 a_789 a_778 a_759 a_797 a_793 a_762 a_765 a_769 a_796 a_791 a_786 a_2030 a_770 a_783 a_781 a_781 a_545 a_767 a_759\n",
      "\n",
      "Input = a_1191 a_710 a_1 a_1978\n",
      "Output = a_1191 a_710 a_1 a_1978\n",
      "\n",
      "Input = a_2113 a_87 a_58 a_83 a_1884 a_93 a_57 a_86 a_91 a_2111 a_1\n",
      "Output = a_2113 a_87 a_58 a_83 a_1884 a_93 a_57 a_86 a_91 a_2111 a_1\n",
      "\n",
      "Input = a_817\n",
      "Output = a_817\n",
      "\n",
      "Input = a_1257 a_545 a_1138 a_1158 a_1930 a_639 a_2001 a_1111 a_1191 a_645 a_1286 a_1978 a_1937 a_1149 a_1\n",
      "Output = a_1257 a_545 a_1138 a_1158 a_1930 a_1158 a_2001 a_1111 a_1191 a_645 a_1286 a_1191 a_1937 a_1149 a_1\n",
      "\n",
      "Input = a_876 a_1166 a_776\n",
      "Output = a_876 a_1166 a_1129\n",
      "\n",
      "Input = a_800 a_1267 a_802\n",
      "Output = a_1020 a_1267 a_876\n",
      "\n",
      "Input = a_1 a_93 a_58 a_1884 a_68 a_57 a_61\n",
      "Output = a_1 a_93 a_58 a_1884 a_68 a_57 a_61\n",
      "\n",
      "Input = a_604 a_785 a_786 a_876 a_794 a_775 a_338 a_781 a_579 a_777 a_778 a_793 a_765 a_1979 a_791 a_759 a_574 a_2001 a_545 a_719\n",
      "Output = a_604 a_785 a_786 a_876 a_794 a_775 a_338 a_1 a_579 a_777 a_778 a_793 a_765 a_1979 a_791 a_759 a_574 a_2001 a_545 a_719\n",
      "\n",
      "Input = a_876 a_845 a_999\n",
      "Output = a_876 a_1129 a_999\n",
      "\n",
      "Input = a_727 a_645 a_1656 a_2001 a_791 a_621 a_809 a_545 a_794 a_1938 a_793 a_1 a_759\n",
      "Output = a_727 a_645 a_1656 a_2001 a_2001 a_1 a_545 a_545 a_794 a_1938 a_793 a_1 a_759\n",
      "\n",
      "Input = a_1 a_1978\n",
      "Output = a_1 a_1978\n",
      "\n",
      "Input = a_2030 a_694 a_321 a_314 a_1 a_35 a_319 a_325 a_2052 a_1647 a_2001 a_318\n",
      "Output = a_35 a_694 a_321 a_314 a_1 a_35 a_319 a_325 a_2052 a_1647 a_2001 a_318\n",
      "\n",
      "Input = a_876 a_1129\n",
      "Output = a_876 a_1129\n",
      "\n",
      "Input = a_1785 a_645 a_723 a_1780\n",
      "Output = a_1785 a_645 a_723 a_1780\n",
      "\n",
      "Input = a_1657 a_1978 a_2190\n",
      "Output = a_1657 a_1978 a_2190\n",
      "\n",
      "Input = a_1\n",
      "Output = a_1\n",
      "\n"
     ]
    }
   ],
   "source": [
    "for seq in sequences:\n",
    "    predicted_seq = predict_sequence(seq)\n",
    "    print(f'Input = {seq}\\nOutput = {predicted_seq}\\n')"
   ]
  },
  {
   "cell_type": "code",
   "execution_count": 10,
   "metadata": {
    "scrolled": false
   },
   "outputs": [
    {
     "name": "stdout",
     "output_type": "stream",
     "text": [
      "Input = a_338 a_885 a_1\n",
      "Masked = @MASK@ a_885 a_1\n",
      "Output = a_1 a_1 a_1\n",
      "\n",
      "Input = a_1858 a_2001 a_1860 a_1852\n",
      "Masked = @MASK@ a_2001 a_1860 a_1852\n",
      "Output = a_1860 a_2001 a_1860 a_1852\n",
      "\n",
      "Input = a_1686 a_1 a_2030 a_1737 a_1978 a_710\n",
      "Masked = a_1686 a_1 a_2030 a_1737 a_1978 @MASK@\n",
      "Output = a_1686 a_1 a_2030 a_1737 a_1978 a_2030\n",
      "\n",
      "Input = a_362 a_1979 a_1737 a_1191 a_1667 a_1656 a_1\n",
      "Masked = a_362 a_1979 a_1737 @MASK@ a_1667 @MASK@ @MASK@\n",
      "Output = a_362 a_1979 a_1 a_1 a_1667 a_1 a_1\n",
      "\n",
      "Input = a_1 a_583 a_552 a_552 a_1978 a_598\n",
      "Masked = a_1 a_583 a_552 a_552 @MASK@ a_598\n",
      "Output = a_1 a_583 a_552 a_552 a_1978 a_1978\n",
      "\n",
      "Input = a_1656 a_1 a_646 a_663\n",
      "Masked = @MASK@ a_1 a_646 a_663\n",
      "Output = a_1656 a_1 a_1656 a_663\n",
      "\n",
      "Input = a_1978 a_1 a_1191 a_1257\n",
      "Masked = a_1978 @MASK@ @MASK@ a_1257\n",
      "Output = a_1978 a_1 a_1 a_1257\n",
      "\n",
      "Input = a_1 a_760 a_775 a_759 a_611 a_545\n",
      "Masked = a_1 a_760 a_775 @MASK@ a_611 a_545\n",
      "Output = a_545 a_760 a_775 a_759 a_611 a_545\n",
      "\n",
      "Input = a_1978 a_789 a_778 a_771 a_797 a_793 a_762 a_765 a_769 a_796 a_791 a_786 a_2030 a_770 a_783 a_764 a_781 a_545 a_767 a_759\n",
      "Masked = a_1978 a_789 a_778 a_771 a_797 @MASK@ @MASK@ a_765 a_769 a_796 a_791 a_786 a_2030 a_770 @MASK@ a_764 a_781 a_545 a_767 @MASK@\n",
      "Output = a_765 a_789 a_778 a_771 a_797 a_1 a_1 a_765 a_769 a_796 a_1 a_786 a_2030 a_770 a_1 a_764 a_781 a_545 a_767 a_759\n",
      "\n",
      "Input = a_2113 a_87 a_58 a_83 a_1884 a_93 a_57 a_86 a_91 a_2111 a_1\n",
      "Masked = @MASK@ a_87 a_58 a_83 @MASK@ a_93 a_57 a_86 a_91 a_2111 a_1\n",
      "Output = a_57 a_87 a_58 a_83 a_57 a_1 a_57 a_86 a_91 a_2111 a_1\n",
      "\n",
      "Input = a_1257 a_545 a_1138 a_1158 a_1930 a_639 a_2001 a_1111 a_1191 a_645 a_1286 a_1978 a_1937 a_1149 a_1\n",
      "Masked = a_1257 @MASK@ a_1138 a_1158 @MASK@ a_639 a_2001 a_1111 a_1191 a_645 a_1286 a_1978 a_1937 a_1149 a_1\n",
      "Output = a_1257 a_1191 a_1191 a_1158 a_1191 a_639 a_2001 a_1111 a_1191 a_1286 a_1286 a_1978 a_1149 a_1149 a_1\n",
      "\n",
      "Input = a_800 a_1267 a_802\n",
      "Masked = a_800 a_1267 @MASK@\n",
      "Output = a_1020 a_1267 a_876\n",
      "\n",
      "Input = a_1 a_93 a_58 a_1884 a_68 a_57 a_61\n",
      "Masked = a_1 a_93 @MASK@ a_1884 @MASK@ a_57 a_61\n",
      "Output = a_93 a_93 a_57 a_1884 a_57 a_57 a_61\n",
      "\n",
      "Input = a_604 a_785 a_786 a_876 a_794 a_775 a_338 a_781 a_579 a_777 a_778 a_793 a_765 a_1979 a_791 a_759 a_574 a_2001 a_545 a_719\n",
      "Masked = @MASK@ a_785 a_786 a_876 a_794 a_775 @MASK@ a_781 a_579 a_777 a_778 @MASK@ a_765 a_1979 a_791 a_759 a_574 a_2001 @MASK@ a_719\n",
      "Output = a_759 a_785 a_786 a_793 a_794 a_775 a_809 a_781 a_579 a_777 a_778 a_765 a_765 a_1979 a_791 a_1 a_574 a_2001 a_764 a_719\n",
      "\n",
      "Input = a_727 a_645 a_1656 a_2001 a_791 a_621 a_809 a_545 a_794 a_1938 a_793 a_1 a_759\n",
      "Masked = @MASK@ a_645 a_1656 a_2001 a_791 a_621 a_809 a_545 a_794 a_1938 a_793 a_1 a_759\n",
      "Output = a_545 a_645 a_1656 a_2001 a_791 a_621 a_545 a_545 a_759 a_1938 a_793 a_759 a_759\n",
      "\n",
      "Input = a_2030 a_694 a_321 a_314 a_1 a_35 a_319 a_325 a_2052 a_1647 a_2001 a_318\n",
      "Masked = a_2030 a_694 a_321 a_314 a_1 a_35 @MASK@ a_325 a_2052 a_1647 a_2001 a_318\n",
      "Output = a_2030 a_694 a_321 a_314 a_1 a_35 a_1656 a_325 a_2052 a_1647 a_2001 a_318\n",
      "\n"
     ]
    }
   ],
   "source": [
    "for seq in sequences:\n",
    "    masked_seq = masker.mask(seq)\n",
    "    predicted_seq = predict_sequence(masked_seq)\n",
    "    if MASK_TOKEN in masked_seq:\n",
    "        print(f'Input = {seq}\\nMasked = {masked_seq}\\nOutput = {predicted_seq}\\n')"
   ]
  },
  {
   "cell_type": "markdown",
   "metadata": {},
   "source": [
    "# Random pertrubations"
   ]
  },
  {
   "cell_type": "code",
   "execution_count": 11,
   "metadata": {},
   "outputs": [],
   "source": [
    "import torch\n",
    "from allennlp.data.iterators import BasicIterator"
   ]
  },
  {
   "cell_type": "code",
   "execution_count": 12,
   "metadata": {},
   "outputs": [],
   "source": [
    "iterator = BasicIterator(batch_size=1)\n",
    "iterator.index_with(seq2seq_vocab)"
   ]
  },
  {
   "cell_type": "code",
   "execution_count": 13,
   "metadata": {},
   "outputs": [],
   "source": [
    "instances = [seq2seq_reader.text_to_instance(seq) for seq in sequences]"
   ]
  },
  {
   "cell_type": "code",
   "execution_count": 14,
   "metadata": {
    "scrolled": false
   },
   "outputs": [
    {
     "name": "stdout",
     "output_type": "stream",
     "text": [
      "Input          = a_1213 a_877 a_1129\n",
      "Output(TRUE)   = a_1213 a_877 a_1129\n",
      "Output(RANDOM) = a_1213 a_1213 a_1213 a_2031\n",
      "Probability `0.0` ->>> `0.0003`\n",
      "\n",
      "Input          = a_338 a_885 a_1\n",
      "Output(TRUE)   = a_338 a_885 a_1\n",
      "Output(RANDOM) = a_2032 a_1656 a_2031 a_2031\n",
      "Probability `0.0033` ->>> `0.0278`\n",
      "\n",
      "Input          = a_1686 a_1 a_2030 a_1737 a_1978 a_710\n",
      "Output(TRUE)   = a_2030 a_1 a_2030 a_1737 a_1978 a_710\n",
      "Output(RANDOM) = a_340 a_340 a_2030 a_1979 a_340 a_340 a_1849\n",
      "Probability `0.0056` ->>> `0.0547`\n",
      "\n",
      "Input          = a_1639 a_1640\n",
      "Output(TRUE)   = a_1639 a_1640\n",
      "Output(RANDOM) = a_1639 a_1639 a_1104\n",
      "Probability `0.0004` ->>> `0.0085`\n",
      "\n",
      "Input          = a_362 a_1979 a_1737 a_1191 a_1667 a_1656 a_1\n",
      "Output(TRUE)   = a_362 a_1979 a_1737 a_1191 a_1667 a_1656 a_1\n",
      "Output(RANDOM) = a_362 a_1979 a_1979 a_340 a_2033 a_2032 a_340 a_1995 a_2031 a_2032\n",
      "Probability `0.0198` ->>> `0.3236`\n",
      "\n",
      "Input          = a_1 a_583 a_552 a_552 a_1978 a_598\n",
      "Output(TRUE)   = a_1 a_583 a_552 a_1978 a_1978 a_598\n",
      "Output(RANDOM) = a_2033 a_583 a_348 a_340 a_1979 a_2077 a_2077\n",
      "Probability `0.0053` ->>> `0.0412`\n",
      "\n",
      "Input          = a_1656 a_1 a_646 a_663\n",
      "Output(TRUE)   = a_1656 a_1 a_2001 a_663\n",
      "Output(RANDOM) = a_1100 a_2031 a_2033 a_2032 a_1657\n",
      "Probability `0.0056` ->>> `0.0303`\n",
      "\n",
      "Input          = a_338\n",
      "Output(TRUE)   = a_338\n",
      "Output(RANDOM) = a_1717\n",
      "Probability `0.0018` ->>> `0.0507`\n",
      "\n",
      "Input          = a_77 a_1 a_1884 a_83 a_57 a_93 a_78 a_79 a_61 a_68 a_58\n",
      "Output(TRUE)   = a_77 a_1 a_1884 a_83 a_57 a_93 a_78 a_79 a_59 a_68 a_58\n",
      "Output(RANDOM) = a_1848 a_1995 a_391 a_1100 a_93 a_58 a_57 a_68 a_78 a_68 a_1104 a_1626 a_2032 a_1979 a_68 a_68 a_68 a_1626 a_885\n",
      "Probability `0.0107` ->>> `0.0728`\n",
      "\n",
      "Input          = a_1978 a_1 a_1191 a_1257\n",
      "Output(TRUE)   = a_1978 a_1 a_1191 a_1257\n",
      "Output(RANDOM) = a_340 a_2031 a_340 a_1257 a_340\n",
      "Probability `0.0027` ->>> `0.0167`\n",
      "\n",
      "Input          = a_1640\n",
      "Output(TRUE)   = a_1640\n",
      "Output(RANDOM) = a_1639\n",
      "Probability `0.001` ->>> `0.0071`\n",
      "\n",
      "Input          = a_1 a_760 a_775 a_759 a_611 a_545\n",
      "Output(TRUE)   = a_1 a_545 a_775 a_759 a_611 a_545\n",
      "Output(RANDOM) = a_2031 a_2033 a_1003 a_2032 a_1100 a_545 a_545 a_2032\n",
      "Probability `0.0067` ->>> `0.0734`\n",
      "\n",
      "Input          = a_1978 a_789 a_778 a_771 a_797 a_793 a_762 a_765 a_769 a_796 a_791 a_786 a_2030 a_770 a_783 a_764 a_781 a_545 a_767 a_759\n",
      "Output(TRUE)   = a_1978 a_789 a_778 a_771 a_797 a_759 a_762 a_759 a_769 a_791 a_791 a_545 a_2030 a_783 a_783 a_764 a_545 a_545 a_767 a_759\n",
      "Output(RANDOM) = a_1978 a_1136 a_770 a_2032 a_771 a_1979 a_1717 a_2065 a_1146 a_1176 a_737 a_1003 a_1717 a_737 a_340 a_340 a_340 a_885 a_1120 a_1979\n",
      "Probability `0.0013` ->>> `0.0196`\n",
      "\n",
      "Input          = a_1191 a_710 a_1 a_1978\n",
      "Output(TRUE)   = a_2030 a_710 a_1 a_1978\n",
      "Output(RANDOM) = a_2033 a_710 a_2031 a_1978 a_1979\n",
      "Probability `0.0039` ->>> `0.0254`\n",
      "\n",
      "Input          = a_2113 a_87 a_58 a_83 a_1884 a_93 a_57 a_86 a_91 a_2111 a_1\n",
      "Output(TRUE)   = a_2113 a_87 a_58 a_83 a_1884 a_93 a_1 a_86 a_57 a_2111 a_1\n",
      "Output(RANDOM) = a_93 a_1025 a_1543 a_68 a_58 a_1884 a_2032 a_340 a_340 a_2032 a_1657 a_1626 a_2032 a_1100 a_1100 a_1100 a_2071 a_1100 a_2071 a_2032\n",
      "Probability `0.0091` ->>> `0.2634`\n",
      "\n",
      "Input          = a_817\n",
      "Output(TRUE)   = a_817\n",
      "Output(RANDOM) = a_1003\n",
      "Probability `0.0119` ->>> `0.0884`\n",
      "\n",
      "Input          = a_1257 a_545 a_1138 a_1158 a_1930 a_639 a_2001 a_1111 a_1191 a_645 a_1286 a_1978 a_1937 a_1149 a_1\n",
      "Output(TRUE)   = a_1257 a_1191 a_1138 a_1158 a_1930 a_1158 a_2001 a_1111 a_1191 a_645 a_1286 a_1978 a_1937 a_1 a_1\n",
      "Output(RANDOM) = a_1257 a_340 a_1138 a_1931 a_1158 a_1931 a_1884 a_1979 a_2001 a_2001 a_1927 a_1979 a_2063 a_2032 a_1657 a_340 a_2032 a_340 a_347 a_2032\n",
      "Probability `0.0135` ->>> `0.3693`\n",
      "\n",
      "Input          = a_876 a_1166 a_776\n",
      "Output(TRUE)   = a_876 a_1166 a_1129\n",
      "Output(RANDOM) = a_1391 a_1003 a_1176 a_1175\n",
      "Probability `0.0001` ->>> `0.0015`\n",
      "\n",
      "Input          = a_800 a_1267 a_802\n",
      "Output(TRUE)   = a_800 a_802 a_802\n",
      "Output(RANDOM) = a_1488 a_2031 a_802 a_2032\n",
      "Probability `0.0022` ->>> `0.0157`\n",
      "\n",
      "Input          = a_1 a_93 a_58 a_1884 a_68 a_57 a_61\n",
      "Output(TRUE)   = a_93 a_93 a_58 a_1884 a_68 a_1 a_61\n",
      "Output(RANDOM) = a_2063 a_93 a_58 a_68 a_1884 a_2032 a_181 a_1543 a_58 a_2071 a_1626\n",
      "Probability `0.0021` ->>> `0.017`\n",
      "\n",
      "Input          = a_604 a_785 a_786 a_876 a_794 a_775 a_338 a_781 a_579 a_777 a_778 a_793 a_765 a_1979 a_791 a_759 a_574 a_2001 a_545 a_719\n",
      "Output(TRUE)   = a_604 a_785 a_786 a_876 a_794 a_775 a_338 a_781 a_579 a_777 a_778 a_793 a_765 a_1979 a_791 a_759 a_574 a_759 a_545 a_719\n",
      "Output(RANDOM) = a_579 a_785 a_1017 a_216 a_1003 a_794 a_181 a_2032 a_1657 a_2032 a_2033 a_2032 a_1003 a_180 a_778 a_1234 a_2032 a_2031 a_2031 a_545\n",
      "Probability `0.043` ->>> `0.3829`\n",
      "\n",
      "Input          = a_876 a_845 a_999\n",
      "Output(TRUE)   = a_876 a_845 a_759\n",
      "Output(RANDOM) = a_1041 a_845 a_1003 a_1626\n",
      "Probability `0.0009` ->>> `0.0075`\n",
      "\n",
      "Input          = a_727 a_645 a_1656 a_2001 a_791 a_621 a_809 a_545 a_794 a_1938 a_793 a_1 a_759\n",
      "Output(TRUE)   = a_759 a_645 a_1656 a_2001 a_791 a_621 a_809 a_545 a_794 a_1938 a_793 a_1 a_759\n",
      "Output(RANDOM) = a_1100 a_2032 a_340 a_2001 a_2077 a_2032 a_1785 a_1100 a_776 a_778 a_1002 a_545 a_1100 a_1003 a_1931 a_2032 a_545 a_778 a_770 a_1100\n",
      "Probability `0.0057` ->>> `0.347`\n",
      "\n",
      "Input          = a_1 a_1978\n",
      "Output(TRUE)   = a_1 a_1978\n",
      "Output(RANDOM) = a_2031 a_1979 a_340\n",
      "Probability `0.0014` ->>> `0.0213`\n",
      "\n",
      "Input          = a_2030 a_694 a_321 a_314 a_1 a_35 a_319 a_325 a_2052 a_1647 a_2001 a_318\n",
      "Output(TRUE)   = a_2030 a_694 a_1978 a_314 a_1 a_35 a_319 a_325 a_2052 a_1647 a_2001 a_318\n",
      "Output(RANDOM) = a_2030 a_181 a_340 a_1234 a_1488 a_1488 a_1488 a_1488 a_825 a_1488 a_646 a_2032 a_2052 a_646 a_2032 a_347 a_2001 a_2001 a_2071 a_2032\n",
      "Probability `0.0239` ->>> `0.3554`\n",
      "\n",
      "Input          = a_876 a_1129\n",
      "Output(TRUE)   = a_876 a_1129\n",
      "Output(RANDOM) = a_1401 a_1176 a_2031\n",
      "Probability `0.0001` ->>> `0.0003`\n",
      "\n",
      "Input          = a_1785 a_645 a_723 a_1780\n",
      "Output(TRUE)   = a_1785 a_645 a_723 a_1780\n",
      "Output(RANDOM) = a_1785 a_2032 a_2032 a_1013 a_2033\n",
      "Probability `0.0288` ->>> `0.2211`\n",
      "\n",
      "Input          = a_1657 a_1978 a_2190\n",
      "Output(TRUE)   = a_1657 a_1978 a_2190\n",
      "Output(RANDOM) = a_1657 a_1979 a_1657 a_2077\n",
      "Probability `0.0047` ->>> `0.0287`\n",
      "\n",
      "Input          = a_1\n",
      "Output(TRUE)   = a_1\n",
      "Output(RANDOM) = a_2063\n",
      "Probability `0.0058` ->>> `0.134`\n",
      "\n"
     ]
    }
   ],
   "source": [
    "seq2seq_model.training = False\n",
    "num_attempts = 50\n",
    "should_increase_at_rate = 5.0\n",
    "\n",
    "with torch.no_grad():\n",
    "    for i, example in enumerate(iterator(instances, num_epochs=1, shuffle=False)):\n",
    "        \n",
    "        input_seq = sequences[i]\n",
    "        true_output = seq2seq_model.forward(**example, random_perturbations=False)\n",
    "        true_decoded = ' '.join(seq2seq_model.decode(true_output)['predicted_tokens'][0])\n",
    "        \n",
    "        if true_decoded:\n",
    "            true_class_pred = class_predictor.predict(true_decoded)['probs'][1]\n",
    "            class_pred = true_class_pred\n",
    "\n",
    "            count = 0\n",
    "            while class_pred / true_class_pred <= should_increase_at_rate and count <= num_attempts:\n",
    "                count += 1\n",
    "                output = seq2seq_model.forward(**example, random_perturbations=True)\n",
    "                decoded = ' '.join(seq2seq_model.decode(output)['predicted_tokens'][0])\n",
    "                class_pred = class_predictor.predict(decoded)['probs'][1]\n",
    "\n",
    "                if class_pred / true_class_pred >= should_increase_at_rate:\n",
    "                    print(f'Input          = {input_seq}\\nOutput(TRUE)   = {true_decoded}\\nOutput(RANDOM) = {decoded}')\n",
    "                    print(f'Probability `{round(true_class_pred, 4)}` ->>> `{round(class_pred, 4)}`\\n')\n",
    "                    break\n"
   ]
  },
  {
   "cell_type": "code",
   "execution_count": null,
   "metadata": {},
   "outputs": [],
   "source": []
  },
  {
   "cell_type": "code",
   "execution_count": null,
   "metadata": {},
   "outputs": [],
   "source": []
  },
  {
   "cell_type": "markdown",
   "metadata": {},
   "source": [
    "# Gradient test"
   ]
  },
  {
   "cell_type": "code",
   "execution_count": 10,
   "metadata": {},
   "outputs": [],
   "source": [
    "from allennlp.data.iterators import BasicIterator"
   ]
  },
  {
   "cell_type": "code",
   "execution_count": 11,
   "metadata": {},
   "outputs": [],
   "source": [
    "seq2seq_iterator = BasicIterator()\n",
    "seq2seq_iterator.index_with(seq2seq_vocab)"
   ]
  },
  {
   "cell_type": "code",
   "execution_count": 12,
   "metadata": {},
   "outputs": [],
   "source": [
    "class_iterator = BasicIterator()\n",
    "class_iterator.index_with(class_vocab)"
   ]
  },
  {
   "cell_type": "code",
   "execution_count": 13,
   "metadata": {},
   "outputs": [
    {
     "data": {
      "text/plain": [
       "<allennlp.data.instance.Instance at 0x7fc94efab438>"
      ]
     },
     "execution_count": 13,
     "metadata": {},
     "output_type": "execute_result"
    }
   ],
   "source": [
    "seq2seq_reader.text_to_instance('a_1978 a_645')"
   ]
  },
  {
   "cell_type": "code",
   "execution_count": null,
   "metadata": {},
   "outputs": [],
   "source": [
    "seq2seq_model()"
   ]
  },
  {
   "cell_type": "code",
   "execution_count": null,
   "metadata": {},
   "outputs": [],
   "source": []
  },
  {
   "cell_type": "code",
   "execution_count": null,
   "metadata": {},
   "outputs": [],
   "source": []
  },
  {
   "cell_type": "code",
   "execution_count": null,
   "metadata": {},
   "outputs": [],
   "source": []
  }
 ],
 "metadata": {
  "kernelspec": {
   "display_name": "Python 3",
   "language": "python",
   "name": "python3"
  },
  "language_info": {
   "codemirror_mode": {
    "name": "ipython",
    "version": 3
   },
   "file_extension": ".py",
   "mimetype": "text/x-python",
   "name": "python",
   "nbconvert_exporter": "python",
   "pygments_lexer": "ipython3",
   "version": "3.6.8"
  }
 },
 "nbformat": 4,
 "nbformat_minor": 2
}
