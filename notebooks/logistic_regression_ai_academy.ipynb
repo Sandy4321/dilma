{
 "cells": [
  {
   "cell_type": "code",
   "execution_count": 1,
   "metadata": {},
   "outputs": [],
   "source": [
    "import sys\n",
    "sys.path.append('..')\n",
    "import pandas as pd\n",
    "from adat.models.classification_model import LogisticRegressionOnTfIdf\n",
    "from sklearn.metrics import roc_auc_score, f1_score"
   ]
  },
  {
   "cell_type": "code",
   "execution_count": 2,
   "metadata": {},
   "outputs": [],
   "source": [
    "train_data = pd.read_csv('../data/ai_academy_data/train.csv')\n",
    "test_data = pd.read_csv('../data/ai_academy_data/test.csv')"
   ]
  },
  {
   "cell_type": "code",
   "execution_count": 3,
   "metadata": {},
   "outputs": [
    {
     "data": {
      "text/html": [
       "<div>\n",
       "<style scoped>\n",
       "    .dataframe tbody tr th:only-of-type {\n",
       "        vertical-align: middle;\n",
       "    }\n",
       "\n",
       "    .dataframe tbody tr th {\n",
       "        vertical-align: top;\n",
       "    }\n",
       "\n",
       "    .dataframe thead th {\n",
       "        text-align: right;\n",
       "    }\n",
       "</style>\n",
       "<table border=\"1\" class=\"dataframe\">\n",
       "  <thead>\n",
       "    <tr style=\"text-align: right;\">\n",
       "      <th></th>\n",
       "      <th>sequences</th>\n",
       "      <th>labels</th>\n",
       "    </tr>\n",
       "  </thead>\n",
       "  <tbody>\n",
       "    <tr>\n",
       "      <th>0</th>\n",
       "      <td>bin3_trans34 bin3_trans34 bin1_trans1 bin1_tra...</td>\n",
       "      <td>1</td>\n",
       "    </tr>\n",
       "    <tr>\n",
       "      <th>1</th>\n",
       "      <td>bin3_trans144 bin1_trans3 bin2_trans3 bin0_tra...</td>\n",
       "      <td>3</td>\n",
       "    </tr>\n",
       "    <tr>\n",
       "      <th>2</th>\n",
       "      <td>bin1_trans3 bin4_trans1 bin4_trans1 bin2_trans...</td>\n",
       "      <td>1</td>\n",
       "    </tr>\n",
       "    <tr>\n",
       "      <th>3</th>\n",
       "      <td>bin1_trans4 bin1_trans3 bin0_trans1 bin1_trans...</td>\n",
       "      <td>2</td>\n",
       "    </tr>\n",
       "    <tr>\n",
       "      <th>4</th>\n",
       "      <td>bin2_trans2 bin4_trans1 bin2_trans25 bin1_tran...</td>\n",
       "      <td>3</td>\n",
       "    </tr>\n",
       "    <tr>\n",
       "      <th>...</th>\n",
       "      <td>...</td>\n",
       "      <td>...</td>\n",
       "    </tr>\n",
       "    <tr>\n",
       "      <th>199995</th>\n",
       "      <td>bin4_trans37 bin2_trans82 bin2_trans24 bin4_tr...</td>\n",
       "      <td>2</td>\n",
       "    </tr>\n",
       "    <tr>\n",
       "      <th>199996</th>\n",
       "      <td>bin4_trans11 bin4_trans4 bin1_trans25 bin1_tra...</td>\n",
       "      <td>3</td>\n",
       "    </tr>\n",
       "    <tr>\n",
       "      <th>199997</th>\n",
       "      <td>bin2_trans37 bin3_trans106 bin2_trans37 bin3_t...</td>\n",
       "      <td>1</td>\n",
       "    </tr>\n",
       "    <tr>\n",
       "      <th>199998</th>\n",
       "      <td>bin3_trans1 bin0_trans9 bin2_trans4 bin0_trans...</td>\n",
       "      <td>1</td>\n",
       "    </tr>\n",
       "    <tr>\n",
       "      <th>199999</th>\n",
       "      <td>bin0_trans4 bin2_trans1 bin1_trans4 bin4_trans...</td>\n",
       "      <td>3</td>\n",
       "    </tr>\n",
       "  </tbody>\n",
       "</table>\n",
       "<p>200000 rows × 2 columns</p>\n",
       "</div>"
      ],
      "text/plain": [
       "                                                sequences  labels\n",
       "0       bin3_trans34 bin3_trans34 bin1_trans1 bin1_tra...       1\n",
       "1       bin3_trans144 bin1_trans3 bin2_trans3 bin0_tra...       3\n",
       "2       bin1_trans3 bin4_trans1 bin4_trans1 bin2_trans...       1\n",
       "3       bin1_trans4 bin1_trans3 bin0_trans1 bin1_trans...       2\n",
       "4       bin2_trans2 bin4_trans1 bin2_trans25 bin1_tran...       3\n",
       "...                                                   ...     ...\n",
       "199995  bin4_trans37 bin2_trans82 bin2_trans24 bin4_tr...       2\n",
       "199996  bin4_trans11 bin4_trans4 bin1_trans25 bin1_tra...       3\n",
       "199997  bin2_trans37 bin3_trans106 bin2_trans37 bin3_t...       1\n",
       "199998  bin3_trans1 bin0_trans9 bin2_trans4 bin0_trans...       1\n",
       "199999  bin0_trans4 bin2_trans1 bin1_trans4 bin4_trans...       3\n",
       "\n",
       "[200000 rows x 2 columns]"
      ]
     },
     "execution_count": 3,
     "metadata": {},
     "output_type": "execute_result"
    }
   ],
   "source": [
    "train_data"
   ]
  },
  {
   "cell_type": "code",
   "execution_count": 4,
   "metadata": {},
   "outputs": [],
   "source": [
    "train_x = train_data.sequences.values\n",
    "train_y = train_data.labels.values\n",
    "\n",
    "test_x = test_data.sequences.values\n",
    "test_y = test_data.labels.values"
   ]
  },
  {
   "cell_type": "code",
   "execution_count": 5,
   "metadata": {},
   "outputs": [],
   "source": [
    "model = LogisticRegressionOnTfIdf()"
   ]
  },
  {
   "cell_type": "code",
   "execution_count": 6,
   "metadata": {},
   "outputs": [
    {
     "data": {
      "text/plain": [
       "<adat.models.classification_model.LogisticRegressionOnTfIdf at 0x7efc4db12eb8>"
      ]
     },
     "execution_count": 6,
     "metadata": {},
     "output_type": "execute_result"
    }
   ],
   "source": [
    "model.fit(train_x, train_y)"
   ]
  },
  {
   "cell_type": "code",
   "execution_count": 7,
   "metadata": {},
   "outputs": [],
   "source": [
    "import joblib"
   ]
  },
  {
   "cell_type": "code",
   "execution_count": 9,
   "metadata": {},
   "outputs": [
    {
     "data": {
      "text/plain": [
       "['../results/ai_academy_data/logit_tfidf.model']"
      ]
     },
     "execution_count": 9,
     "metadata": {},
     "output_type": "execute_result"
    }
   ],
   "source": [
    "joblib.dump(model, '../results/ai_academy_data/logit_tfidf.model')"
   ]
  },
  {
   "cell_type": "code",
   "execution_count": null,
   "metadata": {},
   "outputs": [],
   "source": []
  },
  {
   "cell_type": "code",
   "execution_count": null,
   "metadata": {},
   "outputs": [],
   "source": []
  },
  {
   "cell_type": "code",
   "execution_count": 10,
   "metadata": {},
   "outputs": [],
   "source": [
    "probs = model.predict(test_x)"
   ]
  },
  {
   "cell_type": "code",
   "execution_count": 31,
   "metadata": {},
   "outputs": [
    {
     "name": "stdout",
     "output_type": "stream",
     "text": [
      "ROC AUC = 0.7049430872156314\n"
     ]
    }
   ],
   "source": [
    "auc = roc_auc_score(y_true=test_y, y_score=probs, multi_class='ovr', average='macro')\n",
    "print(f'ROC AUC = {auc}')"
   ]
  },
  {
   "cell_type": "code",
   "execution_count": null,
   "metadata": {},
   "outputs": [],
   "source": []
  },
  {
   "cell_type": "code",
   "execution_count": null,
   "metadata": {},
   "outputs": [],
   "source": []
  },
  {
   "cell_type": "code",
   "execution_count": null,
   "metadata": {},
   "outputs": [],
   "source": []
  },
  {
   "cell_type": "code",
   "execution_count": 22,
   "metadata": {},
   "outputs": [
    {
     "data": {
      "text/plain": [
       "array([1, 1, 3, ..., 3, 2, 0])"
      ]
     },
     "execution_count": 22,
     "metadata": {},
     "output_type": "execute_result"
    }
   ],
   "source": []
  },
  {
   "cell_type": "code",
   "execution_count": 11,
   "metadata": {},
   "outputs": [],
   "source": [
    "import numpy as np"
   ]
  },
  {
   "cell_type": "code",
   "execution_count": 23,
   "metadata": {},
   "outputs": [
    {
     "name": "stdout",
     "output_type": "stream",
     "text": [
      "Accuracy = 0.4359387207445905\n"
     ]
    }
   ],
   "source": [
    "acc = (test_y == probs.argmax(axis=1)).mean()\n",
    "\n",
    "print(f'Accuracy = {acc}')"
   ]
  },
  {
   "cell_type": "code",
   "execution_count": 13,
   "metadata": {},
   "outputs": [
    {
     "name": "stdout",
     "output_type": "stream",
     "text": [
      "Accuracy random baseline = 0.2481673969903869\n"
     ]
    }
   ],
   "source": [
    "acc = (test_y == np.random.choice(test_y, len(test_y), replace=False)).mean()\n",
    "\n",
    "print(f'Accuracy random baseline = {acc}')"
   ]
  },
  {
   "cell_type": "markdown",
   "metadata": {},
   "source": [
    "# Adversarial MCMC sampler vs Random sampler"
   ]
  },
  {
   "cell_type": "code",
   "execution_count": null,
   "metadata": {},
   "outputs": [],
   "source": []
  },
  {
   "cell_type": "code",
   "execution_count": null,
   "metadata": {},
   "outputs": [],
   "source": []
  },
  {
   "cell_type": "code",
   "execution_count": null,
   "metadata": {},
   "outputs": [],
   "source": []
  },
  {
   "cell_type": "code",
   "execution_count": 14,
   "metadata": {},
   "outputs": [],
   "source": [
    "original = pd.read_csv('../data/ai_academy_data/random_1000.csv')"
   ]
  },
  {
   "cell_type": "code",
   "execution_count": 15,
   "metadata": {},
   "outputs": [],
   "source": [
    "output_random = pd.read_csv('../results/ai_academy_data/random_results/results.csv')\n",
    "output_mcmc = pd.read_csv('../results/ai_academy_data/mcmc_results/results.csv')\n",
    "output_gradient = pd.read_csv('../results/ai_academy_data/gradient_results/results.csv')"
   ]
  },
  {
   "cell_type": "code",
   "execution_count": 17,
   "metadata": {},
   "outputs": [],
   "source": [
    "output_random = output_random.join(original)\n",
    "output_mcmc = output_mcmc.join(original)\n",
    "output_gradient = output_gradient.join(original)"
   ]
  },
  {
   "cell_type": "code",
   "execution_count": 19,
   "metadata": {},
   "outputs": [],
   "source": [
    "output_gradient[['sequences', 'generated_sequence', 'labels']].to_csv('../results/ai_academy_data/gradient_results/results_for_eval.csv')"
   ]
  },
  {
   "cell_type": "code",
   "execution_count": null,
   "metadata": {},
   "outputs": [],
   "source": []
  },
  {
   "cell_type": "code",
   "execution_count": 93,
   "metadata": {},
   "outputs": [],
   "source": [
    "from adat.utils import calculate_wer"
   ]
  },
  {
   "cell_type": "code",
   "execution_count": 94,
   "metadata": {},
   "outputs": [],
   "source": [
    "def calculate_nad(probs_orig, probs_gen, seqs_orig, seqs_gen):\n",
    "    wers = np.array([calculate_wer(seqs_orig[i], seqs_gen[i]) for i in range(len(seqs_orig))])\n",
    "    errs = (probs_orig.argmax(axis=1) != probs_gen.argmax(axis=1))\n",
    "    return np.mean(errs/(1e-6 + wers))"
   ]
  },
  {
   "cell_type": "code",
   "execution_count": null,
   "metadata": {},
   "outputs": [],
   "source": []
  },
  {
   "cell_type": "code",
   "execution_count": 95,
   "metadata": {},
   "outputs": [],
   "source": [
    "def calculate_metrics(model, labels, seqs_orig, seqs_gen):\n",
    "    probs_orig = model.predict(seqs_orig)\n",
    "    probs_gen = model.predict(seqs_gen)\n",
    "    acc_orig = (labels == probs_orig.argmax(axis=1)).mean()\n",
    "    acc_gen = (labels == probs_gen.argmax(axis=1)).mean()\n",
    "    proba_orig = probs_orig[np.arange(len(labels)), labels]\n",
    "    proba_gen = probs_gen[np.arange(len(labels)), labels]\n",
    "    metrics = {}\n",
    "    metrics['accuracy_drop'] = acc_orig - acc_gen\n",
    "    metrics['probability_drop'] = (proba_orig - proba_gen).mean() \n",
    "    metrics['WER'] = np.mean([calculate_wer(seqs_orig[i], seqs_gen[i]) \n",
    "                              for i in range(len(seqs_orig))])\n",
    "    metrics['NAD'] = calculate_nad(probs_orig, probs_gen, seqs_orig, seqs_gen)\n",
    "    return metrics"
   ]
  },
  {
   "cell_type": "code",
   "execution_count": 96,
   "metadata": {},
   "outputs": [
    {
     "data": {
      "text/plain": [
       "{'accuracy_drop': 0.20100000000000007,\n",
       " 'probability_drop': 0.08007158437985157,\n",
       " 'WER': 2.033,\n",
       " 'NAD': 0.18489311223573912}"
      ]
     },
     "execution_count": 96,
     "metadata": {},
     "output_type": "execute_result"
    }
   ],
   "source": [
    "calculate_metrics(model,\n",
    "                  output_random['labels'].values,\n",
    "                  output_random['sequences'].values,\n",
    "                  output_random['generated_sequence'].values)"
   ]
  },
  {
   "cell_type": "code",
   "execution_count": 97,
   "metadata": {},
   "outputs": [
    {
     "data": {
      "text/plain": [
       "{'accuracy_drop': 0.14700000000000008,\n",
       " 'probability_drop': 0.06780377937668718,\n",
       " 'WER': 1.597,\n",
       " 'NAD': 0.11396344511351732}"
      ]
     },
     "execution_count": 97,
     "metadata": {},
     "output_type": "execute_result"
    }
   ],
   "source": [
    "calculate_metrics(model,\n",
    "                  output_mcmc['labels'].values,\n",
    "                  output_mcmc['sequences'].values,\n",
    "                  output_mcmc['generated_sequence'].values)"
   ]
  },
  {
   "cell_type": "code",
   "execution_count": 98,
   "metadata": {},
   "outputs": [
    {
     "data": {
      "text/plain": [
       "{'accuracy_drop': 0.30700000000000005,\n",
       " 'probability_drop': 0.16628604597012447,\n",
       " 'WER': 3.054,\n",
       " 'NAD': 0.12520621011462696}"
      ]
     },
     "execution_count": 98,
     "metadata": {},
     "output_type": "execute_result"
    }
   ],
   "source": [
    "calculate_metrics(model,\n",
    "                  output_gradient['labels'].values,\n",
    "                  output_gradient['sequences'].values,\n",
    "                  output_gradient['generated_sequence'].values)"
   ]
  },
  {
   "cell_type": "code",
   "execution_count": null,
   "metadata": {},
   "outputs": [],
   "source": []
  },
  {
   "cell_type": "code",
   "execution_count": null,
   "metadata": {},
   "outputs": [],
   "source": []
  },
  {
   "cell_type": "code",
   "execution_count": null,
   "metadata": {},
   "outputs": [],
   "source": []
  },
  {
   "cell_type": "code",
   "execution_count": null,
   "metadata": {},
   "outputs": [],
   "source": []
  },
  {
   "cell_type": "code",
   "execution_count": 158,
   "metadata": {},
   "outputs": [],
   "source": [
    "original = pd.read_csv('../data/ai_academy_data/random_1000.csv')\n",
    "#original = pd.read_csv('../data/ai_academy_data/random100.csv')"
   ]
  },
  {
   "cell_type": "code",
   "execution_count": 159,
   "metadata": {},
   "outputs": [],
   "source": [
    "output_random = pd.read_csv('../results/ai_academy_data/random_results/results.csv')\n",
    "output_mcmc = pd.read_csv('../results/ai_academy_data/mcmc_results/results.csv')"
   ]
  },
  {
   "cell_type": "code",
   "execution_count": 160,
   "metadata": {},
   "outputs": [],
   "source": [
    "output_random = output_random.join(original)\n",
    "output_mcmc = output_mcmc.join(original)"
   ]
  },
  {
   "cell_type": "code",
   "execution_count": 161,
   "metadata": {},
   "outputs": [
    {
     "data": {
      "text/plain": [
       "{'accuracy_drop': 0.29500000000000004,\n",
       " 'probability_drop': 0.12409497409847296,\n",
       " 'WER': 3.101,\n",
       " 'NAD': 0.18919749623140195}"
      ]
     },
     "execution_count": 161,
     "metadata": {},
     "output_type": "execute_result"
    }
   ],
   "source": [
    "calculate_metrics(model,\n",
    "                  output_random['labels'].values,\n",
    "                  output_random['sequences'].values,\n",
    "                  output_random['generated_sequence'].values)"
   ]
  },
  {
   "cell_type": "code",
   "execution_count": 162,
   "metadata": {},
   "outputs": [
    {
     "data": {
      "text/plain": [
       "{'accuracy_drop': 0.31200000000000006,\n",
       " 'probability_drop': 0.13482185356870413,\n",
       " 'WER': 3.156,\n",
       " 'NAD': 0.1798098056557804}"
      ]
     },
     "execution_count": 162,
     "metadata": {},
     "output_type": "execute_result"
    }
   ],
   "source": [
    "calculate_metrics(model,\n",
    "                  output_mcmc['labels'].values,\n",
    "                  output_mcmc['sequences'].values,\n",
    "                  output_mcmc['generated_sequence'].values)"
   ]
  },
  {
   "cell_type": "code",
   "execution_count": null,
   "metadata": {},
   "outputs": [],
   "source": []
  },
  {
   "cell_type": "code",
   "execution_count": null,
   "metadata": {},
   "outputs": [],
   "source": []
  },
  {
   "cell_type": "code",
   "execution_count": 53,
   "metadata": {},
   "outputs": [
    {
     "data": {
      "text/plain": [
       "7"
      ]
     },
     "execution_count": 53,
     "metadata": {},
     "output_type": "execute_result"
    }
   ],
   "source": [
    "calculate_wer(output_gradient.iloc[0]['sequences'], output_gradient.iloc[0]['generated_sequence'])"
   ]
  },
  {
   "cell_type": "code",
   "execution_count": 54,
   "metadata": {},
   "outputs": [],
   "source": [
    "probs_orig = model.predict(output_gradient['sequences'].values)\n",
    "probs_gen = model.predict(output_gradient['generated_sequence'].values)"
   ]
  },
  {
   "cell_type": "code",
   "execution_count": 58,
   "metadata": {},
   "outputs": [],
   "source": [
    "acc_orig = (output_gradient['labels'].values == probs_orig.argmax(axis=1)).mean()\n",
    "acc_gen = (output_gradient['labels'].values == probs_gen.argmax(axis=1)).mean()"
   ]
  },
  {
   "cell_type": "code",
   "execution_count": 60,
   "metadata": {},
   "outputs": [
    {
     "data": {
      "text/plain": [
       "0.30700000000000005"
      ]
     },
     "execution_count": 60,
     "metadata": {},
     "output_type": "execute_result"
    }
   ],
   "source": [
    "acc_orig - acc_gen # accuracy drop"
   ]
  },
  {
   "cell_type": "code",
   "execution_count": 65,
   "metadata": {},
   "outputs": [],
   "source": [
    "proba_orig = probs_orig[np.arange(len(output_gradient['labels'].values)), output_gradient['labels'].values]\n",
    "proba_gen = probs_gen[np.arange(len(output_gradient['labels'].values)), output_gradient['labels'].values]"
   ]
  },
  {
   "cell_type": "code",
   "execution_count": 68,
   "metadata": {},
   "outputs": [],
   "source": [
    "%matplotlib inline\n",
    "import matplotlib.pyplot as plt"
   ]
  },
  {
   "cell_type": "code",
   "execution_count": 70,
   "metadata": {},
   "outputs": [
    {
     "data": {
      "text/plain": [
       "(array([267., 149., 168., 121., 122.,  90.,  45.,  21.,  14.,   3.]),\n",
       " array([0.00140359, 0.0806633 , 0.15992301, 0.23918272, 0.31844243,\n",
       "        0.39770214, 0.47696186, 0.55622157, 0.63548128, 0.71474099,\n",
       "        0.7940007 ]),\n",
       " <a list of 10 Patch objects>)"
      ]
     },
     "execution_count": 70,
     "metadata": {},
     "output_type": "execute_result"
    },
    {
     "data": {
      "image/png": "[encoded data removed]",
      "text/plain": [
       "<Figure size 432x288 with 1 Axes>"
      ]
     },
     "metadata": {
      "needs_background": "light"
     },
     "output_type": "display_data"
    }
   ],
   "source": [
    "plt.hist(proba_orig)\n",
    "plt.hist(proba_gen)"
   ]
  },
  {
   "cell_type": "code",
   "execution_count": 72,
   "metadata": {},
   "outputs": [
    {
     "data": {
      "text/plain": [
       "0.16628604597012447"
      ]
     },
     "execution_count": 72,
     "metadata": {},
     "output_type": "execute_result"
    }
   ],
   "source": [
    "(proba_orig - proba_gen).mean() # proba drop"
   ]
  },
  {
   "cell_type": "code",
   "execution_count": 83,
   "metadata": {},
   "outputs": [
    {
     "data": {
      "text/plain": [
       "0.12520621011462696"
      ]
     },
     "execution_count": 83,
     "metadata": {},
     "output_type": "execute_result"
    }
   ],
   "source": [
    "calculate_nad(probs_orig, probs_gen, \n",
    "              output_gradient['sequences'].values, output_gradient['generated_sequence'].values)"
   ]
  },
  {
   "cell_type": "code",
   "execution_count": null,
   "metadata": {},
   "outputs": [],
   "source": []
  },
  {
   "cell_type": "code",
   "execution_count": null,
   "metadata": {},
   "outputs": [],
   "source": []
  },
  {
   "cell_type": "code",
   "execution_count": null,
   "metadata": {},
   "outputs": [],
   "source": []
  },
  {
   "cell_type": "code",
   "execution_count": null,
   "metadata": {},
   "outputs": [],
   "source": []
  },
  {
   "cell_type": "code",
   "execution_count": 65,
   "metadata": {},
   "outputs": [],
   "source": [
    "def get_results(output, test_y, generated, original):\n",
    "    num_generated_so_far = generated.shape[0]\n",
    "\n",
    "    adversarial_probs = model.predict(generated)\n",
    "\n",
    "    print(f'Average WER = {output.wer.mean()}\\nAverage BLEU = {output.bleu.mean()}\\n')\n",
    "    print(f'Naive ROC AUC = {naive_auc}\\nNaive Accuracy = {naive_acc}\\n')\n",
    "\n",
    "    non_adversarial_probs = model.predict(original)\n",
    "    adv_auc = roc_auc_score(y_true=test_y[:num_generated_so_far], y_score=non_adversarial_probs[:, 1])\n",
    "    print(f'Non-Adversarial ROC AUC = {adv_auc}')\n",
    "    adv_acc = (test_y[:num_generated_so_far] == non_adversarial_probs.argmax(axis=1)).mean()\n",
    "    print(f'Non-Adversarial Accuracy = {adv_acc}\\n')\n",
    "\n",
    "    adv_auc = roc_auc_score(y_true=test_y[:num_generated_so_far], y_score=adversarial_probs[:, 1])\n",
    "    print(f'Adversarial ROC AUC = {adv_auc}')\n",
    "    adv_acc = (test_y[:num_generated_so_far] == adversarial_probs.argmax(axis=1)).mean()\n",
    "    print(f'Adversarial Accuracy = {adv_acc}')"
   ]
  },
  {
   "cell_type": "code",
   "execution_count": 66,
   "metadata": {},
   "outputs": [
    {
     "name": "stdout",
     "output_type": "stream",
     "text": [
      ">>> MCMC\n",
      "\n",
      "Average WER = 1.8081227563876963\n",
      "Average BLEU = 0.8201734764653238\n",
      "\n",
      "Naive ROC AUC = 0.5\n",
      "Naive Accuracy = 0.554656155416344\n",
      "\n",
      "Non-Adversarial ROC AUC = 0.7425382836750724\n",
      "Non-Adversarial Accuracy = 0.6852959808545084\n",
      "\n",
      "Adversarial ROC AUC = 0.6136349112938747\n",
      "Adversarial Accuracy = 0.5886534806785387\n"
     ]
    }
   ],
   "source": [
    "print('>>> MCMC\\n')\n",
    "get_results(output, test_y, generated, original)"
   ]
  },
  {
   "cell_type": "code",
   "execution_count": 67,
   "metadata": {},
   "outputs": [
    {
     "name": "stdout",
     "output_type": "stream",
     "text": [
      ">>> Random\n",
      "\n",
      "Average WER = 1.4975012317871472\n",
      "Average BLEU = 0.8514050227449653\n",
      "\n",
      "Naive ROC AUC = 0.5\n",
      "Naive Accuracy = 0.554656155416344\n",
      "\n",
      "Non-Adversarial ROC AUC = 0.7425382836750724\n",
      "Non-Adversarial Accuracy = 0.6852959808545084\n",
      "\n",
      "Adversarial ROC AUC = 0.6678953766750988\n",
      "Adversarial Accuracy = 0.6265221369747308\n"
     ]
    }
   ],
   "source": [
    "print('>>> Random\\n')\n",
    "get_results(output_rand, test_y, generated_rand, original_rand)"
   ]
  },
  {
   "cell_type": "code",
   "execution_count": 68,
   "metadata": {},
   "outputs": [
    {
     "name": "stdout",
     "output_type": "stream",
     "text": [
      ">>> Hotflip\n",
      "\n",
      "Average WER = 6.903357499824031\n",
      "Average BLEU = 0.2775505447367772\n",
      "\n",
      "Naive ROC AUC = 0.5\n",
      "Naive Accuracy = 0.554656155416344\n",
      "\n",
      "Non-Adversarial ROC AUC = 0.7425382836750724\n",
      "Non-Adversarial Accuracy = 0.6852959808545084\n",
      "\n",
      "Adversarial ROC AUC = 0.5762124032929536\n",
      "Adversarial Accuracy = 0.60660237910889\n"
     ]
    }
   ],
   "source": [
    "print('>>> Hotflip\\n')\n",
    "get_results(output_hotflip, test_y, generated_hotflip, original_hotflip)"
   ]
  },
  {
   "cell_type": "code",
   "execution_count": null,
   "metadata": {},
   "outputs": [],
   "source": []
  },
  {
   "cell_type": "code",
   "execution_count": null,
   "metadata": {},
   "outputs": [],
   "source": []
  },
  {
   "cell_type": "code",
   "execution_count": null,
   "metadata": {},
   "outputs": [],
   "source": []
  },
  {
   "cell_type": "code",
   "execution_count": null,
   "metadata": {},
   "outputs": [],
   "source": []
  }
 ],
 "metadata": {
  "kernelspec": {
   "display_name": "Python 3",
   "language": "python",
   "name": "python3"
  },
  "language_info": {
   "codemirror_mode": {
    "name": "ipython",
    "version": 3
   },
   "file_extension": ".py",
   "mimetype": "text/x-python",
   "name": "python",
   "nbconvert_exporter": "python",
   "pygments_lexer": "ipython3",
   "version": "3.6.1"
  }
 },
 "nbformat": 4,
 "nbformat_minor": 2
}
