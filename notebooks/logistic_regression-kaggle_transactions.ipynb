{
 "cells": [
  {
   "cell_type": "code",
   "execution_count": 1,
   "metadata": {},
   "outputs": [],
   "source": [
    "import sys\n",
    "sys.path.append('..')\n",
    "import pandas as pd\n",
    "from adat.models.classification_model import LogisticRegressionOnTfIdf\n",
    "from sklearn.metrics import roc_auc_score, f1_score"
   ]
  },
  {
   "cell_type": "code",
   "execution_count": 2,
   "metadata": {},
   "outputs": [],
   "source": [
    "train_data = pd.read_csv('../data/kaggle_transactions/train.csv')\n",
    "test_data = pd.read_csv('../data/kaggle_transactions/test.csv')"
   ]
  },
  {
   "cell_type": "code",
   "execution_count": 3,
   "metadata": {},
   "outputs": [
    {
     "data": {
      "text/html": [
       "<div>\n",
       "<style scoped>\n",
       "    .dataframe tbody tr th:only-of-type {\n",
       "        vertical-align: middle;\n",
       "    }\n",
       "\n",
       "    .dataframe tbody tr th {\n",
       "        vertical-align: top;\n",
       "    }\n",
       "\n",
       "    .dataframe thead th {\n",
       "        text-align: right;\n",
       "    }\n",
       "</style>\n",
       "<table border=\"1\" class=\"dataframe\">\n",
       "  <thead>\n",
       "    <tr style=\"text-align: right;\">\n",
       "      <th></th>\n",
       "      <th>sequences</th>\n",
       "      <th>labels</th>\n",
       "    </tr>\n",
       "  </thead>\n",
       "  <tbody>\n",
       "    <tr>\n",
       "      <th>0</th>\n",
       "      <td>id_6 id_4 id_6 id_19 id_6 id_6 id_4 id_4</td>\n",
       "      <td>1</td>\n",
       "    </tr>\n",
       "    <tr>\n",
       "      <th>1</th>\n",
       "      <td>id_315 id_73 id_205 id_194 id_2 id_15 id_8 id_...</td>\n",
       "      <td>1</td>\n",
       "    </tr>\n",
       "    <tr>\n",
       "      <th>2</th>\n",
       "      <td>id_1 id_1 id_8 id_3 id_96 id_45 id_98 id_84</td>\n",
       "      <td>1</td>\n",
       "    </tr>\n",
       "    <tr>\n",
       "      <th>3</th>\n",
       "      <td>id_96 id_11 id_247 id_247 id_249 id_62 id_36 i...</td>\n",
       "      <td>0</td>\n",
       "    </tr>\n",
       "    <tr>\n",
       "      <th>4</th>\n",
       "      <td>id_96 id_46 id_50 id_48 id_14 id_48 id_49 id_1...</td>\n",
       "      <td>1</td>\n",
       "    </tr>\n",
       "    <tr>\n",
       "      <th>...</th>\n",
       "      <td>...</td>\n",
       "      <td>...</td>\n",
       "    </tr>\n",
       "    <tr>\n",
       "      <th>270594</th>\n",
       "      <td>id_110 id_3 id_110 id_24 id_145 id_5</td>\n",
       "      <td>0</td>\n",
       "    </tr>\n",
       "    <tr>\n",
       "      <th>270595</th>\n",
       "      <td>id_25 id_10 id_491 id_179 id_37 id_15 id_25 id...</td>\n",
       "      <td>0</td>\n",
       "    </tr>\n",
       "    <tr>\n",
       "      <th>270596</th>\n",
       "      <td>id_3 id_32 id_7 id_817 id_67 id_136 id_20 id_3...</td>\n",
       "      <td>0</td>\n",
       "    </tr>\n",
       "    <tr>\n",
       "      <th>270597</th>\n",
       "      <td>id_3 id_17 id_1316 id_1 id_32 id_26 id_26 id_1...</td>\n",
       "      <td>1</td>\n",
       "    </tr>\n",
       "    <tr>\n",
       "      <th>270598</th>\n",
       "      <td>id_214 id_3 id_6 id_177 id_39 id_39 id_38 id_2</td>\n",
       "      <td>1</td>\n",
       "    </tr>\n",
       "  </tbody>\n",
       "</table>\n",
       "<p>270599 rows × 2 columns</p>\n",
       "</div>"
      ],
      "text/plain": [
       "                                                sequences  labels\n",
       "0                id_6 id_4 id_6 id_19 id_6 id_6 id_4 id_4       1\n",
       "1       id_315 id_73 id_205 id_194 id_2 id_15 id_8 id_...       1\n",
       "2             id_1 id_1 id_8 id_3 id_96 id_45 id_98 id_84       1\n",
       "3       id_96 id_11 id_247 id_247 id_249 id_62 id_36 i...       0\n",
       "4       id_96 id_46 id_50 id_48 id_14 id_48 id_49 id_1...       1\n",
       "...                                                   ...     ...\n",
       "270594               id_110 id_3 id_110 id_24 id_145 id_5       0\n",
       "270595  id_25 id_10 id_491 id_179 id_37 id_15 id_25 id...       0\n",
       "270596  id_3 id_32 id_7 id_817 id_67 id_136 id_20 id_3...       0\n",
       "270597  id_3 id_17 id_1316 id_1 id_32 id_26 id_26 id_1...       1\n",
       "270598     id_214 id_3 id_6 id_177 id_39 id_39 id_38 id_2       1\n",
       "\n",
       "[270599 rows x 2 columns]"
      ]
     },
     "execution_count": 3,
     "metadata": {},
     "output_type": "execute_result"
    }
   ],
   "source": [
    "train_data"
   ]
  },
  {
   "cell_type": "code",
   "execution_count": 4,
   "metadata": {},
   "outputs": [],
   "source": [
    "train_x = train_data.sequences.values\n",
    "train_y = train_data.labels.values\n",
    "\n",
    "test_x = test_data.sequences.values\n",
    "test_y = test_data.labels.values"
   ]
  },
  {
   "cell_type": "code",
   "execution_count": 5,
   "metadata": {},
   "outputs": [],
   "source": [
    "model = LogisticRegressionOnTfIdf()"
   ]
  },
  {
   "cell_type": "code",
   "execution_count": 6,
   "metadata": {},
   "outputs": [
    {
     "data": {
      "text/plain": [
       "<adat.models.classification_model.LogisticRegressionOnTfIdf at 0x7f3cf20c1dd8>"
      ]
     },
     "execution_count": 6,
     "metadata": {},
     "output_type": "execute_result"
    }
   ],
   "source": [
    "model.fit(train_x, train_y)"
   ]
  },
  {
   "cell_type": "code",
   "execution_count": 7,
   "metadata": {},
   "outputs": [],
   "source": [
    "probs = model.predict(test_x)"
   ]
  },
  {
   "cell_type": "raw",
   "metadata": {},
   "source": [
    "auc = roc_auc_score(y_true=test_y, y_score=probs[:, 1])\n",
    "print(f'ROC AUC = {auc}')"
   ]
  },
  {
   "cell_type": "code",
   "execution_count": null,
   "metadata": {},
   "outputs": [],
   "source": []
  },
  {
   "cell_type": "code",
   "execution_count": null,
   "metadata": {},
   "outputs": [],
   "source": []
  },
  {
   "cell_type": "code",
   "execution_count": 8,
   "metadata": {},
   "outputs": [],
   "source": [
    "import numpy as np"
   ]
  },
  {
   "cell_type": "code",
   "execution_count": 9,
   "metadata": {},
   "outputs": [
    {
     "name": "stdout",
     "output_type": "stream",
     "text": [
      "Accuracy = 0.6853663686914901\n"
     ]
    }
   ],
   "source": [
    "acc = (test_y == probs.argmax(axis=1)).mean()\n",
    "\n",
    "print(f'Accuracy = {acc}')"
   ]
  },
  {
   "cell_type": "code",
   "execution_count": 10,
   "metadata": {},
   "outputs": [
    {
     "name": "stdout",
     "output_type": "stream",
     "text": [
      "Accuracy random baseline = 0.5110860843246287\n"
     ]
    }
   ],
   "source": [
    "acc = (test_y == np.random.choice(test_y, len(test_y), replace=False)).mean()\n",
    "\n",
    "print(f'Accuracy random baseline = {acc}')"
   ]
  },
  {
   "cell_type": "markdown",
   "metadata": {},
   "source": [
    "# Adversarial MCMC sampler vs Random sampler"
   ]
  },
  {
   "cell_type": "code",
   "execution_count": null,
   "metadata": {},
   "outputs": [],
   "source": []
  },
  {
   "cell_type": "code",
   "execution_count": null,
   "metadata": {},
   "outputs": [],
   "source": []
  },
  {
   "cell_type": "code",
   "execution_count": null,
   "metadata": {},
   "outputs": [],
   "source": []
  },
  {
   "cell_type": "code",
   "execution_count": 121,
   "metadata": {},
   "outputs": [],
   "source": [
    "original = pd.read_csv('../data/kaggle_transactions/random1000.csv')"
   ]
  },
  {
   "cell_type": "code",
   "execution_count": 122,
   "metadata": {},
   "outputs": [],
   "source": [
    "output_random = pd.read_csv('../results/kaggle_transactions/random_results/results.csv')\n",
    "output_mcmc = pd.read_csv('../results/kaggle_transactions/mcmc_results/results.csv')\n",
    "output_gradient = pd.read_csv('../results/kaggle_transactions/gradient_results/results.csv')"
   ]
  },
  {
   "cell_type": "code",
   "execution_count": 123,
   "metadata": {},
   "outputs": [],
   "source": [
    "output_random = output_random.join(original)\n",
    "output_mcmc = output_mcmc.join(original)\n",
    "output_gradient = output_gradient.join(original)"
   ]
  },
  {
   "cell_type": "code",
   "execution_count": 124,
   "metadata": {},
   "outputs": [],
   "source": [
    "output_gradient = output_gradient.dropna()"
   ]
  },
  {
   "cell_type": "code",
   "execution_count": 125,
   "metadata": {},
   "outputs": [],
   "source": [
    "from adat.utils import calculate_wer"
   ]
  },
  {
   "cell_type": "code",
   "execution_count": 126,
   "metadata": {},
   "outputs": [],
   "source": [
    "def calculate_nad(probs_orig, probs_gen, seqs_orig, seqs_gen):\n",
    "    wers = np.array([calculate_wer(seqs_orig[i], seqs_gen[i]) for i in range(len(seqs_orig))])\n",
    "    errs = (probs_orig.argmax(axis=1) != probs_gen.argmax(axis=1))\n",
    "    return np.mean(errs/(1e-6 + wers))"
   ]
  },
  {
   "cell_type": "code",
   "execution_count": 127,
   "metadata": {},
   "outputs": [],
   "source": [
    "def calculate_metrics(model, labels, seqs_orig, seqs_gen):\n",
    "    probs_orig = model.predict(seqs_orig)\n",
    "    probs_gen = model.predict(seqs_gen)\n",
    "    acc_orig = (labels == probs_orig.argmax(axis=1)).mean()\n",
    "    acc_gen = (labels == probs_gen.argmax(axis=1)).mean()\n",
    "    proba_orig = probs_orig[np.arange(len(labels)), labels]\n",
    "    proba_gen = probs_gen[np.arange(len(labels)), labels]\n",
    "    metrics = {}\n",
    "    metrics['accuracy_drop'] = acc_orig - acc_gen\n",
    "    metrics['probability_drop'] = (proba_orig - proba_gen).mean() \n",
    "    metrics['WER'] = np.mean([calculate_wer(seqs_orig[i], seqs_gen[i]) \n",
    "                              for i in range(len(seqs_orig))])\n",
    "    metrics['NAD'] = calculate_nad(probs_orig, probs_gen, seqs_orig, seqs_gen)\n",
    "    return metrics"
   ]
  },
  {
   "cell_type": "code",
   "execution_count": 128,
   "metadata": {},
   "outputs": [
    {
     "data": {
      "text/plain": [
       "{'accuracy_drop': 0.5110000000000001,\n",
       " 'probability_drop': 0.25309050032838126,\n",
       " 'WER': 2.66,\n",
       " 'NAD': 0.30385256778479497}"
      ]
     },
     "execution_count": 128,
     "metadata": {},
     "output_type": "execute_result"
    }
   ],
   "source": [
    "calculate_metrics(model,\n",
    "                  output_random['labels'].values,\n",
    "                  output_random['sequences'].values,\n",
    "                  output_random['generated_sequence'].values)"
   ]
  },
  {
   "cell_type": "code",
   "execution_count": 129,
   "metadata": {},
   "outputs": [
    {
     "data": {
      "text/plain": [
       "{'accuracy_drop': 0.43600000000000005,\n",
       " 'probability_drop': 0.20867938580387116,\n",
       " 'WER': 3.03,\n",
       " 'NAD': 0.21507734432686149}"
      ]
     },
     "execution_count": 129,
     "metadata": {},
     "output_type": "execute_result"
    }
   ],
   "source": [
    "calculate_metrics(model,\n",
    "                  output_mcmc['labels'].values,\n",
    "                  output_mcmc['sequences'].values,\n",
    "                  output_mcmc['generated_sequence'].values)"
   ]
  },
  {
   "cell_type": "code",
   "execution_count": 130,
   "metadata": {},
   "outputs": [
    {
     "data": {
      "text/plain": [
       "{'accuracy_drop': 0.0571715145436309,\n",
       " 'probability_drop': 0.03507617344651708,\n",
       " 'WER': 3.065195586760281,\n",
       " 'NAD': 0.06678757684865173}"
      ]
     },
     "execution_count": 130,
     "metadata": {},
     "output_type": "execute_result"
    }
   ],
   "source": [
    "calculate_metrics(model,\n",
    "                  output_gradient['labels'].values,\n",
    "                  output_gradient['sequences'].values,\n",
    "                  output_gradient['generated_sequence'].values)"
   ]
  },
  {
   "cell_type": "code",
   "execution_count": null,
   "metadata": {},
   "outputs": [],
   "source": []
  },
  {
   "cell_type": "code",
   "execution_count": null,
   "metadata": {},
   "outputs": [],
   "source": []
  },
  {
   "cell_type": "code",
   "execution_count": null,
   "metadata": {},
   "outputs": [],
   "source": []
  },
  {
   "cell_type": "code",
   "execution_count": null,
   "metadata": {},
   "outputs": [],
   "source": []
  },
  {
   "cell_type": "code",
   "execution_count": 49,
   "metadata": {},
   "outputs": [],
   "source": [
    "original = pd.read_csv('../data/kaggle_transactions/random1000.csv')\n",
    "#original = pd.read_csv('../data/kaggle_transactions/random100.csv')"
   ]
  },
  {
   "cell_type": "code",
   "execution_count": 50,
   "metadata": {},
   "outputs": [],
   "source": [
    "output_random = pd.read_csv('../results/kaggle_transactions/random_results/results.csv')"
   ]
  },
  {
   "cell_type": "code",
   "execution_count": 51,
   "metadata": {},
   "outputs": [],
   "source": [
    "output_mcmc = pd.read_csv('../results/kaggle_transactions/mcmc_results/results.csv')"
   ]
  },
  {
   "cell_type": "code",
   "execution_count": 52,
   "metadata": {},
   "outputs": [],
   "source": [
    "output_random = output_random.join(original)\n",
    "output_mcmc = output_mcmc.join(original)"
   ]
  },
  {
   "cell_type": "code",
   "execution_count": 53,
   "metadata": {},
   "outputs": [
    {
     "data": {
      "text/plain": [
       "{'accuracy_drop': 0.5110000000000001,\n",
       " 'probability_drop': 0.25309050032838126,\n",
       " 'WER': 2.66,\n",
       " 'NAD': 0.30385256778479497}"
      ]
     },
     "execution_count": 53,
     "metadata": {},
     "output_type": "execute_result"
    }
   ],
   "source": [
    "calculate_metrics(model,\n",
    "                  output_random['labels'].values,\n",
    "                  output_random['sequences'].values,\n",
    "                  output_random['generated_sequence'].values)"
   ]
  },
  {
   "cell_type": "code",
   "execution_count": 54,
   "metadata": {},
   "outputs": [
    {
     "data": {
      "text/plain": [
       "{'accuracy_drop': 0.43600000000000005,\n",
       " 'probability_drop': 0.20867938580387116,\n",
       " 'WER': 3.03,\n",
       " 'NAD': 0.21507734432686149}"
      ]
     },
     "execution_count": 54,
     "metadata": {},
     "output_type": "execute_result"
    }
   ],
   "source": [
    "calculate_metrics(model,\n",
    "                  output_mcmc['labels'].values,\n",
    "                  output_mcmc['sequences'].values,\n",
    "                  output_mcmc['generated_sequence'].values)"
   ]
  },
  {
   "cell_type": "code",
   "execution_count": null,
   "metadata": {},
   "outputs": [],
   "source": []
  },
  {
   "cell_type": "code",
   "execution_count": null,
   "metadata": {},
   "outputs": [],
   "source": []
  },
  {
   "cell_type": "code",
   "execution_count": 53,
   "metadata": {},
   "outputs": [
    {
     "data": {
      "text/plain": [
       "7"
      ]
     },
     "execution_count": 53,
     "metadata": {},
     "output_type": "execute_result"
    }
   ],
   "source": [
    "calculate_wer(output_gradient.iloc[0]['sequences'], output_gradient.iloc[0]['generated_sequence'])"
   ]
  },
  {
   "cell_type": "code",
   "execution_count": 54,
   "metadata": {},
   "outputs": [],
   "source": [
    "probs_orig = model.predict(output_gradient['sequences'].values)\n",
    "probs_gen = model.predict(output_gradient['generated_sequence'].values)"
   ]
  },
  {
   "cell_type": "code",
   "execution_count": 58,
   "metadata": {},
   "outputs": [],
   "source": [
    "acc_orig = (output_gradient['labels'].values == probs_orig.argmax(axis=1)).mean()\n",
    "acc_gen = (output_gradient['labels'].values == probs_gen.argmax(axis=1)).mean()"
   ]
  },
  {
   "cell_type": "code",
   "execution_count": 60,
   "metadata": {},
   "outputs": [
    {
     "data": {
      "text/plain": [
       "0.30700000000000005"
      ]
     },
     "execution_count": 60,
     "metadata": {},
     "output_type": "execute_result"
    }
   ],
   "source": [
    "acc_orig - acc_gen # accuracy drop"
   ]
  },
  {
   "cell_type": "code",
   "execution_count": 65,
   "metadata": {},
   "outputs": [],
   "source": [
    "proba_orig = probs_orig[np.arange(len(output_gradient['labels'].values)), output_gradient['labels'].values]\n",
    "proba_gen = probs_gen[np.arange(len(output_gradient['labels'].values)), output_gradient['labels'].values]"
   ]
  },
  {
   "cell_type": "code",
   "execution_count": 68,
   "metadata": {},
   "outputs": [],
   "source": [
    "%matplotlib inline\n",
    "import matplotlib.pyplot as plt"
   ]
  },
  {
   "cell_type": "code",
   "execution_count": 70,
   "metadata": {},
   "outputs": [
    {
     "data": {
      "text/plain": [
       "(array([267., 149., 168., 121., 122.,  90.,  45.,  21.,  14.,   3.]),\n",
       " array([0.00140359, 0.0806633 , 0.15992301, 0.23918272, 0.31844243,\n",
       "        0.39770214, 0.47696186, 0.55622157, 0.63548128, 0.71474099,\n",
       "        0.7940007 ]),\n",
       " <a list of 10 Patch objects>)"
      ]
     },
     "execution_count": 70,
     "metadata": {},
     "output_type": "execute_result"
    },
    {
     "data": {
      "image/png": "[encoded data removed]",
      "text/plain": [
       "<Figure size 432x288 with 1 Axes>"
      ]
     },
     "metadata": {
      "needs_background": "light"
     },
     "output_type": "display_data"
    }
   ],
   "source": [
    "plt.hist(proba_orig)\n",
    "plt.hist(proba_gen)"
   ]
  },
  {
   "cell_type": "code",
   "execution_count": 72,
   "metadata": {},
   "outputs": [
    {
     "data": {
      "text/plain": [
       "0.16628604597012447"
      ]
     },
     "execution_count": 72,
     "metadata": {},
     "output_type": "execute_result"
    }
   ],
   "source": [
    "(proba_orig - proba_gen).mean() # proba drop"
   ]
  },
  {
   "cell_type": "code",
   "execution_count": 83,
   "metadata": {},
   "outputs": [
    {
     "data": {
      "text/plain": [
       "0.12520621011462696"
      ]
     },
     "execution_count": 83,
     "metadata": {},
     "output_type": "execute_result"
    }
   ],
   "source": [
    "calculate_nad(probs_orig, probs_gen, \n",
    "              output_gradient['sequences'].values, output_gradient['generated_sequence'].values)"
   ]
  },
  {
   "cell_type": "code",
   "execution_count": null,
   "metadata": {},
   "outputs": [],
   "source": []
  },
  {
   "cell_type": "code",
   "execution_count": null,
   "metadata": {},
   "outputs": [],
   "source": []
  },
  {
   "cell_type": "code",
   "execution_count": null,
   "metadata": {},
   "outputs": [],
   "source": []
  },
  {
   "cell_type": "code",
   "execution_count": null,
   "metadata": {},
   "outputs": [],
   "source": []
  },
  {
   "cell_type": "code",
   "execution_count": 65,
   "metadata": {},
   "outputs": [],
   "source": [
    "def get_results(output, test_y, generated, original):\n",
    "    num_generated_so_far = generated.shape[0]\n",
    "\n",
    "    adversarial_probs = model.predict(generated)\n",
    "\n",
    "    print(f'Average WER = {output.wer.mean()}\\nAverage BLEU = {output.bleu.mean()}\\n')\n",
    "    print(f'Naive ROC AUC = {naive_auc}\\nNaive Accuracy = {naive_acc}\\n')\n",
    "\n",
    "    non_adversarial_probs = model.predict(original)\n",
    "    adv_auc = roc_auc_score(y_true=test_y[:num_generated_so_far], y_score=non_adversarial_probs[:, 1])\n",
    "    print(f'Non-Adversarial ROC AUC = {adv_auc}')\n",
    "    adv_acc = (test_y[:num_generated_so_far] == non_adversarial_probs.argmax(axis=1)).mean()\n",
    "    print(f'Non-Adversarial Accuracy = {adv_acc}\\n')\n",
    "\n",
    "    adv_auc = roc_auc_score(y_true=test_y[:num_generated_so_far], y_score=adversarial_probs[:, 1])\n",
    "    print(f'Adversarial ROC AUC = {adv_auc}')\n",
    "    adv_acc = (test_y[:num_generated_so_far] == adversarial_probs.argmax(axis=1)).mean()\n",
    "    print(f'Adversarial Accuracy = {adv_acc}')"
   ]
  },
  {
   "cell_type": "code",
   "execution_count": 66,
   "metadata": {},
   "outputs": [
    {
     "name": "stdout",
     "output_type": "stream",
     "text": [
      ">>> MCMC\n",
      "\n",
      "Average WER = 1.8081227563876963\n",
      "Average BLEU = 0.8201734764653238\n",
      "\n",
      "Naive ROC AUC = 0.5\n",
      "Naive Accuracy = 0.554656155416344\n",
      "\n",
      "Non-Adversarial ROC AUC = 0.7425382836750724\n",
      "Non-Adversarial Accuracy = 0.6852959808545084\n",
      "\n",
      "Adversarial ROC AUC = 0.6136349112938747\n",
      "Adversarial Accuracy = 0.5886534806785387\n"
     ]
    }
   ],
   "source": [
    "print('>>> MCMC\\n')\n",
    "get_results(output, test_y, generated, original)"
   ]
  },
  {
   "cell_type": "code",
   "execution_count": 67,
   "metadata": {},
   "outputs": [
    {
     "name": "stdout",
     "output_type": "stream",
     "text": [
      ">>> Random\n",
      "\n",
      "Average WER = 1.4975012317871472\n",
      "Average BLEU = 0.8514050227449653\n",
      "\n",
      "Naive ROC AUC = 0.5\n",
      "Naive Accuracy = 0.554656155416344\n",
      "\n",
      "Non-Adversarial ROC AUC = 0.7425382836750724\n",
      "Non-Adversarial Accuracy = 0.6852959808545084\n",
      "\n",
      "Adversarial ROC AUC = 0.6678953766750988\n",
      "Adversarial Accuracy = 0.6265221369747308\n"
     ]
    }
   ],
   "source": [
    "print('>>> Random\\n')\n",
    "get_results(output_rand, test_y, generated_rand, original_rand)"
   ]
  },
  {
   "cell_type": "code",
   "execution_count": 68,
   "metadata": {},
   "outputs": [
    {
     "name": "stdout",
     "output_type": "stream",
     "text": [
      ">>> Hotflip\n",
      "\n",
      "Average WER = 6.903357499824031\n",
      "Average BLEU = 0.2775505447367772\n",
      "\n",
      "Naive ROC AUC = 0.5\n",
      "Naive Accuracy = 0.554656155416344\n",
      "\n",
      "Non-Adversarial ROC AUC = 0.7425382836750724\n",
      "Non-Adversarial Accuracy = 0.6852959808545084\n",
      "\n",
      "Adversarial ROC AUC = 0.5762124032929536\n",
      "Adversarial Accuracy = 0.60660237910889\n"
     ]
    }
   ],
   "source": [
    "print('>>> Hotflip\\n')\n",
    "get_results(output_hotflip, test_y, generated_hotflip, original_hotflip)"
   ]
  },
  {
   "cell_type": "code",
   "execution_count": null,
   "metadata": {},
   "outputs": [],
   "source": []
  },
  {
   "cell_type": "code",
   "execution_count": null,
   "metadata": {},
   "outputs": [],
   "source": []
  },
  {
   "cell_type": "code",
   "execution_count": null,
   "metadata": {},
   "outputs": [],
   "source": []
  },
  {
   "cell_type": "code",
   "execution_count": null,
   "metadata": {},
   "outputs": [],
   "source": []
  }
 ],
 "metadata": {
  "kernelspec": {
   "display_name": "Python 3",
   "language": "python",
   "name": "python3"
  },
  "language_info": {
   "codemirror_mode": {
    "name": "ipython",
    "version": 3
   },
   "file_extension": ".py",
   "mimetype": "text/x-python",
   "name": "python",
   "nbconvert_exporter": "python",
   "pygments_lexer": "ipython3",
   "version": "3.6.1"
  }
 },
 "nbformat": 4,
 "nbformat_minor": 2
}
