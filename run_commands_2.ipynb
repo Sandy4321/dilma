{
 "cells": [
  {
   "cell_type": "code",
   "execution_count": 1,
   "metadata": {},
   "outputs": [],
   "source": [
    "import subprocess\n",
    "import pandas as pd\n",
    "import os"
   ]
  },
  {
   "cell_type": "code",
   "execution_count": 2,
   "metadata": {},
   "outputs": [],
   "source": [
    "from sklearn.model_selection import ParameterSampler\n",
    "import seaborn as sns\n",
    "import matplotlib.pyplot as plt\n",
    "%matplotlib inline\n",
    "from tqdm import tqdm\n",
    "import numpy as np\n",
    "import itertools\n",
    "import time"
   ]
  },
  {
   "cell_type": "markdown",
   "metadata": {},
   "source": [
    "## make mcmc grisearch"
   ]
  },
  {
   "cell_type": "code",
   "execution_count": 3,
   "metadata": {},
   "outputs": [],
   "source": [
    "stds = [0.01, 0.05, 0.1, 0.2, 0.5, 1.0]\n",
    "sigma_classs = [0.2, 0.5, 0.75, 1.0, 1.25, 1.5]\n",
    "#beam_sizes = [1, 30, 100]\n",
    "#num_stepss = [5, 30, 100]\n",
    "sigma_wers = [0.2, 0.5, 0.75, 1.0, 1.25, 1.5]"
   ]
  },
  {
   "cell_type": "code",
   "execution_count": 4,
   "metadata": {},
   "outputs": [],
   "source": [
    "sampler = ParameterSampler(\n",
    "{'std':stds, 'sigma_class':sigma_classs, 'sigma_wer':sigma_wers}, 30)"
   ]
  },
  {
   "cell_type": "code",
   "execution_count": 5,
   "metadata": {},
   "outputs": [],
   "source": [
    "#params = list(itertools.product(beam_sizes, num_stepss))"
   ]
  },
  {
   "cell_type": "code",
   "execution_count": 23,
   "metadata": {},
   "outputs": [],
   "source": [
    "#dataset = 'ai_academy_data'\n",
    "dataset = 'insurance'\n",
    "#dataset = 'ag_news'"
   ]
  },
  {
   "cell_type": "code",
   "execution_count": 24,
   "metadata": {},
   "outputs": [],
   "source": [
    "beam_size, num_steps = 1, 100"
   ]
  },
  {
   "cell_type": "code",
   "execution_count": 25,
   "metadata": {},
   "outputs": [
    {
     "name": "stderr",
     "output_type": "stream",
     "text": [
      "\r",
      "  0%|          | 0/30 [00:00<?, ?it/s]"
     ]
    },
    {
     "name": "stdout",
     "output_type": "stream",
     "text": [
      "1 100 1.0 0.75 0.5\n",
      "    python run_mcmc.py     --csv_path data/insurance/test.csv     --results_path results/insurance/mcmc     --classifier_path experiments/insurance/classifier_basic     --copynet_path experiments/insurance/nonmasked_copynet     --beam_size 1      --cuda 0     --sample 100     --std 1.0    --sigma_class 0.5    --sigma_wer 0.75    --num_steps 100    \n"
     ]
    },
    {
     "name": "stderr",
     "output_type": "stream",
     "text": [
      "\r",
      "  3%|▎         | 1/30 [00:42<20:23, 42.18s/it]"
     ]
    },
    {
     "name": "stdout",
     "output_type": "stream",
     "text": [
      "1 100 0.01 1.0 0.5\n",
      "    python run_mcmc.py     --csv_path data/insurance/test.csv     --results_path results/insurance/mcmc     --classifier_path experiments/insurance/classifier_basic     --copynet_path experiments/insurance/nonmasked_copynet     --beam_size 1      --cuda 0     --sample 100     --std 0.01    --sigma_class 0.5    --sigma_wer 1.0    --num_steps 100    \n"
     ]
    },
    {
     "name": "stderr",
     "output_type": "stream",
     "text": [
      "\r",
      "  7%|▋         | 2/30 [01:23<19:36, 42.02s/it]"
     ]
    },
    {
     "name": "stdout",
     "output_type": "stream",
     "text": [
      "1 100 0.01 0.75 1.25\n",
      "    python run_mcmc.py     --csv_path data/insurance/test.csv     --results_path results/insurance/mcmc     --classifier_path experiments/insurance/classifier_basic     --copynet_path experiments/insurance/nonmasked_copynet     --beam_size 1      --cuda 0     --sample 100     --std 0.01    --sigma_class 1.25    --sigma_wer 0.75    --num_steps 100    \n"
     ]
    },
    {
     "name": "stderr",
     "output_type": "stream",
     "text": [
      "\r",
      " 10%|█         | 3/30 [02:05<18:52, 41.95s/it]"
     ]
    },
    {
     "name": "stdout",
     "output_type": "stream",
     "text": [
      "1 100 0.01 0.2 1.5\n",
      "    python run_mcmc.py     --csv_path data/insurance/test.csv     --results_path results/insurance/mcmc     --classifier_path experiments/insurance/classifier_basic     --copynet_path experiments/insurance/nonmasked_copynet     --beam_size 1      --cuda 0     --sample 100     --std 0.01    --sigma_class 1.5    --sigma_wer 0.2    --num_steps 100    \n"
     ]
    },
    {
     "name": "stderr",
     "output_type": "stream",
     "text": [
      "\r",
      " 13%|█▎        | 4/30 [02:49<18:22, 42.39s/it]"
     ]
    },
    {
     "name": "stdout",
     "output_type": "stream",
     "text": [
      "1 100 0.1 1.0 1.0\n",
      "    python run_mcmc.py     --csv_path data/insurance/test.csv     --results_path results/insurance/mcmc     --classifier_path experiments/insurance/classifier_basic     --copynet_path experiments/insurance/nonmasked_copynet     --beam_size 1      --cuda 0     --sample 100     --std 0.1    --sigma_class 1.0    --sigma_wer 1.0    --num_steps 100    \n"
     ]
    },
    {
     "name": "stderr",
     "output_type": "stream",
     "text": [
      "\r",
      " 17%|█▋        | 5/30 [03:31<17:38, 42.36s/it]"
     ]
    },
    {
     "name": "stdout",
     "output_type": "stream",
     "text": [
      "1 100 0.1 1.5 1.0\n",
      "    python run_mcmc.py     --csv_path data/insurance/test.csv     --results_path results/insurance/mcmc     --classifier_path experiments/insurance/classifier_basic     --copynet_path experiments/insurance/nonmasked_copynet     --beam_size 1      --cuda 0     --sample 100     --std 0.1    --sigma_class 1.0    --sigma_wer 1.5    --num_steps 100    \n"
     ]
    },
    {
     "name": "stderr",
     "output_type": "stream",
     "text": [
      "\r",
      " 20%|██        | 6/30 [04:13<16:52, 42.21s/it]"
     ]
    },
    {
     "name": "stdout",
     "output_type": "stream",
     "text": [
      "1 100 0.5 1.5 0.5\n",
      "    python run_mcmc.py     --csv_path data/insurance/test.csv     --results_path results/insurance/mcmc     --classifier_path experiments/insurance/classifier_basic     --copynet_path experiments/insurance/nonmasked_copynet     --beam_size 1      --cuda 0     --sample 100     --std 0.5    --sigma_class 0.5    --sigma_wer 1.5    --num_steps 100    \n"
     ]
    },
    {
     "name": "stderr",
     "output_type": "stream",
     "text": [
      "\r",
      " 23%|██▎       | 7/30 [04:55<16:10, 42.18s/it]"
     ]
    },
    {
     "name": "stdout",
     "output_type": "stream",
     "text": [
      "1 100 0.5 1.0 0.5\n",
      "    python run_mcmc.py     --csv_path data/insurance/test.csv     --results_path results/insurance/mcmc     --classifier_path experiments/insurance/classifier_basic     --copynet_path experiments/insurance/nonmasked_copynet     --beam_size 1      --cuda 0     --sample 100     --std 0.5    --sigma_class 0.5    --sigma_wer 1.0    --num_steps 100    \n"
     ]
    },
    {
     "name": "stderr",
     "output_type": "stream",
     "text": [
      "\r",
      " 27%|██▋       | 8/30 [05:38<15:35, 42.50s/it]"
     ]
    },
    {
     "name": "stdout",
     "output_type": "stream",
     "text": [
      "1 100 1.0 0.5 0.5\n",
      "    python run_mcmc.py     --csv_path data/insurance/test.csv     --results_path results/insurance/mcmc     --classifier_path experiments/insurance/classifier_basic     --copynet_path experiments/insurance/nonmasked_copynet     --beam_size 1      --cuda 0     --sample 100     --std 1.0    --sigma_class 0.5    --sigma_wer 0.5    --num_steps 100    \n"
     ]
    },
    {
     "name": "stderr",
     "output_type": "stream",
     "text": [
      "\r",
      " 30%|███       | 9/30 [06:20<14:49, 42.35s/it]"
     ]
    },
    {
     "name": "stdout",
     "output_type": "stream",
     "text": [
      "1 100 0.5 0.75 1.5\n",
      "    python run_mcmc.py     --csv_path data/insurance/test.csv     --results_path results/insurance/mcmc     --classifier_path experiments/insurance/classifier_basic     --copynet_path experiments/insurance/nonmasked_copynet     --beam_size 1      --cuda 0     --sample 100     --std 0.5    --sigma_class 1.5    --sigma_wer 0.75    --num_steps 100    \n"
     ]
    },
    {
     "name": "stderr",
     "output_type": "stream",
     "text": [
      "\r",
      " 33%|███▎      | 10/30 [07:02<14:05, 42.27s/it]"
     ]
    },
    {
     "name": "stdout",
     "output_type": "stream",
     "text": [
      "1 100 0.2 1.0 0.75\n",
      "    python run_mcmc.py     --csv_path data/insurance/test.csv     --results_path results/insurance/mcmc     --classifier_path experiments/insurance/classifier_basic     --copynet_path experiments/insurance/nonmasked_copynet     --beam_size 1      --cuda 0     --sample 100     --std 0.2    --sigma_class 0.75    --sigma_wer 1.0    --num_steps 100    \n"
     ]
    },
    {
     "name": "stderr",
     "output_type": "stream",
     "text": [
      "\r",
      " 37%|███▋      | 11/30 [07:44<13:21, 42.17s/it]"
     ]
    },
    {
     "name": "stdout",
     "output_type": "stream",
     "text": [
      "1 100 0.5 0.5 0.5\n",
      "    python run_mcmc.py     --csv_path data/insurance/test.csv     --results_path results/insurance/mcmc     --classifier_path experiments/insurance/classifier_basic     --copynet_path experiments/insurance/nonmasked_copynet     --beam_size 1      --cuda 0     --sample 100     --std 0.5    --sigma_class 0.5    --sigma_wer 0.5    --num_steps 100    \n"
     ]
    },
    {
     "name": "stderr",
     "output_type": "stream",
     "text": [
      "\r",
      " 40%|████      | 12/30 [08:27<12:45, 42.54s/it]"
     ]
    },
    {
     "name": "stdout",
     "output_type": "stream",
     "text": [
      "1 100 0.05 1.5 1.5\n",
      "    python run_mcmc.py     --csv_path data/insurance/test.csv     --results_path results/insurance/mcmc     --classifier_path experiments/insurance/classifier_basic     --copynet_path experiments/insurance/nonmasked_copynet     --beam_size 1      --cuda 0     --sample 100     --std 0.05    --sigma_class 1.5    --sigma_wer 1.5    --num_steps 100    \n"
     ]
    },
    {
     "name": "stderr",
     "output_type": "stream",
     "text": [
      "\r",
      " 43%|████▎     | 13/30 [09:09<11:59, 42.35s/it]"
     ]
    },
    {
     "name": "stdout",
     "output_type": "stream",
     "text": [
      "1 100 1.0 1.25 1.0\n",
      "    python run_mcmc.py     --csv_path data/insurance/test.csv     --results_path results/insurance/mcmc     --classifier_path experiments/insurance/classifier_basic     --copynet_path experiments/insurance/nonmasked_copynet     --beam_size 1      --cuda 0     --sample 100     --std 1.0    --sigma_class 1.0    --sigma_wer 1.25    --num_steps 100    \n"
     ]
    },
    {
     "name": "stderr",
     "output_type": "stream",
     "text": [
      "\r",
      " 47%|████▋     | 14/30 [09:50<11:09, 41.86s/it]"
     ]
    },
    {
     "name": "stdout",
     "output_type": "stream",
     "text": [
      "1 100 0.2 0.75 0.75\n",
      "    python run_mcmc.py     --csv_path data/insurance/test.csv     --results_path results/insurance/mcmc     --classifier_path experiments/insurance/classifier_basic     --copynet_path experiments/insurance/nonmasked_copynet     --beam_size 1      --cuda 0     --sample 100     --std 0.2    --sigma_class 0.75    --sigma_wer 0.75    --num_steps 100    \n"
     ]
    },
    {
     "name": "stderr",
     "output_type": "stream",
     "text": [
      "\r",
      " 50%|█████     | 15/30 [10:32<10:28, 41.93s/it]"
     ]
    },
    {
     "name": "stdout",
     "output_type": "stream",
     "text": [
      "1 100 0.1 0.5 0.2\n",
      "    python run_mcmc.py     --csv_path data/insurance/test.csv     --results_path results/insurance/mcmc     --classifier_path experiments/insurance/classifier_basic     --copynet_path experiments/insurance/nonmasked_copynet     --beam_size 1      --cuda 0     --sample 100     --std 0.1    --sigma_class 0.2    --sigma_wer 0.5    --num_steps 100    \n"
     ]
    },
    {
     "name": "stderr",
     "output_type": "stream",
     "text": [
      "\r",
      " 53%|█████▎    | 16/30 [11:15<09:52, 42.31s/it]"
     ]
    },
    {
     "name": "stdout",
     "output_type": "stream",
     "text": [
      "1 100 0.2 1.5 0.5\n",
      "    python run_mcmc.py     --csv_path data/insurance/test.csv     --results_path results/insurance/mcmc     --classifier_path experiments/insurance/classifier_basic     --copynet_path experiments/insurance/nonmasked_copynet     --beam_size 1      --cuda 0     --sample 100     --std 0.2    --sigma_class 0.5    --sigma_wer 1.5    --num_steps 100    \n"
     ]
    },
    {
     "name": "stderr",
     "output_type": "stream",
     "text": [
      "\r",
      " 57%|█████▋    | 17/30 [11:57<09:09, 42.23s/it]"
     ]
    },
    {
     "name": "stdout",
     "output_type": "stream",
     "text": [
      "1 100 0.5 1.0 0.75\n",
      "    python run_mcmc.py     --csv_path data/insurance/test.csv     --results_path results/insurance/mcmc     --classifier_path experiments/insurance/classifier_basic     --copynet_path experiments/insurance/nonmasked_copynet     --beam_size 1      --cuda 0     --sample 100     --std 0.5    --sigma_class 0.75    --sigma_wer 1.0    --num_steps 100    \n"
     ]
    },
    {
     "name": "stderr",
     "output_type": "stream",
     "text": [
      "\r",
      " 60%|██████    | 18/30 [12:40<08:26, 42.22s/it]"
     ]
    },
    {
     "name": "stdout",
     "output_type": "stream",
     "text": [
      "1 100 0.5 0.75 0.5\n",
      "    python run_mcmc.py     --csv_path data/insurance/test.csv     --results_path results/insurance/mcmc     --classifier_path experiments/insurance/classifier_basic     --copynet_path experiments/insurance/nonmasked_copynet     --beam_size 1      --cuda 0     --sample 100     --std 0.5    --sigma_class 0.5    --sigma_wer 0.75    --num_steps 100    \n"
     ]
    },
    {
     "name": "stderr",
     "output_type": "stream",
     "text": [
      "\r",
      " 63%|██████▎   | 19/30 [13:21<07:43, 42.09s/it]"
     ]
    },
    {
     "name": "stdout",
     "output_type": "stream",
     "text": [
      "1 100 1.0 0.5 1.25\n",
      "    python run_mcmc.py     --csv_path data/insurance/test.csv     --results_path results/insurance/mcmc     --classifier_path experiments/insurance/classifier_basic     --copynet_path experiments/insurance/nonmasked_copynet     --beam_size 1      --cuda 0     --sample 100     --std 1.0    --sigma_class 1.25    --sigma_wer 0.5    --num_steps 100    \n"
     ]
    },
    {
     "name": "stderr",
     "output_type": "stream",
     "text": [
      "\r",
      " 67%|██████▋   | 20/30 [14:05<07:04, 42.46s/it]"
     ]
    },
    {
     "name": "stdout",
     "output_type": "stream",
     "text": [
      "1 100 0.01 0.2 1.25\n",
      "    python run_mcmc.py     --csv_path data/insurance/test.csv     --results_path results/insurance/mcmc     --classifier_path experiments/insurance/classifier_basic     --copynet_path experiments/insurance/nonmasked_copynet     --beam_size 1      --cuda 0     --sample 100     --std 0.01    --sigma_class 1.25    --sigma_wer 0.2    --num_steps 100    \n"
     ]
    },
    {
     "name": "stderr",
     "output_type": "stream",
     "text": [
      "\r",
      " 70%|███████   | 21/30 [14:47<06:21, 42.44s/it]"
     ]
    },
    {
     "name": "stdout",
     "output_type": "stream",
     "text": [
      "1 100 1.0 1.25 0.75\n",
      "    python run_mcmc.py     --csv_path data/insurance/test.csv     --results_path results/insurance/mcmc     --classifier_path experiments/insurance/classifier_basic     --copynet_path experiments/insurance/nonmasked_copynet     --beam_size 1      --cuda 0     --sample 100     --std 1.0    --sigma_class 0.75    --sigma_wer 1.25    --num_steps 100    \n"
     ]
    },
    {
     "name": "stderr",
     "output_type": "stream",
     "text": [
      "\r",
      " 73%|███████▎  | 22/30 [15:29<05:39, 42.38s/it]"
     ]
    },
    {
     "name": "stdout",
     "output_type": "stream",
     "text": [
      "1 100 0.5 0.5 0.2\n",
      "    python run_mcmc.py     --csv_path data/insurance/test.csv     --results_path results/insurance/mcmc     --classifier_path experiments/insurance/classifier_basic     --copynet_path experiments/insurance/nonmasked_copynet     --beam_size 1      --cuda 0     --sample 100     --std 0.5    --sigma_class 0.2    --sigma_wer 0.5    --num_steps 100    \n"
     ]
    },
    {
     "name": "stderr",
     "output_type": "stream",
     "text": [
      "\r",
      " 77%|███████▋  | 23/30 [16:13<04:59, 42.79s/it]"
     ]
    },
    {
     "name": "stdout",
     "output_type": "stream",
     "text": [
      "1 100 0.2 0.75 1.25\n",
      "    python run_mcmc.py     --csv_path data/insurance/test.csv     --results_path results/insurance/mcmc     --classifier_path experiments/insurance/classifier_basic     --copynet_path experiments/insurance/nonmasked_copynet     --beam_size 1      --cuda 0     --sample 100     --std 0.2    --sigma_class 1.25    --sigma_wer 0.75    --num_steps 100    \n"
     ]
    },
    {
     "name": "stderr",
     "output_type": "stream",
     "text": [
      "\r",
      " 80%|████████  | 24/30 [16:55<04:15, 42.56s/it]"
     ]
    },
    {
     "name": "stdout",
     "output_type": "stream",
     "text": [
      "1 100 1.0 0.2 1.5\n",
      "    python run_mcmc.py     --csv_path data/insurance/test.csv     --results_path results/insurance/mcmc     --classifier_path experiments/insurance/classifier_basic     --copynet_path experiments/insurance/nonmasked_copynet     --beam_size 1      --cuda 0     --sample 100     --std 1.0    --sigma_class 1.5    --sigma_wer 0.2    --num_steps 100    \n"
     ]
    },
    {
     "name": "stderr",
     "output_type": "stream",
     "text": [
      "\r",
      " 83%|████████▎ | 25/30 [17:37<03:32, 42.44s/it]"
     ]
    },
    {
     "name": "stdout",
     "output_type": "stream",
     "text": [
      "1 100 0.01 0.2 0.5\n",
      "    python run_mcmc.py     --csv_path data/insurance/test.csv     --results_path results/insurance/mcmc     --classifier_path experiments/insurance/classifier_basic     --copynet_path experiments/insurance/nonmasked_copynet     --beam_size 1      --cuda 0     --sample 100     --std 0.01    --sigma_class 0.5    --sigma_wer 0.2    --num_steps 100    \n"
     ]
    },
    {
     "name": "stderr",
     "output_type": "stream",
     "text": [
      "\r",
      " 87%|████████▋ | 26/30 [18:19<02:48, 42.22s/it]"
     ]
    },
    {
     "name": "stdout",
     "output_type": "stream",
     "text": [
      "1 100 0.01 1.5 1.25\n",
      "    python run_mcmc.py     --csv_path data/insurance/test.csv     --results_path results/insurance/mcmc     --classifier_path experiments/insurance/classifier_basic     --copynet_path experiments/insurance/nonmasked_copynet     --beam_size 1      --cuda 0     --sample 100     --std 0.01    --sigma_class 1.25    --sigma_wer 1.5    --num_steps 100    \n"
     ]
    },
    {
     "name": "stderr",
     "output_type": "stream",
     "text": [
      "\r",
      " 90%|█████████ | 27/30 [19:03<02:07, 42.63s/it]"
     ]
    },
    {
     "name": "stdout",
     "output_type": "stream",
     "text": [
      "1 100 0.1 0.5 1.5\n",
      "    python run_mcmc.py     --csv_path data/insurance/test.csv     --results_path results/insurance/mcmc     --classifier_path experiments/insurance/classifier_basic     --copynet_path experiments/insurance/nonmasked_copynet     --beam_size 1      --cuda 0     --sample 100     --std 0.1    --sigma_class 1.5    --sigma_wer 0.5    --num_steps 100    \n"
     ]
    },
    {
     "name": "stderr",
     "output_type": "stream",
     "text": [
      "\r",
      " 93%|█████████▎| 28/30 [19:45<01:24, 42.50s/it]"
     ]
    },
    {
     "name": "stdout",
     "output_type": "stream",
     "text": [
      "1 100 0.5 1.5 0.75\n",
      "    python run_mcmc.py     --csv_path data/insurance/test.csv     --results_path results/insurance/mcmc     --classifier_path experiments/insurance/classifier_basic     --copynet_path experiments/insurance/nonmasked_copynet     --beam_size 1      --cuda 0     --sample 100     --std 0.5    --sigma_class 0.75    --sigma_wer 1.5    --num_steps 100    \n"
     ]
    },
    {
     "name": "stderr",
     "output_type": "stream",
     "text": [
      "\r",
      " 97%|█████████▋| 29/30 [20:27<00:42, 42.49s/it]"
     ]
    },
    {
     "name": "stdout",
     "output_type": "stream",
     "text": [
      "1 100 0.2 1.0 0.5\n",
      "    python run_mcmc.py     --csv_path data/insurance/test.csv     --results_path results/insurance/mcmc     --classifier_path experiments/insurance/classifier_basic     --copynet_path experiments/insurance/nonmasked_copynet     --beam_size 1      --cuda 0     --sample 100     --std 0.2    --sigma_class 0.5    --sigma_wer 1.0    --num_steps 100    \n"
     ]
    },
    {
     "name": "stderr",
     "output_type": "stream",
     "text": [
      "100%|██████████| 30/30 [21:09<00:00, 42.32s/it]\n"
     ]
    }
   ],
   "source": [
    "pbar = tqdm(total=sampler.n_iter)\n",
    "#for beam_size, num_steps in params:\n",
    "for s in sampler:\n",
    "    std = s['std']\n",
    "    sigma_wer = s['sigma_wer']\n",
    "    sigma_class = s['sigma_class']\n",
    "    print(beam_size, num_steps, std, sigma_wer, sigma_class)\n",
    "    cmd = \\\n",
    "    f'''\n",
    "    python run_mcmc.py \n",
    "    --csv_path data/{dataset}/test.csv \n",
    "    --results_path results/{dataset}/mcmc \n",
    "    --classifier_path experiments/{dataset}/classifier_basic \n",
    "    --copynet_path experiments/{dataset}/nonmasked_copynet \n",
    "    --beam_size {beam_size}  \n",
    "    --cuda 0 \n",
    "    --sample 100 \n",
    "    --std {std}\n",
    "    --sigma_class {sigma_class}\n",
    "    --sigma_wer {sigma_wer}\n",
    "    --num_steps {num_steps}\n",
    "    '''.replace('\\n','')\n",
    "    print(cmd)\n",
    "    result = subprocess.run(cmd, stdout=subprocess.PIPE, shell=True)\n",
    "    pbar.update(1)\n",
    "pbar.close()"
   ]
  },
  {
   "cell_type": "code",
   "execution_count": null,
   "metadata": {},
   "outputs": [],
   "source": []
  },
  {
   "cell_type": "code",
   "execution_count": null,
   "metadata": {},
   "outputs": [],
   "source": []
  },
  {
   "cell_type": "markdown",
   "metadata": {},
   "source": [
    "## make random grisearch"
   ]
  },
  {
   "cell_type": "code",
   "execution_count": 26,
   "metadata": {},
   "outputs": [
    {
     "data": {
      "text/plain": [
       "'insurance'"
      ]
     },
     "execution_count": 26,
     "metadata": {},
     "output_type": "execute_result"
    }
   ],
   "source": [
    "dataset"
   ]
  },
  {
   "cell_type": "code",
   "execution_count": 27,
   "metadata": {},
   "outputs": [
    {
     "name": "stderr",
     "output_type": "stream",
     "text": [
      "\r",
      "  0%|          | 0/6 [00:00<?, ?it/s]"
     ]
    },
    {
     "name": "stdout",
     "output_type": "stream",
     "text": [
      "1 100 0.01\n",
      "    python run_mcmc.py     --csv_path data/insurance/test.csv     --results_path results/insurance/random     --classifier_path experiments/insurance/classifier_basic     --copynet_path experiments/insurance/nonmasked_copynet     --beam_size 1      --cuda 0     --sample 100     --std 0.01    --num_steps 100    --random    \n"
     ]
    },
    {
     "name": "stderr",
     "output_type": "stream",
     "text": [
      "\r",
      " 17%|█▋        | 1/6 [00:43<03:35, 43.17s/it]"
     ]
    },
    {
     "name": "stdout",
     "output_type": "stream",
     "text": [
      "1 100 0.05\n",
      "    python run_mcmc.py     --csv_path data/insurance/test.csv     --results_path results/insurance/random     --classifier_path experiments/insurance/classifier_basic     --copynet_path experiments/insurance/nonmasked_copynet     --beam_size 1      --cuda 0     --sample 100     --std 0.05    --num_steps 100    --random    \n"
     ]
    },
    {
     "name": "stderr",
     "output_type": "stream",
     "text": [
      "\r",
      " 33%|███▎      | 2/6 [01:25<02:51, 42.87s/it]"
     ]
    },
    {
     "name": "stdout",
     "output_type": "stream",
     "text": [
      "1 100 0.1\n",
      "    python run_mcmc.py     --csv_path data/insurance/test.csv     --results_path results/insurance/random     --classifier_path experiments/insurance/classifier_basic     --copynet_path experiments/insurance/nonmasked_copynet     --beam_size 1      --cuda 0     --sample 100     --std 0.1    --num_steps 100    --random    \n"
     ]
    },
    {
     "name": "stderr",
     "output_type": "stream",
     "text": [
      "\r",
      " 50%|█████     | 3/6 [02:07<02:07, 42.62s/it]"
     ]
    },
    {
     "name": "stdout",
     "output_type": "stream",
     "text": [
      "1 100 0.2\n",
      "    python run_mcmc.py     --csv_path data/insurance/test.csv     --results_path results/insurance/random     --classifier_path experiments/insurance/classifier_basic     --copynet_path experiments/insurance/nonmasked_copynet     --beam_size 1      --cuda 0     --sample 100     --std 0.2    --num_steps 100    --random    \n"
     ]
    },
    {
     "name": "stderr",
     "output_type": "stream",
     "text": [
      "\r",
      " 67%|██████▋   | 4/6 [02:49<01:24, 42.39s/it]"
     ]
    },
    {
     "name": "stdout",
     "output_type": "stream",
     "text": [
      "1 100 0.5\n",
      "    python run_mcmc.py     --csv_path data/insurance/test.csv     --results_path results/insurance/random     --classifier_path experiments/insurance/classifier_basic     --copynet_path experiments/insurance/nonmasked_copynet     --beam_size 1      --cuda 0     --sample 100     --std 0.5    --num_steps 100    --random    \n"
     ]
    },
    {
     "name": "stderr",
     "output_type": "stream",
     "text": [
      "\r",
      " 83%|████████▎ | 5/6 [03:32<00:42, 42.66s/it]"
     ]
    },
    {
     "name": "stdout",
     "output_type": "stream",
     "text": [
      "1 100 1.0\n",
      "    python run_mcmc.py     --csv_path data/insurance/test.csv     --results_path results/insurance/random     --classifier_path experiments/insurance/classifier_basic     --copynet_path experiments/insurance/nonmasked_copynet     --beam_size 1      --cuda 0     --sample 100     --std 1.0    --num_steps 100    --random    \n"
     ]
    },
    {
     "name": "stderr",
     "output_type": "stream",
     "text": [
      "100%|██████████| 6/6 [04:14<00:00, 42.44s/it]\n"
     ]
    }
   ],
   "source": [
    "#for beam_size, num_steps in params:\n",
    "for std in tqdm(stds):\n",
    "    print(beam_size, num_steps, std)\n",
    "    cmd = \\\n",
    "    f'''\n",
    "    python run_mcmc.py \n",
    "    --csv_path data/{dataset}/test.csv \n",
    "    --results_path results/{dataset}/random \n",
    "    --classifier_path experiments/{dataset}/classifier_basic \n",
    "    --copynet_path experiments/{dataset}/nonmasked_copynet \n",
    "    --beam_size {beam_size}  \n",
    "    --cuda 0 \n",
    "    --sample 100 \n",
    "    --std {std}\n",
    "    --num_steps {num_steps}\n",
    "    --random\n",
    "    '''.replace('\\n','')\n",
    "    print(cmd)\n",
    "    result = subprocess.run(cmd, stdout=subprocess.PIPE, shell=True)"
   ]
  },
  {
   "cell_type": "code",
   "execution_count": null,
   "metadata": {},
   "outputs": [],
   "source": []
  },
  {
   "cell_type": "code",
   "execution_count": null,
   "metadata": {},
   "outputs": [],
   "source": []
  },
  {
   "cell_type": "code",
   "execution_count": 28,
   "metadata": {},
   "outputs": [],
   "source": [
    "from eval import calculate_nad, calculate_metrics\n",
    "import joblib\n",
    "import json\n",
    "from adat.models.classification_model import LogisticRegressionOnTfIdf"
   ]
  },
  {
   "cell_type": "code",
   "execution_count": 29,
   "metadata": {},
   "outputs": [],
   "source": [
    "base_dir = f'results/{dataset}'"
   ]
  },
  {
   "cell_type": "code",
   "execution_count": 30,
   "metadata": {},
   "outputs": [
    {
     "data": {
      "text/plain": [
       "'results/insurance'"
      ]
     },
     "execution_count": 30,
     "metadata": {},
     "output_type": "execute_result"
    }
   ],
   "source": [
    "base_dir"
   ]
  },
  {
   "cell_type": "code",
   "execution_count": 31,
   "metadata": {},
   "outputs": [],
   "source": [
    "model_with_weights = joblib.load(f'results/{dataset}/logit_tfidf.model')\n",
    "model = model_with_weights['model']\n",
    "w = model_with_weights['weights']\n",
    "\n",
    "for method in ['mcmc', 'random']:\n",
    "    base = os.path.join(base_dir, method)\n",
    "    for folder in os.listdir(base):\n",
    "        if folder != 'backup':\n",
    "            attack_results_path = f'{base}/{folder}/results.csv'\n",
    "            eval_results_path = f'{base}/{folder}/eval_metric.json'\n",
    "            df = pd.read_csv(attack_results_path)\n",
    "            df.rename(columns={'generated_sequence':'adversarial_sequence'}, inplace=True)\n",
    "            metrics = calculate_metrics(model, w,\n",
    "                                    df['label'].values, \n",
    "                                    df['sequence'].values,\n",
    "                                    df['adversarial_sequence'].values)\n",
    "            json.dump(metrics, open(eval_results_path, 'w'))"
   ]
  },
  {
   "cell_type": "code",
   "execution_count": null,
   "metadata": {},
   "outputs": [],
   "source": []
  },
  {
   "cell_type": "code",
   "execution_count": null,
   "metadata": {},
   "outputs": [],
   "source": []
  },
  {
   "cell_type": "code",
   "execution_count": 32,
   "metadata": {},
   "outputs": [],
   "source": [
    "result = []\n",
    "for method in ['mcmc']:\n",
    "    base = os.path.join(base_dir, method)\n",
    "    for folder in os.listdir(base):\n",
    "        if folder != 'backup':\n",
    "            args = json.load(open(os.path.join(base, folder, 'args.json')))\n",
    "            metrics = json.load(open(os.path.join(base, folder, 'eval_metric.json')))\n",
    "            args.update(metrics)\n",
    "            result.append({k:args[k] for k in ['accuracy_drop', 'probability_drop', 'WER', 'NAD',\n",
    "                                                'beam_size', 'num_steps', 'std', 'sigma_wer', 'sigma_class']})\n",
    "result = pd.DataFrame(result)"
   ]
  },
  {
   "cell_type": "code",
   "execution_count": null,
   "metadata": {},
   "outputs": [],
   "source": []
  },
  {
   "cell_type": "code",
   "execution_count": 33,
   "metadata": {},
   "outputs": [
    {
     "data": {
      "text/html": [
       "<div>\n",
       "<style scoped>\n",
       "    .dataframe tbody tr th:only-of-type {\n",
       "        vertical-align: middle;\n",
       "    }\n",
       "\n",
       "    .dataframe tbody tr th {\n",
       "        vertical-align: top;\n",
       "    }\n",
       "\n",
       "    .dataframe thead th {\n",
       "        text-align: right;\n",
       "    }\n",
       "</style>\n",
       "<table border=\"1\" class=\"dataframe\">\n",
       "  <thead>\n",
       "    <tr style=\"text-align: right;\">\n",
       "      <th></th>\n",
       "      <th>accuracy_drop</th>\n",
       "      <th>probability_drop</th>\n",
       "      <th>WER</th>\n",
       "      <th>NAD</th>\n",
       "      <th>beam_size</th>\n",
       "      <th>num_steps</th>\n",
       "      <th>std</th>\n",
       "      <th>sigma_wer</th>\n",
       "      <th>sigma_class</th>\n",
       "    </tr>\n",
       "  </thead>\n",
       "  <tbody>\n",
       "    <tr>\n",
       "      <th>0</th>\n",
       "      <td>0.03</td>\n",
       "      <td>0.001874</td>\n",
       "      <td>0.89</td>\n",
       "      <td>0.011223</td>\n",
       "      <td>1</td>\n",
       "      <td>100</td>\n",
       "      <td>0.05</td>\n",
       "      <td>1.50</td>\n",
       "      <td>1.50</td>\n",
       "    </tr>\n",
       "    <tr>\n",
       "      <th>1</th>\n",
       "      <td>0.10</td>\n",
       "      <td>0.021250</td>\n",
       "      <td>3.46</td>\n",
       "      <td>0.053367</td>\n",
       "      <td>30</td>\n",
       "      <td>30</td>\n",
       "      <td>0.20</td>\n",
       "      <td>0.50</td>\n",
       "      <td>1.00</td>\n",
       "    </tr>\n",
       "    <tr>\n",
       "      <th>2</th>\n",
       "      <td>0.03</td>\n",
       "      <td>0.001839</td>\n",
       "      <td>0.70</td>\n",
       "      <td>0.011223</td>\n",
       "      <td>1</td>\n",
       "      <td>100</td>\n",
       "      <td>1.00</td>\n",
       "      <td>0.20</td>\n",
       "      <td>1.50</td>\n",
       "    </tr>\n",
       "    <tr>\n",
       "      <th>3</th>\n",
       "      <td>0.03</td>\n",
       "      <td>0.001874</td>\n",
       "      <td>0.89</td>\n",
       "      <td>0.011223</td>\n",
       "      <td>1</td>\n",
       "      <td>100</td>\n",
       "      <td>0.10</td>\n",
       "      <td>1.50</td>\n",
       "      <td>1.00</td>\n",
       "    </tr>\n",
       "    <tr>\n",
       "      <th>4</th>\n",
       "      <td>0.08</td>\n",
       "      <td>0.010489</td>\n",
       "      <td>0.54</td>\n",
       "      <td>0.036195</td>\n",
       "      <td>30</td>\n",
       "      <td>30</td>\n",
       "      <td>0.05</td>\n",
       "      <td>1.00</td>\n",
       "      <td>0.20</td>\n",
       "    </tr>\n",
       "    <tr>\n",
       "      <th>5</th>\n",
       "      <td>0.10</td>\n",
       "      <td>0.021599</td>\n",
       "      <td>3.54</td>\n",
       "      <td>0.053367</td>\n",
       "      <td>30</td>\n",
       "      <td>30</td>\n",
       "      <td>1.00</td>\n",
       "      <td>0.75</td>\n",
       "      <td>1.00</td>\n",
       "    </tr>\n",
       "    <tr>\n",
       "      <th>6</th>\n",
       "      <td>0.10</td>\n",
       "      <td>0.020667</td>\n",
       "      <td>3.22</td>\n",
       "      <td>0.053367</td>\n",
       "      <td>30</td>\n",
       "      <td>30</td>\n",
       "      <td>1.00</td>\n",
       "      <td>1.00</td>\n",
       "      <td>0.50</td>\n",
       "    </tr>\n",
       "    <tr>\n",
       "      <th>7</th>\n",
       "      <td>0.03</td>\n",
       "      <td>0.001874</td>\n",
       "      <td>0.89</td>\n",
       "      <td>0.011223</td>\n",
       "      <td>1</td>\n",
       "      <td>100</td>\n",
       "      <td>0.20</td>\n",
       "      <td>1.50</td>\n",
       "      <td>0.50</td>\n",
       "    </tr>\n",
       "    <tr>\n",
       "      <th>8</th>\n",
       "      <td>0.10</td>\n",
       "      <td>0.020868</td>\n",
       "      <td>3.52</td>\n",
       "      <td>0.053367</td>\n",
       "      <td>30</td>\n",
       "      <td>30</td>\n",
       "      <td>0.01</td>\n",
       "      <td>0.50</td>\n",
       "      <td>1.50</td>\n",
       "    </tr>\n",
       "    <tr>\n",
       "      <th>9</th>\n",
       "      <td>0.10</td>\n",
       "      <td>0.021630</td>\n",
       "      <td>3.59</td>\n",
       "      <td>0.053367</td>\n",
       "      <td>30</td>\n",
       "      <td>30</td>\n",
       "      <td>0.01</td>\n",
       "      <td>1.25</td>\n",
       "      <td>1.50</td>\n",
       "    </tr>\n",
       "    <tr>\n",
       "      <th>10</th>\n",
       "      <td>0.10</td>\n",
       "      <td>0.021447</td>\n",
       "      <td>3.57</td>\n",
       "      <td>0.053367</td>\n",
       "      <td>30</td>\n",
       "      <td>30</td>\n",
       "      <td>0.05</td>\n",
       "      <td>0.75</td>\n",
       "      <td>1.00</td>\n",
       "    </tr>\n",
       "    <tr>\n",
       "      <th>11</th>\n",
       "      <td>0.03</td>\n",
       "      <td>0.001874</td>\n",
       "      <td>0.89</td>\n",
       "      <td>0.011223</td>\n",
       "      <td>1</td>\n",
       "      <td>100</td>\n",
       "      <td>0.20</td>\n",
       "      <td>0.75</td>\n",
       "      <td>0.75</td>\n",
       "    </tr>\n",
       "    <tr>\n",
       "      <th>12</th>\n",
       "      <td>0.03</td>\n",
       "      <td>0.001874</td>\n",
       "      <td>0.89</td>\n",
       "      <td>0.011223</td>\n",
       "      <td>1</td>\n",
       "      <td>100</td>\n",
       "      <td>1.00</td>\n",
       "      <td>1.25</td>\n",
       "      <td>0.75</td>\n",
       "    </tr>\n",
       "    <tr>\n",
       "      <th>13</th>\n",
       "      <td>0.03</td>\n",
       "      <td>0.001874</td>\n",
       "      <td>0.89</td>\n",
       "      <td>0.011223</td>\n",
       "      <td>1</td>\n",
       "      <td>100</td>\n",
       "      <td>1.00</td>\n",
       "      <td>0.50</td>\n",
       "      <td>1.25</td>\n",
       "    </tr>\n",
       "    <tr>\n",
       "      <th>14</th>\n",
       "      <td>0.03</td>\n",
       "      <td>0.001874</td>\n",
       "      <td>0.89</td>\n",
       "      <td>0.011223</td>\n",
       "      <td>1</td>\n",
       "      <td>100</td>\n",
       "      <td>0.50</td>\n",
       "      <td>1.00</td>\n",
       "      <td>0.50</td>\n",
       "    </tr>\n",
       "    <tr>\n",
       "      <th>15</th>\n",
       "      <td>0.03</td>\n",
       "      <td>0.001874</td>\n",
       "      <td>0.89</td>\n",
       "      <td>0.011223</td>\n",
       "      <td>1</td>\n",
       "      <td>100</td>\n",
       "      <td>0.50</td>\n",
       "      <td>0.75</td>\n",
       "      <td>1.50</td>\n",
       "    </tr>\n",
       "    <tr>\n",
       "      <th>16</th>\n",
       "      <td>0.10</td>\n",
       "      <td>0.021630</td>\n",
       "      <td>3.59</td>\n",
       "      <td>0.053367</td>\n",
       "      <td>30</td>\n",
       "      <td>30</td>\n",
       "      <td>0.05</td>\n",
       "      <td>0.75</td>\n",
       "      <td>1.25</td>\n",
       "    </tr>\n",
       "    <tr>\n",
       "      <th>17</th>\n",
       "      <td>0.10</td>\n",
       "      <td>0.021630</td>\n",
       "      <td>3.59</td>\n",
       "      <td>0.053367</td>\n",
       "      <td>30</td>\n",
       "      <td>30</td>\n",
       "      <td>0.10</td>\n",
       "      <td>1.00</td>\n",
       "      <td>1.25</td>\n",
       "    </tr>\n",
       "    <tr>\n",
       "      <th>18</th>\n",
       "      <td>0.10</td>\n",
       "      <td>0.021436</td>\n",
       "      <td>3.53</td>\n",
       "      <td>0.053367</td>\n",
       "      <td>30</td>\n",
       "      <td>30</td>\n",
       "      <td>0.01</td>\n",
       "      <td>1.25</td>\n",
       "      <td>0.75</td>\n",
       "    </tr>\n",
       "    <tr>\n",
       "      <th>19</th>\n",
       "      <td>0.00</td>\n",
       "      <td>0.000086</td>\n",
       "      <td>0.20</td>\n",
       "      <td>0.000000</td>\n",
       "      <td>1</td>\n",
       "      <td>100</td>\n",
       "      <td>0.10</td>\n",
       "      <td>0.50</td>\n",
       "      <td>0.20</td>\n",
       "    </tr>\n",
       "    <tr>\n",
       "      <th>20</th>\n",
       "      <td>0.10</td>\n",
       "      <td>0.021630</td>\n",
       "      <td>3.59</td>\n",
       "      <td>0.053367</td>\n",
       "      <td>30</td>\n",
       "      <td>30</td>\n",
       "      <td>0.10</td>\n",
       "      <td>1.50</td>\n",
       "      <td>1.00</td>\n",
       "    </tr>\n",
       "    <tr>\n",
       "      <th>21</th>\n",
       "      <td>0.04</td>\n",
       "      <td>0.003899</td>\n",
       "      <td>0.54</td>\n",
       "      <td>0.023569</td>\n",
       "      <td>30</td>\n",
       "      <td>30</td>\n",
       "      <td>0.01</td>\n",
       "      <td>1.00</td>\n",
       "      <td>0.20</td>\n",
       "    </tr>\n",
       "    <tr>\n",
       "      <th>22</th>\n",
       "      <td>0.03</td>\n",
       "      <td>0.001874</td>\n",
       "      <td>0.89</td>\n",
       "      <td>0.011223</td>\n",
       "      <td>1</td>\n",
       "      <td>100</td>\n",
       "      <td>0.50</td>\n",
       "      <td>1.00</td>\n",
       "      <td>0.75</td>\n",
       "    </tr>\n",
       "    <tr>\n",
       "      <th>23</th>\n",
       "      <td>0.03</td>\n",
       "      <td>0.001874</td>\n",
       "      <td>0.89</td>\n",
       "      <td>0.011223</td>\n",
       "      <td>1</td>\n",
       "      <td>100</td>\n",
       "      <td>0.50</td>\n",
       "      <td>0.75</td>\n",
       "      <td>0.50</td>\n",
       "    </tr>\n",
       "    <tr>\n",
       "      <th>24</th>\n",
       "      <td>0.10</td>\n",
       "      <td>0.021630</td>\n",
       "      <td>3.59</td>\n",
       "      <td>0.053367</td>\n",
       "      <td>30</td>\n",
       "      <td>30</td>\n",
       "      <td>1.00</td>\n",
       "      <td>1.50</td>\n",
       "      <td>0.75</td>\n",
       "    </tr>\n",
       "    <tr>\n",
       "      <th>25</th>\n",
       "      <td>0.09</td>\n",
       "      <td>0.016524</td>\n",
       "      <td>2.39</td>\n",
       "      <td>0.051347</td>\n",
       "      <td>30</td>\n",
       "      <td>30</td>\n",
       "      <td>1.00</td>\n",
       "      <td>0.50</td>\n",
       "      <td>0.50</td>\n",
       "    </tr>\n",
       "    <tr>\n",
       "      <th>26</th>\n",
       "      <td>0.09</td>\n",
       "      <td>0.020033</td>\n",
       "      <td>3.49</td>\n",
       "      <td>0.043266</td>\n",
       "      <td>30</td>\n",
       "      <td>30</td>\n",
       "      <td>1.00</td>\n",
       "      <td>1.50</td>\n",
       "      <td>0.50</td>\n",
       "    </tr>\n",
       "    <tr>\n",
       "      <th>27</th>\n",
       "      <td>0.03</td>\n",
       "      <td>0.001874</td>\n",
       "      <td>0.89</td>\n",
       "      <td>0.011223</td>\n",
       "      <td>1</td>\n",
       "      <td>100</td>\n",
       "      <td>1.00</td>\n",
       "      <td>0.50</td>\n",
       "      <td>0.50</td>\n",
       "    </tr>\n",
       "    <tr>\n",
       "      <th>28</th>\n",
       "      <td>0.10</td>\n",
       "      <td>0.021143</td>\n",
       "      <td>3.33</td>\n",
       "      <td>0.053367</td>\n",
       "      <td>30</td>\n",
       "      <td>30</td>\n",
       "      <td>1.00</td>\n",
       "      <td>1.25</td>\n",
       "      <td>0.50</td>\n",
       "    </tr>\n",
       "    <tr>\n",
       "      <th>29</th>\n",
       "      <td>0.03</td>\n",
       "      <td>0.001874</td>\n",
       "      <td>0.89</td>\n",
       "      <td>0.011223</td>\n",
       "      <td>1</td>\n",
       "      <td>100</td>\n",
       "      <td>0.50</td>\n",
       "      <td>1.50</td>\n",
       "      <td>0.75</td>\n",
       "    </tr>\n",
       "    <tr>\n",
       "      <th>30</th>\n",
       "      <td>0.05</td>\n",
       "      <td>0.006389</td>\n",
       "      <td>0.39</td>\n",
       "      <td>0.020539</td>\n",
       "      <td>30</td>\n",
       "      <td>30</td>\n",
       "      <td>0.05</td>\n",
       "      <td>1.50</td>\n",
       "      <td>0.20</td>\n",
       "    </tr>\n",
       "    <tr>\n",
       "      <th>31</th>\n",
       "      <td>0.03</td>\n",
       "      <td>0.001847</td>\n",
       "      <td>0.64</td>\n",
       "      <td>0.011223</td>\n",
       "      <td>1</td>\n",
       "      <td>100</td>\n",
       "      <td>0.01</td>\n",
       "      <td>0.20</td>\n",
       "      <td>1.50</td>\n",
       "    </tr>\n",
       "    <tr>\n",
       "      <th>32</th>\n",
       "      <td>0.10</td>\n",
       "      <td>0.021630</td>\n",
       "      <td>3.59</td>\n",
       "      <td>0.053367</td>\n",
       "      <td>30</td>\n",
       "      <td>30</td>\n",
       "      <td>0.01</td>\n",
       "      <td>1.25</td>\n",
       "      <td>1.00</td>\n",
       "    </tr>\n",
       "    <tr>\n",
       "      <th>33</th>\n",
       "      <td>0.06</td>\n",
       "      <td>0.008265</td>\n",
       "      <td>0.66</td>\n",
       "      <td>0.025589</td>\n",
       "      <td>30</td>\n",
       "      <td>30</td>\n",
       "      <td>1.00</td>\n",
       "      <td>1.50</td>\n",
       "      <td>0.20</td>\n",
       "    </tr>\n",
       "    <tr>\n",
       "      <th>34</th>\n",
       "      <td>0.10</td>\n",
       "      <td>0.021630</td>\n",
       "      <td>3.59</td>\n",
       "      <td>0.053367</td>\n",
       "      <td>30</td>\n",
       "      <td>30</td>\n",
       "      <td>0.01</td>\n",
       "      <td>0.75</td>\n",
       "      <td>1.25</td>\n",
       "    </tr>\n",
       "    <tr>\n",
       "      <th>35</th>\n",
       "      <td>0.03</td>\n",
       "      <td>0.001874</td>\n",
       "      <td>0.89</td>\n",
       "      <td>0.011223</td>\n",
       "      <td>1</td>\n",
       "      <td>100</td>\n",
       "      <td>0.50</td>\n",
       "      <td>0.50</td>\n",
       "      <td>0.50</td>\n",
       "    </tr>\n",
       "    <tr>\n",
       "      <th>36</th>\n",
       "      <td>0.09</td>\n",
       "      <td>0.020933</td>\n",
       "      <td>3.38</td>\n",
       "      <td>0.043266</td>\n",
       "      <td>30</td>\n",
       "      <td>30</td>\n",
       "      <td>0.10</td>\n",
       "      <td>1.50</td>\n",
       "      <td>0.50</td>\n",
       "    </tr>\n",
       "    <tr>\n",
       "      <th>37</th>\n",
       "      <td>0.03</td>\n",
       "      <td>0.001861</td>\n",
       "      <td>0.67</td>\n",
       "      <td>0.011223</td>\n",
       "      <td>1</td>\n",
       "      <td>100</td>\n",
       "      <td>0.01</td>\n",
       "      <td>0.20</td>\n",
       "      <td>1.25</td>\n",
       "    </tr>\n",
       "    <tr>\n",
       "      <th>38</th>\n",
       "      <td>0.03</td>\n",
       "      <td>0.001874</td>\n",
       "      <td>0.89</td>\n",
       "      <td>0.011223</td>\n",
       "      <td>1</td>\n",
       "      <td>100</td>\n",
       "      <td>0.50</td>\n",
       "      <td>1.50</td>\n",
       "      <td>0.50</td>\n",
       "    </tr>\n",
       "    <tr>\n",
       "      <th>39</th>\n",
       "      <td>0.10</td>\n",
       "      <td>0.021551</td>\n",
       "      <td>3.58</td>\n",
       "      <td>0.053367</td>\n",
       "      <td>30</td>\n",
       "      <td>30</td>\n",
       "      <td>0.10</td>\n",
       "      <td>0.75</td>\n",
       "      <td>0.75</td>\n",
       "    </tr>\n",
       "    <tr>\n",
       "      <th>40</th>\n",
       "      <td>0.05</td>\n",
       "      <td>0.006223</td>\n",
       "      <td>0.32</td>\n",
       "      <td>0.023569</td>\n",
       "      <td>30</td>\n",
       "      <td>30</td>\n",
       "      <td>0.05</td>\n",
       "      <td>0.75</td>\n",
       "      <td>0.20</td>\n",
       "    </tr>\n",
       "    <tr>\n",
       "      <th>41</th>\n",
       "      <td>0.03</td>\n",
       "      <td>0.001874</td>\n",
       "      <td>0.89</td>\n",
       "      <td>0.011223</td>\n",
       "      <td>1</td>\n",
       "      <td>100</td>\n",
       "      <td>0.10</td>\n",
       "      <td>0.50</td>\n",
       "      <td>1.50</td>\n",
       "    </tr>\n",
       "    <tr>\n",
       "      <th>42</th>\n",
       "      <td>0.03</td>\n",
       "      <td>0.001874</td>\n",
       "      <td>0.89</td>\n",
       "      <td>0.011223</td>\n",
       "      <td>1</td>\n",
       "      <td>100</td>\n",
       "      <td>0.01</td>\n",
       "      <td>1.50</td>\n",
       "      <td>1.25</td>\n",
       "    </tr>\n",
       "    <tr>\n",
       "      <th>43</th>\n",
       "      <td>0.10</td>\n",
       "      <td>0.021630</td>\n",
       "      <td>3.59</td>\n",
       "      <td>0.053367</td>\n",
       "      <td>30</td>\n",
       "      <td>30</td>\n",
       "      <td>0.05</td>\n",
       "      <td>1.25</td>\n",
       "      <td>1.00</td>\n",
       "    </tr>\n",
       "    <tr>\n",
       "      <th>44</th>\n",
       "      <td>0.03</td>\n",
       "      <td>0.001874</td>\n",
       "      <td>0.89</td>\n",
       "      <td>0.011223</td>\n",
       "      <td>1</td>\n",
       "      <td>100</td>\n",
       "      <td>0.20</td>\n",
       "      <td>1.00</td>\n",
       "      <td>0.75</td>\n",
       "    </tr>\n",
       "    <tr>\n",
       "      <th>45</th>\n",
       "      <td>0.03</td>\n",
       "      <td>0.001874</td>\n",
       "      <td>0.89</td>\n",
       "      <td>0.011223</td>\n",
       "      <td>1</td>\n",
       "      <td>100</td>\n",
       "      <td>1.00</td>\n",
       "      <td>1.25</td>\n",
       "      <td>1.00</td>\n",
       "    </tr>\n",
       "    <tr>\n",
       "      <th>46</th>\n",
       "      <td>0.10</td>\n",
       "      <td>0.021630</td>\n",
       "      <td>3.59</td>\n",
       "      <td>0.053367</td>\n",
       "      <td>30</td>\n",
       "      <td>30</td>\n",
       "      <td>0.10</td>\n",
       "      <td>1.25</td>\n",
       "      <td>1.00</td>\n",
       "    </tr>\n",
       "    <tr>\n",
       "      <th>47</th>\n",
       "      <td>0.09</td>\n",
       "      <td>0.021264</td>\n",
       "      <td>3.43</td>\n",
       "      <td>0.050000</td>\n",
       "      <td>30</td>\n",
       "      <td>30</td>\n",
       "      <td>0.05</td>\n",
       "      <td>1.00</td>\n",
       "      <td>0.75</td>\n",
       "    </tr>\n",
       "    <tr>\n",
       "      <th>48</th>\n",
       "      <td>0.10</td>\n",
       "      <td>0.021630</td>\n",
       "      <td>3.59</td>\n",
       "      <td>0.053367</td>\n",
       "      <td>30</td>\n",
       "      <td>30</td>\n",
       "      <td>0.50</td>\n",
       "      <td>1.00</td>\n",
       "      <td>1.50</td>\n",
       "    </tr>\n",
       "    <tr>\n",
       "      <th>49</th>\n",
       "      <td>0.03</td>\n",
       "      <td>0.001874</td>\n",
       "      <td>0.89</td>\n",
       "      <td>0.011223</td>\n",
       "      <td>1</td>\n",
       "      <td>100</td>\n",
       "      <td>0.20</td>\n",
       "      <td>0.75</td>\n",
       "      <td>1.25</td>\n",
       "    </tr>\n",
       "    <tr>\n",
       "      <th>50</th>\n",
       "      <td>0.02</td>\n",
       "      <td>0.001182</td>\n",
       "      <td>0.32</td>\n",
       "      <td>0.010101</td>\n",
       "      <td>1</td>\n",
       "      <td>100</td>\n",
       "      <td>0.01</td>\n",
       "      <td>0.20</td>\n",
       "      <td>0.50</td>\n",
       "    </tr>\n",
       "    <tr>\n",
       "      <th>51</th>\n",
       "      <td>0.03</td>\n",
       "      <td>0.001874</td>\n",
       "      <td>0.89</td>\n",
       "      <td>0.011223</td>\n",
       "      <td>1</td>\n",
       "      <td>100</td>\n",
       "      <td>1.00</td>\n",
       "      <td>0.75</td>\n",
       "      <td>0.50</td>\n",
       "    </tr>\n",
       "    <tr>\n",
       "      <th>52</th>\n",
       "      <td>0.10</td>\n",
       "      <td>0.021630</td>\n",
       "      <td>3.59</td>\n",
       "      <td>0.053367</td>\n",
       "      <td>30</td>\n",
       "      <td>30</td>\n",
       "      <td>0.01</td>\n",
       "      <td>1.50</td>\n",
       "      <td>0.75</td>\n",
       "    </tr>\n",
       "    <tr>\n",
       "      <th>53</th>\n",
       "      <td>0.03</td>\n",
       "      <td>0.001874</td>\n",
       "      <td>0.89</td>\n",
       "      <td>0.011223</td>\n",
       "      <td>1</td>\n",
       "      <td>100</td>\n",
       "      <td>0.20</td>\n",
       "      <td>1.00</td>\n",
       "      <td>0.50</td>\n",
       "    </tr>\n",
       "    <tr>\n",
       "      <th>54</th>\n",
       "      <td>0.02</td>\n",
       "      <td>0.001058</td>\n",
       "      <td>0.25</td>\n",
       "      <td>0.010101</td>\n",
       "      <td>1</td>\n",
       "      <td>100</td>\n",
       "      <td>0.50</td>\n",
       "      <td>0.50</td>\n",
       "      <td>0.20</td>\n",
       "    </tr>\n",
       "    <tr>\n",
       "      <th>55</th>\n",
       "      <td>0.10</td>\n",
       "      <td>0.021630</td>\n",
       "      <td>3.59</td>\n",
       "      <td>0.053367</td>\n",
       "      <td>30</td>\n",
       "      <td>30</td>\n",
       "      <td>0.20</td>\n",
       "      <td>0.75</td>\n",
       "      <td>1.50</td>\n",
       "    </tr>\n",
       "    <tr>\n",
       "      <th>56</th>\n",
       "      <td>0.03</td>\n",
       "      <td>0.001874</td>\n",
       "      <td>0.89</td>\n",
       "      <td>0.011223</td>\n",
       "      <td>1</td>\n",
       "      <td>100</td>\n",
       "      <td>0.10</td>\n",
       "      <td>1.00</td>\n",
       "      <td>1.00</td>\n",
       "    </tr>\n",
       "    <tr>\n",
       "      <th>57</th>\n",
       "      <td>0.03</td>\n",
       "      <td>0.001874</td>\n",
       "      <td>0.89</td>\n",
       "      <td>0.011223</td>\n",
       "      <td>1</td>\n",
       "      <td>100</td>\n",
       "      <td>0.01</td>\n",
       "      <td>0.75</td>\n",
       "      <td>1.25</td>\n",
       "    </tr>\n",
       "    <tr>\n",
       "      <th>58</th>\n",
       "      <td>0.03</td>\n",
       "      <td>0.001874</td>\n",
       "      <td>0.89</td>\n",
       "      <td>0.011223</td>\n",
       "      <td>1</td>\n",
       "      <td>100</td>\n",
       "      <td>0.01</td>\n",
       "      <td>1.00</td>\n",
       "      <td>0.50</td>\n",
       "    </tr>\n",
       "    <tr>\n",
       "      <th>59</th>\n",
       "      <td>0.10</td>\n",
       "      <td>0.021630</td>\n",
       "      <td>3.59</td>\n",
       "      <td>0.053367</td>\n",
       "      <td>30</td>\n",
       "      <td>30</td>\n",
       "      <td>0.50</td>\n",
       "      <td>1.25</td>\n",
       "      <td>0.75</td>\n",
       "    </tr>\n",
       "  </tbody>\n",
       "</table>\n",
       "</div>"
      ],
      "text/plain": [
       "    accuracy_drop  probability_drop   WER       NAD  beam_size  num_steps  \\\n",
       "0            0.03          0.001874  0.89  0.011223          1        100   \n",
       "1            0.10          0.021250  3.46  0.053367         30         30   \n",
       "2            0.03          0.001839  0.70  0.011223          1        100   \n",
       "3            0.03          0.001874  0.89  0.011223          1        100   \n",
       "4            0.08          0.010489  0.54  0.036195         30         30   \n",
       "5            0.10          0.021599  3.54  0.053367         30         30   \n",
       "6            0.10          0.020667  3.22  0.053367         30         30   \n",
       "7            0.03          0.001874  0.89  0.011223          1        100   \n",
       "8            0.10          0.020868  3.52  0.053367         30         30   \n",
       "9            0.10          0.021630  3.59  0.053367         30         30   \n",
       "10           0.10          0.021447  3.57  0.053367         30         30   \n",
       "11           0.03          0.001874  0.89  0.011223          1        100   \n",
       "12           0.03          0.001874  0.89  0.011223          1        100   \n",
       "13           0.03          0.001874  0.89  0.011223          1        100   \n",
       "14           0.03          0.001874  0.89  0.011223          1        100   \n",
       "15           0.03          0.001874  0.89  0.011223          1        100   \n",
       "16           0.10          0.021630  3.59  0.053367         30         30   \n",
       "17           0.10          0.021630  3.59  0.053367         30         30   \n",
       "18           0.10          0.021436  3.53  0.053367         30         30   \n",
       "19           0.00          0.000086  0.20  0.000000          1        100   \n",
       "20           0.10          0.021630  3.59  0.053367         30         30   \n",
       "21           0.04          0.003899  0.54  0.023569         30         30   \n",
       "22           0.03          0.001874  0.89  0.011223          1        100   \n",
       "23           0.03          0.001874  0.89  0.011223          1        100   \n",
       "24           0.10          0.021630  3.59  0.053367         30         30   \n",
       "25           0.09          0.016524  2.39  0.051347         30         30   \n",
       "26           0.09          0.020033  3.49  0.043266         30         30   \n",
       "27           0.03          0.001874  0.89  0.011223          1        100   \n",
       "28           0.10          0.021143  3.33  0.053367         30         30   \n",
       "29           0.03          0.001874  0.89  0.011223          1        100   \n",
       "30           0.05          0.006389  0.39  0.020539         30         30   \n",
       "31           0.03          0.001847  0.64  0.011223          1        100   \n",
       "32           0.10          0.021630  3.59  0.053367         30         30   \n",
       "33           0.06          0.008265  0.66  0.025589         30         30   \n",
       "34           0.10          0.021630  3.59  0.053367         30         30   \n",
       "35           0.03          0.001874  0.89  0.011223          1        100   \n",
       "36           0.09          0.020933  3.38  0.043266         30         30   \n",
       "37           0.03          0.001861  0.67  0.011223          1        100   \n",
       "38           0.03          0.001874  0.89  0.011223          1        100   \n",
       "39           0.10          0.021551  3.58  0.053367         30         30   \n",
       "40           0.05          0.006223  0.32  0.023569         30         30   \n",
       "41           0.03          0.001874  0.89  0.011223          1        100   \n",
       "42           0.03          0.001874  0.89  0.011223          1        100   \n",
       "43           0.10          0.021630  3.59  0.053367         30         30   \n",
       "44           0.03          0.001874  0.89  0.011223          1        100   \n",
       "45           0.03          0.001874  0.89  0.011223          1        100   \n",
       "46           0.10          0.021630  3.59  0.053367         30         30   \n",
       "47           0.09          0.021264  3.43  0.050000         30         30   \n",
       "48           0.10          0.021630  3.59  0.053367         30         30   \n",
       "49           0.03          0.001874  0.89  0.011223          1        100   \n",
       "50           0.02          0.001182  0.32  0.010101          1        100   \n",
       "51           0.03          0.001874  0.89  0.011223          1        100   \n",
       "52           0.10          0.021630  3.59  0.053367         30         30   \n",
       "53           0.03          0.001874  0.89  0.011223          1        100   \n",
       "54           0.02          0.001058  0.25  0.010101          1        100   \n",
       "55           0.10          0.021630  3.59  0.053367         30         30   \n",
       "56           0.03          0.001874  0.89  0.011223          1        100   \n",
       "57           0.03          0.001874  0.89  0.011223          1        100   \n",
       "58           0.03          0.001874  0.89  0.011223          1        100   \n",
       "59           0.10          0.021630  3.59  0.053367         30         30   \n",
       "\n",
       "     std  sigma_wer  sigma_class  \n",
       "0   0.05       1.50         1.50  \n",
       "1   0.20       0.50         1.00  \n",
       "2   1.00       0.20         1.50  \n",
       "3   0.10       1.50         1.00  \n",
       "4   0.05       1.00         0.20  \n",
       "5   1.00       0.75         1.00  \n",
       "6   1.00       1.00         0.50  \n",
       "7   0.20       1.50         0.50  \n",
       "8   0.01       0.50         1.50  \n",
       "9   0.01       1.25         1.50  \n",
       "10  0.05       0.75         1.00  \n",
       "11  0.20       0.75         0.75  \n",
       "12  1.00       1.25         0.75  \n",
       "13  1.00       0.50         1.25  \n",
       "14  0.50       1.00         0.50  \n",
       "15  0.50       0.75         1.50  \n",
       "16  0.05       0.75         1.25  \n",
       "17  0.10       1.00         1.25  \n",
       "18  0.01       1.25         0.75  \n",
       "19  0.10       0.50         0.20  \n",
       "20  0.10       1.50         1.00  \n",
       "21  0.01       1.00         0.20  \n",
       "22  0.50       1.00         0.75  \n",
       "23  0.50       0.75         0.50  \n",
       "24  1.00       1.50         0.75  \n",
       "25  1.00       0.50         0.50  \n",
       "26  1.00       1.50         0.50  \n",
       "27  1.00       0.50         0.50  \n",
       "28  1.00       1.25         0.50  \n",
       "29  0.50       1.50         0.75  \n",
       "30  0.05       1.50         0.20  \n",
       "31  0.01       0.20         1.50  \n",
       "32  0.01       1.25         1.00  \n",
       "33  1.00       1.50         0.20  \n",
       "34  0.01       0.75         1.25  \n",
       "35  0.50       0.50         0.50  \n",
       "36  0.10       1.50         0.50  \n",
       "37  0.01       0.20         1.25  \n",
       "38  0.50       1.50         0.50  \n",
       "39  0.10       0.75         0.75  \n",
       "40  0.05       0.75         0.20  \n",
       "41  0.10       0.50         1.50  \n",
       "42  0.01       1.50         1.25  \n",
       "43  0.05       1.25         1.00  \n",
       "44  0.20       1.00         0.75  \n",
       "45  1.00       1.25         1.00  \n",
       "46  0.10       1.25         1.00  \n",
       "47  0.05       1.00         0.75  \n",
       "48  0.50       1.00         1.50  \n",
       "49  0.20       0.75         1.25  \n",
       "50  0.01       0.20         0.50  \n",
       "51  1.00       0.75         0.50  \n",
       "52  0.01       1.50         0.75  \n",
       "53  0.20       1.00         0.50  \n",
       "54  0.50       0.50         0.20  \n",
       "55  0.20       0.75         1.50  \n",
       "56  0.10       1.00         1.00  \n",
       "57  0.01       0.75         1.25  \n",
       "58  0.01       1.00         0.50  \n",
       "59  0.50       1.25         0.75  "
      ]
     },
     "execution_count": 33,
     "metadata": {},
     "output_type": "execute_result"
    }
   ],
   "source": [
    "result"
   ]
  },
  {
   "cell_type": "code",
   "execution_count": 34,
   "metadata": {},
   "outputs": [],
   "source": [
    "sns.set()"
   ]
  },
  {
   "cell_type": "code",
   "execution_count": 35,
   "metadata": {},
   "outputs": [
    {
     "data": {
      "image/png": "[encoded data removed]",
      "text/plain": [
       "<Figure size 1620x360 with 18 Axes>"
      ]
     },
     "metadata": {},
     "output_type": "display_data"
    }
   ],
   "source": [
    "g = sns.pairplot(result, x_vars=result.columns.values, y_vars=['NAD', 'WER'])\n",
    "plt.savefig(os.path.join(base_dir, f'stats_{method}.png'), dpi=150, bbox_inches='tight')"
   ]
  },
  {
   "cell_type": "code",
   "execution_count": 36,
   "metadata": {},
   "outputs": [
    {
     "data": {
      "text/html": [
       "<div>\n",
       "<style scoped>\n",
       "    .dataframe tbody tr th:only-of-type {\n",
       "        vertical-align: middle;\n",
       "    }\n",
       "\n",
       "    .dataframe tbody tr th {\n",
       "        vertical-align: top;\n",
       "    }\n",
       "\n",
       "    .dataframe thead th {\n",
       "        text-align: right;\n",
       "    }\n",
       "</style>\n",
       "<table border=\"1\" class=\"dataframe\">\n",
       "  <thead>\n",
       "    <tr style=\"text-align: right;\">\n",
       "      <th></th>\n",
       "      <th>accuracy_drop</th>\n",
       "      <th>probability_drop</th>\n",
       "      <th>WER</th>\n",
       "      <th>NAD</th>\n",
       "      <th>beam_size</th>\n",
       "      <th>num_steps</th>\n",
       "      <th>std</th>\n",
       "      <th>sigma_wer</th>\n",
       "      <th>sigma_class</th>\n",
       "    </tr>\n",
       "  </thead>\n",
       "  <tbody>\n",
       "    <tr>\n",
       "      <th>59</th>\n",
       "      <td>0.10</td>\n",
       "      <td>0.021630</td>\n",
       "      <td>3.59</td>\n",
       "      <td>0.053367</td>\n",
       "      <td>30</td>\n",
       "      <td>30</td>\n",
       "      <td>0.50</td>\n",
       "      <td>1.25</td>\n",
       "      <td>0.75</td>\n",
       "    </tr>\n",
       "    <tr>\n",
       "      <th>46</th>\n",
       "      <td>0.10</td>\n",
       "      <td>0.021630</td>\n",
       "      <td>3.59</td>\n",
       "      <td>0.053367</td>\n",
       "      <td>30</td>\n",
       "      <td>30</td>\n",
       "      <td>0.10</td>\n",
       "      <td>1.25</td>\n",
       "      <td>1.00</td>\n",
       "    </tr>\n",
       "    <tr>\n",
       "      <th>32</th>\n",
       "      <td>0.10</td>\n",
       "      <td>0.021630</td>\n",
       "      <td>3.59</td>\n",
       "      <td>0.053367</td>\n",
       "      <td>30</td>\n",
       "      <td>30</td>\n",
       "      <td>0.01</td>\n",
       "      <td>1.25</td>\n",
       "      <td>1.00</td>\n",
       "    </tr>\n",
       "    <tr>\n",
       "      <th>24</th>\n",
       "      <td>0.10</td>\n",
       "      <td>0.021630</td>\n",
       "      <td>3.59</td>\n",
       "      <td>0.053367</td>\n",
       "      <td>30</td>\n",
       "      <td>30</td>\n",
       "      <td>1.00</td>\n",
       "      <td>1.50</td>\n",
       "      <td>0.75</td>\n",
       "    </tr>\n",
       "    <tr>\n",
       "      <th>34</th>\n",
       "      <td>0.10</td>\n",
       "      <td>0.021630</td>\n",
       "      <td>3.59</td>\n",
       "      <td>0.053367</td>\n",
       "      <td>30</td>\n",
       "      <td>30</td>\n",
       "      <td>0.01</td>\n",
       "      <td>0.75</td>\n",
       "      <td>1.25</td>\n",
       "    </tr>\n",
       "    <tr>\n",
       "      <th>20</th>\n",
       "      <td>0.10</td>\n",
       "      <td>0.021630</td>\n",
       "      <td>3.59</td>\n",
       "      <td>0.053367</td>\n",
       "      <td>30</td>\n",
       "      <td>30</td>\n",
       "      <td>0.10</td>\n",
       "      <td>1.50</td>\n",
       "      <td>1.00</td>\n",
       "    </tr>\n",
       "    <tr>\n",
       "      <th>18</th>\n",
       "      <td>0.10</td>\n",
       "      <td>0.021436</td>\n",
       "      <td>3.53</td>\n",
       "      <td>0.053367</td>\n",
       "      <td>30</td>\n",
       "      <td>30</td>\n",
       "      <td>0.01</td>\n",
       "      <td>1.25</td>\n",
       "      <td>0.75</td>\n",
       "    </tr>\n",
       "    <tr>\n",
       "      <th>17</th>\n",
       "      <td>0.10</td>\n",
       "      <td>0.021630</td>\n",
       "      <td>3.59</td>\n",
       "      <td>0.053367</td>\n",
       "      <td>30</td>\n",
       "      <td>30</td>\n",
       "      <td>0.10</td>\n",
       "      <td>1.00</td>\n",
       "      <td>1.25</td>\n",
       "    </tr>\n",
       "    <tr>\n",
       "      <th>16</th>\n",
       "      <td>0.10</td>\n",
       "      <td>0.021630</td>\n",
       "      <td>3.59</td>\n",
       "      <td>0.053367</td>\n",
       "      <td>30</td>\n",
       "      <td>30</td>\n",
       "      <td>0.05</td>\n",
       "      <td>0.75</td>\n",
       "      <td>1.25</td>\n",
       "    </tr>\n",
       "    <tr>\n",
       "      <th>39</th>\n",
       "      <td>0.10</td>\n",
       "      <td>0.021551</td>\n",
       "      <td>3.58</td>\n",
       "      <td>0.053367</td>\n",
       "      <td>30</td>\n",
       "      <td>30</td>\n",
       "      <td>0.10</td>\n",
       "      <td>0.75</td>\n",
       "      <td>0.75</td>\n",
       "    </tr>\n",
       "    <tr>\n",
       "      <th>1</th>\n",
       "      <td>0.10</td>\n",
       "      <td>0.021250</td>\n",
       "      <td>3.46</td>\n",
       "      <td>0.053367</td>\n",
       "      <td>30</td>\n",
       "      <td>30</td>\n",
       "      <td>0.20</td>\n",
       "      <td>0.50</td>\n",
       "      <td>1.00</td>\n",
       "    </tr>\n",
       "    <tr>\n",
       "      <th>43</th>\n",
       "      <td>0.10</td>\n",
       "      <td>0.021630</td>\n",
       "      <td>3.59</td>\n",
       "      <td>0.053367</td>\n",
       "      <td>30</td>\n",
       "      <td>30</td>\n",
       "      <td>0.05</td>\n",
       "      <td>1.25</td>\n",
       "      <td>1.00</td>\n",
       "    </tr>\n",
       "    <tr>\n",
       "      <th>28</th>\n",
       "      <td>0.10</td>\n",
       "      <td>0.021143</td>\n",
       "      <td>3.33</td>\n",
       "      <td>0.053367</td>\n",
       "      <td>30</td>\n",
       "      <td>30</td>\n",
       "      <td>1.00</td>\n",
       "      <td>1.25</td>\n",
       "      <td>0.50</td>\n",
       "    </tr>\n",
       "    <tr>\n",
       "      <th>10</th>\n",
       "      <td>0.10</td>\n",
       "      <td>0.021447</td>\n",
       "      <td>3.57</td>\n",
       "      <td>0.053367</td>\n",
       "      <td>30</td>\n",
       "      <td>30</td>\n",
       "      <td>0.05</td>\n",
       "      <td>0.75</td>\n",
       "      <td>1.00</td>\n",
       "    </tr>\n",
       "    <tr>\n",
       "      <th>9</th>\n",
       "      <td>0.10</td>\n",
       "      <td>0.021630</td>\n",
       "      <td>3.59</td>\n",
       "      <td>0.053367</td>\n",
       "      <td>30</td>\n",
       "      <td>30</td>\n",
       "      <td>0.01</td>\n",
       "      <td>1.25</td>\n",
       "      <td>1.50</td>\n",
       "    </tr>\n",
       "    <tr>\n",
       "      <th>8</th>\n",
       "      <td>0.10</td>\n",
       "      <td>0.020868</td>\n",
       "      <td>3.52</td>\n",
       "      <td>0.053367</td>\n",
       "      <td>30</td>\n",
       "      <td>30</td>\n",
       "      <td>0.01</td>\n",
       "      <td>0.50</td>\n",
       "      <td>1.50</td>\n",
       "    </tr>\n",
       "    <tr>\n",
       "      <th>48</th>\n",
       "      <td>0.10</td>\n",
       "      <td>0.021630</td>\n",
       "      <td>3.59</td>\n",
       "      <td>0.053367</td>\n",
       "      <td>30</td>\n",
       "      <td>30</td>\n",
       "      <td>0.50</td>\n",
       "      <td>1.00</td>\n",
       "      <td>1.50</td>\n",
       "    </tr>\n",
       "    <tr>\n",
       "      <th>6</th>\n",
       "      <td>0.10</td>\n",
       "      <td>0.020667</td>\n",
       "      <td>3.22</td>\n",
       "      <td>0.053367</td>\n",
       "      <td>30</td>\n",
       "      <td>30</td>\n",
       "      <td>1.00</td>\n",
       "      <td>1.00</td>\n",
       "      <td>0.50</td>\n",
       "    </tr>\n",
       "    <tr>\n",
       "      <th>5</th>\n",
       "      <td>0.10</td>\n",
       "      <td>0.021599</td>\n",
       "      <td>3.54</td>\n",
       "      <td>0.053367</td>\n",
       "      <td>30</td>\n",
       "      <td>30</td>\n",
       "      <td>1.00</td>\n",
       "      <td>0.75</td>\n",
       "      <td>1.00</td>\n",
       "    </tr>\n",
       "    <tr>\n",
       "      <th>52</th>\n",
       "      <td>0.10</td>\n",
       "      <td>0.021630</td>\n",
       "      <td>3.59</td>\n",
       "      <td>0.053367</td>\n",
       "      <td>30</td>\n",
       "      <td>30</td>\n",
       "      <td>0.01</td>\n",
       "      <td>1.50</td>\n",
       "      <td>0.75</td>\n",
       "    </tr>\n",
       "    <tr>\n",
       "      <th>55</th>\n",
       "      <td>0.10</td>\n",
       "      <td>0.021630</td>\n",
       "      <td>3.59</td>\n",
       "      <td>0.053367</td>\n",
       "      <td>30</td>\n",
       "      <td>30</td>\n",
       "      <td>0.20</td>\n",
       "      <td>0.75</td>\n",
       "      <td>1.50</td>\n",
       "    </tr>\n",
       "    <tr>\n",
       "      <th>25</th>\n",
       "      <td>0.09</td>\n",
       "      <td>0.016524</td>\n",
       "      <td>2.39</td>\n",
       "      <td>0.051347</td>\n",
       "      <td>30</td>\n",
       "      <td>30</td>\n",
       "      <td>1.00</td>\n",
       "      <td>0.50</td>\n",
       "      <td>0.50</td>\n",
       "    </tr>\n",
       "    <tr>\n",
       "      <th>47</th>\n",
       "      <td>0.09</td>\n",
       "      <td>0.021264</td>\n",
       "      <td>3.43</td>\n",
       "      <td>0.050000</td>\n",
       "      <td>30</td>\n",
       "      <td>30</td>\n",
       "      <td>0.05</td>\n",
       "      <td>1.00</td>\n",
       "      <td>0.75</td>\n",
       "    </tr>\n",
       "    <tr>\n",
       "      <th>36</th>\n",
       "      <td>0.09</td>\n",
       "      <td>0.020933</td>\n",
       "      <td>3.38</td>\n",
       "      <td>0.043266</td>\n",
       "      <td>30</td>\n",
       "      <td>30</td>\n",
       "      <td>0.10</td>\n",
       "      <td>1.50</td>\n",
       "      <td>0.50</td>\n",
       "    </tr>\n",
       "    <tr>\n",
       "      <th>26</th>\n",
       "      <td>0.09</td>\n",
       "      <td>0.020033</td>\n",
       "      <td>3.49</td>\n",
       "      <td>0.043266</td>\n",
       "      <td>30</td>\n",
       "      <td>30</td>\n",
       "      <td>1.00</td>\n",
       "      <td>1.50</td>\n",
       "      <td>0.50</td>\n",
       "    </tr>\n",
       "    <tr>\n",
       "      <th>4</th>\n",
       "      <td>0.08</td>\n",
       "      <td>0.010489</td>\n",
       "      <td>0.54</td>\n",
       "      <td>0.036195</td>\n",
       "      <td>30</td>\n",
       "      <td>30</td>\n",
       "      <td>0.05</td>\n",
       "      <td>1.00</td>\n",
       "      <td>0.20</td>\n",
       "    </tr>\n",
       "    <tr>\n",
       "      <th>33</th>\n",
       "      <td>0.06</td>\n",
       "      <td>0.008265</td>\n",
       "      <td>0.66</td>\n",
       "      <td>0.025589</td>\n",
       "      <td>30</td>\n",
       "      <td>30</td>\n",
       "      <td>1.00</td>\n",
       "      <td>1.50</td>\n",
       "      <td>0.20</td>\n",
       "    </tr>\n",
       "    <tr>\n",
       "      <th>40</th>\n",
       "      <td>0.05</td>\n",
       "      <td>0.006223</td>\n",
       "      <td>0.32</td>\n",
       "      <td>0.023569</td>\n",
       "      <td>30</td>\n",
       "      <td>30</td>\n",
       "      <td>0.05</td>\n",
       "      <td>0.75</td>\n",
       "      <td>0.20</td>\n",
       "    </tr>\n",
       "    <tr>\n",
       "      <th>21</th>\n",
       "      <td>0.04</td>\n",
       "      <td>0.003899</td>\n",
       "      <td>0.54</td>\n",
       "      <td>0.023569</td>\n",
       "      <td>30</td>\n",
       "      <td>30</td>\n",
       "      <td>0.01</td>\n",
       "      <td>1.00</td>\n",
       "      <td>0.20</td>\n",
       "    </tr>\n",
       "    <tr>\n",
       "      <th>30</th>\n",
       "      <td>0.05</td>\n",
       "      <td>0.006389</td>\n",
       "      <td>0.39</td>\n",
       "      <td>0.020539</td>\n",
       "      <td>30</td>\n",
       "      <td>30</td>\n",
       "      <td>0.05</td>\n",
       "      <td>1.50</td>\n",
       "      <td>0.20</td>\n",
       "    </tr>\n",
       "    <tr>\n",
       "      <th>29</th>\n",
       "      <td>0.03</td>\n",
       "      <td>0.001874</td>\n",
       "      <td>0.89</td>\n",
       "      <td>0.011223</td>\n",
       "      <td>1</td>\n",
       "      <td>100</td>\n",
       "      <td>0.50</td>\n",
       "      <td>1.50</td>\n",
       "      <td>0.75</td>\n",
       "    </tr>\n",
       "    <tr>\n",
       "      <th>44</th>\n",
       "      <td>0.03</td>\n",
       "      <td>0.001874</td>\n",
       "      <td>0.89</td>\n",
       "      <td>0.011223</td>\n",
       "      <td>1</td>\n",
       "      <td>100</td>\n",
       "      <td>0.20</td>\n",
       "      <td>1.00</td>\n",
       "      <td>0.75</td>\n",
       "    </tr>\n",
       "    <tr>\n",
       "      <th>58</th>\n",
       "      <td>0.03</td>\n",
       "      <td>0.001874</td>\n",
       "      <td>0.89</td>\n",
       "      <td>0.011223</td>\n",
       "      <td>1</td>\n",
       "      <td>100</td>\n",
       "      <td>0.01</td>\n",
       "      <td>1.00</td>\n",
       "      <td>0.50</td>\n",
       "    </tr>\n",
       "    <tr>\n",
       "      <th>57</th>\n",
       "      <td>0.03</td>\n",
       "      <td>0.001874</td>\n",
       "      <td>0.89</td>\n",
       "      <td>0.011223</td>\n",
       "      <td>1</td>\n",
       "      <td>100</td>\n",
       "      <td>0.01</td>\n",
       "      <td>0.75</td>\n",
       "      <td>1.25</td>\n",
       "    </tr>\n",
       "    <tr>\n",
       "      <th>56</th>\n",
       "      <td>0.03</td>\n",
       "      <td>0.001874</td>\n",
       "      <td>0.89</td>\n",
       "      <td>0.011223</td>\n",
       "      <td>1</td>\n",
       "      <td>100</td>\n",
       "      <td>0.10</td>\n",
       "      <td>1.00</td>\n",
       "      <td>1.00</td>\n",
       "    </tr>\n",
       "    <tr>\n",
       "      <th>2</th>\n",
       "      <td>0.03</td>\n",
       "      <td>0.001839</td>\n",
       "      <td>0.70</td>\n",
       "      <td>0.011223</td>\n",
       "      <td>1</td>\n",
       "      <td>100</td>\n",
       "      <td>1.00</td>\n",
       "      <td>0.20</td>\n",
       "      <td>1.50</td>\n",
       "    </tr>\n",
       "    <tr>\n",
       "      <th>53</th>\n",
       "      <td>0.03</td>\n",
       "      <td>0.001874</td>\n",
       "      <td>0.89</td>\n",
       "      <td>0.011223</td>\n",
       "      <td>1</td>\n",
       "      <td>100</td>\n",
       "      <td>0.20</td>\n",
       "      <td>1.00</td>\n",
       "      <td>0.50</td>\n",
       "    </tr>\n",
       "    <tr>\n",
       "      <th>3</th>\n",
       "      <td>0.03</td>\n",
       "      <td>0.001874</td>\n",
       "      <td>0.89</td>\n",
       "      <td>0.011223</td>\n",
       "      <td>1</td>\n",
       "      <td>100</td>\n",
       "      <td>0.10</td>\n",
       "      <td>1.50</td>\n",
       "      <td>1.00</td>\n",
       "    </tr>\n",
       "    <tr>\n",
       "      <th>51</th>\n",
       "      <td>0.03</td>\n",
       "      <td>0.001874</td>\n",
       "      <td>0.89</td>\n",
       "      <td>0.011223</td>\n",
       "      <td>1</td>\n",
       "      <td>100</td>\n",
       "      <td>1.00</td>\n",
       "      <td>0.75</td>\n",
       "      <td>0.50</td>\n",
       "    </tr>\n",
       "    <tr>\n",
       "      <th>49</th>\n",
       "      <td>0.03</td>\n",
       "      <td>0.001874</td>\n",
       "      <td>0.89</td>\n",
       "      <td>0.011223</td>\n",
       "      <td>1</td>\n",
       "      <td>100</td>\n",
       "      <td>0.20</td>\n",
       "      <td>0.75</td>\n",
       "      <td>1.25</td>\n",
       "    </tr>\n",
       "    <tr>\n",
       "      <th>7</th>\n",
       "      <td>0.03</td>\n",
       "      <td>0.001874</td>\n",
       "      <td>0.89</td>\n",
       "      <td>0.011223</td>\n",
       "      <td>1</td>\n",
       "      <td>100</td>\n",
       "      <td>0.20</td>\n",
       "      <td>1.50</td>\n",
       "      <td>0.50</td>\n",
       "    </tr>\n",
       "    <tr>\n",
       "      <th>11</th>\n",
       "      <td>0.03</td>\n",
       "      <td>0.001874</td>\n",
       "      <td>0.89</td>\n",
       "      <td>0.011223</td>\n",
       "      <td>1</td>\n",
       "      <td>100</td>\n",
       "      <td>0.20</td>\n",
       "      <td>0.75</td>\n",
       "      <td>0.75</td>\n",
       "    </tr>\n",
       "    <tr>\n",
       "      <th>12</th>\n",
       "      <td>0.03</td>\n",
       "      <td>0.001874</td>\n",
       "      <td>0.89</td>\n",
       "      <td>0.011223</td>\n",
       "      <td>1</td>\n",
       "      <td>100</td>\n",
       "      <td>1.00</td>\n",
       "      <td>1.25</td>\n",
       "      <td>0.75</td>\n",
       "    </tr>\n",
       "    <tr>\n",
       "      <th>31</th>\n",
       "      <td>0.03</td>\n",
       "      <td>0.001847</td>\n",
       "      <td>0.64</td>\n",
       "      <td>0.011223</td>\n",
       "      <td>1</td>\n",
       "      <td>100</td>\n",
       "      <td>0.01</td>\n",
       "      <td>0.20</td>\n",
       "      <td>1.50</td>\n",
       "    </tr>\n",
       "    <tr>\n",
       "      <th>45</th>\n",
       "      <td>0.03</td>\n",
       "      <td>0.001874</td>\n",
       "      <td>0.89</td>\n",
       "      <td>0.011223</td>\n",
       "      <td>1</td>\n",
       "      <td>100</td>\n",
       "      <td>1.00</td>\n",
       "      <td>1.25</td>\n",
       "      <td>1.00</td>\n",
       "    </tr>\n",
       "    <tr>\n",
       "      <th>13</th>\n",
       "      <td>0.03</td>\n",
       "      <td>0.001874</td>\n",
       "      <td>0.89</td>\n",
       "      <td>0.011223</td>\n",
       "      <td>1</td>\n",
       "      <td>100</td>\n",
       "      <td>1.00</td>\n",
       "      <td>0.50</td>\n",
       "      <td>1.25</td>\n",
       "    </tr>\n",
       "    <tr>\n",
       "      <th>42</th>\n",
       "      <td>0.03</td>\n",
       "      <td>0.001874</td>\n",
       "      <td>0.89</td>\n",
       "      <td>0.011223</td>\n",
       "      <td>1</td>\n",
       "      <td>100</td>\n",
       "      <td>0.01</td>\n",
       "      <td>1.50</td>\n",
       "      <td>1.25</td>\n",
       "    </tr>\n",
       "    <tr>\n",
       "      <th>41</th>\n",
       "      <td>0.03</td>\n",
       "      <td>0.001874</td>\n",
       "      <td>0.89</td>\n",
       "      <td>0.011223</td>\n",
       "      <td>1</td>\n",
       "      <td>100</td>\n",
       "      <td>0.10</td>\n",
       "      <td>0.50</td>\n",
       "      <td>1.50</td>\n",
       "    </tr>\n",
       "    <tr>\n",
       "      <th>14</th>\n",
       "      <td>0.03</td>\n",
       "      <td>0.001874</td>\n",
       "      <td>0.89</td>\n",
       "      <td>0.011223</td>\n",
       "      <td>1</td>\n",
       "      <td>100</td>\n",
       "      <td>0.50</td>\n",
       "      <td>1.00</td>\n",
       "      <td>0.50</td>\n",
       "    </tr>\n",
       "    <tr>\n",
       "      <th>15</th>\n",
       "      <td>0.03</td>\n",
       "      <td>0.001874</td>\n",
       "      <td>0.89</td>\n",
       "      <td>0.011223</td>\n",
       "      <td>1</td>\n",
       "      <td>100</td>\n",
       "      <td>0.50</td>\n",
       "      <td>0.75</td>\n",
       "      <td>1.50</td>\n",
       "    </tr>\n",
       "    <tr>\n",
       "      <th>38</th>\n",
       "      <td>0.03</td>\n",
       "      <td>0.001874</td>\n",
       "      <td>0.89</td>\n",
       "      <td>0.011223</td>\n",
       "      <td>1</td>\n",
       "      <td>100</td>\n",
       "      <td>0.50</td>\n",
       "      <td>1.50</td>\n",
       "      <td>0.50</td>\n",
       "    </tr>\n",
       "    <tr>\n",
       "      <th>37</th>\n",
       "      <td>0.03</td>\n",
       "      <td>0.001861</td>\n",
       "      <td>0.67</td>\n",
       "      <td>0.011223</td>\n",
       "      <td>1</td>\n",
       "      <td>100</td>\n",
       "      <td>0.01</td>\n",
       "      <td>0.20</td>\n",
       "      <td>1.25</td>\n",
       "    </tr>\n",
       "    <tr>\n",
       "      <th>35</th>\n",
       "      <td>0.03</td>\n",
       "      <td>0.001874</td>\n",
       "      <td>0.89</td>\n",
       "      <td>0.011223</td>\n",
       "      <td>1</td>\n",
       "      <td>100</td>\n",
       "      <td>0.50</td>\n",
       "      <td>0.50</td>\n",
       "      <td>0.50</td>\n",
       "    </tr>\n",
       "    <tr>\n",
       "      <th>22</th>\n",
       "      <td>0.03</td>\n",
       "      <td>0.001874</td>\n",
       "      <td>0.89</td>\n",
       "      <td>0.011223</td>\n",
       "      <td>1</td>\n",
       "      <td>100</td>\n",
       "      <td>0.50</td>\n",
       "      <td>1.00</td>\n",
       "      <td>0.75</td>\n",
       "    </tr>\n",
       "    <tr>\n",
       "      <th>23</th>\n",
       "      <td>0.03</td>\n",
       "      <td>0.001874</td>\n",
       "      <td>0.89</td>\n",
       "      <td>0.011223</td>\n",
       "      <td>1</td>\n",
       "      <td>100</td>\n",
       "      <td>0.50</td>\n",
       "      <td>0.75</td>\n",
       "      <td>0.50</td>\n",
       "    </tr>\n",
       "    <tr>\n",
       "      <th>27</th>\n",
       "      <td>0.03</td>\n",
       "      <td>0.001874</td>\n",
       "      <td>0.89</td>\n",
       "      <td>0.011223</td>\n",
       "      <td>1</td>\n",
       "      <td>100</td>\n",
       "      <td>1.00</td>\n",
       "      <td>0.50</td>\n",
       "      <td>0.50</td>\n",
       "    </tr>\n",
       "    <tr>\n",
       "      <th>0</th>\n",
       "      <td>0.03</td>\n",
       "      <td>0.001874</td>\n",
       "      <td>0.89</td>\n",
       "      <td>0.011223</td>\n",
       "      <td>1</td>\n",
       "      <td>100</td>\n",
       "      <td>0.05</td>\n",
       "      <td>1.50</td>\n",
       "      <td>1.50</td>\n",
       "    </tr>\n",
       "    <tr>\n",
       "      <th>50</th>\n",
       "      <td>0.02</td>\n",
       "      <td>0.001182</td>\n",
       "      <td>0.32</td>\n",
       "      <td>0.010101</td>\n",
       "      <td>1</td>\n",
       "      <td>100</td>\n",
       "      <td>0.01</td>\n",
       "      <td>0.20</td>\n",
       "      <td>0.50</td>\n",
       "    </tr>\n",
       "    <tr>\n",
       "      <th>54</th>\n",
       "      <td>0.02</td>\n",
       "      <td>0.001058</td>\n",
       "      <td>0.25</td>\n",
       "      <td>0.010101</td>\n",
       "      <td>1</td>\n",
       "      <td>100</td>\n",
       "      <td>0.50</td>\n",
       "      <td>0.50</td>\n",
       "      <td>0.20</td>\n",
       "    </tr>\n",
       "    <tr>\n",
       "      <th>19</th>\n",
       "      <td>0.00</td>\n",
       "      <td>0.000086</td>\n",
       "      <td>0.20</td>\n",
       "      <td>0.000000</td>\n",
       "      <td>1</td>\n",
       "      <td>100</td>\n",
       "      <td>0.10</td>\n",
       "      <td>0.50</td>\n",
       "      <td>0.20</td>\n",
       "    </tr>\n",
       "  </tbody>\n",
       "</table>\n",
       "</div>"
      ],
      "text/plain": [
       "    accuracy_drop  probability_drop   WER       NAD  beam_size  num_steps  \\\n",
       "59           0.10          0.021630  3.59  0.053367         30         30   \n",
       "46           0.10          0.021630  3.59  0.053367         30         30   \n",
       "32           0.10          0.021630  3.59  0.053367         30         30   \n",
       "24           0.10          0.021630  3.59  0.053367         30         30   \n",
       "34           0.10          0.021630  3.59  0.053367         30         30   \n",
       "20           0.10          0.021630  3.59  0.053367         30         30   \n",
       "18           0.10          0.021436  3.53  0.053367         30         30   \n",
       "17           0.10          0.021630  3.59  0.053367         30         30   \n",
       "16           0.10          0.021630  3.59  0.053367         30         30   \n",
       "39           0.10          0.021551  3.58  0.053367         30         30   \n",
       "1            0.10          0.021250  3.46  0.053367         30         30   \n",
       "43           0.10          0.021630  3.59  0.053367         30         30   \n",
       "28           0.10          0.021143  3.33  0.053367         30         30   \n",
       "10           0.10          0.021447  3.57  0.053367         30         30   \n",
       "9            0.10          0.021630  3.59  0.053367         30         30   \n",
       "8            0.10          0.020868  3.52  0.053367         30         30   \n",
       "48           0.10          0.021630  3.59  0.053367         30         30   \n",
       "6            0.10          0.020667  3.22  0.053367         30         30   \n",
       "5            0.10          0.021599  3.54  0.053367         30         30   \n",
       "52           0.10          0.021630  3.59  0.053367         30         30   \n",
       "55           0.10          0.021630  3.59  0.053367         30         30   \n",
       "25           0.09          0.016524  2.39  0.051347         30         30   \n",
       "47           0.09          0.021264  3.43  0.050000         30         30   \n",
       "36           0.09          0.020933  3.38  0.043266         30         30   \n",
       "26           0.09          0.020033  3.49  0.043266         30         30   \n",
       "4            0.08          0.010489  0.54  0.036195         30         30   \n",
       "33           0.06          0.008265  0.66  0.025589         30         30   \n",
       "40           0.05          0.006223  0.32  0.023569         30         30   \n",
       "21           0.04          0.003899  0.54  0.023569         30         30   \n",
       "30           0.05          0.006389  0.39  0.020539         30         30   \n",
       "29           0.03          0.001874  0.89  0.011223          1        100   \n",
       "44           0.03          0.001874  0.89  0.011223          1        100   \n",
       "58           0.03          0.001874  0.89  0.011223          1        100   \n",
       "57           0.03          0.001874  0.89  0.011223          1        100   \n",
       "56           0.03          0.001874  0.89  0.011223          1        100   \n",
       "2            0.03          0.001839  0.70  0.011223          1        100   \n",
       "53           0.03          0.001874  0.89  0.011223          1        100   \n",
       "3            0.03          0.001874  0.89  0.011223          1        100   \n",
       "51           0.03          0.001874  0.89  0.011223          1        100   \n",
       "49           0.03          0.001874  0.89  0.011223          1        100   \n",
       "7            0.03          0.001874  0.89  0.011223          1        100   \n",
       "11           0.03          0.001874  0.89  0.011223          1        100   \n",
       "12           0.03          0.001874  0.89  0.011223          1        100   \n",
       "31           0.03          0.001847  0.64  0.011223          1        100   \n",
       "45           0.03          0.001874  0.89  0.011223          1        100   \n",
       "13           0.03          0.001874  0.89  0.011223          1        100   \n",
       "42           0.03          0.001874  0.89  0.011223          1        100   \n",
       "41           0.03          0.001874  0.89  0.011223          1        100   \n",
       "14           0.03          0.001874  0.89  0.011223          1        100   \n",
       "15           0.03          0.001874  0.89  0.011223          1        100   \n",
       "38           0.03          0.001874  0.89  0.011223          1        100   \n",
       "37           0.03          0.001861  0.67  0.011223          1        100   \n",
       "35           0.03          0.001874  0.89  0.011223          1        100   \n",
       "22           0.03          0.001874  0.89  0.011223          1        100   \n",
       "23           0.03          0.001874  0.89  0.011223          1        100   \n",
       "27           0.03          0.001874  0.89  0.011223          1        100   \n",
       "0            0.03          0.001874  0.89  0.011223          1        100   \n",
       "50           0.02          0.001182  0.32  0.010101          1        100   \n",
       "54           0.02          0.001058  0.25  0.010101          1        100   \n",
       "19           0.00          0.000086  0.20  0.000000          1        100   \n",
       "\n",
       "     std  sigma_wer  sigma_class  \n",
       "59  0.50       1.25         0.75  \n",
       "46  0.10       1.25         1.00  \n",
       "32  0.01       1.25         1.00  \n",
       "24  1.00       1.50         0.75  \n",
       "34  0.01       0.75         1.25  \n",
       "20  0.10       1.50         1.00  \n",
       "18  0.01       1.25         0.75  \n",
       "17  0.10       1.00         1.25  \n",
       "16  0.05       0.75         1.25  \n",
       "39  0.10       0.75         0.75  \n",
       "1   0.20       0.50         1.00  \n",
       "43  0.05       1.25         1.00  \n",
       "28  1.00       1.25         0.50  \n",
       "10  0.05       0.75         1.00  \n",
       "9   0.01       1.25         1.50  \n",
       "8   0.01       0.50         1.50  \n",
       "48  0.50       1.00         1.50  \n",
       "6   1.00       1.00         0.50  \n",
       "5   1.00       0.75         1.00  \n",
       "52  0.01       1.50         0.75  \n",
       "55  0.20       0.75         1.50  \n",
       "25  1.00       0.50         0.50  \n",
       "47  0.05       1.00         0.75  \n",
       "36  0.10       1.50         0.50  \n",
       "26  1.00       1.50         0.50  \n",
       "4   0.05       1.00         0.20  \n",
       "33  1.00       1.50         0.20  \n",
       "40  0.05       0.75         0.20  \n",
       "21  0.01       1.00         0.20  \n",
       "30  0.05       1.50         0.20  \n",
       "29  0.50       1.50         0.75  \n",
       "44  0.20       1.00         0.75  \n",
       "58  0.01       1.00         0.50  \n",
       "57  0.01       0.75         1.25  \n",
       "56  0.10       1.00         1.00  \n",
       "2   1.00       0.20         1.50  \n",
       "53  0.20       1.00         0.50  \n",
       "3   0.10       1.50         1.00  \n",
       "51  1.00       0.75         0.50  \n",
       "49  0.20       0.75         1.25  \n",
       "7   0.20       1.50         0.50  \n",
       "11  0.20       0.75         0.75  \n",
       "12  1.00       1.25         0.75  \n",
       "31  0.01       0.20         1.50  \n",
       "45  1.00       1.25         1.00  \n",
       "13  1.00       0.50         1.25  \n",
       "42  0.01       1.50         1.25  \n",
       "41  0.10       0.50         1.50  \n",
       "14  0.50       1.00         0.50  \n",
       "15  0.50       0.75         1.50  \n",
       "38  0.50       1.50         0.50  \n",
       "37  0.01       0.20         1.25  \n",
       "35  0.50       0.50         0.50  \n",
       "22  0.50       1.00         0.75  \n",
       "23  0.50       0.75         0.50  \n",
       "27  1.00       0.50         0.50  \n",
       "0   0.05       1.50         1.50  \n",
       "50  0.01       0.20         0.50  \n",
       "54  0.50       0.50         0.20  \n",
       "19  0.10       0.50         0.20  "
      ]
     },
     "execution_count": 36,
     "metadata": {},
     "output_type": "execute_result"
    }
   ],
   "source": [
    "result.sort_values(by='NAD', ascending=False)"
   ]
  },
  {
   "cell_type": "code",
   "execution_count": 37,
   "metadata": {},
   "outputs": [],
   "source": [
    "result = []\n",
    "for method in ['random']:\n",
    "    base = os.path.join(base_dir, method)\n",
    "    for folder in os.listdir(base):\n",
    "        if folder != 'backup':\n",
    "            args = json.load(open(os.path.join(base, folder, 'args.json')))\n",
    "            metrics = json.load(open(os.path.join(base, folder, 'eval_metric.json')))\n",
    "            args.update(metrics)\n",
    "            result.append({k:args[k] for k in ['accuracy_drop', 'probability_drop', 'WER', 'NAD',\n",
    "                                                'beam_size', 'num_steps', 'std']})\n",
    "result = pd.DataFrame(result)"
   ]
  },
  {
   "cell_type": "code",
   "execution_count": null,
   "metadata": {},
   "outputs": [],
   "source": []
  },
  {
   "cell_type": "code",
   "execution_count": null,
   "metadata": {},
   "outputs": [],
   "source": []
  },
  {
   "cell_type": "code",
   "execution_count": 38,
   "metadata": {},
   "outputs": [
    {
     "data": {
      "text/html": [
       "<div>\n",
       "<style scoped>\n",
       "    .dataframe tbody tr th:only-of-type {\n",
       "        vertical-align: middle;\n",
       "    }\n",
       "\n",
       "    .dataframe tbody tr th {\n",
       "        vertical-align: top;\n",
       "    }\n",
       "\n",
       "    .dataframe thead th {\n",
       "        text-align: right;\n",
       "    }\n",
       "</style>\n",
       "<table border=\"1\" class=\"dataframe\">\n",
       "  <thead>\n",
       "    <tr style=\"text-align: right;\">\n",
       "      <th></th>\n",
       "      <th>accuracy_drop</th>\n",
       "      <th>probability_drop</th>\n",
       "      <th>WER</th>\n",
       "      <th>NAD</th>\n",
       "      <th>beam_size</th>\n",
       "      <th>num_steps</th>\n",
       "      <th>std</th>\n",
       "    </tr>\n",
       "  </thead>\n",
       "  <tbody>\n",
       "    <tr>\n",
       "      <th>0</th>\n",
       "      <td>0.10</td>\n",
       "      <td>0.021645</td>\n",
       "      <td>3.86</td>\n",
       "      <td>0.053367</td>\n",
       "      <td>30</td>\n",
       "      <td>30</td>\n",
       "      <td>0.10</td>\n",
       "    </tr>\n",
       "    <tr>\n",
       "      <th>4</th>\n",
       "      <td>0.10</td>\n",
       "      <td>0.021645</td>\n",
       "      <td>3.86</td>\n",
       "      <td>0.053367</td>\n",
       "      <td>30</td>\n",
       "      <td>30</td>\n",
       "      <td>0.50</td>\n",
       "    </tr>\n",
       "    <tr>\n",
       "      <th>6</th>\n",
       "      <td>0.10</td>\n",
       "      <td>0.021645</td>\n",
       "      <td>3.86</td>\n",
       "      <td>0.053367</td>\n",
       "      <td>30</td>\n",
       "      <td>30</td>\n",
       "      <td>0.01</td>\n",
       "    </tr>\n",
       "    <tr>\n",
       "      <th>7</th>\n",
       "      <td>0.10</td>\n",
       "      <td>0.021645</td>\n",
       "      <td>3.86</td>\n",
       "      <td>0.053367</td>\n",
       "      <td>30</td>\n",
       "      <td>30</td>\n",
       "      <td>0.20</td>\n",
       "    </tr>\n",
       "    <tr>\n",
       "      <th>9</th>\n",
       "      <td>0.10</td>\n",
       "      <td>0.021645</td>\n",
       "      <td>3.86</td>\n",
       "      <td>0.053367</td>\n",
       "      <td>30</td>\n",
       "      <td>30</td>\n",
       "      <td>1.00</td>\n",
       "    </tr>\n",
       "    <tr>\n",
       "      <th>11</th>\n",
       "      <td>0.10</td>\n",
       "      <td>0.021645</td>\n",
       "      <td>3.86</td>\n",
       "      <td>0.053367</td>\n",
       "      <td>30</td>\n",
       "      <td>30</td>\n",
       "      <td>0.05</td>\n",
       "    </tr>\n",
       "    <tr>\n",
       "      <th>1</th>\n",
       "      <td>0.02</td>\n",
       "      <td>0.000601</td>\n",
       "      <td>1.90</td>\n",
       "      <td>0.011223</td>\n",
       "      <td>1</td>\n",
       "      <td>100</td>\n",
       "      <td>1.00</td>\n",
       "    </tr>\n",
       "    <tr>\n",
       "      <th>2</th>\n",
       "      <td>0.02</td>\n",
       "      <td>0.000601</td>\n",
       "      <td>1.90</td>\n",
       "      <td>0.011223</td>\n",
       "      <td>1</td>\n",
       "      <td>100</td>\n",
       "      <td>0.50</td>\n",
       "    </tr>\n",
       "    <tr>\n",
       "      <th>3</th>\n",
       "      <td>0.02</td>\n",
       "      <td>0.000601</td>\n",
       "      <td>1.90</td>\n",
       "      <td>0.011223</td>\n",
       "      <td>1</td>\n",
       "      <td>100</td>\n",
       "      <td>0.01</td>\n",
       "    </tr>\n",
       "    <tr>\n",
       "      <th>5</th>\n",
       "      <td>0.02</td>\n",
       "      <td>0.000601</td>\n",
       "      <td>1.90</td>\n",
       "      <td>0.011223</td>\n",
       "      <td>1</td>\n",
       "      <td>100</td>\n",
       "      <td>0.10</td>\n",
       "    </tr>\n",
       "    <tr>\n",
       "      <th>8</th>\n",
       "      <td>0.02</td>\n",
       "      <td>0.000601</td>\n",
       "      <td>1.90</td>\n",
       "      <td>0.011223</td>\n",
       "      <td>1</td>\n",
       "      <td>100</td>\n",
       "      <td>0.05</td>\n",
       "    </tr>\n",
       "    <tr>\n",
       "      <th>10</th>\n",
       "      <td>0.02</td>\n",
       "      <td>0.000601</td>\n",
       "      <td>1.90</td>\n",
       "      <td>0.011223</td>\n",
       "      <td>1</td>\n",
       "      <td>100</td>\n",
       "      <td>0.20</td>\n",
       "    </tr>\n",
       "  </tbody>\n",
       "</table>\n",
       "</div>"
      ],
      "text/plain": [
       "    accuracy_drop  probability_drop   WER       NAD  beam_size  num_steps  \\\n",
       "0            0.10          0.021645  3.86  0.053367         30         30   \n",
       "4            0.10          0.021645  3.86  0.053367         30         30   \n",
       "6            0.10          0.021645  3.86  0.053367         30         30   \n",
       "7            0.10          0.021645  3.86  0.053367         30         30   \n",
       "9            0.10          0.021645  3.86  0.053367         30         30   \n",
       "11           0.10          0.021645  3.86  0.053367         30         30   \n",
       "1            0.02          0.000601  1.90  0.011223          1        100   \n",
       "2            0.02          0.000601  1.90  0.011223          1        100   \n",
       "3            0.02          0.000601  1.90  0.011223          1        100   \n",
       "5            0.02          0.000601  1.90  0.011223          1        100   \n",
       "8            0.02          0.000601  1.90  0.011223          1        100   \n",
       "10           0.02          0.000601  1.90  0.011223          1        100   \n",
       "\n",
       "     std  \n",
       "0   0.10  \n",
       "4   0.50  \n",
       "6   0.01  \n",
       "7   0.20  \n",
       "9   1.00  \n",
       "11  0.05  \n",
       "1   1.00  \n",
       "2   0.50  \n",
       "3   0.01  \n",
       "5   0.10  \n",
       "8   0.05  \n",
       "10  0.20  "
      ]
     },
     "execution_count": 38,
     "metadata": {},
     "output_type": "execute_result"
    }
   ],
   "source": [
    "result.sort_values(by='NAD', ascending=False)"
   ]
  },
  {
   "cell_type": "code",
   "execution_count": null,
   "metadata": {},
   "outputs": [],
   "source": []
  },
  {
   "cell_type": "code",
   "execution_count": null,
   "metadata": {},
   "outputs": [],
   "source": []
  },
  {
   "cell_type": "code",
   "execution_count": null,
   "metadata": {},
   "outputs": [],
   "source": []
  },
  {
   "cell_type": "markdown",
   "metadata": {},
   "source": [
    "## make cascada grisearch"
   ]
  },
  {
   "cell_type": "code",
   "execution_count": 40,
   "metadata": {},
   "outputs": [],
   "source": [
    "levenshtein_weights = [0.1, 1, 10]\n",
    "beam_sizes = [1, 30, 100]\n",
    "max_stepss = [5, 30, 100]\n",
    "learning_rates = [1, 2, 4]"
   ]
  },
  {
   "cell_type": "code",
   "execution_count": 41,
   "metadata": {},
   "outputs": [],
   "source": [
    "import itertools"
   ]
  },
  {
   "cell_type": "code",
   "execution_count": 42,
   "metadata": {},
   "outputs": [],
   "source": [
    "params = list(itertools.product(levenshtein_weights, beam_sizes, max_stepss, learning_rates))"
   ]
  },
  {
   "cell_type": "code",
   "execution_count": 52,
   "metadata": {},
   "outputs": [],
   "source": [
    "dataset = 'kaggle_transactions'"
   ]
  },
  {
   "cell_type": "code",
   "execution_count": 46,
   "metadata": {},
   "outputs": [
    {
     "name": "stderr",
     "output_type": "stream",
     "text": [
      "\r",
      "  0%|          | 0/81 [00:00<?, ?it/s]"
     ]
    },
    {
     "name": "stdout",
     "output_type": "stream",
     "text": [
      "(0.1, 1, 5, 1)\n"
     ]
    },
    {
     "name": "stderr",
     "output_type": "stream",
     "text": [
      "\r",
      "  1%|          | 1/81 [00:09<13:09,  9.87s/it]"
     ]
    },
    {
     "name": "stdout",
     "output_type": "stream",
     "text": [
      "(0.1, 1, 5, 2)\n"
     ]
    },
    {
     "name": "stderr",
     "output_type": "stream",
     "text": [
      "\r",
      "  2%|▏         | 2/81 [00:21<13:50, 10.51s/it]"
     ]
    },
    {
     "name": "stdout",
     "output_type": "stream",
     "text": [
      "(0.1, 1, 5, 4)\n"
     ]
    },
    {
     "name": "stderr",
     "output_type": "stream",
     "text": [
      "\r",
      "  4%|▎         | 3/81 [00:34<14:27, 11.12s/it]"
     ]
    },
    {
     "name": "stdout",
     "output_type": "stream",
     "text": [
      "(0.1, 1, 30, 1)\n"
     ]
    },
    {
     "name": "stderr",
     "output_type": "stream",
     "text": [
      "\r",
      "  5%|▍         | 4/81 [01:16<26:10, 20.39s/it]"
     ]
    },
    {
     "name": "stdout",
     "output_type": "stream",
     "text": [
      "(0.1, 1, 30, 2)\n"
     ]
    },
    {
     "name": "stderr",
     "output_type": "stream",
     "text": [
      "\r",
      "  6%|▌         | 5/81 [02:08<37:50, 29.87s/it]"
     ]
    },
    {
     "name": "stdout",
     "output_type": "stream",
     "text": [
      "(0.1, 1, 30, 4)\n"
     ]
    },
    {
     "name": "stderr",
     "output_type": "stream",
     "text": [
      "\r",
      "  7%|▋         | 6/81 [03:09<49:01, 39.22s/it]"
     ]
    },
    {
     "name": "stdout",
     "output_type": "stream",
     "text": [
      "(0.1, 1, 100, 1)\n"
     ]
    },
    {
     "name": "stderr",
     "output_type": "stream",
     "text": [
      "\r",
      "  9%|▊         | 7/81 [05:36<1:28:09, 71.48s/it]"
     ]
    },
    {
     "name": "stdout",
     "output_type": "stream",
     "text": [
      "(0.1, 1, 100, 2)\n"
     ]
    },
    {
     "name": "stderr",
     "output_type": "stream",
     "text": [
      "\r",
      " 10%|▉         | 8/81 [08:19<2:00:34, 99.10s/it]"
     ]
    },
    {
     "name": "stdout",
     "output_type": "stream",
     "text": [
      "(0.1, 1, 100, 4)\n"
     ]
    },
    {
     "name": "stderr",
     "output_type": "stream",
     "text": [
      "\r",
      " 11%|█         | 9/81 [11:24<2:29:47, 124.82s/it]"
     ]
    },
    {
     "name": "stdout",
     "output_type": "stream",
     "text": [
      "(0.1, 30, 5, 1)\n"
     ]
    },
    {
     "name": "stderr",
     "output_type": "stream",
     "text": [
      "\r",
      " 12%|█▏        | 10/81 [11:38<1:48:19, 91.54s/it]"
     ]
    },
    {
     "name": "stdout",
     "output_type": "stream",
     "text": [
      "(0.1, 30, 5, 2)\n"
     ]
    },
    {
     "name": "stderr",
     "output_type": "stream",
     "text": [
      "\r",
      " 14%|█▎        | 11/81 [11:51<1:19:26, 68.10s/it]"
     ]
    },
    {
     "name": "stdout",
     "output_type": "stream",
     "text": [
      "(0.1, 30, 5, 4)\n"
     ]
    },
    {
     "name": "stderr",
     "output_type": "stream",
     "text": [
      "\r",
      " 15%|█▍        | 12/81 [12:08<1:00:26, 52.56s/it]"
     ]
    },
    {
     "name": "stdout",
     "output_type": "stream",
     "text": [
      "(0.1, 30, 30, 1)\n"
     ]
    },
    {
     "name": "stderr",
     "output_type": "stream",
     "text": [
      "\r",
      " 16%|█▌        | 13/81 [13:07<1:01:43, 54.47s/it]"
     ]
    },
    {
     "name": "stdout",
     "output_type": "stream",
     "text": [
      "(0.1, 30, 30, 2)\n"
     ]
    },
    {
     "name": "stderr",
     "output_type": "stream",
     "text": [
      "\r",
      " 17%|█▋        | 14/81 [14:13<1:04:44, 57.98s/it]"
     ]
    },
    {
     "name": "stdout",
     "output_type": "stream",
     "text": [
      "(0.1, 30, 30, 4)\n"
     ]
    },
    {
     "name": "stderr",
     "output_type": "stream",
     "text": [
      "\r",
      " 19%|█▊        | 15/81 [15:29<1:09:50, 63.49s/it]"
     ]
    },
    {
     "name": "stdout",
     "output_type": "stream",
     "text": [
      "(0.1, 30, 100, 1)\n"
     ]
    },
    {
     "name": "stderr",
     "output_type": "stream",
     "text": [
      "\r",
      " 20%|█▉        | 16/81 [18:33<1:47:59, 99.69s/it]"
     ]
    },
    {
     "name": "stdout",
     "output_type": "stream",
     "text": [
      "(0.1, 30, 100, 2)\n"
     ]
    },
    {
     "name": "stderr",
     "output_type": "stream",
     "text": [
      "\r",
      " 21%|██        | 17/81 [22:03<2:21:35, 132.74s/it]"
     ]
    },
    {
     "name": "stdout",
     "output_type": "stream",
     "text": [
      "(0.1, 30, 100, 4)\n"
     ]
    },
    {
     "name": "stderr",
     "output_type": "stream",
     "text": [
      "\r",
      " 22%|██▏       | 18/81 [26:05<2:53:48, 165.54s/it]"
     ]
    },
    {
     "name": "stdout",
     "output_type": "stream",
     "text": [
      "(0.1, 100, 5, 1)\n"
     ]
    },
    {
     "name": "stderr",
     "output_type": "stream",
     "text": [
      "\r",
      " 23%|██▎       | 19/81 [26:21<2:04:44, 120.72s/it]"
     ]
    },
    {
     "name": "stdout",
     "output_type": "stream",
     "text": [
      "(0.1, 100, 5, 2)\n"
     ]
    },
    {
     "name": "stderr",
     "output_type": "stream",
     "text": [
      "\r",
      " 25%|██▍       | 20/81 [26:39<1:31:22, 89.87s/it] "
     ]
    },
    {
     "name": "stdout",
     "output_type": "stream",
     "text": [
      "(0.1, 100, 5, 4)\n"
     ]
    },
    {
     "name": "stderr",
     "output_type": "stream",
     "text": [
      "\r",
      " 26%|██▌       | 21/81 [26:58<1:08:24, 68.40s/it]"
     ]
    },
    {
     "name": "stdout",
     "output_type": "stream",
     "text": [
      "(0.1, 100, 30, 1)\n"
     ]
    },
    {
     "name": "stderr",
     "output_type": "stream",
     "text": [
      "\r",
      " 27%|██▋       | 22/81 [28:17<1:10:35, 71.78s/it]"
     ]
    },
    {
     "name": "stdout",
     "output_type": "stream",
     "text": [
      "(0.1, 100, 30, 2)\n"
     ]
    },
    {
     "name": "stderr",
     "output_type": "stream",
     "text": [
      "\r",
      " 28%|██▊       | 23/81 [29:46<1:14:15, 76.82s/it]"
     ]
    },
    {
     "name": "stdout",
     "output_type": "stream",
     "text": [
      "(0.1, 100, 30, 4)\n"
     ]
    },
    {
     "name": "stderr",
     "output_type": "stream",
     "text": [
      "\r",
      " 30%|██▉       | 24/81 [31:24<1:18:56, 83.09s/it]"
     ]
    },
    {
     "name": "stdout",
     "output_type": "stream",
     "text": [
      "(0.1, 100, 100, 1)\n"
     ]
    },
    {
     "name": "stderr",
     "output_type": "stream",
     "text": [
      "\r",
      " 31%|███       | 25/81 [35:45<2:07:32, 136.66s/it]"
     ]
    },
    {
     "name": "stdout",
     "output_type": "stream",
     "text": [
      "(0.1, 100, 100, 2)\n"
     ]
    },
    {
     "name": "stderr",
     "output_type": "stream",
     "text": [
      "\r",
      " 32%|███▏      | 26/81 [40:30<2:46:00, 181.10s/it]"
     ]
    },
    {
     "name": "stdout",
     "output_type": "stream",
     "text": [
      "(0.1, 100, 100, 4)\n"
     ]
    },
    {
     "name": "stderr",
     "output_type": "stream",
     "text": [
      "\r",
      " 33%|███▎      | 27/81 [45:37<3:16:52, 218.75s/it]"
     ]
    },
    {
     "name": "stdout",
     "output_type": "stream",
     "text": [
      "(1, 1, 5, 1)\n"
     ]
    },
    {
     "name": "stderr",
     "output_type": "stream",
     "text": [
      "\r",
      " 35%|███▍      | 28/81 [45:49<2:18:25, 156.71s/it]"
     ]
    },
    {
     "name": "stdout",
     "output_type": "stream",
     "text": [
      "(1, 1, 5, 2)\n"
     ]
    },
    {
     "name": "stderr",
     "output_type": "stream",
     "text": [
      "\r",
      " 36%|███▌      | 29/81 [46:00<1:38:04, 113.17s/it]"
     ]
    },
    {
     "name": "stdout",
     "output_type": "stream",
     "text": [
      "(1, 1, 5, 4)\n"
     ]
    },
    {
     "name": "stderr",
     "output_type": "stream",
     "text": [
      "\r",
      " 37%|███▋      | 30/81 [46:13<1:10:39, 83.12s/it] "
     ]
    },
    {
     "name": "stdout",
     "output_type": "stream",
     "text": [
      "(1, 1, 30, 1)\n"
     ]
    },
    {
     "name": "stderr",
     "output_type": "stream",
     "text": [
      "\r",
      " 38%|███▊      | 31/81 [47:01<1:00:28, 72.57s/it]"
     ]
    },
    {
     "name": "stdout",
     "output_type": "stream",
     "text": [
      "(1, 1, 30, 2)\n"
     ]
    },
    {
     "name": "stderr",
     "output_type": "stream",
     "text": [
      "\r",
      " 40%|███▉      | 32/81 [47:58<55:19, 67.75s/it]  "
     ]
    },
    {
     "name": "stdout",
     "output_type": "stream",
     "text": [
      "(1, 1, 30, 4)\n"
     ]
    },
    {
     "name": "stderr",
     "output_type": "stream",
     "text": [
      "\r",
      " 41%|████      | 33/81 [48:59<52:42, 65.89s/it]"
     ]
    },
    {
     "name": "stdout",
     "output_type": "stream",
     "text": [
      "(1, 1, 100, 1)\n"
     ]
    },
    {
     "name": "stderr",
     "output_type": "stream",
     "text": [
      "\r",
      " 42%|████▏     | 34/81 [51:26<1:10:40, 90.22s/it]"
     ]
    },
    {
     "name": "stdout",
     "output_type": "stream",
     "text": [
      "(1, 1, 100, 2)\n"
     ]
    },
    {
     "name": "stderr",
     "output_type": "stream",
     "text": [
      "\r",
      " 43%|████▎     | 35/81 [54:27<1:30:02, 117.44s/it]"
     ]
    },
    {
     "name": "stdout",
     "output_type": "stream",
     "text": [
      "(1, 1, 100, 4)\n"
     ]
    },
    {
     "name": "stderr",
     "output_type": "stream",
     "text": [
      "\r",
      " 44%|████▍     | 36/81 [57:42<1:45:28, 140.63s/it]"
     ]
    },
    {
     "name": "stdout",
     "output_type": "stream",
     "text": [
      "(1, 30, 5, 1)\n"
     ]
    },
    {
     "name": "stderr",
     "output_type": "stream",
     "text": [
      "\r",
      " 46%|████▌     | 37/81 [57:55<1:15:02, 102.33s/it]"
     ]
    },
    {
     "name": "stdout",
     "output_type": "stream",
     "text": [
      "(1, 30, 5, 2)\n"
     ]
    },
    {
     "name": "stderr",
     "output_type": "stream",
     "text": [
      "\r",
      " 47%|████▋     | 38/81 [58:10<54:36, 76.19s/it]   "
     ]
    },
    {
     "name": "stdout",
     "output_type": "stream",
     "text": [
      "(1, 30, 5, 4)\n"
     ]
    },
    {
     "name": "stderr",
     "output_type": "stream",
     "text": [
      "\r",
      " 48%|████▊     | 39/81 [58:25<40:25, 57.74s/it]"
     ]
    },
    {
     "name": "stdout",
     "output_type": "stream",
     "text": [
      "(1, 30, 30, 1)\n"
     ]
    },
    {
     "name": "stderr",
     "output_type": "stream",
     "text": [
      "\r",
      " 49%|████▉     | 40/81 [59:28<40:30, 59.28s/it]"
     ]
    },
    {
     "name": "stdout",
     "output_type": "stream",
     "text": [
      "(1, 30, 30, 2)\n"
     ]
    },
    {
     "name": "stderr",
     "output_type": "stream",
     "text": [
      "\r",
      " 51%|█████     | 41/81 [1:00:39<41:52, 62.81s/it]"
     ]
    },
    {
     "name": "stdout",
     "output_type": "stream",
     "text": [
      "(1, 30, 30, 4)\n"
     ]
    },
    {
     "name": "stderr",
     "output_type": "stream",
     "text": [
      "\r",
      " 52%|█████▏    | 42/81 [1:01:56<43:36, 67.08s/it]"
     ]
    },
    {
     "name": "stdout",
     "output_type": "stream",
     "text": [
      "(1, 30, 100, 1)\n"
     ]
    },
    {
     "name": "stderr",
     "output_type": "stream",
     "text": [
      "\r",
      " 53%|█████▎    | 43/81 [1:05:24<1:09:25, 109.62s/it]"
     ]
    },
    {
     "name": "stdout",
     "output_type": "stream",
     "text": [
      "(1, 30, 100, 2)\n"
     ]
    },
    {
     "name": "stderr",
     "output_type": "stream",
     "text": [
      "\r",
      " 54%|█████▍    | 44/81 [1:09:15<1:29:58, 145.92s/it]"
     ]
    },
    {
     "name": "stdout",
     "output_type": "stream",
     "text": [
      "(1, 30, 100, 4)\n"
     ]
    },
    {
     "name": "stderr",
     "output_type": "stream",
     "text": [
      "\r",
      " 56%|█████▌    | 45/81 [1:13:20<1:45:23, 175.65s/it]"
     ]
    },
    {
     "name": "stdout",
     "output_type": "stream",
     "text": [
      "(1, 100, 5, 1)\n"
     ]
    },
    {
     "name": "stderr",
     "output_type": "stream",
     "text": [
      "\r",
      " 57%|█████▋    | 46/81 [1:13:37<1:14:40, 128.02s/it]"
     ]
    },
    {
     "name": "stdout",
     "output_type": "stream",
     "text": [
      "(1, 100, 5, 2)\n"
     ]
    },
    {
     "name": "stderr",
     "output_type": "stream",
     "text": [
      "\r",
      " 58%|█████▊    | 47/81 [1:13:56<54:02, 95.36s/it]   "
     ]
    },
    {
     "name": "stdout",
     "output_type": "stream",
     "text": [
      "(1, 100, 5, 4)\n"
     ]
    },
    {
     "name": "stderr",
     "output_type": "stream",
     "text": [
      "\r",
      " 59%|█████▉    | 48/81 [1:14:16<39:59, 72.72s/it]"
     ]
    },
    {
     "name": "stdout",
     "output_type": "stream",
     "text": [
      "(1, 100, 30, 1)\n"
     ]
    },
    {
     "name": "stderr",
     "output_type": "stream",
     "text": [
      "\r",
      " 60%|██████    | 49/81 [1:15:42<40:49, 76.56s/it]"
     ]
    },
    {
     "name": "stdout",
     "output_type": "stream",
     "text": [
      "(1, 100, 30, 2)\n"
     ]
    },
    {
     "name": "stderr",
     "output_type": "stream",
     "text": [
      "\r",
      " 62%|██████▏   | 50/81 [1:17:17<42:32, 82.33s/it]"
     ]
    },
    {
     "name": "stdout",
     "output_type": "stream",
     "text": [
      "(1, 100, 30, 4)\n"
     ]
    },
    {
     "name": "stderr",
     "output_type": "stream",
     "text": [
      "\r",
      " 63%|██████▎   | 51/81 [1:18:57<43:42, 87.42s/it]"
     ]
    },
    {
     "name": "stdout",
     "output_type": "stream",
     "text": [
      "(1, 100, 100, 1)\n"
     ]
    },
    {
     "name": "stderr",
     "output_type": "stream",
     "text": [
      "\r",
      " 64%|██████▍   | 52/81 [1:23:42<1:10:56, 146.78s/it]"
     ]
    },
    {
     "name": "stdout",
     "output_type": "stream",
     "text": [
      "(1, 100, 100, 2)\n"
     ]
    },
    {
     "name": "stderr",
     "output_type": "stream",
     "text": [
      "\r",
      " 65%|██████▌   | 53/81 [1:28:51<1:31:16, 195.57s/it]"
     ]
    },
    {
     "name": "stdout",
     "output_type": "stream",
     "text": [
      "(1, 100, 100, 4)\n"
     ]
    },
    {
     "name": "stderr",
     "output_type": "stream",
     "text": [
      "\r",
      " 67%|██████▋   | 54/81 [1:33:58<1:42:59, 228.86s/it]"
     ]
    },
    {
     "name": "stdout",
     "output_type": "stream",
     "text": [
      "(10, 1, 5, 1)\n"
     ]
    },
    {
     "name": "stderr",
     "output_type": "stream",
     "text": [
      "\r",
      " 68%|██████▊   | 55/81 [1:34:10<1:10:59, 163.83s/it]"
     ]
    },
    {
     "name": "stdout",
     "output_type": "stream",
     "text": [
      "(10, 1, 5, 2)\n"
     ]
    },
    {
     "name": "stderr",
     "output_type": "stream",
     "text": [
      "\r",
      " 69%|██████▉   | 56/81 [1:34:24<49:30, 118.83s/it]  "
     ]
    },
    {
     "name": "stdout",
     "output_type": "stream",
     "text": [
      "(10, 1, 5, 4)\n"
     ]
    },
    {
     "name": "stderr",
     "output_type": "stream",
     "text": [
      "\r",
      " 70%|███████   | 57/81 [1:34:37<34:51, 87.13s/it] "
     ]
    },
    {
     "name": "stdout",
     "output_type": "stream",
     "text": [
      "(10, 1, 30, 1)\n"
     ]
    },
    {
     "name": "stderr",
     "output_type": "stream",
     "text": [
      "\r",
      " 72%|███████▏  | 58/81 [1:35:38<30:26, 79.43s/it]"
     ]
    },
    {
     "name": "stdout",
     "output_type": "stream",
     "text": [
      "(10, 1, 30, 2)\n"
     ]
    },
    {
     "name": "stderr",
     "output_type": "stream",
     "text": [
      "\r",
      " 73%|███████▎  | 59/81 [1:36:41<27:14, 74.29s/it]"
     ]
    },
    {
     "name": "stdout",
     "output_type": "stream",
     "text": [
      "(10, 1, 30, 4)\n"
     ]
    },
    {
     "name": "stderr",
     "output_type": "stream",
     "text": [
      "\r",
      " 74%|███████▍  | 60/81 [1:37:43<24:41, 70.55s/it]"
     ]
    },
    {
     "name": "stdout",
     "output_type": "stream",
     "text": [
      "(10, 1, 100, 1)\n"
     ]
    },
    {
     "name": "stderr",
     "output_type": "stream",
     "text": [
      "\r",
      " 75%|███████▌  | 61/81 [1:40:59<36:03, 108.18s/it]"
     ]
    },
    {
     "name": "stdout",
     "output_type": "stream",
     "text": [
      "(10, 1, 100, 2)\n"
     ]
    },
    {
     "name": "stderr",
     "output_type": "stream",
     "text": [
      "\r",
      " 77%|███████▋  | 62/81 [1:44:18<42:54, 135.50s/it]"
     ]
    },
    {
     "name": "stdout",
     "output_type": "stream",
     "text": [
      "(10, 1, 100, 4)\n"
     ]
    },
    {
     "name": "stderr",
     "output_type": "stream",
     "text": [
      "\r",
      " 78%|███████▊  | 63/81 [1:47:44<47:02, 156.80s/it]"
     ]
    },
    {
     "name": "stdout",
     "output_type": "stream",
     "text": [
      "(10, 30, 5, 1)\n"
     ]
    },
    {
     "name": "stderr",
     "output_type": "stream",
     "text": [
      "\r",
      " 79%|███████▉  | 64/81 [1:48:00<32:25, 114.43s/it]"
     ]
    },
    {
     "name": "stdout",
     "output_type": "stream",
     "text": [
      "(10, 30, 5, 2)\n"
     ]
    },
    {
     "name": "stderr",
     "output_type": "stream",
     "text": [
      "\r",
      " 80%|████████  | 65/81 [1:48:15<22:31, 84.50s/it] "
     ]
    },
    {
     "name": "stdout",
     "output_type": "stream",
     "text": [
      "(10, 30, 5, 4)\n"
     ]
    },
    {
     "name": "stderr",
     "output_type": "stream",
     "text": [
      "\r",
      " 81%|████████▏ | 66/81 [1:48:31<16:01, 64.13s/it]"
     ]
    },
    {
     "name": "stdout",
     "output_type": "stream",
     "text": [
      "(10, 30, 30, 1)\n"
     ]
    },
    {
     "name": "stderr",
     "output_type": "stream",
     "text": [
      "\r",
      " 83%|████████▎ | 67/81 [1:49:46<15:41, 67.28s/it]"
     ]
    },
    {
     "name": "stdout",
     "output_type": "stream",
     "text": [
      "(10, 30, 30, 2)\n"
     ]
    },
    {
     "name": "stderr",
     "output_type": "stream",
     "text": [
      "\r",
      " 84%|████████▍ | 68/81 [1:50:58<14:52, 68.68s/it]"
     ]
    },
    {
     "name": "stdout",
     "output_type": "stream",
     "text": [
      "(10, 30, 30, 4)\n"
     ]
    },
    {
     "name": "stderr",
     "output_type": "stream",
     "text": [
      "\r",
      " 85%|████████▌ | 69/81 [1:52:13<14:09, 70.77s/it]"
     ]
    },
    {
     "name": "stdout",
     "output_type": "stream",
     "text": [
      "(10, 30, 100, 1)\n"
     ]
    },
    {
     "name": "stderr",
     "output_type": "stream",
     "text": [
      "\r",
      " 86%|████████▋ | 70/81 [1:56:14<22:19, 121.81s/it]"
     ]
    },
    {
     "name": "stdout",
     "output_type": "stream",
     "text": [
      "(10, 30, 100, 2)\n"
     ]
    },
    {
     "name": "stderr",
     "output_type": "stream",
     "text": [
      "\r",
      " 88%|████████▊ | 71/81 [2:00:17<26:19, 157.94s/it]"
     ]
    },
    {
     "name": "stdout",
     "output_type": "stream",
     "text": [
      "(10, 30, 100, 4)\n"
     ]
    },
    {
     "name": "stderr",
     "output_type": "stream",
     "text": [
      "\r",
      " 89%|████████▉ | 72/81 [2:04:18<27:25, 182.87s/it]"
     ]
    },
    {
     "name": "stdout",
     "output_type": "stream",
     "text": [
      "(10, 100, 5, 1)\n"
     ]
    },
    {
     "name": "stderr",
     "output_type": "stream",
     "text": [
      "\r",
      " 90%|█████████ | 73/81 [2:04:36<17:47, 133.48s/it]"
     ]
    },
    {
     "name": "stdout",
     "output_type": "stream",
     "text": [
      "(10, 100, 5, 2)\n"
     ]
    },
    {
     "name": "stderr",
     "output_type": "stream",
     "text": [
      "\r",
      " 91%|█████████▏| 74/81 [2:04:54<11:33, 99.04s/it] "
     ]
    },
    {
     "name": "stdout",
     "output_type": "stream",
     "text": [
      "(10, 100, 5, 4)\n"
     ]
    },
    {
     "name": "stderr",
     "output_type": "stream",
     "text": [
      "\r",
      " 93%|█████████▎| 75/81 [2:05:17<07:35, 75.97s/it]"
     ]
    },
    {
     "name": "stdout",
     "output_type": "stream",
     "text": [
      "(10, 100, 30, 1)\n"
     ]
    },
    {
     "name": "stderr",
     "output_type": "stream",
     "text": [
      "\r",
      " 94%|█████████▍| 76/81 [2:06:52<06:49, 81.86s/it]"
     ]
    },
    {
     "name": "stdout",
     "output_type": "stream",
     "text": [
      "(10, 100, 30, 2)\n"
     ]
    },
    {
     "name": "stderr",
     "output_type": "stream",
     "text": [
      "\r",
      " 95%|█████████▌| 77/81 [2:08:31<05:47, 86.91s/it]"
     ]
    },
    {
     "name": "stdout",
     "output_type": "stream",
     "text": [
      "(10, 100, 30, 4)\n"
     ]
    },
    {
     "name": "stderr",
     "output_type": "stream",
     "text": [
      "\r",
      " 96%|█████████▋| 78/81 [2:10:14<04:35, 91.69s/it]"
     ]
    },
    {
     "name": "stdout",
     "output_type": "stream",
     "text": [
      "(10, 100, 100, 1)\n"
     ]
    },
    {
     "name": "stderr",
     "output_type": "stream",
     "text": [
      "\r",
      " 98%|█████████▊| 79/81 [2:15:32<05:19, 159.66s/it]"
     ]
    },
    {
     "name": "stdout",
     "output_type": "stream",
     "text": [
      "(10, 100, 100, 2)\n"
     ]
    },
    {
     "name": "stderr",
     "output_type": "stream",
     "text": [
      "\r",
      " 99%|█████████▉| 80/81 [2:20:27<03:20, 200.29s/it]"
     ]
    },
    {
     "name": "stdout",
     "output_type": "stream",
     "text": [
      "(10, 100, 100, 4)\n"
     ]
    },
    {
     "name": "stderr",
     "output_type": "stream",
     "text": [
      "100%|██████████| 81/81 [2:24:45<00:00, 107.22s/it]\n"
     ]
    }
   ],
   "source": [
    "for p in tqdm(params):\n",
    "    print(p)\n",
    "    levenshtein_weight, beam_size, max_steps, learning_rate = p\n",
    "    cmd = \\\n",
    "    f'''\n",
    "    python run_cascada.py \n",
    "    --csv_path data/{dataset}/test.csv \n",
    "    --results_path results/{dataset}/cascada\n",
    "    --classifier_path experiments/{dataset}/classification_copynet \n",
    "    --levenshtein_path experiments/{dataset}/deep_levenshtein_copynet \n",
    "    --copynet_path experiments/{dataset}/nonmasked_copynet_with_attention \n",
    "    --levenshtein_weight {levenshtein_weight}\n",
    "    --beam_size {beam_size} \n",
    "    --max_steps {max_steps}\n",
    "    --cuda 0 \n",
    "    --num_updates 5 \n",
    "    --learning_rate {learning_rate} \n",
    "    --sample 100\n",
    "    '''.replace('\\n','')\n",
    "    result = subprocess.run(cmd, stdout=subprocess.PIPE, shell=True)"
   ]
  },
  {
   "cell_type": "code",
   "execution_count": 55,
   "metadata": {},
   "outputs": [],
   "source": [
    "base_dir = f'results/{dataset}'"
   ]
  },
  {
   "cell_type": "code",
   "execution_count": 56,
   "metadata": {},
   "outputs": [],
   "source": [
    "model_with_weights = joblib.load(f'results/{dataset}/logit_tfidf.model')\n",
    "model = model_with_weights['model']\n",
    "w = model_with_weights['weights']\n",
    "\n",
    "for method in ['cascada']:\n",
    "    base = os.path.join(base_dir, method)\n",
    "    for folder in os.listdir(base):\n",
    "        if folder != 'backup':\n",
    "            attack_results_path = f'{base}/{folder}/results.csv'\n",
    "            eval_results_path = f'{base}/{folder}/eval_metric.json'\n",
    "            df = pd.read_csv(attack_results_path)\n",
    "            metrics = calculate_metrics(model, w,\n",
    "                                    df['label'].values, \n",
    "                                    df['sequence'].values,\n",
    "                                    df['adversarial_sequence'].values)\n",
    "            json.dump(metrics, open(eval_results_path, 'w'))"
   ]
  },
  {
   "cell_type": "code",
   "execution_count": 57,
   "metadata": {},
   "outputs": [],
   "source": [
    "result = []\n",
    "for method in ['cascada']:\n",
    "    base = os.path.join(base_dir, method)\n",
    "    for folder in os.listdir(base):\n",
    "        if folder != 'backup':\n",
    "            args = json.load(open(os.path.join(base, folder, 'args.json')))\n",
    "            metrics = json.load(open(os.path.join(base, folder, 'eval_metric.json')))\n",
    "            args.update(metrics)\n",
    "            result.append({k:args[k] for k in ['accuracy_drop', 'probability_drop', 'WER', 'NAD',\n",
    "                                               'levenshtein_weight', 'beam_size', 'max_steps', 'learning_rate']})\n",
    "result = pd.DataFrame(result)"
   ]
  },
  {
   "cell_type": "code",
   "execution_count": 58,
   "metadata": {},
   "outputs": [],
   "source": [
    "sns.set()"
   ]
  },
  {
   "cell_type": "code",
   "execution_count": 60,
   "metadata": {},
   "outputs": [
    {
     "data": {
      "image/png": "[encoded data removed]",
      "text/plain": [
       "<Figure size 1440x360 with 16 Axes>"
      ]
     },
     "metadata": {},
     "output_type": "display_data"
    }
   ],
   "source": [
    "g = sns.pairplot(result, x_vars=result.columns.values, y_vars=['NAD', 'WER'])\n",
    "plt.savefig(os.path.join(base_dir, f'stats_{method}.png'), dpi=150, bbox_inches='tight')"
   ]
  },
  {
   "cell_type": "code",
   "execution_count": 61,
   "metadata": {},
   "outputs": [
    {
     "data": {
      "text/html": [
       "<div>\n",
       "<style scoped>\n",
       "    .dataframe tbody tr th:only-of-type {\n",
       "        vertical-align: middle;\n",
       "    }\n",
       "\n",
       "    .dataframe tbody tr th {\n",
       "        vertical-align: top;\n",
       "    }\n",
       "\n",
       "    .dataframe thead th {\n",
       "        text-align: right;\n",
       "    }\n",
       "</style>\n",
       "<table border=\"1\" class=\"dataframe\">\n",
       "  <thead>\n",
       "    <tr style=\"text-align: right;\">\n",
       "      <th></th>\n",
       "      <th>accuracy_drop</th>\n",
       "      <th>probability_drop</th>\n",
       "      <th>WER</th>\n",
       "      <th>NAD</th>\n",
       "      <th>levenshtein_weight</th>\n",
       "      <th>beam_size</th>\n",
       "      <th>max_steps</th>\n",
       "      <th>learning_rate</th>\n",
       "    </tr>\n",
       "  </thead>\n",
       "  <tbody>\n",
       "    <tr>\n",
       "      <th>18</th>\n",
       "      <td>0.20</td>\n",
       "      <td>0.088647</td>\n",
       "      <td>3.34</td>\n",
       "      <td>0.138298</td>\n",
       "      <td>1.0</td>\n",
       "      <td>100</td>\n",
       "      <td>30</td>\n",
       "      <td>2.0</td>\n",
       "    </tr>\n",
       "    <tr>\n",
       "      <th>12</th>\n",
       "      <td>0.18</td>\n",
       "      <td>0.079708</td>\n",
       "      <td>3.15</td>\n",
       "      <td>0.135029</td>\n",
       "      <td>1.0</td>\n",
       "      <td>100</td>\n",
       "      <td>100</td>\n",
       "      <td>2.0</td>\n",
       "    </tr>\n",
       "    <tr>\n",
       "      <th>2</th>\n",
       "      <td>0.19</td>\n",
       "      <td>0.085526</td>\n",
       "      <td>3.73</td>\n",
       "      <td>0.128175</td>\n",
       "      <td>1.0</td>\n",
       "      <td>100</td>\n",
       "      <td>5</td>\n",
       "      <td>2.0</td>\n",
       "    </tr>\n",
       "    <tr>\n",
       "      <th>25</th>\n",
       "      <td>0.17</td>\n",
       "      <td>0.079183</td>\n",
       "      <td>3.55</td>\n",
       "      <td>0.126800</td>\n",
       "      <td>0.1</td>\n",
       "      <td>100</td>\n",
       "      <td>100</td>\n",
       "      <td>2.0</td>\n",
       "    </tr>\n",
       "    <tr>\n",
       "      <th>73</th>\n",
       "      <td>0.17</td>\n",
       "      <td>0.079313</td>\n",
       "      <td>3.86</td>\n",
       "      <td>0.126660</td>\n",
       "      <td>10.0</td>\n",
       "      <td>100</td>\n",
       "      <td>100</td>\n",
       "      <td>2.0</td>\n",
       "    </tr>\n",
       "    <tr>\n",
       "      <th>...</th>\n",
       "      <td>...</td>\n",
       "      <td>...</td>\n",
       "      <td>...</td>\n",
       "      <td>...</td>\n",
       "      <td>...</td>\n",
       "      <td>...</td>\n",
       "      <td>...</td>\n",
       "      <td>...</td>\n",
       "    </tr>\n",
       "    <tr>\n",
       "      <th>41</th>\n",
       "      <td>0.04</td>\n",
       "      <td>0.013441</td>\n",
       "      <td>0.62</td>\n",
       "      <td>0.051643</td>\n",
       "      <td>1.0</td>\n",
       "      <td>100</td>\n",
       "      <td>5</td>\n",
       "      <td>1.0</td>\n",
       "    </tr>\n",
       "    <tr>\n",
       "      <th>71</th>\n",
       "      <td>0.37</td>\n",
       "      <td>0.174067</td>\n",
       "      <td>12.58</td>\n",
       "      <td>0.050453</td>\n",
       "      <td>10.0</td>\n",
       "      <td>1</td>\n",
       "      <td>5</td>\n",
       "      <td>4.0</td>\n",
       "    </tr>\n",
       "    <tr>\n",
       "      <th>74</th>\n",
       "      <td>0.03</td>\n",
       "      <td>0.009481</td>\n",
       "      <td>0.56</td>\n",
       "      <td>0.046948</td>\n",
       "      <td>1.0</td>\n",
       "      <td>100</td>\n",
       "      <td>30</td>\n",
       "      <td>1.0</td>\n",
       "    </tr>\n",
       "    <tr>\n",
       "      <th>76</th>\n",
       "      <td>0.03</td>\n",
       "      <td>0.012517</td>\n",
       "      <td>0.65</td>\n",
       "      <td>0.046948</td>\n",
       "      <td>0.1</td>\n",
       "      <td>100</td>\n",
       "      <td>30</td>\n",
       "      <td>1.0</td>\n",
       "    </tr>\n",
       "    <tr>\n",
       "      <th>67</th>\n",
       "      <td>0.01</td>\n",
       "      <td>0.011184</td>\n",
       "      <td>0.56</td>\n",
       "      <td>0.025822</td>\n",
       "      <td>0.1</td>\n",
       "      <td>100</td>\n",
       "      <td>100</td>\n",
       "      <td>1.0</td>\n",
       "    </tr>\n",
       "  </tbody>\n",
       "</table>\n",
       "<p>81 rows × 8 columns</p>\n",
       "</div>"
      ],
      "text/plain": [
       "    accuracy_drop  probability_drop    WER       NAD  levenshtein_weight  \\\n",
       "18           0.20          0.088647   3.34  0.138298                 1.0   \n",
       "12           0.18          0.079708   3.15  0.135029                 1.0   \n",
       "2            0.19          0.085526   3.73  0.128175                 1.0   \n",
       "25           0.17          0.079183   3.55  0.126800                 0.1   \n",
       "73           0.17          0.079313   3.86  0.126660                10.0   \n",
       "..            ...               ...    ...       ...                 ...   \n",
       "41           0.04          0.013441   0.62  0.051643                 1.0   \n",
       "71           0.37          0.174067  12.58  0.050453                10.0   \n",
       "74           0.03          0.009481   0.56  0.046948                 1.0   \n",
       "76           0.03          0.012517   0.65  0.046948                 0.1   \n",
       "67           0.01          0.011184   0.56  0.025822                 0.1   \n",
       "\n",
       "    beam_size  max_steps  learning_rate  \n",
       "18        100         30            2.0  \n",
       "12        100        100            2.0  \n",
       "2         100          5            2.0  \n",
       "25        100        100            2.0  \n",
       "73        100        100            2.0  \n",
       "..        ...        ...            ...  \n",
       "41        100          5            1.0  \n",
       "71          1          5            4.0  \n",
       "74        100         30            1.0  \n",
       "76        100         30            1.0  \n",
       "67        100        100            1.0  \n",
       "\n",
       "[81 rows x 8 columns]"
      ]
     },
     "execution_count": 61,
     "metadata": {},
     "output_type": "execute_result"
    }
   ],
   "source": [
    "result.sort_values(by='NAD', ascending=False)"
   ]
  },
  {
   "cell_type": "code",
   "execution_count": 63,
   "metadata": {},
   "outputs": [
    {
     "data": {
      "text/html": [
       "<div>\n",
       "<style scoped>\n",
       "    .dataframe tbody tr th:only-of-type {\n",
       "        vertical-align: middle;\n",
       "    }\n",
       "\n",
       "    .dataframe tbody tr th {\n",
       "        vertical-align: top;\n",
       "    }\n",
       "\n",
       "    .dataframe thead th {\n",
       "        text-align: right;\n",
       "    }\n",
       "</style>\n",
       "<table border=\"1\" class=\"dataframe\">\n",
       "  <thead>\n",
       "    <tr style=\"text-align: right;\">\n",
       "      <th></th>\n",
       "      <th>accuracy_drop</th>\n",
       "      <th>probability_drop</th>\n",
       "      <th>WER</th>\n",
       "      <th>NAD</th>\n",
       "      <th>levenshtein_weight</th>\n",
       "      <th>beam_size</th>\n",
       "      <th>max_steps</th>\n",
       "      <th>learning_rate</th>\n",
       "    </tr>\n",
       "  </thead>\n",
       "  <tbody>\n",
       "    <tr>\n",
       "      <th>1</th>\n",
       "      <td>0.33</td>\n",
       "      <td>0.141751</td>\n",
       "      <td>9.95</td>\n",
       "      <td>0.065924</td>\n",
       "      <td>10.0</td>\n",
       "      <td>30</td>\n",
       "      <td>100</td>\n",
       "      <td>4.0</td>\n",
       "    </tr>\n",
       "    <tr>\n",
       "      <th>4</th>\n",
       "      <td>0.05</td>\n",
       "      <td>0.017609</td>\n",
       "      <td>0.87</td>\n",
       "      <td>0.093897</td>\n",
       "      <td>10.0</td>\n",
       "      <td>30</td>\n",
       "      <td>5</td>\n",
       "      <td>1.0</td>\n",
       "    </tr>\n",
       "    <tr>\n",
       "      <th>6</th>\n",
       "      <td>0.17</td>\n",
       "      <td>0.083164</td>\n",
       "      <td>4.33</td>\n",
       "      <td>0.112446</td>\n",
       "      <td>0.1</td>\n",
       "      <td>30</td>\n",
       "      <td>5</td>\n",
       "      <td>2.0</td>\n",
       "    </tr>\n",
       "    <tr>\n",
       "      <th>7</th>\n",
       "      <td>0.46</td>\n",
       "      <td>0.204365</td>\n",
       "      <td>11.17</td>\n",
       "      <td>0.073969</td>\n",
       "      <td>0.1</td>\n",
       "      <td>30</td>\n",
       "      <td>30</td>\n",
       "      <td>4.0</td>\n",
       "    </tr>\n",
       "    <tr>\n",
       "      <th>10</th>\n",
       "      <td>0.17</td>\n",
       "      <td>0.082543</td>\n",
       "      <td>4.28</td>\n",
       "      <td>0.111150</td>\n",
       "      <td>10.0</td>\n",
       "      <td>30</td>\n",
       "      <td>100</td>\n",
       "      <td>2.0</td>\n",
       "    </tr>\n",
       "    <tr>\n",
       "      <th>13</th>\n",
       "      <td>0.07</td>\n",
       "      <td>0.022046</td>\n",
       "      <td>0.82</td>\n",
       "      <td>0.100939</td>\n",
       "      <td>0.1</td>\n",
       "      <td>30</td>\n",
       "      <td>5</td>\n",
       "      <td>1.0</td>\n",
       "    </tr>\n",
       "    <tr>\n",
       "      <th>16</th>\n",
       "      <td>0.39</td>\n",
       "      <td>0.172480</td>\n",
       "      <td>9.23</td>\n",
       "      <td>0.083303</td>\n",
       "      <td>1.0</td>\n",
       "      <td>30</td>\n",
       "      <td>100</td>\n",
       "      <td>4.0</td>\n",
       "    </tr>\n",
       "    <tr>\n",
       "      <th>17</th>\n",
       "      <td>0.17</td>\n",
       "      <td>0.081404</td>\n",
       "      <td>3.85</td>\n",
       "      <td>0.114473</td>\n",
       "      <td>0.1</td>\n",
       "      <td>30</td>\n",
       "      <td>100</td>\n",
       "      <td>2.0</td>\n",
       "    </tr>\n",
       "    <tr>\n",
       "      <th>19</th>\n",
       "      <td>0.38</td>\n",
       "      <td>0.155599</td>\n",
       "      <td>10.60</td>\n",
       "      <td>0.067308</td>\n",
       "      <td>10.0</td>\n",
       "      <td>30</td>\n",
       "      <td>5</td>\n",
       "      <td>4.0</td>\n",
       "    </tr>\n",
       "    <tr>\n",
       "      <th>22</th>\n",
       "      <td>0.33</td>\n",
       "      <td>0.144962</td>\n",
       "      <td>10.05</td>\n",
       "      <td>0.064998</td>\n",
       "      <td>10.0</td>\n",
       "      <td>30</td>\n",
       "      <td>30</td>\n",
       "      <td>4.0</td>\n",
       "    </tr>\n",
       "    <tr>\n",
       "      <th>24</th>\n",
       "      <td>0.05</td>\n",
       "      <td>0.018509</td>\n",
       "      <td>0.66</td>\n",
       "      <td>0.082160</td>\n",
       "      <td>1.0</td>\n",
       "      <td>30</td>\n",
       "      <td>30</td>\n",
       "      <td>1.0</td>\n",
       "    </tr>\n",
       "    <tr>\n",
       "      <th>26</th>\n",
       "      <td>0.06</td>\n",
       "      <td>0.018633</td>\n",
       "      <td>0.74</td>\n",
       "      <td>0.079812</td>\n",
       "      <td>0.1</td>\n",
       "      <td>30</td>\n",
       "      <td>30</td>\n",
       "      <td>1.0</td>\n",
       "    </tr>\n",
       "    <tr>\n",
       "      <th>28</th>\n",
       "      <td>0.05</td>\n",
       "      <td>0.017609</td>\n",
       "      <td>0.87</td>\n",
       "      <td>0.093897</td>\n",
       "      <td>10.0</td>\n",
       "      <td>30</td>\n",
       "      <td>30</td>\n",
       "      <td>1.0</td>\n",
       "    </tr>\n",
       "    <tr>\n",
       "      <th>31</th>\n",
       "      <td>0.05</td>\n",
       "      <td>0.017609</td>\n",
       "      <td>0.87</td>\n",
       "      <td>0.093897</td>\n",
       "      <td>10.0</td>\n",
       "      <td>30</td>\n",
       "      <td>100</td>\n",
       "      <td>1.0</td>\n",
       "    </tr>\n",
       "    <tr>\n",
       "      <th>32</th>\n",
       "      <td>0.19</td>\n",
       "      <td>0.078019</td>\n",
       "      <td>3.51</td>\n",
       "      <td>0.116746</td>\n",
       "      <td>1.0</td>\n",
       "      <td>30</td>\n",
       "      <td>100</td>\n",
       "      <td>2.0</td>\n",
       "    </tr>\n",
       "    <tr>\n",
       "      <th>35</th>\n",
       "      <td>0.43</td>\n",
       "      <td>0.204707</td>\n",
       "      <td>12.13</td>\n",
       "      <td>0.066742</td>\n",
       "      <td>0.1</td>\n",
       "      <td>30</td>\n",
       "      <td>5</td>\n",
       "      <td>4.0</td>\n",
       "    </tr>\n",
       "    <tr>\n",
       "      <th>45</th>\n",
       "      <td>0.19</td>\n",
       "      <td>0.088574</td>\n",
       "      <td>4.04</td>\n",
       "      <td>0.120426</td>\n",
       "      <td>0.1</td>\n",
       "      <td>30</td>\n",
       "      <td>30</td>\n",
       "      <td>2.0</td>\n",
       "    </tr>\n",
       "    <tr>\n",
       "      <th>52</th>\n",
       "      <td>0.07</td>\n",
       "      <td>0.019950</td>\n",
       "      <td>0.71</td>\n",
       "      <td>0.100939</td>\n",
       "      <td>1.0</td>\n",
       "      <td>30</td>\n",
       "      <td>5</td>\n",
       "      <td>1.0</td>\n",
       "    </tr>\n",
       "    <tr>\n",
       "      <th>56</th>\n",
       "      <td>0.43</td>\n",
       "      <td>0.193071</td>\n",
       "      <td>11.18</td>\n",
       "      <td>0.077031</td>\n",
       "      <td>1.0</td>\n",
       "      <td>30</td>\n",
       "      <td>5</td>\n",
       "      <td>4.0</td>\n",
       "    </tr>\n",
       "    <tr>\n",
       "      <th>58</th>\n",
       "      <td>0.21</td>\n",
       "      <td>0.087077</td>\n",
       "      <td>3.68</td>\n",
       "      <td>0.123537</td>\n",
       "      <td>1.0</td>\n",
       "      <td>30</td>\n",
       "      <td>30</td>\n",
       "      <td>2.0</td>\n",
       "    </tr>\n",
       "    <tr>\n",
       "      <th>62</th>\n",
       "      <td>0.05</td>\n",
       "      <td>0.017573</td>\n",
       "      <td>0.66</td>\n",
       "      <td>0.065728</td>\n",
       "      <td>0.1</td>\n",
       "      <td>30</td>\n",
       "      <td>100</td>\n",
       "      <td>1.0</td>\n",
       "    </tr>\n",
       "    <tr>\n",
       "      <th>65</th>\n",
       "      <td>0.05</td>\n",
       "      <td>0.018166</td>\n",
       "      <td>0.64</td>\n",
       "      <td>0.082160</td>\n",
       "      <td>1.0</td>\n",
       "      <td>30</td>\n",
       "      <td>100</td>\n",
       "      <td>1.0</td>\n",
       "    </tr>\n",
       "    <tr>\n",
       "      <th>69</th>\n",
       "      <td>0.17</td>\n",
       "      <td>0.083568</td>\n",
       "      <td>4.31</td>\n",
       "      <td>0.111150</td>\n",
       "      <td>10.0</td>\n",
       "      <td>30</td>\n",
       "      <td>30</td>\n",
       "      <td>2.0</td>\n",
       "    </tr>\n",
       "    <tr>\n",
       "      <th>70</th>\n",
       "      <td>0.19</td>\n",
       "      <td>0.085511</td>\n",
       "      <td>4.05</td>\n",
       "      <td>0.110327</td>\n",
       "      <td>1.0</td>\n",
       "      <td>30</td>\n",
       "      <td>5</td>\n",
       "      <td>2.0</td>\n",
       "    </tr>\n",
       "    <tr>\n",
       "      <th>75</th>\n",
       "      <td>0.18</td>\n",
       "      <td>0.087960</td>\n",
       "      <td>4.26</td>\n",
       "      <td>0.111150</td>\n",
       "      <td>10.0</td>\n",
       "      <td>30</td>\n",
       "      <td>5</td>\n",
       "      <td>2.0</td>\n",
       "    </tr>\n",
       "    <tr>\n",
       "      <th>77</th>\n",
       "      <td>0.43</td>\n",
       "      <td>0.189822</td>\n",
       "      <td>10.16</td>\n",
       "      <td>0.080600</td>\n",
       "      <td>0.1</td>\n",
       "      <td>30</td>\n",
       "      <td>100</td>\n",
       "      <td>4.0</td>\n",
       "    </tr>\n",
       "    <tr>\n",
       "      <th>80</th>\n",
       "      <td>0.42</td>\n",
       "      <td>0.187886</td>\n",
       "      <td>9.79</td>\n",
       "      <td>0.082804</td>\n",
       "      <td>1.0</td>\n",
       "      <td>30</td>\n",
       "      <td>30</td>\n",
       "      <td>4.0</td>\n",
       "    </tr>\n",
       "  </tbody>\n",
       "</table>\n",
       "</div>"
      ],
      "text/plain": [
       "    accuracy_drop  probability_drop    WER       NAD  levenshtein_weight  \\\n",
       "1            0.33          0.141751   9.95  0.065924                10.0   \n",
       "4            0.05          0.017609   0.87  0.093897                10.0   \n",
       "6            0.17          0.083164   4.33  0.112446                 0.1   \n",
       "7            0.46          0.204365  11.17  0.073969                 0.1   \n",
       "10           0.17          0.082543   4.28  0.111150                10.0   \n",
       "13           0.07          0.022046   0.82  0.100939                 0.1   \n",
       "16           0.39          0.172480   9.23  0.083303                 1.0   \n",
       "17           0.17          0.081404   3.85  0.114473                 0.1   \n",
       "19           0.38          0.155599  10.60  0.067308                10.0   \n",
       "22           0.33          0.144962  10.05  0.064998                10.0   \n",
       "24           0.05          0.018509   0.66  0.082160                 1.0   \n",
       "26           0.06          0.018633   0.74  0.079812                 0.1   \n",
       "28           0.05          0.017609   0.87  0.093897                10.0   \n",
       "31           0.05          0.017609   0.87  0.093897                10.0   \n",
       "32           0.19          0.078019   3.51  0.116746                 1.0   \n",
       "35           0.43          0.204707  12.13  0.066742                 0.1   \n",
       "45           0.19          0.088574   4.04  0.120426                 0.1   \n",
       "52           0.07          0.019950   0.71  0.100939                 1.0   \n",
       "56           0.43          0.193071  11.18  0.077031                 1.0   \n",
       "58           0.21          0.087077   3.68  0.123537                 1.0   \n",
       "62           0.05          0.017573   0.66  0.065728                 0.1   \n",
       "65           0.05          0.018166   0.64  0.082160                 1.0   \n",
       "69           0.17          0.083568   4.31  0.111150                10.0   \n",
       "70           0.19          0.085511   4.05  0.110327                 1.0   \n",
       "75           0.18          0.087960   4.26  0.111150                10.0   \n",
       "77           0.43          0.189822  10.16  0.080600                 0.1   \n",
       "80           0.42          0.187886   9.79  0.082804                 1.0   \n",
       "\n",
       "    beam_size  max_steps  learning_rate  \n",
       "1          30        100            4.0  \n",
       "4          30          5            1.0  \n",
       "6          30          5            2.0  \n",
       "7          30         30            4.0  \n",
       "10         30        100            2.0  \n",
       "13         30          5            1.0  \n",
       "16         30        100            4.0  \n",
       "17         30        100            2.0  \n",
       "19         30          5            4.0  \n",
       "22         30         30            4.0  \n",
       "24         30         30            1.0  \n",
       "26         30         30            1.0  \n",
       "28         30         30            1.0  \n",
       "31         30        100            1.0  \n",
       "32         30        100            2.0  \n",
       "35         30          5            4.0  \n",
       "45         30         30            2.0  \n",
       "52         30          5            1.0  \n",
       "56         30          5            4.0  \n",
       "58         30         30            2.0  \n",
       "62         30        100            1.0  \n",
       "65         30        100            1.0  \n",
       "69         30         30            2.0  \n",
       "70         30          5            2.0  \n",
       "75         30          5            2.0  \n",
       "77         30        100            4.0  \n",
       "80         30         30            4.0  "
      ]
     },
     "execution_count": 63,
     "metadata": {},
     "output_type": "execute_result"
    }
   ],
   "source": [
    "result[result['beam_size'] == 30]"
   ]
  },
  {
   "cell_type": "code",
   "execution_count": null,
   "metadata": {},
   "outputs": [],
   "source": []
  },
  {
   "cell_type": "code",
   "execution_count": null,
   "metadata": {},
   "outputs": [],
   "source": []
  },
  {
   "cell_type": "code",
   "execution_count": null,
   "metadata": {},
   "outputs": [],
   "source": []
  },
  {
   "cell_type": "code",
   "execution_count": null,
   "metadata": {},
   "outputs": [],
   "source": []
  },
  {
   "cell_type": "code",
   "execution_count": null,
   "metadata": {},
   "outputs": [],
   "source": []
  }
 ],
 "metadata": {
  "kernelspec": {
   "display_name": "Python [conda env:adat] *",
   "language": "python",
   "name": "conda-env-adat-py"
  },
  "language_info": {
   "codemirror_mode": {
    "name": "ipython",
    "version": 3
   },
   "file_extension": ".py",
   "mimetype": "text/x-python",
   "name": "python",
   "nbconvert_exporter": "python",
   "pygments_lexer": "ipython3",
   "version": "3.6.1"
  }
 },
 "nbformat": 4,
 "nbformat_minor": 4
}
