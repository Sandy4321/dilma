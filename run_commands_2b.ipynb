{
 "cells": [
  {
   "cell_type": "code",
   "execution_count": 1,
   "metadata": {},
   "outputs": [],
   "source": [
    "import subprocess\n",
    "import pandas as pd\n",
    "import os"
   ]
  },
  {
   "cell_type": "code",
   "execution_count": 2,
   "metadata": {},
   "outputs": [],
   "source": [
    "from sklearn.model_selection import ParameterSampler\n",
    "import seaborn as sns\n",
    "import matplotlib.pyplot as plt\n",
    "%matplotlib inline\n",
    "from tqdm import tqdm\n",
    "import numpy as np\n",
    "import itertools\n",
    "import time"
   ]
  },
  {
   "cell_type": "markdown",
   "metadata": {},
   "source": [
    "## make mcmc grisearch"
   ]
  },
  {
   "cell_type": "code",
   "execution_count": 3,
   "metadata": {},
   "outputs": [],
   "source": [
    "stds = [0.01, 0.05, 0.1, 0.2, 0.5, 1.0]\n",
    "sigma_classs = [0.2, 0.5, 0.75, 1.0, 1.25, 1.5]\n",
    "#beam_sizes = [1, 30, 100]\n",
    "#num_stepss = [5, 30, 100]\n",
    "sigma_wers = [0.2, 0.5, 0.75, 1.0, 1.25, 1.5]"
   ]
  },
  {
   "cell_type": "code",
   "execution_count": 4,
   "metadata": {},
   "outputs": [],
   "source": [
    "sampler = ParameterSampler(\n",
    "{'std':stds, 'sigma_class':sigma_classs, 'sigma_wer':sigma_wers}, 30)"
   ]
  },
  {
   "cell_type": "code",
   "execution_count": 5,
   "metadata": {},
   "outputs": [],
   "source": [
    "#params = list(itertools.product(beam_sizes, num_stepss))"
   ]
  },
  {
   "cell_type": "code",
   "execution_count": 6,
   "metadata": {},
   "outputs": [],
   "source": [
    "#dataset = 'ai_academy_data'\n",
    "#dataset = 'insurance'\n",
    "dataset = 'kaggle_transactions'\n",
    "#dataset = 'ag_news'"
   ]
  },
  {
   "cell_type": "code",
   "execution_count": 7,
   "metadata": {},
   "outputs": [],
   "source": [
    "beam_size, num_steps = 30, 30"
   ]
  },
  {
   "cell_type": "code",
   "execution_count": 8,
   "metadata": {},
   "outputs": [
    {
     "name": "stderr",
     "output_type": "stream",
     "text": [
      "\r",
      "  0%|          | 0/30 [00:00<?, ?it/s]"
     ]
    },
    {
     "name": "stdout",
     "output_type": "stream",
     "text": [
      "30 30 0.5 1.0 1.5\n",
      "    python run_mcmc.py     --csv_path data/kaggle_transactions/test.csv     --results_path results/kaggle_transactions/mcmc     --classifier_path experiments/kaggle_transactions/classifier_basic     --copynet_path experiments/kaggle_transactions/nonmasked_copynet     --beam_size 30      --cuda 0     --sample 100     --std 0.5    --sigma_class 1.5    --sigma_wer 1.0    --num_steps 30    \n"
     ]
    },
    {
     "name": "stderr",
     "output_type": "stream",
     "text": [
      "\r",
      "  3%|▎         | 1/30 [00:30<14:49, 30.69s/it]"
     ]
    },
    {
     "name": "stdout",
     "output_type": "stream",
     "text": [
      "30 30 0.05 1.5 1.5\n",
      "    python run_mcmc.py     --csv_path data/kaggle_transactions/test.csv     --results_path results/kaggle_transactions/mcmc     --classifier_path experiments/kaggle_transactions/classifier_basic     --copynet_path experiments/kaggle_transactions/nonmasked_copynet     --beam_size 30      --cuda 0     --sample 100     --std 0.05    --sigma_class 1.5    --sigma_wer 1.5    --num_steps 30    \n"
     ]
    },
    {
     "name": "stderr",
     "output_type": "stream",
     "text": [
      "\r",
      "  7%|▋         | 2/30 [01:01<14:17, 30.63s/it]"
     ]
    },
    {
     "name": "stdout",
     "output_type": "stream",
     "text": [
      "30 30 0.1 0.75 1.5\n",
      "    python run_mcmc.py     --csv_path data/kaggle_transactions/test.csv     --results_path results/kaggle_transactions/mcmc     --classifier_path experiments/kaggle_transactions/classifier_basic     --copynet_path experiments/kaggle_transactions/nonmasked_copynet     --beam_size 30      --cuda 0     --sample 100     --std 0.1    --sigma_class 1.5    --sigma_wer 0.75    --num_steps 30    \n"
     ]
    },
    {
     "name": "stderr",
     "output_type": "stream",
     "text": [
      "\r",
      " 10%|█         | 3/30 [01:31<13:47, 30.64s/it]"
     ]
    },
    {
     "name": "stdout",
     "output_type": "stream",
     "text": [
      "30 30 0.2 1.0 1.0\n",
      "    python run_mcmc.py     --csv_path data/kaggle_transactions/test.csv     --results_path results/kaggle_transactions/mcmc     --classifier_path experiments/kaggle_transactions/classifier_basic     --copynet_path experiments/kaggle_transactions/nonmasked_copynet     --beam_size 30      --cuda 0     --sample 100     --std 0.2    --sigma_class 1.0    --sigma_wer 1.0    --num_steps 30    \n"
     ]
    },
    {
     "name": "stderr",
     "output_type": "stream",
     "text": [
      "\r",
      " 13%|█▎        | 4/30 [02:02<13:17, 30.67s/it]"
     ]
    },
    {
     "name": "stdout",
     "output_type": "stream",
     "text": [
      "30 30 0.5 0.2 0.75\n",
      "    python run_mcmc.py     --csv_path data/kaggle_transactions/test.csv     --results_path results/kaggle_transactions/mcmc     --classifier_path experiments/kaggle_transactions/classifier_basic     --copynet_path experiments/kaggle_transactions/nonmasked_copynet     --beam_size 30      --cuda 0     --sample 100     --std 0.5    --sigma_class 0.75    --sigma_wer 0.2    --num_steps 30    \n"
     ]
    },
    {
     "name": "stderr",
     "output_type": "stream",
     "text": [
      "\r",
      " 17%|█▋        | 5/30 [02:33<12:47, 30.69s/it]"
     ]
    },
    {
     "name": "stdout",
     "output_type": "stream",
     "text": [
      "30 30 0.01 1.25 0.75\n",
      "    python run_mcmc.py     --csv_path data/kaggle_transactions/test.csv     --results_path results/kaggle_transactions/mcmc     --classifier_path experiments/kaggle_transactions/classifier_basic     --copynet_path experiments/kaggle_transactions/nonmasked_copynet     --beam_size 30      --cuda 0     --sample 100     --std 0.01    --sigma_class 0.75    --sigma_wer 1.25    --num_steps 30    \n"
     ]
    },
    {
     "name": "stderr",
     "output_type": "stream",
     "text": [
      "\r",
      " 20%|██        | 6/30 [03:04<12:17, 30.74s/it]"
     ]
    },
    {
     "name": "stdout",
     "output_type": "stream",
     "text": [
      "30 30 0.5 0.5 1.25\n",
      "    python run_mcmc.py     --csv_path data/kaggle_transactions/test.csv     --results_path results/kaggle_transactions/mcmc     --classifier_path experiments/kaggle_transactions/classifier_basic     --copynet_path experiments/kaggle_transactions/nonmasked_copynet     --beam_size 30      --cuda 0     --sample 100     --std 0.5    --sigma_class 1.25    --sigma_wer 0.5    --num_steps 30    \n"
     ]
    },
    {
     "name": "stderr",
     "output_type": "stream",
     "text": [
      "\r",
      " 23%|██▎       | 7/30 [03:34<11:47, 30.75s/it]"
     ]
    },
    {
     "name": "stdout",
     "output_type": "stream",
     "text": [
      "30 30 0.1 1.5 1.0\n",
      "    python run_mcmc.py     --csv_path data/kaggle_transactions/test.csv     --results_path results/kaggle_transactions/mcmc     --classifier_path experiments/kaggle_transactions/classifier_basic     --copynet_path experiments/kaggle_transactions/nonmasked_copynet     --beam_size 30      --cuda 0     --sample 100     --std 0.1    --sigma_class 1.0    --sigma_wer 1.5    --num_steps 30    \n"
     ]
    },
    {
     "name": "stderr",
     "output_type": "stream",
     "text": [
      "\r",
      " 27%|██▋       | 8/30 [04:06<11:20, 30.93s/it]"
     ]
    },
    {
     "name": "stdout",
     "output_type": "stream",
     "text": [
      "30 30 0.01 0.75 1.5\n",
      "    python run_mcmc.py     --csv_path data/kaggle_transactions/test.csv     --results_path results/kaggle_transactions/mcmc     --classifier_path experiments/kaggle_transactions/classifier_basic     --copynet_path experiments/kaggle_transactions/nonmasked_copynet     --beam_size 30      --cuda 0     --sample 100     --std 0.01    --sigma_class 1.5    --sigma_wer 0.75    --num_steps 30    \n"
     ]
    },
    {
     "name": "stderr",
     "output_type": "stream",
     "text": [
      "\r",
      " 30%|███       | 9/30 [04:37<10:49, 30.92s/it]"
     ]
    },
    {
     "name": "stdout",
     "output_type": "stream",
     "text": [
      "30 30 0.5 1.0 0.2\n",
      "    python run_mcmc.py     --csv_path data/kaggle_transactions/test.csv     --results_path results/kaggle_transactions/mcmc     --classifier_path experiments/kaggle_transactions/classifier_basic     --copynet_path experiments/kaggle_transactions/nonmasked_copynet     --beam_size 30      --cuda 0     --sample 100     --std 0.5    --sigma_class 0.2    --sigma_wer 1.0    --num_steps 30    \n"
     ]
    },
    {
     "name": "stderr",
     "output_type": "stream",
     "text": [
      "\r",
      " 33%|███▎      | 10/30 [05:06<10:10, 30.53s/it]"
     ]
    },
    {
     "name": "stdout",
     "output_type": "stream",
     "text": [
      "30 30 0.5 0.2 1.5\n",
      "    python run_mcmc.py     --csv_path data/kaggle_transactions/test.csv     --results_path results/kaggle_transactions/mcmc     --classifier_path experiments/kaggle_transactions/classifier_basic     --copynet_path experiments/kaggle_transactions/nonmasked_copynet     --beam_size 30      --cuda 0     --sample 100     --std 0.5    --sigma_class 1.5    --sigma_wer 0.2    --num_steps 30    \n"
     ]
    },
    {
     "name": "stderr",
     "output_type": "stream",
     "text": [
      "\r",
      " 37%|███▋      | 11/30 [05:37<09:41, 30.62s/it]"
     ]
    },
    {
     "name": "stdout",
     "output_type": "stream",
     "text": [
      "30 30 0.1 0.5 0.5\n",
      "    python run_mcmc.py     --csv_path data/kaggle_transactions/test.csv     --results_path results/kaggle_transactions/mcmc     --classifier_path experiments/kaggle_transactions/classifier_basic     --copynet_path experiments/kaggle_transactions/nonmasked_copynet     --beam_size 30      --cuda 0     --sample 100     --std 0.1    --sigma_class 0.5    --sigma_wer 0.5    --num_steps 30    \n"
     ]
    },
    {
     "name": "stderr",
     "output_type": "stream",
     "text": [
      "\r",
      " 40%|████      | 12/30 [06:08<09:12, 30.68s/it]"
     ]
    },
    {
     "name": "stdout",
     "output_type": "stream",
     "text": [
      "30 30 0.05 1.0 1.25\n",
      "    python run_mcmc.py     --csv_path data/kaggle_transactions/test.csv     --results_path results/kaggle_transactions/mcmc     --classifier_path experiments/kaggle_transactions/classifier_basic     --copynet_path experiments/kaggle_transactions/nonmasked_copynet     --beam_size 30      --cuda 0     --sample 100     --std 0.05    --sigma_class 1.25    --sigma_wer 1.0    --num_steps 30    \n"
     ]
    },
    {
     "name": "stderr",
     "output_type": "stream",
     "text": [
      "\r",
      " 43%|████▎     | 13/30 [06:39<08:41, 30.70s/it]"
     ]
    },
    {
     "name": "stdout",
     "output_type": "stream",
     "text": [
      "30 30 0.05 1.5 0.5\n",
      "    python run_mcmc.py     --csv_path data/kaggle_transactions/test.csv     --results_path results/kaggle_transactions/mcmc     --classifier_path experiments/kaggle_transactions/classifier_basic     --copynet_path experiments/kaggle_transactions/nonmasked_copynet     --beam_size 30      --cuda 0     --sample 100     --std 0.05    --sigma_class 0.5    --sigma_wer 1.5    --num_steps 30    \n"
     ]
    },
    {
     "name": "stderr",
     "output_type": "stream",
     "text": [
      "\r",
      " 47%|████▋     | 14/30 [07:10<08:11, 30.74s/it]"
     ]
    },
    {
     "name": "stdout",
     "output_type": "stream",
     "text": [
      "30 30 1.0 1.25 0.75\n",
      "    python run_mcmc.py     --csv_path data/kaggle_transactions/test.csv     --results_path results/kaggle_transactions/mcmc     --classifier_path experiments/kaggle_transactions/classifier_basic     --copynet_path experiments/kaggle_transactions/nonmasked_copynet     --beam_size 30      --cuda 0     --sample 100     --std 1.0    --sigma_class 0.75    --sigma_wer 1.25    --num_steps 30    \n"
     ]
    },
    {
     "name": "stderr",
     "output_type": "stream",
     "text": [
      "\r",
      " 50%|█████     | 15/30 [07:40<07:41, 30.74s/it]"
     ]
    },
    {
     "name": "stdout",
     "output_type": "stream",
     "text": [
      "30 30 0.05 1.0 0.75\n",
      "    python run_mcmc.py     --csv_path data/kaggle_transactions/test.csv     --results_path results/kaggle_transactions/mcmc     --classifier_path experiments/kaggle_transactions/classifier_basic     --copynet_path experiments/kaggle_transactions/nonmasked_copynet     --beam_size 30      --cuda 0     --sample 100     --std 0.05    --sigma_class 0.75    --sigma_wer 1.0    --num_steps 30    \n"
     ]
    },
    {
     "name": "stderr",
     "output_type": "stream",
     "text": [
      "\r",
      " 53%|█████▎    | 16/30 [08:10<07:04, 30.33s/it]"
     ]
    },
    {
     "name": "stdout",
     "output_type": "stream",
     "text": [
      "30 30 0.1 1.5 0.2\n",
      "    python run_mcmc.py     --csv_path data/kaggle_transactions/test.csv     --results_path results/kaggle_transactions/mcmc     --classifier_path experiments/kaggle_transactions/classifier_basic     --copynet_path experiments/kaggle_transactions/nonmasked_copynet     --beam_size 30      --cuda 0     --sample 100     --std 0.1    --sigma_class 0.2    --sigma_wer 1.5    --num_steps 30    \n"
     ]
    },
    {
     "name": "stderr",
     "output_type": "stream",
     "text": [
      "\r",
      " 57%|█████▋    | 17/30 [08:42<06:41, 30.87s/it]"
     ]
    },
    {
     "name": "stdout",
     "output_type": "stream",
     "text": [
      "30 30 1.0 1.25 1.25\n",
      "    python run_mcmc.py     --csv_path data/kaggle_transactions/test.csv     --results_path results/kaggle_transactions/mcmc     --classifier_path experiments/kaggle_transactions/classifier_basic     --copynet_path experiments/kaggle_transactions/nonmasked_copynet     --beam_size 30      --cuda 0     --sample 100     --std 1.0    --sigma_class 1.25    --sigma_wer 1.25    --num_steps 30    \n"
     ]
    },
    {
     "name": "stderr",
     "output_type": "stream",
     "text": [
      "\r",
      " 60%|██████    | 18/30 [09:13<06:10, 30.84s/it]"
     ]
    },
    {
     "name": "stdout",
     "output_type": "stream",
     "text": [
      "30 30 0.2 0.75 1.5\n",
      "    python run_mcmc.py     --csv_path data/kaggle_transactions/test.csv     --results_path results/kaggle_transactions/mcmc     --classifier_path experiments/kaggle_transactions/classifier_basic     --copynet_path experiments/kaggle_transactions/nonmasked_copynet     --beam_size 30      --cuda 0     --sample 100     --std 0.2    --sigma_class 1.5    --sigma_wer 0.75    --num_steps 30    \n"
     ]
    },
    {
     "name": "stderr",
     "output_type": "stream",
     "text": [
      "\r",
      " 63%|██████▎   | 19/30 [09:44<05:39, 30.90s/it]"
     ]
    },
    {
     "name": "stdout",
     "output_type": "stream",
     "text": [
      "30 30 1.0 0.5 1.0\n",
      "    python run_mcmc.py     --csv_path data/kaggle_transactions/test.csv     --results_path results/kaggle_transactions/mcmc     --classifier_path experiments/kaggle_transactions/classifier_basic     --copynet_path experiments/kaggle_transactions/nonmasked_copynet     --beam_size 30      --cuda 0     --sample 100     --std 1.0    --sigma_class 1.0    --sigma_wer 0.5    --num_steps 30    \n"
     ]
    },
    {
     "name": "stderr",
     "output_type": "stream",
     "text": [
      "\r",
      " 67%|██████▋   | 20/30 [10:15<05:09, 30.91s/it]"
     ]
    },
    {
     "name": "stdout",
     "output_type": "stream",
     "text": [
      "30 30 0.5 1.5 1.25\n",
      "    python run_mcmc.py     --csv_path data/kaggle_transactions/test.csv     --results_path results/kaggle_transactions/mcmc     --classifier_path experiments/kaggle_transactions/classifier_basic     --copynet_path experiments/kaggle_transactions/nonmasked_copynet     --beam_size 30      --cuda 0     --sample 100     --std 0.5    --sigma_class 1.25    --sigma_wer 1.5    --num_steps 30    \n"
     ]
    },
    {
     "name": "stderr",
     "output_type": "stream",
     "text": [
      "\r",
      " 70%|███████   | 21/30 [10:44<04:34, 30.48s/it]"
     ]
    },
    {
     "name": "stdout",
     "output_type": "stream",
     "text": [
      "30 30 0.2 0.5 0.75\n",
      "    python run_mcmc.py     --csv_path data/kaggle_transactions/test.csv     --results_path results/kaggle_transactions/mcmc     --classifier_path experiments/kaggle_transactions/classifier_basic     --copynet_path experiments/kaggle_transactions/nonmasked_copynet     --beam_size 30      --cuda 0     --sample 100     --std 0.2    --sigma_class 0.75    --sigma_wer 0.5    --num_steps 30    \n"
     ]
    },
    {
     "name": "stderr",
     "output_type": "stream",
     "text": [
      "\r",
      " 73%|███████▎  | 22/30 [11:12<03:58, 29.79s/it]"
     ]
    },
    {
     "name": "stdout",
     "output_type": "stream",
     "text": [
      "30 30 0.2 1.5 1.25\n",
      "    python run_mcmc.py     --csv_path data/kaggle_transactions/test.csv     --results_path results/kaggle_transactions/mcmc     --classifier_path experiments/kaggle_transactions/classifier_basic     --copynet_path experiments/kaggle_transactions/nonmasked_copynet     --beam_size 30      --cuda 0     --sample 100     --std 0.2    --sigma_class 1.25    --sigma_wer 1.5    --num_steps 30    \n"
     ]
    },
    {
     "name": "stderr",
     "output_type": "stream",
     "text": [
      "\r",
      " 77%|███████▋  | 23/30 [11:41<03:27, 29.63s/it]"
     ]
    },
    {
     "name": "stdout",
     "output_type": "stream",
     "text": [
      "30 30 0.1 1.0 1.0\n",
      "    python run_mcmc.py     --csv_path data/kaggle_transactions/test.csv     --results_path results/kaggle_transactions/mcmc     --classifier_path experiments/kaggle_transactions/classifier_basic     --copynet_path experiments/kaggle_transactions/nonmasked_copynet     --beam_size 30      --cuda 0     --sample 100     --std 0.1    --sigma_class 1.0    --sigma_wer 1.0    --num_steps 30    \n"
     ]
    },
    {
     "name": "stderr",
     "output_type": "stream",
     "text": [
      "\r",
      " 80%|████████  | 24/30 [12:12<02:59, 29.96s/it]"
     ]
    },
    {
     "name": "stdout",
     "output_type": "stream",
     "text": [
      "30 30 0.01 0.2 0.75\n",
      "    python run_mcmc.py     --csv_path data/kaggle_transactions/test.csv     --results_path results/kaggle_transactions/mcmc     --classifier_path experiments/kaggle_transactions/classifier_basic     --copynet_path experiments/kaggle_transactions/nonmasked_copynet     --beam_size 30      --cuda 0     --sample 100     --std 0.01    --sigma_class 0.75    --sigma_wer 0.2    --num_steps 30    \n"
     ]
    },
    {
     "name": "stderr",
     "output_type": "stream",
     "text": [
      "\r",
      " 83%|████████▎ | 25/30 [12:43<02:31, 30.36s/it]"
     ]
    },
    {
     "name": "stdout",
     "output_type": "stream",
     "text": [
      "30 30 0.1 0.2 1.5\n",
      "    python run_mcmc.py     --csv_path data/kaggle_transactions/test.csv     --results_path results/kaggle_transactions/mcmc     --classifier_path experiments/kaggle_transactions/classifier_basic     --copynet_path experiments/kaggle_transactions/nonmasked_copynet     --beam_size 30      --cuda 0     --sample 100     --std 0.1    --sigma_class 1.5    --sigma_wer 0.2    --num_steps 30    \n"
     ]
    },
    {
     "name": "stderr",
     "output_type": "stream",
     "text": [
      "\r",
      " 87%|████████▋ | 26/30 [13:15<02:02, 30.70s/it]"
     ]
    },
    {
     "name": "stdout",
     "output_type": "stream",
     "text": [
      "30 30 1.0 0.75 1.0\n",
      "    python run_mcmc.py     --csv_path data/kaggle_transactions/test.csv     --results_path results/kaggle_transactions/mcmc     --classifier_path experiments/kaggle_transactions/classifier_basic     --copynet_path experiments/kaggle_transactions/nonmasked_copynet     --beam_size 30      --cuda 0     --sample 100     --std 1.0    --sigma_class 1.0    --sigma_wer 0.75    --num_steps 30    \n"
     ]
    },
    {
     "name": "stderr",
     "output_type": "stream",
     "text": [
      "\r",
      " 90%|█████████ | 27/30 [13:46<01:32, 30.89s/it]"
     ]
    },
    {
     "name": "stdout",
     "output_type": "stream",
     "text": [
      "30 30 0.5 1.0 1.0\n",
      "    python run_mcmc.py     --csv_path data/kaggle_transactions/test.csv     --results_path results/kaggle_transactions/mcmc     --classifier_path experiments/kaggle_transactions/classifier_basic     --copynet_path experiments/kaggle_transactions/nonmasked_copynet     --beam_size 30      --cuda 0     --sample 100     --std 0.5    --sigma_class 1.0    --sigma_wer 1.0    --num_steps 30    \n"
     ]
    },
    {
     "name": "stderr",
     "output_type": "stream",
     "text": [
      "\r",
      " 93%|█████████▎| 28/30 [14:15<01:00, 30.31s/it]"
     ]
    },
    {
     "name": "stdout",
     "output_type": "stream",
     "text": [
      "30 30 1.0 0.2 0.5\n",
      "    python run_mcmc.py     --csv_path data/kaggle_transactions/test.csv     --results_path results/kaggle_transactions/mcmc     --classifier_path experiments/kaggle_transactions/classifier_basic     --copynet_path experiments/kaggle_transactions/nonmasked_copynet     --beam_size 30      --cuda 0     --sample 100     --std 1.0    --sigma_class 0.5    --sigma_wer 0.2    --num_steps 30    \n"
     ]
    },
    {
     "name": "stderr",
     "output_type": "stream",
     "text": [
      "\r",
      " 97%|█████████▋| 29/30 [14:44<00:29, 29.73s/it]"
     ]
    },
    {
     "name": "stdout",
     "output_type": "stream",
     "text": [
      "30 30 0.05 0.5 0.5\n",
      "    python run_mcmc.py     --csv_path data/kaggle_transactions/test.csv     --results_path results/kaggle_transactions/mcmc     --classifier_path experiments/kaggle_transactions/classifier_basic     --copynet_path experiments/kaggle_transactions/nonmasked_copynet     --beam_size 30      --cuda 0     --sample 100     --std 0.05    --sigma_class 0.5    --sigma_wer 0.5    --num_steps 30    \n"
     ]
    },
    {
     "name": "stderr",
     "output_type": "stream",
     "text": [
      "100%|██████████| 30/30 [15:11<00:00, 30.37s/it]\n"
     ]
    }
   ],
   "source": [
    "pbar = tqdm(total=sampler.n_iter)\n",
    "#for beam_size, num_steps in params:\n",
    "for s in sampler:\n",
    "    std = s['std']\n",
    "    sigma_wer = s['sigma_wer']\n",
    "    sigma_class = s['sigma_class']\n",
    "    print(beam_size, num_steps, std, sigma_wer, sigma_class)\n",
    "    cmd = \\\n",
    "    f'''\n",
    "    python run_mcmc.py \n",
    "    --csv_path data/{dataset}/test.csv \n",
    "    --results_path results/{dataset}/mcmc \n",
    "    --classifier_path experiments/{dataset}/classifier_basic \n",
    "    --copynet_path experiments/{dataset}/nonmasked_copynet \n",
    "    --beam_size {beam_size}  \n",
    "    --cuda 0 \n",
    "    --sample 100 \n",
    "    --std {std}\n",
    "    --sigma_class {sigma_class}\n",
    "    --sigma_wer {sigma_wer}\n",
    "    --num_steps {num_steps}\n",
    "    '''.replace('\\n','')\n",
    "    print(cmd)\n",
    "    result = subprocess.run(cmd, stdout=subprocess.PIPE, shell=True)\n",
    "    pbar.update(1)\n",
    "pbar.close()"
   ]
  },
  {
   "cell_type": "code",
   "execution_count": null,
   "metadata": {},
   "outputs": [],
   "source": []
  },
  {
   "cell_type": "code",
   "execution_count": null,
   "metadata": {},
   "outputs": [],
   "source": []
  },
  {
   "cell_type": "markdown",
   "metadata": {},
   "source": [
    "## make random grisearch"
   ]
  },
  {
   "cell_type": "code",
   "execution_count": 11,
   "metadata": {},
   "outputs": [],
   "source": [
    "beam_size = 30"
   ]
  },
  {
   "cell_type": "code",
   "execution_count": 12,
   "metadata": {},
   "outputs": [
    {
     "data": {
      "text/plain": [
       "'kaggle_transactions'"
      ]
     },
     "execution_count": 12,
     "metadata": {},
     "output_type": "execute_result"
    }
   ],
   "source": [
    "dataset"
   ]
  },
  {
   "cell_type": "code",
   "execution_count": 19,
   "metadata": {},
   "outputs": [
    {
     "name": "stderr",
     "output_type": "stream",
     "text": [
      "\n",
      "  0%|          | 0/6 [00:00<?, ?it/s]\u001b[A"
     ]
    },
    {
     "name": "stdout",
     "output_type": "stream",
     "text": [
      "30 30 0.01\n",
      "    python run_mcmc.py     --csv_path data/kaggle_transactions/test.csv     --results_path results/kaggle_transactions/random     --classifier_path experiments/kaggle_transactions/classifier_basic     --copynet_path experiments/kaggle_transactions/nonmasked_copynet     --beam_size 30      --cuda 0     --sample 100     --std 0.01    --num_steps 30    --random    \n"
     ]
    },
    {
     "name": "stderr",
     "output_type": "stream",
     "text": [
      "\n",
      " 17%|█▋        | 1/6 [00:28<02:21, 28.26s/it]\u001b[A"
     ]
    },
    {
     "name": "stdout",
     "output_type": "stream",
     "text": [
      "30 30 0.05\n",
      "    python run_mcmc.py     --csv_path data/kaggle_transactions/test.csv     --results_path results/kaggle_transactions/random     --classifier_path experiments/kaggle_transactions/classifier_basic     --copynet_path experiments/kaggle_transactions/nonmasked_copynet     --beam_size 30      --cuda 0     --sample 100     --std 0.05    --num_steps 30    --random    \n"
     ]
    },
    {
     "name": "stderr",
     "output_type": "stream",
     "text": [
      "\n",
      " 33%|███▎      | 2/6 [00:55<01:51, 27.88s/it]\u001b[A"
     ]
    },
    {
     "name": "stdout",
     "output_type": "stream",
     "text": [
      "30 30 0.1\n",
      "    python run_mcmc.py     --csv_path data/kaggle_transactions/test.csv     --results_path results/kaggle_transactions/random     --classifier_path experiments/kaggle_transactions/classifier_basic     --copynet_path experiments/kaggle_transactions/nonmasked_copynet     --beam_size 30      --cuda 0     --sample 100     --std 0.1    --num_steps 30    --random    \n"
     ]
    },
    {
     "name": "stderr",
     "output_type": "stream",
     "text": [
      "\n",
      " 50%|█████     | 3/6 [01:23<01:23, 27.92s/it]\u001b[A"
     ]
    },
    {
     "name": "stdout",
     "output_type": "stream",
     "text": [
      "30 30 0.2\n",
      "    python run_mcmc.py     --csv_path data/kaggle_transactions/test.csv     --results_path results/kaggle_transactions/random     --classifier_path experiments/kaggle_transactions/classifier_basic     --copynet_path experiments/kaggle_transactions/nonmasked_copynet     --beam_size 30      --cuda 0     --sample 100     --std 0.2    --num_steps 30    --random    \n"
     ]
    },
    {
     "name": "stderr",
     "output_type": "stream",
     "text": [
      "\n",
      " 67%|██████▋   | 4/6 [01:52<00:56, 28.20s/it]\u001b[A"
     ]
    },
    {
     "name": "stdout",
     "output_type": "stream",
     "text": [
      "30 30 0.5\n",
      "    python run_mcmc.py     --csv_path data/kaggle_transactions/test.csv     --results_path results/kaggle_transactions/random     --classifier_path experiments/kaggle_transactions/classifier_basic     --copynet_path experiments/kaggle_transactions/nonmasked_copynet     --beam_size 30      --cuda 0     --sample 100     --std 0.5    --num_steps 30    --random    \n"
     ]
    },
    {
     "name": "stderr",
     "output_type": "stream",
     "text": [
      "\n",
      " 83%|████████▎ | 5/6 [02:20<00:28, 28.28s/it]\u001b[A"
     ]
    },
    {
     "name": "stdout",
     "output_type": "stream",
     "text": [
      "30 30 1.0\n",
      "    python run_mcmc.py     --csv_path data/kaggle_transactions/test.csv     --results_path results/kaggle_transactions/random     --classifier_path experiments/kaggle_transactions/classifier_basic     --copynet_path experiments/kaggle_transactions/nonmasked_copynet     --beam_size 30      --cuda 0     --sample 100     --std 1.0    --num_steps 30    --random    \n"
     ]
    },
    {
     "name": "stderr",
     "output_type": "stream",
     "text": [
      "\n",
      "100%|██████████| 6/6 [02:48<00:00, 28.16s/it]\u001b[A\n"
     ]
    }
   ],
   "source": [
    "#for beam_size, num_steps in params:\n",
    "for std in tqdm(stds):\n",
    "    print(beam_size, num_steps, std)\n",
    "    cmd = \\\n",
    "    f'''\n",
    "    python run_mcmc.py \n",
    "    --csv_path data/{dataset}/test.csv \n",
    "    --results_path results/{dataset}/random \n",
    "    --classifier_path experiments/{dataset}/classifier_basic \n",
    "    --copynet_path experiments/{dataset}/nonmasked_copynet \n",
    "    --beam_size {beam_size}  \n",
    "    --cuda 0 \n",
    "    --sample 100 \n",
    "    --std {std}\n",
    "    --num_steps {num_steps}\n",
    "    --random\n",
    "    '''.replace('\\n','')\n",
    "    print(cmd)\n",
    "    result = subprocess.run(cmd, stdout=subprocess.PIPE, shell=True)"
   ]
  },
  {
   "cell_type": "code",
   "execution_count": null,
   "metadata": {},
   "outputs": [],
   "source": []
  },
  {
   "cell_type": "code",
   "execution_count": null,
   "metadata": {},
   "outputs": [],
   "source": []
  },
  {
   "cell_type": "code",
   "execution_count": 20,
   "metadata": {},
   "outputs": [],
   "source": [
    "from eval import calculate_nad, calculate_metrics\n",
    "import joblib\n",
    "import json\n",
    "from adat.models.classification_model import LogisticRegressionOnTfIdf"
   ]
  },
  {
   "cell_type": "code",
   "execution_count": 79,
   "metadata": {},
   "outputs": [],
   "source": [
    "dataset = 'kaggle_transactions'"
   ]
  },
  {
   "cell_type": "code",
   "execution_count": 80,
   "metadata": {},
   "outputs": [],
   "source": [
    "base_dir = f'results/{dataset}'"
   ]
  },
  {
   "cell_type": "code",
   "execution_count": 81,
   "metadata": {},
   "outputs": [
    {
     "data": {
      "text/plain": [
       "'results/kaggle_transactions'"
      ]
     },
     "execution_count": 81,
     "metadata": {},
     "output_type": "execute_result"
    }
   ],
   "source": [
    "base_dir"
   ]
  },
  {
   "cell_type": "code",
   "execution_count": 82,
   "metadata": {},
   "outputs": [],
   "source": [
    "model_with_weights = joblib.load(f'results/{dataset}/logit_tfidf.model')\n",
    "model = model_with_weights['model']\n",
    "w = model_with_weights['weights']\n",
    "\n",
    "for method in ['mcmc', 'random']:\n",
    "    base = os.path.join(base_dir, method)\n",
    "    for folder in os.listdir(base):\n",
    "        if folder != 'backup':\n",
    "            attack_results_path = f'{base}/{folder}/results.csv'\n",
    "            eval_results_path = f'{base}/{folder}/eval_metric.json'\n",
    "            df = pd.read_csv(attack_results_path)\n",
    "            df.rename(columns={'generated_sequence':'adversarial_sequence'}, inplace=True)\n",
    "            metrics = calculate_metrics(model, w,\n",
    "                                    df['label'].values, \n",
    "                                    df['sequence'].values,\n",
    "                                    df['adversarial_sequence'].values)\n",
    "            json.dump(metrics, open(eval_results_path, 'w'))"
   ]
  },
  {
   "cell_type": "code",
   "execution_count": 83,
   "metadata": {},
   "outputs": [
    {
     "data": {
      "text/plain": [
       "'results/kaggle_transactions/random/20200218_211126/eval_metric.json'"
      ]
     },
     "execution_count": 83,
     "metadata": {},
     "output_type": "execute_result"
    }
   ],
   "source": [
    "eval_results_path"
   ]
  },
  {
   "cell_type": "code",
   "execution_count": null,
   "metadata": {},
   "outputs": [],
   "source": []
  },
  {
   "cell_type": "code",
   "execution_count": 24,
   "metadata": {},
   "outputs": [],
   "source": [
    "result = []\n",
    "for method in ['mcmc']:\n",
    "    base = os.path.join(base_dir, method)\n",
    "    for folder in os.listdir(base):\n",
    "        if folder != 'backup':\n",
    "            args = json.load(open(os.path.join(base, folder, 'args.json')))\n",
    "            metrics = json.load(open(os.path.join(base, folder, 'eval_metric.json')))\n",
    "            args.update(metrics)\n",
    "            result.append({k:args[k] for k in ['accuracy_drop', 'probability_drop', 'WER', 'NAD',\n",
    "                                                'beam_size', 'num_steps', 'std', 'sigma_wer', 'sigma_class']})\n",
    "result = pd.DataFrame(result)"
   ]
  },
  {
   "cell_type": "code",
   "execution_count": null,
   "metadata": {},
   "outputs": [],
   "source": []
  },
  {
   "cell_type": "code",
   "execution_count": 25,
   "metadata": {},
   "outputs": [
    {
     "data": {
      "text/html": [
       "<div>\n",
       "<style scoped>\n",
       "    .dataframe tbody tr th:only-of-type {\n",
       "        vertical-align: middle;\n",
       "    }\n",
       "\n",
       "    .dataframe tbody tr th {\n",
       "        vertical-align: top;\n",
       "    }\n",
       "\n",
       "    .dataframe thead th {\n",
       "        text-align: right;\n",
       "    }\n",
       "</style>\n",
       "<table border=\"1\" class=\"dataframe\">\n",
       "  <thead>\n",
       "    <tr style=\"text-align: right;\">\n",
       "      <th></th>\n",
       "      <th>accuracy_drop</th>\n",
       "      <th>probability_drop</th>\n",
       "      <th>WER</th>\n",
       "      <th>NAD</th>\n",
       "      <th>beam_size</th>\n",
       "      <th>num_steps</th>\n",
       "      <th>std</th>\n",
       "      <th>sigma_wer</th>\n",
       "      <th>sigma_class</th>\n",
       "    </tr>\n",
       "  </thead>\n",
       "  <tbody>\n",
       "    <tr>\n",
       "      <th>0</th>\n",
       "      <td>0.33</td>\n",
       "      <td>0.156769</td>\n",
       "      <td>5.95</td>\n",
       "      <td>0.080844</td>\n",
       "      <td>30</td>\n",
       "      <td>30</td>\n",
       "      <td>1.00</td>\n",
       "      <td>0.75</td>\n",
       "      <td>1.00</td>\n",
       "    </tr>\n",
       "    <tr>\n",
       "      <th>1</th>\n",
       "      <td>0.26</td>\n",
       "      <td>0.135612</td>\n",
       "      <td>4.67</td>\n",
       "      <td>0.070415</td>\n",
       "      <td>30</td>\n",
       "      <td>30</td>\n",
       "      <td>0.10</td>\n",
       "      <td>0.50</td>\n",
       "      <td>0.50</td>\n",
       "    </tr>\n",
       "    <tr>\n",
       "      <th>2</th>\n",
       "      <td>0.33</td>\n",
       "      <td>0.156769</td>\n",
       "      <td>5.95</td>\n",
       "      <td>0.080844</td>\n",
       "      <td>30</td>\n",
       "      <td>30</td>\n",
       "      <td>0.50</td>\n",
       "      <td>1.50</td>\n",
       "      <td>1.25</td>\n",
       "    </tr>\n",
       "    <tr>\n",
       "      <th>3</th>\n",
       "      <td>0.33</td>\n",
       "      <td>0.156583</td>\n",
       "      <td>5.82</td>\n",
       "      <td>0.080844</td>\n",
       "      <td>30</td>\n",
       "      <td>30</td>\n",
       "      <td>0.20</td>\n",
       "      <td>1.00</td>\n",
       "      <td>1.00</td>\n",
       "    </tr>\n",
       "    <tr>\n",
       "      <th>4</th>\n",
       "      <td>0.33</td>\n",
       "      <td>0.156769</td>\n",
       "      <td>5.95</td>\n",
       "      <td>0.080844</td>\n",
       "      <td>30</td>\n",
       "      <td>30</td>\n",
       "      <td>0.50</td>\n",
       "      <td>1.00</td>\n",
       "      <td>1.00</td>\n",
       "    </tr>\n",
       "    <tr>\n",
       "      <th>5</th>\n",
       "      <td>0.29</td>\n",
       "      <td>0.141351</td>\n",
       "      <td>5.10</td>\n",
       "      <td>0.072948</td>\n",
       "      <td>30</td>\n",
       "      <td>30</td>\n",
       "      <td>0.20</td>\n",
       "      <td>0.50</td>\n",
       "      <td>0.75</td>\n",
       "    </tr>\n",
       "    <tr>\n",
       "      <th>6</th>\n",
       "      <td>0.08</td>\n",
       "      <td>0.036342</td>\n",
       "      <td>0.72</td>\n",
       "      <td>0.026984</td>\n",
       "      <td>30</td>\n",
       "      <td>30</td>\n",
       "      <td>0.50</td>\n",
       "      <td>0.20</td>\n",
       "      <td>0.75</td>\n",
       "    </tr>\n",
       "    <tr>\n",
       "      <th>7</th>\n",
       "      <td>0.33</td>\n",
       "      <td>0.156769</td>\n",
       "      <td>5.95</td>\n",
       "      <td>0.080844</td>\n",
       "      <td>30</td>\n",
       "      <td>30</td>\n",
       "      <td>0.20</td>\n",
       "      <td>1.50</td>\n",
       "      <td>1.25</td>\n",
       "    </tr>\n",
       "    <tr>\n",
       "      <th>8</th>\n",
       "      <td>0.33</td>\n",
       "      <td>0.156769</td>\n",
       "      <td>5.95</td>\n",
       "      <td>0.080844</td>\n",
       "      <td>30</td>\n",
       "      <td>30</td>\n",
       "      <td>0.10</td>\n",
       "      <td>0.75</td>\n",
       "      <td>1.50</td>\n",
       "    </tr>\n",
       "    <tr>\n",
       "      <th>9</th>\n",
       "      <td>0.33</td>\n",
       "      <td>0.156769</td>\n",
       "      <td>5.95</td>\n",
       "      <td>0.080844</td>\n",
       "      <td>30</td>\n",
       "      <td>30</td>\n",
       "      <td>0.05</td>\n",
       "      <td>1.50</td>\n",
       "      <td>1.50</td>\n",
       "    </tr>\n",
       "    <tr>\n",
       "      <th>10</th>\n",
       "      <td>0.33</td>\n",
       "      <td>0.155855</td>\n",
       "      <td>5.81</td>\n",
       "      <td>0.080844</td>\n",
       "      <td>30</td>\n",
       "      <td>30</td>\n",
       "      <td>0.01</td>\n",
       "      <td>0.75</td>\n",
       "      <td>1.50</td>\n",
       "    </tr>\n",
       "    <tr>\n",
       "      <th>11</th>\n",
       "      <td>0.33</td>\n",
       "      <td>0.156769</td>\n",
       "      <td>5.95</td>\n",
       "      <td>0.080844</td>\n",
       "      <td>30</td>\n",
       "      <td>30</td>\n",
       "      <td>0.10</td>\n",
       "      <td>1.00</td>\n",
       "      <td>1.00</td>\n",
       "    </tr>\n",
       "    <tr>\n",
       "      <th>12</th>\n",
       "      <td>0.21</td>\n",
       "      <td>0.098827</td>\n",
       "      <td>2.47</td>\n",
       "      <td>0.048292</td>\n",
       "      <td>30</td>\n",
       "      <td>30</td>\n",
       "      <td>0.50</td>\n",
       "      <td>1.00</td>\n",
       "      <td>0.20</td>\n",
       "    </tr>\n",
       "    <tr>\n",
       "      <th>13</th>\n",
       "      <td>0.07</td>\n",
       "      <td>0.031600</td>\n",
       "      <td>0.79</td>\n",
       "      <td>0.028295</td>\n",
       "      <td>30</td>\n",
       "      <td>30</td>\n",
       "      <td>0.01</td>\n",
       "      <td>0.20</td>\n",
       "      <td>0.75</td>\n",
       "    </tr>\n",
       "    <tr>\n",
       "      <th>14</th>\n",
       "      <td>0.33</td>\n",
       "      <td>0.156769</td>\n",
       "      <td>5.95</td>\n",
       "      <td>0.080844</td>\n",
       "      <td>30</td>\n",
       "      <td>30</td>\n",
       "      <td>0.01</td>\n",
       "      <td>1.25</td>\n",
       "      <td>0.75</td>\n",
       "    </tr>\n",
       "    <tr>\n",
       "      <th>15</th>\n",
       "      <td>0.33</td>\n",
       "      <td>0.156769</td>\n",
       "      <td>5.95</td>\n",
       "      <td>0.080844</td>\n",
       "      <td>30</td>\n",
       "      <td>30</td>\n",
       "      <td>1.00</td>\n",
       "      <td>1.25</td>\n",
       "      <td>1.25</td>\n",
       "    </tr>\n",
       "    <tr>\n",
       "      <th>16</th>\n",
       "      <td>0.33</td>\n",
       "      <td>0.156769</td>\n",
       "      <td>5.95</td>\n",
       "      <td>0.080844</td>\n",
       "      <td>30</td>\n",
       "      <td>30</td>\n",
       "      <td>0.50</td>\n",
       "      <td>1.00</td>\n",
       "      <td>1.50</td>\n",
       "    </tr>\n",
       "    <tr>\n",
       "      <th>17</th>\n",
       "      <td>0.22</td>\n",
       "      <td>0.106146</td>\n",
       "      <td>2.39</td>\n",
       "      <td>0.043927</td>\n",
       "      <td>30</td>\n",
       "      <td>30</td>\n",
       "      <td>0.10</td>\n",
       "      <td>1.50</td>\n",
       "      <td>0.20</td>\n",
       "    </tr>\n",
       "    <tr>\n",
       "      <th>18</th>\n",
       "      <td>0.33</td>\n",
       "      <td>0.156769</td>\n",
       "      <td>5.95</td>\n",
       "      <td>0.080844</td>\n",
       "      <td>30</td>\n",
       "      <td>30</td>\n",
       "      <td>0.10</td>\n",
       "      <td>1.50</td>\n",
       "      <td>1.00</td>\n",
       "    </tr>\n",
       "    <tr>\n",
       "      <th>19</th>\n",
       "      <td>0.32</td>\n",
       "      <td>0.155654</td>\n",
       "      <td>5.84</td>\n",
       "      <td>0.079527</td>\n",
       "      <td>30</td>\n",
       "      <td>30</td>\n",
       "      <td>1.00</td>\n",
       "      <td>0.50</td>\n",
       "      <td>1.00</td>\n",
       "    </tr>\n",
       "    <tr>\n",
       "      <th>20</th>\n",
       "      <td>0.07</td>\n",
       "      <td>0.036217</td>\n",
       "      <td>1.91</td>\n",
       "      <td>0.035911</td>\n",
       "      <td>30</td>\n",
       "      <td>30</td>\n",
       "      <td>0.50</td>\n",
       "      <td>0.20</td>\n",
       "      <td>1.50</td>\n",
       "    </tr>\n",
       "    <tr>\n",
       "      <th>21</th>\n",
       "      <td>0.32</td>\n",
       "      <td>0.151674</td>\n",
       "      <td>5.86</td>\n",
       "      <td>0.079234</td>\n",
       "      <td>30</td>\n",
       "      <td>30</td>\n",
       "      <td>1.00</td>\n",
       "      <td>1.25</td>\n",
       "      <td>0.75</td>\n",
       "    </tr>\n",
       "    <tr>\n",
       "      <th>22</th>\n",
       "      <td>0.33</td>\n",
       "      <td>0.156769</td>\n",
       "      <td>5.95</td>\n",
       "      <td>0.080844</td>\n",
       "      <td>30</td>\n",
       "      <td>30</td>\n",
       "      <td>0.20</td>\n",
       "      <td>0.75</td>\n",
       "      <td>1.50</td>\n",
       "    </tr>\n",
       "    <tr>\n",
       "      <th>23</th>\n",
       "      <td>0.33</td>\n",
       "      <td>0.156414</td>\n",
       "      <td>5.79</td>\n",
       "      <td>0.080844</td>\n",
       "      <td>30</td>\n",
       "      <td>30</td>\n",
       "      <td>0.05</td>\n",
       "      <td>1.00</td>\n",
       "      <td>0.75</td>\n",
       "    </tr>\n",
       "    <tr>\n",
       "      <th>24</th>\n",
       "      <td>0.26</td>\n",
       "      <td>0.119038</td>\n",
       "      <td>3.86</td>\n",
       "      <td>0.066391</td>\n",
       "      <td>30</td>\n",
       "      <td>30</td>\n",
       "      <td>0.05</td>\n",
       "      <td>0.50</td>\n",
       "      <td>0.50</td>\n",
       "    </tr>\n",
       "    <tr>\n",
       "      <th>25</th>\n",
       "      <td>0.12</td>\n",
       "      <td>0.054651</td>\n",
       "      <td>1.38</td>\n",
       "      <td>0.032204</td>\n",
       "      <td>30</td>\n",
       "      <td>30</td>\n",
       "      <td>1.00</td>\n",
       "      <td>0.20</td>\n",
       "      <td>0.50</td>\n",
       "    </tr>\n",
       "    <tr>\n",
       "      <th>26</th>\n",
       "      <td>0.13</td>\n",
       "      <td>0.060818</td>\n",
       "      <td>2.08</td>\n",
       "      <td>0.036965</td>\n",
       "      <td>30</td>\n",
       "      <td>30</td>\n",
       "      <td>0.10</td>\n",
       "      <td>0.20</td>\n",
       "      <td>1.50</td>\n",
       "    </tr>\n",
       "    <tr>\n",
       "      <th>27</th>\n",
       "      <td>0.33</td>\n",
       "      <td>0.156769</td>\n",
       "      <td>5.95</td>\n",
       "      <td>0.080844</td>\n",
       "      <td>30</td>\n",
       "      <td>30</td>\n",
       "      <td>0.05</td>\n",
       "      <td>1.00</td>\n",
       "      <td>1.25</td>\n",
       "    </tr>\n",
       "    <tr>\n",
       "      <th>28</th>\n",
       "      <td>0.34</td>\n",
       "      <td>0.158372</td>\n",
       "      <td>5.84</td>\n",
       "      <td>0.080844</td>\n",
       "      <td>30</td>\n",
       "      <td>30</td>\n",
       "      <td>0.05</td>\n",
       "      <td>1.50</td>\n",
       "      <td>0.50</td>\n",
       "    </tr>\n",
       "    <tr>\n",
       "      <th>29</th>\n",
       "      <td>0.31</td>\n",
       "      <td>0.148923</td>\n",
       "      <td>5.66</td>\n",
       "      <td>0.077164</td>\n",
       "      <td>30</td>\n",
       "      <td>30</td>\n",
       "      <td>0.50</td>\n",
       "      <td>0.50</td>\n",
       "      <td>1.25</td>\n",
       "    </tr>\n",
       "  </tbody>\n",
       "</table>\n",
       "</div>"
      ],
      "text/plain": [
       "    accuracy_drop  probability_drop   WER       NAD  beam_size  num_steps  \\\n",
       "0            0.33          0.156769  5.95  0.080844         30         30   \n",
       "1            0.26          0.135612  4.67  0.070415         30         30   \n",
       "2            0.33          0.156769  5.95  0.080844         30         30   \n",
       "3            0.33          0.156583  5.82  0.080844         30         30   \n",
       "4            0.33          0.156769  5.95  0.080844         30         30   \n",
       "5            0.29          0.141351  5.10  0.072948         30         30   \n",
       "6            0.08          0.036342  0.72  0.026984         30         30   \n",
       "7            0.33          0.156769  5.95  0.080844         30         30   \n",
       "8            0.33          0.156769  5.95  0.080844         30         30   \n",
       "9            0.33          0.156769  5.95  0.080844         30         30   \n",
       "10           0.33          0.155855  5.81  0.080844         30         30   \n",
       "11           0.33          0.156769  5.95  0.080844         30         30   \n",
       "12           0.21          0.098827  2.47  0.048292         30         30   \n",
       "13           0.07          0.031600  0.79  0.028295         30         30   \n",
       "14           0.33          0.156769  5.95  0.080844         30         30   \n",
       "15           0.33          0.156769  5.95  0.080844         30         30   \n",
       "16           0.33          0.156769  5.95  0.080844         30         30   \n",
       "17           0.22          0.106146  2.39  0.043927         30         30   \n",
       "18           0.33          0.156769  5.95  0.080844         30         30   \n",
       "19           0.32          0.155654  5.84  0.079527         30         30   \n",
       "20           0.07          0.036217  1.91  0.035911         30         30   \n",
       "21           0.32          0.151674  5.86  0.079234         30         30   \n",
       "22           0.33          0.156769  5.95  0.080844         30         30   \n",
       "23           0.33          0.156414  5.79  0.080844         30         30   \n",
       "24           0.26          0.119038  3.86  0.066391         30         30   \n",
       "25           0.12          0.054651  1.38  0.032204         30         30   \n",
       "26           0.13          0.060818  2.08  0.036965         30         30   \n",
       "27           0.33          0.156769  5.95  0.080844         30         30   \n",
       "28           0.34          0.158372  5.84  0.080844         30         30   \n",
       "29           0.31          0.148923  5.66  0.077164         30         30   \n",
       "\n",
       "     std  sigma_wer  sigma_class  \n",
       "0   1.00       0.75         1.00  \n",
       "1   0.10       0.50         0.50  \n",
       "2   0.50       1.50         1.25  \n",
       "3   0.20       1.00         1.00  \n",
       "4   0.50       1.00         1.00  \n",
       "5   0.20       0.50         0.75  \n",
       "6   0.50       0.20         0.75  \n",
       "7   0.20       1.50         1.25  \n",
       "8   0.10       0.75         1.50  \n",
       "9   0.05       1.50         1.50  \n",
       "10  0.01       0.75         1.50  \n",
       "11  0.10       1.00         1.00  \n",
       "12  0.50       1.00         0.20  \n",
       "13  0.01       0.20         0.75  \n",
       "14  0.01       1.25         0.75  \n",
       "15  1.00       1.25         1.25  \n",
       "16  0.50       1.00         1.50  \n",
       "17  0.10       1.50         0.20  \n",
       "18  0.10       1.50         1.00  \n",
       "19  1.00       0.50         1.00  \n",
       "20  0.50       0.20         1.50  \n",
       "21  1.00       1.25         0.75  \n",
       "22  0.20       0.75         1.50  \n",
       "23  0.05       1.00         0.75  \n",
       "24  0.05       0.50         0.50  \n",
       "25  1.00       0.20         0.50  \n",
       "26  0.10       0.20         1.50  \n",
       "27  0.05       1.00         1.25  \n",
       "28  0.05       1.50         0.50  \n",
       "29  0.50       0.50         1.25  "
      ]
     },
     "execution_count": 25,
     "metadata": {},
     "output_type": "execute_result"
    }
   ],
   "source": [
    "result"
   ]
  },
  {
   "cell_type": "code",
   "execution_count": 26,
   "metadata": {},
   "outputs": [],
   "source": [
    "sns.set()"
   ]
  },
  {
   "cell_type": "code",
   "execution_count": 27,
   "metadata": {},
   "outputs": [
    {
     "data": {
      "image/png": "[encoded data removed]",
      "text/plain": [
       "<Figure size 1620x360 with 18 Axes>"
      ]
     },
     "metadata": {},
     "output_type": "display_data"
    }
   ],
   "source": [
    "g = sns.pairplot(result, x_vars=result.columns.values, y_vars=['NAD', 'WER'])\n",
    "plt.savefig(os.path.join(base_dir, f'stats_{method}.png'), dpi=150, bbox_inches='tight')"
   ]
  },
  {
   "cell_type": "code",
   "execution_count": 28,
   "metadata": {},
   "outputs": [
    {
     "data": {
      "text/html": [
       "<div>\n",
       "<style scoped>\n",
       "    .dataframe tbody tr th:only-of-type {\n",
       "        vertical-align: middle;\n",
       "    }\n",
       "\n",
       "    .dataframe tbody tr th {\n",
       "        vertical-align: top;\n",
       "    }\n",
       "\n",
       "    .dataframe thead th {\n",
       "        text-align: right;\n",
       "    }\n",
       "</style>\n",
       "<table border=\"1\" class=\"dataframe\">\n",
       "  <thead>\n",
       "    <tr style=\"text-align: right;\">\n",
       "      <th></th>\n",
       "      <th>accuracy_drop</th>\n",
       "      <th>probability_drop</th>\n",
       "      <th>WER</th>\n",
       "      <th>NAD</th>\n",
       "      <th>beam_size</th>\n",
       "      <th>num_steps</th>\n",
       "      <th>std</th>\n",
       "      <th>sigma_wer</th>\n",
       "      <th>sigma_class</th>\n",
       "    </tr>\n",
       "  </thead>\n",
       "  <tbody>\n",
       "    <tr>\n",
       "      <th>0</th>\n",
       "      <td>0.33</td>\n",
       "      <td>0.156769</td>\n",
       "      <td>5.95</td>\n",
       "      <td>0.080844</td>\n",
       "      <td>30</td>\n",
       "      <td>30</td>\n",
       "      <td>1.00</td>\n",
       "      <td>0.75</td>\n",
       "      <td>1.00</td>\n",
       "    </tr>\n",
       "    <tr>\n",
       "      <th>10</th>\n",
       "      <td>0.33</td>\n",
       "      <td>0.155855</td>\n",
       "      <td>5.81</td>\n",
       "      <td>0.080844</td>\n",
       "      <td>30</td>\n",
       "      <td>30</td>\n",
       "      <td>0.01</td>\n",
       "      <td>0.75</td>\n",
       "      <td>1.50</td>\n",
       "    </tr>\n",
       "    <tr>\n",
       "      <th>28</th>\n",
       "      <td>0.34</td>\n",
       "      <td>0.158372</td>\n",
       "      <td>5.84</td>\n",
       "      <td>0.080844</td>\n",
       "      <td>30</td>\n",
       "      <td>30</td>\n",
       "      <td>0.05</td>\n",
       "      <td>1.50</td>\n",
       "      <td>0.50</td>\n",
       "    </tr>\n",
       "    <tr>\n",
       "      <th>27</th>\n",
       "      <td>0.33</td>\n",
       "      <td>0.156769</td>\n",
       "      <td>5.95</td>\n",
       "      <td>0.080844</td>\n",
       "      <td>30</td>\n",
       "      <td>30</td>\n",
       "      <td>0.05</td>\n",
       "      <td>1.00</td>\n",
       "      <td>1.25</td>\n",
       "    </tr>\n",
       "    <tr>\n",
       "      <th>23</th>\n",
       "      <td>0.33</td>\n",
       "      <td>0.156414</td>\n",
       "      <td>5.79</td>\n",
       "      <td>0.080844</td>\n",
       "      <td>30</td>\n",
       "      <td>30</td>\n",
       "      <td>0.05</td>\n",
       "      <td>1.00</td>\n",
       "      <td>0.75</td>\n",
       "    </tr>\n",
       "    <tr>\n",
       "      <th>22</th>\n",
       "      <td>0.33</td>\n",
       "      <td>0.156769</td>\n",
       "      <td>5.95</td>\n",
       "      <td>0.080844</td>\n",
       "      <td>30</td>\n",
       "      <td>30</td>\n",
       "      <td>0.20</td>\n",
       "      <td>0.75</td>\n",
       "      <td>1.50</td>\n",
       "    </tr>\n",
       "    <tr>\n",
       "      <th>18</th>\n",
       "      <td>0.33</td>\n",
       "      <td>0.156769</td>\n",
       "      <td>5.95</td>\n",
       "      <td>0.080844</td>\n",
       "      <td>30</td>\n",
       "      <td>30</td>\n",
       "      <td>0.10</td>\n",
       "      <td>1.50</td>\n",
       "      <td>1.00</td>\n",
       "    </tr>\n",
       "    <tr>\n",
       "      <th>16</th>\n",
       "      <td>0.33</td>\n",
       "      <td>0.156769</td>\n",
       "      <td>5.95</td>\n",
       "      <td>0.080844</td>\n",
       "      <td>30</td>\n",
       "      <td>30</td>\n",
       "      <td>0.50</td>\n",
       "      <td>1.00</td>\n",
       "      <td>1.50</td>\n",
       "    </tr>\n",
       "    <tr>\n",
       "      <th>14</th>\n",
       "      <td>0.33</td>\n",
       "      <td>0.156769</td>\n",
       "      <td>5.95</td>\n",
       "      <td>0.080844</td>\n",
       "      <td>30</td>\n",
       "      <td>30</td>\n",
       "      <td>0.01</td>\n",
       "      <td>1.25</td>\n",
       "      <td>0.75</td>\n",
       "    </tr>\n",
       "    <tr>\n",
       "      <th>11</th>\n",
       "      <td>0.33</td>\n",
       "      <td>0.156769</td>\n",
       "      <td>5.95</td>\n",
       "      <td>0.080844</td>\n",
       "      <td>30</td>\n",
       "      <td>30</td>\n",
       "      <td>0.10</td>\n",
       "      <td>1.00</td>\n",
       "      <td>1.00</td>\n",
       "    </tr>\n",
       "    <tr>\n",
       "      <th>15</th>\n",
       "      <td>0.33</td>\n",
       "      <td>0.156769</td>\n",
       "      <td>5.95</td>\n",
       "      <td>0.080844</td>\n",
       "      <td>30</td>\n",
       "      <td>30</td>\n",
       "      <td>1.00</td>\n",
       "      <td>1.25</td>\n",
       "      <td>1.25</td>\n",
       "    </tr>\n",
       "    <tr>\n",
       "      <th>9</th>\n",
       "      <td>0.33</td>\n",
       "      <td>0.156769</td>\n",
       "      <td>5.95</td>\n",
       "      <td>0.080844</td>\n",
       "      <td>30</td>\n",
       "      <td>30</td>\n",
       "      <td>0.05</td>\n",
       "      <td>1.50</td>\n",
       "      <td>1.50</td>\n",
       "    </tr>\n",
       "    <tr>\n",
       "      <th>2</th>\n",
       "      <td>0.33</td>\n",
       "      <td>0.156769</td>\n",
       "      <td>5.95</td>\n",
       "      <td>0.080844</td>\n",
       "      <td>30</td>\n",
       "      <td>30</td>\n",
       "      <td>0.50</td>\n",
       "      <td>1.50</td>\n",
       "      <td>1.25</td>\n",
       "    </tr>\n",
       "    <tr>\n",
       "      <th>8</th>\n",
       "      <td>0.33</td>\n",
       "      <td>0.156769</td>\n",
       "      <td>5.95</td>\n",
       "      <td>0.080844</td>\n",
       "      <td>30</td>\n",
       "      <td>30</td>\n",
       "      <td>0.10</td>\n",
       "      <td>0.75</td>\n",
       "      <td>1.50</td>\n",
       "    </tr>\n",
       "    <tr>\n",
       "      <th>3</th>\n",
       "      <td>0.33</td>\n",
       "      <td>0.156583</td>\n",
       "      <td>5.82</td>\n",
       "      <td>0.080844</td>\n",
       "      <td>30</td>\n",
       "      <td>30</td>\n",
       "      <td>0.20</td>\n",
       "      <td>1.00</td>\n",
       "      <td>1.00</td>\n",
       "    </tr>\n",
       "    <tr>\n",
       "      <th>7</th>\n",
       "      <td>0.33</td>\n",
       "      <td>0.156769</td>\n",
       "      <td>5.95</td>\n",
       "      <td>0.080844</td>\n",
       "      <td>30</td>\n",
       "      <td>30</td>\n",
       "      <td>0.20</td>\n",
       "      <td>1.50</td>\n",
       "      <td>1.25</td>\n",
       "    </tr>\n",
       "    <tr>\n",
       "      <th>4</th>\n",
       "      <td>0.33</td>\n",
       "      <td>0.156769</td>\n",
       "      <td>5.95</td>\n",
       "      <td>0.080844</td>\n",
       "      <td>30</td>\n",
       "      <td>30</td>\n",
       "      <td>0.50</td>\n",
       "      <td>1.00</td>\n",
       "      <td>1.00</td>\n",
       "    </tr>\n",
       "    <tr>\n",
       "      <th>19</th>\n",
       "      <td>0.32</td>\n",
       "      <td>0.155654</td>\n",
       "      <td>5.84</td>\n",
       "      <td>0.079527</td>\n",
       "      <td>30</td>\n",
       "      <td>30</td>\n",
       "      <td>1.00</td>\n",
       "      <td>0.50</td>\n",
       "      <td>1.00</td>\n",
       "    </tr>\n",
       "    <tr>\n",
       "      <th>21</th>\n",
       "      <td>0.32</td>\n",
       "      <td>0.151674</td>\n",
       "      <td>5.86</td>\n",
       "      <td>0.079234</td>\n",
       "      <td>30</td>\n",
       "      <td>30</td>\n",
       "      <td>1.00</td>\n",
       "      <td>1.25</td>\n",
       "      <td>0.75</td>\n",
       "    </tr>\n",
       "    <tr>\n",
       "      <th>29</th>\n",
       "      <td>0.31</td>\n",
       "      <td>0.148923</td>\n",
       "      <td>5.66</td>\n",
       "      <td>0.077164</td>\n",
       "      <td>30</td>\n",
       "      <td>30</td>\n",
       "      <td>0.50</td>\n",
       "      <td>0.50</td>\n",
       "      <td>1.25</td>\n",
       "    </tr>\n",
       "    <tr>\n",
       "      <th>5</th>\n",
       "      <td>0.29</td>\n",
       "      <td>0.141351</td>\n",
       "      <td>5.10</td>\n",
       "      <td>0.072948</td>\n",
       "      <td>30</td>\n",
       "      <td>30</td>\n",
       "      <td>0.20</td>\n",
       "      <td>0.50</td>\n",
       "      <td>0.75</td>\n",
       "    </tr>\n",
       "    <tr>\n",
       "      <th>1</th>\n",
       "      <td>0.26</td>\n",
       "      <td>0.135612</td>\n",
       "      <td>4.67</td>\n",
       "      <td>0.070415</td>\n",
       "      <td>30</td>\n",
       "      <td>30</td>\n",
       "      <td>0.10</td>\n",
       "      <td>0.50</td>\n",
       "      <td>0.50</td>\n",
       "    </tr>\n",
       "    <tr>\n",
       "      <th>24</th>\n",
       "      <td>0.26</td>\n",
       "      <td>0.119038</td>\n",
       "      <td>3.86</td>\n",
       "      <td>0.066391</td>\n",
       "      <td>30</td>\n",
       "      <td>30</td>\n",
       "      <td>0.05</td>\n",
       "      <td>0.50</td>\n",
       "      <td>0.50</td>\n",
       "    </tr>\n",
       "    <tr>\n",
       "      <th>12</th>\n",
       "      <td>0.21</td>\n",
       "      <td>0.098827</td>\n",
       "      <td>2.47</td>\n",
       "      <td>0.048292</td>\n",
       "      <td>30</td>\n",
       "      <td>30</td>\n",
       "      <td>0.50</td>\n",
       "      <td>1.00</td>\n",
       "      <td>0.20</td>\n",
       "    </tr>\n",
       "    <tr>\n",
       "      <th>17</th>\n",
       "      <td>0.22</td>\n",
       "      <td>0.106146</td>\n",
       "      <td>2.39</td>\n",
       "      <td>0.043927</td>\n",
       "      <td>30</td>\n",
       "      <td>30</td>\n",
       "      <td>0.10</td>\n",
       "      <td>1.50</td>\n",
       "      <td>0.20</td>\n",
       "    </tr>\n",
       "    <tr>\n",
       "      <th>26</th>\n",
       "      <td>0.13</td>\n",
       "      <td>0.060818</td>\n",
       "      <td>2.08</td>\n",
       "      <td>0.036965</td>\n",
       "      <td>30</td>\n",
       "      <td>30</td>\n",
       "      <td>0.10</td>\n",
       "      <td>0.20</td>\n",
       "      <td>1.50</td>\n",
       "    </tr>\n",
       "    <tr>\n",
       "      <th>20</th>\n",
       "      <td>0.07</td>\n",
       "      <td>0.036217</td>\n",
       "      <td>1.91</td>\n",
       "      <td>0.035911</td>\n",
       "      <td>30</td>\n",
       "      <td>30</td>\n",
       "      <td>0.50</td>\n",
       "      <td>0.20</td>\n",
       "      <td>1.50</td>\n",
       "    </tr>\n",
       "    <tr>\n",
       "      <th>25</th>\n",
       "      <td>0.12</td>\n",
       "      <td>0.054651</td>\n",
       "      <td>1.38</td>\n",
       "      <td>0.032204</td>\n",
       "      <td>30</td>\n",
       "      <td>30</td>\n",
       "      <td>1.00</td>\n",
       "      <td>0.20</td>\n",
       "      <td>0.50</td>\n",
       "    </tr>\n",
       "    <tr>\n",
       "      <th>13</th>\n",
       "      <td>0.07</td>\n",
       "      <td>0.031600</td>\n",
       "      <td>0.79</td>\n",
       "      <td>0.028295</td>\n",
       "      <td>30</td>\n",
       "      <td>30</td>\n",
       "      <td>0.01</td>\n",
       "      <td>0.20</td>\n",
       "      <td>0.75</td>\n",
       "    </tr>\n",
       "    <tr>\n",
       "      <th>6</th>\n",
       "      <td>0.08</td>\n",
       "      <td>0.036342</td>\n",
       "      <td>0.72</td>\n",
       "      <td>0.026984</td>\n",
       "      <td>30</td>\n",
       "      <td>30</td>\n",
       "      <td>0.50</td>\n",
       "      <td>0.20</td>\n",
       "      <td>0.75</td>\n",
       "    </tr>\n",
       "  </tbody>\n",
       "</table>\n",
       "</div>"
      ],
      "text/plain": [
       "    accuracy_drop  probability_drop   WER       NAD  beam_size  num_steps  \\\n",
       "0            0.33          0.156769  5.95  0.080844         30         30   \n",
       "10           0.33          0.155855  5.81  0.080844         30         30   \n",
       "28           0.34          0.158372  5.84  0.080844         30         30   \n",
       "27           0.33          0.156769  5.95  0.080844         30         30   \n",
       "23           0.33          0.156414  5.79  0.080844         30         30   \n",
       "22           0.33          0.156769  5.95  0.080844         30         30   \n",
       "18           0.33          0.156769  5.95  0.080844         30         30   \n",
       "16           0.33          0.156769  5.95  0.080844         30         30   \n",
       "14           0.33          0.156769  5.95  0.080844         30         30   \n",
       "11           0.33          0.156769  5.95  0.080844         30         30   \n",
       "15           0.33          0.156769  5.95  0.080844         30         30   \n",
       "9            0.33          0.156769  5.95  0.080844         30         30   \n",
       "2            0.33          0.156769  5.95  0.080844         30         30   \n",
       "8            0.33          0.156769  5.95  0.080844         30         30   \n",
       "3            0.33          0.156583  5.82  0.080844         30         30   \n",
       "7            0.33          0.156769  5.95  0.080844         30         30   \n",
       "4            0.33          0.156769  5.95  0.080844         30         30   \n",
       "19           0.32          0.155654  5.84  0.079527         30         30   \n",
       "21           0.32          0.151674  5.86  0.079234         30         30   \n",
       "29           0.31          0.148923  5.66  0.077164         30         30   \n",
       "5            0.29          0.141351  5.10  0.072948         30         30   \n",
       "1            0.26          0.135612  4.67  0.070415         30         30   \n",
       "24           0.26          0.119038  3.86  0.066391         30         30   \n",
       "12           0.21          0.098827  2.47  0.048292         30         30   \n",
       "17           0.22          0.106146  2.39  0.043927         30         30   \n",
       "26           0.13          0.060818  2.08  0.036965         30         30   \n",
       "20           0.07          0.036217  1.91  0.035911         30         30   \n",
       "25           0.12          0.054651  1.38  0.032204         30         30   \n",
       "13           0.07          0.031600  0.79  0.028295         30         30   \n",
       "6            0.08          0.036342  0.72  0.026984         30         30   \n",
       "\n",
       "     std  sigma_wer  sigma_class  \n",
       "0   1.00       0.75         1.00  \n",
       "10  0.01       0.75         1.50  \n",
       "28  0.05       1.50         0.50  \n",
       "27  0.05       1.00         1.25  \n",
       "23  0.05       1.00         0.75  \n",
       "22  0.20       0.75         1.50  \n",
       "18  0.10       1.50         1.00  \n",
       "16  0.50       1.00         1.50  \n",
       "14  0.01       1.25         0.75  \n",
       "11  0.10       1.00         1.00  \n",
       "15  1.00       1.25         1.25  \n",
       "9   0.05       1.50         1.50  \n",
       "2   0.50       1.50         1.25  \n",
       "8   0.10       0.75         1.50  \n",
       "3   0.20       1.00         1.00  \n",
       "7   0.20       1.50         1.25  \n",
       "4   0.50       1.00         1.00  \n",
       "19  1.00       0.50         1.00  \n",
       "21  1.00       1.25         0.75  \n",
       "29  0.50       0.50         1.25  \n",
       "5   0.20       0.50         0.75  \n",
       "1   0.10       0.50         0.50  \n",
       "24  0.05       0.50         0.50  \n",
       "12  0.50       1.00         0.20  \n",
       "17  0.10       1.50         0.20  \n",
       "26  0.10       0.20         1.50  \n",
       "20  0.50       0.20         1.50  \n",
       "25  1.00       0.20         0.50  \n",
       "13  0.01       0.20         0.75  \n",
       "6   0.50       0.20         0.75  "
      ]
     },
     "execution_count": 28,
     "metadata": {},
     "output_type": "execute_result"
    }
   ],
   "source": [
    "result.sort_values(by='NAD', ascending=False)"
   ]
  },
  {
   "cell_type": "code",
   "execution_count": 31,
   "metadata": {},
   "outputs": [],
   "source": [
    "result = []\n",
    "for method in ['random']:\n",
    "    base = os.path.join(base_dir, method)\n",
    "    for folder in os.listdir(base):\n",
    "        if folder != 'backup':\n",
    "            args = json.load(open(os.path.join(base, folder, 'args.json')))\n",
    "            metrics = json.load(open(os.path.join(base, folder, 'eval_metric.json')))\n",
    "            args.update(metrics)\n",
    "            result.append({k:args[k] for k in ['accuracy_drop', 'probability_drop', 'WER', 'NAD',\n",
    "                                                'beam_size', 'num_steps', 'std']})\n",
    "result = pd.DataFrame(result)"
   ]
  },
  {
   "cell_type": "code",
   "execution_count": null,
   "metadata": {},
   "outputs": [],
   "source": []
  },
  {
   "cell_type": "code",
   "execution_count": null,
   "metadata": {},
   "outputs": [],
   "source": []
  },
  {
   "cell_type": "code",
   "execution_count": 32,
   "metadata": {},
   "outputs": [
    {
     "data": {
      "text/html": [
       "<div>\n",
       "<style scoped>\n",
       "    .dataframe tbody tr th:only-of-type {\n",
       "        vertical-align: middle;\n",
       "    }\n",
       "\n",
       "    .dataframe tbody tr th {\n",
       "        vertical-align: top;\n",
       "    }\n",
       "\n",
       "    .dataframe thead th {\n",
       "        text-align: right;\n",
       "    }\n",
       "</style>\n",
       "<table border=\"1\" class=\"dataframe\">\n",
       "  <thead>\n",
       "    <tr style=\"text-align: right;\">\n",
       "      <th></th>\n",
       "      <th>accuracy_drop</th>\n",
       "      <th>probability_drop</th>\n",
       "      <th>WER</th>\n",
       "      <th>NAD</th>\n",
       "      <th>beam_size</th>\n",
       "      <th>num_steps</th>\n",
       "      <th>std</th>\n",
       "    </tr>\n",
       "  </thead>\n",
       "  <tbody>\n",
       "    <tr>\n",
       "      <th>0</th>\n",
       "      <td>0.3</td>\n",
       "      <td>0.1436</td>\n",
       "      <td>7.49</td>\n",
       "      <td>0.082656</td>\n",
       "      <td>30</td>\n",
       "      <td>30</td>\n",
       "      <td>1.00</td>\n",
       "    </tr>\n",
       "    <tr>\n",
       "      <th>1</th>\n",
       "      <td>0.3</td>\n",
       "      <td>0.1436</td>\n",
       "      <td>7.49</td>\n",
       "      <td>0.082656</td>\n",
       "      <td>30</td>\n",
       "      <td>30</td>\n",
       "      <td>0.01</td>\n",
       "    </tr>\n",
       "    <tr>\n",
       "      <th>2</th>\n",
       "      <td>0.3</td>\n",
       "      <td>0.1436</td>\n",
       "      <td>7.49</td>\n",
       "      <td>0.082656</td>\n",
       "      <td>30</td>\n",
       "      <td>30</td>\n",
       "      <td>0.10</td>\n",
       "    </tr>\n",
       "    <tr>\n",
       "      <th>3</th>\n",
       "      <td>0.3</td>\n",
       "      <td>0.1436</td>\n",
       "      <td>7.49</td>\n",
       "      <td>0.082656</td>\n",
       "      <td>30</td>\n",
       "      <td>30</td>\n",
       "      <td>0.50</td>\n",
       "    </tr>\n",
       "    <tr>\n",
       "      <th>4</th>\n",
       "      <td>0.3</td>\n",
       "      <td>0.1436</td>\n",
       "      <td>7.49</td>\n",
       "      <td>0.082656</td>\n",
       "      <td>30</td>\n",
       "      <td>30</td>\n",
       "      <td>0.05</td>\n",
       "    </tr>\n",
       "    <tr>\n",
       "      <th>5</th>\n",
       "      <td>0.3</td>\n",
       "      <td>0.1436</td>\n",
       "      <td>7.49</td>\n",
       "      <td>0.082656</td>\n",
       "      <td>30</td>\n",
       "      <td>30</td>\n",
       "      <td>0.20</td>\n",
       "    </tr>\n",
       "  </tbody>\n",
       "</table>\n",
       "</div>"
      ],
      "text/plain": [
       "   accuracy_drop  probability_drop   WER       NAD  beam_size  num_steps   std\n",
       "0            0.3            0.1436  7.49  0.082656         30         30  1.00\n",
       "1            0.3            0.1436  7.49  0.082656         30         30  0.01\n",
       "2            0.3            0.1436  7.49  0.082656         30         30  0.10\n",
       "3            0.3            0.1436  7.49  0.082656         30         30  0.50\n",
       "4            0.3            0.1436  7.49  0.082656         30         30  0.05\n",
       "5            0.3            0.1436  7.49  0.082656         30         30  0.20"
      ]
     },
     "execution_count": 32,
     "metadata": {},
     "output_type": "execute_result"
    }
   ],
   "source": [
    "result.sort_values(by='NAD', ascending=False)"
   ]
  },
  {
   "cell_type": "code",
   "execution_count": null,
   "metadata": {},
   "outputs": [],
   "source": []
  },
  {
   "cell_type": "code",
   "execution_count": null,
   "metadata": {},
   "outputs": [],
   "source": []
  },
  {
   "cell_type": "code",
   "execution_count": null,
   "metadata": {},
   "outputs": [],
   "source": []
  },
  {
   "cell_type": "markdown",
   "metadata": {},
   "source": [
    "## make cascada grisearch"
   ]
  },
  {
   "cell_type": "code",
   "execution_count": 5,
   "metadata": {},
   "outputs": [],
   "source": [
    "levenshtein_weights = [0.1, 1, 10]\n",
    "beam_sizes = [1, 30, 100]\n",
    "max_stepss = [5, 30, 100]\n",
    "learning_rates = [1, 2, 4]"
   ]
  },
  {
   "cell_type": "code",
   "execution_count": 6,
   "metadata": {},
   "outputs": [],
   "source": [
    "import itertools"
   ]
  },
  {
   "cell_type": "code",
   "execution_count": 7,
   "metadata": {},
   "outputs": [],
   "source": [
    "params = list(itertools.product(levenshtein_weights, beam_sizes, max_stepss, learning_rates))"
   ]
  },
  {
   "cell_type": "code",
   "execution_count": 8,
   "metadata": {},
   "outputs": [],
   "source": [
    "#dataset = 'insurance'"
   ]
  },
  {
   "cell_type": "code",
   "execution_count": 10,
   "metadata": {},
   "outputs": [
    {
     "name": "stderr",
     "output_type": "stream",
     "text": [
      "\r",
      "  0%|          | 0/81 [00:00<?, ?it/s]"
     ]
    },
    {
     "name": "stdout",
     "output_type": "stream",
     "text": [
      "(0.1, 1, 5, 1)\n"
     ]
    },
    {
     "name": "stderr",
     "output_type": "stream",
     "text": [
      "\r",
      "  1%|          | 1/81 [00:08<11:41,  8.77s/it]"
     ]
    },
    {
     "name": "stdout",
     "output_type": "stream",
     "text": [
      "(0.1, 1, 5, 2)\n"
     ]
    },
    {
     "name": "stderr",
     "output_type": "stream",
     "text": [
      "\r",
      "  2%|▏         | 2/81 [00:18<12:06,  9.19s/it]"
     ]
    },
    {
     "name": "stdout",
     "output_type": "stream",
     "text": [
      "(0.1, 1, 5, 4)\n"
     ]
    },
    {
     "name": "stderr",
     "output_type": "stream",
     "text": [
      "\r",
      "  4%|▎         | 3/81 [00:28<12:06,  9.31s/it]"
     ]
    },
    {
     "name": "stdout",
     "output_type": "stream",
     "text": [
      "(0.1, 1, 30, 1)\n"
     ]
    },
    {
     "name": "stderr",
     "output_type": "stream",
     "text": [
      "\r",
      "  5%|▍         | 4/81 [01:05<22:32, 17.56s/it]"
     ]
    },
    {
     "name": "stdout",
     "output_type": "stream",
     "text": [
      "(0.1, 1, 30, 2)\n"
     ]
    },
    {
     "name": "stderr",
     "output_type": "stream",
     "text": [
      "\r",
      "  6%|▌         | 5/81 [01:48<31:49, 25.13s/it]"
     ]
    },
    {
     "name": "stdout",
     "output_type": "stream",
     "text": [
      "(0.1, 1, 30, 4)\n"
     ]
    },
    {
     "name": "stderr",
     "output_type": "stream",
     "text": [
      "\r",
      "  7%|▋         | 6/81 [02:36<40:05, 32.07s/it]"
     ]
    },
    {
     "name": "stdout",
     "output_type": "stream",
     "text": [
      "(0.1, 1, 100, 1)\n"
     ]
    },
    {
     "name": "stderr",
     "output_type": "stream",
     "text": [
      "\r",
      "  9%|▊         | 7/81 [04:53<1:18:26, 63.60s/it]"
     ]
    },
    {
     "name": "stdout",
     "output_type": "stream",
     "text": [
      "(0.1, 1, 100, 2)\n"
     ]
    },
    {
     "name": "stderr",
     "output_type": "stream",
     "text": [
      "\r",
      " 10%|▉         | 8/81 [07:17<1:46:50, 87.82s/it]"
     ]
    },
    {
     "name": "stdout",
     "output_type": "stream",
     "text": [
      "(0.1, 1, 100, 4)\n"
     ]
    },
    {
     "name": "stderr",
     "output_type": "stream",
     "text": [
      "\r",
      " 11%|█         | 9/81 [10:01<2:12:50, 110.70s/it]"
     ]
    },
    {
     "name": "stdout",
     "output_type": "stream",
     "text": [
      "(0.1, 30, 5, 1)\n"
     ]
    },
    {
     "name": "stderr",
     "output_type": "stream",
     "text": [
      "\r",
      " 12%|█▏        | 10/81 [10:12<1:35:17, 80.53s/it]"
     ]
    },
    {
     "name": "stdout",
     "output_type": "stream",
     "text": [
      "(0.1, 30, 5, 2)\n"
     ]
    },
    {
     "name": "stderr",
     "output_type": "stream",
     "text": [
      "\r",
      " 14%|█▎        | 11/81 [10:24<1:09:57, 59.96s/it]"
     ]
    },
    {
     "name": "stdout",
     "output_type": "stream",
     "text": [
      "(0.1, 30, 5, 4)\n"
     ]
    },
    {
     "name": "stderr",
     "output_type": "stream",
     "text": [
      "\r",
      " 15%|█▍        | 12/81 [10:35<52:19, 45.50s/it]  "
     ]
    },
    {
     "name": "stdout",
     "output_type": "stream",
     "text": [
      "(0.1, 30, 30, 1)\n"
     ]
    },
    {
     "name": "stderr",
     "output_type": "stream",
     "text": [
      "\r",
      " 16%|█▌        | 13/81 [11:25<52:48, 46.60s/it]"
     ]
    },
    {
     "name": "stdout",
     "output_type": "stream",
     "text": [
      "(0.1, 30, 30, 2)\n"
     ]
    },
    {
     "name": "stderr",
     "output_type": "stream",
     "text": [
      "\r",
      " 17%|█▋        | 14/81 [12:22<55:32, 49.74s/it]"
     ]
    },
    {
     "name": "stdout",
     "output_type": "stream",
     "text": [
      "(0.1, 30, 30, 4)\n"
     ]
    },
    {
     "name": "stderr",
     "output_type": "stream",
     "text": [
      "\r",
      " 19%|█▊        | 15/81 [13:28<1:00:12, 54.74s/it]"
     ]
    },
    {
     "name": "stdout",
     "output_type": "stream",
     "text": [
      "(0.1, 30, 100, 1)\n"
     ]
    },
    {
     "name": "stderr",
     "output_type": "stream",
     "text": [
      "\r",
      " 20%|█▉        | 16/81 [16:23<1:38:27, 90.88s/it]"
     ]
    },
    {
     "name": "stdout",
     "output_type": "stream",
     "text": [
      "(0.1, 30, 100, 2)\n"
     ]
    },
    {
     "name": "stderr",
     "output_type": "stream",
     "text": [
      "\r",
      " 21%|██        | 17/81 [19:46<2:12:47, 124.50s/it]"
     ]
    },
    {
     "name": "stdout",
     "output_type": "stream",
     "text": [
      "(0.1, 30, 100, 4)\n"
     ]
    },
    {
     "name": "stderr",
     "output_type": "stream",
     "text": [
      "\r",
      " 22%|██▏       | 18/81 [23:32<2:42:30, 154.78s/it]"
     ]
    },
    {
     "name": "stdout",
     "output_type": "stream",
     "text": [
      "(0.1, 100, 5, 1)\n"
     ]
    },
    {
     "name": "stderr",
     "output_type": "stream",
     "text": [
      "\r",
      " 23%|██▎       | 19/81 [23:47<1:56:43, 112.96s/it]"
     ]
    },
    {
     "name": "stdout",
     "output_type": "stream",
     "text": [
      "(0.1, 100, 5, 2)\n"
     ]
    },
    {
     "name": "stderr",
     "output_type": "stream",
     "text": [
      "\r",
      " 25%|██▍       | 20/81 [24:01<1:24:47, 83.40s/it] "
     ]
    },
    {
     "name": "stdout",
     "output_type": "stream",
     "text": [
      "(0.1, 100, 5, 4)\n"
     ]
    },
    {
     "name": "stderr",
     "output_type": "stream",
     "text": [
      "\r",
      " 26%|██▌       | 21/81 [24:18<1:03:24, 63.41s/it]"
     ]
    },
    {
     "name": "stdout",
     "output_type": "stream",
     "text": [
      "(0.1, 100, 30, 1)\n"
     ]
    },
    {
     "name": "stderr",
     "output_type": "stream",
     "text": [
      "\r",
      " 27%|██▋       | 22/81 [25:29<1:04:33, 65.64s/it]"
     ]
    },
    {
     "name": "stdout",
     "output_type": "stream",
     "text": [
      "(0.1, 100, 30, 2)\n"
     ]
    },
    {
     "name": "stderr",
     "output_type": "stream",
     "text": [
      "\r",
      " 28%|██▊       | 23/81 [26:51<1:08:11, 70.55s/it]"
     ]
    },
    {
     "name": "stdout",
     "output_type": "stream",
     "text": [
      "(0.1, 100, 30, 4)\n"
     ]
    },
    {
     "name": "stderr",
     "output_type": "stream",
     "text": [
      "\r",
      " 30%|██▉       | 24/81 [28:22<1:12:42, 76.54s/it]"
     ]
    },
    {
     "name": "stdout",
     "output_type": "stream",
     "text": [
      "(0.1, 100, 100, 1)\n"
     ]
    },
    {
     "name": "stderr",
     "output_type": "stream",
     "text": [
      "\r",
      " 31%|███       | 25/81 [32:47<2:04:21, 133.24s/it]"
     ]
    },
    {
     "name": "stdout",
     "output_type": "stream",
     "text": [
      "(0.1, 100, 100, 2)\n"
     ]
    },
    {
     "name": "stderr",
     "output_type": "stream",
     "text": [
      "\r",
      " 32%|███▏      | 26/81 [37:23<2:41:22, 176.04s/it]"
     ]
    },
    {
     "name": "stdout",
     "output_type": "stream",
     "text": [
      "(0.1, 100, 100, 4)\n"
     ]
    },
    {
     "name": "stderr",
     "output_type": "stream",
     "text": [
      "\r",
      " 33%|███▎      | 27/81 [42:26<3:12:39, 214.07s/it]"
     ]
    },
    {
     "name": "stdout",
     "output_type": "stream",
     "text": [
      "(1, 1, 5, 1)\n"
     ]
    },
    {
     "name": "stderr",
     "output_type": "stream",
     "text": [
      "\r",
      " 35%|███▍      | 28/81 [42:35<2:14:42, 152.50s/it]"
     ]
    },
    {
     "name": "stdout",
     "output_type": "stream",
     "text": [
      "(1, 1, 5, 2)\n"
     ]
    },
    {
     "name": "stderr",
     "output_type": "stream",
     "text": [
      "\r",
      " 36%|███▌      | 29/81 [42:46<1:35:25, 110.10s/it]"
     ]
    },
    {
     "name": "stdout",
     "output_type": "stream",
     "text": [
      "(1, 1, 5, 4)\n"
     ]
    },
    {
     "name": "stderr",
     "output_type": "stream",
     "text": [
      "\r",
      " 37%|███▋      | 30/81 [42:57<1:08:18, 80.37s/it] "
     ]
    },
    {
     "name": "stdout",
     "output_type": "stream",
     "text": [
      "(1, 1, 30, 1)\n"
     ]
    },
    {
     "name": "stderr",
     "output_type": "stream",
     "text": [
      "\r",
      " 38%|███▊      | 31/81 [43:39<57:32, 69.06s/it]  "
     ]
    },
    {
     "name": "stdout",
     "output_type": "stream",
     "text": [
      "(1, 1, 30, 2)\n"
     ]
    },
    {
     "name": "stderr",
     "output_type": "stream",
     "text": [
      "\r",
      " 40%|███▉      | 32/81 [44:31<52:03, 63.74s/it]"
     ]
    },
    {
     "name": "stdout",
     "output_type": "stream",
     "text": [
      "(1, 1, 30, 4)\n"
     ]
    },
    {
     "name": "stderr",
     "output_type": "stream",
     "text": [
      "\r",
      " 41%|████      | 33/81 [45:26<48:57, 61.19s/it]"
     ]
    },
    {
     "name": "stdout",
     "output_type": "stream",
     "text": [
      "(1, 1, 100, 1)\n"
     ]
    },
    {
     "name": "stderr",
     "output_type": "stream",
     "text": [
      "\r",
      " 42%|████▏     | 34/81 [47:47<1:06:37, 85.06s/it]"
     ]
    },
    {
     "name": "stdout",
     "output_type": "stream",
     "text": [
      "(1, 1, 100, 2)\n"
     ]
    },
    {
     "name": "stderr",
     "output_type": "stream",
     "text": [
      "\r",
      " 43%|████▎     | 35/81 [50:23<1:21:41, 106.56s/it]"
     ]
    },
    {
     "name": "stdout",
     "output_type": "stream",
     "text": [
      "(1, 1, 100, 4)\n"
     ]
    },
    {
     "name": "stderr",
     "output_type": "stream",
     "text": [
      "\r",
      " 44%|████▍     | 36/81 [53:17<1:35:00, 126.68s/it]"
     ]
    },
    {
     "name": "stdout",
     "output_type": "stream",
     "text": [
      "(1, 30, 5, 1)\n"
     ]
    },
    {
     "name": "stderr",
     "output_type": "stream",
     "text": [
      "\r",
      " 46%|████▌     | 37/81 [53:29<1:07:41, 92.32s/it] "
     ]
    },
    {
     "name": "stdout",
     "output_type": "stream",
     "text": [
      "(1, 30, 5, 2)\n"
     ]
    },
    {
     "name": "stderr",
     "output_type": "stream",
     "text": [
      "\r",
      " 47%|████▋     | 38/81 [53:41<48:47, 68.07s/it]  "
     ]
    },
    {
     "name": "stdout",
     "output_type": "stream",
     "text": [
      "(1, 30, 5, 4)\n"
     ]
    },
    {
     "name": "stderr",
     "output_type": "stream",
     "text": [
      "\r",
      " 48%|████▊     | 39/81 [53:53<35:59, 51.43s/it]"
     ]
    },
    {
     "name": "stdout",
     "output_type": "stream",
     "text": [
      "(1, 30, 30, 1)\n"
     ]
    },
    {
     "name": "stderr",
     "output_type": "stream",
     "text": [
      "\r",
      " 49%|████▉     | 40/81 [54:50<36:10, 52.95s/it]"
     ]
    },
    {
     "name": "stdout",
     "output_type": "stream",
     "text": [
      "(1, 30, 30, 2)\n"
     ]
    },
    {
     "name": "stderr",
     "output_type": "stream",
     "text": [
      "\r",
      " 51%|█████     | 41/81 [55:53<37:17, 55.93s/it]"
     ]
    },
    {
     "name": "stdout",
     "output_type": "stream",
     "text": [
      "(1, 30, 30, 4)\n"
     ]
    },
    {
     "name": "stderr",
     "output_type": "stream",
     "text": [
      "\r",
      " 52%|█████▏    | 42/81 [57:01<38:41, 59.53s/it]"
     ]
    },
    {
     "name": "stdout",
     "output_type": "stream",
     "text": [
      "(1, 30, 100, 1)\n"
     ]
    },
    {
     "name": "stderr",
     "output_type": "stream",
     "text": [
      "\r",
      " 53%|█████▎    | 43/81 [1:00:20<1:04:16, 101.50s/it]"
     ]
    },
    {
     "name": "stdout",
     "output_type": "stream",
     "text": [
      "(1, 30, 100, 2)\n"
     ]
    },
    {
     "name": "stderr",
     "output_type": "stream",
     "text": [
      "\r",
      " 54%|█████▍    | 44/81 [1:03:55<1:23:28, 135.37s/it]"
     ]
    },
    {
     "name": "stdout",
     "output_type": "stream",
     "text": [
      "(1, 30, 100, 4)\n"
     ]
    },
    {
     "name": "stderr",
     "output_type": "stream",
     "text": [
      "\r",
      " 56%|█████▌    | 45/81 [1:07:40<1:37:27, 162.44s/it]"
     ]
    },
    {
     "name": "stdout",
     "output_type": "stream",
     "text": [
      "(1, 100, 5, 1)\n"
     ]
    },
    {
     "name": "stderr",
     "output_type": "stream",
     "text": [
      "\r",
      " 57%|█████▋    | 46/81 [1:07:55<1:08:51, 118.04s/it]"
     ]
    },
    {
     "name": "stdout",
     "output_type": "stream",
     "text": [
      "(1, 100, 5, 2)\n"
     ]
    },
    {
     "name": "stderr",
     "output_type": "stream",
     "text": [
      "\r",
      " 58%|█████▊    | 47/81 [1:08:10<49:25, 87.21s/it]   "
     ]
    },
    {
     "name": "stdout",
     "output_type": "stream",
     "text": [
      "(1, 100, 5, 4)\n"
     ]
    },
    {
     "name": "stderr",
     "output_type": "stream",
     "text": [
      "\r",
      " 59%|█████▉    | 48/81 [1:08:26<36:16, 65.97s/it]"
     ]
    },
    {
     "name": "stdout",
     "output_type": "stream",
     "text": [
      "(1, 100, 30, 1)\n"
     ]
    },
    {
     "name": "stderr",
     "output_type": "stream",
     "text": [
      "\r",
      " 60%|██████    | 49/81 [1:09:48<37:46, 70.84s/it]"
     ]
    },
    {
     "name": "stdout",
     "output_type": "stream",
     "text": [
      "(1, 100, 30, 2)\n"
     ]
    },
    {
     "name": "stderr",
     "output_type": "stream",
     "text": [
      "\r",
      " 62%|██████▏   | 50/81 [1:11:16<39:09, 75.78s/it]"
     ]
    },
    {
     "name": "stdout",
     "output_type": "stream",
     "text": [
      "(1, 100, 30, 4)\n"
     ]
    },
    {
     "name": "stderr",
     "output_type": "stream",
     "text": [
      "\r",
      " 63%|██████▎   | 51/81 [1:12:46<40:00, 80.02s/it]"
     ]
    },
    {
     "name": "stdout",
     "output_type": "stream",
     "text": [
      "(1, 100, 100, 1)\n"
     ]
    },
    {
     "name": "stderr",
     "output_type": "stream",
     "text": [
      "\r",
      " 64%|██████▍   | 52/81 [1:17:26<1:07:46, 140.23s/it]"
     ]
    },
    {
     "name": "stdout",
     "output_type": "stream",
     "text": [
      "(1, 100, 100, 2)\n"
     ]
    },
    {
     "name": "stderr",
     "output_type": "stream",
     "text": [
      "\r",
      " 65%|██████▌   | 53/81 [1:22:21<1:27:01, 186.48s/it]"
     ]
    },
    {
     "name": "stdout",
     "output_type": "stream",
     "text": [
      "(1, 100, 100, 4)\n"
     ]
    },
    {
     "name": "stderr",
     "output_type": "stream",
     "text": [
      "\r",
      " 67%|██████▋   | 54/81 [1:27:33<1:40:55, 224.29s/it]"
     ]
    },
    {
     "name": "stdout",
     "output_type": "stream",
     "text": [
      "(10, 1, 5, 1)\n"
     ]
    },
    {
     "name": "stderr",
     "output_type": "stream",
     "text": [
      "\r",
      " 68%|██████▊   | 55/81 [1:27:44<1:09:24, 160.19s/it]"
     ]
    },
    {
     "name": "stdout",
     "output_type": "stream",
     "text": [
      "(10, 1, 5, 2)\n"
     ]
    },
    {
     "name": "stderr",
     "output_type": "stream",
     "text": [
      "\r",
      " 69%|██████▉   | 56/81 [1:27:55<48:09, 115.59s/it]  "
     ]
    },
    {
     "name": "stdout",
     "output_type": "stream",
     "text": [
      "(10, 1, 5, 4)\n"
     ]
    },
    {
     "name": "stderr",
     "output_type": "stream",
     "text": [
      "\r",
      " 70%|███████   | 57/81 [1:28:10<34:06, 85.27s/it] "
     ]
    },
    {
     "name": "stdout",
     "output_type": "stream",
     "text": [
      "(10, 1, 30, 1)\n"
     ]
    },
    {
     "name": "stderr",
     "output_type": "stream",
     "text": [
      "\r",
      " 72%|███████▏  | 58/81 [1:29:05<29:10, 76.09s/it]"
     ]
    },
    {
     "name": "stdout",
     "output_type": "stream",
     "text": [
      "(10, 1, 30, 2)\n"
     ]
    },
    {
     "name": "stderr",
     "output_type": "stream",
     "text": [
      "\r",
      " 73%|███████▎  | 59/81 [1:30:06<26:13, 71.53s/it]"
     ]
    },
    {
     "name": "stdout",
     "output_type": "stream",
     "text": [
      "(10, 1, 30, 4)\n"
     ]
    },
    {
     "name": "stderr",
     "output_type": "stream",
     "text": [
      "\r",
      " 74%|███████▍  | 60/81 [1:31:08<24:03, 68.75s/it]"
     ]
    },
    {
     "name": "stdout",
     "output_type": "stream",
     "text": [
      "(10, 1, 100, 1)\n"
     ]
    },
    {
     "name": "stderr",
     "output_type": "stream",
     "text": [
      "\r",
      " 75%|███████▌  | 61/81 [1:34:11<34:24, 103.21s/it]"
     ]
    },
    {
     "name": "stdout",
     "output_type": "stream",
     "text": [
      "(10, 1, 100, 2)\n"
     ]
    },
    {
     "name": "stderr",
     "output_type": "stream",
     "text": [
      "\r",
      " 77%|███████▋  | 62/81 [1:37:20<40:48, 128.86s/it]"
     ]
    },
    {
     "name": "stdout",
     "output_type": "stream",
     "text": [
      "(10, 1, 100, 4)\n"
     ]
    },
    {
     "name": "stderr",
     "output_type": "stream",
     "text": [
      "\r",
      " 78%|███████▊  | 63/81 [1:40:33<44:26, 148.12s/it]"
     ]
    },
    {
     "name": "stdout",
     "output_type": "stream",
     "text": [
      "(10, 30, 5, 1)\n"
     ]
    },
    {
     "name": "stderr",
     "output_type": "stream",
     "text": [
      "\r",
      " 79%|███████▉  | 64/81 [1:40:46<30:25, 107.41s/it]"
     ]
    },
    {
     "name": "stdout",
     "output_type": "stream",
     "text": [
      "(10, 30, 5, 2)\n"
     ]
    },
    {
     "name": "stderr",
     "output_type": "stream",
     "text": [
      "\r",
      " 80%|████████  | 65/81 [1:41:00<21:12, 79.52s/it] "
     ]
    },
    {
     "name": "stdout",
     "output_type": "stream",
     "text": [
      "(10, 30, 5, 4)\n"
     ]
    },
    {
     "name": "stderr",
     "output_type": "stream",
     "text": [
      "\r",
      " 81%|████████▏ | 66/81 [1:41:13<14:55, 59.67s/it]"
     ]
    },
    {
     "name": "stdout",
     "output_type": "stream",
     "text": [
      "(10, 30, 30, 1)\n"
     ]
    },
    {
     "name": "stderr",
     "output_type": "stream",
     "text": [
      "\r",
      " 83%|████████▎ | 67/81 [1:42:20<14:22, 61.62s/it]"
     ]
    },
    {
     "name": "stdout",
     "output_type": "stream",
     "text": [
      "(10, 30, 30, 2)\n"
     ]
    },
    {
     "name": "stderr",
     "output_type": "stream",
     "text": [
      "\r",
      " 84%|████████▍ | 68/81 [1:43:30<13:53, 64.14s/it]"
     ]
    },
    {
     "name": "stdout",
     "output_type": "stream",
     "text": [
      "(10, 30, 30, 4)\n"
     ]
    },
    {
     "name": "stderr",
     "output_type": "stream",
     "text": [
      "\r",
      " 85%|████████▌ | 69/81 [1:44:39<13:09, 65.83s/it]"
     ]
    },
    {
     "name": "stdout",
     "output_type": "stream",
     "text": [
      "(10, 30, 100, 1)\n"
     ]
    },
    {
     "name": "stderr",
     "output_type": "stream",
     "text": [
      "\r",
      " 86%|████████▋ | 70/81 [1:48:22<20:42, 112.93s/it]"
     ]
    },
    {
     "name": "stdout",
     "output_type": "stream",
     "text": [
      "(10, 30, 100, 2)\n"
     ]
    },
    {
     "name": "stderr",
     "output_type": "stream",
     "text": [
      "\r",
      " 88%|████████▊ | 71/81 [1:52:04<24:15, 145.51s/it]"
     ]
    },
    {
     "name": "stdout",
     "output_type": "stream",
     "text": [
      "(10, 30, 100, 4)\n"
     ]
    },
    {
     "name": "stderr",
     "output_type": "stream",
     "text": [
      "\r",
      " 89%|████████▉ | 72/81 [1:55:59<25:51, 172.40s/it]"
     ]
    },
    {
     "name": "stdout",
     "output_type": "stream",
     "text": [
      "(10, 100, 5, 1)\n"
     ]
    },
    {
     "name": "stderr",
     "output_type": "stream",
     "text": [
      "\r",
      " 90%|█████████ | 73/81 [1:56:17<16:48, 126.01s/it]"
     ]
    },
    {
     "name": "stdout",
     "output_type": "stream",
     "text": [
      "(10, 100, 5, 2)\n"
     ]
    },
    {
     "name": "stderr",
     "output_type": "stream",
     "text": [
      "\r",
      " 91%|█████████▏| 74/81 [1:56:33<10:52, 93.19s/it] "
     ]
    },
    {
     "name": "stdout",
     "output_type": "stream",
     "text": [
      "(10, 100, 5, 4)\n"
     ]
    },
    {
     "name": "stderr",
     "output_type": "stream",
     "text": [
      "\r",
      " 93%|█████████▎| 75/81 [1:56:52<07:04, 70.83s/it]"
     ]
    },
    {
     "name": "stdout",
     "output_type": "stream",
     "text": [
      "(10, 100, 30, 1)\n"
     ]
    },
    {
     "name": "stderr",
     "output_type": "stream",
     "text": [
      "\r",
      " 94%|█████████▍| 76/81 [1:58:25<06:27, 77.44s/it]"
     ]
    },
    {
     "name": "stdout",
     "output_type": "stream",
     "text": [
      "(10, 100, 30, 2)\n"
     ]
    },
    {
     "name": "stderr",
     "output_type": "stream",
     "text": [
      "\r",
      " 95%|█████████▌| 77/81 [1:59:58<05:29, 82.33s/it]"
     ]
    },
    {
     "name": "stdout",
     "output_type": "stream",
     "text": [
      "(10, 100, 30, 4)\n"
     ]
    },
    {
     "name": "stderr",
     "output_type": "stream",
     "text": [
      "\r",
      " 96%|█████████▋| 78/81 [2:01:36<04:20, 86.94s/it]"
     ]
    },
    {
     "name": "stdout",
     "output_type": "stream",
     "text": [
      "(10, 100, 100, 1)\n"
     ]
    },
    {
     "name": "stderr",
     "output_type": "stream",
     "text": [
      "\r",
      " 98%|█████████▊| 79/81 [2:06:41<05:04, 152.25s/it]"
     ]
    },
    {
     "name": "stdout",
     "output_type": "stream",
     "text": [
      "(10, 100, 100, 2)\n"
     ]
    },
    {
     "name": "stderr",
     "output_type": "stream",
     "text": [
      "\r",
      " 99%|█████████▉| 80/81 [2:11:58<03:21, 201.76s/it]"
     ]
    },
    {
     "name": "stdout",
     "output_type": "stream",
     "text": [
      "(10, 100, 100, 4)\n"
     ]
    },
    {
     "name": "stderr",
     "output_type": "stream",
     "text": [
      "100%|██████████| 81/81 [2:17:13<00:00, 101.65s/it]\n"
     ]
    }
   ],
   "source": [
    "for p in tqdm(params):\n",
    "    print(p)\n",
    "    levenshtein_weight, beam_size, max_steps, learning_rate = p\n",
    "    cmd = \\\n",
    "    f'''\n",
    "    python run_cascada.py \n",
    "    --csv_path data/{dataset}/test.csv \n",
    "    --results_path results/{dataset}/cascada\n",
    "    --classifier_path experiments/{dataset}/classification_copynet \n",
    "    --levenshtein_path experiments/{dataset}/deep_levenshtein_copynet \n",
    "    --copynet_path experiments/{dataset}/nonmasked_copynet_with_attention \n",
    "    --levenshtein_weight {levenshtein_weight}\n",
    "    --beam_size {beam_size} \n",
    "    --max_steps {max_steps}\n",
    "    --cuda 0 \n",
    "    --num_updates 5 \n",
    "    --learning_rate {learning_rate} \n",
    "    --sample 100\n",
    "    '''.replace('\\n','')\n",
    "    #break\n",
    "    result = subprocess.run(cmd, stdout=subprocess.PIPE, shell=True)"
   ]
  },
  {
   "cell_type": "code",
   "execution_count": 9,
   "metadata": {},
   "outputs": [
    {
     "data": {
      "text/plain": [
       "'    python run_cascada.py     --csv_path data/insurance/test.csv     --results_path results/insurance/cascada    --classifier_path experiments/insurance/classification_copynet     --levenshtein_path experiments/insurance/deep_levenshtein_copynet     --copynet_path experiments/insurance/nonmasked_copynet_with_attention     --levenshtein_weight 0.1    --beam_size 1     --max_steps 5    --cuda 0     --num_updates 5     --learning_rate 1     --sample 100    '"
      ]
     },
     "execution_count": 9,
     "metadata": {},
     "output_type": "execute_result"
    }
   ],
   "source": [
    "cmd"
   ]
  },
  {
   "cell_type": "code",
   "execution_count": 59,
   "metadata": {},
   "outputs": [],
   "source": [
    "dataset = 'ag_news'"
   ]
  },
  {
   "cell_type": "code",
   "execution_count": 60,
   "metadata": {},
   "outputs": [],
   "source": [
    "base_dir = f'results/{dataset}'"
   ]
  },
  {
   "cell_type": "code",
   "execution_count": 61,
   "metadata": {},
   "outputs": [
    {
     "name": "stdout",
     "output_type": "stream",
     "text": [
      "The autoreload extension is already loaded. To reload it, use:\n",
      "  %reload_ext autoreload\n"
     ]
    }
   ],
   "source": [
    "%load_ext autoreload\n",
    "%autoreload 2"
   ]
  },
  {
   "cell_type": "code",
   "execution_count": 62,
   "metadata": {},
   "outputs": [],
   "source": [
    "model_with_weights = joblib.load(f'results/{dataset}/logit_tfidf.model')\n",
    "model = model_with_weights['model']\n",
    "w = model_with_weights['weights']\n",
    "for method in ['cascada']:\n",
    "    base = os.path.join(base_dir, method)\n",
    "    for folder in os.listdir(base):\n",
    "        if folder != 'backup':\n",
    "            attack_results_path = f'{base}/{folder}/results.csv'\n",
    "            eval_results_path = f'{base}/{folder}/eval_metric.json'\n",
    "            df = pd.read_csv(attack_results_path)\n",
    "            df.rename(columns={'generated_sequence':'adversarial_sequence'}, inplace=True)\n",
    "            metrics = calculate_metrics(model, w, \n",
    "                                    df['label'].values, \n",
    "                                    df['sequence'].values,\n",
    "                                    df['adversarial_sequence'].values)\n",
    "            json.dump(metrics, open(eval_results_path, 'w'))"
   ]
  },
  {
   "cell_type": "code",
   "execution_count": 81,
   "metadata": {},
   "outputs": [
    {
     "data": {
      "text/plain": [
       "array([0.28425745, 0.32533471])"
      ]
     },
     "execution_count": 81,
     "metadata": {},
     "output_type": "execute_result"
    }
   ],
   "source": [
    "w"
   ]
  },
  {
   "cell_type": "code",
   "execution_count": 33,
   "metadata": {},
   "outputs": [],
   "source": [
    "result = []\n",
    "for method in ['cascada']:\n",
    "    base = os.path.join(base_dir, method)\n",
    "    for folder in os.listdir(base):\n",
    "        if folder != 'backup':\n",
    "            args = json.load(open(os.path.join(base, folder, 'args.json')))\n",
    "            metrics = json.load(open(os.path.join(base, folder, 'eval_metric.json')))\n",
    "            args.update(metrics)\n",
    "            result.append({k:args[k] for k in ['roc_auc_drop', 'accuracy_drop', 'probability_drop', 'WER', 'NAD',\n",
    "                                               'levenshtein_weight', 'beam_size', 'max_steps', 'learning_rate']})\n",
    "result = pd.DataFrame(result)"
   ]
  },
  {
   "cell_type": "code",
   "execution_count": 34,
   "metadata": {},
   "outputs": [
    {
     "data": {
      "text/plain": [
       "'results/kaggle_transactions'"
      ]
     },
     "execution_count": 34,
     "metadata": {},
     "output_type": "execute_result"
    }
   ],
   "source": [
    "base_dir"
   ]
  },
  {
   "cell_type": "code",
   "execution_count": 35,
   "metadata": {},
   "outputs": [],
   "source": [
    "sns.set()"
   ]
  },
  {
   "cell_type": "code",
   "execution_count": 36,
   "metadata": {},
   "outputs": [
    {
     "data": {
      "image/png": "[encoded data removed]",
      "text/plain": [
       "<Figure size 1620x360 with 18 Axes>"
      ]
     },
     "metadata": {},
     "output_type": "display_data"
    }
   ],
   "source": [
    "g = sns.pairplot(result, x_vars=result.columns.values, y_vars=['NAD', 'WER'])\n",
    "plt.savefig(os.path.join(base_dir, f'stats_{method}.png'), dpi=150, bbox_inches='tight')"
   ]
  },
  {
   "cell_type": "code",
   "execution_count": 37,
   "metadata": {},
   "outputs": [
    {
     "data": {
      "text/html": [
       "<div>\n",
       "<style scoped>\n",
       "    .dataframe tbody tr th:only-of-type {\n",
       "        vertical-align: middle;\n",
       "    }\n",
       "\n",
       "    .dataframe tbody tr th {\n",
       "        vertical-align: top;\n",
       "    }\n",
       "\n",
       "    .dataframe thead th {\n",
       "        text-align: right;\n",
       "    }\n",
       "</style>\n",
       "<table border=\"1\" class=\"dataframe\">\n",
       "  <thead>\n",
       "    <tr style=\"text-align: right;\">\n",
       "      <th></th>\n",
       "      <th>roc_auc_drop</th>\n",
       "      <th>accuracy_drop</th>\n",
       "      <th>probability_drop</th>\n",
       "      <th>WER</th>\n",
       "      <th>NAD</th>\n",
       "      <th>levenshtein_weight</th>\n",
       "      <th>beam_size</th>\n",
       "      <th>max_steps</th>\n",
       "      <th>learning_rate</th>\n",
       "    </tr>\n",
       "  </thead>\n",
       "  <tbody>\n",
       "    <tr>\n",
       "      <th>12</th>\n",
       "      <td>0.198068</td>\n",
       "      <td>0.15</td>\n",
       "      <td>0.079708</td>\n",
       "      <td>3.15</td>\n",
       "      <td>0.131213</td>\n",
       "      <td>1.0</td>\n",
       "      <td>100</td>\n",
       "      <td>100</td>\n",
       "      <td>2.0</td>\n",
       "    </tr>\n",
       "    <tr>\n",
       "      <th>18</th>\n",
       "      <td>0.220612</td>\n",
       "      <td>0.16</td>\n",
       "      <td>0.088647</td>\n",
       "      <td>3.34</td>\n",
       "      <td>0.128539</td>\n",
       "      <td>1.0</td>\n",
       "      <td>100</td>\n",
       "      <td>30</td>\n",
       "      <td>2.0</td>\n",
       "    </tr>\n",
       "    <tr>\n",
       "      <th>21</th>\n",
       "      <td>0.086151</td>\n",
       "      <td>0.13</td>\n",
       "      <td>0.037243</td>\n",
       "      <td>1.89</td>\n",
       "      <td>0.126397</td>\n",
       "      <td>0.1</td>\n",
       "      <td>1</td>\n",
       "      <td>5</td>\n",
       "      <td>1.0</td>\n",
       "    </tr>\n",
       "    <tr>\n",
       "      <th>38</th>\n",
       "      <td>0.077697</td>\n",
       "      <td>0.13</td>\n",
       "      <td>0.032681</td>\n",
       "      <td>2.03</td>\n",
       "      <td>0.123689</td>\n",
       "      <td>10.0</td>\n",
       "      <td>1</td>\n",
       "      <td>30</td>\n",
       "      <td>1.0</td>\n",
       "    </tr>\n",
       "    <tr>\n",
       "      <th>61</th>\n",
       "      <td>0.077697</td>\n",
       "      <td>0.13</td>\n",
       "      <td>0.032681</td>\n",
       "      <td>2.03</td>\n",
       "      <td>0.123689</td>\n",
       "      <td>10.0</td>\n",
       "      <td>1</td>\n",
       "      <td>100</td>\n",
       "      <td>1.0</td>\n",
       "    </tr>\n",
       "    <tr>\n",
       "      <th>...</th>\n",
       "      <td>...</td>\n",
       "      <td>...</td>\n",
       "      <td>...</td>\n",
       "      <td>...</td>\n",
       "      <td>...</td>\n",
       "      <td>...</td>\n",
       "      <td>...</td>\n",
       "      <td>...</td>\n",
       "      <td>...</td>\n",
       "    </tr>\n",
       "    <tr>\n",
       "      <th>54</th>\n",
       "      <td>0.424718</td>\n",
       "      <td>0.31</td>\n",
       "      <td>0.160928</td>\n",
       "      <td>10.95</td>\n",
       "      <td>0.054111</td>\n",
       "      <td>1.0</td>\n",
       "      <td>1</td>\n",
       "      <td>100</td>\n",
       "      <td>4.0</td>\n",
       "    </tr>\n",
       "    <tr>\n",
       "      <th>36</th>\n",
       "      <td>0.473833</td>\n",
       "      <td>0.39</td>\n",
       "      <td>0.188527</td>\n",
       "      <td>13.80</td>\n",
       "      <td>0.052994</td>\n",
       "      <td>0.1</td>\n",
       "      <td>1</td>\n",
       "      <td>5</td>\n",
       "      <td>4.0</td>\n",
       "    </tr>\n",
       "    <tr>\n",
       "      <th>49</th>\n",
       "      <td>0.464573</td>\n",
       "      <td>0.36</td>\n",
       "      <td>0.182050</td>\n",
       "      <td>12.94</td>\n",
       "      <td>0.052981</td>\n",
       "      <td>1.0</td>\n",
       "      <td>1</td>\n",
       "      <td>5</td>\n",
       "      <td>4.0</td>\n",
       "    </tr>\n",
       "    <tr>\n",
       "      <th>71</th>\n",
       "      <td>0.425926</td>\n",
       "      <td>0.34</td>\n",
       "      <td>0.174067</td>\n",
       "      <td>12.58</td>\n",
       "      <td>0.052413</td>\n",
       "      <td>10.0</td>\n",
       "      <td>1</td>\n",
       "      <td>5</td>\n",
       "      <td>4.0</td>\n",
       "    </tr>\n",
       "    <tr>\n",
       "      <th>67</th>\n",
       "      <td>0.016103</td>\n",
       "      <td>0.01</td>\n",
       "      <td>0.011184</td>\n",
       "      <td>0.56</td>\n",
       "      <td>0.041063</td>\n",
       "      <td>0.1</td>\n",
       "      <td>100</td>\n",
       "      <td>100</td>\n",
       "      <td>1.0</td>\n",
       "    </tr>\n",
       "  </tbody>\n",
       "</table>\n",
       "<p>81 rows × 9 columns</p>\n",
       "</div>"
      ],
      "text/plain": [
       "    roc_auc_drop  accuracy_drop  probability_drop    WER       NAD  \\\n",
       "12      0.198068           0.15          0.079708   3.15  0.131213   \n",
       "18      0.220612           0.16          0.088647   3.34  0.128539   \n",
       "21      0.086151           0.13          0.037243   1.89  0.126397   \n",
       "38      0.077697           0.13          0.032681   2.03  0.123689   \n",
       "61      0.077697           0.13          0.032681   2.03  0.123689   \n",
       "..           ...            ...               ...    ...       ...   \n",
       "54      0.424718           0.31          0.160928  10.95  0.054111   \n",
       "36      0.473833           0.39          0.188527  13.80  0.052994   \n",
       "49      0.464573           0.36          0.182050  12.94  0.052981   \n",
       "71      0.425926           0.34          0.174067  12.58  0.052413   \n",
       "67      0.016103           0.01          0.011184   0.56  0.041063   \n",
       "\n",
       "    levenshtein_weight  beam_size  max_steps  learning_rate  \n",
       "12                 1.0        100        100            2.0  \n",
       "18                 1.0        100         30            2.0  \n",
       "21                 0.1          1          5            1.0  \n",
       "38                10.0          1         30            1.0  \n",
       "61                10.0          1        100            1.0  \n",
       "..                 ...        ...        ...            ...  \n",
       "54                 1.0          1        100            4.0  \n",
       "36                 0.1          1          5            4.0  \n",
       "49                 1.0          1          5            4.0  \n",
       "71                10.0          1          5            4.0  \n",
       "67                 0.1        100        100            1.0  \n",
       "\n",
       "[81 rows x 9 columns]"
      ]
     },
     "execution_count": 37,
     "metadata": {},
     "output_type": "execute_result"
    }
   ],
   "source": [
    "result.sort_values(by='NAD', ascending=False)"
   ]
  },
  {
   "cell_type": "code",
   "execution_count": 39,
   "metadata": {},
   "outputs": [
    {
     "data": {
      "text/html": [
       "<div>\n",
       "<style scoped>\n",
       "    .dataframe tbody tr th:only-of-type {\n",
       "        vertical-align: middle;\n",
       "    }\n",
       "\n",
       "    .dataframe tbody tr th {\n",
       "        vertical-align: top;\n",
       "    }\n",
       "\n",
       "    .dataframe thead th {\n",
       "        text-align: right;\n",
       "    }\n",
       "</style>\n",
       "<table border=\"1\" class=\"dataframe\">\n",
       "  <thead>\n",
       "    <tr style=\"text-align: right;\">\n",
       "      <th></th>\n",
       "      <th>roc_auc_drop</th>\n",
       "      <th>accuracy_drop</th>\n",
       "      <th>probability_drop</th>\n",
       "      <th>WER</th>\n",
       "      <th>NAD</th>\n",
       "      <th>levenshtein_weight</th>\n",
       "      <th>beam_size</th>\n",
       "      <th>max_steps</th>\n",
       "      <th>learning_rate</th>\n",
       "    </tr>\n",
       "  </thead>\n",
       "  <tbody>\n",
       "    <tr>\n",
       "      <th>24</th>\n",
       "      <td>0.036634</td>\n",
       "      <td>0.08</td>\n",
       "      <td>0.018509</td>\n",
       "      <td>0.66</td>\n",
       "      <td>0.120773</td>\n",
       "      <td>1.0</td>\n",
       "      <td>30</td>\n",
       "      <td>30</td>\n",
       "      <td>1.0</td>\n",
       "    </tr>\n",
       "    <tr>\n",
       "      <th>28</th>\n",
       "      <td>0.037440</td>\n",
       "      <td>0.07</td>\n",
       "      <td>0.017609</td>\n",
       "      <td>0.87</td>\n",
       "      <td>0.118357</td>\n",
       "      <td>10.0</td>\n",
       "      <td>30</td>\n",
       "      <td>30</td>\n",
       "      <td>1.0</td>\n",
       "    </tr>\n",
       "    <tr>\n",
       "      <th>58</th>\n",
       "      <td>0.215781</td>\n",
       "      <td>0.17</td>\n",
       "      <td>0.087077</td>\n",
       "      <td>3.68</td>\n",
       "      <td>0.114074</td>\n",
       "      <td>1.0</td>\n",
       "      <td>30</td>\n",
       "      <td>30</td>\n",
       "      <td>2.0</td>\n",
       "    </tr>\n",
       "    <tr>\n",
       "      <th>45</th>\n",
       "      <td>0.219002</td>\n",
       "      <td>0.17</td>\n",
       "      <td>0.088574</td>\n",
       "      <td>4.04</td>\n",
       "      <td>0.107491</td>\n",
       "      <td>0.1</td>\n",
       "      <td>30</td>\n",
       "      <td>30</td>\n",
       "      <td>2.0</td>\n",
       "    </tr>\n",
       "    <tr>\n",
       "      <th>26</th>\n",
       "      <td>0.040660</td>\n",
       "      <td>0.06</td>\n",
       "      <td>0.018633</td>\n",
       "      <td>0.74</td>\n",
       "      <td>0.096618</td>\n",
       "      <td>0.1</td>\n",
       "      <td>30</td>\n",
       "      <td>30</td>\n",
       "      <td>1.0</td>\n",
       "    </tr>\n",
       "    <tr>\n",
       "      <th>69</th>\n",
       "      <td>0.199678</td>\n",
       "      <td>0.14</td>\n",
       "      <td>0.083568</td>\n",
       "      <td>4.31</td>\n",
       "      <td>0.093495</td>\n",
       "      <td>10.0</td>\n",
       "      <td>30</td>\n",
       "      <td>30</td>\n",
       "      <td>2.0</td>\n",
       "    </tr>\n",
       "    <tr>\n",
       "      <th>80</th>\n",
       "      <td>0.499195</td>\n",
       "      <td>0.42</td>\n",
       "      <td>0.187886</td>\n",
       "      <td>9.79</td>\n",
       "      <td>0.081323</td>\n",
       "      <td>1.0</td>\n",
       "      <td>30</td>\n",
       "      <td>30</td>\n",
       "      <td>4.0</td>\n",
       "    </tr>\n",
       "    <tr>\n",
       "      <th>7</th>\n",
       "      <td>0.524155</td>\n",
       "      <td>0.42</td>\n",
       "      <td>0.204365</td>\n",
       "      <td>11.17</td>\n",
       "      <td>0.064954</td>\n",
       "      <td>0.1</td>\n",
       "      <td>30</td>\n",
       "      <td>30</td>\n",
       "      <td>4.0</td>\n",
       "    </tr>\n",
       "    <tr>\n",
       "      <th>22</th>\n",
       "      <td>0.383253</td>\n",
       "      <td>0.31</td>\n",
       "      <td>0.144962</td>\n",
       "      <td>10.05</td>\n",
       "      <td>0.064226</td>\n",
       "      <td>10.0</td>\n",
       "      <td>30</td>\n",
       "      <td>30</td>\n",
       "      <td>4.0</td>\n",
       "    </tr>\n",
       "  </tbody>\n",
       "</table>\n",
       "</div>"
      ],
      "text/plain": [
       "    roc_auc_drop  accuracy_drop  probability_drop    WER       NAD  \\\n",
       "24      0.036634           0.08          0.018509   0.66  0.120773   \n",
       "28      0.037440           0.07          0.017609   0.87  0.118357   \n",
       "58      0.215781           0.17          0.087077   3.68  0.114074   \n",
       "45      0.219002           0.17          0.088574   4.04  0.107491   \n",
       "26      0.040660           0.06          0.018633   0.74  0.096618   \n",
       "69      0.199678           0.14          0.083568   4.31  0.093495   \n",
       "80      0.499195           0.42          0.187886   9.79  0.081323   \n",
       "7       0.524155           0.42          0.204365  11.17  0.064954   \n",
       "22      0.383253           0.31          0.144962  10.05  0.064226   \n",
       "\n",
       "    levenshtein_weight  beam_size  max_steps  learning_rate  \n",
       "24                 1.0         30         30            1.0  \n",
       "28                10.0         30         30            1.0  \n",
       "58                 1.0         30         30            2.0  \n",
       "45                 0.1         30         30            2.0  \n",
       "26                 0.1         30         30            1.0  \n",
       "69                10.0         30         30            2.0  \n",
       "80                 1.0         30         30            4.0  \n",
       "7                  0.1         30         30            4.0  \n",
       "22                10.0         30         30            4.0  "
      ]
     },
     "execution_count": 39,
     "metadata": {},
     "output_type": "execute_result"
    }
   ],
   "source": [
    "result[(result['beam_size'] == 30)&(result['max_steps'] == 30)].sort_values(by='NAD', ascending=False)"
   ]
  },
  {
   "cell_type": "code",
   "execution_count": null,
   "metadata": {},
   "outputs": [],
   "source": []
  },
  {
   "cell_type": "code",
   "execution_count": 46,
   "metadata": {},
   "outputs": [
    {
     "name": "stdout",
     "output_type": "stream",
     "text": [
      "b\"{'accuracy_drop': 0.81, 'roc_auc_drop': 0.812639142814872, 'probability_drop': 0.6869838213611057, 'WER': 6.41, 'NAD': 0.1676344408880983}\\n\"\n",
      "b\"{'accuracy_drop': 0.7, 'roc_auc_drop': 0.1717171717171717, 'probability_drop': 0.3148502648161993, 'WER': 5.45, 'NAD': 0.1300819570174395}\\n\"\n",
      "b\"{'accuracy_drop': 0.36, 'roc_auc_drop': 0.3680645069262523, 'probability_drop': 0.2128507382176137, 'WER': 8.77, 'NAD': 0.11854225796642669}\\n\"\n",
      "b\"{'accuracy_drop': 0.3499999999999999, 'roc_auc_drop': 0.3681561996779388, 'probability_drop': 0.20812382491394066, 'WER': 10.13, 'NAD': 0.09894366754297998}\\n\"\n"
     ]
    }
   ],
   "source": [
    "for dataset in ['ag_news', 'insurance', 'ai_academy_data', 'kaggle_transactions']:\n",
    "    cmd = f\"\"\"\n",
    "    python run_hotflip.py \n",
    "    --csv_path data/{dataset}/test.csv \n",
    "    --results_path results/{dataset}/hotflip\n",
    "    --classifier_path experiments/{dataset}/classifier_basic \n",
    "    --sample 100\n",
    "    \"\"\".replace('\\n','')\n",
    "    result = subprocess.run(cmd, stdout=subprocess.PIPE, shell=True)\n",
    "    \n",
    "    xs = os.listdir(f'results/{dataset}/hotflip')\n",
    "    x = np.sort(xs)[-1]\n",
    "    cmd = f\"\"\"\n",
    "     python eval.py \n",
    "        -mp results/{dataset}/logit_tfidf.model \n",
    "        -arp results/{dataset}/hotflip/{x}/results.csv \n",
    "        -erp results/{dataset}/hotflip/{x}/eval_metric.json\n",
    "    \"\"\".replace('\\n','')\n",
    "    result = subprocess.run(cmd, stdout=subprocess.PIPE, shell=True)\n",
    "    print(result.stdout)"
   ]
  },
  {
   "cell_type": "code",
   "execution_count": null,
   "metadata": {},
   "outputs": [],
   "source": []
  }
 ],
 "metadata": {
  "kernelspec": {
   "display_name": "Python [conda env:adat] *",
   "language": "python",
   "name": "conda-env-adat-py"
  },
  "language_info": {
   "codemirror_mode": {
    "name": "ipython",
    "version": 3
   },
   "file_extension": ".py",
   "mimetype": "text/x-python",
   "name": "python",
   "nbconvert_exporter": "python",
   "pygments_lexer": "ipython3",
   "version": "3.6.1"
  }
 },
 "nbformat": 4,
 "nbformat_minor": 4
}
