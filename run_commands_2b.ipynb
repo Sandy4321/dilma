{
 "cells": [
  {
   "cell_type": "code",
   "execution_count": 1,
   "metadata": {},
   "outputs": [],
   "source": [
    "import subprocess\n",
    "import pandas as pd\n",
    "import os"
   ]
  },
  {
   "cell_type": "code",
   "execution_count": 2,
   "metadata": {},
   "outputs": [],
   "source": [
    "from sklearn.model_selection import ParameterSampler\n",
    "import seaborn as sns\n",
    "import matplotlib.pyplot as plt\n",
    "%matplotlib inline\n",
    "from tqdm import tqdm\n",
    "import numpy as np\n",
    "import itertools\n",
    "import time"
   ]
  },
  {
   "cell_type": "markdown",
   "metadata": {},
   "source": [
    "## make mcmc grisearch"
   ]
  },
  {
   "cell_type": "code",
   "execution_count": 3,
   "metadata": {},
   "outputs": [],
   "source": [
    "stds = [0.01, 0.05, 0.1, 0.2, 0.5, 1.0]\n",
    "sigma_classs = [0.2, 0.5, 0.75, 1.0, 1.25, 1.5]\n",
    "#beam_sizes = [1, 30, 100]\n",
    "#num_stepss = [5, 30, 100]\n",
    "sigma_wers = [0.2, 0.5, 0.75, 1.0, 1.25, 1.5]"
   ]
  },
  {
   "cell_type": "code",
   "execution_count": 4,
   "metadata": {},
   "outputs": [],
   "source": [
    "sampler = ParameterSampler(\n",
    "{'std':stds, 'sigma_class':sigma_classs, 'sigma_wer':sigma_wers}, 30)"
   ]
  },
  {
   "cell_type": "code",
   "execution_count": 6,
   "metadata": {},
   "outputs": [],
   "source": [
    "#params = list(itertools.product(beam_sizes, num_stepss))"
   ]
  },
  {
   "cell_type": "code",
   "execution_count": 18,
   "metadata": {},
   "outputs": [],
   "source": [
    "dataset = 'ai_academy_data'\n",
    "#dataset = 'ag_news'"
   ]
  },
  {
   "cell_type": "code",
   "execution_count": 8,
   "metadata": {},
   "outputs": [],
   "source": [
    "beam_size, num_steps = 30, 30"
   ]
  },
  {
   "cell_type": "code",
   "execution_count": 9,
   "metadata": {},
   "outputs": [
    {
     "name": "stderr",
     "output_type": "stream",
     "text": [
      "\r",
      "  0%|          | 0/30 [00:00<?, ?it/s]"
     ]
    },
    {
     "name": "stdout",
     "output_type": "stream",
     "text": [
      "30 30 0.05 1.25 0.2\n",
      "    python run_mcmc.py     --csv_path data/ag_news/test.csv     --results_path results/ag_news/mcmc     --classifier_path experiments/ag_news/classifier_basic     --copynet_path experiments/ag_news/nonmasked_copynet     --beam_size 30      --cuda 0     --sample 100     --std 0.05    --sigma_class 0.2    --sigma_wer 1.25    --num_steps 30    \n"
     ]
    },
    {
     "name": "stderr",
     "output_type": "stream",
     "text": [
      "\r",
      "  3%|▎         | 1/30 [00:01<00:48,  1.66s/it]"
     ]
    },
    {
     "name": "stdout",
     "output_type": "stream",
     "text": [
      "30 30 0.5 1.0 1.0\n",
      "    python run_mcmc.py     --csv_path data/ag_news/test.csv     --results_path results/ag_news/mcmc     --classifier_path experiments/ag_news/classifier_basic     --copynet_path experiments/ag_news/nonmasked_copynet     --beam_size 30      --cuda 0     --sample 100     --std 0.5    --sigma_class 1.0    --sigma_wer 1.0    --num_steps 30    \n"
     ]
    },
    {
     "name": "stderr",
     "output_type": "stream",
     "text": [
      "\r",
      "  7%|▋         | 2/30 [00:03<00:46,  1.67s/it]"
     ]
    },
    {
     "name": "stdout",
     "output_type": "stream",
     "text": [
      "30 30 0.05 1.5 0.5\n",
      "    python run_mcmc.py     --csv_path data/ag_news/test.csv     --results_path results/ag_news/mcmc     --classifier_path experiments/ag_news/classifier_basic     --copynet_path experiments/ag_news/nonmasked_copynet     --beam_size 30      --cuda 0     --sample 100     --std 0.05    --sigma_class 0.5    --sigma_wer 1.5    --num_steps 30    \n"
     ]
    },
    {
     "name": "stderr",
     "output_type": "stream",
     "text": [
      "\r",
      " 10%|█         | 3/30 [00:05<00:45,  1.67s/it]"
     ]
    },
    {
     "name": "stdout",
     "output_type": "stream",
     "text": [
      "30 30 0.05 1.5 1.5\n",
      "    python run_mcmc.py     --csv_path data/ag_news/test.csv     --results_path results/ag_news/mcmc     --classifier_path experiments/ag_news/classifier_basic     --copynet_path experiments/ag_news/nonmasked_copynet     --beam_size 30      --cuda 0     --sample 100     --std 0.05    --sigma_class 1.5    --sigma_wer 1.5    --num_steps 30    \n"
     ]
    },
    {
     "name": "stderr",
     "output_type": "stream",
     "text": [
      "\r",
      " 13%|█▎        | 4/30 [00:06<00:43,  1.67s/it]"
     ]
    },
    {
     "name": "stdout",
     "output_type": "stream",
     "text": [
      "30 30 1.0 1.0 1.0\n",
      "    python run_mcmc.py     --csv_path data/ag_news/test.csv     --results_path results/ag_news/mcmc     --classifier_path experiments/ag_news/classifier_basic     --copynet_path experiments/ag_news/nonmasked_copynet     --beam_size 30      --cuda 0     --sample 100     --std 1.0    --sigma_class 1.0    --sigma_wer 1.0    --num_steps 30    \n"
     ]
    },
    {
     "name": "stderr",
     "output_type": "stream",
     "text": [
      "\r",
      " 17%|█▋        | 5/30 [00:08<00:41,  1.66s/it]"
     ]
    },
    {
     "name": "stdout",
     "output_type": "stream",
     "text": [
      "30 30 0.01 1.25 1.0\n",
      "    python run_mcmc.py     --csv_path data/ag_news/test.csv     --results_path results/ag_news/mcmc     --classifier_path experiments/ag_news/classifier_basic     --copynet_path experiments/ag_news/nonmasked_copynet     --beam_size 30      --cuda 0     --sample 100     --std 0.01    --sigma_class 1.0    --sigma_wer 1.25    --num_steps 30    \n"
     ]
    },
    {
     "name": "stderr",
     "output_type": "stream",
     "text": [
      "\r",
      " 20%|██        | 6/30 [00:09<00:39,  1.66s/it]"
     ]
    },
    {
     "name": "stdout",
     "output_type": "stream",
     "text": [
      "30 30 0.1 0.5 1.25\n",
      "    python run_mcmc.py     --csv_path data/ag_news/test.csv     --results_path results/ag_news/mcmc     --classifier_path experiments/ag_news/classifier_basic     --copynet_path experiments/ag_news/nonmasked_copynet     --beam_size 30      --cuda 0     --sample 100     --std 0.1    --sigma_class 1.25    --sigma_wer 0.5    --num_steps 30    \n"
     ]
    },
    {
     "name": "stderr",
     "output_type": "stream",
     "text": [
      "\r",
      " 23%|██▎       | 7/30 [00:11<00:38,  1.66s/it]"
     ]
    },
    {
     "name": "stdout",
     "output_type": "stream",
     "text": [
      "30 30 1.0 0.5 1.25\n",
      "    python run_mcmc.py     --csv_path data/ag_news/test.csv     --results_path results/ag_news/mcmc     --classifier_path experiments/ag_news/classifier_basic     --copynet_path experiments/ag_news/nonmasked_copynet     --beam_size 30      --cuda 0     --sample 100     --std 1.0    --sigma_class 1.25    --sigma_wer 0.5    --num_steps 30    \n"
     ]
    },
    {
     "name": "stderr",
     "output_type": "stream",
     "text": [
      "\r",
      " 27%|██▋       | 8/30 [00:13<00:36,  1.66s/it]"
     ]
    },
    {
     "name": "stdout",
     "output_type": "stream",
     "text": [
      "30 30 1.0 1.0 1.25\n",
      "    python run_mcmc.py     --csv_path data/ag_news/test.csv     --results_path results/ag_news/mcmc     --classifier_path experiments/ag_news/classifier_basic     --copynet_path experiments/ag_news/nonmasked_copynet     --beam_size 30      --cuda 0     --sample 100     --std 1.0    --sigma_class 1.25    --sigma_wer 1.0    --num_steps 30    \n"
     ]
    },
    {
     "name": "stderr",
     "output_type": "stream",
     "text": [
      "\r",
      " 30%|███       | 9/30 [00:14<00:34,  1.66s/it]"
     ]
    },
    {
     "name": "stdout",
     "output_type": "stream",
     "text": [
      "30 30 0.01 0.2 0.5\n",
      "    python run_mcmc.py     --csv_path data/ag_news/test.csv     --results_path results/ag_news/mcmc     --classifier_path experiments/ag_news/classifier_basic     --copynet_path experiments/ag_news/nonmasked_copynet     --beam_size 30      --cuda 0     --sample 100     --std 0.01    --sigma_class 0.5    --sigma_wer 0.2    --num_steps 30    \n"
     ]
    },
    {
     "name": "stderr",
     "output_type": "stream",
     "text": [
      "\r",
      " 33%|███▎      | 10/30 [00:16<00:32,  1.65s/it]"
     ]
    },
    {
     "name": "stdout",
     "output_type": "stream",
     "text": [
      "30 30 1.0 0.5 0.2\n",
      "    python run_mcmc.py     --csv_path data/ag_news/test.csv     --results_path results/ag_news/mcmc     --classifier_path experiments/ag_news/classifier_basic     --copynet_path experiments/ag_news/nonmasked_copynet     --beam_size 30      --cuda 0     --sample 100     --std 1.0    --sigma_class 0.2    --sigma_wer 0.5    --num_steps 30    \n"
     ]
    },
    {
     "name": "stderr",
     "output_type": "stream",
     "text": [
      "\r",
      " 37%|███▋      | 11/30 [00:18<00:31,  1.65s/it]"
     ]
    },
    {
     "name": "stdout",
     "output_type": "stream",
     "text": [
      "30 30 0.05 0.2 0.2\n",
      "    python run_mcmc.py     --csv_path data/ag_news/test.csv     --results_path results/ag_news/mcmc     --classifier_path experiments/ag_news/classifier_basic     --copynet_path experiments/ag_news/nonmasked_copynet     --beam_size 30      --cuda 0     --sample 100     --std 0.05    --sigma_class 0.2    --sigma_wer 0.2    --num_steps 30    \n"
     ]
    },
    {
     "name": "stderr",
     "output_type": "stream",
     "text": [
      "\r",
      " 40%|████      | 12/30 [00:21<00:37,  2.06s/it]"
     ]
    },
    {
     "name": "stdout",
     "output_type": "stream",
     "text": [
      "30 30 0.1 0.5 0.2\n",
      "    python run_mcmc.py     --csv_path data/ag_news/test.csv     --results_path results/ag_news/mcmc     --classifier_path experiments/ag_news/classifier_basic     --copynet_path experiments/ag_news/nonmasked_copynet     --beam_size 30      --cuda 0     --sample 100     --std 0.1    --sigma_class 0.2    --sigma_wer 0.5    --num_steps 30    \n"
     ]
    },
    {
     "name": "stderr",
     "output_type": "stream",
     "text": [
      "\r",
      " 43%|████▎     | 13/30 [00:22<00:32,  1.94s/it]"
     ]
    },
    {
     "name": "stdout",
     "output_type": "stream",
     "text": [
      "30 30 1.0 1.5 0.5\n",
      "    python run_mcmc.py     --csv_path data/ag_news/test.csv     --results_path results/ag_news/mcmc     --classifier_path experiments/ag_news/classifier_basic     --copynet_path experiments/ag_news/nonmasked_copynet     --beam_size 30      --cuda 0     --sample 100     --std 1.0    --sigma_class 0.5    --sigma_wer 1.5    --num_steps 30    \n"
     ]
    },
    {
     "name": "stderr",
     "output_type": "stream",
     "text": [
      "\r",
      " 47%|████▋     | 14/30 [00:24<00:29,  1.86s/it]"
     ]
    },
    {
     "name": "stdout",
     "output_type": "stream",
     "text": [
      "30 30 1.0 0.5 1.0\n",
      "    python run_mcmc.py     --csv_path data/ag_news/test.csv     --results_path results/ag_news/mcmc     --classifier_path experiments/ag_news/classifier_basic     --copynet_path experiments/ag_news/nonmasked_copynet     --beam_size 30      --cuda 0     --sample 100     --std 1.0    --sigma_class 1.0    --sigma_wer 0.5    --num_steps 30    \n"
     ]
    },
    {
     "name": "stderr",
     "output_type": "stream",
     "text": [
      "\r",
      " 50%|█████     | 15/30 [00:26<00:26,  1.80s/it]"
     ]
    },
    {
     "name": "stdout",
     "output_type": "stream",
     "text": [
      "30 30 0.5 1.5 0.5\n",
      "    python run_mcmc.py     --csv_path data/ag_news/test.csv     --results_path results/ag_news/mcmc     --classifier_path experiments/ag_news/classifier_basic     --copynet_path experiments/ag_news/nonmasked_copynet     --beam_size 30      --cuda 0     --sample 100     --std 0.5    --sigma_class 0.5    --sigma_wer 1.5    --num_steps 30    \n"
     ]
    },
    {
     "name": "stderr",
     "output_type": "stream",
     "text": [
      "\r",
      " 53%|█████▎    | 16/30 [00:27<00:24,  1.75s/it]"
     ]
    },
    {
     "name": "stdout",
     "output_type": "stream",
     "text": [
      "30 30 0.2 1.0 1.0\n",
      "    python run_mcmc.py     --csv_path data/ag_news/test.csv     --results_path results/ag_news/mcmc     --classifier_path experiments/ag_news/classifier_basic     --copynet_path experiments/ag_news/nonmasked_copynet     --beam_size 30      --cuda 0     --sample 100     --std 0.2    --sigma_class 1.0    --sigma_wer 1.0    --num_steps 30    \n"
     ]
    },
    {
     "name": "stderr",
     "output_type": "stream",
     "text": [
      "\r",
      " 57%|█████▋    | 17/30 [00:29<00:22,  1.72s/it]"
     ]
    },
    {
     "name": "stdout",
     "output_type": "stream",
     "text": [
      "30 30 0.5 0.75 0.5\n",
      "    python run_mcmc.py     --csv_path data/ag_news/test.csv     --results_path results/ag_news/mcmc     --classifier_path experiments/ag_news/classifier_basic     --copynet_path experiments/ag_news/nonmasked_copynet     --beam_size 30      --cuda 0     --sample 100     --std 0.5    --sigma_class 0.5    --sigma_wer 0.75    --num_steps 30    \n"
     ]
    },
    {
     "name": "stderr",
     "output_type": "stream",
     "text": [
      "\r",
      " 60%|██████    | 18/30 [00:31<00:20,  1.71s/it]"
     ]
    },
    {
     "name": "stdout",
     "output_type": "stream",
     "text": [
      "30 30 0.2 0.5 0.2\n",
      "    python run_mcmc.py     --csv_path data/ag_news/test.csv     --results_path results/ag_news/mcmc     --classifier_path experiments/ag_news/classifier_basic     --copynet_path experiments/ag_news/nonmasked_copynet     --beam_size 30      --cuda 0     --sample 100     --std 0.2    --sigma_class 0.2    --sigma_wer 0.5    --num_steps 30    \n"
     ]
    },
    {
     "name": "stderr",
     "output_type": "stream",
     "text": [
      "\r",
      " 63%|██████▎   | 19/30 [00:32<00:18,  1.70s/it]"
     ]
    },
    {
     "name": "stdout",
     "output_type": "stream",
     "text": [
      "30 30 0.2 1.5 0.75\n",
      "    python run_mcmc.py     --csv_path data/ag_news/test.csv     --results_path results/ag_news/mcmc     --classifier_path experiments/ag_news/classifier_basic     --copynet_path experiments/ag_news/nonmasked_copynet     --beam_size 30      --cuda 0     --sample 100     --std 0.2    --sigma_class 0.75    --sigma_wer 1.5    --num_steps 30    \n"
     ]
    },
    {
     "name": "stderr",
     "output_type": "stream",
     "text": [
      "\r",
      " 67%|██████▋   | 20/30 [00:34<00:16,  1.69s/it]"
     ]
    },
    {
     "name": "stdout",
     "output_type": "stream",
     "text": [
      "30 30 0.01 1.25 0.2\n",
      "    python run_mcmc.py     --csv_path data/ag_news/test.csv     --results_path results/ag_news/mcmc     --classifier_path experiments/ag_news/classifier_basic     --copynet_path experiments/ag_news/nonmasked_copynet     --beam_size 30      --cuda 0     --sample 100     --std 0.01    --sigma_class 0.2    --sigma_wer 1.25    --num_steps 30    \n"
     ]
    },
    {
     "name": "stderr",
     "output_type": "stream",
     "text": [
      "\r",
      " 70%|███████   | 21/30 [00:36<00:15,  1.69s/it]"
     ]
    },
    {
     "name": "stdout",
     "output_type": "stream",
     "text": [
      "30 30 0.2 1.0 0.5\n",
      "    python run_mcmc.py     --csv_path data/ag_news/test.csv     --results_path results/ag_news/mcmc     --classifier_path experiments/ag_news/classifier_basic     --copynet_path experiments/ag_news/nonmasked_copynet     --beam_size 30      --cuda 0     --sample 100     --std 0.2    --sigma_class 0.5    --sigma_wer 1.0    --num_steps 30    \n"
     ]
    },
    {
     "name": "stderr",
     "output_type": "stream",
     "text": [
      "\r",
      " 73%|███████▎  | 22/30 [00:37<00:13,  1.70s/it]"
     ]
    },
    {
     "name": "stdout",
     "output_type": "stream",
     "text": [
      "30 30 0.1 1.25 0.5\n",
      "    python run_mcmc.py     --csv_path data/ag_news/test.csv     --results_path results/ag_news/mcmc     --classifier_path experiments/ag_news/classifier_basic     --copynet_path experiments/ag_news/nonmasked_copynet     --beam_size 30      --cuda 0     --sample 100     --std 0.1    --sigma_class 0.5    --sigma_wer 1.25    --num_steps 30    \n"
     ]
    },
    {
     "name": "stderr",
     "output_type": "stream",
     "text": [
      "\r",
      " 77%|███████▋  | 23/30 [00:39<00:11,  1.70s/it]"
     ]
    },
    {
     "name": "stdout",
     "output_type": "stream",
     "text": [
      "30 30 0.2 0.75 1.5\n",
      "    python run_mcmc.py     --csv_path data/ag_news/test.csv     --results_path results/ag_news/mcmc     --classifier_path experiments/ag_news/classifier_basic     --copynet_path experiments/ag_news/nonmasked_copynet     --beam_size 30      --cuda 0     --sample 100     --std 0.2    --sigma_class 1.5    --sigma_wer 0.75    --num_steps 30    \n"
     ]
    },
    {
     "name": "stderr",
     "output_type": "stream",
     "text": [
      "\r",
      " 80%|████████  | 24/30 [00:41<00:10,  1.69s/it]"
     ]
    },
    {
     "name": "stdout",
     "output_type": "stream",
     "text": [
      "30 30 1.0 0.2 0.2\n",
      "    python run_mcmc.py     --csv_path data/ag_news/test.csv     --results_path results/ag_news/mcmc     --classifier_path experiments/ag_news/classifier_basic     --copynet_path experiments/ag_news/nonmasked_copynet     --beam_size 30      --cuda 0     --sample 100     --std 1.0    --sigma_class 0.2    --sigma_wer 0.2    --num_steps 30    \n"
     ]
    },
    {
     "name": "stderr",
     "output_type": "stream",
     "text": [
      "\r",
      " 83%|████████▎ | 25/30 [00:42<00:08,  1.68s/it]"
     ]
    },
    {
     "name": "stdout",
     "output_type": "stream",
     "text": [
      "30 30 0.1 1.0 0.2\n",
      "    python run_mcmc.py     --csv_path data/ag_news/test.csv     --results_path results/ag_news/mcmc     --classifier_path experiments/ag_news/classifier_basic     --copynet_path experiments/ag_news/nonmasked_copynet     --beam_size 30      --cuda 0     --sample 100     --std 0.1    --sigma_class 0.2    --sigma_wer 1.0    --num_steps 30    \n"
     ]
    },
    {
     "name": "stderr",
     "output_type": "stream",
     "text": [
      "\r",
      " 87%|████████▋ | 26/30 [00:44<00:06,  1.68s/it]"
     ]
    },
    {
     "name": "stdout",
     "output_type": "stream",
     "text": [
      "30 30 0.5 0.2 0.2\n",
      "    python run_mcmc.py     --csv_path data/ag_news/test.csv     --results_path results/ag_news/mcmc     --classifier_path experiments/ag_news/classifier_basic     --copynet_path experiments/ag_news/nonmasked_copynet     --beam_size 30      --cuda 0     --sample 100     --std 0.5    --sigma_class 0.2    --sigma_wer 0.2    --num_steps 30    \n"
     ]
    },
    {
     "name": "stderr",
     "output_type": "stream",
     "text": [
      "\r",
      " 90%|█████████ | 27/30 [00:46<00:05,  1.67s/it]"
     ]
    },
    {
     "name": "stdout",
     "output_type": "stream",
     "text": [
      "30 30 1.0 0.75 0.2\n",
      "    python run_mcmc.py     --csv_path data/ag_news/test.csv     --results_path results/ag_news/mcmc     --classifier_path experiments/ag_news/classifier_basic     --copynet_path experiments/ag_news/nonmasked_copynet     --beam_size 30      --cuda 0     --sample 100     --std 1.0    --sigma_class 0.2    --sigma_wer 0.75    --num_steps 30    \n"
     ]
    },
    {
     "name": "stderr",
     "output_type": "stream",
     "text": [
      "\r",
      " 93%|█████████▎| 28/30 [00:47<00:03,  1.67s/it]"
     ]
    },
    {
     "name": "stdout",
     "output_type": "stream",
     "text": [
      "30 30 0.2 1.25 1.5\n",
      "    python run_mcmc.py     --csv_path data/ag_news/test.csv     --results_path results/ag_news/mcmc     --classifier_path experiments/ag_news/classifier_basic     --copynet_path experiments/ag_news/nonmasked_copynet     --beam_size 30      --cuda 0     --sample 100     --std 0.2    --sigma_class 1.5    --sigma_wer 1.25    --num_steps 30    \n"
     ]
    },
    {
     "name": "stderr",
     "output_type": "stream",
     "text": [
      "\r",
      " 97%|█████████▋| 29/30 [00:49<00:01,  1.66s/it]"
     ]
    },
    {
     "name": "stdout",
     "output_type": "stream",
     "text": [
      "30 30 1.0 0.75 0.5\n",
      "    python run_mcmc.py     --csv_path data/ag_news/test.csv     --results_path results/ag_news/mcmc     --classifier_path experiments/ag_news/classifier_basic     --copynet_path experiments/ag_news/nonmasked_copynet     --beam_size 30      --cuda 0     --sample 100     --std 1.0    --sigma_class 0.5    --sigma_wer 0.75    --num_steps 30    \n"
     ]
    },
    {
     "name": "stderr",
     "output_type": "stream",
     "text": [
      "100%|██████████| 30/30 [00:51<00:00,  1.71s/it]\n"
     ]
    }
   ],
   "source": [
    "pbar = tqdm(total=sampler.n_iter)\n",
    "#for beam_size, num_steps in params:\n",
    "for s in sampler:\n",
    "    std = s['std']\n",
    "    sigma_wer = s['sigma_wer']\n",
    "    sigma_class = s['sigma_class']\n",
    "    print(beam_size, num_steps, std, sigma_wer, sigma_class)\n",
    "    cmd = \\\n",
    "    f'''\n",
    "    python run_mcmc.py \n",
    "    --csv_path data/{dataset}/test.csv \n",
    "    --results_path results/{dataset}/mcmc \n",
    "    --classifier_path experiments/{dataset}/classifier_basic \n",
    "    --copynet_path experiments/{dataset}/nonmasked_copynet \n",
    "    --beam_size {beam_size}  \n",
    "    --cuda 0 \n",
    "    --sample 100 \n",
    "    --std {std}\n",
    "    --sigma_class {sigma_class}\n",
    "    --sigma_wer {sigma_wer}\n",
    "    --num_steps {num_steps}\n",
    "    '''.replace('\\n','')\n",
    "    print(cmd)\n",
    "    result = subprocess.run(cmd, stdout=subprocess.PIPE, shell=True)\n",
    "    pbar.update(1)\n",
    "pbar.close()"
   ]
  },
  {
   "cell_type": "code",
   "execution_count": null,
   "metadata": {},
   "outputs": [],
   "source": []
  },
  {
   "cell_type": "code",
   "execution_count": null,
   "metadata": {},
   "outputs": [],
   "source": []
  },
  {
   "cell_type": "markdown",
   "metadata": {},
   "source": [
    "## make random grisearch"
   ]
  },
  {
   "cell_type": "code",
   "execution_count": 19,
   "metadata": {},
   "outputs": [],
   "source": [
    "beam_size = 1"
   ]
  },
  {
   "cell_type": "code",
   "execution_count": 20,
   "metadata": {},
   "outputs": [
    {
     "data": {
      "text/plain": [
       "'ai_academy_data'"
      ]
     },
     "execution_count": 20,
     "metadata": {},
     "output_type": "execute_result"
    }
   ],
   "source": [
    "dataset"
   ]
  },
  {
   "cell_type": "code",
   "execution_count": 33,
   "metadata": {},
   "outputs": [
    {
     "name": "stderr",
     "output_type": "stream",
     "text": [
      "\r",
      "  0%|          | 0/3 [00:00<?, ?it/s]"
     ]
    },
    {
     "name": "stdout",
     "output_type": "stream",
     "text": [
      "1 30 2\n",
      "    python run_mcmc.py     --csv_path data/ai_academy_data/test.csv     --results_path results/ai_academy_data/random     --classifier_path experiments/ai_academy_data/classifier_basic     --copynet_path experiments/ai_academy_data/nonmasked_copynet     --beam_size 1      --cuda 0     --sample 100     --std 2    --num_steps 30    --random    \n"
     ]
    },
    {
     "name": "stderr",
     "output_type": "stream",
     "text": [
      "\r",
      " 33%|███▎      | 1/3 [00:19<00:38, 19.30s/it]"
     ]
    },
    {
     "name": "stdout",
     "output_type": "stream",
     "text": [
      "1 30 5\n",
      "    python run_mcmc.py     --csv_path data/ai_academy_data/test.csv     --results_path results/ai_academy_data/random     --classifier_path experiments/ai_academy_data/classifier_basic     --copynet_path experiments/ai_academy_data/nonmasked_copynet     --beam_size 1      --cuda 0     --sample 100     --std 5    --num_steps 30    --random    \n"
     ]
    },
    {
     "name": "stderr",
     "output_type": "stream",
     "text": [
      "\r",
      " 67%|██████▋   | 2/3 [00:37<00:18, 18.83s/it]"
     ]
    },
    {
     "name": "stdout",
     "output_type": "stream",
     "text": [
      "1 30 10\n",
      "    python run_mcmc.py     --csv_path data/ai_academy_data/test.csv     --results_path results/ai_academy_data/random     --classifier_path experiments/ai_academy_data/classifier_basic     --copynet_path experiments/ai_academy_data/nonmasked_copynet     --beam_size 1      --cuda 0     --sample 100     --std 10    --num_steps 30    --random    \n"
     ]
    },
    {
     "name": "stderr",
     "output_type": "stream",
     "text": [
      "100%|██████████| 3/3 [00:56<00:00, 18.75s/it]\n"
     ]
    }
   ],
   "source": [
    "#for beam_size, num_steps in params:\n",
    "for std in tqdm(std):\n",
    "    print(beam_size, num_steps, std)\n",
    "    cmd = \\\n",
    "    f'''\n",
    "    python run_mcmc.py \n",
    "    --csv_path data/{dataset}/test.csv \n",
    "    --results_path results/{dataset}/random \n",
    "    --classifier_path experiments/{dataset}/classifier_basic \n",
    "    --copynet_path experiments/{dataset}/nonmasked_copynet \n",
    "    --beam_size {beam_size}  \n",
    "    --cuda 0 \n",
    "    --sample 100 \n",
    "    --std {std}\n",
    "    --num_steps {num_steps}\n",
    "    --random\n",
    "    '''.replace('\\n','')\n",
    "    print(cmd)\n",
    "    result = subprocess.run(cmd, stdout=subprocess.PIPE, shell=True)"
   ]
  },
  {
   "cell_type": "code",
   "execution_count": null,
   "metadata": {},
   "outputs": [],
   "source": []
  },
  {
   "cell_type": "code",
   "execution_count": null,
   "metadata": {},
   "outputs": [],
   "source": []
  },
  {
   "cell_type": "code",
   "execution_count": 3,
   "metadata": {},
   "outputs": [],
   "source": [
    "from eval import calculate_nad, calculate_metrics\n",
    "import joblib\n",
    "import json\n",
    "from adat.models.classification_model import LogisticRegressionOnTfIdf"
   ]
  },
  {
   "cell_type": "code",
   "execution_count": 4,
   "metadata": {},
   "outputs": [
    {
     "ename": "NameError",
     "evalue": "name 'dataset' is not defined",
     "output_type": "error",
     "traceback": [
      "\u001b[0;31m---------------------------------------------------------------------------\u001b[0m",
      "\u001b[0;31mNameError\u001b[0m                                 Traceback (most recent call last)",
      "\u001b[0;32m<ipython-input-4-9af629bd0f93>\u001b[0m in \u001b[0;36m<module>\u001b[0;34m\u001b[0m\n\u001b[0;32m----> 1\u001b[0;31m \u001b[0mbase_dir\u001b[0m \u001b[0;34m=\u001b[0m \u001b[0;34mf'results/{dataset}'\u001b[0m\u001b[0;34m\u001b[0m\u001b[0m\n\u001b[0m",
      "\u001b[0;31mNameError\u001b[0m: name 'dataset' is not defined"
     ]
    }
   ],
   "source": [
    "base_dir = f'results/{dataset}'"
   ]
  },
  {
   "cell_type": "code",
   "execution_count": 36,
   "metadata": {},
   "outputs": [
    {
     "data": {
      "text/plain": [
       "'results/ai_academy_data'"
      ]
     },
     "execution_count": 36,
     "metadata": {},
     "output_type": "execute_result"
    }
   ],
   "source": [
    "base_dir"
   ]
  },
  {
   "cell_type": "code",
   "execution_count": 37,
   "metadata": {},
   "outputs": [],
   "source": [
    "model = joblib.load(f'results/{dataset}/logit_tfidf.model')\n",
    "\n",
    "for method in ['mcmc', 'random']:\n",
    "    base = os.path.join(base_dir, method)\n",
    "    for folder in os.listdir(base):\n",
    "        if folder != 'backup':\n",
    "            attack_results_path = f'{base}/{folder}/results.csv'\n",
    "            eval_results_path = f'{base}/{folder}/eval_metric.json'\n",
    "            df = pd.read_csv(attack_results_path)\n",
    "            df.rename(columns={'generated_sequence':'adversarial_sequence'}, inplace=True)\n",
    "            metrics = calculate_metrics(model, \n",
    "                                    df['label'].values, \n",
    "                                    df['sequence'].values,\n",
    "                                    df['adversarial_sequence'].values)\n",
    "            json.dump(metrics, open(eval_results_path, 'w'))"
   ]
  },
  {
   "cell_type": "code",
   "execution_count": null,
   "metadata": {},
   "outputs": [],
   "source": []
  },
  {
   "cell_type": "code",
   "execution_count": null,
   "metadata": {},
   "outputs": [],
   "source": []
  },
  {
   "cell_type": "code",
   "execution_count": 26,
   "metadata": {},
   "outputs": [],
   "source": [
    "result = []\n",
    "for method in ['mcmc']:\n",
    "    base = os.path.join(base_dir, method)\n",
    "    for folder in os.listdir(base):\n",
    "        if folder != 'backup':\n",
    "            args = json.load(open(os.path.join(base, folder, 'args.json')))\n",
    "            metrics = json.load(open(os.path.join(base, folder, 'eval_metric.json')))\n",
    "            args.update(metrics)\n",
    "            result.append({k:args[k] for k in ['accuracy_drop', 'probability_drop', 'WER', 'NAD',\n",
    "                                                'beam_size', 'num_steps', 'std', 'sigma_wer', 'sigma_class']})\n",
    "result = pd.DataFrame(result)"
   ]
  },
  {
   "cell_type": "code",
   "execution_count": null,
   "metadata": {},
   "outputs": [],
   "source": []
  },
  {
   "cell_type": "code",
   "execution_count": 27,
   "metadata": {},
   "outputs": [
    {
     "data": {
      "text/html": [
       "<div>\n",
       "<style scoped>\n",
       "    .dataframe tbody tr th:only-of-type {\n",
       "        vertical-align: middle;\n",
       "    }\n",
       "\n",
       "    .dataframe tbody tr th {\n",
       "        vertical-align: top;\n",
       "    }\n",
       "\n",
       "    .dataframe thead th {\n",
       "        text-align: right;\n",
       "    }\n",
       "</style>\n",
       "<table border=\"1\" class=\"dataframe\">\n",
       "  <thead>\n",
       "    <tr style=\"text-align: right;\">\n",
       "      <th></th>\n",
       "      <th>accuracy_drop</th>\n",
       "      <th>probability_drop</th>\n",
       "      <th>WER</th>\n",
       "      <th>NAD</th>\n",
       "      <th>beam_size</th>\n",
       "      <th>num_steps</th>\n",
       "      <th>std</th>\n",
       "      <th>sigma_wer</th>\n",
       "      <th>sigma_class</th>\n",
       "    </tr>\n",
       "  </thead>\n",
       "  <tbody>\n",
       "    <tr>\n",
       "      <th>0</th>\n",
       "      <td>0.27</td>\n",
       "      <td>0.100129</td>\n",
       "      <td>4.99</td>\n",
       "      <td>0.139459</td>\n",
       "      <td>30</td>\n",
       "      <td>30</td>\n",
       "      <td>0.20</td>\n",
       "      <td>0.75</td>\n",
       "      <td>1.25</td>\n",
       "    </tr>\n",
       "    <tr>\n",
       "      <th>1</th>\n",
       "      <td>0.03</td>\n",
       "      <td>0.022052</td>\n",
       "      <td>0.92</td>\n",
       "      <td>0.010078</td>\n",
       "      <td>30</td>\n",
       "      <td>30</td>\n",
       "      <td>0.01</td>\n",
       "      <td>1.50</td>\n",
       "      <td>0.20</td>\n",
       "    </tr>\n",
       "    <tr>\n",
       "      <th>2</th>\n",
       "      <td>0.27</td>\n",
       "      <td>0.097047</td>\n",
       "      <td>4.83</td>\n",
       "      <td>0.139459</td>\n",
       "      <td>30</td>\n",
       "      <td>30</td>\n",
       "      <td>0.01</td>\n",
       "      <td>0.50</td>\n",
       "      <td>1.00</td>\n",
       "    </tr>\n",
       "    <tr>\n",
       "      <th>3</th>\n",
       "      <td>0.27</td>\n",
       "      <td>0.100129</td>\n",
       "      <td>4.99</td>\n",
       "      <td>0.139459</td>\n",
       "      <td>30</td>\n",
       "      <td>30</td>\n",
       "      <td>0.50</td>\n",
       "      <td>1.25</td>\n",
       "      <td>0.75</td>\n",
       "    </tr>\n",
       "    <tr>\n",
       "      <th>4</th>\n",
       "      <td>0.23</td>\n",
       "      <td>0.095047</td>\n",
       "      <td>4.41</td>\n",
       "      <td>0.109574</td>\n",
       "      <td>30</td>\n",
       "      <td>30</td>\n",
       "      <td>0.05</td>\n",
       "      <td>0.75</td>\n",
       "      <td>0.50</td>\n",
       "    </tr>\n",
       "    <tr>\n",
       "      <th>5</th>\n",
       "      <td>0.26</td>\n",
       "      <td>0.097518</td>\n",
       "      <td>4.71</td>\n",
       "      <td>0.136483</td>\n",
       "      <td>30</td>\n",
       "      <td>30</td>\n",
       "      <td>0.10</td>\n",
       "      <td>1.00</td>\n",
       "      <td>0.50</td>\n",
       "    </tr>\n",
       "    <tr>\n",
       "      <th>6</th>\n",
       "      <td>0.25</td>\n",
       "      <td>0.092292</td>\n",
       "      <td>4.67</td>\n",
       "      <td>0.135482</td>\n",
       "      <td>30</td>\n",
       "      <td>30</td>\n",
       "      <td>0.10</td>\n",
       "      <td>0.50</td>\n",
       "      <td>1.50</td>\n",
       "    </tr>\n",
       "    <tr>\n",
       "      <th>7</th>\n",
       "      <td>0.27</td>\n",
       "      <td>0.100129</td>\n",
       "      <td>4.99</td>\n",
       "      <td>0.139459</td>\n",
       "      <td>30</td>\n",
       "      <td>30</td>\n",
       "      <td>0.01</td>\n",
       "      <td>1.25</td>\n",
       "      <td>1.25</td>\n",
       "    </tr>\n",
       "    <tr>\n",
       "      <th>8</th>\n",
       "      <td>0.04</td>\n",
       "      <td>0.020932</td>\n",
       "      <td>0.85</td>\n",
       "      <td>0.013005</td>\n",
       "      <td>30</td>\n",
       "      <td>30</td>\n",
       "      <td>0.20</td>\n",
       "      <td>0.75</td>\n",
       "      <td>0.20</td>\n",
       "    </tr>\n",
       "    <tr>\n",
       "      <th>9</th>\n",
       "      <td>0.06</td>\n",
       "      <td>0.018695</td>\n",
       "      <td>0.59</td>\n",
       "      <td>0.035250</td>\n",
       "      <td>30</td>\n",
       "      <td>30</td>\n",
       "      <td>0.01</td>\n",
       "      <td>0.50</td>\n",
       "      <td>0.20</td>\n",
       "    </tr>\n",
       "    <tr>\n",
       "      <th>10</th>\n",
       "      <td>0.08</td>\n",
       "      <td>0.031984</td>\n",
       "      <td>1.11</td>\n",
       "      <td>0.062235</td>\n",
       "      <td>30</td>\n",
       "      <td>30</td>\n",
       "      <td>0.05</td>\n",
       "      <td>1.50</td>\n",
       "      <td>0.20</td>\n",
       "    </tr>\n",
       "    <tr>\n",
       "      <th>11</th>\n",
       "      <td>0.27</td>\n",
       "      <td>0.100129</td>\n",
       "      <td>4.99</td>\n",
       "      <td>0.139459</td>\n",
       "      <td>30</td>\n",
       "      <td>30</td>\n",
       "      <td>0.50</td>\n",
       "      <td>0.75</td>\n",
       "      <td>1.25</td>\n",
       "    </tr>\n",
       "    <tr>\n",
       "      <th>12</th>\n",
       "      <td>0.27</td>\n",
       "      <td>0.100129</td>\n",
       "      <td>4.99</td>\n",
       "      <td>0.139459</td>\n",
       "      <td>30</td>\n",
       "      <td>30</td>\n",
       "      <td>0.10</td>\n",
       "      <td>1.25</td>\n",
       "      <td>1.00</td>\n",
       "    </tr>\n",
       "    <tr>\n",
       "      <th>13</th>\n",
       "      <td>0.27</td>\n",
       "      <td>0.100129</td>\n",
       "      <td>4.99</td>\n",
       "      <td>0.139459</td>\n",
       "      <td>30</td>\n",
       "      <td>30</td>\n",
       "      <td>0.20</td>\n",
       "      <td>1.25</td>\n",
       "      <td>1.00</td>\n",
       "    </tr>\n",
       "    <tr>\n",
       "      <th>14</th>\n",
       "      <td>0.26</td>\n",
       "      <td>0.098626</td>\n",
       "      <td>4.92</td>\n",
       "      <td>0.136483</td>\n",
       "      <td>30</td>\n",
       "      <td>30</td>\n",
       "      <td>0.05</td>\n",
       "      <td>0.50</td>\n",
       "      <td>1.50</td>\n",
       "    </tr>\n",
       "    <tr>\n",
       "      <th>15</th>\n",
       "      <td>0.11</td>\n",
       "      <td>0.032734</td>\n",
       "      <td>1.69</td>\n",
       "      <td>0.084268</td>\n",
       "      <td>30</td>\n",
       "      <td>30</td>\n",
       "      <td>1.00</td>\n",
       "      <td>0.20</td>\n",
       "      <td>1.25</td>\n",
       "    </tr>\n",
       "    <tr>\n",
       "      <th>16</th>\n",
       "      <td>0.04</td>\n",
       "      <td>0.017084</td>\n",
       "      <td>0.61</td>\n",
       "      <td>0.032648</td>\n",
       "      <td>30</td>\n",
       "      <td>30</td>\n",
       "      <td>0.10</td>\n",
       "      <td>0.75</td>\n",
       "      <td>0.20</td>\n",
       "    </tr>\n",
       "    <tr>\n",
       "      <th>17</th>\n",
       "      <td>0.27</td>\n",
       "      <td>0.100129</td>\n",
       "      <td>4.99</td>\n",
       "      <td>0.139459</td>\n",
       "      <td>30</td>\n",
       "      <td>30</td>\n",
       "      <td>0.10</td>\n",
       "      <td>1.50</td>\n",
       "      <td>1.25</td>\n",
       "    </tr>\n",
       "    <tr>\n",
       "      <th>18</th>\n",
       "      <td>0.06</td>\n",
       "      <td>0.035564</td>\n",
       "      <td>1.37</td>\n",
       "      <td>0.020940</td>\n",
       "      <td>30</td>\n",
       "      <td>30</td>\n",
       "      <td>0.05</td>\n",
       "      <td>1.25</td>\n",
       "      <td>0.20</td>\n",
       "    </tr>\n",
       "    <tr>\n",
       "      <th>19</th>\n",
       "      <td>0.25</td>\n",
       "      <td>0.094008</td>\n",
       "      <td>4.74</td>\n",
       "      <td>0.128348</td>\n",
       "      <td>30</td>\n",
       "      <td>30</td>\n",
       "      <td>1.00</td>\n",
       "      <td>1.25</td>\n",
       "      <td>0.50</td>\n",
       "    </tr>\n",
       "    <tr>\n",
       "      <th>20</th>\n",
       "      <td>0.26</td>\n",
       "      <td>0.097284</td>\n",
       "      <td>4.73</td>\n",
       "      <td>0.135987</td>\n",
       "      <td>30</td>\n",
       "      <td>30</td>\n",
       "      <td>0.05</td>\n",
       "      <td>1.25</td>\n",
       "      <td>0.50</td>\n",
       "    </tr>\n",
       "    <tr>\n",
       "      <th>21</th>\n",
       "      <td>0.27</td>\n",
       "      <td>0.098991</td>\n",
       "      <td>4.83</td>\n",
       "      <td>0.139459</td>\n",
       "      <td>30</td>\n",
       "      <td>30</td>\n",
       "      <td>0.05</td>\n",
       "      <td>0.75</td>\n",
       "      <td>0.75</td>\n",
       "    </tr>\n",
       "    <tr>\n",
       "      <th>22</th>\n",
       "      <td>0.12</td>\n",
       "      <td>0.043297</td>\n",
       "      <td>1.76</td>\n",
       "      <td>0.084135</td>\n",
       "      <td>30</td>\n",
       "      <td>30</td>\n",
       "      <td>0.20</td>\n",
       "      <td>0.20</td>\n",
       "      <td>1.00</td>\n",
       "    </tr>\n",
       "    <tr>\n",
       "      <th>23</th>\n",
       "      <td>0.02</td>\n",
       "      <td>0.005011</td>\n",
       "      <td>0.12</td>\n",
       "      <td>0.025000</td>\n",
       "      <td>30</td>\n",
       "      <td>30</td>\n",
       "      <td>0.10</td>\n",
       "      <td>0.20</td>\n",
       "      <td>0.20</td>\n",
       "    </tr>\n",
       "    <tr>\n",
       "      <th>24</th>\n",
       "      <td>0.08</td>\n",
       "      <td>0.031065</td>\n",
       "      <td>1.24</td>\n",
       "      <td>0.040329</td>\n",
       "      <td>30</td>\n",
       "      <td>30</td>\n",
       "      <td>0.20</td>\n",
       "      <td>1.50</td>\n",
       "      <td>0.20</td>\n",
       "    </tr>\n",
       "    <tr>\n",
       "      <th>25</th>\n",
       "      <td>0.27</td>\n",
       "      <td>0.100129</td>\n",
       "      <td>4.99</td>\n",
       "      <td>0.139459</td>\n",
       "      <td>30</td>\n",
       "      <td>30</td>\n",
       "      <td>0.10</td>\n",
       "      <td>1.25</td>\n",
       "      <td>0.75</td>\n",
       "    </tr>\n",
       "    <tr>\n",
       "      <th>26</th>\n",
       "      <td>0.13</td>\n",
       "      <td>0.037360</td>\n",
       "      <td>1.56</td>\n",
       "      <td>0.096900</td>\n",
       "      <td>30</td>\n",
       "      <td>30</td>\n",
       "      <td>0.01</td>\n",
       "      <td>0.20</td>\n",
       "      <td>1.00</td>\n",
       "    </tr>\n",
       "    <tr>\n",
       "      <th>27</th>\n",
       "      <td>0.08</td>\n",
       "      <td>0.039512</td>\n",
       "      <td>1.43</td>\n",
       "      <td>0.027918</td>\n",
       "      <td>30</td>\n",
       "      <td>30</td>\n",
       "      <td>0.20</td>\n",
       "      <td>1.25</td>\n",
       "      <td>0.20</td>\n",
       "    </tr>\n",
       "    <tr>\n",
       "      <th>28</th>\n",
       "      <td>0.15</td>\n",
       "      <td>0.052734</td>\n",
       "      <td>1.73</td>\n",
       "      <td>0.098489</td>\n",
       "      <td>30</td>\n",
       "      <td>30</td>\n",
       "      <td>0.50</td>\n",
       "      <td>0.20</td>\n",
       "      <td>1.50</td>\n",
       "    </tr>\n",
       "    <tr>\n",
       "      <th>29</th>\n",
       "      <td>0.07</td>\n",
       "      <td>0.017008</td>\n",
       "      <td>0.91</td>\n",
       "      <td>0.072421</td>\n",
       "      <td>30</td>\n",
       "      <td>30</td>\n",
       "      <td>0.01</td>\n",
       "      <td>0.20</td>\n",
       "      <td>0.50</td>\n",
       "    </tr>\n",
       "  </tbody>\n",
       "</table>\n",
       "</div>"
      ],
      "text/plain": [
       "    accuracy_drop  probability_drop   WER       NAD  beam_size  num_steps  \\\n",
       "0            0.27          0.100129  4.99  0.139459         30         30   \n",
       "1            0.03          0.022052  0.92  0.010078         30         30   \n",
       "2            0.27          0.097047  4.83  0.139459         30         30   \n",
       "3            0.27          0.100129  4.99  0.139459         30         30   \n",
       "4            0.23          0.095047  4.41  0.109574         30         30   \n",
       "5            0.26          0.097518  4.71  0.136483         30         30   \n",
       "6            0.25          0.092292  4.67  0.135482         30         30   \n",
       "7            0.27          0.100129  4.99  0.139459         30         30   \n",
       "8            0.04          0.020932  0.85  0.013005         30         30   \n",
       "9            0.06          0.018695  0.59  0.035250         30         30   \n",
       "10           0.08          0.031984  1.11  0.062235         30         30   \n",
       "11           0.27          0.100129  4.99  0.139459         30         30   \n",
       "12           0.27          0.100129  4.99  0.139459         30         30   \n",
       "13           0.27          0.100129  4.99  0.139459         30         30   \n",
       "14           0.26          0.098626  4.92  0.136483         30         30   \n",
       "15           0.11          0.032734  1.69  0.084268         30         30   \n",
       "16           0.04          0.017084  0.61  0.032648         30         30   \n",
       "17           0.27          0.100129  4.99  0.139459         30         30   \n",
       "18           0.06          0.035564  1.37  0.020940         30         30   \n",
       "19           0.25          0.094008  4.74  0.128348         30         30   \n",
       "20           0.26          0.097284  4.73  0.135987         30         30   \n",
       "21           0.27          0.098991  4.83  0.139459         30         30   \n",
       "22           0.12          0.043297  1.76  0.084135         30         30   \n",
       "23           0.02          0.005011  0.12  0.025000         30         30   \n",
       "24           0.08          0.031065  1.24  0.040329         30         30   \n",
       "25           0.27          0.100129  4.99  0.139459         30         30   \n",
       "26           0.13          0.037360  1.56  0.096900         30         30   \n",
       "27           0.08          0.039512  1.43  0.027918         30         30   \n",
       "28           0.15          0.052734  1.73  0.098489         30         30   \n",
       "29           0.07          0.017008  0.91  0.072421         30         30   \n",
       "\n",
       "     std  sigma_wer  sigma_class  \n",
       "0   0.20       0.75         1.25  \n",
       "1   0.01       1.50         0.20  \n",
       "2   0.01       0.50         1.00  \n",
       "3   0.50       1.25         0.75  \n",
       "4   0.05       0.75         0.50  \n",
       "5   0.10       1.00         0.50  \n",
       "6   0.10       0.50         1.50  \n",
       "7   0.01       1.25         1.25  \n",
       "8   0.20       0.75         0.20  \n",
       "9   0.01       0.50         0.20  \n",
       "10  0.05       1.50         0.20  \n",
       "11  0.50       0.75         1.25  \n",
       "12  0.10       1.25         1.00  \n",
       "13  0.20       1.25         1.00  \n",
       "14  0.05       0.50         1.50  \n",
       "15  1.00       0.20         1.25  \n",
       "16  0.10       0.75         0.20  \n",
       "17  0.10       1.50         1.25  \n",
       "18  0.05       1.25         0.20  \n",
       "19  1.00       1.25         0.50  \n",
       "20  0.05       1.25         0.50  \n",
       "21  0.05       0.75         0.75  \n",
       "22  0.20       0.20         1.00  \n",
       "23  0.10       0.20         0.20  \n",
       "24  0.20       1.50         0.20  \n",
       "25  0.10       1.25         0.75  \n",
       "26  0.01       0.20         1.00  \n",
       "27  0.20       1.25         0.20  \n",
       "28  0.50       0.20         1.50  \n",
       "29  0.01       0.20         0.50  "
      ]
     },
     "execution_count": 27,
     "metadata": {},
     "output_type": "execute_result"
    }
   ],
   "source": [
    "result"
   ]
  },
  {
   "cell_type": "code",
   "execution_count": 28,
   "metadata": {},
   "outputs": [],
   "source": [
    "sns.set()"
   ]
  },
  {
   "cell_type": "code",
   "execution_count": 29,
   "metadata": {},
   "outputs": [
    {
     "data": {
      "image/png": "[encoded data removed]",
      "text/plain": [
       "<Figure size 1620x360 with 18 Axes>"
      ]
     },
     "metadata": {},
     "output_type": "display_data"
    }
   ],
   "source": [
    "g = sns.pairplot(result, x_vars=result.columns.values, y_vars=['NAD', 'WER'])\n",
    "plt.savefig(os.path.join(base_dir, f'stats_{method}.png'), dpi=150, bbox_inches='tight')"
   ]
  },
  {
   "cell_type": "code",
   "execution_count": 30,
   "metadata": {},
   "outputs": [
    {
     "data": {
      "text/html": [
       "<div>\n",
       "<style scoped>\n",
       "    .dataframe tbody tr th:only-of-type {\n",
       "        vertical-align: middle;\n",
       "    }\n",
       "\n",
       "    .dataframe tbody tr th {\n",
       "        vertical-align: top;\n",
       "    }\n",
       "\n",
       "    .dataframe thead th {\n",
       "        text-align: right;\n",
       "    }\n",
       "</style>\n",
       "<table border=\"1\" class=\"dataframe\">\n",
       "  <thead>\n",
       "    <tr style=\"text-align: right;\">\n",
       "      <th></th>\n",
       "      <th>accuracy_drop</th>\n",
       "      <th>probability_drop</th>\n",
       "      <th>WER</th>\n",
       "      <th>NAD</th>\n",
       "      <th>beam_size</th>\n",
       "      <th>num_steps</th>\n",
       "      <th>std</th>\n",
       "      <th>sigma_wer</th>\n",
       "      <th>sigma_class</th>\n",
       "    </tr>\n",
       "  </thead>\n",
       "  <tbody>\n",
       "    <tr>\n",
       "      <th>0</th>\n",
       "      <td>0.27</td>\n",
       "      <td>0.100129</td>\n",
       "      <td>4.99</td>\n",
       "      <td>0.139459</td>\n",
       "      <td>30</td>\n",
       "      <td>30</td>\n",
       "      <td>0.20</td>\n",
       "      <td>0.75</td>\n",
       "      <td>1.25</td>\n",
       "    </tr>\n",
       "    <tr>\n",
       "      <th>7</th>\n",
       "      <td>0.27</td>\n",
       "      <td>0.100129</td>\n",
       "      <td>4.99</td>\n",
       "      <td>0.139459</td>\n",
       "      <td>30</td>\n",
       "      <td>30</td>\n",
       "      <td>0.01</td>\n",
       "      <td>1.25</td>\n",
       "      <td>1.25</td>\n",
       "    </tr>\n",
       "    <tr>\n",
       "      <th>21</th>\n",
       "      <td>0.27</td>\n",
       "      <td>0.098991</td>\n",
       "      <td>4.83</td>\n",
       "      <td>0.139459</td>\n",
       "      <td>30</td>\n",
       "      <td>30</td>\n",
       "      <td>0.05</td>\n",
       "      <td>0.75</td>\n",
       "      <td>0.75</td>\n",
       "    </tr>\n",
       "    <tr>\n",
       "      <th>13</th>\n",
       "      <td>0.27</td>\n",
       "      <td>0.100129</td>\n",
       "      <td>4.99</td>\n",
       "      <td>0.139459</td>\n",
       "      <td>30</td>\n",
       "      <td>30</td>\n",
       "      <td>0.20</td>\n",
       "      <td>1.25</td>\n",
       "      <td>1.00</td>\n",
       "    </tr>\n",
       "    <tr>\n",
       "      <th>12</th>\n",
       "      <td>0.27</td>\n",
       "      <td>0.100129</td>\n",
       "      <td>4.99</td>\n",
       "      <td>0.139459</td>\n",
       "      <td>30</td>\n",
       "      <td>30</td>\n",
       "      <td>0.10</td>\n",
       "      <td>1.25</td>\n",
       "      <td>1.00</td>\n",
       "    </tr>\n",
       "    <tr>\n",
       "      <th>11</th>\n",
       "      <td>0.27</td>\n",
       "      <td>0.100129</td>\n",
       "      <td>4.99</td>\n",
       "      <td>0.139459</td>\n",
       "      <td>30</td>\n",
       "      <td>30</td>\n",
       "      <td>0.50</td>\n",
       "      <td>0.75</td>\n",
       "      <td>1.25</td>\n",
       "    </tr>\n",
       "    <tr>\n",
       "      <th>25</th>\n",
       "      <td>0.27</td>\n",
       "      <td>0.100129</td>\n",
       "      <td>4.99</td>\n",
       "      <td>0.139459</td>\n",
       "      <td>30</td>\n",
       "      <td>30</td>\n",
       "      <td>0.10</td>\n",
       "      <td>1.25</td>\n",
       "      <td>0.75</td>\n",
       "    </tr>\n",
       "    <tr>\n",
       "      <th>17</th>\n",
       "      <td>0.27</td>\n",
       "      <td>0.100129</td>\n",
       "      <td>4.99</td>\n",
       "      <td>0.139459</td>\n",
       "      <td>30</td>\n",
       "      <td>30</td>\n",
       "      <td>0.10</td>\n",
       "      <td>1.50</td>\n",
       "      <td>1.25</td>\n",
       "    </tr>\n",
       "    <tr>\n",
       "      <th>3</th>\n",
       "      <td>0.27</td>\n",
       "      <td>0.100129</td>\n",
       "      <td>4.99</td>\n",
       "      <td>0.139459</td>\n",
       "      <td>30</td>\n",
       "      <td>30</td>\n",
       "      <td>0.50</td>\n",
       "      <td>1.25</td>\n",
       "      <td>0.75</td>\n",
       "    </tr>\n",
       "    <tr>\n",
       "      <th>2</th>\n",
       "      <td>0.27</td>\n",
       "      <td>0.097047</td>\n",
       "      <td>4.83</td>\n",
       "      <td>0.139459</td>\n",
       "      <td>30</td>\n",
       "      <td>30</td>\n",
       "      <td>0.01</td>\n",
       "      <td>0.50</td>\n",
       "      <td>1.00</td>\n",
       "    </tr>\n",
       "    <tr>\n",
       "      <th>14</th>\n",
       "      <td>0.26</td>\n",
       "      <td>0.098626</td>\n",
       "      <td>4.92</td>\n",
       "      <td>0.136483</td>\n",
       "      <td>30</td>\n",
       "      <td>30</td>\n",
       "      <td>0.05</td>\n",
       "      <td>0.50</td>\n",
       "      <td>1.50</td>\n",
       "    </tr>\n",
       "    <tr>\n",
       "      <th>5</th>\n",
       "      <td>0.26</td>\n",
       "      <td>0.097518</td>\n",
       "      <td>4.71</td>\n",
       "      <td>0.136483</td>\n",
       "      <td>30</td>\n",
       "      <td>30</td>\n",
       "      <td>0.10</td>\n",
       "      <td>1.00</td>\n",
       "      <td>0.50</td>\n",
       "    </tr>\n",
       "    <tr>\n",
       "      <th>20</th>\n",
       "      <td>0.26</td>\n",
       "      <td>0.097284</td>\n",
       "      <td>4.73</td>\n",
       "      <td>0.135987</td>\n",
       "      <td>30</td>\n",
       "      <td>30</td>\n",
       "      <td>0.05</td>\n",
       "      <td>1.25</td>\n",
       "      <td>0.50</td>\n",
       "    </tr>\n",
       "    <tr>\n",
       "      <th>6</th>\n",
       "      <td>0.25</td>\n",
       "      <td>0.092292</td>\n",
       "      <td>4.67</td>\n",
       "      <td>0.135482</td>\n",
       "      <td>30</td>\n",
       "      <td>30</td>\n",
       "      <td>0.10</td>\n",
       "      <td>0.50</td>\n",
       "      <td>1.50</td>\n",
       "    </tr>\n",
       "    <tr>\n",
       "      <th>19</th>\n",
       "      <td>0.25</td>\n",
       "      <td>0.094008</td>\n",
       "      <td>4.74</td>\n",
       "      <td>0.128348</td>\n",
       "      <td>30</td>\n",
       "      <td>30</td>\n",
       "      <td>1.00</td>\n",
       "      <td>1.25</td>\n",
       "      <td>0.50</td>\n",
       "    </tr>\n",
       "    <tr>\n",
       "      <th>4</th>\n",
       "      <td>0.23</td>\n",
       "      <td>0.095047</td>\n",
       "      <td>4.41</td>\n",
       "      <td>0.109574</td>\n",
       "      <td>30</td>\n",
       "      <td>30</td>\n",
       "      <td>0.05</td>\n",
       "      <td>0.75</td>\n",
       "      <td>0.50</td>\n",
       "    </tr>\n",
       "    <tr>\n",
       "      <th>28</th>\n",
       "      <td>0.15</td>\n",
       "      <td>0.052734</td>\n",
       "      <td>1.73</td>\n",
       "      <td>0.098489</td>\n",
       "      <td>30</td>\n",
       "      <td>30</td>\n",
       "      <td>0.50</td>\n",
       "      <td>0.20</td>\n",
       "      <td>1.50</td>\n",
       "    </tr>\n",
       "    <tr>\n",
       "      <th>26</th>\n",
       "      <td>0.13</td>\n",
       "      <td>0.037360</td>\n",
       "      <td>1.56</td>\n",
       "      <td>0.096900</td>\n",
       "      <td>30</td>\n",
       "      <td>30</td>\n",
       "      <td>0.01</td>\n",
       "      <td>0.20</td>\n",
       "      <td>1.00</td>\n",
       "    </tr>\n",
       "    <tr>\n",
       "      <th>15</th>\n",
       "      <td>0.11</td>\n",
       "      <td>0.032734</td>\n",
       "      <td>1.69</td>\n",
       "      <td>0.084268</td>\n",
       "      <td>30</td>\n",
       "      <td>30</td>\n",
       "      <td>1.00</td>\n",
       "      <td>0.20</td>\n",
       "      <td>1.25</td>\n",
       "    </tr>\n",
       "    <tr>\n",
       "      <th>22</th>\n",
       "      <td>0.12</td>\n",
       "      <td>0.043297</td>\n",
       "      <td>1.76</td>\n",
       "      <td>0.084135</td>\n",
       "      <td>30</td>\n",
       "      <td>30</td>\n",
       "      <td>0.20</td>\n",
       "      <td>0.20</td>\n",
       "      <td>1.00</td>\n",
       "    </tr>\n",
       "    <tr>\n",
       "      <th>29</th>\n",
       "      <td>0.07</td>\n",
       "      <td>0.017008</td>\n",
       "      <td>0.91</td>\n",
       "      <td>0.072421</td>\n",
       "      <td>30</td>\n",
       "      <td>30</td>\n",
       "      <td>0.01</td>\n",
       "      <td>0.20</td>\n",
       "      <td>0.50</td>\n",
       "    </tr>\n",
       "    <tr>\n",
       "      <th>10</th>\n",
       "      <td>0.08</td>\n",
       "      <td>0.031984</td>\n",
       "      <td>1.11</td>\n",
       "      <td>0.062235</td>\n",
       "      <td>30</td>\n",
       "      <td>30</td>\n",
       "      <td>0.05</td>\n",
       "      <td>1.50</td>\n",
       "      <td>0.20</td>\n",
       "    </tr>\n",
       "    <tr>\n",
       "      <th>24</th>\n",
       "      <td>0.08</td>\n",
       "      <td>0.031065</td>\n",
       "      <td>1.24</td>\n",
       "      <td>0.040329</td>\n",
       "      <td>30</td>\n",
       "      <td>30</td>\n",
       "      <td>0.20</td>\n",
       "      <td>1.50</td>\n",
       "      <td>0.20</td>\n",
       "    </tr>\n",
       "    <tr>\n",
       "      <th>9</th>\n",
       "      <td>0.06</td>\n",
       "      <td>0.018695</td>\n",
       "      <td>0.59</td>\n",
       "      <td>0.035250</td>\n",
       "      <td>30</td>\n",
       "      <td>30</td>\n",
       "      <td>0.01</td>\n",
       "      <td>0.50</td>\n",
       "      <td>0.20</td>\n",
       "    </tr>\n",
       "    <tr>\n",
       "      <th>16</th>\n",
       "      <td>0.04</td>\n",
       "      <td>0.017084</td>\n",
       "      <td>0.61</td>\n",
       "      <td>0.032648</td>\n",
       "      <td>30</td>\n",
       "      <td>30</td>\n",
       "      <td>0.10</td>\n",
       "      <td>0.75</td>\n",
       "      <td>0.20</td>\n",
       "    </tr>\n",
       "    <tr>\n",
       "      <th>27</th>\n",
       "      <td>0.08</td>\n",
       "      <td>0.039512</td>\n",
       "      <td>1.43</td>\n",
       "      <td>0.027918</td>\n",
       "      <td>30</td>\n",
       "      <td>30</td>\n",
       "      <td>0.20</td>\n",
       "      <td>1.25</td>\n",
       "      <td>0.20</td>\n",
       "    </tr>\n",
       "    <tr>\n",
       "      <th>23</th>\n",
       "      <td>0.02</td>\n",
       "      <td>0.005011</td>\n",
       "      <td>0.12</td>\n",
       "      <td>0.025000</td>\n",
       "      <td>30</td>\n",
       "      <td>30</td>\n",
       "      <td>0.10</td>\n",
       "      <td>0.20</td>\n",
       "      <td>0.20</td>\n",
       "    </tr>\n",
       "    <tr>\n",
       "      <th>18</th>\n",
       "      <td>0.06</td>\n",
       "      <td>0.035564</td>\n",
       "      <td>1.37</td>\n",
       "      <td>0.020940</td>\n",
       "      <td>30</td>\n",
       "      <td>30</td>\n",
       "      <td>0.05</td>\n",
       "      <td>1.25</td>\n",
       "      <td>0.20</td>\n",
       "    </tr>\n",
       "    <tr>\n",
       "      <th>8</th>\n",
       "      <td>0.04</td>\n",
       "      <td>0.020932</td>\n",
       "      <td>0.85</td>\n",
       "      <td>0.013005</td>\n",
       "      <td>30</td>\n",
       "      <td>30</td>\n",
       "      <td>0.20</td>\n",
       "      <td>0.75</td>\n",
       "      <td>0.20</td>\n",
       "    </tr>\n",
       "    <tr>\n",
       "      <th>1</th>\n",
       "      <td>0.03</td>\n",
       "      <td>0.022052</td>\n",
       "      <td>0.92</td>\n",
       "      <td>0.010078</td>\n",
       "      <td>30</td>\n",
       "      <td>30</td>\n",
       "      <td>0.01</td>\n",
       "      <td>1.50</td>\n",
       "      <td>0.20</td>\n",
       "    </tr>\n",
       "  </tbody>\n",
       "</table>\n",
       "</div>"
      ],
      "text/plain": [
       "    accuracy_drop  probability_drop   WER       NAD  beam_size  num_steps  \\\n",
       "0            0.27          0.100129  4.99  0.139459         30         30   \n",
       "7            0.27          0.100129  4.99  0.139459         30         30   \n",
       "21           0.27          0.098991  4.83  0.139459         30         30   \n",
       "13           0.27          0.100129  4.99  0.139459         30         30   \n",
       "12           0.27          0.100129  4.99  0.139459         30         30   \n",
       "11           0.27          0.100129  4.99  0.139459         30         30   \n",
       "25           0.27          0.100129  4.99  0.139459         30         30   \n",
       "17           0.27          0.100129  4.99  0.139459         30         30   \n",
       "3            0.27          0.100129  4.99  0.139459         30         30   \n",
       "2            0.27          0.097047  4.83  0.139459         30         30   \n",
       "14           0.26          0.098626  4.92  0.136483         30         30   \n",
       "5            0.26          0.097518  4.71  0.136483         30         30   \n",
       "20           0.26          0.097284  4.73  0.135987         30         30   \n",
       "6            0.25          0.092292  4.67  0.135482         30         30   \n",
       "19           0.25          0.094008  4.74  0.128348         30         30   \n",
       "4            0.23          0.095047  4.41  0.109574         30         30   \n",
       "28           0.15          0.052734  1.73  0.098489         30         30   \n",
       "26           0.13          0.037360  1.56  0.096900         30         30   \n",
       "15           0.11          0.032734  1.69  0.084268         30         30   \n",
       "22           0.12          0.043297  1.76  0.084135         30         30   \n",
       "29           0.07          0.017008  0.91  0.072421         30         30   \n",
       "10           0.08          0.031984  1.11  0.062235         30         30   \n",
       "24           0.08          0.031065  1.24  0.040329         30         30   \n",
       "9            0.06          0.018695  0.59  0.035250         30         30   \n",
       "16           0.04          0.017084  0.61  0.032648         30         30   \n",
       "27           0.08          0.039512  1.43  0.027918         30         30   \n",
       "23           0.02          0.005011  0.12  0.025000         30         30   \n",
       "18           0.06          0.035564  1.37  0.020940         30         30   \n",
       "8            0.04          0.020932  0.85  0.013005         30         30   \n",
       "1            0.03          0.022052  0.92  0.010078         30         30   \n",
       "\n",
       "     std  sigma_wer  sigma_class  \n",
       "0   0.20       0.75         1.25  \n",
       "7   0.01       1.25         1.25  \n",
       "21  0.05       0.75         0.75  \n",
       "13  0.20       1.25         1.00  \n",
       "12  0.10       1.25         1.00  \n",
       "11  0.50       0.75         1.25  \n",
       "25  0.10       1.25         0.75  \n",
       "17  0.10       1.50         1.25  \n",
       "3   0.50       1.25         0.75  \n",
       "2   0.01       0.50         1.00  \n",
       "14  0.05       0.50         1.50  \n",
       "5   0.10       1.00         0.50  \n",
       "20  0.05       1.25         0.50  \n",
       "6   0.10       0.50         1.50  \n",
       "19  1.00       1.25         0.50  \n",
       "4   0.05       0.75         0.50  \n",
       "28  0.50       0.20         1.50  \n",
       "26  0.01       0.20         1.00  \n",
       "15  1.00       0.20         1.25  \n",
       "22  0.20       0.20         1.00  \n",
       "29  0.01       0.20         0.50  \n",
       "10  0.05       1.50         0.20  \n",
       "24  0.20       1.50         0.20  \n",
       "9   0.01       0.50         0.20  \n",
       "16  0.10       0.75         0.20  \n",
       "27  0.20       1.25         0.20  \n",
       "23  0.10       0.20         0.20  \n",
       "18  0.05       1.25         0.20  \n",
       "8   0.20       0.75         0.20  \n",
       "1   0.01       1.50         0.20  "
      ]
     },
     "execution_count": 30,
     "metadata": {},
     "output_type": "execute_result"
    }
   ],
   "source": [
    "result.sort_values(by='NAD', ascending=False)"
   ]
  },
  {
   "cell_type": "code",
   "execution_count": 38,
   "metadata": {},
   "outputs": [],
   "source": [
    "result = []\n",
    "for method in ['random']:\n",
    "    base = os.path.join(base_dir, method)\n",
    "    for folder in os.listdir(base):\n",
    "        if folder != 'backup':\n",
    "            args = json.load(open(os.path.join(base, folder, 'args.json')))\n",
    "            metrics = json.load(open(os.path.join(base, folder, 'eval_metric.json')))\n",
    "            args.update(metrics)\n",
    "            result.append({k:args[k] for k in ['accuracy_drop', 'probability_drop', 'WER', 'NAD',\n",
    "                                                'beam_size', 'num_steps', 'std']})\n",
    "result = pd.DataFrame(result)"
   ]
  },
  {
   "cell_type": "code",
   "execution_count": null,
   "metadata": {},
   "outputs": [],
   "source": []
  },
  {
   "cell_type": "code",
   "execution_count": null,
   "metadata": {},
   "outputs": [],
   "source": []
  },
  {
   "cell_type": "code",
   "execution_count": 39,
   "metadata": {},
   "outputs": [
    {
     "data": {
      "text/html": [
       "<div>\n",
       "<style scoped>\n",
       "    .dataframe tbody tr th:only-of-type {\n",
       "        vertical-align: middle;\n",
       "    }\n",
       "\n",
       "    .dataframe tbody tr th {\n",
       "        vertical-align: top;\n",
       "    }\n",
       "\n",
       "    .dataframe thead th {\n",
       "        text-align: right;\n",
       "    }\n",
       "</style>\n",
       "<table border=\"1\" class=\"dataframe\">\n",
       "  <thead>\n",
       "    <tr style=\"text-align: right;\">\n",
       "      <th></th>\n",
       "      <th>accuracy_drop</th>\n",
       "      <th>probability_drop</th>\n",
       "      <th>WER</th>\n",
       "      <th>NAD</th>\n",
       "      <th>beam_size</th>\n",
       "      <th>num_steps</th>\n",
       "      <th>std</th>\n",
       "    </tr>\n",
       "  </thead>\n",
       "  <tbody>\n",
       "    <tr>\n",
       "      <th>0</th>\n",
       "      <td>0.26</td>\n",
       "      <td>0.086715</td>\n",
       "      <td>5.94</td>\n",
       "      <td>0.148140</td>\n",
       "      <td>30</td>\n",
       "      <td>30</td>\n",
       "      <td>1.00</td>\n",
       "    </tr>\n",
       "    <tr>\n",
       "      <th>5</th>\n",
       "      <td>0.26</td>\n",
       "      <td>0.086715</td>\n",
       "      <td>5.94</td>\n",
       "      <td>0.148140</td>\n",
       "      <td>30</td>\n",
       "      <td>30</td>\n",
       "      <td>0.10</td>\n",
       "    </tr>\n",
       "    <tr>\n",
       "      <th>6</th>\n",
       "      <td>0.26</td>\n",
       "      <td>0.086715</td>\n",
       "      <td>5.94</td>\n",
       "      <td>0.148140</td>\n",
       "      <td>30</td>\n",
       "      <td>30</td>\n",
       "      <td>0.50</td>\n",
       "    </tr>\n",
       "    <tr>\n",
       "      <th>7</th>\n",
       "      <td>0.26</td>\n",
       "      <td>0.086715</td>\n",
       "      <td>5.94</td>\n",
       "      <td>0.148140</td>\n",
       "      <td>30</td>\n",
       "      <td>30</td>\n",
       "      <td>0.20</td>\n",
       "    </tr>\n",
       "    <tr>\n",
       "      <th>11</th>\n",
       "      <td>0.26</td>\n",
       "      <td>0.086715</td>\n",
       "      <td>5.94</td>\n",
       "      <td>0.148140</td>\n",
       "      <td>30</td>\n",
       "      <td>30</td>\n",
       "      <td>0.05</td>\n",
       "    </tr>\n",
       "    <tr>\n",
       "      <th>12</th>\n",
       "      <td>0.26</td>\n",
       "      <td>0.086715</td>\n",
       "      <td>5.94</td>\n",
       "      <td>0.148140</td>\n",
       "      <td>30</td>\n",
       "      <td>30</td>\n",
       "      <td>0.01</td>\n",
       "    </tr>\n",
       "    <tr>\n",
       "      <th>1</th>\n",
       "      <td>0.16</td>\n",
       "      <td>0.034560</td>\n",
       "      <td>6.94</td>\n",
       "      <td>0.086443</td>\n",
       "      <td>1</td>\n",
       "      <td>30</td>\n",
       "      <td>0.01</td>\n",
       "    </tr>\n",
       "    <tr>\n",
       "      <th>2</th>\n",
       "      <td>0.16</td>\n",
       "      <td>0.034560</td>\n",
       "      <td>6.94</td>\n",
       "      <td>0.086443</td>\n",
       "      <td>1</td>\n",
       "      <td>30</td>\n",
       "      <td>1.00</td>\n",
       "    </tr>\n",
       "    <tr>\n",
       "      <th>3</th>\n",
       "      <td>0.16</td>\n",
       "      <td>0.034560</td>\n",
       "      <td>6.94</td>\n",
       "      <td>0.086443</td>\n",
       "      <td>1</td>\n",
       "      <td>30</td>\n",
       "      <td>5.00</td>\n",
       "    </tr>\n",
       "    <tr>\n",
       "      <th>4</th>\n",
       "      <td>0.16</td>\n",
       "      <td>0.034560</td>\n",
       "      <td>6.94</td>\n",
       "      <td>0.086443</td>\n",
       "      <td>1</td>\n",
       "      <td>30</td>\n",
       "      <td>0.10</td>\n",
       "    </tr>\n",
       "    <tr>\n",
       "      <th>8</th>\n",
       "      <td>0.16</td>\n",
       "      <td>0.034560</td>\n",
       "      <td>6.94</td>\n",
       "      <td>0.086443</td>\n",
       "      <td>1</td>\n",
       "      <td>30</td>\n",
       "      <td>0.20</td>\n",
       "    </tr>\n",
       "    <tr>\n",
       "      <th>9</th>\n",
       "      <td>0.16</td>\n",
       "      <td>0.034560</td>\n",
       "      <td>6.94</td>\n",
       "      <td>0.086443</td>\n",
       "      <td>1</td>\n",
       "      <td>30</td>\n",
       "      <td>10.00</td>\n",
       "    </tr>\n",
       "    <tr>\n",
       "      <th>10</th>\n",
       "      <td>0.16</td>\n",
       "      <td>0.034560</td>\n",
       "      <td>6.94</td>\n",
       "      <td>0.086443</td>\n",
       "      <td>1</td>\n",
       "      <td>30</td>\n",
       "      <td>2.00</td>\n",
       "    </tr>\n",
       "    <tr>\n",
       "      <th>13</th>\n",
       "      <td>0.16</td>\n",
       "      <td>0.034560</td>\n",
       "      <td>6.94</td>\n",
       "      <td>0.086443</td>\n",
       "      <td>1</td>\n",
       "      <td>30</td>\n",
       "      <td>0.05</td>\n",
       "    </tr>\n",
       "    <tr>\n",
       "      <th>14</th>\n",
       "      <td>0.16</td>\n",
       "      <td>0.034560</td>\n",
       "      <td>6.94</td>\n",
       "      <td>0.086443</td>\n",
       "      <td>1</td>\n",
       "      <td>30</td>\n",
       "      <td>0.50</td>\n",
       "    </tr>\n",
       "  </tbody>\n",
       "</table>\n",
       "</div>"
      ],
      "text/plain": [
       "    accuracy_drop  probability_drop   WER       NAD  beam_size  num_steps  \\\n",
       "0            0.26          0.086715  5.94  0.148140         30         30   \n",
       "5            0.26          0.086715  5.94  0.148140         30         30   \n",
       "6            0.26          0.086715  5.94  0.148140         30         30   \n",
       "7            0.26          0.086715  5.94  0.148140         30         30   \n",
       "11           0.26          0.086715  5.94  0.148140         30         30   \n",
       "12           0.26          0.086715  5.94  0.148140         30         30   \n",
       "1            0.16          0.034560  6.94  0.086443          1         30   \n",
       "2            0.16          0.034560  6.94  0.086443          1         30   \n",
       "3            0.16          0.034560  6.94  0.086443          1         30   \n",
       "4            0.16          0.034560  6.94  0.086443          1         30   \n",
       "8            0.16          0.034560  6.94  0.086443          1         30   \n",
       "9            0.16          0.034560  6.94  0.086443          1         30   \n",
       "10           0.16          0.034560  6.94  0.086443          1         30   \n",
       "13           0.16          0.034560  6.94  0.086443          1         30   \n",
       "14           0.16          0.034560  6.94  0.086443          1         30   \n",
       "\n",
       "      std  \n",
       "0    1.00  \n",
       "5    0.10  \n",
       "6    0.50  \n",
       "7    0.20  \n",
       "11   0.05  \n",
       "12   0.01  \n",
       "1    0.01  \n",
       "2    1.00  \n",
       "3    5.00  \n",
       "4    0.10  \n",
       "8    0.20  \n",
       "9   10.00  \n",
       "10   2.00  \n",
       "13   0.05  \n",
       "14   0.50  "
      ]
     },
     "execution_count": 39,
     "metadata": {},
     "output_type": "execute_result"
    }
   ],
   "source": [
    "result.sort_values(by='NAD', ascending=False)"
   ]
  },
  {
   "cell_type": "code",
   "execution_count": null,
   "metadata": {},
   "outputs": [],
   "source": []
  },
  {
   "cell_type": "code",
   "execution_count": null,
   "metadata": {},
   "outputs": [],
   "source": []
  },
  {
   "cell_type": "code",
   "execution_count": null,
   "metadata": {},
   "outputs": [],
   "source": []
  },
  {
   "cell_type": "markdown",
   "metadata": {},
   "source": [
    "## make cascada grisearch"
   ]
  },
  {
   "cell_type": "code",
   "execution_count": 5,
   "metadata": {},
   "outputs": [],
   "source": [
    "levenshtein_weights = [0.1, 1, 10]\n",
    "beam_sizes = [1, 30, 100]\n",
    "max_stepss = [5, 30, 100]\n",
    "learning_rates = [1, 2, 4]"
   ]
  },
  {
   "cell_type": "code",
   "execution_count": 6,
   "metadata": {},
   "outputs": [],
   "source": [
    "import itertools"
   ]
  },
  {
   "cell_type": "code",
   "execution_count": 7,
   "metadata": {},
   "outputs": [],
   "source": [
    "params = list(itertools.product(levenshtein_weights, beam_sizes, max_stepss, learning_rates))"
   ]
  },
  {
   "cell_type": "code",
   "execution_count": 8,
   "metadata": {},
   "outputs": [],
   "source": [
    "dataset = 'insurance'"
   ]
  },
  {
   "cell_type": "code",
   "execution_count": 10,
   "metadata": {},
   "outputs": [
    {
     "name": "stderr",
     "output_type": "stream",
     "text": [
      "\r",
      "  0%|          | 0/81 [00:00<?, ?it/s]"
     ]
    },
    {
     "name": "stdout",
     "output_type": "stream",
     "text": [
      "(0.1, 1, 5, 1)\n"
     ]
    },
    {
     "name": "stderr",
     "output_type": "stream",
     "text": [
      "\r",
      "  1%|          | 1/81 [00:08<11:41,  8.77s/it]"
     ]
    },
    {
     "name": "stdout",
     "output_type": "stream",
     "text": [
      "(0.1, 1, 5, 2)\n"
     ]
    },
    {
     "name": "stderr",
     "output_type": "stream",
     "text": [
      "\r",
      "  2%|▏         | 2/81 [00:18<12:06,  9.19s/it]"
     ]
    },
    {
     "name": "stdout",
     "output_type": "stream",
     "text": [
      "(0.1, 1, 5, 4)\n"
     ]
    },
    {
     "name": "stderr",
     "output_type": "stream",
     "text": [
      "\r",
      "  4%|▎         | 3/81 [00:28<12:06,  9.31s/it]"
     ]
    },
    {
     "name": "stdout",
     "output_type": "stream",
     "text": [
      "(0.1, 1, 30, 1)\n"
     ]
    },
    {
     "name": "stderr",
     "output_type": "stream",
     "text": [
      "\r",
      "  5%|▍         | 4/81 [01:05<22:32, 17.56s/it]"
     ]
    },
    {
     "name": "stdout",
     "output_type": "stream",
     "text": [
      "(0.1, 1, 30, 2)\n"
     ]
    },
    {
     "name": "stderr",
     "output_type": "stream",
     "text": [
      "\r",
      "  6%|▌         | 5/81 [01:48<31:49, 25.13s/it]"
     ]
    },
    {
     "name": "stdout",
     "output_type": "stream",
     "text": [
      "(0.1, 1, 30, 4)\n"
     ]
    },
    {
     "name": "stderr",
     "output_type": "stream",
     "text": [
      "\r",
      "  7%|▋         | 6/81 [02:36<40:05, 32.07s/it]"
     ]
    },
    {
     "name": "stdout",
     "output_type": "stream",
     "text": [
      "(0.1, 1, 100, 1)\n"
     ]
    },
    {
     "name": "stderr",
     "output_type": "stream",
     "text": [
      "\r",
      "  9%|▊         | 7/81 [04:53<1:18:26, 63.60s/it]"
     ]
    },
    {
     "name": "stdout",
     "output_type": "stream",
     "text": [
      "(0.1, 1, 100, 2)\n"
     ]
    },
    {
     "name": "stderr",
     "output_type": "stream",
     "text": [
      "\r",
      " 10%|▉         | 8/81 [07:17<1:46:50, 87.82s/it]"
     ]
    },
    {
     "name": "stdout",
     "output_type": "stream",
     "text": [
      "(0.1, 1, 100, 4)\n"
     ]
    },
    {
     "name": "stderr",
     "output_type": "stream",
     "text": [
      "\r",
      " 11%|█         | 9/81 [10:01<2:12:50, 110.70s/it]"
     ]
    },
    {
     "name": "stdout",
     "output_type": "stream",
     "text": [
      "(0.1, 30, 5, 1)\n"
     ]
    },
    {
     "name": "stderr",
     "output_type": "stream",
     "text": [
      "\r",
      " 12%|█▏        | 10/81 [10:12<1:35:17, 80.53s/it]"
     ]
    },
    {
     "name": "stdout",
     "output_type": "stream",
     "text": [
      "(0.1, 30, 5, 2)\n"
     ]
    },
    {
     "name": "stderr",
     "output_type": "stream",
     "text": [
      "\r",
      " 14%|█▎        | 11/81 [10:24<1:09:57, 59.96s/it]"
     ]
    },
    {
     "name": "stdout",
     "output_type": "stream",
     "text": [
      "(0.1, 30, 5, 4)\n"
     ]
    },
    {
     "name": "stderr",
     "output_type": "stream",
     "text": [
      "\r",
      " 15%|█▍        | 12/81 [10:35<52:19, 45.50s/it]  "
     ]
    },
    {
     "name": "stdout",
     "output_type": "stream",
     "text": [
      "(0.1, 30, 30, 1)\n"
     ]
    },
    {
     "name": "stderr",
     "output_type": "stream",
     "text": [
      "\r",
      " 16%|█▌        | 13/81 [11:25<52:48, 46.60s/it]"
     ]
    },
    {
     "name": "stdout",
     "output_type": "stream",
     "text": [
      "(0.1, 30, 30, 2)\n"
     ]
    },
    {
     "name": "stderr",
     "output_type": "stream",
     "text": [
      "\r",
      " 17%|█▋        | 14/81 [12:22<55:32, 49.74s/it]"
     ]
    },
    {
     "name": "stdout",
     "output_type": "stream",
     "text": [
      "(0.1, 30, 30, 4)\n"
     ]
    },
    {
     "name": "stderr",
     "output_type": "stream",
     "text": [
      "\r",
      " 19%|█▊        | 15/81 [13:28<1:00:12, 54.74s/it]"
     ]
    },
    {
     "name": "stdout",
     "output_type": "stream",
     "text": [
      "(0.1, 30, 100, 1)\n"
     ]
    },
    {
     "name": "stderr",
     "output_type": "stream",
     "text": [
      "\r",
      " 20%|█▉        | 16/81 [16:23<1:38:27, 90.88s/it]"
     ]
    },
    {
     "name": "stdout",
     "output_type": "stream",
     "text": [
      "(0.1, 30, 100, 2)\n"
     ]
    },
    {
     "name": "stderr",
     "output_type": "stream",
     "text": [
      "\r",
      " 21%|██        | 17/81 [19:46<2:12:47, 124.50s/it]"
     ]
    },
    {
     "name": "stdout",
     "output_type": "stream",
     "text": [
      "(0.1, 30, 100, 4)\n"
     ]
    },
    {
     "name": "stderr",
     "output_type": "stream",
     "text": [
      "\r",
      " 22%|██▏       | 18/81 [23:32<2:42:30, 154.78s/it]"
     ]
    },
    {
     "name": "stdout",
     "output_type": "stream",
     "text": [
      "(0.1, 100, 5, 1)\n"
     ]
    },
    {
     "name": "stderr",
     "output_type": "stream",
     "text": [
      "\r",
      " 23%|██▎       | 19/81 [23:47<1:56:43, 112.96s/it]"
     ]
    },
    {
     "name": "stdout",
     "output_type": "stream",
     "text": [
      "(0.1, 100, 5, 2)\n"
     ]
    },
    {
     "name": "stderr",
     "output_type": "stream",
     "text": [
      "\r",
      " 25%|██▍       | 20/81 [24:01<1:24:47, 83.40s/it] "
     ]
    },
    {
     "name": "stdout",
     "output_type": "stream",
     "text": [
      "(0.1, 100, 5, 4)\n"
     ]
    },
    {
     "name": "stderr",
     "output_type": "stream",
     "text": [
      "\r",
      " 26%|██▌       | 21/81 [24:18<1:03:24, 63.41s/it]"
     ]
    },
    {
     "name": "stdout",
     "output_type": "stream",
     "text": [
      "(0.1, 100, 30, 1)\n"
     ]
    },
    {
     "name": "stderr",
     "output_type": "stream",
     "text": [
      "\r",
      " 27%|██▋       | 22/81 [25:29<1:04:33, 65.64s/it]"
     ]
    },
    {
     "name": "stdout",
     "output_type": "stream",
     "text": [
      "(0.1, 100, 30, 2)\n"
     ]
    },
    {
     "name": "stderr",
     "output_type": "stream",
     "text": [
      "\r",
      " 28%|██▊       | 23/81 [26:51<1:08:11, 70.55s/it]"
     ]
    },
    {
     "name": "stdout",
     "output_type": "stream",
     "text": [
      "(0.1, 100, 30, 4)\n"
     ]
    },
    {
     "name": "stderr",
     "output_type": "stream",
     "text": [
      "\r",
      " 30%|██▉       | 24/81 [28:22<1:12:42, 76.54s/it]"
     ]
    },
    {
     "name": "stdout",
     "output_type": "stream",
     "text": [
      "(0.1, 100, 100, 1)\n"
     ]
    },
    {
     "name": "stderr",
     "output_type": "stream",
     "text": [
      "\r",
      " 31%|███       | 25/81 [32:47<2:04:21, 133.24s/it]"
     ]
    },
    {
     "name": "stdout",
     "output_type": "stream",
     "text": [
      "(0.1, 100, 100, 2)\n"
     ]
    },
    {
     "name": "stderr",
     "output_type": "stream",
     "text": [
      "\r",
      " 32%|███▏      | 26/81 [37:23<2:41:22, 176.04s/it]"
     ]
    },
    {
     "name": "stdout",
     "output_type": "stream",
     "text": [
      "(0.1, 100, 100, 4)\n"
     ]
    },
    {
     "name": "stderr",
     "output_type": "stream",
     "text": [
      "\r",
      " 33%|███▎      | 27/81 [42:26<3:12:39, 214.07s/it]"
     ]
    },
    {
     "name": "stdout",
     "output_type": "stream",
     "text": [
      "(1, 1, 5, 1)\n"
     ]
    },
    {
     "name": "stderr",
     "output_type": "stream",
     "text": [
      "\r",
      " 35%|███▍      | 28/81 [42:35<2:14:42, 152.50s/it]"
     ]
    },
    {
     "name": "stdout",
     "output_type": "stream",
     "text": [
      "(1, 1, 5, 2)\n"
     ]
    },
    {
     "name": "stderr",
     "output_type": "stream",
     "text": [
      "\r",
      " 36%|███▌      | 29/81 [42:46<1:35:25, 110.10s/it]"
     ]
    },
    {
     "name": "stdout",
     "output_type": "stream",
     "text": [
      "(1, 1, 5, 4)\n"
     ]
    },
    {
     "name": "stderr",
     "output_type": "stream",
     "text": [
      "\r",
      " 37%|███▋      | 30/81 [42:57<1:08:18, 80.37s/it] "
     ]
    },
    {
     "name": "stdout",
     "output_type": "stream",
     "text": [
      "(1, 1, 30, 1)\n"
     ]
    },
    {
     "name": "stderr",
     "output_type": "stream",
     "text": [
      "\r",
      " 38%|███▊      | 31/81 [43:39<57:32, 69.06s/it]  "
     ]
    },
    {
     "name": "stdout",
     "output_type": "stream",
     "text": [
      "(1, 1, 30, 2)\n"
     ]
    },
    {
     "name": "stderr",
     "output_type": "stream",
     "text": [
      "\r",
      " 40%|███▉      | 32/81 [44:31<52:03, 63.74s/it]"
     ]
    },
    {
     "name": "stdout",
     "output_type": "stream",
     "text": [
      "(1, 1, 30, 4)\n"
     ]
    },
    {
     "name": "stderr",
     "output_type": "stream",
     "text": [
      "\r",
      " 41%|████      | 33/81 [45:26<48:57, 61.19s/it]"
     ]
    },
    {
     "name": "stdout",
     "output_type": "stream",
     "text": [
      "(1, 1, 100, 1)\n"
     ]
    },
    {
     "name": "stderr",
     "output_type": "stream",
     "text": [
      "\r",
      " 42%|████▏     | 34/81 [47:47<1:06:37, 85.06s/it]"
     ]
    },
    {
     "name": "stdout",
     "output_type": "stream",
     "text": [
      "(1, 1, 100, 2)\n"
     ]
    },
    {
     "name": "stderr",
     "output_type": "stream",
     "text": [
      "\r",
      " 43%|████▎     | 35/81 [50:23<1:21:41, 106.56s/it]"
     ]
    },
    {
     "name": "stdout",
     "output_type": "stream",
     "text": [
      "(1, 1, 100, 4)\n"
     ]
    },
    {
     "name": "stderr",
     "output_type": "stream",
     "text": [
      "\r",
      " 44%|████▍     | 36/81 [53:17<1:35:00, 126.68s/it]"
     ]
    },
    {
     "name": "stdout",
     "output_type": "stream",
     "text": [
      "(1, 30, 5, 1)\n"
     ]
    },
    {
     "name": "stderr",
     "output_type": "stream",
     "text": [
      "\r",
      " 46%|████▌     | 37/81 [53:29<1:07:41, 92.32s/it] "
     ]
    },
    {
     "name": "stdout",
     "output_type": "stream",
     "text": [
      "(1, 30, 5, 2)\n"
     ]
    },
    {
     "name": "stderr",
     "output_type": "stream",
     "text": [
      "\r",
      " 47%|████▋     | 38/81 [53:41<48:47, 68.07s/it]  "
     ]
    },
    {
     "name": "stdout",
     "output_type": "stream",
     "text": [
      "(1, 30, 5, 4)\n"
     ]
    },
    {
     "name": "stderr",
     "output_type": "stream",
     "text": [
      "\r",
      " 48%|████▊     | 39/81 [53:53<35:59, 51.43s/it]"
     ]
    },
    {
     "name": "stdout",
     "output_type": "stream",
     "text": [
      "(1, 30, 30, 1)\n"
     ]
    },
    {
     "name": "stderr",
     "output_type": "stream",
     "text": [
      "\r",
      " 49%|████▉     | 40/81 [54:50<36:10, 52.95s/it]"
     ]
    },
    {
     "name": "stdout",
     "output_type": "stream",
     "text": [
      "(1, 30, 30, 2)\n"
     ]
    },
    {
     "name": "stderr",
     "output_type": "stream",
     "text": [
      "\r",
      " 51%|█████     | 41/81 [55:53<37:17, 55.93s/it]"
     ]
    },
    {
     "name": "stdout",
     "output_type": "stream",
     "text": [
      "(1, 30, 30, 4)\n"
     ]
    },
    {
     "name": "stderr",
     "output_type": "stream",
     "text": [
      "\r",
      " 52%|█████▏    | 42/81 [57:01<38:41, 59.53s/it]"
     ]
    },
    {
     "name": "stdout",
     "output_type": "stream",
     "text": [
      "(1, 30, 100, 1)\n"
     ]
    },
    {
     "name": "stderr",
     "output_type": "stream",
     "text": [
      "\r",
      " 53%|█████▎    | 43/81 [1:00:20<1:04:16, 101.50s/it]"
     ]
    },
    {
     "name": "stdout",
     "output_type": "stream",
     "text": [
      "(1, 30, 100, 2)\n"
     ]
    },
    {
     "name": "stderr",
     "output_type": "stream",
     "text": [
      "\r",
      " 54%|█████▍    | 44/81 [1:03:55<1:23:28, 135.37s/it]"
     ]
    },
    {
     "name": "stdout",
     "output_type": "stream",
     "text": [
      "(1, 30, 100, 4)\n"
     ]
    },
    {
     "name": "stderr",
     "output_type": "stream",
     "text": [
      "\r",
      " 56%|█████▌    | 45/81 [1:07:40<1:37:27, 162.44s/it]"
     ]
    },
    {
     "name": "stdout",
     "output_type": "stream",
     "text": [
      "(1, 100, 5, 1)\n"
     ]
    },
    {
     "name": "stderr",
     "output_type": "stream",
     "text": [
      "\r",
      " 57%|█████▋    | 46/81 [1:07:55<1:08:51, 118.04s/it]"
     ]
    },
    {
     "name": "stdout",
     "output_type": "stream",
     "text": [
      "(1, 100, 5, 2)\n"
     ]
    },
    {
     "name": "stderr",
     "output_type": "stream",
     "text": [
      "\r",
      " 58%|█████▊    | 47/81 [1:08:10<49:25, 87.21s/it]   "
     ]
    },
    {
     "name": "stdout",
     "output_type": "stream",
     "text": [
      "(1, 100, 5, 4)\n"
     ]
    },
    {
     "name": "stderr",
     "output_type": "stream",
     "text": [
      "\r",
      " 59%|█████▉    | 48/81 [1:08:26<36:16, 65.97s/it]"
     ]
    },
    {
     "name": "stdout",
     "output_type": "stream",
     "text": [
      "(1, 100, 30, 1)\n"
     ]
    },
    {
     "name": "stderr",
     "output_type": "stream",
     "text": [
      "\r",
      " 60%|██████    | 49/81 [1:09:48<37:46, 70.84s/it]"
     ]
    },
    {
     "name": "stdout",
     "output_type": "stream",
     "text": [
      "(1, 100, 30, 2)\n"
     ]
    },
    {
     "name": "stderr",
     "output_type": "stream",
     "text": [
      "\r",
      " 62%|██████▏   | 50/81 [1:11:16<39:09, 75.78s/it]"
     ]
    },
    {
     "name": "stdout",
     "output_type": "stream",
     "text": [
      "(1, 100, 30, 4)\n"
     ]
    },
    {
     "name": "stderr",
     "output_type": "stream",
     "text": [
      "\r",
      " 63%|██████▎   | 51/81 [1:12:46<40:00, 80.02s/it]"
     ]
    },
    {
     "name": "stdout",
     "output_type": "stream",
     "text": [
      "(1, 100, 100, 1)\n"
     ]
    },
    {
     "name": "stderr",
     "output_type": "stream",
     "text": [
      "\r",
      " 64%|██████▍   | 52/81 [1:17:26<1:07:46, 140.23s/it]"
     ]
    },
    {
     "name": "stdout",
     "output_type": "stream",
     "text": [
      "(1, 100, 100, 2)\n"
     ]
    },
    {
     "name": "stderr",
     "output_type": "stream",
     "text": [
      "\r",
      " 65%|██████▌   | 53/81 [1:22:21<1:27:01, 186.48s/it]"
     ]
    },
    {
     "name": "stdout",
     "output_type": "stream",
     "text": [
      "(1, 100, 100, 4)\n"
     ]
    },
    {
     "name": "stderr",
     "output_type": "stream",
     "text": [
      "\r",
      " 67%|██████▋   | 54/81 [1:27:33<1:40:55, 224.29s/it]"
     ]
    },
    {
     "name": "stdout",
     "output_type": "stream",
     "text": [
      "(10, 1, 5, 1)\n"
     ]
    },
    {
     "name": "stderr",
     "output_type": "stream",
     "text": [
      "\r",
      " 68%|██████▊   | 55/81 [1:27:44<1:09:24, 160.19s/it]"
     ]
    },
    {
     "name": "stdout",
     "output_type": "stream",
     "text": [
      "(10, 1, 5, 2)\n"
     ]
    },
    {
     "name": "stderr",
     "output_type": "stream",
     "text": [
      "\r",
      " 69%|██████▉   | 56/81 [1:27:55<48:09, 115.59s/it]  "
     ]
    },
    {
     "name": "stdout",
     "output_type": "stream",
     "text": [
      "(10, 1, 5, 4)\n"
     ]
    },
    {
     "name": "stderr",
     "output_type": "stream",
     "text": [
      "\r",
      " 70%|███████   | 57/81 [1:28:10<34:06, 85.27s/it] "
     ]
    },
    {
     "name": "stdout",
     "output_type": "stream",
     "text": [
      "(10, 1, 30, 1)\n"
     ]
    },
    {
     "name": "stderr",
     "output_type": "stream",
     "text": [
      "\r",
      " 72%|███████▏  | 58/81 [1:29:05<29:10, 76.09s/it]"
     ]
    },
    {
     "name": "stdout",
     "output_type": "stream",
     "text": [
      "(10, 1, 30, 2)\n"
     ]
    },
    {
     "name": "stderr",
     "output_type": "stream",
     "text": [
      "\r",
      " 73%|███████▎  | 59/81 [1:30:06<26:13, 71.53s/it]"
     ]
    },
    {
     "name": "stdout",
     "output_type": "stream",
     "text": [
      "(10, 1, 30, 4)\n"
     ]
    },
    {
     "name": "stderr",
     "output_type": "stream",
     "text": [
      "\r",
      " 74%|███████▍  | 60/81 [1:31:08<24:03, 68.75s/it]"
     ]
    },
    {
     "name": "stdout",
     "output_type": "stream",
     "text": [
      "(10, 1, 100, 1)\n"
     ]
    },
    {
     "name": "stderr",
     "output_type": "stream",
     "text": [
      "\r",
      " 75%|███████▌  | 61/81 [1:34:11<34:24, 103.21s/it]"
     ]
    },
    {
     "name": "stdout",
     "output_type": "stream",
     "text": [
      "(10, 1, 100, 2)\n"
     ]
    },
    {
     "name": "stderr",
     "output_type": "stream",
     "text": [
      "\r",
      " 77%|███████▋  | 62/81 [1:37:20<40:48, 128.86s/it]"
     ]
    },
    {
     "name": "stdout",
     "output_type": "stream",
     "text": [
      "(10, 1, 100, 4)\n"
     ]
    },
    {
     "name": "stderr",
     "output_type": "stream",
     "text": [
      "\r",
      " 78%|███████▊  | 63/81 [1:40:33<44:26, 148.12s/it]"
     ]
    },
    {
     "name": "stdout",
     "output_type": "stream",
     "text": [
      "(10, 30, 5, 1)\n"
     ]
    },
    {
     "name": "stderr",
     "output_type": "stream",
     "text": [
      "\r",
      " 79%|███████▉  | 64/81 [1:40:46<30:25, 107.41s/it]"
     ]
    },
    {
     "name": "stdout",
     "output_type": "stream",
     "text": [
      "(10, 30, 5, 2)\n"
     ]
    },
    {
     "name": "stderr",
     "output_type": "stream",
     "text": [
      "\r",
      " 80%|████████  | 65/81 [1:41:00<21:12, 79.52s/it] "
     ]
    },
    {
     "name": "stdout",
     "output_type": "stream",
     "text": [
      "(10, 30, 5, 4)\n"
     ]
    },
    {
     "name": "stderr",
     "output_type": "stream",
     "text": [
      "\r",
      " 81%|████████▏ | 66/81 [1:41:13<14:55, 59.67s/it]"
     ]
    },
    {
     "name": "stdout",
     "output_type": "stream",
     "text": [
      "(10, 30, 30, 1)\n"
     ]
    },
    {
     "name": "stderr",
     "output_type": "stream",
     "text": [
      "\r",
      " 83%|████████▎ | 67/81 [1:42:20<14:22, 61.62s/it]"
     ]
    },
    {
     "name": "stdout",
     "output_type": "stream",
     "text": [
      "(10, 30, 30, 2)\n"
     ]
    },
    {
     "name": "stderr",
     "output_type": "stream",
     "text": [
      "\r",
      " 84%|████████▍ | 68/81 [1:43:30<13:53, 64.14s/it]"
     ]
    },
    {
     "name": "stdout",
     "output_type": "stream",
     "text": [
      "(10, 30, 30, 4)\n"
     ]
    },
    {
     "name": "stderr",
     "output_type": "stream",
     "text": [
      "\r",
      " 85%|████████▌ | 69/81 [1:44:39<13:09, 65.83s/it]"
     ]
    },
    {
     "name": "stdout",
     "output_type": "stream",
     "text": [
      "(10, 30, 100, 1)\n"
     ]
    },
    {
     "name": "stderr",
     "output_type": "stream",
     "text": [
      "\r",
      " 86%|████████▋ | 70/81 [1:48:22<20:42, 112.93s/it]"
     ]
    },
    {
     "name": "stdout",
     "output_type": "stream",
     "text": [
      "(10, 30, 100, 2)\n"
     ]
    },
    {
     "name": "stderr",
     "output_type": "stream",
     "text": [
      "\r",
      " 88%|████████▊ | 71/81 [1:52:04<24:15, 145.51s/it]"
     ]
    },
    {
     "name": "stdout",
     "output_type": "stream",
     "text": [
      "(10, 30, 100, 4)\n"
     ]
    },
    {
     "name": "stderr",
     "output_type": "stream",
     "text": [
      "\r",
      " 89%|████████▉ | 72/81 [1:55:59<25:51, 172.40s/it]"
     ]
    },
    {
     "name": "stdout",
     "output_type": "stream",
     "text": [
      "(10, 100, 5, 1)\n"
     ]
    },
    {
     "name": "stderr",
     "output_type": "stream",
     "text": [
      "\r",
      " 90%|█████████ | 73/81 [1:56:17<16:48, 126.01s/it]"
     ]
    },
    {
     "name": "stdout",
     "output_type": "stream",
     "text": [
      "(10, 100, 5, 2)\n"
     ]
    },
    {
     "name": "stderr",
     "output_type": "stream",
     "text": [
      "\r",
      " 91%|█████████▏| 74/81 [1:56:33<10:52, 93.19s/it] "
     ]
    },
    {
     "name": "stdout",
     "output_type": "stream",
     "text": [
      "(10, 100, 5, 4)\n"
     ]
    },
    {
     "name": "stderr",
     "output_type": "stream",
     "text": [
      "\r",
      " 93%|█████████▎| 75/81 [1:56:52<07:04, 70.83s/it]"
     ]
    },
    {
     "name": "stdout",
     "output_type": "stream",
     "text": [
      "(10, 100, 30, 1)\n"
     ]
    },
    {
     "name": "stderr",
     "output_type": "stream",
     "text": [
      "\r",
      " 94%|█████████▍| 76/81 [1:58:25<06:27, 77.44s/it]"
     ]
    },
    {
     "name": "stdout",
     "output_type": "stream",
     "text": [
      "(10, 100, 30, 2)\n"
     ]
    },
    {
     "name": "stderr",
     "output_type": "stream",
     "text": [
      "\r",
      " 95%|█████████▌| 77/81 [1:59:58<05:29, 82.33s/it]"
     ]
    },
    {
     "name": "stdout",
     "output_type": "stream",
     "text": [
      "(10, 100, 30, 4)\n"
     ]
    },
    {
     "name": "stderr",
     "output_type": "stream",
     "text": [
      "\r",
      " 96%|█████████▋| 78/81 [2:01:36<04:20, 86.94s/it]"
     ]
    },
    {
     "name": "stdout",
     "output_type": "stream",
     "text": [
      "(10, 100, 100, 1)\n"
     ]
    },
    {
     "name": "stderr",
     "output_type": "stream",
     "text": [
      "\r",
      " 98%|█████████▊| 79/81 [2:06:41<05:04, 152.25s/it]"
     ]
    },
    {
     "name": "stdout",
     "output_type": "stream",
     "text": [
      "(10, 100, 100, 2)\n"
     ]
    },
    {
     "name": "stderr",
     "output_type": "stream",
     "text": [
      "\r",
      " 99%|█████████▉| 80/81 [2:11:58<03:21, 201.76s/it]"
     ]
    },
    {
     "name": "stdout",
     "output_type": "stream",
     "text": [
      "(10, 100, 100, 4)\n"
     ]
    },
    {
     "name": "stderr",
     "output_type": "stream",
     "text": [
      "100%|██████████| 81/81 [2:17:13<00:00, 101.65s/it]\n"
     ]
    }
   ],
   "source": [
    "for p in tqdm(params):\n",
    "    print(p)\n",
    "    levenshtein_weight, beam_size, max_steps, learning_rate = p\n",
    "    cmd = \\\n",
    "    f'''\n",
    "    python run_cascada.py \n",
    "    --csv_path data/{dataset}/test.csv \n",
    "    --results_path results/{dataset}/cascada\n",
    "    --classifier_path experiments/{dataset}/classification_copynet \n",
    "    --levenshtein_path experiments/{dataset}/deep_levenshtein_copynet \n",
    "    --copynet_path experiments/{dataset}/nonmasked_copynet_with_attention \n",
    "    --levenshtein_weight {levenshtein_weight}\n",
    "    --beam_size {beam_size} \n",
    "    --max_steps {max_steps}\n",
    "    --cuda 0 \n",
    "    --num_updates 5 \n",
    "    --learning_rate {learning_rate} \n",
    "    --sample 100\n",
    "    '''.replace('\\n','')\n",
    "    #break\n",
    "    result = subprocess.run(cmd, stdout=subprocess.PIPE, shell=True)"
   ]
  },
  {
   "cell_type": "code",
   "execution_count": 9,
   "metadata": {},
   "outputs": [
    {
     "data": {
      "text/plain": [
       "'    python run_cascada.py     --csv_path data/insurance/test.csv     --results_path results/insurance/cascada    --classifier_path experiments/insurance/classification_copynet     --levenshtein_path experiments/insurance/deep_levenshtein_copynet     --copynet_path experiments/insurance/nonmasked_copynet_with_attention     --levenshtein_weight 0.1    --beam_size 1     --max_steps 5    --cuda 0     --num_updates 5     --learning_rate 1     --sample 100    '"
      ]
     },
     "execution_count": 9,
     "metadata": {},
     "output_type": "execute_result"
    }
   ],
   "source": [
    "cmd"
   ]
  },
  {
   "cell_type": "code",
   "execution_count": 9,
   "metadata": {},
   "outputs": [],
   "source": [
    "base_dir = f'results/{dataset}'"
   ]
  },
  {
   "cell_type": "code",
   "execution_count": 14,
   "metadata": {},
   "outputs": [
    {
     "name": "stdout",
     "output_type": "stream",
     "text": [
      "The autoreload extension is already loaded. To reload it, use:\n",
      "  %reload_ext autoreload\n"
     ]
    }
   ],
   "source": [
    "%load_ext autoreload\n",
    "%autoreload 2"
   ]
  },
  {
   "cell_type": "code",
   "execution_count": 24,
   "metadata": {},
   "outputs": [],
   "source": [
    "model_with_weights = joblib.load(f'results/{dataset}/logit_tfidf.model')\n",
    "model = model_with_weights['model']\n",
    "w = model_with_weights['weights']\n",
    "for method in ['cascada']:\n",
    "    base = os.path.join(base_dir, method)\n",
    "    for folder in os.listdir(base):\n",
    "        if folder != 'backup':\n",
    "            attack_results_path = f'{base}/{folder}/results.csv'\n",
    "            eval_results_path = f'{base}/{folder}/eval_metric.json'\n",
    "            df = pd.read_csv(attack_results_path)\n",
    "            metrics = calculate_metrics(model, w, \n",
    "                                    df['label'].values, \n",
    "                                    df['sequence'].values,\n",
    "                                    df['adversarial_sequence'].values)\n",
    "            json.dump(metrics, open(eval_results_path, 'w'))"
   ]
  },
  {
   "cell_type": "code",
   "execution_count": 30,
   "metadata": {},
   "outputs": [
    {
     "data": {
      "text/plain": [
       "array([0.03540153, 0.41077302])"
      ]
     },
     "execution_count": 30,
     "metadata": {},
     "output_type": "execute_result"
    }
   ],
   "source": [
    "w"
   ]
  },
  {
   "cell_type": "code",
   "execution_count": 25,
   "metadata": {},
   "outputs": [],
   "source": [
    "result = []\n",
    "for method in ['cascada']:\n",
    "    base = os.path.join(base_dir, method)\n",
    "    for folder in os.listdir(base):\n",
    "        if folder != 'backup':\n",
    "            args = json.load(open(os.path.join(base, folder, 'args.json')))\n",
    "            metrics = json.load(open(os.path.join(base, folder, 'eval_metric.json')))\n",
    "            args.update(metrics)\n",
    "            result.append({k:args[k] for k in ['roc_auc_drop', 'accuracy_drop', 'probability_drop', 'WER', 'NAD',\n",
    "                                               'levenshtein_weight', 'beam_size', 'max_steps', 'learning_rate']})\n",
    "result = pd.DataFrame(result)"
   ]
  },
  {
   "cell_type": "code",
   "execution_count": 26,
   "metadata": {},
   "outputs": [
    {
     "data": {
      "text/plain": [
       "'results/insurance'"
      ]
     },
     "execution_count": 26,
     "metadata": {},
     "output_type": "execute_result"
    }
   ],
   "source": [
    "base_dir"
   ]
  },
  {
   "cell_type": "code",
   "execution_count": 27,
   "metadata": {},
   "outputs": [],
   "source": [
    "sns.set()"
   ]
  },
  {
   "cell_type": "code",
   "execution_count": 28,
   "metadata": {},
   "outputs": [
    {
     "data": {
      "image/png": "[encoded data removed]",
      "text/plain": [
       "<Figure size 1620x360 with 18 Axes>"
      ]
     },
     "metadata": {},
     "output_type": "display_data"
    }
   ],
   "source": [
    "g = sns.pairplot(result, x_vars=result.columns.values, y_vars=['NAD', 'WER'])\n",
    "plt.savefig(os.path.join(base_dir, f'stats_{method}.png'), dpi=150, bbox_inches='tight')"
   ]
  },
  {
   "cell_type": "code",
   "execution_count": 29,
   "metadata": {},
   "outputs": [
    {
     "data": {
      "text/html": [
       "<div>\n",
       "<style scoped>\n",
       "    .dataframe tbody tr th:only-of-type {\n",
       "        vertical-align: middle;\n",
       "    }\n",
       "\n",
       "    .dataframe tbody tr th {\n",
       "        vertical-align: top;\n",
       "    }\n",
       "\n",
       "    .dataframe thead th {\n",
       "        text-align: right;\n",
       "    }\n",
       "</style>\n",
       "<table border=\"1\" class=\"dataframe\">\n",
       "  <thead>\n",
       "    <tr style=\"text-align: right;\">\n",
       "      <th></th>\n",
       "      <th>roc_auc_drop</th>\n",
       "      <th>accuracy_drop</th>\n",
       "      <th>probability_drop</th>\n",
       "      <th>WER</th>\n",
       "      <th>NAD</th>\n",
       "      <th>levenshtein_weight</th>\n",
       "      <th>beam_size</th>\n",
       "      <th>max_steps</th>\n",
       "      <th>learning_rate</th>\n",
       "    </tr>\n",
       "  </thead>\n",
       "  <tbody>\n",
       "    <tr>\n",
       "      <th>0</th>\n",
       "      <td>0.000000e+00</td>\n",
       "      <td>0.00</td>\n",
       "      <td>-0.000193</td>\n",
       "      <td>0.06</td>\n",
       "      <td>0.0</td>\n",
       "      <td>0.1</td>\n",
       "      <td>100</td>\n",
       "      <td>5</td>\n",
       "      <td>1.0</td>\n",
       "    </tr>\n",
       "    <tr>\n",
       "      <th>61</th>\n",
       "      <td>0.000000e+00</td>\n",
       "      <td>0.01</td>\n",
       "      <td>0.003430</td>\n",
       "      <td>7.03</td>\n",
       "      <td>0.0</td>\n",
       "      <td>10.0</td>\n",
       "      <td>100</td>\n",
       "      <td>30</td>\n",
       "      <td>1.0</td>\n",
       "    </tr>\n",
       "    <tr>\n",
       "      <th>59</th>\n",
       "      <td>1.110223e-16</td>\n",
       "      <td>-0.01</td>\n",
       "      <td>0.000435</td>\n",
       "      <td>6.60</td>\n",
       "      <td>0.0</td>\n",
       "      <td>10.0</td>\n",
       "      <td>30</td>\n",
       "      <td>30</td>\n",
       "      <td>2.0</td>\n",
       "    </tr>\n",
       "    <tr>\n",
       "      <th>58</th>\n",
       "      <td>0.000000e+00</td>\n",
       "      <td>0.00</td>\n",
       "      <td>-0.000193</td>\n",
       "      <td>0.06</td>\n",
       "      <td>0.0</td>\n",
       "      <td>0.1</td>\n",
       "      <td>30</td>\n",
       "      <td>5</td>\n",
       "      <td>1.0</td>\n",
       "    </tr>\n",
       "    <tr>\n",
       "      <th>57</th>\n",
       "      <td>0.000000e+00</td>\n",
       "      <td>0.01</td>\n",
       "      <td>0.002830</td>\n",
       "      <td>8.08</td>\n",
       "      <td>0.0</td>\n",
       "      <td>10.0</td>\n",
       "      <td>30</td>\n",
       "      <td>100</td>\n",
       "      <td>1.0</td>\n",
       "    </tr>\n",
       "    <tr>\n",
       "      <th>...</th>\n",
       "      <td>...</td>\n",
       "      <td>...</td>\n",
       "      <td>...</td>\n",
       "      <td>...</td>\n",
       "      <td>...</td>\n",
       "      <td>...</td>\n",
       "      <td>...</td>\n",
       "      <td>...</td>\n",
       "      <td>...</td>\n",
       "    </tr>\n",
       "    <tr>\n",
       "      <th>26</th>\n",
       "      <td>0.000000e+00</td>\n",
       "      <td>-0.01</td>\n",
       "      <td>-0.000409</td>\n",
       "      <td>1.91</td>\n",
       "      <td>0.0</td>\n",
       "      <td>1.0</td>\n",
       "      <td>100</td>\n",
       "      <td>5</td>\n",
       "      <td>1.0</td>\n",
       "    </tr>\n",
       "    <tr>\n",
       "      <th>25</th>\n",
       "      <td>1.010101e-02</td>\n",
       "      <td>0.00</td>\n",
       "      <td>0.001540</td>\n",
       "      <td>3.14</td>\n",
       "      <td>0.0</td>\n",
       "      <td>1.0</td>\n",
       "      <td>100</td>\n",
       "      <td>30</td>\n",
       "      <td>1.0</td>\n",
       "    </tr>\n",
       "    <tr>\n",
       "      <th>24</th>\n",
       "      <td>9.090909e-02</td>\n",
       "      <td>0.09</td>\n",
       "      <td>0.023630</td>\n",
       "      <td>10.33</td>\n",
       "      <td>0.0</td>\n",
       "      <td>1.0</td>\n",
       "      <td>1</td>\n",
       "      <td>100</td>\n",
       "      <td>4.0</td>\n",
       "    </tr>\n",
       "    <tr>\n",
       "      <th>23</th>\n",
       "      <td>0.000000e+00</td>\n",
       "      <td>-0.01</td>\n",
       "      <td>0.001648</td>\n",
       "      <td>7.58</td>\n",
       "      <td>0.0</td>\n",
       "      <td>10.0</td>\n",
       "      <td>1</td>\n",
       "      <td>100</td>\n",
       "      <td>4.0</td>\n",
       "    </tr>\n",
       "    <tr>\n",
       "      <th>81</th>\n",
       "      <td>1.010101e-02</td>\n",
       "      <td>0.02</td>\n",
       "      <td>0.002768</td>\n",
       "      <td>4.15</td>\n",
       "      <td>0.0</td>\n",
       "      <td>1.0</td>\n",
       "      <td>30</td>\n",
       "      <td>5</td>\n",
       "      <td>2.0</td>\n",
       "    </tr>\n",
       "  </tbody>\n",
       "</table>\n",
       "<p>82 rows × 9 columns</p>\n",
       "</div>"
      ],
      "text/plain": [
       "    roc_auc_drop  accuracy_drop  probability_drop    WER  NAD  \\\n",
       "0   0.000000e+00           0.00         -0.000193   0.06  0.0   \n",
       "61  0.000000e+00           0.01          0.003430   7.03  0.0   \n",
       "59  1.110223e-16          -0.01          0.000435   6.60  0.0   \n",
       "58  0.000000e+00           0.00         -0.000193   0.06  0.0   \n",
       "57  0.000000e+00           0.01          0.002830   8.08  0.0   \n",
       "..           ...            ...               ...    ...  ...   \n",
       "26  0.000000e+00          -0.01         -0.000409   1.91  0.0   \n",
       "25  1.010101e-02           0.00          0.001540   3.14  0.0   \n",
       "24  9.090909e-02           0.09          0.023630  10.33  0.0   \n",
       "23  0.000000e+00          -0.01          0.001648   7.58  0.0   \n",
       "81  1.010101e-02           0.02          0.002768   4.15  0.0   \n",
       "\n",
       "    levenshtein_weight  beam_size  max_steps  learning_rate  \n",
       "0                  0.1        100          5            1.0  \n",
       "61                10.0        100         30            1.0  \n",
       "59                10.0         30         30            2.0  \n",
       "58                 0.1         30          5            1.0  \n",
       "57                10.0         30        100            1.0  \n",
       "..                 ...        ...        ...            ...  \n",
       "26                 1.0        100          5            1.0  \n",
       "25                 1.0        100         30            1.0  \n",
       "24                 1.0          1        100            4.0  \n",
       "23                10.0          1        100            4.0  \n",
       "81                 1.0         30          5            2.0  \n",
       "\n",
       "[82 rows x 9 columns]"
      ]
     },
     "execution_count": 29,
     "metadata": {},
     "output_type": "execute_result"
    }
   ],
   "source": [
    "result.sort_values(by='NAD', ascending=False)"
   ]
  },
  {
   "cell_type": "code",
   "execution_count": null,
   "metadata": {},
   "outputs": [],
   "source": []
  },
  {
   "cell_type": "code",
   "execution_count": null,
   "metadata": {},
   "outputs": [],
   "source": []
  },
  {
   "cell_type": "code",
   "execution_count": null,
   "metadata": {},
   "outputs": [],
   "source": []
  },
  {
   "cell_type": "code",
   "execution_count": null,
   "metadata": {},
   "outputs": [],
   "source": []
  },
  {
   "cell_type": "code",
   "execution_count": null,
   "metadata": {},
   "outputs": [],
   "source": []
  }
 ],
 "metadata": {
  "kernelspec": {
   "display_name": "Python [conda env:adat] *",
   "language": "python",
   "name": "conda-env-adat-py"
  },
  "language_info": {
   "codemirror_mode": {
    "name": "ipython",
    "version": 3
   },
   "file_extension": ".py",
   "mimetype": "text/x-python",
   "name": "python",
   "nbconvert_exporter": "python",
   "pygments_lexer": "ipython3",
   "version": "3.6.1"
  }
 },
 "nbformat": 4,
 "nbformat_minor": 4
}
