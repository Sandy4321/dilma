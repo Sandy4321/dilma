{
 "cells": [
  {
   "cell_type": "code",
   "execution_count": 1,
   "metadata": {},
   "outputs": [],
   "source": [
    "import subprocess\n",
    "import pandas as pd\n",
    "import os"
   ]
  },
  {
   "cell_type": "code",
   "execution_count": 2,
   "metadata": {},
   "outputs": [],
   "source": [
    "from sklearn.model_selection import ParameterSampler\n",
    "import seaborn as sns\n",
    "import matplotlib.pyplot as plt\n",
    "%matplotlib inline\n",
    "from tqdm import tqdm\n",
    "import numpy as np\n",
    "import itertools\n",
    "import time"
   ]
  },
  {
   "cell_type": "markdown",
   "metadata": {},
   "source": [
    "## make mcmc grisearch"
   ]
  },
  {
   "cell_type": "code",
   "execution_count": 9,
   "metadata": {},
   "outputs": [],
   "source": [
    "stds = [0.001, 0.01, 0.1, 1.0]\n",
    "sigma_classs = [0.2, 0.5, 0.75, 1.0, 1.25, 1.5, 2]\n",
    "#beam_sizes = [1, 30, 100]\n",
    "#num_stepss = [5, 30, 100]\n",
    "sigma_wers = [0.2, 0.5, 0.75, 1.0, 1.25, 1.5, 2]\n",
    "spaces = ['encoder_outputs', 'decoder_hidden']"
   ]
  },
  {
   "cell_type": "code",
   "execution_count": 4,
   "metadata": {},
   "outputs": [],
   "source": [
    "sampler = ParameterSampler(\n",
    "{'std':stds, 'sigma_class':sigma_classs, 'sigma_wer':sigma_wers}, 30)"
   ]
  },
  {
   "cell_type": "code",
   "execution_count": 5,
   "metadata": {},
   "outputs": [],
   "source": [
    "#params = list(itertools.product(beam_sizes, num_stepss))"
   ]
  },
  {
   "cell_type": "code",
   "execution_count": 6,
   "metadata": {},
   "outputs": [],
   "source": [
    "dataset = 'ai_academy_data'\n",
    "#dataset = 'insurance'\n",
    "#dataset = 'kaggle_transactions'\n",
    "#dataset = 'ag_news'"
   ]
  },
  {
   "cell_type": "code",
   "execution_count": 7,
   "metadata": {},
   "outputs": [],
   "source": [
    "beam_size, num_steps = 30, 30"
   ]
  },
  {
   "cell_type": "code",
   "execution_count": 8,
   "metadata": {},
   "outputs": [
    {
     "name": "stderr",
     "output_type": "stream",
     "text": [
      "\r",
      "  0%|          | 0/30 [00:00<?, ?it/s]"
     ]
    },
    {
     "name": "stdout",
     "output_type": "stream",
     "text": [
      "ai_academy_data\n",
      "30 30 0.01 1.25 2\n",
      "        python run_mcmc.py         --csv_path data/ai_academy_data/test.csv         --results_path results/ai_academy_data/mcmc         --classifier_path experiments/ai_academy_data/classifier_basic         --copynet_path experiments/ai_academy_data/nonmasked_copynet         --beam_size 30          --cuda 0         --sample 100         --std 0.01        --sigma_class 2        --sigma_wer 1.25        --num_steps 30        \n"
     ]
    },
    {
     "name": "stderr",
     "output_type": "stream",
     "text": [
      "\r",
      "  3%|▎         | 1/30 [01:16<37:11, 76.94s/it]"
     ]
    },
    {
     "name": "stdout",
     "output_type": "stream",
     "text": [
      "30 30 0.1 1.5 2\n",
      "        python run_mcmc.py         --csv_path data/ai_academy_data/test.csv         --results_path results/ai_academy_data/mcmc         --classifier_path experiments/ai_academy_data/classifier_basic         --copynet_path experiments/ai_academy_data/nonmasked_copynet         --beam_size 30          --cuda 0         --sample 100         --std 0.1        --sigma_class 2        --sigma_wer 1.5        --num_steps 30        \n"
     ]
    },
    {
     "ename": "KeyboardInterrupt",
     "evalue": "",
     "output_type": "error",
     "traceback": [
      "\u001b[0;31m---------------------------------------------------------------------------\u001b[0m",
      "\u001b[0;31mKeyboardInterrupt\u001b[0m                         Traceback (most recent call last)",
      "\u001b[0;32m<ipython-input-8-0d0a2306dc54>\u001b[0m in \u001b[0;36m<module>\u001b[0;34m\u001b[0m\n\u001b[1;32m     24\u001b[0m         '''.replace('\\n','')\n\u001b[1;32m     25\u001b[0m         \u001b[0mprint\u001b[0m\u001b[0;34m(\u001b[0m\u001b[0mcmd\u001b[0m\u001b[0;34m)\u001b[0m\u001b[0;34m\u001b[0m\u001b[0m\n\u001b[0;32m---> 26\u001b[0;31m         \u001b[0mresult\u001b[0m \u001b[0;34m=\u001b[0m \u001b[0msubprocess\u001b[0m\u001b[0;34m.\u001b[0m\u001b[0mrun\u001b[0m\u001b[0;34m(\u001b[0m\u001b[0mcmd\u001b[0m\u001b[0;34m,\u001b[0m \u001b[0mstdout\u001b[0m\u001b[0;34m=\u001b[0m\u001b[0msubprocess\u001b[0m\u001b[0;34m.\u001b[0m\u001b[0mPIPE\u001b[0m\u001b[0;34m,\u001b[0m \u001b[0mshell\u001b[0m\u001b[0;34m=\u001b[0m\u001b[0;32mTrue\u001b[0m\u001b[0;34m)\u001b[0m\u001b[0;34m\u001b[0m\u001b[0m\n\u001b[0m\u001b[1;32m     27\u001b[0m         \u001b[0mpbar\u001b[0m\u001b[0;34m.\u001b[0m\u001b[0mupdate\u001b[0m\u001b[0;34m(\u001b[0m\u001b[0;36m1\u001b[0m\u001b[0;34m)\u001b[0m\u001b[0;34m\u001b[0m\u001b[0m\n\u001b[1;32m     28\u001b[0m     \u001b[0mpbar\u001b[0m\u001b[0;34m.\u001b[0m\u001b[0mclose\u001b[0m\u001b[0;34m(\u001b[0m\u001b[0;34m)\u001b[0m\u001b[0;34m\u001b[0m\u001b[0m\n",
      "\u001b[0;32m~/miniconda3/envs/adat/lib/python3.6/subprocess.py\u001b[0m in \u001b[0;36mrun\u001b[0;34m(input, timeout, check, *popenargs, **kwargs)\u001b[0m\n\u001b[1;32m    403\u001b[0m     \u001b[0;32mwith\u001b[0m \u001b[0mPopen\u001b[0m\u001b[0;34m(\u001b[0m\u001b[0;34m*\u001b[0m\u001b[0mpopenargs\u001b[0m\u001b[0;34m,\u001b[0m \u001b[0;34m**\u001b[0m\u001b[0mkwargs\u001b[0m\u001b[0;34m)\u001b[0m \u001b[0;32mas\u001b[0m \u001b[0mprocess\u001b[0m\u001b[0;34m:\u001b[0m\u001b[0;34m\u001b[0m\u001b[0m\n\u001b[1;32m    404\u001b[0m         \u001b[0;32mtry\u001b[0m\u001b[0;34m:\u001b[0m\u001b[0;34m\u001b[0m\u001b[0m\n\u001b[0;32m--> 405\u001b[0;31m             \u001b[0mstdout\u001b[0m\u001b[0;34m,\u001b[0m \u001b[0mstderr\u001b[0m \u001b[0;34m=\u001b[0m \u001b[0mprocess\u001b[0m\u001b[0;34m.\u001b[0m\u001b[0mcommunicate\u001b[0m\u001b[0;34m(\u001b[0m\u001b[0minput\u001b[0m\u001b[0;34m,\u001b[0m \u001b[0mtimeout\u001b[0m\u001b[0;34m=\u001b[0m\u001b[0mtimeout\u001b[0m\u001b[0;34m)\u001b[0m\u001b[0;34m\u001b[0m\u001b[0m\n\u001b[0m\u001b[1;32m    406\u001b[0m         \u001b[0;32mexcept\u001b[0m \u001b[0mTimeoutExpired\u001b[0m\u001b[0;34m:\u001b[0m\u001b[0;34m\u001b[0m\u001b[0m\n\u001b[1;32m    407\u001b[0m             \u001b[0mprocess\u001b[0m\u001b[0;34m.\u001b[0m\u001b[0mkill\u001b[0m\u001b[0;34m(\u001b[0m\u001b[0;34m)\u001b[0m\u001b[0;34m\u001b[0m\u001b[0m\n",
      "\u001b[0;32m~/miniconda3/envs/adat/lib/python3.6/subprocess.py\u001b[0m in \u001b[0;36mcommunicate\u001b[0;34m(self, input, timeout)\u001b[0m\n\u001b[1;32m    821\u001b[0m                 \u001b[0mself\u001b[0m\u001b[0;34m.\u001b[0m\u001b[0m_stdin_write\u001b[0m\u001b[0;34m(\u001b[0m\u001b[0minput\u001b[0m\u001b[0;34m)\u001b[0m\u001b[0;34m\u001b[0m\u001b[0m\n\u001b[1;32m    822\u001b[0m             \u001b[0;32melif\u001b[0m \u001b[0mself\u001b[0m\u001b[0;34m.\u001b[0m\u001b[0mstdout\u001b[0m\u001b[0;34m:\u001b[0m\u001b[0;34m\u001b[0m\u001b[0m\n\u001b[0;32m--> 823\u001b[0;31m                 \u001b[0mstdout\u001b[0m \u001b[0;34m=\u001b[0m \u001b[0mself\u001b[0m\u001b[0;34m.\u001b[0m\u001b[0mstdout\u001b[0m\u001b[0;34m.\u001b[0m\u001b[0mread\u001b[0m\u001b[0;34m(\u001b[0m\u001b[0;34m)\u001b[0m\u001b[0;34m\u001b[0m\u001b[0m\n\u001b[0m\u001b[1;32m    824\u001b[0m                 \u001b[0mself\u001b[0m\u001b[0;34m.\u001b[0m\u001b[0mstdout\u001b[0m\u001b[0;34m.\u001b[0m\u001b[0mclose\u001b[0m\u001b[0;34m(\u001b[0m\u001b[0;34m)\u001b[0m\u001b[0;34m\u001b[0m\u001b[0m\n\u001b[1;32m    825\u001b[0m             \u001b[0;32melif\u001b[0m \u001b[0mself\u001b[0m\u001b[0;34m.\u001b[0m\u001b[0mstderr\u001b[0m\u001b[0;34m:\u001b[0m\u001b[0;34m\u001b[0m\u001b[0m\n",
      "\u001b[0;31mKeyboardInterrupt\u001b[0m: "
     ]
    }
   ],
   "source": [
    "for dataset in ['ai_academy_data', 'insurance', 'kaggle_transactions', 'ag_news']:\n",
    "    print(dataset)\n",
    "    pbar = tqdm(total=sampler.n_iter)\n",
    "    #for beam_size, num_steps in params:\n",
    "    for space in spaces:\n",
    "        for s in sampler:\n",
    "            std = s['std']\n",
    "            sigma_wer = s['sigma_wer']\n",
    "            sigma_class = s['sigma_class']\n",
    "            print(space, beam_size, num_steps, std, sigma_wer, sigma_class)\n",
    "            cmd = \\\n",
    "            f'''\n",
    "            python run_mcmc.py \n",
    "            --csv_path data/{dataset}/test.csv \n",
    "            --results_path results/{dataset}/mcmc \n",
    "            --classifier_path experiments/{dataset}/classifier_basic \n",
    "            --copynet_path experiments/{dataset}/nonmasked_copynet \n",
    "            --beam_size {beam_size}  \n",
    "            --cuda 0 \n",
    "            --sample 100 \n",
    "            --std {std}\n",
    "            --sigma_class {sigma_class}\n",
    "            --sigma_wer {sigma_wer}\n",
    "            --num_steps {num_steps}\n",
    "            --space {space}\n",
    "            '''.replace('\\n','')\n",
    "            print(cmd)\n",
    "            result = subprocess.run(cmd, stdout=subprocess.PIPE, shell=True)\n",
    "            pbar.update(1)\n",
    "        pbar.close()"
   ]
  },
  {
   "cell_type": "code",
   "execution_count": null,
   "metadata": {},
   "outputs": [],
   "source": []
  },
  {
   "cell_type": "code",
   "execution_count": null,
   "metadata": {},
   "outputs": [],
   "source": []
  },
  {
   "cell_type": "markdown",
   "metadata": {},
   "source": [
    "## make random grisearch"
   ]
  },
  {
   "cell_type": "code",
   "execution_count": 9,
   "metadata": {},
   "outputs": [
    {
     "data": {
      "text/plain": [
       "'ai_academy_data'"
      ]
     },
     "execution_count": 9,
     "metadata": {},
     "output_type": "execute_result"
    }
   ],
   "source": [
    "dataset"
   ]
  },
  {
   "cell_type": "code",
   "execution_count": null,
   "metadata": {
    "scrolled": true
   },
   "outputs": [],
   "source": [
    "#for beam_size, num_steps in params:\n",
    "for dataset in ['ai_academy_data', 'insurance', 'kaggle_transactions', 'ag_news']:\n",
    "    print(dataset)\n",
    "    for space in spaces:\n",
    "        for std in tqdm(stds):\n",
    "        #for std in tqdm([0.01]):\n",
    "            print(space, beam_size, num_steps, std)\n",
    "            cmd = \\\n",
    "            f'''\n",
    "            python run_mcmc.py \n",
    "            --csv_path data/{dataset}/test.csv \n",
    "            --results_path results/{dataset}/random \n",
    "            --classifier_path experiments/{dataset}/classifier_basic \n",
    "            --copynet_path experiments/{dataset}/nonmasked_copynet \n",
    "            --beam_size {beam_size}  \n",
    "            --cuda 0 \n",
    "            --sample 100 \n",
    "            --std {std}\n",
    "            --num_steps {num_steps}\n",
    "            --random\n",
    "            --space {space}\n",
    "            '''.replace('\\n','')\n",
    "            print(cmd)\n",
    "            result = subprocess.run(cmd, stdout=subprocess.PIPE, shell=True)"
   ]
  },
  {
   "cell_type": "code",
   "execution_count": null,
   "metadata": {},
   "outputs": [],
   "source": []
  },
  {
   "cell_type": "code",
   "execution_count": null,
   "metadata": {},
   "outputs": [],
   "source": []
  },
  {
   "cell_type": "code",
   "execution_count": 11,
   "metadata": {},
   "outputs": [],
   "source": [
    "from eval import calculate_nad, calculate_metrics\n",
    "import joblib\n",
    "import json\n",
    "from adat.models.classification_model import LogisticRegressionOnTfIdf"
   ]
  },
  {
   "cell_type": "code",
   "execution_count": 12,
   "metadata": {},
   "outputs": [],
   "source": [
    "base_dir = f'results/{dataset}'"
   ]
  },
  {
   "cell_type": "code",
   "execution_count": 13,
   "metadata": {},
   "outputs": [
    {
     "data": {
      "text/plain": [
       "'results/ai_academy_data'"
      ]
     },
     "execution_count": 13,
     "metadata": {},
     "output_type": "execute_result"
    }
   ],
   "source": [
    "base_dir"
   ]
  },
  {
   "cell_type": "code",
   "execution_count": 30,
   "metadata": {},
   "outputs": [],
   "source": [
    "model_with_weights = joblib.load(f'results/{dataset}/logit_tfidf.model')\n",
    "model = model_with_weights['model']\n",
    "w = model_with_weights['weights']\n",
    "\n",
    "for method in ['mcmc', 'random']:\n",
    "    base = os.path.join(base_dir, method)\n",
    "    for folder in os.listdir(base):\n",
    "        if folder != 'backup':\n",
    "            attack_results_path = f'{base}/{folder}/results.csv'\n",
    "            eval_results_path = f'{base}/{folder}/eval_metric.json'\n",
    "            df = pd.read_csv(attack_results_path)\n",
    "            df.rename(columns={'generated_sequence':'adversarial_sequence'}, inplace=True)\n",
    "            metrics = calculate_metrics(model, w,\n",
    "                                    df['label'].values, \n",
    "                                    df['sequence'].values,\n",
    "                                    df['adversarial_sequence'].values)\n",
    "            json.dump(metrics, open(eval_results_path, 'w'))"
   ]
  },
  {
   "cell_type": "code",
   "execution_count": null,
   "metadata": {},
   "outputs": [],
   "source": []
  },
  {
   "cell_type": "code",
   "execution_count": 30,
   "metadata": {},
   "outputs": [],
   "source": [
    "result = []\n",
    "for method in ['mcmc']:\n",
    "    base = os.path.join(base_dir, method)\n",
    "    for folder in os.listdir(base):\n",
    "        if folder != 'backup':\n",
    "            args = json.load(open(os.path.join(base, folder, 'args.json')))\n",
    "            metrics = json.load(open(os.path.join(base, folder, 'eval_metric.json')))\n",
    "            args.update(metrics)\n",
    "            result.append({k:args[k] for k in ['accuracy_drop', 'probability_drop', 'WER', 'NAD',\n",
    "                                                'beam_size', 'num_steps', 'std', 'sigma_wer', 'sigma_class']})\n",
    "result = pd.DataFrame(result)"
   ]
  },
  {
   "cell_type": "code",
   "execution_count": null,
   "metadata": {},
   "outputs": [],
   "source": []
  },
  {
   "cell_type": "code",
   "execution_count": 31,
   "metadata": {},
   "outputs": [
    {
     "data": {
      "text/html": [
       "<div>\n",
       "<style scoped>\n",
       "    .dataframe tbody tr th:only-of-type {\n",
       "        vertical-align: middle;\n",
       "    }\n",
       "\n",
       "    .dataframe tbody tr th {\n",
       "        vertical-align: top;\n",
       "    }\n",
       "\n",
       "    .dataframe thead th {\n",
       "        text-align: right;\n",
       "    }\n",
       "</style>\n",
       "<table border=\"1\" class=\"dataframe\">\n",
       "  <thead>\n",
       "    <tr style=\"text-align: right;\">\n",
       "      <th></th>\n",
       "      <th>accuracy_drop</th>\n",
       "      <th>probability_drop</th>\n",
       "      <th>WER</th>\n",
       "      <th>NAD</th>\n",
       "      <th>beam_size</th>\n",
       "      <th>num_steps</th>\n",
       "      <th>std</th>\n",
       "      <th>sigma_wer</th>\n",
       "      <th>sigma_class</th>\n",
       "    </tr>\n",
       "  </thead>\n",
       "  <tbody>\n",
       "    <tr>\n",
       "      <th>0</th>\n",
       "      <td>0.17</td>\n",
       "      <td>0.062851</td>\n",
       "      <td>4.40</td>\n",
       "      <td>0.068408</td>\n",
       "      <td>1</td>\n",
       "      <td>100</td>\n",
       "      <td>0.20</td>\n",
       "      <td>1.25</td>\n",
       "      <td>0.75</td>\n",
       "    </tr>\n",
       "    <tr>\n",
       "      <th>1</th>\n",
       "      <td>0.28</td>\n",
       "      <td>0.100129</td>\n",
       "      <td>4.99</td>\n",
       "      <td>0.132937</td>\n",
       "      <td>30</td>\n",
       "      <td>30</td>\n",
       "      <td>0.20</td>\n",
       "      <td>0.75</td>\n",
       "      <td>1.25</td>\n",
       "    </tr>\n",
       "    <tr>\n",
       "      <th>2</th>\n",
       "      <td>0.04</td>\n",
       "      <td>0.022052</td>\n",
       "      <td>0.92</td>\n",
       "      <td>0.012421</td>\n",
       "      <td>30</td>\n",
       "      <td>30</td>\n",
       "      <td>0.01</td>\n",
       "      <td>1.50</td>\n",
       "      <td>0.20</td>\n",
       "    </tr>\n",
       "    <tr>\n",
       "      <th>3</th>\n",
       "      <td>0.28</td>\n",
       "      <td>0.097047</td>\n",
       "      <td>4.83</td>\n",
       "      <td>0.132937</td>\n",
       "      <td>30</td>\n",
       "      <td>30</td>\n",
       "      <td>0.01</td>\n",
       "      <td>0.50</td>\n",
       "      <td>1.00</td>\n",
       "    </tr>\n",
       "    <tr>\n",
       "      <th>4</th>\n",
       "      <td>0.28</td>\n",
       "      <td>0.100129</td>\n",
       "      <td>4.99</td>\n",
       "      <td>0.132937</td>\n",
       "      <td>30</td>\n",
       "      <td>30</td>\n",
       "      <td>0.50</td>\n",
       "      <td>1.25</td>\n",
       "      <td>0.75</td>\n",
       "    </tr>\n",
       "    <tr>\n",
       "      <th>5</th>\n",
       "      <td>0.17</td>\n",
       "      <td>0.061514</td>\n",
       "      <td>4.30</td>\n",
       "      <td>0.068408</td>\n",
       "      <td>1</td>\n",
       "      <td>100</td>\n",
       "      <td>0.10</td>\n",
       "      <td>0.50</td>\n",
       "      <td>1.00</td>\n",
       "    </tr>\n",
       "    <tr>\n",
       "      <th>6</th>\n",
       "      <td>0.17</td>\n",
       "      <td>0.062851</td>\n",
       "      <td>4.40</td>\n",
       "      <td>0.068408</td>\n",
       "      <td>1</td>\n",
       "      <td>100</td>\n",
       "      <td>0.05</td>\n",
       "      <td>0.75</td>\n",
       "      <td>1.00</td>\n",
       "    </tr>\n",
       "    <tr>\n",
       "      <th>7</th>\n",
       "      <td>0.16</td>\n",
       "      <td>0.061223</td>\n",
       "      <td>4.33</td>\n",
       "      <td>0.065369</td>\n",
       "      <td>1</td>\n",
       "      <td>100</td>\n",
       "      <td>0.20</td>\n",
       "      <td>1.00</td>\n",
       "      <td>0.50</td>\n",
       "    </tr>\n",
       "    <tr>\n",
       "      <th>8</th>\n",
       "      <td>0.06</td>\n",
       "      <td>0.026843</td>\n",
       "      <td>2.00</td>\n",
       "      <td>0.029771</td>\n",
       "      <td>1</td>\n",
       "      <td>100</td>\n",
       "      <td>0.01</td>\n",
       "      <td>0.20</td>\n",
       "      <td>0.75</td>\n",
       "    </tr>\n",
       "    <tr>\n",
       "      <th>9</th>\n",
       "      <td>0.17</td>\n",
       "      <td>0.062851</td>\n",
       "      <td>4.40</td>\n",
       "      <td>0.068408</td>\n",
       "      <td>1</td>\n",
       "      <td>100</td>\n",
       "      <td>0.10</td>\n",
       "      <td>1.50</td>\n",
       "      <td>0.75</td>\n",
       "    </tr>\n",
       "    <tr>\n",
       "      <th>10</th>\n",
       "      <td>0.17</td>\n",
       "      <td>0.062851</td>\n",
       "      <td>4.40</td>\n",
       "      <td>0.068408</td>\n",
       "      <td>1</td>\n",
       "      <td>100</td>\n",
       "      <td>0.01</td>\n",
       "      <td>1.50</td>\n",
       "      <td>1.00</td>\n",
       "    </tr>\n",
       "    <tr>\n",
       "      <th>11</th>\n",
       "      <td>0.17</td>\n",
       "      <td>0.062851</td>\n",
       "      <td>4.40</td>\n",
       "      <td>0.068408</td>\n",
       "      <td>1</td>\n",
       "      <td>100</td>\n",
       "      <td>0.05</td>\n",
       "      <td>1.25</td>\n",
       "      <td>1.00</td>\n",
       "    </tr>\n",
       "    <tr>\n",
       "      <th>12</th>\n",
       "      <td>0.17</td>\n",
       "      <td>0.062851</td>\n",
       "      <td>4.40</td>\n",
       "      <td>0.068408</td>\n",
       "      <td>1</td>\n",
       "      <td>100</td>\n",
       "      <td>0.50</td>\n",
       "      <td>0.75</td>\n",
       "      <td>0.50</td>\n",
       "    </tr>\n",
       "    <tr>\n",
       "      <th>13</th>\n",
       "      <td>0.26</td>\n",
       "      <td>0.095047</td>\n",
       "      <td>4.41</td>\n",
       "      <td>0.105961</td>\n",
       "      <td>30</td>\n",
       "      <td>30</td>\n",
       "      <td>0.05</td>\n",
       "      <td>0.75</td>\n",
       "      <td>0.50</td>\n",
       "    </tr>\n",
       "    <tr>\n",
       "      <th>14</th>\n",
       "      <td>0.17</td>\n",
       "      <td>0.062851</td>\n",
       "      <td>4.40</td>\n",
       "      <td>0.068408</td>\n",
       "      <td>1</td>\n",
       "      <td>100</td>\n",
       "      <td>0.20</td>\n",
       "      <td>1.50</td>\n",
       "      <td>1.50</td>\n",
       "    </tr>\n",
       "    <tr>\n",
       "      <th>15</th>\n",
       "      <td>0.17</td>\n",
       "      <td>0.062851</td>\n",
       "      <td>4.40</td>\n",
       "      <td>0.068408</td>\n",
       "      <td>1</td>\n",
       "      <td>100</td>\n",
       "      <td>0.05</td>\n",
       "      <td>1.50</td>\n",
       "      <td>1.00</td>\n",
       "    </tr>\n",
       "    <tr>\n",
       "      <th>16</th>\n",
       "      <td>0.27</td>\n",
       "      <td>0.097518</td>\n",
       "      <td>4.71</td>\n",
       "      <td>0.129897</td>\n",
       "      <td>30</td>\n",
       "      <td>30</td>\n",
       "      <td>0.10</td>\n",
       "      <td>1.00</td>\n",
       "      <td>0.50</td>\n",
       "    </tr>\n",
       "    <tr>\n",
       "      <th>17</th>\n",
       "      <td>0.26</td>\n",
       "      <td>0.092292</td>\n",
       "      <td>4.67</td>\n",
       "      <td>0.128875</td>\n",
       "      <td>30</td>\n",
       "      <td>30</td>\n",
       "      <td>0.10</td>\n",
       "      <td>0.50</td>\n",
       "      <td>1.50</td>\n",
       "    </tr>\n",
       "    <tr>\n",
       "      <th>18</th>\n",
       "      <td>0.28</td>\n",
       "      <td>0.100129</td>\n",
       "      <td>4.99</td>\n",
       "      <td>0.132937</td>\n",
       "      <td>30</td>\n",
       "      <td>30</td>\n",
       "      <td>0.01</td>\n",
       "      <td>1.25</td>\n",
       "      <td>1.25</td>\n",
       "    </tr>\n",
       "    <tr>\n",
       "      <th>19</th>\n",
       "      <td>0.03</td>\n",
       "      <td>0.020932</td>\n",
       "      <td>0.85</td>\n",
       "      <td>0.009736</td>\n",
       "      <td>30</td>\n",
       "      <td>30</td>\n",
       "      <td>0.20</td>\n",
       "      <td>0.75</td>\n",
       "      <td>0.20</td>\n",
       "    </tr>\n",
       "    <tr>\n",
       "      <th>20</th>\n",
       "      <td>0.06</td>\n",
       "      <td>0.018695</td>\n",
       "      <td>0.59</td>\n",
       "      <td>0.036000</td>\n",
       "      <td>30</td>\n",
       "      <td>30</td>\n",
       "      <td>0.01</td>\n",
       "      <td>0.50</td>\n",
       "      <td>0.20</td>\n",
       "    </tr>\n",
       "    <tr>\n",
       "      <th>21</th>\n",
       "      <td>0.08</td>\n",
       "      <td>0.031984</td>\n",
       "      <td>1.11</td>\n",
       "      <td>0.063560</td>\n",
       "      <td>30</td>\n",
       "      <td>30</td>\n",
       "      <td>0.05</td>\n",
       "      <td>1.50</td>\n",
       "      <td>0.20</td>\n",
       "    </tr>\n",
       "    <tr>\n",
       "      <th>22</th>\n",
       "      <td>0.17</td>\n",
       "      <td>0.062851</td>\n",
       "      <td>4.40</td>\n",
       "      <td>0.068408</td>\n",
       "      <td>1</td>\n",
       "      <td>100</td>\n",
       "      <td>1.00</td>\n",
       "      <td>1.00</td>\n",
       "      <td>1.25</td>\n",
       "    </tr>\n",
       "    <tr>\n",
       "      <th>23</th>\n",
       "      <td>0.17</td>\n",
       "      <td>0.062851</td>\n",
       "      <td>4.40</td>\n",
       "      <td>0.068408</td>\n",
       "      <td>1</td>\n",
       "      <td>100</td>\n",
       "      <td>0.50</td>\n",
       "      <td>0.50</td>\n",
       "      <td>1.25</td>\n",
       "    </tr>\n",
       "    <tr>\n",
       "      <th>24</th>\n",
       "      <td>0.28</td>\n",
       "      <td>0.100129</td>\n",
       "      <td>4.99</td>\n",
       "      <td>0.132937</td>\n",
       "      <td>30</td>\n",
       "      <td>30</td>\n",
       "      <td>0.50</td>\n",
       "      <td>0.75</td>\n",
       "      <td>1.25</td>\n",
       "    </tr>\n",
       "    <tr>\n",
       "      <th>25</th>\n",
       "      <td>0.28</td>\n",
       "      <td>0.100129</td>\n",
       "      <td>4.99</td>\n",
       "      <td>0.132937</td>\n",
       "      <td>30</td>\n",
       "      <td>30</td>\n",
       "      <td>0.10</td>\n",
       "      <td>1.25</td>\n",
       "      <td>1.00</td>\n",
       "    </tr>\n",
       "    <tr>\n",
       "      <th>26</th>\n",
       "      <td>0.17</td>\n",
       "      <td>0.062851</td>\n",
       "      <td>4.40</td>\n",
       "      <td>0.068408</td>\n",
       "      <td>1</td>\n",
       "      <td>100</td>\n",
       "      <td>0.01</td>\n",
       "      <td>1.25</td>\n",
       "      <td>1.25</td>\n",
       "    </tr>\n",
       "    <tr>\n",
       "      <th>27</th>\n",
       "      <td>0.28</td>\n",
       "      <td>0.100129</td>\n",
       "      <td>4.99</td>\n",
       "      <td>0.132937</td>\n",
       "      <td>30</td>\n",
       "      <td>30</td>\n",
       "      <td>0.20</td>\n",
       "      <td>1.25</td>\n",
       "      <td>1.00</td>\n",
       "    </tr>\n",
       "    <tr>\n",
       "      <th>28</th>\n",
       "      <td>0.04</td>\n",
       "      <td>0.013458</td>\n",
       "      <td>1.12</td>\n",
       "      <td>0.014092</td>\n",
       "      <td>1</td>\n",
       "      <td>100</td>\n",
       "      <td>0.10</td>\n",
       "      <td>0.50</td>\n",
       "      <td>0.20</td>\n",
       "    </tr>\n",
       "    <tr>\n",
       "      <th>29</th>\n",
       "      <td>0.27</td>\n",
       "      <td>0.098626</td>\n",
       "      <td>4.92</td>\n",
       "      <td>0.129897</td>\n",
       "      <td>30</td>\n",
       "      <td>30</td>\n",
       "      <td>0.05</td>\n",
       "      <td>0.50</td>\n",
       "      <td>1.50</td>\n",
       "    </tr>\n",
       "    <tr>\n",
       "      <th>30</th>\n",
       "      <td>0.11</td>\n",
       "      <td>0.032734</td>\n",
       "      <td>1.69</td>\n",
       "      <td>0.077399</td>\n",
       "      <td>30</td>\n",
       "      <td>30</td>\n",
       "      <td>1.00</td>\n",
       "      <td>0.20</td>\n",
       "      <td>1.25</td>\n",
       "    </tr>\n",
       "    <tr>\n",
       "      <th>31</th>\n",
       "      <td>0.04</td>\n",
       "      <td>0.017084</td>\n",
       "      <td>0.61</td>\n",
       "      <td>0.033343</td>\n",
       "      <td>30</td>\n",
       "      <td>30</td>\n",
       "      <td>0.10</td>\n",
       "      <td>0.75</td>\n",
       "      <td>0.20</td>\n",
       "    </tr>\n",
       "    <tr>\n",
       "      <th>32</th>\n",
       "      <td>0.28</td>\n",
       "      <td>0.100129</td>\n",
       "      <td>4.99</td>\n",
       "      <td>0.132937</td>\n",
       "      <td>30</td>\n",
       "      <td>30</td>\n",
       "      <td>0.10</td>\n",
       "      <td>1.50</td>\n",
       "      <td>1.25</td>\n",
       "    </tr>\n",
       "    <tr>\n",
       "      <th>33</th>\n",
       "      <td>0.17</td>\n",
       "      <td>0.062851</td>\n",
       "      <td>4.40</td>\n",
       "      <td>0.068408</td>\n",
       "      <td>1</td>\n",
       "      <td>100</td>\n",
       "      <td>0.20</td>\n",
       "      <td>1.25</td>\n",
       "      <td>1.25</td>\n",
       "    </tr>\n",
       "    <tr>\n",
       "      <th>34</th>\n",
       "      <td>0.06</td>\n",
       "      <td>0.035564</td>\n",
       "      <td>1.37</td>\n",
       "      <td>0.014674</td>\n",
       "      <td>30</td>\n",
       "      <td>30</td>\n",
       "      <td>0.05</td>\n",
       "      <td>1.25</td>\n",
       "      <td>0.20</td>\n",
       "    </tr>\n",
       "    <tr>\n",
       "      <th>35</th>\n",
       "      <td>0.26</td>\n",
       "      <td>0.094008</td>\n",
       "      <td>4.74</td>\n",
       "      <td>0.126317</td>\n",
       "      <td>30</td>\n",
       "      <td>30</td>\n",
       "      <td>1.00</td>\n",
       "      <td>1.25</td>\n",
       "      <td>0.50</td>\n",
       "    </tr>\n",
       "    <tr>\n",
       "      <th>36</th>\n",
       "      <td>0.27</td>\n",
       "      <td>0.097284</td>\n",
       "      <td>4.73</td>\n",
       "      <td>0.129391</td>\n",
       "      <td>30</td>\n",
       "      <td>30</td>\n",
       "      <td>0.05</td>\n",
       "      <td>1.25</td>\n",
       "      <td>0.50</td>\n",
       "    </tr>\n",
       "    <tr>\n",
       "      <th>37</th>\n",
       "      <td>0.17</td>\n",
       "      <td>0.062851</td>\n",
       "      <td>4.40</td>\n",
       "      <td>0.068408</td>\n",
       "      <td>1</td>\n",
       "      <td>100</td>\n",
       "      <td>0.05</td>\n",
       "      <td>0.75</td>\n",
       "      <td>1.50</td>\n",
       "    </tr>\n",
       "    <tr>\n",
       "      <th>38</th>\n",
       "      <td>0.07</td>\n",
       "      <td>0.019761</td>\n",
       "      <td>1.51</td>\n",
       "      <td>0.030126</td>\n",
       "      <td>1</td>\n",
       "      <td>100</td>\n",
       "      <td>0.05</td>\n",
       "      <td>0.20</td>\n",
       "      <td>0.50</td>\n",
       "    </tr>\n",
       "    <tr>\n",
       "      <th>39</th>\n",
       "      <td>0.28</td>\n",
       "      <td>0.098991</td>\n",
       "      <td>4.83</td>\n",
       "      <td>0.132937</td>\n",
       "      <td>30</td>\n",
       "      <td>30</td>\n",
       "      <td>0.05</td>\n",
       "      <td>0.75</td>\n",
       "      <td>0.75</td>\n",
       "    </tr>\n",
       "    <tr>\n",
       "      <th>40</th>\n",
       "      <td>0.17</td>\n",
       "      <td>0.062851</td>\n",
       "      <td>4.40</td>\n",
       "      <td>0.068408</td>\n",
       "      <td>1</td>\n",
       "      <td>100</td>\n",
       "      <td>1.00</td>\n",
       "      <td>0.75</td>\n",
       "      <td>0.50</td>\n",
       "    </tr>\n",
       "    <tr>\n",
       "      <th>41</th>\n",
       "      <td>0.12</td>\n",
       "      <td>0.044833</td>\n",
       "      <td>3.07</td>\n",
       "      <td>0.044827</td>\n",
       "      <td>1</td>\n",
       "      <td>100</td>\n",
       "      <td>0.20</td>\n",
       "      <td>1.25</td>\n",
       "      <td>0.20</td>\n",
       "    </tr>\n",
       "    <tr>\n",
       "      <th>42</th>\n",
       "      <td>0.13</td>\n",
       "      <td>0.043297</td>\n",
       "      <td>1.76</td>\n",
       "      <td>0.083350</td>\n",
       "      <td>30</td>\n",
       "      <td>30</td>\n",
       "      <td>0.20</td>\n",
       "      <td>0.20</td>\n",
       "      <td>1.00</td>\n",
       "    </tr>\n",
       "    <tr>\n",
       "      <th>43</th>\n",
       "      <td>0.02</td>\n",
       "      <td>0.005011</td>\n",
       "      <td>0.12</td>\n",
       "      <td>0.025532</td>\n",
       "      <td>30</td>\n",
       "      <td>30</td>\n",
       "      <td>0.10</td>\n",
       "      <td>0.20</td>\n",
       "      <td>0.20</td>\n",
       "    </tr>\n",
       "    <tr>\n",
       "      <th>44</th>\n",
       "      <td>0.17</td>\n",
       "      <td>0.062851</td>\n",
       "      <td>4.40</td>\n",
       "      <td>0.068408</td>\n",
       "      <td>1</td>\n",
       "      <td>100</td>\n",
       "      <td>0.01</td>\n",
       "      <td>1.50</td>\n",
       "      <td>1.50</td>\n",
       "    </tr>\n",
       "    <tr>\n",
       "      <th>45</th>\n",
       "      <td>0.08</td>\n",
       "      <td>0.031065</td>\n",
       "      <td>1.24</td>\n",
       "      <td>0.042664</td>\n",
       "      <td>30</td>\n",
       "      <td>30</td>\n",
       "      <td>0.20</td>\n",
       "      <td>1.50</td>\n",
       "      <td>0.20</td>\n",
       "    </tr>\n",
       "    <tr>\n",
       "      <th>46</th>\n",
       "      <td>0.17</td>\n",
       "      <td>0.062851</td>\n",
       "      <td>4.40</td>\n",
       "      <td>0.068408</td>\n",
       "      <td>1</td>\n",
       "      <td>100</td>\n",
       "      <td>0.10</td>\n",
       "      <td>1.25</td>\n",
       "      <td>0.75</td>\n",
       "    </tr>\n",
       "    <tr>\n",
       "      <th>47</th>\n",
       "      <td>0.13</td>\n",
       "      <td>0.040795</td>\n",
       "      <td>2.79</td>\n",
       "      <td>0.047274</td>\n",
       "      <td>1</td>\n",
       "      <td>100</td>\n",
       "      <td>0.10</td>\n",
       "      <td>1.50</td>\n",
       "      <td>0.20</td>\n",
       "    </tr>\n",
       "    <tr>\n",
       "      <th>48</th>\n",
       "      <td>0.17</td>\n",
       "      <td>0.062851</td>\n",
       "      <td>4.40</td>\n",
       "      <td>0.068408</td>\n",
       "      <td>1</td>\n",
       "      <td>100</td>\n",
       "      <td>0.05</td>\n",
       "      <td>1.50</td>\n",
       "      <td>0.75</td>\n",
       "    </tr>\n",
       "    <tr>\n",
       "      <th>49</th>\n",
       "      <td>0.28</td>\n",
       "      <td>0.100129</td>\n",
       "      <td>4.99</td>\n",
       "      <td>0.132937</td>\n",
       "      <td>30</td>\n",
       "      <td>30</td>\n",
       "      <td>0.10</td>\n",
       "      <td>1.25</td>\n",
       "      <td>0.75</td>\n",
       "    </tr>\n",
       "    <tr>\n",
       "      <th>50</th>\n",
       "      <td>0.11</td>\n",
       "      <td>0.037360</td>\n",
       "      <td>1.56</td>\n",
       "      <td>0.078571</td>\n",
       "      <td>30</td>\n",
       "      <td>30</td>\n",
       "      <td>0.01</td>\n",
       "      <td>0.20</td>\n",
       "      <td>1.00</td>\n",
       "    </tr>\n",
       "    <tr>\n",
       "      <th>51</th>\n",
       "      <td>0.09</td>\n",
       "      <td>0.039512</td>\n",
       "      <td>1.43</td>\n",
       "      <td>0.030133</td>\n",
       "      <td>30</td>\n",
       "      <td>30</td>\n",
       "      <td>0.20</td>\n",
       "      <td>1.25</td>\n",
       "      <td>0.20</td>\n",
       "    </tr>\n",
       "    <tr>\n",
       "      <th>52</th>\n",
       "      <td>0.08</td>\n",
       "      <td>0.029462</td>\n",
       "      <td>2.30</td>\n",
       "      <td>0.037454</td>\n",
       "      <td>1</td>\n",
       "      <td>100</td>\n",
       "      <td>0.05</td>\n",
       "      <td>0.20</td>\n",
       "      <td>1.25</td>\n",
       "    </tr>\n",
       "    <tr>\n",
       "      <th>53</th>\n",
       "      <td>0.17</td>\n",
       "      <td>0.062851</td>\n",
       "      <td>4.40</td>\n",
       "      <td>0.068408</td>\n",
       "      <td>1</td>\n",
       "      <td>100</td>\n",
       "      <td>0.01</td>\n",
       "      <td>1.25</td>\n",
       "      <td>1.50</td>\n",
       "    </tr>\n",
       "    <tr>\n",
       "      <th>54</th>\n",
       "      <td>0.17</td>\n",
       "      <td>0.062851</td>\n",
       "      <td>4.40</td>\n",
       "      <td>0.068408</td>\n",
       "      <td>1</td>\n",
       "      <td>100</td>\n",
       "      <td>0.50</td>\n",
       "      <td>0.50</td>\n",
       "      <td>1.00</td>\n",
       "    </tr>\n",
       "    <tr>\n",
       "      <th>55</th>\n",
       "      <td>0.17</td>\n",
       "      <td>0.062851</td>\n",
       "      <td>4.40</td>\n",
       "      <td>0.068408</td>\n",
       "      <td>1</td>\n",
       "      <td>100</td>\n",
       "      <td>0.50</td>\n",
       "      <td>0.50</td>\n",
       "      <td>1.50</td>\n",
       "    </tr>\n",
       "    <tr>\n",
       "      <th>56</th>\n",
       "      <td>0.08</td>\n",
       "      <td>0.027396</td>\n",
       "      <td>1.93</td>\n",
       "      <td>0.041548</td>\n",
       "      <td>1</td>\n",
       "      <td>100</td>\n",
       "      <td>0.05</td>\n",
       "      <td>0.20</td>\n",
       "      <td>1.00</td>\n",
       "    </tr>\n",
       "    <tr>\n",
       "      <th>57</th>\n",
       "      <td>0.08</td>\n",
       "      <td>0.033076</td>\n",
       "      <td>2.21</td>\n",
       "      <td>0.039582</td>\n",
       "      <td>1</td>\n",
       "      <td>100</td>\n",
       "      <td>1.00</td>\n",
       "      <td>0.20</td>\n",
       "      <td>1.50</td>\n",
       "    </tr>\n",
       "    <tr>\n",
       "      <th>58</th>\n",
       "      <td>0.15</td>\n",
       "      <td>0.052734</td>\n",
       "      <td>1.73</td>\n",
       "      <td>0.086813</td>\n",
       "      <td>30</td>\n",
       "      <td>30</td>\n",
       "      <td>0.50</td>\n",
       "      <td>0.20</td>\n",
       "      <td>1.50</td>\n",
       "    </tr>\n",
       "    <tr>\n",
       "      <th>59</th>\n",
       "      <td>0.05</td>\n",
       "      <td>0.017008</td>\n",
       "      <td>0.91</td>\n",
       "      <td>0.053571</td>\n",
       "      <td>30</td>\n",
       "      <td>30</td>\n",
       "      <td>0.01</td>\n",
       "      <td>0.20</td>\n",
       "      <td>0.50</td>\n",
       "    </tr>\n",
       "  </tbody>\n",
       "</table>\n",
       "</div>"
      ],
      "text/plain": [
       "    accuracy_drop  probability_drop   WER       NAD  beam_size  num_steps  \\\n",
       "0            0.17          0.062851  4.40  0.068408          1        100   \n",
       "1            0.28          0.100129  4.99  0.132937         30         30   \n",
       "2            0.04          0.022052  0.92  0.012421         30         30   \n",
       "3            0.28          0.097047  4.83  0.132937         30         30   \n",
       "4            0.28          0.100129  4.99  0.132937         30         30   \n",
       "5            0.17          0.061514  4.30  0.068408          1        100   \n",
       "6            0.17          0.062851  4.40  0.068408          1        100   \n",
       "7            0.16          0.061223  4.33  0.065369          1        100   \n",
       "8            0.06          0.026843  2.00  0.029771          1        100   \n",
       "9            0.17          0.062851  4.40  0.068408          1        100   \n",
       "10           0.17          0.062851  4.40  0.068408          1        100   \n",
       "11           0.17          0.062851  4.40  0.068408          1        100   \n",
       "12           0.17          0.062851  4.40  0.068408          1        100   \n",
       "13           0.26          0.095047  4.41  0.105961         30         30   \n",
       "14           0.17          0.062851  4.40  0.068408          1        100   \n",
       "15           0.17          0.062851  4.40  0.068408          1        100   \n",
       "16           0.27          0.097518  4.71  0.129897         30         30   \n",
       "17           0.26          0.092292  4.67  0.128875         30         30   \n",
       "18           0.28          0.100129  4.99  0.132937         30         30   \n",
       "19           0.03          0.020932  0.85  0.009736         30         30   \n",
       "20           0.06          0.018695  0.59  0.036000         30         30   \n",
       "21           0.08          0.031984  1.11  0.063560         30         30   \n",
       "22           0.17          0.062851  4.40  0.068408          1        100   \n",
       "23           0.17          0.062851  4.40  0.068408          1        100   \n",
       "24           0.28          0.100129  4.99  0.132937         30         30   \n",
       "25           0.28          0.100129  4.99  0.132937         30         30   \n",
       "26           0.17          0.062851  4.40  0.068408          1        100   \n",
       "27           0.28          0.100129  4.99  0.132937         30         30   \n",
       "28           0.04          0.013458  1.12  0.014092          1        100   \n",
       "29           0.27          0.098626  4.92  0.129897         30         30   \n",
       "30           0.11          0.032734  1.69  0.077399         30         30   \n",
       "31           0.04          0.017084  0.61  0.033343         30         30   \n",
       "32           0.28          0.100129  4.99  0.132937         30         30   \n",
       "33           0.17          0.062851  4.40  0.068408          1        100   \n",
       "34           0.06          0.035564  1.37  0.014674         30         30   \n",
       "35           0.26          0.094008  4.74  0.126317         30         30   \n",
       "36           0.27          0.097284  4.73  0.129391         30         30   \n",
       "37           0.17          0.062851  4.40  0.068408          1        100   \n",
       "38           0.07          0.019761  1.51  0.030126          1        100   \n",
       "39           0.28          0.098991  4.83  0.132937         30         30   \n",
       "40           0.17          0.062851  4.40  0.068408          1        100   \n",
       "41           0.12          0.044833  3.07  0.044827          1        100   \n",
       "42           0.13          0.043297  1.76  0.083350         30         30   \n",
       "43           0.02          0.005011  0.12  0.025532         30         30   \n",
       "44           0.17          0.062851  4.40  0.068408          1        100   \n",
       "45           0.08          0.031065  1.24  0.042664         30         30   \n",
       "46           0.17          0.062851  4.40  0.068408          1        100   \n",
       "47           0.13          0.040795  2.79  0.047274          1        100   \n",
       "48           0.17          0.062851  4.40  0.068408          1        100   \n",
       "49           0.28          0.100129  4.99  0.132937         30         30   \n",
       "50           0.11          0.037360  1.56  0.078571         30         30   \n",
       "51           0.09          0.039512  1.43  0.030133         30         30   \n",
       "52           0.08          0.029462  2.30  0.037454          1        100   \n",
       "53           0.17          0.062851  4.40  0.068408          1        100   \n",
       "54           0.17          0.062851  4.40  0.068408          1        100   \n",
       "55           0.17          0.062851  4.40  0.068408          1        100   \n",
       "56           0.08          0.027396  1.93  0.041548          1        100   \n",
       "57           0.08          0.033076  2.21  0.039582          1        100   \n",
       "58           0.15          0.052734  1.73  0.086813         30         30   \n",
       "59           0.05          0.017008  0.91  0.053571         30         30   \n",
       "\n",
       "     std  sigma_wer  sigma_class  \n",
       "0   0.20       1.25         0.75  \n",
       "1   0.20       0.75         1.25  \n",
       "2   0.01       1.50         0.20  \n",
       "3   0.01       0.50         1.00  \n",
       "4   0.50       1.25         0.75  \n",
       "5   0.10       0.50         1.00  \n",
       "6   0.05       0.75         1.00  \n",
       "7   0.20       1.00         0.50  \n",
       "8   0.01       0.20         0.75  \n",
       "9   0.10       1.50         0.75  \n",
       "10  0.01       1.50         1.00  \n",
       "11  0.05       1.25         1.00  \n",
       "12  0.50       0.75         0.50  \n",
       "13  0.05       0.75         0.50  \n",
       "14  0.20       1.50         1.50  \n",
       "15  0.05       1.50         1.00  \n",
       "16  0.10       1.00         0.50  \n",
       "17  0.10       0.50         1.50  \n",
       "18  0.01       1.25         1.25  \n",
       "19  0.20       0.75         0.20  \n",
       "20  0.01       0.50         0.20  \n",
       "21  0.05       1.50         0.20  \n",
       "22  1.00       1.00         1.25  \n",
       "23  0.50       0.50         1.25  \n",
       "24  0.50       0.75         1.25  \n",
       "25  0.10       1.25         1.00  \n",
       "26  0.01       1.25         1.25  \n",
       "27  0.20       1.25         1.00  \n",
       "28  0.10       0.50         0.20  \n",
       "29  0.05       0.50         1.50  \n",
       "30  1.00       0.20         1.25  \n",
       "31  0.10       0.75         0.20  \n",
       "32  0.10       1.50         1.25  \n",
       "33  0.20       1.25         1.25  \n",
       "34  0.05       1.25         0.20  \n",
       "35  1.00       1.25         0.50  \n",
       "36  0.05       1.25         0.50  \n",
       "37  0.05       0.75         1.50  \n",
       "38  0.05       0.20         0.50  \n",
       "39  0.05       0.75         0.75  \n",
       "40  1.00       0.75         0.50  \n",
       "41  0.20       1.25         0.20  \n",
       "42  0.20       0.20         1.00  \n",
       "43  0.10       0.20         0.20  \n",
       "44  0.01       1.50         1.50  \n",
       "45  0.20       1.50         0.20  \n",
       "46  0.10       1.25         0.75  \n",
       "47  0.10       1.50         0.20  \n",
       "48  0.05       1.50         0.75  \n",
       "49  0.10       1.25         0.75  \n",
       "50  0.01       0.20         1.00  \n",
       "51  0.20       1.25         0.20  \n",
       "52  0.05       0.20         1.25  \n",
       "53  0.01       1.25         1.50  \n",
       "54  0.50       0.50         1.00  \n",
       "55  0.50       0.50         1.50  \n",
       "56  0.05       0.20         1.00  \n",
       "57  1.00       0.20         1.50  \n",
       "58  0.50       0.20         1.50  \n",
       "59  0.01       0.20         0.50  "
      ]
     },
     "execution_count": 31,
     "metadata": {},
     "output_type": "execute_result"
    }
   ],
   "source": [
    "result"
   ]
  },
  {
   "cell_type": "code",
   "execution_count": 32,
   "metadata": {},
   "outputs": [],
   "source": [
    "sns.set()"
   ]
  },
  {
   "cell_type": "code",
   "execution_count": 33,
   "metadata": {},
   "outputs": [
    {
     "data": {
      "image/png": "[encoded data removed]",
      "text/plain": [
       "<Figure size 1620x360 with 18 Axes>"
      ]
     },
     "metadata": {},
     "output_type": "display_data"
    }
   ],
   "source": [
    "g = sns.pairplot(result, x_vars=result.columns.values, y_vars=['NAD', 'WER'])\n",
    "plt.savefig(os.path.join(base_dir, f'stats_{method}.png'), dpi=150, bbox_inches='tight')"
   ]
  },
  {
   "cell_type": "code",
   "execution_count": 34,
   "metadata": {},
   "outputs": [
    {
     "data": {
      "text/html": [
       "<div>\n",
       "<style scoped>\n",
       "    .dataframe tbody tr th:only-of-type {\n",
       "        vertical-align: middle;\n",
       "    }\n",
       "\n",
       "    .dataframe tbody tr th {\n",
       "        vertical-align: top;\n",
       "    }\n",
       "\n",
       "    .dataframe thead th {\n",
       "        text-align: right;\n",
       "    }\n",
       "</style>\n",
       "<table border=\"1\" class=\"dataframe\">\n",
       "  <thead>\n",
       "    <tr style=\"text-align: right;\">\n",
       "      <th></th>\n",
       "      <th>accuracy_drop</th>\n",
       "      <th>probability_drop</th>\n",
       "      <th>WER</th>\n",
       "      <th>NAD</th>\n",
       "      <th>beam_size</th>\n",
       "      <th>num_steps</th>\n",
       "      <th>std</th>\n",
       "      <th>sigma_wer</th>\n",
       "      <th>sigma_class</th>\n",
       "    </tr>\n",
       "  </thead>\n",
       "  <tbody>\n",
       "    <tr>\n",
       "      <th>1</th>\n",
       "      <td>0.28</td>\n",
       "      <td>0.100129</td>\n",
       "      <td>4.99</td>\n",
       "      <td>0.132937</td>\n",
       "      <td>30</td>\n",
       "      <td>30</td>\n",
       "      <td>0.20</td>\n",
       "      <td>0.75</td>\n",
       "      <td>1.25</td>\n",
       "    </tr>\n",
       "    <tr>\n",
       "      <th>32</th>\n",
       "      <td>0.28</td>\n",
       "      <td>0.100129</td>\n",
       "      <td>4.99</td>\n",
       "      <td>0.132937</td>\n",
       "      <td>30</td>\n",
       "      <td>30</td>\n",
       "      <td>0.10</td>\n",
       "      <td>1.50</td>\n",
       "      <td>1.25</td>\n",
       "    </tr>\n",
       "    <tr>\n",
       "      <th>18</th>\n",
       "      <td>0.28</td>\n",
       "      <td>0.100129</td>\n",
       "      <td>4.99</td>\n",
       "      <td>0.132937</td>\n",
       "      <td>30</td>\n",
       "      <td>30</td>\n",
       "      <td>0.01</td>\n",
       "      <td>1.25</td>\n",
       "      <td>1.25</td>\n",
       "    </tr>\n",
       "    <tr>\n",
       "      <th>39</th>\n",
       "      <td>0.28</td>\n",
       "      <td>0.098991</td>\n",
       "      <td>4.83</td>\n",
       "      <td>0.132937</td>\n",
       "      <td>30</td>\n",
       "      <td>30</td>\n",
       "      <td>0.05</td>\n",
       "      <td>0.75</td>\n",
       "      <td>0.75</td>\n",
       "    </tr>\n",
       "    <tr>\n",
       "      <th>49</th>\n",
       "      <td>0.28</td>\n",
       "      <td>0.100129</td>\n",
       "      <td>4.99</td>\n",
       "      <td>0.132937</td>\n",
       "      <td>30</td>\n",
       "      <td>30</td>\n",
       "      <td>0.10</td>\n",
       "      <td>1.25</td>\n",
       "      <td>0.75</td>\n",
       "    </tr>\n",
       "    <tr>\n",
       "      <th>25</th>\n",
       "      <td>0.28</td>\n",
       "      <td>0.100129</td>\n",
       "      <td>4.99</td>\n",
       "      <td>0.132937</td>\n",
       "      <td>30</td>\n",
       "      <td>30</td>\n",
       "      <td>0.10</td>\n",
       "      <td>1.25</td>\n",
       "      <td>1.00</td>\n",
       "    </tr>\n",
       "    <tr>\n",
       "      <th>24</th>\n",
       "      <td>0.28</td>\n",
       "      <td>0.100129</td>\n",
       "      <td>4.99</td>\n",
       "      <td>0.132937</td>\n",
       "      <td>30</td>\n",
       "      <td>30</td>\n",
       "      <td>0.50</td>\n",
       "      <td>0.75</td>\n",
       "      <td>1.25</td>\n",
       "    </tr>\n",
       "    <tr>\n",
       "      <th>27</th>\n",
       "      <td>0.28</td>\n",
       "      <td>0.100129</td>\n",
       "      <td>4.99</td>\n",
       "      <td>0.132937</td>\n",
       "      <td>30</td>\n",
       "      <td>30</td>\n",
       "      <td>0.20</td>\n",
       "      <td>1.25</td>\n",
       "      <td>1.00</td>\n",
       "    </tr>\n",
       "    <tr>\n",
       "      <th>4</th>\n",
       "      <td>0.28</td>\n",
       "      <td>0.100129</td>\n",
       "      <td>4.99</td>\n",
       "      <td>0.132937</td>\n",
       "      <td>30</td>\n",
       "      <td>30</td>\n",
       "      <td>0.50</td>\n",
       "      <td>1.25</td>\n",
       "      <td>0.75</td>\n",
       "    </tr>\n",
       "    <tr>\n",
       "      <th>3</th>\n",
       "      <td>0.28</td>\n",
       "      <td>0.097047</td>\n",
       "      <td>4.83</td>\n",
       "      <td>0.132937</td>\n",
       "      <td>30</td>\n",
       "      <td>30</td>\n",
       "      <td>0.01</td>\n",
       "      <td>0.50</td>\n",
       "      <td>1.00</td>\n",
       "    </tr>\n",
       "    <tr>\n",
       "      <th>29</th>\n",
       "      <td>0.27</td>\n",
       "      <td>0.098626</td>\n",
       "      <td>4.92</td>\n",
       "      <td>0.129897</td>\n",
       "      <td>30</td>\n",
       "      <td>30</td>\n",
       "      <td>0.05</td>\n",
       "      <td>0.50</td>\n",
       "      <td>1.50</td>\n",
       "    </tr>\n",
       "    <tr>\n",
       "      <th>16</th>\n",
       "      <td>0.27</td>\n",
       "      <td>0.097518</td>\n",
       "      <td>4.71</td>\n",
       "      <td>0.129897</td>\n",
       "      <td>30</td>\n",
       "      <td>30</td>\n",
       "      <td>0.10</td>\n",
       "      <td>1.00</td>\n",
       "      <td>0.50</td>\n",
       "    </tr>\n",
       "    <tr>\n",
       "      <th>36</th>\n",
       "      <td>0.27</td>\n",
       "      <td>0.097284</td>\n",
       "      <td>4.73</td>\n",
       "      <td>0.129391</td>\n",
       "      <td>30</td>\n",
       "      <td>30</td>\n",
       "      <td>0.05</td>\n",
       "      <td>1.25</td>\n",
       "      <td>0.50</td>\n",
       "    </tr>\n",
       "    <tr>\n",
       "      <th>17</th>\n",
       "      <td>0.26</td>\n",
       "      <td>0.092292</td>\n",
       "      <td>4.67</td>\n",
       "      <td>0.128875</td>\n",
       "      <td>30</td>\n",
       "      <td>30</td>\n",
       "      <td>0.10</td>\n",
       "      <td>0.50</td>\n",
       "      <td>1.50</td>\n",
       "    </tr>\n",
       "    <tr>\n",
       "      <th>35</th>\n",
       "      <td>0.26</td>\n",
       "      <td>0.094008</td>\n",
       "      <td>4.74</td>\n",
       "      <td>0.126317</td>\n",
       "      <td>30</td>\n",
       "      <td>30</td>\n",
       "      <td>1.00</td>\n",
       "      <td>1.25</td>\n",
       "      <td>0.50</td>\n",
       "    </tr>\n",
       "    <tr>\n",
       "      <th>13</th>\n",
       "      <td>0.26</td>\n",
       "      <td>0.095047</td>\n",
       "      <td>4.41</td>\n",
       "      <td>0.105961</td>\n",
       "      <td>30</td>\n",
       "      <td>30</td>\n",
       "      <td>0.05</td>\n",
       "      <td>0.75</td>\n",
       "      <td>0.50</td>\n",
       "    </tr>\n",
       "    <tr>\n",
       "      <th>58</th>\n",
       "      <td>0.15</td>\n",
       "      <td>0.052734</td>\n",
       "      <td>1.73</td>\n",
       "      <td>0.086813</td>\n",
       "      <td>30</td>\n",
       "      <td>30</td>\n",
       "      <td>0.50</td>\n",
       "      <td>0.20</td>\n",
       "      <td>1.50</td>\n",
       "    </tr>\n",
       "    <tr>\n",
       "      <th>42</th>\n",
       "      <td>0.13</td>\n",
       "      <td>0.043297</td>\n",
       "      <td>1.76</td>\n",
       "      <td>0.083350</td>\n",
       "      <td>30</td>\n",
       "      <td>30</td>\n",
       "      <td>0.20</td>\n",
       "      <td>0.20</td>\n",
       "      <td>1.00</td>\n",
       "    </tr>\n",
       "    <tr>\n",
       "      <th>50</th>\n",
       "      <td>0.11</td>\n",
       "      <td>0.037360</td>\n",
       "      <td>1.56</td>\n",
       "      <td>0.078571</td>\n",
       "      <td>30</td>\n",
       "      <td>30</td>\n",
       "      <td>0.01</td>\n",
       "      <td>0.20</td>\n",
       "      <td>1.00</td>\n",
       "    </tr>\n",
       "    <tr>\n",
       "      <th>30</th>\n",
       "      <td>0.11</td>\n",
       "      <td>0.032734</td>\n",
       "      <td>1.69</td>\n",
       "      <td>0.077399</td>\n",
       "      <td>30</td>\n",
       "      <td>30</td>\n",
       "      <td>1.00</td>\n",
       "      <td>0.20</td>\n",
       "      <td>1.25</td>\n",
       "    </tr>\n",
       "    <tr>\n",
       "      <th>40</th>\n",
       "      <td>0.17</td>\n",
       "      <td>0.062851</td>\n",
       "      <td>4.40</td>\n",
       "      <td>0.068408</td>\n",
       "      <td>1</td>\n",
       "      <td>100</td>\n",
       "      <td>1.00</td>\n",
       "      <td>0.75</td>\n",
       "      <td>0.50</td>\n",
       "    </tr>\n",
       "    <tr>\n",
       "      <th>44</th>\n",
       "      <td>0.17</td>\n",
       "      <td>0.062851</td>\n",
       "      <td>4.40</td>\n",
       "      <td>0.068408</td>\n",
       "      <td>1</td>\n",
       "      <td>100</td>\n",
       "      <td>0.01</td>\n",
       "      <td>1.50</td>\n",
       "      <td>1.50</td>\n",
       "    </tr>\n",
       "    <tr>\n",
       "      <th>37</th>\n",
       "      <td>0.17</td>\n",
       "      <td>0.062851</td>\n",
       "      <td>4.40</td>\n",
       "      <td>0.068408</td>\n",
       "      <td>1</td>\n",
       "      <td>100</td>\n",
       "      <td>0.05</td>\n",
       "      <td>0.75</td>\n",
       "      <td>1.50</td>\n",
       "    </tr>\n",
       "    <tr>\n",
       "      <th>46</th>\n",
       "      <td>0.17</td>\n",
       "      <td>0.062851</td>\n",
       "      <td>4.40</td>\n",
       "      <td>0.068408</td>\n",
       "      <td>1</td>\n",
       "      <td>100</td>\n",
       "      <td>0.10</td>\n",
       "      <td>1.25</td>\n",
       "      <td>0.75</td>\n",
       "    </tr>\n",
       "    <tr>\n",
       "      <th>48</th>\n",
       "      <td>0.17</td>\n",
       "      <td>0.062851</td>\n",
       "      <td>4.40</td>\n",
       "      <td>0.068408</td>\n",
       "      <td>1</td>\n",
       "      <td>100</td>\n",
       "      <td>0.05</td>\n",
       "      <td>1.50</td>\n",
       "      <td>0.75</td>\n",
       "    </tr>\n",
       "    <tr>\n",
       "      <th>33</th>\n",
       "      <td>0.17</td>\n",
       "      <td>0.062851</td>\n",
       "      <td>4.40</td>\n",
       "      <td>0.068408</td>\n",
       "      <td>1</td>\n",
       "      <td>100</td>\n",
       "      <td>0.20</td>\n",
       "      <td>1.25</td>\n",
       "      <td>1.25</td>\n",
       "    </tr>\n",
       "    <tr>\n",
       "      <th>53</th>\n",
       "      <td>0.17</td>\n",
       "      <td>0.062851</td>\n",
       "      <td>4.40</td>\n",
       "      <td>0.068408</td>\n",
       "      <td>1</td>\n",
       "      <td>100</td>\n",
       "      <td>0.01</td>\n",
       "      <td>1.25</td>\n",
       "      <td>1.50</td>\n",
       "    </tr>\n",
       "    <tr>\n",
       "      <th>54</th>\n",
       "      <td>0.17</td>\n",
       "      <td>0.062851</td>\n",
       "      <td>4.40</td>\n",
       "      <td>0.068408</td>\n",
       "      <td>1</td>\n",
       "      <td>100</td>\n",
       "      <td>0.50</td>\n",
       "      <td>0.50</td>\n",
       "      <td>1.00</td>\n",
       "    </tr>\n",
       "    <tr>\n",
       "      <th>55</th>\n",
       "      <td>0.17</td>\n",
       "      <td>0.062851</td>\n",
       "      <td>4.40</td>\n",
       "      <td>0.068408</td>\n",
       "      <td>1</td>\n",
       "      <td>100</td>\n",
       "      <td>0.50</td>\n",
       "      <td>0.50</td>\n",
       "      <td>1.50</td>\n",
       "    </tr>\n",
       "    <tr>\n",
       "      <th>0</th>\n",
       "      <td>0.17</td>\n",
       "      <td>0.062851</td>\n",
       "      <td>4.40</td>\n",
       "      <td>0.068408</td>\n",
       "      <td>1</td>\n",
       "      <td>100</td>\n",
       "      <td>0.20</td>\n",
       "      <td>1.25</td>\n",
       "      <td>0.75</td>\n",
       "    </tr>\n",
       "    <tr>\n",
       "      <th>11</th>\n",
       "      <td>0.17</td>\n",
       "      <td>0.062851</td>\n",
       "      <td>4.40</td>\n",
       "      <td>0.068408</td>\n",
       "      <td>1</td>\n",
       "      <td>100</td>\n",
       "      <td>0.05</td>\n",
       "      <td>1.25</td>\n",
       "      <td>1.00</td>\n",
       "    </tr>\n",
       "    <tr>\n",
       "      <th>26</th>\n",
       "      <td>0.17</td>\n",
       "      <td>0.062851</td>\n",
       "      <td>4.40</td>\n",
       "      <td>0.068408</td>\n",
       "      <td>1</td>\n",
       "      <td>100</td>\n",
       "      <td>0.01</td>\n",
       "      <td>1.25</td>\n",
       "      <td>1.25</td>\n",
       "    </tr>\n",
       "    <tr>\n",
       "      <th>23</th>\n",
       "      <td>0.17</td>\n",
       "      <td>0.062851</td>\n",
       "      <td>4.40</td>\n",
       "      <td>0.068408</td>\n",
       "      <td>1</td>\n",
       "      <td>100</td>\n",
       "      <td>0.50</td>\n",
       "      <td>0.50</td>\n",
       "      <td>1.25</td>\n",
       "    </tr>\n",
       "    <tr>\n",
       "      <th>5</th>\n",
       "      <td>0.17</td>\n",
       "      <td>0.061514</td>\n",
       "      <td>4.30</td>\n",
       "      <td>0.068408</td>\n",
       "      <td>1</td>\n",
       "      <td>100</td>\n",
       "      <td>0.10</td>\n",
       "      <td>0.50</td>\n",
       "      <td>1.00</td>\n",
       "    </tr>\n",
       "    <tr>\n",
       "      <th>22</th>\n",
       "      <td>0.17</td>\n",
       "      <td>0.062851</td>\n",
       "      <td>4.40</td>\n",
       "      <td>0.068408</td>\n",
       "      <td>1</td>\n",
       "      <td>100</td>\n",
       "      <td>1.00</td>\n",
       "      <td>1.00</td>\n",
       "      <td>1.25</td>\n",
       "    </tr>\n",
       "    <tr>\n",
       "      <th>6</th>\n",
       "      <td>0.17</td>\n",
       "      <td>0.062851</td>\n",
       "      <td>4.40</td>\n",
       "      <td>0.068408</td>\n",
       "      <td>1</td>\n",
       "      <td>100</td>\n",
       "      <td>0.05</td>\n",
       "      <td>0.75</td>\n",
       "      <td>1.00</td>\n",
       "    </tr>\n",
       "    <tr>\n",
       "      <th>9</th>\n",
       "      <td>0.17</td>\n",
       "      <td>0.062851</td>\n",
       "      <td>4.40</td>\n",
       "      <td>0.068408</td>\n",
       "      <td>1</td>\n",
       "      <td>100</td>\n",
       "      <td>0.10</td>\n",
       "      <td>1.50</td>\n",
       "      <td>0.75</td>\n",
       "    </tr>\n",
       "    <tr>\n",
       "      <th>15</th>\n",
       "      <td>0.17</td>\n",
       "      <td>0.062851</td>\n",
       "      <td>4.40</td>\n",
       "      <td>0.068408</td>\n",
       "      <td>1</td>\n",
       "      <td>100</td>\n",
       "      <td>0.05</td>\n",
       "      <td>1.50</td>\n",
       "      <td>1.00</td>\n",
       "    </tr>\n",
       "    <tr>\n",
       "      <th>14</th>\n",
       "      <td>0.17</td>\n",
       "      <td>0.062851</td>\n",
       "      <td>4.40</td>\n",
       "      <td>0.068408</td>\n",
       "      <td>1</td>\n",
       "      <td>100</td>\n",
       "      <td>0.20</td>\n",
       "      <td>1.50</td>\n",
       "      <td>1.50</td>\n",
       "    </tr>\n",
       "    <tr>\n",
       "      <th>10</th>\n",
       "      <td>0.17</td>\n",
       "      <td>0.062851</td>\n",
       "      <td>4.40</td>\n",
       "      <td>0.068408</td>\n",
       "      <td>1</td>\n",
       "      <td>100</td>\n",
       "      <td>0.01</td>\n",
       "      <td>1.50</td>\n",
       "      <td>1.00</td>\n",
       "    </tr>\n",
       "    <tr>\n",
       "      <th>12</th>\n",
       "      <td>0.17</td>\n",
       "      <td>0.062851</td>\n",
       "      <td>4.40</td>\n",
       "      <td>0.068408</td>\n",
       "      <td>1</td>\n",
       "      <td>100</td>\n",
       "      <td>0.50</td>\n",
       "      <td>0.75</td>\n",
       "      <td>0.50</td>\n",
       "    </tr>\n",
       "    <tr>\n",
       "      <th>7</th>\n",
       "      <td>0.16</td>\n",
       "      <td>0.061223</td>\n",
       "      <td>4.33</td>\n",
       "      <td>0.065369</td>\n",
       "      <td>1</td>\n",
       "      <td>100</td>\n",
       "      <td>0.20</td>\n",
       "      <td>1.00</td>\n",
       "      <td>0.50</td>\n",
       "    </tr>\n",
       "    <tr>\n",
       "      <th>21</th>\n",
       "      <td>0.08</td>\n",
       "      <td>0.031984</td>\n",
       "      <td>1.11</td>\n",
       "      <td>0.063560</td>\n",
       "      <td>30</td>\n",
       "      <td>30</td>\n",
       "      <td>0.05</td>\n",
       "      <td>1.50</td>\n",
       "      <td>0.20</td>\n",
       "    </tr>\n",
       "    <tr>\n",
       "      <th>59</th>\n",
       "      <td>0.05</td>\n",
       "      <td>0.017008</td>\n",
       "      <td>0.91</td>\n",
       "      <td>0.053571</td>\n",
       "      <td>30</td>\n",
       "      <td>30</td>\n",
       "      <td>0.01</td>\n",
       "      <td>0.20</td>\n",
       "      <td>0.50</td>\n",
       "    </tr>\n",
       "    <tr>\n",
       "      <th>47</th>\n",
       "      <td>0.13</td>\n",
       "      <td>0.040795</td>\n",
       "      <td>2.79</td>\n",
       "      <td>0.047274</td>\n",
       "      <td>1</td>\n",
       "      <td>100</td>\n",
       "      <td>0.10</td>\n",
       "      <td>1.50</td>\n",
       "      <td>0.20</td>\n",
       "    </tr>\n",
       "    <tr>\n",
       "      <th>41</th>\n",
       "      <td>0.12</td>\n",
       "      <td>0.044833</td>\n",
       "      <td>3.07</td>\n",
       "      <td>0.044827</td>\n",
       "      <td>1</td>\n",
       "      <td>100</td>\n",
       "      <td>0.20</td>\n",
       "      <td>1.25</td>\n",
       "      <td>0.20</td>\n",
       "    </tr>\n",
       "    <tr>\n",
       "      <th>45</th>\n",
       "      <td>0.08</td>\n",
       "      <td>0.031065</td>\n",
       "      <td>1.24</td>\n",
       "      <td>0.042664</td>\n",
       "      <td>30</td>\n",
       "      <td>30</td>\n",
       "      <td>0.20</td>\n",
       "      <td>1.50</td>\n",
       "      <td>0.20</td>\n",
       "    </tr>\n",
       "    <tr>\n",
       "      <th>56</th>\n",
       "      <td>0.08</td>\n",
       "      <td>0.027396</td>\n",
       "      <td>1.93</td>\n",
       "      <td>0.041548</td>\n",
       "      <td>1</td>\n",
       "      <td>100</td>\n",
       "      <td>0.05</td>\n",
       "      <td>0.20</td>\n",
       "      <td>1.00</td>\n",
       "    </tr>\n",
       "    <tr>\n",
       "      <th>57</th>\n",
       "      <td>0.08</td>\n",
       "      <td>0.033076</td>\n",
       "      <td>2.21</td>\n",
       "      <td>0.039582</td>\n",
       "      <td>1</td>\n",
       "      <td>100</td>\n",
       "      <td>1.00</td>\n",
       "      <td>0.20</td>\n",
       "      <td>1.50</td>\n",
       "    </tr>\n",
       "    <tr>\n",
       "      <th>52</th>\n",
       "      <td>0.08</td>\n",
       "      <td>0.029462</td>\n",
       "      <td>2.30</td>\n",
       "      <td>0.037454</td>\n",
       "      <td>1</td>\n",
       "      <td>100</td>\n",
       "      <td>0.05</td>\n",
       "      <td>0.20</td>\n",
       "      <td>1.25</td>\n",
       "    </tr>\n",
       "    <tr>\n",
       "      <th>20</th>\n",
       "      <td>0.06</td>\n",
       "      <td>0.018695</td>\n",
       "      <td>0.59</td>\n",
       "      <td>0.036000</td>\n",
       "      <td>30</td>\n",
       "      <td>30</td>\n",
       "      <td>0.01</td>\n",
       "      <td>0.50</td>\n",
       "      <td>0.20</td>\n",
       "    </tr>\n",
       "    <tr>\n",
       "      <th>31</th>\n",
       "      <td>0.04</td>\n",
       "      <td>0.017084</td>\n",
       "      <td>0.61</td>\n",
       "      <td>0.033343</td>\n",
       "      <td>30</td>\n",
       "      <td>30</td>\n",
       "      <td>0.10</td>\n",
       "      <td>0.75</td>\n",
       "      <td>0.20</td>\n",
       "    </tr>\n",
       "    <tr>\n",
       "      <th>51</th>\n",
       "      <td>0.09</td>\n",
       "      <td>0.039512</td>\n",
       "      <td>1.43</td>\n",
       "      <td>0.030133</td>\n",
       "      <td>30</td>\n",
       "      <td>30</td>\n",
       "      <td>0.20</td>\n",
       "      <td>1.25</td>\n",
       "      <td>0.20</td>\n",
       "    </tr>\n",
       "    <tr>\n",
       "      <th>38</th>\n",
       "      <td>0.07</td>\n",
       "      <td>0.019761</td>\n",
       "      <td>1.51</td>\n",
       "      <td>0.030126</td>\n",
       "      <td>1</td>\n",
       "      <td>100</td>\n",
       "      <td>0.05</td>\n",
       "      <td>0.20</td>\n",
       "      <td>0.50</td>\n",
       "    </tr>\n",
       "    <tr>\n",
       "      <th>8</th>\n",
       "      <td>0.06</td>\n",
       "      <td>0.026843</td>\n",
       "      <td>2.00</td>\n",
       "      <td>0.029771</td>\n",
       "      <td>1</td>\n",
       "      <td>100</td>\n",
       "      <td>0.01</td>\n",
       "      <td>0.20</td>\n",
       "      <td>0.75</td>\n",
       "    </tr>\n",
       "    <tr>\n",
       "      <th>43</th>\n",
       "      <td>0.02</td>\n",
       "      <td>0.005011</td>\n",
       "      <td>0.12</td>\n",
       "      <td>0.025532</td>\n",
       "      <td>30</td>\n",
       "      <td>30</td>\n",
       "      <td>0.10</td>\n",
       "      <td>0.20</td>\n",
       "      <td>0.20</td>\n",
       "    </tr>\n",
       "    <tr>\n",
       "      <th>34</th>\n",
       "      <td>0.06</td>\n",
       "      <td>0.035564</td>\n",
       "      <td>1.37</td>\n",
       "      <td>0.014674</td>\n",
       "      <td>30</td>\n",
       "      <td>30</td>\n",
       "      <td>0.05</td>\n",
       "      <td>1.25</td>\n",
       "      <td>0.20</td>\n",
       "    </tr>\n",
       "    <tr>\n",
       "      <th>28</th>\n",
       "      <td>0.04</td>\n",
       "      <td>0.013458</td>\n",
       "      <td>1.12</td>\n",
       "      <td>0.014092</td>\n",
       "      <td>1</td>\n",
       "      <td>100</td>\n",
       "      <td>0.10</td>\n",
       "      <td>0.50</td>\n",
       "      <td>0.20</td>\n",
       "    </tr>\n",
       "    <tr>\n",
       "      <th>2</th>\n",
       "      <td>0.04</td>\n",
       "      <td>0.022052</td>\n",
       "      <td>0.92</td>\n",
       "      <td>0.012421</td>\n",
       "      <td>30</td>\n",
       "      <td>30</td>\n",
       "      <td>0.01</td>\n",
       "      <td>1.50</td>\n",
       "      <td>0.20</td>\n",
       "    </tr>\n",
       "    <tr>\n",
       "      <th>19</th>\n",
       "      <td>0.03</td>\n",
       "      <td>0.020932</td>\n",
       "      <td>0.85</td>\n",
       "      <td>0.009736</td>\n",
       "      <td>30</td>\n",
       "      <td>30</td>\n",
       "      <td>0.20</td>\n",
       "      <td>0.75</td>\n",
       "      <td>0.20</td>\n",
       "    </tr>\n",
       "  </tbody>\n",
       "</table>\n",
       "</div>"
      ],
      "text/plain": [
       "    accuracy_drop  probability_drop   WER       NAD  beam_size  num_steps  \\\n",
       "1            0.28          0.100129  4.99  0.132937         30         30   \n",
       "32           0.28          0.100129  4.99  0.132937         30         30   \n",
       "18           0.28          0.100129  4.99  0.132937         30         30   \n",
       "39           0.28          0.098991  4.83  0.132937         30         30   \n",
       "49           0.28          0.100129  4.99  0.132937         30         30   \n",
       "25           0.28          0.100129  4.99  0.132937         30         30   \n",
       "24           0.28          0.100129  4.99  0.132937         30         30   \n",
       "27           0.28          0.100129  4.99  0.132937         30         30   \n",
       "4            0.28          0.100129  4.99  0.132937         30         30   \n",
       "3            0.28          0.097047  4.83  0.132937         30         30   \n",
       "29           0.27          0.098626  4.92  0.129897         30         30   \n",
       "16           0.27          0.097518  4.71  0.129897         30         30   \n",
       "36           0.27          0.097284  4.73  0.129391         30         30   \n",
       "17           0.26          0.092292  4.67  0.128875         30         30   \n",
       "35           0.26          0.094008  4.74  0.126317         30         30   \n",
       "13           0.26          0.095047  4.41  0.105961         30         30   \n",
       "58           0.15          0.052734  1.73  0.086813         30         30   \n",
       "42           0.13          0.043297  1.76  0.083350         30         30   \n",
       "50           0.11          0.037360  1.56  0.078571         30         30   \n",
       "30           0.11          0.032734  1.69  0.077399         30         30   \n",
       "40           0.17          0.062851  4.40  0.068408          1        100   \n",
       "44           0.17          0.062851  4.40  0.068408          1        100   \n",
       "37           0.17          0.062851  4.40  0.068408          1        100   \n",
       "46           0.17          0.062851  4.40  0.068408          1        100   \n",
       "48           0.17          0.062851  4.40  0.068408          1        100   \n",
       "33           0.17          0.062851  4.40  0.068408          1        100   \n",
       "53           0.17          0.062851  4.40  0.068408          1        100   \n",
       "54           0.17          0.062851  4.40  0.068408          1        100   \n",
       "55           0.17          0.062851  4.40  0.068408          1        100   \n",
       "0            0.17          0.062851  4.40  0.068408          1        100   \n",
       "11           0.17          0.062851  4.40  0.068408          1        100   \n",
       "26           0.17          0.062851  4.40  0.068408          1        100   \n",
       "23           0.17          0.062851  4.40  0.068408          1        100   \n",
       "5            0.17          0.061514  4.30  0.068408          1        100   \n",
       "22           0.17          0.062851  4.40  0.068408          1        100   \n",
       "6            0.17          0.062851  4.40  0.068408          1        100   \n",
       "9            0.17          0.062851  4.40  0.068408          1        100   \n",
       "15           0.17          0.062851  4.40  0.068408          1        100   \n",
       "14           0.17          0.062851  4.40  0.068408          1        100   \n",
       "10           0.17          0.062851  4.40  0.068408          1        100   \n",
       "12           0.17          0.062851  4.40  0.068408          1        100   \n",
       "7            0.16          0.061223  4.33  0.065369          1        100   \n",
       "21           0.08          0.031984  1.11  0.063560         30         30   \n",
       "59           0.05          0.017008  0.91  0.053571         30         30   \n",
       "47           0.13          0.040795  2.79  0.047274          1        100   \n",
       "41           0.12          0.044833  3.07  0.044827          1        100   \n",
       "45           0.08          0.031065  1.24  0.042664         30         30   \n",
       "56           0.08          0.027396  1.93  0.041548          1        100   \n",
       "57           0.08          0.033076  2.21  0.039582          1        100   \n",
       "52           0.08          0.029462  2.30  0.037454          1        100   \n",
       "20           0.06          0.018695  0.59  0.036000         30         30   \n",
       "31           0.04          0.017084  0.61  0.033343         30         30   \n",
       "51           0.09          0.039512  1.43  0.030133         30         30   \n",
       "38           0.07          0.019761  1.51  0.030126          1        100   \n",
       "8            0.06          0.026843  2.00  0.029771          1        100   \n",
       "43           0.02          0.005011  0.12  0.025532         30         30   \n",
       "34           0.06          0.035564  1.37  0.014674         30         30   \n",
       "28           0.04          0.013458  1.12  0.014092          1        100   \n",
       "2            0.04          0.022052  0.92  0.012421         30         30   \n",
       "19           0.03          0.020932  0.85  0.009736         30         30   \n",
       "\n",
       "     std  sigma_wer  sigma_class  \n",
       "1   0.20       0.75         1.25  \n",
       "32  0.10       1.50         1.25  \n",
       "18  0.01       1.25         1.25  \n",
       "39  0.05       0.75         0.75  \n",
       "49  0.10       1.25         0.75  \n",
       "25  0.10       1.25         1.00  \n",
       "24  0.50       0.75         1.25  \n",
       "27  0.20       1.25         1.00  \n",
       "4   0.50       1.25         0.75  \n",
       "3   0.01       0.50         1.00  \n",
       "29  0.05       0.50         1.50  \n",
       "16  0.10       1.00         0.50  \n",
       "36  0.05       1.25         0.50  \n",
       "17  0.10       0.50         1.50  \n",
       "35  1.00       1.25         0.50  \n",
       "13  0.05       0.75         0.50  \n",
       "58  0.50       0.20         1.50  \n",
       "42  0.20       0.20         1.00  \n",
       "50  0.01       0.20         1.00  \n",
       "30  1.00       0.20         1.25  \n",
       "40  1.00       0.75         0.50  \n",
       "44  0.01       1.50         1.50  \n",
       "37  0.05       0.75         1.50  \n",
       "46  0.10       1.25         0.75  \n",
       "48  0.05       1.50         0.75  \n",
       "33  0.20       1.25         1.25  \n",
       "53  0.01       1.25         1.50  \n",
       "54  0.50       0.50         1.00  \n",
       "55  0.50       0.50         1.50  \n",
       "0   0.20       1.25         0.75  \n",
       "11  0.05       1.25         1.00  \n",
       "26  0.01       1.25         1.25  \n",
       "23  0.50       0.50         1.25  \n",
       "5   0.10       0.50         1.00  \n",
       "22  1.00       1.00         1.25  \n",
       "6   0.05       0.75         1.00  \n",
       "9   0.10       1.50         0.75  \n",
       "15  0.05       1.50         1.00  \n",
       "14  0.20       1.50         1.50  \n",
       "10  0.01       1.50         1.00  \n",
       "12  0.50       0.75         0.50  \n",
       "7   0.20       1.00         0.50  \n",
       "21  0.05       1.50         0.20  \n",
       "59  0.01       0.20         0.50  \n",
       "47  0.10       1.50         0.20  \n",
       "41  0.20       1.25         0.20  \n",
       "45  0.20       1.50         0.20  \n",
       "56  0.05       0.20         1.00  \n",
       "57  1.00       0.20         1.50  \n",
       "52  0.05       0.20         1.25  \n",
       "20  0.01       0.50         0.20  \n",
       "31  0.10       0.75         0.20  \n",
       "51  0.20       1.25         0.20  \n",
       "38  0.05       0.20         0.50  \n",
       "8   0.01       0.20         0.75  \n",
       "43  0.10       0.20         0.20  \n",
       "34  0.05       1.25         0.20  \n",
       "28  0.10       0.50         0.20  \n",
       "2   0.01       1.50         0.20  \n",
       "19  0.20       0.75         0.20  "
      ]
     },
     "execution_count": 34,
     "metadata": {},
     "output_type": "execute_result"
    }
   ],
   "source": [
    "result.sort_values(by='NAD', ascending=False)"
   ]
  },
  {
   "cell_type": "code",
   "execution_count": 31,
   "metadata": {},
   "outputs": [],
   "source": [
    "result = []\n",
    "for method in ['random']:\n",
    "    base = os.path.join(base_dir, method)\n",
    "    for folder in os.listdir(base):\n",
    "        if folder != 'backup':\n",
    "            args = json.load(open(os.path.join(base, folder, 'args.json')))\n",
    "            metrics = json.load(open(os.path.join(base, folder, 'eval_metric.json')))\n",
    "            args.update(metrics)\n",
    "            result.append({k:args[k] for k in ['accuracy_drop', 'probability_drop', 'WER', 'NAD', 'NAD_new',\n",
    "                                                'beam_size', 'num_steps', 'std']})\n",
    "result = pd.DataFrame(result)"
   ]
  },
  {
   "cell_type": "code",
   "execution_count": null,
   "metadata": {},
   "outputs": [],
   "source": []
  },
  {
   "cell_type": "code",
   "execution_count": 34,
   "metadata": {},
   "outputs": [
    {
     "data": {
      "text/html": [
       "<div>\n",
       "<style scoped>\n",
       "    .dataframe tbody tr th:only-of-type {\n",
       "        vertical-align: middle;\n",
       "    }\n",
       "\n",
       "    .dataframe tbody tr th {\n",
       "        vertical-align: top;\n",
       "    }\n",
       "\n",
       "    .dataframe thead th {\n",
       "        text-align: right;\n",
       "    }\n",
       "</style>\n",
       "<table border=\"1\" class=\"dataframe\">\n",
       "  <thead>\n",
       "    <tr style=\"text-align: right;\">\n",
       "      <th></th>\n",
       "      <th>accuracy_drop</th>\n",
       "      <th>probability_drop</th>\n",
       "      <th>WER</th>\n",
       "      <th>NAD</th>\n",
       "      <th>NAD_new</th>\n",
       "      <th>beam_size</th>\n",
       "      <th>num_steps</th>\n",
       "      <th>std</th>\n",
       "    </tr>\n",
       "  </thead>\n",
       "  <tbody>\n",
       "    <tr>\n",
       "      <th>1</th>\n",
       "      <td>0.370000</td>\n",
       "      <td>0.118164</td>\n",
       "      <td>5.400000</td>\n",
       "      <td>0.199543</td>\n",
       "      <td>0.395221</td>\n",
       "      <td>30</td>\n",
       "      <td>30</td>\n",
       "      <td>0.05</td>\n",
       "    </tr>\n",
       "    <tr>\n",
       "      <th>3</th>\n",
       "      <td>0.310000</td>\n",
       "      <td>0.099693</td>\n",
       "      <td>5.010000</td>\n",
       "      <td>0.190940</td>\n",
       "      <td>0.345911</td>\n",
       "      <td>30</td>\n",
       "      <td>30</td>\n",
       "      <td>0.01</td>\n",
       "    </tr>\n",
       "    <tr>\n",
       "      <th>7</th>\n",
       "      <td>0.260000</td>\n",
       "      <td>0.095339</td>\n",
       "      <td>4.980000</td>\n",
       "      <td>0.177972</td>\n",
       "      <td>0.330703</td>\n",
       "      <td>30</td>\n",
       "      <td>30</td>\n",
       "      <td>0.01</td>\n",
       "    </tr>\n",
       "    <tr>\n",
       "      <th>0</th>\n",
       "      <td>0.310000</td>\n",
       "      <td>0.099802</td>\n",
       "      <td>4.830000</td>\n",
       "      <td>0.173531</td>\n",
       "      <td>0.330049</td>\n",
       "      <td>30</td>\n",
       "      <td>30</td>\n",
       "      <td>0.01</td>\n",
       "    </tr>\n",
       "    <tr>\n",
       "      <th>2</th>\n",
       "      <td>0.290000</td>\n",
       "      <td>0.106710</td>\n",
       "      <td>5.970000</td>\n",
       "      <td>0.146732</td>\n",
       "      <td>0.312575</td>\n",
       "      <td>30</td>\n",
       "      <td>30</td>\n",
       "      <td>0.10</td>\n",
       "    </tr>\n",
       "    <tr>\n",
       "      <th>8</th>\n",
       "      <td>0.250000</td>\n",
       "      <td>0.091036</td>\n",
       "      <td>4.900000</td>\n",
       "      <td>0.170897</td>\n",
       "      <td>0.292139</td>\n",
       "      <td>30</td>\n",
       "      <td>30</td>\n",
       "      <td>0.01</td>\n",
       "    </tr>\n",
       "    <tr>\n",
       "      <th>6</th>\n",
       "      <td>0.300000</td>\n",
       "      <td>0.109199</td>\n",
       "      <td>6.600000</td>\n",
       "      <td>0.130412</td>\n",
       "      <td>0.280779</td>\n",
       "      <td>30</td>\n",
       "      <td>30</td>\n",
       "      <td>0.20</td>\n",
       "    </tr>\n",
       "    <tr>\n",
       "      <th>4</th>\n",
       "      <td>0.321429</td>\n",
       "      <td>0.134905</td>\n",
       "      <td>7.232143</td>\n",
       "      <td>0.127866</td>\n",
       "      <td>0.255046</td>\n",
       "      <td>30</td>\n",
       "      <td>30</td>\n",
       "      <td>0.50</td>\n",
       "    </tr>\n",
       "    <tr>\n",
       "      <th>5</th>\n",
       "      <td>0.370000</td>\n",
       "      <td>0.147671</td>\n",
       "      <td>7.990000</td>\n",
       "      <td>0.113911</td>\n",
       "      <td>0.219614</td>\n",
       "      <td>30</td>\n",
       "      <td>30</td>\n",
       "      <td>1.00</td>\n",
       "    </tr>\n",
       "  </tbody>\n",
       "</table>\n",
       "</div>"
      ],
      "text/plain": [
       "   accuracy_drop  probability_drop       WER       NAD   NAD_new  beam_size  \\\n",
       "1       0.370000          0.118164  5.400000  0.199543  0.395221         30   \n",
       "3       0.310000          0.099693  5.010000  0.190940  0.345911         30   \n",
       "7       0.260000          0.095339  4.980000  0.177972  0.330703         30   \n",
       "0       0.310000          0.099802  4.830000  0.173531  0.330049         30   \n",
       "2       0.290000          0.106710  5.970000  0.146732  0.312575         30   \n",
       "8       0.250000          0.091036  4.900000  0.170897  0.292139         30   \n",
       "6       0.300000          0.109199  6.600000  0.130412  0.280779         30   \n",
       "4       0.321429          0.134905  7.232143  0.127866  0.255046         30   \n",
       "5       0.370000          0.147671  7.990000  0.113911  0.219614         30   \n",
       "\n",
       "   num_steps   std  \n",
       "1         30  0.05  \n",
       "3         30  0.01  \n",
       "7         30  0.01  \n",
       "0         30  0.01  \n",
       "2         30  0.10  \n",
       "8         30  0.01  \n",
       "6         30  0.20  \n",
       "4         30  0.50  \n",
       "5         30  1.00  "
      ]
     },
     "execution_count": 34,
     "metadata": {},
     "output_type": "execute_result"
    }
   ],
   "source": [
    "result.sort_values(by='NAD_new', ascending=False)"
   ]
  },
  {
   "cell_type": "code",
   "execution_count": 33,
   "metadata": {},
   "outputs": [
    {
     "data": {
      "text/html": [
       "<div>\n",
       "<style scoped>\n",
       "    .dataframe tbody tr th:only-of-type {\n",
       "        vertical-align: middle;\n",
       "    }\n",
       "\n",
       "    .dataframe tbody tr th {\n",
       "        vertical-align: top;\n",
       "    }\n",
       "\n",
       "    .dataframe thead th {\n",
       "        text-align: right;\n",
       "    }\n",
       "</style>\n",
       "<table border=\"1\" class=\"dataframe\">\n",
       "  <thead>\n",
       "    <tr style=\"text-align: right;\">\n",
       "      <th></th>\n",
       "      <th>accuracy_drop</th>\n",
       "      <th>probability_drop</th>\n",
       "      <th>WER</th>\n",
       "      <th>NAD</th>\n",
       "      <th>NAD_new</th>\n",
       "      <th>beam_size</th>\n",
       "      <th>num_steps</th>\n",
       "      <th>std</th>\n",
       "    </tr>\n",
       "  </thead>\n",
       "  <tbody>\n",
       "    <tr>\n",
       "      <th>3</th>\n",
       "      <td>0.31</td>\n",
       "      <td>0.099693</td>\n",
       "      <td>5.01</td>\n",
       "      <td>0.190940</td>\n",
       "      <td>0.345911</td>\n",
       "      <td>30</td>\n",
       "      <td>30</td>\n",
       "      <td>0.01</td>\n",
       "    </tr>\n",
       "    <tr>\n",
       "      <th>7</th>\n",
       "      <td>0.26</td>\n",
       "      <td>0.095339</td>\n",
       "      <td>4.98</td>\n",
       "      <td>0.177972</td>\n",
       "      <td>0.330703</td>\n",
       "      <td>30</td>\n",
       "      <td>30</td>\n",
       "      <td>0.01</td>\n",
       "    </tr>\n",
       "    <tr>\n",
       "      <th>0</th>\n",
       "      <td>0.31</td>\n",
       "      <td>0.099802</td>\n",
       "      <td>4.83</td>\n",
       "      <td>0.173531</td>\n",
       "      <td>0.330049</td>\n",
       "      <td>30</td>\n",
       "      <td>30</td>\n",
       "      <td>0.01</td>\n",
       "    </tr>\n",
       "    <tr>\n",
       "      <th>8</th>\n",
       "      <td>0.25</td>\n",
       "      <td>0.091036</td>\n",
       "      <td>4.90</td>\n",
       "      <td>0.170897</td>\n",
       "      <td>0.292139</td>\n",
       "      <td>30</td>\n",
       "      <td>30</td>\n",
       "      <td>0.01</td>\n",
       "    </tr>\n",
       "  </tbody>\n",
       "</table>\n",
       "</div>"
      ],
      "text/plain": [
       "   accuracy_drop  probability_drop   WER       NAD   NAD_new  beam_size  \\\n",
       "3           0.31          0.099693  5.01  0.190940  0.345911         30   \n",
       "7           0.26          0.095339  4.98  0.177972  0.330703         30   \n",
       "0           0.31          0.099802  4.83  0.173531  0.330049         30   \n",
       "8           0.25          0.091036  4.90  0.170897  0.292139         30   \n",
       "\n",
       "   num_steps   std  \n",
       "3         30  0.01  \n",
       "7         30  0.01  \n",
       "0         30  0.01  \n",
       "8         30  0.01  "
      ]
     },
     "execution_count": 33,
     "metadata": {},
     "output_type": "execute_result"
    }
   ],
   "source": [
    "result[result['std'] == 0.01].sort_values(by='NAD_new', ascending=False)"
   ]
  },
  {
   "cell_type": "code",
   "execution_count": null,
   "metadata": {},
   "outputs": [],
   "source": []
  },
  {
   "cell_type": "code",
   "execution_count": null,
   "metadata": {},
   "outputs": [],
   "source": []
  },
  {
   "cell_type": "code",
   "execution_count": null,
   "metadata": {},
   "outputs": [],
   "source": []
  },
  {
   "cell_type": "markdown",
   "metadata": {},
   "source": [
    "## make cascada grisearch"
   ]
  },
  {
   "cell_type": "code",
   "execution_count": 5,
   "metadata": {},
   "outputs": [],
   "source": [
    "levenshtein_weights = [0.1, 1, 10]\n",
    "beam_sizes = [1, 30, 100]\n",
    "max_stepss = [5, 30, 100]\n",
    "learning_rates = [1, 2, 4]"
   ]
  },
  {
   "cell_type": "code",
   "execution_count": 6,
   "metadata": {},
   "outputs": [],
   "source": [
    "import itertools"
   ]
  },
  {
   "cell_type": "code",
   "execution_count": 7,
   "metadata": {},
   "outputs": [],
   "source": [
    "params = list(itertools.product(levenshtein_weights, beam_sizes, max_stepss, learning_rates))"
   ]
  },
  {
   "cell_type": "code",
   "execution_count": 8,
   "metadata": {},
   "outputs": [],
   "source": [
    "#dataset = 'insurance'"
   ]
  },
  {
   "cell_type": "code",
   "execution_count": 10,
   "metadata": {},
   "outputs": [
    {
     "name": "stderr",
     "output_type": "stream",
     "text": [
      "\r",
      "  0%|          | 0/81 [00:00<?, ?it/s]"
     ]
    },
    {
     "name": "stdout",
     "output_type": "stream",
     "text": [
      "(0.1, 1, 5, 1)\n"
     ]
    },
    {
     "name": "stderr",
     "output_type": "stream",
     "text": [
      "\r",
      "  1%|          | 1/81 [00:08<11:41,  8.77s/it]"
     ]
    },
    {
     "name": "stdout",
     "output_type": "stream",
     "text": [
      "(0.1, 1, 5, 2)\n"
     ]
    },
    {
     "name": "stderr",
     "output_type": "stream",
     "text": [
      "\r",
      "  2%|▏         | 2/81 [00:18<12:06,  9.19s/it]"
     ]
    },
    {
     "name": "stdout",
     "output_type": "stream",
     "text": [
      "(0.1, 1, 5, 4)\n"
     ]
    },
    {
     "name": "stderr",
     "output_type": "stream",
     "text": [
      "\r",
      "  4%|▎         | 3/81 [00:28<12:06,  9.31s/it]"
     ]
    },
    {
     "name": "stdout",
     "output_type": "stream",
     "text": [
      "(0.1, 1, 30, 1)\n"
     ]
    },
    {
     "name": "stderr",
     "output_type": "stream",
     "text": [
      "\r",
      "  5%|▍         | 4/81 [01:05<22:32, 17.56s/it]"
     ]
    },
    {
     "name": "stdout",
     "output_type": "stream",
     "text": [
      "(0.1, 1, 30, 2)\n"
     ]
    },
    {
     "name": "stderr",
     "output_type": "stream",
     "text": [
      "\r",
      "  6%|▌         | 5/81 [01:48<31:49, 25.13s/it]"
     ]
    },
    {
     "name": "stdout",
     "output_type": "stream",
     "text": [
      "(0.1, 1, 30, 4)\n"
     ]
    },
    {
     "name": "stderr",
     "output_type": "stream",
     "text": [
      "\r",
      "  7%|▋         | 6/81 [02:36<40:05, 32.07s/it]"
     ]
    },
    {
     "name": "stdout",
     "output_type": "stream",
     "text": [
      "(0.1, 1, 100, 1)\n"
     ]
    },
    {
     "name": "stderr",
     "output_type": "stream",
     "text": [
      "\r",
      "  9%|▊         | 7/81 [04:53<1:18:26, 63.60s/it]"
     ]
    },
    {
     "name": "stdout",
     "output_type": "stream",
     "text": [
      "(0.1, 1, 100, 2)\n"
     ]
    },
    {
     "name": "stderr",
     "output_type": "stream",
     "text": [
      "\r",
      " 10%|▉         | 8/81 [07:17<1:46:50, 87.82s/it]"
     ]
    },
    {
     "name": "stdout",
     "output_type": "stream",
     "text": [
      "(0.1, 1, 100, 4)\n"
     ]
    },
    {
     "name": "stderr",
     "output_type": "stream",
     "text": [
      "\r",
      " 11%|█         | 9/81 [10:01<2:12:50, 110.70s/it]"
     ]
    },
    {
     "name": "stdout",
     "output_type": "stream",
     "text": [
      "(0.1, 30, 5, 1)\n"
     ]
    },
    {
     "name": "stderr",
     "output_type": "stream",
     "text": [
      "\r",
      " 12%|█▏        | 10/81 [10:12<1:35:17, 80.53s/it]"
     ]
    },
    {
     "name": "stdout",
     "output_type": "stream",
     "text": [
      "(0.1, 30, 5, 2)\n"
     ]
    },
    {
     "name": "stderr",
     "output_type": "stream",
     "text": [
      "\r",
      " 14%|█▎        | 11/81 [10:24<1:09:57, 59.96s/it]"
     ]
    },
    {
     "name": "stdout",
     "output_type": "stream",
     "text": [
      "(0.1, 30, 5, 4)\n"
     ]
    },
    {
     "name": "stderr",
     "output_type": "stream",
     "text": [
      "\r",
      " 15%|█▍        | 12/81 [10:35<52:19, 45.50s/it]  "
     ]
    },
    {
     "name": "stdout",
     "output_type": "stream",
     "text": [
      "(0.1, 30, 30, 1)\n"
     ]
    },
    {
     "name": "stderr",
     "output_type": "stream",
     "text": [
      "\r",
      " 16%|█▌        | 13/81 [11:25<52:48, 46.60s/it]"
     ]
    },
    {
     "name": "stdout",
     "output_type": "stream",
     "text": [
      "(0.1, 30, 30, 2)\n"
     ]
    },
    {
     "name": "stderr",
     "output_type": "stream",
     "text": [
      "\r",
      " 17%|█▋        | 14/81 [12:22<55:32, 49.74s/it]"
     ]
    },
    {
     "name": "stdout",
     "output_type": "stream",
     "text": [
      "(0.1, 30, 30, 4)\n"
     ]
    },
    {
     "name": "stderr",
     "output_type": "stream",
     "text": [
      "\r",
      " 19%|█▊        | 15/81 [13:28<1:00:12, 54.74s/it]"
     ]
    },
    {
     "name": "stdout",
     "output_type": "stream",
     "text": [
      "(0.1, 30, 100, 1)\n"
     ]
    },
    {
     "name": "stderr",
     "output_type": "stream",
     "text": [
      "\r",
      " 20%|█▉        | 16/81 [16:23<1:38:27, 90.88s/it]"
     ]
    },
    {
     "name": "stdout",
     "output_type": "stream",
     "text": [
      "(0.1, 30, 100, 2)\n"
     ]
    },
    {
     "name": "stderr",
     "output_type": "stream",
     "text": [
      "\r",
      " 21%|██        | 17/81 [19:46<2:12:47, 124.50s/it]"
     ]
    },
    {
     "name": "stdout",
     "output_type": "stream",
     "text": [
      "(0.1, 30, 100, 4)\n"
     ]
    },
    {
     "name": "stderr",
     "output_type": "stream",
     "text": [
      "\r",
      " 22%|██▏       | 18/81 [23:32<2:42:30, 154.78s/it]"
     ]
    },
    {
     "name": "stdout",
     "output_type": "stream",
     "text": [
      "(0.1, 100, 5, 1)\n"
     ]
    },
    {
     "name": "stderr",
     "output_type": "stream",
     "text": [
      "\r",
      " 23%|██▎       | 19/81 [23:47<1:56:43, 112.96s/it]"
     ]
    },
    {
     "name": "stdout",
     "output_type": "stream",
     "text": [
      "(0.1, 100, 5, 2)\n"
     ]
    },
    {
     "name": "stderr",
     "output_type": "stream",
     "text": [
      "\r",
      " 25%|██▍       | 20/81 [24:01<1:24:47, 83.40s/it] "
     ]
    },
    {
     "name": "stdout",
     "output_type": "stream",
     "text": [
      "(0.1, 100, 5, 4)\n"
     ]
    },
    {
     "name": "stderr",
     "output_type": "stream",
     "text": [
      "\r",
      " 26%|██▌       | 21/81 [24:18<1:03:24, 63.41s/it]"
     ]
    },
    {
     "name": "stdout",
     "output_type": "stream",
     "text": [
      "(0.1, 100, 30, 1)\n"
     ]
    },
    {
     "name": "stderr",
     "output_type": "stream",
     "text": [
      "\r",
      " 27%|██▋       | 22/81 [25:29<1:04:33, 65.64s/it]"
     ]
    },
    {
     "name": "stdout",
     "output_type": "stream",
     "text": [
      "(0.1, 100, 30, 2)\n"
     ]
    },
    {
     "name": "stderr",
     "output_type": "stream",
     "text": [
      "\r",
      " 28%|██▊       | 23/81 [26:51<1:08:11, 70.55s/it]"
     ]
    },
    {
     "name": "stdout",
     "output_type": "stream",
     "text": [
      "(0.1, 100, 30, 4)\n"
     ]
    },
    {
     "name": "stderr",
     "output_type": "stream",
     "text": [
      "\r",
      " 30%|██▉       | 24/81 [28:22<1:12:42, 76.54s/it]"
     ]
    },
    {
     "name": "stdout",
     "output_type": "stream",
     "text": [
      "(0.1, 100, 100, 1)\n"
     ]
    },
    {
     "name": "stderr",
     "output_type": "stream",
     "text": [
      "\r",
      " 31%|███       | 25/81 [32:47<2:04:21, 133.24s/it]"
     ]
    },
    {
     "name": "stdout",
     "output_type": "stream",
     "text": [
      "(0.1, 100, 100, 2)\n"
     ]
    },
    {
     "name": "stderr",
     "output_type": "stream",
     "text": [
      "\r",
      " 32%|███▏      | 26/81 [37:23<2:41:22, 176.04s/it]"
     ]
    },
    {
     "name": "stdout",
     "output_type": "stream",
     "text": [
      "(0.1, 100, 100, 4)\n"
     ]
    },
    {
     "name": "stderr",
     "output_type": "stream",
     "text": [
      "\r",
      " 33%|███▎      | 27/81 [42:26<3:12:39, 214.07s/it]"
     ]
    },
    {
     "name": "stdout",
     "output_type": "stream",
     "text": [
      "(1, 1, 5, 1)\n"
     ]
    },
    {
     "name": "stderr",
     "output_type": "stream",
     "text": [
      "\r",
      " 35%|███▍      | 28/81 [42:35<2:14:42, 152.50s/it]"
     ]
    },
    {
     "name": "stdout",
     "output_type": "stream",
     "text": [
      "(1, 1, 5, 2)\n"
     ]
    },
    {
     "name": "stderr",
     "output_type": "stream",
     "text": [
      "\r",
      " 36%|███▌      | 29/81 [42:46<1:35:25, 110.10s/it]"
     ]
    },
    {
     "name": "stdout",
     "output_type": "stream",
     "text": [
      "(1, 1, 5, 4)\n"
     ]
    },
    {
     "name": "stderr",
     "output_type": "stream",
     "text": [
      "\r",
      " 37%|███▋      | 30/81 [42:57<1:08:18, 80.37s/it] "
     ]
    },
    {
     "name": "stdout",
     "output_type": "stream",
     "text": [
      "(1, 1, 30, 1)\n"
     ]
    },
    {
     "name": "stderr",
     "output_type": "stream",
     "text": [
      "\r",
      " 38%|███▊      | 31/81 [43:39<57:32, 69.06s/it]  "
     ]
    },
    {
     "name": "stdout",
     "output_type": "stream",
     "text": [
      "(1, 1, 30, 2)\n"
     ]
    },
    {
     "name": "stderr",
     "output_type": "stream",
     "text": [
      "\r",
      " 40%|███▉      | 32/81 [44:31<52:03, 63.74s/it]"
     ]
    },
    {
     "name": "stdout",
     "output_type": "stream",
     "text": [
      "(1, 1, 30, 4)\n"
     ]
    },
    {
     "name": "stderr",
     "output_type": "stream",
     "text": [
      "\r",
      " 41%|████      | 33/81 [45:26<48:57, 61.19s/it]"
     ]
    },
    {
     "name": "stdout",
     "output_type": "stream",
     "text": [
      "(1, 1, 100, 1)\n"
     ]
    },
    {
     "name": "stderr",
     "output_type": "stream",
     "text": [
      "\r",
      " 42%|████▏     | 34/81 [47:47<1:06:37, 85.06s/it]"
     ]
    },
    {
     "name": "stdout",
     "output_type": "stream",
     "text": [
      "(1, 1, 100, 2)\n"
     ]
    },
    {
     "name": "stderr",
     "output_type": "stream",
     "text": [
      "\r",
      " 43%|████▎     | 35/81 [50:23<1:21:41, 106.56s/it]"
     ]
    },
    {
     "name": "stdout",
     "output_type": "stream",
     "text": [
      "(1, 1, 100, 4)\n"
     ]
    },
    {
     "name": "stderr",
     "output_type": "stream",
     "text": [
      "\r",
      " 44%|████▍     | 36/81 [53:17<1:35:00, 126.68s/it]"
     ]
    },
    {
     "name": "stdout",
     "output_type": "stream",
     "text": [
      "(1, 30, 5, 1)\n"
     ]
    },
    {
     "name": "stderr",
     "output_type": "stream",
     "text": [
      "\r",
      " 46%|████▌     | 37/81 [53:29<1:07:41, 92.32s/it] "
     ]
    },
    {
     "name": "stdout",
     "output_type": "stream",
     "text": [
      "(1, 30, 5, 2)\n"
     ]
    },
    {
     "name": "stderr",
     "output_type": "stream",
     "text": [
      "\r",
      " 47%|████▋     | 38/81 [53:41<48:47, 68.07s/it]  "
     ]
    },
    {
     "name": "stdout",
     "output_type": "stream",
     "text": [
      "(1, 30, 5, 4)\n"
     ]
    },
    {
     "name": "stderr",
     "output_type": "stream",
     "text": [
      "\r",
      " 48%|████▊     | 39/81 [53:53<35:59, 51.43s/it]"
     ]
    },
    {
     "name": "stdout",
     "output_type": "stream",
     "text": [
      "(1, 30, 30, 1)\n"
     ]
    },
    {
     "name": "stderr",
     "output_type": "stream",
     "text": [
      "\r",
      " 49%|████▉     | 40/81 [54:50<36:10, 52.95s/it]"
     ]
    },
    {
     "name": "stdout",
     "output_type": "stream",
     "text": [
      "(1, 30, 30, 2)\n"
     ]
    },
    {
     "name": "stderr",
     "output_type": "stream",
     "text": [
      "\r",
      " 51%|█████     | 41/81 [55:53<37:17, 55.93s/it]"
     ]
    },
    {
     "name": "stdout",
     "output_type": "stream",
     "text": [
      "(1, 30, 30, 4)\n"
     ]
    },
    {
     "name": "stderr",
     "output_type": "stream",
     "text": [
      "\r",
      " 52%|█████▏    | 42/81 [57:01<38:41, 59.53s/it]"
     ]
    },
    {
     "name": "stdout",
     "output_type": "stream",
     "text": [
      "(1, 30, 100, 1)\n"
     ]
    },
    {
     "name": "stderr",
     "output_type": "stream",
     "text": [
      "\r",
      " 53%|█████▎    | 43/81 [1:00:20<1:04:16, 101.50s/it]"
     ]
    },
    {
     "name": "stdout",
     "output_type": "stream",
     "text": [
      "(1, 30, 100, 2)\n"
     ]
    },
    {
     "name": "stderr",
     "output_type": "stream",
     "text": [
      "\r",
      " 54%|█████▍    | 44/81 [1:03:55<1:23:28, 135.37s/it]"
     ]
    },
    {
     "name": "stdout",
     "output_type": "stream",
     "text": [
      "(1, 30, 100, 4)\n"
     ]
    },
    {
     "name": "stderr",
     "output_type": "stream",
     "text": [
      "\r",
      " 56%|█████▌    | 45/81 [1:07:40<1:37:27, 162.44s/it]"
     ]
    },
    {
     "name": "stdout",
     "output_type": "stream",
     "text": [
      "(1, 100, 5, 1)\n"
     ]
    },
    {
     "name": "stderr",
     "output_type": "stream",
     "text": [
      "\r",
      " 57%|█████▋    | 46/81 [1:07:55<1:08:51, 118.04s/it]"
     ]
    },
    {
     "name": "stdout",
     "output_type": "stream",
     "text": [
      "(1, 100, 5, 2)\n"
     ]
    },
    {
     "name": "stderr",
     "output_type": "stream",
     "text": [
      "\r",
      " 58%|█████▊    | 47/81 [1:08:10<49:25, 87.21s/it]   "
     ]
    },
    {
     "name": "stdout",
     "output_type": "stream",
     "text": [
      "(1, 100, 5, 4)\n"
     ]
    },
    {
     "name": "stderr",
     "output_type": "stream",
     "text": [
      "\r",
      " 59%|█████▉    | 48/81 [1:08:26<36:16, 65.97s/it]"
     ]
    },
    {
     "name": "stdout",
     "output_type": "stream",
     "text": [
      "(1, 100, 30, 1)\n"
     ]
    },
    {
     "name": "stderr",
     "output_type": "stream",
     "text": [
      "\r",
      " 60%|██████    | 49/81 [1:09:48<37:46, 70.84s/it]"
     ]
    },
    {
     "name": "stdout",
     "output_type": "stream",
     "text": [
      "(1, 100, 30, 2)\n"
     ]
    },
    {
     "name": "stderr",
     "output_type": "stream",
     "text": [
      "\r",
      " 62%|██████▏   | 50/81 [1:11:16<39:09, 75.78s/it]"
     ]
    },
    {
     "name": "stdout",
     "output_type": "stream",
     "text": [
      "(1, 100, 30, 4)\n"
     ]
    },
    {
     "name": "stderr",
     "output_type": "stream",
     "text": [
      "\r",
      " 63%|██████▎   | 51/81 [1:12:46<40:00, 80.02s/it]"
     ]
    },
    {
     "name": "stdout",
     "output_type": "stream",
     "text": [
      "(1, 100, 100, 1)\n"
     ]
    },
    {
     "name": "stderr",
     "output_type": "stream",
     "text": [
      "\r",
      " 64%|██████▍   | 52/81 [1:17:26<1:07:46, 140.23s/it]"
     ]
    },
    {
     "name": "stdout",
     "output_type": "stream",
     "text": [
      "(1, 100, 100, 2)\n"
     ]
    },
    {
     "name": "stderr",
     "output_type": "stream",
     "text": [
      "\r",
      " 65%|██████▌   | 53/81 [1:22:21<1:27:01, 186.48s/it]"
     ]
    },
    {
     "name": "stdout",
     "output_type": "stream",
     "text": [
      "(1, 100, 100, 4)\n"
     ]
    },
    {
     "name": "stderr",
     "output_type": "stream",
     "text": [
      "\r",
      " 67%|██████▋   | 54/81 [1:27:33<1:40:55, 224.29s/it]"
     ]
    },
    {
     "name": "stdout",
     "output_type": "stream",
     "text": [
      "(10, 1, 5, 1)\n"
     ]
    },
    {
     "name": "stderr",
     "output_type": "stream",
     "text": [
      "\r",
      " 68%|██████▊   | 55/81 [1:27:44<1:09:24, 160.19s/it]"
     ]
    },
    {
     "name": "stdout",
     "output_type": "stream",
     "text": [
      "(10, 1, 5, 2)\n"
     ]
    },
    {
     "name": "stderr",
     "output_type": "stream",
     "text": [
      "\r",
      " 69%|██████▉   | 56/81 [1:27:55<48:09, 115.59s/it]  "
     ]
    },
    {
     "name": "stdout",
     "output_type": "stream",
     "text": [
      "(10, 1, 5, 4)\n"
     ]
    },
    {
     "name": "stderr",
     "output_type": "stream",
     "text": [
      "\r",
      " 70%|███████   | 57/81 [1:28:10<34:06, 85.27s/it] "
     ]
    },
    {
     "name": "stdout",
     "output_type": "stream",
     "text": [
      "(10, 1, 30, 1)\n"
     ]
    },
    {
     "name": "stderr",
     "output_type": "stream",
     "text": [
      "\r",
      " 72%|███████▏  | 58/81 [1:29:05<29:10, 76.09s/it]"
     ]
    },
    {
     "name": "stdout",
     "output_type": "stream",
     "text": [
      "(10, 1, 30, 2)\n"
     ]
    },
    {
     "name": "stderr",
     "output_type": "stream",
     "text": [
      "\r",
      " 73%|███████▎  | 59/81 [1:30:06<26:13, 71.53s/it]"
     ]
    },
    {
     "name": "stdout",
     "output_type": "stream",
     "text": [
      "(10, 1, 30, 4)\n"
     ]
    },
    {
     "name": "stderr",
     "output_type": "stream",
     "text": [
      "\r",
      " 74%|███████▍  | 60/81 [1:31:08<24:03, 68.75s/it]"
     ]
    },
    {
     "name": "stdout",
     "output_type": "stream",
     "text": [
      "(10, 1, 100, 1)\n"
     ]
    },
    {
     "name": "stderr",
     "output_type": "stream",
     "text": [
      "\r",
      " 75%|███████▌  | 61/81 [1:34:11<34:24, 103.21s/it]"
     ]
    },
    {
     "name": "stdout",
     "output_type": "stream",
     "text": [
      "(10, 1, 100, 2)\n"
     ]
    },
    {
     "name": "stderr",
     "output_type": "stream",
     "text": [
      "\r",
      " 77%|███████▋  | 62/81 [1:37:20<40:48, 128.86s/it]"
     ]
    },
    {
     "name": "stdout",
     "output_type": "stream",
     "text": [
      "(10, 1, 100, 4)\n"
     ]
    },
    {
     "name": "stderr",
     "output_type": "stream",
     "text": [
      "\r",
      " 78%|███████▊  | 63/81 [1:40:33<44:26, 148.12s/it]"
     ]
    },
    {
     "name": "stdout",
     "output_type": "stream",
     "text": [
      "(10, 30, 5, 1)\n"
     ]
    },
    {
     "name": "stderr",
     "output_type": "stream",
     "text": [
      "\r",
      " 79%|███████▉  | 64/81 [1:40:46<30:25, 107.41s/it]"
     ]
    },
    {
     "name": "stdout",
     "output_type": "stream",
     "text": [
      "(10, 30, 5, 2)\n"
     ]
    },
    {
     "name": "stderr",
     "output_type": "stream",
     "text": [
      "\r",
      " 80%|████████  | 65/81 [1:41:00<21:12, 79.52s/it] "
     ]
    },
    {
     "name": "stdout",
     "output_type": "stream",
     "text": [
      "(10, 30, 5, 4)\n"
     ]
    },
    {
     "name": "stderr",
     "output_type": "stream",
     "text": [
      "\r",
      " 81%|████████▏ | 66/81 [1:41:13<14:55, 59.67s/it]"
     ]
    },
    {
     "name": "stdout",
     "output_type": "stream",
     "text": [
      "(10, 30, 30, 1)\n"
     ]
    },
    {
     "name": "stderr",
     "output_type": "stream",
     "text": [
      "\r",
      " 83%|████████▎ | 67/81 [1:42:20<14:22, 61.62s/it]"
     ]
    },
    {
     "name": "stdout",
     "output_type": "stream",
     "text": [
      "(10, 30, 30, 2)\n"
     ]
    },
    {
     "name": "stderr",
     "output_type": "stream",
     "text": [
      "\r",
      " 84%|████████▍ | 68/81 [1:43:30<13:53, 64.14s/it]"
     ]
    },
    {
     "name": "stdout",
     "output_type": "stream",
     "text": [
      "(10, 30, 30, 4)\n"
     ]
    },
    {
     "name": "stderr",
     "output_type": "stream",
     "text": [
      "\r",
      " 85%|████████▌ | 69/81 [1:44:39<13:09, 65.83s/it]"
     ]
    },
    {
     "name": "stdout",
     "output_type": "stream",
     "text": [
      "(10, 30, 100, 1)\n"
     ]
    },
    {
     "name": "stderr",
     "output_type": "stream",
     "text": [
      "\r",
      " 86%|████████▋ | 70/81 [1:48:22<20:42, 112.93s/it]"
     ]
    },
    {
     "name": "stdout",
     "output_type": "stream",
     "text": [
      "(10, 30, 100, 2)\n"
     ]
    },
    {
     "name": "stderr",
     "output_type": "stream",
     "text": [
      "\r",
      " 88%|████████▊ | 71/81 [1:52:04<24:15, 145.51s/it]"
     ]
    },
    {
     "name": "stdout",
     "output_type": "stream",
     "text": [
      "(10, 30, 100, 4)\n"
     ]
    },
    {
     "name": "stderr",
     "output_type": "stream",
     "text": [
      "\r",
      " 89%|████████▉ | 72/81 [1:55:59<25:51, 172.40s/it]"
     ]
    },
    {
     "name": "stdout",
     "output_type": "stream",
     "text": [
      "(10, 100, 5, 1)\n"
     ]
    },
    {
     "name": "stderr",
     "output_type": "stream",
     "text": [
      "\r",
      " 90%|█████████ | 73/81 [1:56:17<16:48, 126.01s/it]"
     ]
    },
    {
     "name": "stdout",
     "output_type": "stream",
     "text": [
      "(10, 100, 5, 2)\n"
     ]
    },
    {
     "name": "stderr",
     "output_type": "stream",
     "text": [
      "\r",
      " 91%|█████████▏| 74/81 [1:56:33<10:52, 93.19s/it] "
     ]
    },
    {
     "name": "stdout",
     "output_type": "stream",
     "text": [
      "(10, 100, 5, 4)\n"
     ]
    },
    {
     "name": "stderr",
     "output_type": "stream",
     "text": [
      "\r",
      " 93%|█████████▎| 75/81 [1:56:52<07:04, 70.83s/it]"
     ]
    },
    {
     "name": "stdout",
     "output_type": "stream",
     "text": [
      "(10, 100, 30, 1)\n"
     ]
    },
    {
     "name": "stderr",
     "output_type": "stream",
     "text": [
      "\r",
      " 94%|█████████▍| 76/81 [1:58:25<06:27, 77.44s/it]"
     ]
    },
    {
     "name": "stdout",
     "output_type": "stream",
     "text": [
      "(10, 100, 30, 2)\n"
     ]
    },
    {
     "name": "stderr",
     "output_type": "stream",
     "text": [
      "\r",
      " 95%|█████████▌| 77/81 [1:59:58<05:29, 82.33s/it]"
     ]
    },
    {
     "name": "stdout",
     "output_type": "stream",
     "text": [
      "(10, 100, 30, 4)\n"
     ]
    },
    {
     "name": "stderr",
     "output_type": "stream",
     "text": [
      "\r",
      " 96%|█████████▋| 78/81 [2:01:36<04:20, 86.94s/it]"
     ]
    },
    {
     "name": "stdout",
     "output_type": "stream",
     "text": [
      "(10, 100, 100, 1)\n"
     ]
    },
    {
     "name": "stderr",
     "output_type": "stream",
     "text": [
      "\r",
      " 98%|█████████▊| 79/81 [2:06:41<05:04, 152.25s/it]"
     ]
    },
    {
     "name": "stdout",
     "output_type": "stream",
     "text": [
      "(10, 100, 100, 2)\n"
     ]
    },
    {
     "name": "stderr",
     "output_type": "stream",
     "text": [
      "\r",
      " 99%|█████████▉| 80/81 [2:11:58<03:21, 201.76s/it]"
     ]
    },
    {
     "name": "stdout",
     "output_type": "stream",
     "text": [
      "(10, 100, 100, 4)\n"
     ]
    },
    {
     "name": "stderr",
     "output_type": "stream",
     "text": [
      "100%|██████████| 81/81 [2:17:13<00:00, 101.65s/it]\n"
     ]
    }
   ],
   "source": [
    "for p in tqdm(params):\n",
    "    print(p)\n",
    "    levenshtein_weight, beam_size, max_steps, learning_rate = p\n",
    "    cmd = \\\n",
    "    f'''\n",
    "    python run_cascada.py \n",
    "    --csv_path data/{dataset}/test.csv \n",
    "    --results_path results/{dataset}/cascada\n",
    "    --classifier_path experiments/{dataset}/classification_copynet \n",
    "    --levenshtein_path experiments/{dataset}/deep_levenshtein_copynet \n",
    "    --copynet_path experiments/{dataset}/nonmasked_copynet_with_attention \n",
    "    --levenshtein_weight {levenshtein_weight}\n",
    "    --beam_size {beam_size} \n",
    "    --max_steps {max_steps}\n",
    "    --cuda 0 \n",
    "    --num_updates 5 \n",
    "    --learning_rate {learning_rate} \n",
    "    --sample 100\n",
    "    '''.replace('\\n','')\n",
    "    #break\n",
    "    result = subprocess.run(cmd, stdout=subprocess.PIPE, shell=True)"
   ]
  },
  {
   "cell_type": "code",
   "execution_count": 9,
   "metadata": {},
   "outputs": [
    {
     "data": {
      "text/plain": [
       "'    python run_cascada.py     --csv_path data/insurance/test.csv     --results_path results/insurance/cascada    --classifier_path experiments/insurance/classification_copynet     --levenshtein_path experiments/insurance/deep_levenshtein_copynet     --copynet_path experiments/insurance/nonmasked_copynet_with_attention     --levenshtein_weight 0.1    --beam_size 1     --max_steps 5    --cuda 0     --num_updates 5     --learning_rate 1     --sample 100    '"
      ]
     },
     "execution_count": 9,
     "metadata": {},
     "output_type": "execute_result"
    }
   ],
   "source": [
    "cmd"
   ]
  },
  {
   "cell_type": "code",
   "execution_count": 59,
   "metadata": {},
   "outputs": [],
   "source": [
    "dataset = 'ag_news'"
   ]
  },
  {
   "cell_type": "code",
   "execution_count": 60,
   "metadata": {},
   "outputs": [],
   "source": [
    "base_dir = f'results/{dataset}'"
   ]
  },
  {
   "cell_type": "code",
   "execution_count": 61,
   "metadata": {},
   "outputs": [
    {
     "name": "stdout",
     "output_type": "stream",
     "text": [
      "The autoreload extension is already loaded. To reload it, use:\n",
      "  %reload_ext autoreload\n"
     ]
    }
   ],
   "source": [
    "%load_ext autoreload\n",
    "%autoreload 2"
   ]
  },
  {
   "cell_type": "code",
   "execution_count": 62,
   "metadata": {},
   "outputs": [],
   "source": [
    "model_with_weights = joblib.load(f'results/{dataset}/logit_tfidf.model')\n",
    "model = model_with_weights['model']\n",
    "w = model_with_weights['weights']\n",
    "for method in ['cascada']:\n",
    "    base = os.path.join(base_dir, method)\n",
    "    for folder in os.listdir(base):\n",
    "        if folder != 'backup':\n",
    "            attack_results_path = f'{base}/{folder}/results.csv'\n",
    "            eval_results_path = f'{base}/{folder}/eval_metric.json'\n",
    "            df = pd.read_csv(attack_results_path)\n",
    "            df.rename(columns={'generated_sequence':'adversarial_sequence'}, inplace=True)\n",
    "            metrics = calculate_metrics(model, w, \n",
    "                                    df['label'].values, \n",
    "                                    df['sequence'].values,\n",
    "                                    df['adversarial_sequence'].values)\n",
    "            json.dump(metrics, open(eval_results_path, 'w'))"
   ]
  },
  {
   "cell_type": "code",
   "execution_count": 81,
   "metadata": {},
   "outputs": [
    {
     "data": {
      "text/plain": [
       "array([0.28425745, 0.32533471])"
      ]
     },
     "execution_count": 81,
     "metadata": {},
     "output_type": "execute_result"
    }
   ],
   "source": [
    "w"
   ]
  },
  {
   "cell_type": "code",
   "execution_count": 33,
   "metadata": {},
   "outputs": [],
   "source": [
    "result = []\n",
    "for method in ['cascada']:\n",
    "    base = os.path.join(base_dir, method)\n",
    "    for folder in os.listdir(base):\n",
    "        if folder != 'backup':\n",
    "            args = json.load(open(os.path.join(base, folder, 'args.json')))\n",
    "            metrics = json.load(open(os.path.join(base, folder, 'eval_metric.json')))\n",
    "            args.update(metrics)\n",
    "            result.append({k:args[k] for k in ['roc_auc_drop', 'accuracy_drop', 'probability_drop', 'WER', 'NAD',\n",
    "                                               'levenshtein_weight', 'beam_size', 'max_steps', 'learning_rate']})\n",
    "result = pd.DataFrame(result)"
   ]
  },
  {
   "cell_type": "code",
   "execution_count": 34,
   "metadata": {},
   "outputs": [
    {
     "data": {
      "text/plain": [
       "'results/kaggle_transactions'"
      ]
     },
     "execution_count": 34,
     "metadata": {},
     "output_type": "execute_result"
    }
   ],
   "source": [
    "base_dir"
   ]
  },
  {
   "cell_type": "code",
   "execution_count": 35,
   "metadata": {},
   "outputs": [],
   "source": [
    "sns.set()"
   ]
  },
  {
   "cell_type": "code",
   "execution_count": 36,
   "metadata": {},
   "outputs": [
    {
     "data": {
      "image/png": "[encoded data removed]",
      "text/plain": [
       "<Figure size 1620x360 with 18 Axes>"
      ]
     },
     "metadata": {},
     "output_type": "display_data"
    }
   ],
   "source": [
    "g = sns.pairplot(result, x_vars=result.columns.values, y_vars=['NAD', 'WER'])\n",
    "plt.savefig(os.path.join(base_dir, f'stats_{method}.png'), dpi=150, bbox_inches='tight')"
   ]
  },
  {
   "cell_type": "code",
   "execution_count": 37,
   "metadata": {},
   "outputs": [
    {
     "data": {
      "text/html": [
       "<div>\n",
       "<style scoped>\n",
       "    .dataframe tbody tr th:only-of-type {\n",
       "        vertical-align: middle;\n",
       "    }\n",
       "\n",
       "    .dataframe tbody tr th {\n",
       "        vertical-align: top;\n",
       "    }\n",
       "\n",
       "    .dataframe thead th {\n",
       "        text-align: right;\n",
       "    }\n",
       "</style>\n",
       "<table border=\"1\" class=\"dataframe\">\n",
       "  <thead>\n",
       "    <tr style=\"text-align: right;\">\n",
       "      <th></th>\n",
       "      <th>roc_auc_drop</th>\n",
       "      <th>accuracy_drop</th>\n",
       "      <th>probability_drop</th>\n",
       "      <th>WER</th>\n",
       "      <th>NAD</th>\n",
       "      <th>levenshtein_weight</th>\n",
       "      <th>beam_size</th>\n",
       "      <th>max_steps</th>\n",
       "      <th>learning_rate</th>\n",
       "    </tr>\n",
       "  </thead>\n",
       "  <tbody>\n",
       "    <tr>\n",
       "      <th>12</th>\n",
       "      <td>0.198068</td>\n",
       "      <td>0.15</td>\n",
       "      <td>0.079708</td>\n",
       "      <td>3.15</td>\n",
       "      <td>0.131213</td>\n",
       "      <td>1.0</td>\n",
       "      <td>100</td>\n",
       "      <td>100</td>\n",
       "      <td>2.0</td>\n",
       "    </tr>\n",
       "    <tr>\n",
       "      <th>18</th>\n",
       "      <td>0.220612</td>\n",
       "      <td>0.16</td>\n",
       "      <td>0.088647</td>\n",
       "      <td>3.34</td>\n",
       "      <td>0.128539</td>\n",
       "      <td>1.0</td>\n",
       "      <td>100</td>\n",
       "      <td>30</td>\n",
       "      <td>2.0</td>\n",
       "    </tr>\n",
       "    <tr>\n",
       "      <th>21</th>\n",
       "      <td>0.086151</td>\n",
       "      <td>0.13</td>\n",
       "      <td>0.037243</td>\n",
       "      <td>1.89</td>\n",
       "      <td>0.126397</td>\n",
       "      <td>0.1</td>\n",
       "      <td>1</td>\n",
       "      <td>5</td>\n",
       "      <td>1.0</td>\n",
       "    </tr>\n",
       "    <tr>\n",
       "      <th>38</th>\n",
       "      <td>0.077697</td>\n",
       "      <td>0.13</td>\n",
       "      <td>0.032681</td>\n",
       "      <td>2.03</td>\n",
       "      <td>0.123689</td>\n",
       "      <td>10.0</td>\n",
       "      <td>1</td>\n",
       "      <td>30</td>\n",
       "      <td>1.0</td>\n",
       "    </tr>\n",
       "    <tr>\n",
       "      <th>61</th>\n",
       "      <td>0.077697</td>\n",
       "      <td>0.13</td>\n",
       "      <td>0.032681</td>\n",
       "      <td>2.03</td>\n",
       "      <td>0.123689</td>\n",
       "      <td>10.0</td>\n",
       "      <td>1</td>\n",
       "      <td>100</td>\n",
       "      <td>1.0</td>\n",
       "    </tr>\n",
       "    <tr>\n",
       "      <th>...</th>\n",
       "      <td>...</td>\n",
       "      <td>...</td>\n",
       "      <td>...</td>\n",
       "      <td>...</td>\n",
       "      <td>...</td>\n",
       "      <td>...</td>\n",
       "      <td>...</td>\n",
       "      <td>...</td>\n",
       "      <td>...</td>\n",
       "    </tr>\n",
       "    <tr>\n",
       "      <th>54</th>\n",
       "      <td>0.424718</td>\n",
       "      <td>0.31</td>\n",
       "      <td>0.160928</td>\n",
       "      <td>10.95</td>\n",
       "      <td>0.054111</td>\n",
       "      <td>1.0</td>\n",
       "      <td>1</td>\n",
       "      <td>100</td>\n",
       "      <td>4.0</td>\n",
       "    </tr>\n",
       "    <tr>\n",
       "      <th>36</th>\n",
       "      <td>0.473833</td>\n",
       "      <td>0.39</td>\n",
       "      <td>0.188527</td>\n",
       "      <td>13.80</td>\n",
       "      <td>0.052994</td>\n",
       "      <td>0.1</td>\n",
       "      <td>1</td>\n",
       "      <td>5</td>\n",
       "      <td>4.0</td>\n",
       "    </tr>\n",
       "    <tr>\n",
       "      <th>49</th>\n",
       "      <td>0.464573</td>\n",
       "      <td>0.36</td>\n",
       "      <td>0.182050</td>\n",
       "      <td>12.94</td>\n",
       "      <td>0.052981</td>\n",
       "      <td>1.0</td>\n",
       "      <td>1</td>\n",
       "      <td>5</td>\n",
       "      <td>4.0</td>\n",
       "    </tr>\n",
       "    <tr>\n",
       "      <th>71</th>\n",
       "      <td>0.425926</td>\n",
       "      <td>0.34</td>\n",
       "      <td>0.174067</td>\n",
       "      <td>12.58</td>\n",
       "      <td>0.052413</td>\n",
       "      <td>10.0</td>\n",
       "      <td>1</td>\n",
       "      <td>5</td>\n",
       "      <td>4.0</td>\n",
       "    </tr>\n",
       "    <tr>\n",
       "      <th>67</th>\n",
       "      <td>0.016103</td>\n",
       "      <td>0.01</td>\n",
       "      <td>0.011184</td>\n",
       "      <td>0.56</td>\n",
       "      <td>0.041063</td>\n",
       "      <td>0.1</td>\n",
       "      <td>100</td>\n",
       "      <td>100</td>\n",
       "      <td>1.0</td>\n",
       "    </tr>\n",
       "  </tbody>\n",
       "</table>\n",
       "<p>81 rows × 9 columns</p>\n",
       "</div>"
      ],
      "text/plain": [
       "    roc_auc_drop  accuracy_drop  probability_drop    WER       NAD  \\\n",
       "12      0.198068           0.15          0.079708   3.15  0.131213   \n",
       "18      0.220612           0.16          0.088647   3.34  0.128539   \n",
       "21      0.086151           0.13          0.037243   1.89  0.126397   \n",
       "38      0.077697           0.13          0.032681   2.03  0.123689   \n",
       "61      0.077697           0.13          0.032681   2.03  0.123689   \n",
       "..           ...            ...               ...    ...       ...   \n",
       "54      0.424718           0.31          0.160928  10.95  0.054111   \n",
       "36      0.473833           0.39          0.188527  13.80  0.052994   \n",
       "49      0.464573           0.36          0.182050  12.94  0.052981   \n",
       "71      0.425926           0.34          0.174067  12.58  0.052413   \n",
       "67      0.016103           0.01          0.011184   0.56  0.041063   \n",
       "\n",
       "    levenshtein_weight  beam_size  max_steps  learning_rate  \n",
       "12                 1.0        100        100            2.0  \n",
       "18                 1.0        100         30            2.0  \n",
       "21                 0.1          1          5            1.0  \n",
       "38                10.0          1         30            1.0  \n",
       "61                10.0          1        100            1.0  \n",
       "..                 ...        ...        ...            ...  \n",
       "54                 1.0          1        100            4.0  \n",
       "36                 0.1          1          5            4.0  \n",
       "49                 1.0          1          5            4.0  \n",
       "71                10.0          1          5            4.0  \n",
       "67                 0.1        100        100            1.0  \n",
       "\n",
       "[81 rows x 9 columns]"
      ]
     },
     "execution_count": 37,
     "metadata": {},
     "output_type": "execute_result"
    }
   ],
   "source": [
    "result.sort_values(by='NAD', ascending=False)"
   ]
  },
  {
   "cell_type": "code",
   "execution_count": 39,
   "metadata": {},
   "outputs": [
    {
     "data": {
      "text/html": [
       "<div>\n",
       "<style scoped>\n",
       "    .dataframe tbody tr th:only-of-type {\n",
       "        vertical-align: middle;\n",
       "    }\n",
       "\n",
       "    .dataframe tbody tr th {\n",
       "        vertical-align: top;\n",
       "    }\n",
       "\n",
       "    .dataframe thead th {\n",
       "        text-align: right;\n",
       "    }\n",
       "</style>\n",
       "<table border=\"1\" class=\"dataframe\">\n",
       "  <thead>\n",
       "    <tr style=\"text-align: right;\">\n",
       "      <th></th>\n",
       "      <th>roc_auc_drop</th>\n",
       "      <th>accuracy_drop</th>\n",
       "      <th>probability_drop</th>\n",
       "      <th>WER</th>\n",
       "      <th>NAD</th>\n",
       "      <th>levenshtein_weight</th>\n",
       "      <th>beam_size</th>\n",
       "      <th>max_steps</th>\n",
       "      <th>learning_rate</th>\n",
       "    </tr>\n",
       "  </thead>\n",
       "  <tbody>\n",
       "    <tr>\n",
       "      <th>24</th>\n",
       "      <td>0.036634</td>\n",
       "      <td>0.08</td>\n",
       "      <td>0.018509</td>\n",
       "      <td>0.66</td>\n",
       "      <td>0.120773</td>\n",
       "      <td>1.0</td>\n",
       "      <td>30</td>\n",
       "      <td>30</td>\n",
       "      <td>1.0</td>\n",
       "    </tr>\n",
       "    <tr>\n",
       "      <th>28</th>\n",
       "      <td>0.037440</td>\n",
       "      <td>0.07</td>\n",
       "      <td>0.017609</td>\n",
       "      <td>0.87</td>\n",
       "      <td>0.118357</td>\n",
       "      <td>10.0</td>\n",
       "      <td>30</td>\n",
       "      <td>30</td>\n",
       "      <td>1.0</td>\n",
       "    </tr>\n",
       "    <tr>\n",
       "      <th>58</th>\n",
       "      <td>0.215781</td>\n",
       "      <td>0.17</td>\n",
       "      <td>0.087077</td>\n",
       "      <td>3.68</td>\n",
       "      <td>0.114074</td>\n",
       "      <td>1.0</td>\n",
       "      <td>30</td>\n",
       "      <td>30</td>\n",
       "      <td>2.0</td>\n",
       "    </tr>\n",
       "    <tr>\n",
       "      <th>45</th>\n",
       "      <td>0.219002</td>\n",
       "      <td>0.17</td>\n",
       "      <td>0.088574</td>\n",
       "      <td>4.04</td>\n",
       "      <td>0.107491</td>\n",
       "      <td>0.1</td>\n",
       "      <td>30</td>\n",
       "      <td>30</td>\n",
       "      <td>2.0</td>\n",
       "    </tr>\n",
       "    <tr>\n",
       "      <th>26</th>\n",
       "      <td>0.040660</td>\n",
       "      <td>0.06</td>\n",
       "      <td>0.018633</td>\n",
       "      <td>0.74</td>\n",
       "      <td>0.096618</td>\n",
       "      <td>0.1</td>\n",
       "      <td>30</td>\n",
       "      <td>30</td>\n",
       "      <td>1.0</td>\n",
       "    </tr>\n",
       "    <tr>\n",
       "      <th>69</th>\n",
       "      <td>0.199678</td>\n",
       "      <td>0.14</td>\n",
       "      <td>0.083568</td>\n",
       "      <td>4.31</td>\n",
       "      <td>0.093495</td>\n",
       "      <td>10.0</td>\n",
       "      <td>30</td>\n",
       "      <td>30</td>\n",
       "      <td>2.0</td>\n",
       "    </tr>\n",
       "    <tr>\n",
       "      <th>80</th>\n",
       "      <td>0.499195</td>\n",
       "      <td>0.42</td>\n",
       "      <td>0.187886</td>\n",
       "      <td>9.79</td>\n",
       "      <td>0.081323</td>\n",
       "      <td>1.0</td>\n",
       "      <td>30</td>\n",
       "      <td>30</td>\n",
       "      <td>4.0</td>\n",
       "    </tr>\n",
       "    <tr>\n",
       "      <th>7</th>\n",
       "      <td>0.524155</td>\n",
       "      <td>0.42</td>\n",
       "      <td>0.204365</td>\n",
       "      <td>11.17</td>\n",
       "      <td>0.064954</td>\n",
       "      <td>0.1</td>\n",
       "      <td>30</td>\n",
       "      <td>30</td>\n",
       "      <td>4.0</td>\n",
       "    </tr>\n",
       "    <tr>\n",
       "      <th>22</th>\n",
       "      <td>0.383253</td>\n",
       "      <td>0.31</td>\n",
       "      <td>0.144962</td>\n",
       "      <td>10.05</td>\n",
       "      <td>0.064226</td>\n",
       "      <td>10.0</td>\n",
       "      <td>30</td>\n",
       "      <td>30</td>\n",
       "      <td>4.0</td>\n",
       "    </tr>\n",
       "  </tbody>\n",
       "</table>\n",
       "</div>"
      ],
      "text/plain": [
       "    roc_auc_drop  accuracy_drop  probability_drop    WER       NAD  \\\n",
       "24      0.036634           0.08          0.018509   0.66  0.120773   \n",
       "28      0.037440           0.07          0.017609   0.87  0.118357   \n",
       "58      0.215781           0.17          0.087077   3.68  0.114074   \n",
       "45      0.219002           0.17          0.088574   4.04  0.107491   \n",
       "26      0.040660           0.06          0.018633   0.74  0.096618   \n",
       "69      0.199678           0.14          0.083568   4.31  0.093495   \n",
       "80      0.499195           0.42          0.187886   9.79  0.081323   \n",
       "7       0.524155           0.42          0.204365  11.17  0.064954   \n",
       "22      0.383253           0.31          0.144962  10.05  0.064226   \n",
       "\n",
       "    levenshtein_weight  beam_size  max_steps  learning_rate  \n",
       "24                 1.0         30         30            1.0  \n",
       "28                10.0         30         30            1.0  \n",
       "58                 1.0         30         30            2.0  \n",
       "45                 0.1         30         30            2.0  \n",
       "26                 0.1         30         30            1.0  \n",
       "69                10.0         30         30            2.0  \n",
       "80                 1.0         30         30            4.0  \n",
       "7                  0.1         30         30            4.0  \n",
       "22                10.0         30         30            4.0  "
      ]
     },
     "execution_count": 39,
     "metadata": {},
     "output_type": "execute_result"
    }
   ],
   "source": [
    "result[(result['beam_size'] == 30)&(result['max_steps'] == 30)].sort_values(by='NAD', ascending=False)"
   ]
  },
  {
   "cell_type": "code",
   "execution_count": null,
   "metadata": {},
   "outputs": [],
   "source": []
  },
  {
   "cell_type": "code",
   "execution_count": 46,
   "metadata": {},
   "outputs": [
    {
     "name": "stdout",
     "output_type": "stream",
     "text": [
      "b\"{'accuracy_drop': 0.81, 'roc_auc_drop': 0.812639142814872, 'probability_drop': 0.6869838213611057, 'WER': 6.41, 'NAD': 0.1676344408880983}\\n\"\n",
      "b\"{'accuracy_drop': 0.7, 'roc_auc_drop': 0.1717171717171717, 'probability_drop': 0.3148502648161993, 'WER': 5.45, 'NAD': 0.1300819570174395}\\n\"\n",
      "b\"{'accuracy_drop': 0.36, 'roc_auc_drop': 0.3680645069262523, 'probability_drop': 0.2128507382176137, 'WER': 8.77, 'NAD': 0.11854225796642669}\\n\"\n",
      "b\"{'accuracy_drop': 0.3499999999999999, 'roc_auc_drop': 0.3681561996779388, 'probability_drop': 0.20812382491394066, 'WER': 10.13, 'NAD': 0.09894366754297998}\\n\"\n"
     ]
    }
   ],
   "source": [
    "for dataset in ['ag_news', 'insurance', 'ai_academy_data', 'kaggle_transactions']:\n",
    "    cmd = f\"\"\"\n",
    "    python run_hotflip.py \n",
    "    --csv_path data/{dataset}/test.csv \n",
    "    --results_path results/{dataset}/hotflip\n",
    "    --classifier_path experiments/{dataset}/classifier_basic \n",
    "    --sample 100\n",
    "    \"\"\".replace('\\n','')\n",
    "    result = subprocess.run(cmd, stdout=subprocess.PIPE, shell=True)\n",
    "    \n",
    "    xs = os.listdir(f'results/{dataset}/hotflip')\n",
    "    x = np.sort(xs)[-1]\n",
    "    cmd = f\"\"\"\n",
    "     python eval.py \n",
    "        -mp results/{dataset}/logit_tfidf.model \n",
    "        -arp results/{dataset}/hotflip/{x}/results.csv \n",
    "        -erp results/{dataset}/hotflip/{x}/eval_metric.json\n",
    "    \"\"\".replace('\\n','')\n",
    "    result = subprocess.run(cmd, stdout=subprocess.PIPE, shell=True)\n",
    "    print(result.stdout)"
   ]
  },
  {
   "cell_type": "code",
   "execution_count": null,
   "metadata": {},
   "outputs": [],
   "source": []
  },
  {
   "cell_type": "code",
   "execution_count": 89,
   "metadata": {},
   "outputs": [
    {
     "name": "stdout",
     "output_type": "stream",
     "text": [
      "ag_news 6.41\n",
      "insurance 5.45\n",
      "ai_academy_data 8.77\n",
      "kaggle_transactions 10.13\n"
     ]
    }
   ],
   "source": [
    "for dataset in ['ag_news', 'insurance', 'ai_academy_data', 'kaggle_transactions']:\n",
    "    df = pd.read_csv(f'data/{dataset}/test.csv')\n",
    "    df = df.iloc[:100]\n",
    "    print(dataset, df['sequences'].apply(lambda x: len(x.split())).mean())"
   ]
  },
  {
   "cell_type": "code",
   "execution_count": null,
   "metadata": {},
   "outputs": [],
   "source": []
  }
 ],
 "metadata": {
  "kernelspec": {
   "display_name": "Python [conda env:adat] *",
   "language": "python",
   "name": "conda-env-adat-py"
  },
  "language_info": {
   "codemirror_mode": {
    "name": "ipython",
    "version": 3
   },
   "file_extension": ".py",
   "mimetype": "text/x-python",
   "name": "python",
   "nbconvert_exporter": "python",
   "pygments_lexer": "ipython3",
   "version": "3.6.1"
  }
 },
 "nbformat": 4,
 "nbformat_minor": 4
}
