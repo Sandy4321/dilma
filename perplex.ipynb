{
 "cells": [
  {
   "cell_type": "code",
   "execution_count": 13,
   "metadata": {},
   "outputs": [],
   "source": [
    "import argparse\n",
    "import json\n",
    "from pathlib import Path\n",
    "from pprint import pprint\n",
    "\n",
    "import torch\n",
    "import pandas as pd\n",
    "import torch.optim as optim\n",
    "from allennlp.data.vocabulary import Vocabulary\n",
    "from allennlp.training.trainer import Trainer\n",
    "from allennlp.data.iterators import BucketIterator\n",
    "from allennlp.common.util import dump_metrics\n",
    "\n",
    "from adat.models import Task, get_model_by_name\n",
    "from adat.dataset import (\n",
    "    ClassificationReader,\n",
    "    CopyNetReader,\n",
    "    LevenshteinReader,\n",
    "    LanguageModelingReader,\n",
    "    END_SYMBOL,\n",
    "    START_SYMBOL\n",
    ")\n",
    "from adat.masker import get_default_masker\n",
    "from adat.utils import load_weights"
   ]
  },
  {
   "cell_type": "code",
   "execution_count": 14,
   "metadata": {},
   "outputs": [],
   "source": [
    "reader = LanguageModelingReader()"
   ]
  },
  {
   "cell_type": "code",
   "execution_count": 15,
   "metadata": {},
   "outputs": [],
   "source": [
    "path = 'experiments/insurance/lm/best.th'\n",
    "vocab_path = 'experiments/insurance/lm/vocab'\n",
    "task = 'lm'"
   ]
  },
  {
   "cell_type": "code",
   "execution_count": 16,
   "metadata": {},
   "outputs": [],
   "source": [
    "vocab = Vocabulary.from_files(vocab_path)"
   ]
  },
  {
   "cell_type": "code",
   "execution_count": 17,
   "metadata": {},
   "outputs": [],
   "source": [
    "model = get_model_by_name(\n",
    "    task,\n",
    "    vocab=vocab)"
   ]
  },
  {
   "cell_type": "code",
   "execution_count": 18,
   "metadata": {},
   "outputs": [],
   "source": [
    "load_weights(model, path)"
   ]
  },
  {
   "cell_type": "code",
   "execution_count": 19,
   "metadata": {},
   "outputs": [],
   "source": [
    "sequences = pd.read_csv('data/insurance/test.csv')['sequences'][:10]"
   ]
  },
  {
   "cell_type": "code",
   "execution_count": 20,
   "metadata": {},
   "outputs": [],
   "source": [
    "from adat.utils import calculate_perplexity"
   ]
  },
  {
   "cell_type": "code",
   "execution_count": 21,
   "metadata": {},
   "outputs": [
    {
     "data": {
      "text/plain": [
       "[50.16630172729492,\n",
       " 114.66571807861328,\n",
       " 6.923059940338135,\n",
       " 133.9017333984375,\n",
       " 51.48345947265625,\n",
       " 49.043601989746094,\n",
       " 8.242389678955078,\n",
       " 16.79462242126465,\n",
       " 31.820383071899414,\n",
       " 6.526605129241943]"
      ]
     },
     "execution_count": 21,
     "metadata": {},
     "output_type": "execute_result"
    }
   ],
   "source": [
    "calculate_perplexity(sequences, model, reader)"
   ]
  },
  {
   "cell_type": "code",
   "execution_count": null,
   "metadata": {},
   "outputs": [],
   "source": []
  },
  {
   "cell_type": "code",
   "execution_count": null,
   "metadata": {},
   "outputs": [],
   "source": []
  },
  {
   "cell_type": "code",
   "execution_count": null,
   "metadata": {},
   "outputs": [],
   "source": []
  },
  {
   "cell_type": "code",
   "execution_count": null,
   "metadata": {},
   "outputs": [],
   "source": []
  },
  {
   "cell_type": "code",
   "execution_count": 6,
   "metadata": {},
   "outputs": [],
   "source": [
    "import pandas as pd\n",
    "import numpy as np"
   ]
  },
  {
   "cell_type": "code",
   "execution_count": 16,
   "metadata": {},
   "outputs": [],
   "source": [
    "pd.set_option('max_colwidth', 90)"
   ]
  },
  {
   "cell_type": "code",
   "execution_count": 4,
   "metadata": {},
   "outputs": [],
   "source": [
    "hf = pd.read_csv('results/ag_news/hotflip/20200219_234929/results.csv')"
   ]
  },
  {
   "cell_type": "code",
   "execution_count": 19,
   "metadata": {},
   "outputs": [],
   "source": [
    "ca = pd.read_csv('results/ag_news/cascada/20200220_110214/results.csv')"
   ]
  },
  {
   "cell_type": "code",
   "execution_count": 33,
   "metadata": {},
   "outputs": [
    {
     "data": {
      "text/html": [
       "<div>\n",
       "<style scoped>\n",
       "    .dataframe tbody tr th:only-of-type {\n",
       "        vertical-align: middle;\n",
       "    }\n",
       "\n",
       "    .dataframe tbody tr th {\n",
       "        vertical-align: top;\n",
       "    }\n",
       "\n",
       "    .dataframe thead th {\n",
       "        text-align: right;\n",
       "    }\n",
       "</style>\n",
       "<table border=\"1\" class=\"dataframe\">\n",
       "  <thead>\n",
       "    <tr style=\"text-align: right;\">\n",
       "      <th></th>\n",
       "      <th>sequence</th>\n",
       "      <th>hotflip</th>\n",
       "      <th>cascada</th>\n",
       "    </tr>\n",
       "  </thead>\n",
       "  <tbody>\n",
       "    <tr>\n",
       "      <th>97</th>\n",
       "      <td>wall street treads water as traders await fresh direction</td>\n",
       "      <td>wall street treads water as traders await fresh ap</td>\n",
       "      <td>wall street treads water as troops await fresh direction</td>\n",
       "    </tr>\n",
       "    <tr>\n",
       "      <th>49</th>\n",
       "      <td>photo may be first of extrasolar planet</td>\n",
       "      <td>photo may be first of extrasolar arafat</td>\n",
       "      <td>photo may be first of excuse rout</td>\n",
       "    </tr>\n",
       "    <tr>\n",
       "      <th>98</th>\n",
       "      <td>federal judge orders soldier back to iraq</td>\n",
       "      <td>microsoft internet orders soldier back to iraq</td>\n",
       "      <td>federal judge orders soldier back to \\</td>\n",
       "    </tr>\n",
       "    <tr>\n",
       "      <th>86</th>\n",
       "      <td>second bomb threat plane lands safely</td>\n",
       "      <td>second bomb threat plane lands nasa</td>\n",
       "      <td>second car threat plane lands safely</td>\n",
       "    </tr>\n",
       "    <tr>\n",
       "      <th>0</th>\n",
       "      <td>belgians find canadian jokes about them less than flattering canadian press</td>\n",
       "      <td>nasa find canadian jokes about them less than flattering canadian press</td>\n",
       "      <td>mantech find bryant with them less than anthony canadian press</td>\n",
       "    </tr>\n",
       "    <tr>\n",
       "      <th>36</th>\n",
       "      <td>sri lanka beat pakistan in faisalabad test afp</td>\n",
       "      <td>nba lanka beat pakistan in faisalabad test afp</td>\n",
       "      <td>best lanka beat argentina in exploit coach afp</td>\n",
       "    </tr>\n",
       "    <tr>\n",
       "      <th>95</th>\n",
       "      <td>indias most wanted bandit killed in shootout reuters</td>\n",
       "      <td>nasa most wanted bandit killed in shootout nasa</td>\n",
       "      <td>indias most was bandit killed in environment auction reuters reuters</td>\n",
       "    </tr>\n",
       "    <tr>\n",
       "      <th>40</th>\n",
       "      <td>gt eye on stocks</td>\n",
       "      <td>washingtonpostcom eye on stocks</td>\n",
       "      <td>gt eye on sharon</td>\n",
       "    </tr>\n",
       "    <tr>\n",
       "      <th>86</th>\n",
       "      <td>second bomb threat plane lands safely</td>\n",
       "      <td>second bomb threat plane lands nasa</td>\n",
       "      <td>second car threat plane lands safely</td>\n",
       "    </tr>\n",
       "    <tr>\n",
       "      <th>23</th>\n",
       "      <td>blair reasserts control after rocky summer ap</td>\n",
       "      <td>blair internet control after rocky summer ap</td>\n",
       "      <td>blair detects control after outer ages</td>\n",
       "    </tr>\n",
       "  </tbody>\n",
       "</table>\n",
       "</div>"
      ],
      "text/plain": [
       "                                                                        sequence  \\\n",
       "97                     wall street treads water as traders await fresh direction   \n",
       "49                                       photo may be first of extrasolar planet   \n",
       "98                                     federal judge orders soldier back to iraq   \n",
       "86                                         second bomb threat plane lands safely   \n",
       "0    belgians find canadian jokes about them less than flattering canadian press   \n",
       "36                                sri lanka beat pakistan in faisalabad test afp   \n",
       "95                          indias most wanted bandit killed in shootout reuters   \n",
       "40                                                              gt eye on stocks   \n",
       "86                                         second bomb threat plane lands safely   \n",
       "23                                 blair reasserts control after rocky summer ap   \n",
       "\n",
       "                                                                    hotflip  \\\n",
       "97                       wall street treads water as traders await fresh ap   \n",
       "49                                  photo may be first of extrasolar arafat   \n",
       "98                           microsoft internet orders soldier back to iraq   \n",
       "86                                      second bomb threat plane lands nasa   \n",
       "0   nasa find canadian jokes about them less than flattering canadian press   \n",
       "36                           nba lanka beat pakistan in faisalabad test afp   \n",
       "95                          nasa most wanted bandit killed in shootout nasa   \n",
       "40                                          washingtonpostcom eye on stocks   \n",
       "86                                      second bomb threat plane lands nasa   \n",
       "23                             blair internet control after rocky summer ap   \n",
       "\n",
       "                                                                 cascada  \n",
       "97              wall street treads water as troops await fresh direction  \n",
       "49                                     photo may be first of excuse rout  \n",
       "98                                federal judge orders soldier back to \\  \n",
       "86                                  second car threat plane lands safely  \n",
       "0         mantech find bryant with them less than anthony canadian press  \n",
       "36                        best lanka beat argentina in exploit coach afp  \n",
       "95  indias most was bandit killed in environment auction reuters reuters  \n",
       "40                                                      gt eye on sharon  \n",
       "86                                  second car threat plane lands safely  \n",
       "23                                blair detects control after outer ages  "
      ]
     },
     "execution_count": 33,
     "metadata": {},
     "output_type": "execute_result"
    }
   ],
   "source": [
    "indexes = np.random.randint(0, min(hf.shape[0], ca.shape[0]), size=10)\n",
    "hff = hf.iloc[indexes][['sequence', 'adversarial_sequence']]\n",
    "caa = ca.iloc[indexes][['sequence', 'adversarial_sequence']]\n",
    "df = pd.DataFrame.from_dict(\n",
    "    {\n",
    "        'sequence': hff['sequence'],\n",
    "        'hotflip': hff['adversarial_sequence'], \n",
    "        'cascada': caa['adversarial_sequence']\n",
    "    }\n",
    ")\n",
    "\n",
    "df"
   ]
  },
  {
   "cell_type": "code",
   "execution_count": null,
   "metadata": {},
   "outputs": [],
   "source": []
  },
  {
   "cell_type": "code",
   "execution_count": null,
   "metadata": {},
   "outputs": [],
   "source": []
  },
  {
   "cell_type": "code",
   "execution_count": null,
   "metadata": {},
   "outputs": [],
   "source": []
  },
  {
   "cell_type": "code",
   "execution_count": 1,
   "metadata": {},
   "outputs": [],
   "source": [
    "import argparse\n",
    "from pathlib import Path\n",
    "import csv\n",
    "from tqdm import tqdm\n",
    "from datetime import datetime\n",
    "\n",
    "import pandas as pd\n",
    "import torch\n",
    "from allennlp.data.vocabulary import Vocabulary\n",
    "from allennlp.common.util import dump_metrics\n",
    "\n",
    "from adat.models import get_model_by_name\n",
    "from adat.dataset import CopyNetReader, IDENTITY_TOKEN\n",
    "from adat.attackers import AttackerOutput, Cascada\n",
    "from adat.utils import load_weights, get_args_from_path"
   ]
  },
  {
   "cell_type": "code",
   "execution_count": 2,
   "metadata": {},
   "outputs": [],
   "source": [
    "classifier_path = 'experiments/ag_news/classifier_masked_copynet_with_attention/'\n",
    "copynet_path = 'experiments/ag_news/masked_copynet_with_attention/'\n",
    "levenshtein_path = 'experiments/ag_news/deep_levenshtein_masked_copynet_with_attention/'"
   ]
  },
  {
   "cell_type": "code",
   "execution_count": 3,
   "metadata": {},
   "outputs": [],
   "source": [
    "reader = CopyNetReader(masker=None)\n",
    "\n",
    "copynet_vocab = Vocabulary.from_files(Path(copynet_path) / 'vocab')\n",
    "copynet_model_args = get_args_from_path(Path(copynet_path) / 'args.json')\n",
    "copynet_model = get_model_by_name(\n",
    "    **copynet_model_args,\n",
    "    vocab=copynet_vocab,\n",
    "    beam_size=3\n",
    ")\n",
    "load_weights(copynet_model, Path(copynet_path) / 'best.th')\n",
    "\n",
    "class_model_args = get_args_from_path(Path(classifier_path) / 'args.json')\n",
    "class_model = get_model_by_name(\n",
    "    **class_model_args,\n",
    "    vocab=copynet_vocab,\n",
    "    copynet=copynet_model\n",
    ")\n",
    "load_weights(class_model, Path(classifier_path) / 'best.th')\n",
    "\n",
    "deep_levenshtein_model_args = get_args_from_path(Path(levenshtein_path) / 'args.json')\n",
    "deep_levenshtein_model = get_model_by_name(\n",
    "    **deep_levenshtein_model_args,\n",
    "    vocab=copynet_vocab,\n",
    "    copynet=copynet_model\n",
    ")\n",
    "load_weights(deep_levenshtein_model, Path(levenshtein_path) / 'best.th')"
   ]
  },
  {
   "cell_type": "code",
   "execution_count": 4,
   "metadata": {},
   "outputs": [],
   "source": [
    "sample = 1000\n",
    "data = pd.read_csv('data/ag_news/test.csv')\n",
    "sequences = data['sequences'].tolist()[:sample]\n",
    "labels = data['labels'].tolist()[:sample]\n",
    "maskers = [IDENTITY_TOKEN.split(',')] * len(sequences)"
   ]
  },
  {
   "cell_type": "code",
   "execution_count": 5,
   "metadata": {},
   "outputs": [
    {
     "name": "stderr",
     "output_type": "stream",
     "text": [
      "0it [00:00, ?it/s]\n"
     ]
    }
   ],
   "source": [
    "for seq, lab, mask_tokens in tqdm(zip(sequences, labels, maskers)):\n",
    "    break"
   ]
  },
  {
   "cell_type": "code",
   "execution_count": 11,
   "metadata": {},
   "outputs": [],
   "source": [
    "attacker = Cascada(\n",
    "    vocab=copynet_vocab,\n",
    "    reader=reader,\n",
    "    classification_model=class_model,\n",
    "    masked_copynet=copynet_model, deep_levenshtein_model=deep_levenshtein_model,\n",
    "    levenshtein_weight=5.0,\n",
    "    prob_diff_weight=2.0,\n",
    "    learning_rate=0.5,\n",
    "    num_updates=3,\n",
    "    num_labels=class_model_args['num_classes'],\n",
    "    device=2\n",
    ")"
   ]
  },
  {
   "cell_type": "code",
   "execution_count": 12,
   "metadata": {},
   "outputs": [],
   "source": [
    "attacker.set_input(sequence=seq, mask_tokens=mask_tokens)\n",
    "attacker.set_label_to_attack(lab)\n",
    "\n",
    "output = attacker.sample_until_label_is_changed(\n",
    "    max_steps=30,\n",
    "    early_stopping=False\n",
    ")"
   ]
  },
  {
   "cell_type": "code",
   "execution_count": 13,
   "metadata": {},
   "outputs": [],
   "source": [
    "attacker.empty_history()"
   ]
  },
  {
   "cell_type": "code",
   "execution_count": 14,
   "metadata": {},
   "outputs": [
    {
     "data": {
      "text/plain": [
       "AttackerOutput(sequence=' belgians find canadian jokes about them less than flattering canadian press', label=0, adversarial_sequence='quotnight find canadian submariners about them less than everton canadian press', adversarial_label=1, wer=3, prob_diff=0.5655502676963806, acceptance_probability=None)"
      ]
     },
     "execution_count": 14,
     "metadata": {},
     "output_type": "execute_result"
    }
   ],
   "source": [
    "output"
   ]
  },
  {
   "cell_type": "code",
   "execution_count": 10,
   "metadata": {},
   "outputs": [
    {
     "data": {
      "text/plain": [
       "AttackerOutput(sequence=' belgians find canadian jokes about them less than flattering canadian press', label=0, adversarial_sequence='mantech find canadian far about them than jailed canadian press', adversarial_label=1, wer=4, prob_diff=0.5608293414115906, acceptance_probability=None)"
      ]
     },
     "execution_count": 10,
     "metadata": {},
     "output_type": "execute_result"
    }
   ],
   "source": [
    "output"
   ]
  },
  {
   "cell_type": "code",
   "execution_count": 19,
   "metadata": {},
   "outputs": [
    {
     "data": {
      "text/plain": [
       "tensor([[0.6052, 0.3828]])"
      ]
     },
     "execution_count": 19,
     "metadata": {},
     "output_type": "execute_result"
    }
   ],
   "source": [
    "torch.rand(1, 2)"
   ]
  },
  {
   "cell_type": "code",
   "execution_count": 18,
   "metadata": {},
   "outputs": [
    {
     "data": {
      "text/plain": [
       "tensor([[0.0000, 0.4937]])"
      ]
     },
     "execution_count": 18,
     "metadata": {},
     "output_type": "execute_result"
    }
   ],
   "source": [
    "torch.rand(1, 2) * torch.tensor([0., 1.])"
   ]
  },
  {
   "cell_type": "code",
   "execution_count": 20,
   "metadata": {},
   "outputs": [
    {
     "data": {
      "text/plain": [
       "0.495"
      ]
     },
     "execution_count": 20,
     "metadata": {},
     "output_type": "execute_result"
    }
   ],
   "source": [
    "0.99 * 0.5"
   ]
  },
  {
   "cell_type": "code",
   "execution_count": null,
   "metadata": {},
   "outputs": [],
   "source": []
  }
 ],
 "metadata": {
  "kernelspec": {
   "display_name": "Python 3",
   "language": "python",
   "name": "python3"
  },
  "language_info": {
   "codemirror_mode": {
    "name": "ipython",
    "version": 3
   },
   "file_extension": ".py",
   "mimetype": "text/x-python",
   "name": "python",
   "nbconvert_exporter": "python",
   "pygments_lexer": "ipython3",
   "version": "3.6.8"
  }
 },
 "nbformat": 4,
 "nbformat_minor": 2
}
