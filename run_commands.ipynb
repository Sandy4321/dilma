{
 "cells": [
  {
   "cell_type": "code",
   "execution_count": 38,
   "metadata": {},
   "outputs": [],
   "source": [
    "import subprocess\n",
    "import pandas as pd\n",
    "import os"
   ]
  },
  {
   "cell_type": "code",
   "execution_count": 35,
   "metadata": {},
   "outputs": [
    {
     "name": "stdout",
     "output_type": "stream",
     "text": [
      "cascada : {'accuracy_drop': 0.041000000000000036, 'probability_drop': 0.03534953742149777, 'WER': 0.731, 'NAD': 0.02918571646732761}\n",
      "\n",
      "mcmc : {'accuracy_drop': 0.06399999999999995, 'probability_drop': 0.056384669227768115, 'WER': 1.024, 'NAD': 0.06197553502420822}\n",
      "\n",
      "hotflip : {'accuracy_drop': 0.789, 'probability_drop': 0.6462328299128951, 'WER': 6.472, 'NAD': 0.16620521013092537}\n",
      "\n",
      "random : {'accuracy_drop': 0.06399999999999995, 'probability_drop': 0.05553518383880777, 'WER': 1.094, 'NAD': 0.06226157614262929}\n",
      "\n"
     ]
    }
   ],
   "source": [
    "for method in ['cascada', 'mcmc', 'hotflip', 'random']:\n",
    "\n",
    "    cmd = 'BASE=\"results/ag_news_results/' +  method + '\" && FOLDER=\"$(ls ${BASE} | sort -z | tail -n 2)\" && python eval.py -mp results/ag_news/logit_tfidf.model -arp ${BASE}/${FOLDER}/results.csv -erp ${BASE}/${FOLDER}/eval_metric.json'\n",
    "\n",
    "    result = subprocess.run(cmd, stdout=subprocess.PIPE, shell=True)\n",
    "\n",
    "    print(method, \":\", result.stdout.decode('utf-8'))"
   ]
  },
  {
   "cell_type": "code",
   "execution_count": 47,
   "metadata": {},
   "outputs": [],
   "source": [
    "df = pd.read_csv('data/ag_news/test.csv')"
   ]
  },
  {
   "cell_type": "code",
   "execution_count": 78,
   "metadata": {},
   "outputs": [
    {
     "name": "stdout",
     "output_type": "stream",
     "text": [
      "results/ag_news_results/cascada/20200217_195303/results.csv\n"
     ]
    }
   ],
   "source": [
    "base_dir = 'results/ag_news_results'\n",
    "for method in ['cascada']:\n",
    "    xs = os.listdir(os.path.join(base_dir, method))\n",
    "    x = sorted(xs)[-1]\n",
    "    res_path = os.path.join(base_dir, method, x, 'results.csv')\n",
    "    print(res_path)\n",
    "    res = pd.read_csv(res_path)\n",
    "    del res['label']\n",
    "    del res['sequence']\n",
    "    dfr = res.join(df, how='left')\n",
    "    dfr.rename(columns={'labels':'label', 'sequences':'sequence'}, inplace=True)\n",
    "    dfr.to_csv(res_path, index=False)"
   ]
  },
  {
   "cell_type": "code",
   "execution_count": 79,
   "metadata": {},
   "outputs": [
    {
     "name": "stdout",
     "output_type": "stream",
     "text": [
      "cascada : {'accuracy_drop': 0.721, 'probability_drop': 0.5525898447096369, 'WER': 6.9, 'NAD': 0.14697185761203838}\n",
      "\n"
     ]
    }
   ],
   "source": [
    "for method in ['cascada']:\n",
    "\n",
    "    cmd = 'BASE=\"results/ag_news_results/' +  method + '\" && FOLDER=\"$(ls ${BASE} | sort -z | tail -n 2)\" && python eval.py -mp results/ag_news/logit_tfidf.model -arp ${BASE}/${FOLDER}/results.csv -erp ${BASE}/${FOLDER}/eval_metric.json'\n",
    "\n",
    "    result = subprocess.run(cmd, stdout=subprocess.PIPE, shell=True)\n",
    "\n",
    "    print(method, \":\", result.stdout.decode('utf-8'))"
   ]
  },
  {
   "cell_type": "code",
   "execution_count": 84,
   "metadata": {},
   "outputs": [
    {
     "name": "stdout",
     "output_type": "stream",
     "text": [
      "cascada : {'accuracy_drop': 0.634, 'probability_drop': 0.49027662298054747, 'WER': 5.289, 'NAD': 0.1522005885049933}\n",
      "\n",
      "cascada : {\n",
      "  \"cuda\": 0,\n",
      "  \"csv_path\": \"data/ag_news/test.csv\",\n",
      "  \"results_path\": \"results/ag_news_results/cascada\",\n",
      "  \"copynet_path\": \"experiments/ag_news/nonmasked_copynet_with_attention\",\n",
      "  \"classifier_path\": \"experiments/ag_news/classification_copynet\",\n",
      "  \"levenshtein_path\": \"experiments/ag_news/deep_levenshtein_copynet\",\n",
      "  \"levenshtein_weight\": 0.1,\n",
      "  \"learning_rate\": 3.0,\n",
      "  \"max_steps\": 30,\n",
      "  \"num_updates\": 5,\n",
      "  \"beam_size\": 30,\n",
      "  \"maskers\": \"Identity\",\n",
      "  \"early_stopping\": false,\n",
      "  \"sample\": 1000\n",
      "}\n"
     ]
    }
   ],
   "source": [
    "for method in ['cascada']:\n",
    "\n",
    "    cmd = 'BASE=\"results/ag_news_results/' +  method + '\" && FOLDER=\"$(ls ${BASE} | sort -z | tail -n 4 | head -n 1)\" && python eval.py -mp results/ag_news/logit_tfidf.model -arp ${BASE}/${FOLDER}/results.csv -erp ${BASE}/${FOLDER}/eval_metric.json'\n",
    "    result = subprocess.run(cmd, stdout=subprocess.PIPE, shell=True)\n",
    "    print(method, \":\", result.stdout.decode('utf-8'))\n",
    "    \n",
    "    cmd = 'BASE=\"results/ag_news_results/' +  method + '\" && FOLDER=\"$(ls ${BASE} | sort -z | tail -n 4 | head -n 1)\" && cat ${BASE}/${FOLDER}/args.json'\n",
    "    result = subprocess.run(cmd, stdout=subprocess.PIPE, shell=True)\n",
    "    print(method, \":\", result.stdout.decode('utf-8'))\n",
    "    \n",
    "    "
   ]
  },
  {
   "cell_type": "code",
   "execution_count": null,
   "metadata": {},
   "outputs": [],
   "source": []
  },
  {
   "cell_type": "markdown",
   "metadata": {},
   "source": [
    "## make cascada grisearch"
   ]
  },
  {
   "cell_type": "code",
   "execution_count": 101,
   "metadata": {},
   "outputs": [],
   "source": [
    "levenshtein_weights = [0.1, 1, 10]\n",
    "beam_sizes = [1, 30, 100]\n",
    "max_stepss = [5, 30, 100]\n",
    "learning_rates = [1, 2, 4]"
   ]
  },
  {
   "cell_type": "code",
   "execution_count": 102,
   "metadata": {},
   "outputs": [],
   "source": [
    "import itertools"
   ]
  },
  {
   "cell_type": "code",
   "execution_count": 103,
   "metadata": {},
   "outputs": [],
   "source": [
    "params = list(itertools.product(levenshtein_weights, beam_sizes, max_stepss, learning_rates))"
   ]
  },
  {
   "cell_type": "code",
   "execution_count": 104,
   "metadata": {},
   "outputs": [
    {
     "data": {
      "text/plain": [
       "81"
      ]
     },
     "execution_count": 104,
     "metadata": {},
     "output_type": "execute_result"
    }
   ],
   "source": [
    "len(params)"
   ]
  },
  {
   "cell_type": "code",
   "execution_count": 107,
   "metadata": {},
   "outputs": [],
   "source": [
    "from tqdm import tqdm"
   ]
  },
  {
   "cell_type": "code",
   "execution_count": 108,
   "metadata": {},
   "outputs": [
    {
     "name": "stderr",
     "output_type": "stream",
     "text": [
      "\r",
      "  0%|          | 0/81 [00:00<?, ?it/s]"
     ]
    },
    {
     "name": "stdout",
     "output_type": "stream",
     "text": [
      "(0.1, 1, 5, 1)\n"
     ]
    },
    {
     "name": "stderr",
     "output_type": "stream",
     "text": [
      "\r",
      "  1%|          | 1/81 [00:09<13:11,  9.89s/it]"
     ]
    },
    {
     "name": "stdout",
     "output_type": "stream",
     "text": [
      "(0.1, 1, 5, 2)\n"
     ]
    },
    {
     "name": "stderr",
     "output_type": "stream",
     "text": [
      "\r",
      "  2%|▏         | 2/81 [00:18<12:29,  9.49s/it]"
     ]
    },
    {
     "name": "stdout",
     "output_type": "stream",
     "text": [
      "(0.1, 1, 5, 4)\n"
     ]
    },
    {
     "name": "stderr",
     "output_type": "stream",
     "text": [
      "\r",
      "  4%|▎         | 3/81 [00:27<12:20,  9.49s/it]"
     ]
    },
    {
     "name": "stdout",
     "output_type": "stream",
     "text": [
      "(0.1, 1, 30, 1)\n"
     ]
    },
    {
     "name": "stderr",
     "output_type": "stream",
     "text": [
      "\r",
      "  5%|▍         | 4/81 [01:00<21:01, 16.38s/it]"
     ]
    },
    {
     "name": "stdout",
     "output_type": "stream",
     "text": [
      "(0.1, 1, 30, 2)\n"
     ]
    },
    {
     "name": "stderr",
     "output_type": "stream",
     "text": [
      "\r",
      "  6%|▌         | 5/81 [01:35<27:58, 22.09s/it]"
     ]
    },
    {
     "name": "stdout",
     "output_type": "stream",
     "text": [
      "(0.1, 1, 30, 4)\n"
     ]
    },
    {
     "name": "stderr",
     "output_type": "stream",
     "text": [
      "\r",
      "  7%|▋         | 6/81 [02:17<34:46, 27.82s/it]"
     ]
    },
    {
     "name": "stdout",
     "output_type": "stream",
     "text": [
      "(0.1, 1, 100, 1)\n"
     ]
    },
    {
     "name": "stderr",
     "output_type": "stream",
     "text": [
      "\r",
      "  9%|▊         | 7/81 [03:59<1:02:07, 50.37s/it]"
     ]
    },
    {
     "name": "stdout",
     "output_type": "stream",
     "text": [
      "(0.1, 1, 100, 2)\n"
     ]
    },
    {
     "name": "stderr",
     "output_type": "stream",
     "text": [
      "\r",
      " 10%|▉         | 8/81 [05:49<1:22:56, 68.17s/it]"
     ]
    },
    {
     "name": "stdout",
     "output_type": "stream",
     "text": [
      "(0.1, 1, 100, 4)\n"
     ]
    },
    {
     "name": "stderr",
     "output_type": "stream",
     "text": [
      "\r",
      " 11%|█         | 9/81 [07:54<1:42:08, 85.12s/it]"
     ]
    },
    {
     "name": "stdout",
     "output_type": "stream",
     "text": [
      "(0.1, 30, 5, 1)\n"
     ]
    },
    {
     "name": "stderr",
     "output_type": "stream",
     "text": [
      "\r",
      " 12%|█▏        | 10/81 [08:05<1:14:36, 63.05s/it]"
     ]
    },
    {
     "name": "stdout",
     "output_type": "stream",
     "text": [
      "(0.1, 30, 5, 2)\n"
     ]
    },
    {
     "name": "stderr",
     "output_type": "stream",
     "text": [
      "\r",
      " 14%|█▎        | 11/81 [08:16<55:11, 47.30s/it]  "
     ]
    },
    {
     "name": "stdout",
     "output_type": "stream",
     "text": [
      "(0.1, 30, 5, 4)\n"
     ]
    },
    {
     "name": "stderr",
     "output_type": "stream",
     "text": [
      "\r",
      " 15%|█▍        | 12/81 [08:28<42:13, 36.72s/it]"
     ]
    },
    {
     "name": "stdout",
     "output_type": "stream",
     "text": [
      "(0.1, 30, 30, 1)\n"
     ]
    },
    {
     "name": "stderr",
     "output_type": "stream",
     "text": [
      "\r",
      " 16%|█▌        | 13/81 [09:14<44:53, 39.61s/it]"
     ]
    },
    {
     "name": "stdout",
     "output_type": "stream",
     "text": [
      "(0.1, 30, 30, 2)\n"
     ]
    },
    {
     "name": "stderr",
     "output_type": "stream",
     "text": [
      "\r",
      " 17%|█▋        | 14/81 [10:02<46:51, 41.96s/it]"
     ]
    },
    {
     "name": "stdout",
     "output_type": "stream",
     "text": [
      "(0.1, 30, 30, 4)\n"
     ]
    },
    {
     "name": "stderr",
     "output_type": "stream",
     "text": [
      "\r",
      " 19%|█▊        | 15/81 [11:00<51:36, 46.92s/it]"
     ]
    },
    {
     "name": "stdout",
     "output_type": "stream",
     "text": [
      "(0.1, 30, 100, 1)\n"
     ]
    },
    {
     "name": "stderr",
     "output_type": "stream",
     "text": [
      "\r",
      " 20%|█▉        | 16/81 [13:31<1:24:25, 77.93s/it]"
     ]
    },
    {
     "name": "stdout",
     "output_type": "stream",
     "text": [
      "(0.1, 30, 100, 2)\n"
     ]
    },
    {
     "name": "stderr",
     "output_type": "stream",
     "text": [
      "\r",
      " 21%|██        | 17/81 [16:02<1:46:40, 100.01s/it]"
     ]
    },
    {
     "name": "stdout",
     "output_type": "stream",
     "text": [
      "(0.1, 30, 100, 4)\n"
     ]
    },
    {
     "name": "stderr",
     "output_type": "stream",
     "text": [
      "\r",
      " 22%|██▏       | 18/81 [19:05<2:11:02, 124.81s/it]"
     ]
    },
    {
     "name": "stdout",
     "output_type": "stream",
     "text": [
      "(0.1, 100, 5, 1)\n"
     ]
    },
    {
     "name": "stderr",
     "output_type": "stream",
     "text": [
      "\r",
      " 23%|██▎       | 19/81 [19:21<1:35:12, 92.14s/it] "
     ]
    },
    {
     "name": "stdout",
     "output_type": "stream",
     "text": [
      "(0.1, 100, 5, 2)\n"
     ]
    },
    {
     "name": "stderr",
     "output_type": "stream",
     "text": [
      "\r",
      " 25%|██▍       | 20/81 [19:36<1:10:18, 69.16s/it]"
     ]
    },
    {
     "name": "stdout",
     "output_type": "stream",
     "text": [
      "(0.1, 100, 5, 4)\n"
     ]
    },
    {
     "name": "stderr",
     "output_type": "stream",
     "text": [
      "\r",
      " 26%|██▌       | 21/81 [19:56<54:20, 54.34s/it]  "
     ]
    },
    {
     "name": "stdout",
     "output_type": "stream",
     "text": [
      "(0.1, 100, 30, 1)\n"
     ]
    },
    {
     "name": "stderr",
     "output_type": "stream",
     "text": [
      "\r",
      " 27%|██▋       | 22/81 [21:08<58:46, 59.77s/it]"
     ]
    },
    {
     "name": "stdout",
     "output_type": "stream",
     "text": [
      "(0.1, 100, 30, 2)\n"
     ]
    },
    {
     "name": "stderr",
     "output_type": "stream",
     "text": [
      "\r",
      " 28%|██▊       | 23/81 [22:24<1:02:24, 64.56s/it]"
     ]
    },
    {
     "name": "stdout",
     "output_type": "stream",
     "text": [
      "(0.1, 100, 30, 4)\n"
     ]
    },
    {
     "name": "stderr",
     "output_type": "stream",
     "text": [
      "\r",
      " 30%|██▉       | 24/81 [23:59<1:09:59, 73.68s/it]"
     ]
    },
    {
     "name": "stdout",
     "output_type": "stream",
     "text": [
      "(0.1, 100, 100, 1)\n"
     ]
    },
    {
     "name": "stderr",
     "output_type": "stream",
     "text": [
      "\r",
      " 31%|███       | 25/81 [27:53<1:53:44, 121.87s/it]"
     ]
    },
    {
     "name": "stdout",
     "output_type": "stream",
     "text": [
      "(0.1, 100, 100, 2)\n"
     ]
    },
    {
     "name": "stderr",
     "output_type": "stream",
     "text": [
      "\r",
      " 32%|███▏      | 26/81 [31:57<2:25:18, 158.51s/it]"
     ]
    },
    {
     "name": "stdout",
     "output_type": "stream",
     "text": [
      "(0.1, 100, 100, 4)\n"
     ]
    },
    {
     "name": "stderr",
     "output_type": "stream",
     "text": [
      "\r",
      " 33%|███▎      | 27/81 [36:52<2:59:29, 199.44s/it]"
     ]
    },
    {
     "name": "stdout",
     "output_type": "stream",
     "text": [
      "(1, 1, 5, 1)\n"
     ]
    },
    {
     "name": "stderr",
     "output_type": "stream",
     "text": [
      "\r",
      " 35%|███▍      | 28/81 [37:01<2:05:37, 142.22s/it]"
     ]
    },
    {
     "name": "stdout",
     "output_type": "stream",
     "text": [
      "(1, 1, 5, 2)\n"
     ]
    },
    {
     "name": "stderr",
     "output_type": "stream",
     "text": [
      "\r",
      " 36%|███▌      | 29/81 [37:11<1:28:53, 102.57s/it]"
     ]
    },
    {
     "name": "stdout",
     "output_type": "stream",
     "text": [
      "(1, 1, 5, 4)\n"
     ]
    },
    {
     "name": "stderr",
     "output_type": "stream",
     "text": [
      "\r",
      " 37%|███▋      | 30/81 [37:21<1:03:28, 74.68s/it] "
     ]
    },
    {
     "name": "stdout",
     "output_type": "stream",
     "text": [
      "(1, 1, 30, 1)\n"
     ]
    },
    {
     "name": "stderr",
     "output_type": "stream",
     "text": [
      "\r",
      " 38%|███▊      | 31/81 [37:56<52:24, 62.89s/it]  "
     ]
    },
    {
     "name": "stdout",
     "output_type": "stream",
     "text": [
      "(1, 1, 30, 2)\n"
     ]
    },
    {
     "name": "stderr",
     "output_type": "stream",
     "text": [
      "\r",
      " 40%|███▉      | 32/81 [38:32<44:49, 54.89s/it]"
     ]
    },
    {
     "name": "stdout",
     "output_type": "stream",
     "text": [
      "(1, 1, 30, 4)\n"
     ]
    },
    {
     "name": "stderr",
     "output_type": "stream",
     "text": [
      "\r",
      " 41%|████      | 33/81 [39:14<40:37, 50.78s/it]"
     ]
    },
    {
     "name": "stdout",
     "output_type": "stream",
     "text": [
      "(1, 1, 100, 1)\n"
     ]
    },
    {
     "name": "stderr",
     "output_type": "stream",
     "text": [
      "\r",
      " 42%|████▏     | 34/81 [41:02<53:22, 68.14s/it]"
     ]
    },
    {
     "name": "stdout",
     "output_type": "stream",
     "text": [
      "(1, 1, 100, 2)\n"
     ]
    },
    {
     "name": "stderr",
     "output_type": "stream",
     "text": [
      "\r",
      " 43%|████▎     | 35/81 [42:55<1:02:33, 81.59s/it]"
     ]
    },
    {
     "name": "stdout",
     "output_type": "stream",
     "text": [
      "(1, 1, 100, 4)\n"
     ]
    },
    {
     "name": "stderr",
     "output_type": "stream",
     "text": [
      "\r",
      " 44%|████▍     | 36/81 [45:04<1:11:52, 95.83s/it]"
     ]
    },
    {
     "name": "stdout",
     "output_type": "stream",
     "text": [
      "(1, 30, 5, 1)\n"
     ]
    },
    {
     "name": "stderr",
     "output_type": "stream",
     "text": [
      "\r",
      " 46%|████▌     | 37/81 [45:14<51:27, 70.17s/it]  "
     ]
    },
    {
     "name": "stdout",
     "output_type": "stream",
     "text": [
      "(1, 30, 5, 2)\n"
     ]
    },
    {
     "name": "stderr",
     "output_type": "stream",
     "text": [
      "\r",
      " 47%|████▋     | 38/81 [45:25<37:30, 52.34s/it]"
     ]
    },
    {
     "name": "stdout",
     "output_type": "stream",
     "text": [
      "(1, 30, 5, 4)\n"
     ]
    },
    {
     "name": "stderr",
     "output_type": "stream",
     "text": [
      "\r",
      " 48%|████▊     | 39/81 [45:39<28:28, 40.68s/it]"
     ]
    },
    {
     "name": "stdout",
     "output_type": "stream",
     "text": [
      "(1, 30, 30, 1)\n"
     ]
    },
    {
     "name": "stderr",
     "output_type": "stream",
     "text": [
      "\r",
      " 49%|████▉     | 40/81 [46:23<28:32, 41.77s/it]"
     ]
    },
    {
     "name": "stdout",
     "output_type": "stream",
     "text": [
      "(1, 30, 30, 2)\n"
     ]
    },
    {
     "name": "stderr",
     "output_type": "stream",
     "text": [
      "\r",
      " 51%|█████     | 41/81 [47:14<29:37, 44.45s/it]"
     ]
    },
    {
     "name": "stdout",
     "output_type": "stream",
     "text": [
      "(1, 30, 30, 4)\n"
     ]
    },
    {
     "name": "stderr",
     "output_type": "stream",
     "text": [
      "\r",
      " 52%|█████▏    | 42/81 [48:12<31:39, 48.69s/it]"
     ]
    },
    {
     "name": "stdout",
     "output_type": "stream",
     "text": [
      "(1, 30, 100, 1)\n"
     ]
    },
    {
     "name": "stderr",
     "output_type": "stream",
     "text": [
      "\r",
      " 53%|█████▎    | 43/81 [50:36<48:57, 77.30s/it]"
     ]
    },
    {
     "name": "stdout",
     "output_type": "stream",
     "text": [
      "(1, 30, 100, 2)\n"
     ]
    },
    {
     "name": "stderr",
     "output_type": "stream",
     "text": [
      "\r",
      " 54%|█████▍    | 44/81 [53:14<1:02:32, 101.42s/it]"
     ]
    },
    {
     "name": "stdout",
     "output_type": "stream",
     "text": [
      "(1, 30, 100, 4)\n"
     ]
    },
    {
     "name": "stderr",
     "output_type": "stream",
     "text": [
      "\r",
      " 56%|█████▌    | 45/81 [56:23<1:16:32, 127.58s/it]"
     ]
    },
    {
     "name": "stdout",
     "output_type": "stream",
     "text": [
      "(1, 100, 5, 1)\n"
     ]
    },
    {
     "name": "stderr",
     "output_type": "stream",
     "text": [
      "\r",
      " 57%|█████▋    | 46/81 [56:38<54:49, 94.00s/it]   "
     ]
    },
    {
     "name": "stdout",
     "output_type": "stream",
     "text": [
      "(1, 100, 5, 2)\n"
     ]
    },
    {
     "name": "stderr",
     "output_type": "stream",
     "text": [
      "\r",
      " 58%|█████▊    | 47/81 [56:58<40:35, 71.64s/it]"
     ]
    },
    {
     "name": "stdout",
     "output_type": "stream",
     "text": [
      "(1, 100, 5, 4)\n"
     ]
    },
    {
     "name": "stderr",
     "output_type": "stream",
     "text": [
      "\r",
      " 59%|█████▉    | 48/81 [57:18<30:58, 56.32s/it]"
     ]
    },
    {
     "name": "stdout",
     "output_type": "stream",
     "text": [
      "(1, 100, 30, 1)\n"
     ]
    },
    {
     "name": "stderr",
     "output_type": "stream",
     "text": [
      "\r",
      " 60%|██████    | 49/81 [58:31<32:39, 61.24s/it]"
     ]
    },
    {
     "name": "stdout",
     "output_type": "stream",
     "text": [
      "(1, 100, 30, 2)\n"
     ]
    },
    {
     "name": "stderr",
     "output_type": "stream",
     "text": [
      "\r",
      " 62%|██████▏   | 50/81 [59:51<34:30, 66.79s/it]"
     ]
    },
    {
     "name": "stdout",
     "output_type": "stream",
     "text": [
      "(1, 100, 30, 4)\n"
     ]
    },
    {
     "name": "stderr",
     "output_type": "stream",
     "text": [
      "\r",
      " 63%|██████▎   | 51/81 [1:01:32<38:33, 77.12s/it]"
     ]
    },
    {
     "name": "stdout",
     "output_type": "stream",
     "text": [
      "(1, 100, 100, 1)\n"
     ]
    },
    {
     "name": "stderr",
     "output_type": "stream",
     "text": [
      "\r",
      " 64%|██████▍   | 52/81 [1:05:27<1:00:05, 124.32s/it]"
     ]
    },
    {
     "name": "stdout",
     "output_type": "stream",
     "text": [
      "(1, 100, 100, 2)\n"
     ]
    },
    {
     "name": "stderr",
     "output_type": "stream",
     "text": [
      "\r",
      " 65%|██████▌   | 53/81 [1:09:44<1:16:35, 164.14s/it]"
     ]
    },
    {
     "name": "stdout",
     "output_type": "stream",
     "text": [
      "(1, 100, 100, 4)\n"
     ]
    },
    {
     "name": "stderr",
     "output_type": "stream",
     "text": [
      "\r",
      " 67%|██████▋   | 54/81 [1:15:04<1:34:55, 210.94s/it]"
     ]
    },
    {
     "name": "stdout",
     "output_type": "stream",
     "text": [
      "(10, 1, 5, 1)\n"
     ]
    },
    {
     "name": "stderr",
     "output_type": "stream",
     "text": [
      "\r",
      " 68%|██████▊   | 55/81 [1:15:14<1:05:21, 150.81s/it]"
     ]
    },
    {
     "name": "stdout",
     "output_type": "stream",
     "text": [
      "(10, 1, 5, 2)\n"
     ]
    },
    {
     "name": "stderr",
     "output_type": "stream",
     "text": [
      "\r",
      " 69%|██████▉   | 56/81 [1:15:24<45:09, 108.38s/it]  "
     ]
    },
    {
     "name": "stdout",
     "output_type": "stream",
     "text": [
      "(10, 1, 5, 4)\n"
     ]
    },
    {
     "name": "stderr",
     "output_type": "stream",
     "text": [
      "\r",
      " 70%|███████   | 57/81 [1:15:34<31:36, 79.03s/it] "
     ]
    },
    {
     "name": "stdout",
     "output_type": "stream",
     "text": [
      "(10, 1, 30, 1)\n"
     ]
    },
    {
     "name": "stderr",
     "output_type": "stream",
     "text": [
      "\r",
      " 72%|███████▏  | 58/81 [1:16:14<25:46, 67.22s/it]"
     ]
    },
    {
     "name": "stdout",
     "output_type": "stream",
     "text": [
      "(10, 1, 30, 2)\n"
     ]
    },
    {
     "name": "stderr",
     "output_type": "stream",
     "text": [
      "\r",
      " 73%|███████▎  | 59/81 [1:16:54<21:43, 59.24s/it]"
     ]
    },
    {
     "name": "stdout",
     "output_type": "stream",
     "text": [
      "(10, 1, 30, 4)\n"
     ]
    },
    {
     "name": "stderr",
     "output_type": "stream",
     "text": [
      "\r",
      " 74%|███████▍  | 60/81 [1:17:42<19:28, 55.65s/it]"
     ]
    },
    {
     "name": "stdout",
     "output_type": "stream",
     "text": [
      "(10, 1, 100, 1)\n"
     ]
    },
    {
     "name": "stderr",
     "output_type": "stream",
     "text": [
      "\r",
      " 75%|███████▌  | 61/81 [1:19:51<25:56, 77.85s/it]"
     ]
    },
    {
     "name": "stdout",
     "output_type": "stream",
     "text": [
      "(10, 1, 100, 2)\n"
     ]
    },
    {
     "name": "stderr",
     "output_type": "stream",
     "text": [
      "\r",
      " 77%|███████▋  | 62/81 [1:22:05<29:55, 94.53s/it]"
     ]
    },
    {
     "name": "stdout",
     "output_type": "stream",
     "text": [
      "(10, 1, 100, 4)\n"
     ]
    },
    {
     "name": "stderr",
     "output_type": "stream",
     "text": [
      "\r",
      " 78%|███████▊  | 63/81 [1:24:42<33:59, 113.28s/it]"
     ]
    },
    {
     "name": "stdout",
     "output_type": "stream",
     "text": [
      "(10, 30, 5, 1)\n"
     ]
    },
    {
     "name": "stderr",
     "output_type": "stream",
     "text": [
      "\r",
      " 79%|███████▉  | 64/81 [1:24:53<23:26, 82.74s/it] "
     ]
    },
    {
     "name": "stdout",
     "output_type": "stream",
     "text": [
      "(10, 30, 5, 2)\n"
     ]
    },
    {
     "name": "stderr",
     "output_type": "stream",
     "text": [
      "\r",
      " 80%|████████  | 65/81 [1:25:06<16:25, 61.62s/it]"
     ]
    },
    {
     "name": "stdout",
     "output_type": "stream",
     "text": [
      "(10, 30, 5, 4)\n"
     ]
    },
    {
     "name": "stderr",
     "output_type": "stream",
     "text": [
      "\r",
      " 81%|████████▏ | 66/81 [1:25:21<11:54, 47.65s/it]"
     ]
    },
    {
     "name": "stdout",
     "output_type": "stream",
     "text": [
      "(10, 30, 30, 1)\n"
     ]
    },
    {
     "name": "stderr",
     "output_type": "stream",
     "text": [
      "\r",
      " 83%|████████▎ | 67/81 [1:26:18<11:46, 50.48s/it]"
     ]
    },
    {
     "name": "stdout",
     "output_type": "stream",
     "text": [
      "(10, 30, 30, 2)\n"
     ]
    },
    {
     "name": "stderr",
     "output_type": "stream",
     "text": [
      "\r",
      " 84%|████████▍ | 68/81 [1:27:17<11:30, 53.08s/it]"
     ]
    },
    {
     "name": "stdout",
     "output_type": "stream",
     "text": [
      "(10, 30, 30, 4)\n"
     ]
    },
    {
     "name": "stderr",
     "output_type": "stream",
     "text": [
      "\r",
      " 85%|████████▌ | 69/81 [1:28:26<11:35, 57.94s/it]"
     ]
    },
    {
     "name": "stdout",
     "output_type": "stream",
     "text": [
      "(10, 30, 100, 1)\n"
     ]
    },
    {
     "name": "stderr",
     "output_type": "stream",
     "text": [
      "\r",
      " 86%|████████▋ | 70/81 [1:31:40<18:06, 98.77s/it]"
     ]
    },
    {
     "name": "stdout",
     "output_type": "stream",
     "text": [
      "(10, 30, 100, 2)\n"
     ]
    },
    {
     "name": "stderr",
     "output_type": "stream",
     "text": [
      "\r",
      " 88%|████████▊ | 71/81 [1:35:03<21:38, 129.83s/it]"
     ]
    },
    {
     "name": "stdout",
     "output_type": "stream",
     "text": [
      "(10, 30, 100, 4)\n"
     ]
    },
    {
     "name": "stderr",
     "output_type": "stream",
     "text": [
      "\r",
      " 89%|████████▉ | 72/81 [1:38:58<24:12, 161.42s/it]"
     ]
    },
    {
     "name": "stdout",
     "output_type": "stream",
     "text": [
      "(10, 100, 5, 1)\n"
     ]
    },
    {
     "name": "stderr",
     "output_type": "stream",
     "text": [
      "\r",
      " 90%|█████████ | 73/81 [1:39:18<15:53, 119.13s/it]"
     ]
    },
    {
     "name": "stdout",
     "output_type": "stream",
     "text": [
      "(10, 100, 5, 2)\n"
     ]
    },
    {
     "name": "stderr",
     "output_type": "stream",
     "text": [
      "\r",
      " 91%|█████████▏| 74/81 [1:39:39<10:27, 89.58s/it] "
     ]
    },
    {
     "name": "stdout",
     "output_type": "stream",
     "text": [
      "(10, 100, 5, 4)\n"
     ]
    },
    {
     "name": "stderr",
     "output_type": "stream",
     "text": [
      "\r",
      " 93%|█████████▎| 75/81 [1:40:03<07:00, 70.04s/it]"
     ]
    },
    {
     "name": "stdout",
     "output_type": "stream",
     "text": [
      "(10, 100, 30, 1)\n"
     ]
    },
    {
     "name": "stderr",
     "output_type": "stream",
     "text": [
      "\r",
      " 94%|█████████▍| 76/81 [1:41:48<06:41, 80.40s/it]"
     ]
    },
    {
     "name": "stdout",
     "output_type": "stream",
     "text": [
      "(10, 100, 30, 2)\n"
     ]
    },
    {
     "name": "stderr",
     "output_type": "stream",
     "text": [
      "\r",
      " 95%|█████████▌| 77/81 [1:43:38<05:57, 89.32s/it]"
     ]
    },
    {
     "name": "stdout",
     "output_type": "stream",
     "text": [
      "(10, 100, 30, 4)\n"
     ]
    },
    {
     "name": "stderr",
     "output_type": "stream",
     "text": [
      "\r",
      " 96%|█████████▋| 78/81 [1:45:49<05:05, 101.92s/it]"
     ]
    },
    {
     "name": "stdout",
     "output_type": "stream",
     "text": [
      "(10, 100, 100, 1)\n"
     ]
    },
    {
     "name": "stderr",
     "output_type": "stream",
     "text": [
      "\r",
      " 98%|█████████▊| 79/81 [1:51:57<06:03, 181.56s/it]"
     ]
    },
    {
     "name": "stdout",
     "output_type": "stream",
     "text": [
      "(10, 100, 100, 2)\n"
     ]
    },
    {
     "name": "stderr",
     "output_type": "stream",
     "text": [
      "\r",
      " 99%|█████████▉| 80/81 [1:58:18<04:01, 241.55s/it]"
     ]
    },
    {
     "name": "stdout",
     "output_type": "stream",
     "text": [
      "(10, 100, 100, 4)\n"
     ]
    },
    {
     "name": "stderr",
     "output_type": "stream",
     "text": [
      "100%|██████████| 81/81 [2:05:24<00:00, 92.90s/it] \n"
     ]
    }
   ],
   "source": [
    "for p in tqdm(params):\n",
    "    print(p)\n",
    "    levenshtein_weight, beam_size, max_steps, learning_rate = p\n",
    "    cmd = \\\n",
    "    f'''\n",
    "    python run_cascada.py \n",
    "    --csv_path data/ag_news/test.csv \n",
    "    --results_path results/ag_news_results/cascada \n",
    "    --classifier_path experiments/ag_news/classification_copynet \n",
    "    --levenshtein_path experiments/ag_news/deep_levenshtein_copynet \n",
    "    --copynet_path experiments/ag_news/nonmasked_copynet_with_attention \n",
    "    --levenshtein_weight {levenshtein_weight}\n",
    "    --beam_size {beam_size} \n",
    "    --max_steps {max_steps}\n",
    "    --cuda 0 \n",
    "    --num_updates 5 \n",
    "    --learning_rate {learning_rate} \n",
    "    --sample 100\n",
    "    '''.replace('\\n','')\n",
    "    result = subprocess.run(cmd, stdout=subprocess.PIPE, shell=True)"
   ]
  },
  {
   "cell_type": "code",
   "execution_count": 109,
   "metadata": {},
   "outputs": [],
   "source": [
    "df = pd.read_csv('data/ag_news/test.csv')"
   ]
  },
  {
   "cell_type": "code",
   "execution_count": 115,
   "metadata": {},
   "outputs": [],
   "source": [
    "base_dir = 'results/ag_news_results'\n",
    "for method in ['cascada']:\n",
    "    xs = os.listdir(os.path.join(base_dir, method))\n",
    "    for x in xs:\n",
    "        if x != 'backup':\n",
    "            res_path = os.path.join(base_dir, method, x, 'results.csv')\n",
    "            res_path_backup = res_path.replace('.csv', '_backup.csv')\n",
    "            if os.path.exists(res_path_backup):\n",
    "                res = pd.read_csv(res_path_backup)\n",
    "            else:\n",
    "                res = pd.read_csv(res_path)\n",
    "            res.to_csv(res_path.replace('.csv', '_backup.csv'))\n",
    "            del res['label']\n",
    "            del res['sequence']\n",
    "            dfr = res.join(df, how='left')\n",
    "            dfr.rename(columns={'labels':'label', 'sequences':'sequence'}, inplace=True)\n",
    "            dfr.to_csv(res_path, index=False)"
   ]
  },
  {
   "cell_type": "code",
   "execution_count": null,
   "metadata": {},
   "outputs": [],
   "source": []
  },
  {
   "cell_type": "code",
   "execution_count": null,
   "metadata": {},
   "outputs": [],
   "source": []
  },
  {
   "cell_type": "code",
   "execution_count": null,
   "metadata": {},
   "outputs": [],
   "source": []
  },
  {
   "cell_type": "code",
   "execution_count": null,
   "metadata": {},
   "outputs": [],
   "source": [
    "# for method in ['cascada']:\n",
    "#     base = os.path.join(base_dir, method)\n",
    "#     for folder in os.listdir(base):\n",
    "#         cmd = f'python eval.py -mp {base_dir}/logit_tfidf.model -arp {base}/{folder}/results.csv -erp {base}/{folder}/eval_metric.json'\n",
    "#         result = subprocess.run(cmd, stdout=subprocess.PIPE, shell=True)\n",
    "#         print(method, \":\", result.stdout.decode('utf-8'))"
   ]
  },
  {
   "cell_type": "code",
   "execution_count": 122,
   "metadata": {},
   "outputs": [],
   "source": [
    "from eval import calculate_nad, calculate_metrics\n",
    "import joblib\n",
    "import json\n",
    "from adat.models.classification_model import LogisticRegressionOnTfIdf"
   ]
  },
  {
   "cell_type": "code",
   "execution_count": 125,
   "metadata": {},
   "outputs": [],
   "source": [
    "model = joblib.load(f'results/ag_news/logit_tfidf.model')\n",
    "\n",
    "for method in ['cascada']:\n",
    "    base = os.path.join(base_dir, method)\n",
    "    for folder in os.listdir(base):\n",
    "        if folder != 'backup':\n",
    "            attack_results_path = f'{base}/{folder}/results.csv'\n",
    "            eval_results_path = f'{base}/{folder}/eval_metric.json'\n",
    "            df = pd.read_csv(attack_results_path)\n",
    "            metrics = calculate_metrics(model, \n",
    "                                    df['label'].values, \n",
    "                                    df['sequence'].values,\n",
    "                                    df['generated_sequence'].values)\n",
    "            json.dump(metrics, open(eval_results_path, 'w'))"
   ]
  },
  {
   "cell_type": "code",
   "execution_count": 129,
   "metadata": {},
   "outputs": [],
   "source": [
    "result = []\n",
    "for method in ['cascada']:\n",
    "    base = os.path.join(base_dir, method)\n",
    "    for folder in os.listdir(base):\n",
    "        if folder != 'backup':\n",
    "            args = json.load(open(os.path.join(base, folder, 'args.json')))\n",
    "            metrics = json.load(open(os.path.join(base, folder, 'eval_metric.json')))\n",
    "            args.update(metrics)\n",
    "            result.append({k:args[k] for k in ['accuracy_drop', 'probability_drop', 'WER', 'NAD',\n",
    "                                               'levenshtein_weight', 'beam_size', 'max_steps', 'learning_rate']})\n",
    "result = pd.DataFrame(result)"
   ]
  },
  {
   "cell_type": "code",
   "execution_count": 130,
   "metadata": {},
   "outputs": [],
   "source": [
    "import seaborn as sns\n",
    "import matplotlib.pyplot as plt\n",
    "%matplotlib inline"
   ]
  },
  {
   "cell_type": "code",
   "execution_count": 132,
   "metadata": {},
   "outputs": [
    {
     "data": {
      "text/html": [
       "<div>\n",
       "<style scoped>\n",
       "    .dataframe tbody tr th:only-of-type {\n",
       "        vertical-align: middle;\n",
       "    }\n",
       "\n",
       "    .dataframe tbody tr th {\n",
       "        vertical-align: top;\n",
       "    }\n",
       "\n",
       "    .dataframe thead th {\n",
       "        text-align: right;\n",
       "    }\n",
       "</style>\n",
       "<table border=\"1\" class=\"dataframe\">\n",
       "  <thead>\n",
       "    <tr style=\"text-align: right;\">\n",
       "      <th></th>\n",
       "      <th>accuracy_drop</th>\n",
       "      <th>probability_drop</th>\n",
       "      <th>WER</th>\n",
       "      <th>NAD</th>\n",
       "      <th>levenshtein_weight</th>\n",
       "      <th>beam_size</th>\n",
       "      <th>max_steps</th>\n",
       "      <th>learning_rate</th>\n",
       "    </tr>\n",
       "  </thead>\n",
       "  <tbody>\n",
       "    <tr>\n",
       "      <th>0</th>\n",
       "      <td>0.13</td>\n",
       "      <td>0.122281</td>\n",
       "      <td>1.41</td>\n",
       "      <td>0.057281</td>\n",
       "      <td>0.1</td>\n",
       "      <td>100</td>\n",
       "      <td>5</td>\n",
       "      <td>1.0</td>\n",
       "    </tr>\n",
       "    <tr>\n",
       "      <th>1</th>\n",
       "      <td>0.26</td>\n",
       "      <td>0.221984</td>\n",
       "      <td>2.41</td>\n",
       "      <td>0.108153</td>\n",
       "      <td>0.1</td>\n",
       "      <td>1</td>\n",
       "      <td>5</td>\n",
       "      <td>1.0</td>\n",
       "    </tr>\n",
       "    <tr>\n",
       "      <th>2</th>\n",
       "      <td>0.41</td>\n",
       "      <td>0.345154</td>\n",
       "      <td>3.28</td>\n",
       "      <td>0.128516</td>\n",
       "      <td>10.0</td>\n",
       "      <td>30</td>\n",
       "      <td>100</td>\n",
       "      <td>2.0</td>\n",
       "    </tr>\n",
       "    <tr>\n",
       "      <th>3</th>\n",
       "      <td>0.43</td>\n",
       "      <td>0.359885</td>\n",
       "      <td>3.36</td>\n",
       "      <td>0.130551</td>\n",
       "      <td>10.0</td>\n",
       "      <td>30</td>\n",
       "      <td>5</td>\n",
       "      <td>2.0</td>\n",
       "    </tr>\n",
       "    <tr>\n",
       "      <th>4</th>\n",
       "      <td>0.34</td>\n",
       "      <td>0.313319</td>\n",
       "      <td>2.97</td>\n",
       "      <td>0.114438</td>\n",
       "      <td>1.0</td>\n",
       "      <td>100</td>\n",
       "      <td>30</td>\n",
       "      <td>2.0</td>\n",
       "    </tr>\n",
       "    <tr>\n",
       "      <th>...</th>\n",
       "      <td>...</td>\n",
       "      <td>...</td>\n",
       "      <td>...</td>\n",
       "      <td>...</td>\n",
       "      <td>...</td>\n",
       "      <td>...</td>\n",
       "      <td>...</td>\n",
       "      <td>...</td>\n",
       "    </tr>\n",
       "    <tr>\n",
       "      <th>76</th>\n",
       "      <td>0.34</td>\n",
       "      <td>0.311664</td>\n",
       "      <td>3.02</td>\n",
       "      <td>0.126066</td>\n",
       "      <td>0.1</td>\n",
       "      <td>100</td>\n",
       "      <td>100</td>\n",
       "      <td>2.0</td>\n",
       "    </tr>\n",
       "    <tr>\n",
       "      <th>77</th>\n",
       "      <td>0.38</td>\n",
       "      <td>0.333439</td>\n",
       "      <td>3.14</td>\n",
       "      <td>0.127824</td>\n",
       "      <td>10.0</td>\n",
       "      <td>100</td>\n",
       "      <td>100</td>\n",
       "      <td>2.0</td>\n",
       "    </tr>\n",
       "    <tr>\n",
       "      <th>78</th>\n",
       "      <td>0.73</td>\n",
       "      <td>0.584953</td>\n",
       "      <td>7.48</td>\n",
       "      <td>0.135863</td>\n",
       "      <td>10.0</td>\n",
       "      <td>1</td>\n",
       "      <td>5</td>\n",
       "      <td>4.0</td>\n",
       "    </tr>\n",
       "    <tr>\n",
       "      <th>79</th>\n",
       "      <td>0.69</td>\n",
       "      <td>0.538525</td>\n",
       "      <td>5.60</td>\n",
       "      <td>0.158225</td>\n",
       "      <td>10.0</td>\n",
       "      <td>100</td>\n",
       "      <td>5</td>\n",
       "      <td>4.0</td>\n",
       "    </tr>\n",
       "    <tr>\n",
       "      <th>80</th>\n",
       "      <td>0.25</td>\n",
       "      <td>0.206283</td>\n",
       "      <td>2.22</td>\n",
       "      <td>0.111157</td>\n",
       "      <td>10.0</td>\n",
       "      <td>1</td>\n",
       "      <td>30</td>\n",
       "      <td>1.0</td>\n",
       "    </tr>\n",
       "  </tbody>\n",
       "</table>\n",
       "<p>81 rows × 8 columns</p>\n",
       "</div>"
      ],
      "text/plain": [
       "    accuracy_drop  probability_drop   WER       NAD  levenshtein_weight  \\\n",
       "0            0.13          0.122281  1.41  0.057281                 0.1   \n",
       "1            0.26          0.221984  2.41  0.108153                 0.1   \n",
       "2            0.41          0.345154  3.28  0.128516                10.0   \n",
       "3            0.43          0.359885  3.36  0.130551                10.0   \n",
       "4            0.34          0.313319  2.97  0.114438                 1.0   \n",
       "..            ...               ...   ...       ...                 ...   \n",
       "76           0.34          0.311664  3.02  0.126066                 0.1   \n",
       "77           0.38          0.333439  3.14  0.127824                10.0   \n",
       "78           0.73          0.584953  7.48  0.135863                10.0   \n",
       "79           0.69          0.538525  5.60  0.158225                10.0   \n",
       "80           0.25          0.206283  2.22  0.111157                10.0   \n",
       "\n",
       "    beam_size  max_steps  learning_rate  \n",
       "0         100          5            1.0  \n",
       "1           1          5            1.0  \n",
       "2          30        100            2.0  \n",
       "3          30          5            2.0  \n",
       "4         100         30            2.0  \n",
       "..        ...        ...            ...  \n",
       "76        100        100            2.0  \n",
       "77        100        100            2.0  \n",
       "78          1          5            4.0  \n",
       "79        100          5            4.0  \n",
       "80          1         30            1.0  \n",
       "\n",
       "[81 rows x 8 columns]"
      ]
     },
     "execution_count": 132,
     "metadata": {},
     "output_type": "execute_result"
    }
   ],
   "source": [
    "result"
   ]
  },
  {
   "cell_type": "code",
   "execution_count": 136,
   "metadata": {},
   "outputs": [],
   "source": [
    "sns.set()"
   ]
  },
  {
   "cell_type": "code",
   "execution_count": 141,
   "metadata": {},
   "outputs": [
    {
     "data": {
      "text/plain": [
       "'results/ag_news_results'"
      ]
     },
     "execution_count": 141,
     "metadata": {},
     "output_type": "execute_result"
    }
   ],
   "source": [
    "base_dir"
   ]
  },
  {
   "cell_type": "code",
   "execution_count": 144,
   "metadata": {},
   "outputs": [
    {
     "data": {
      "image/png": "[encoded data removed]",
      "text/plain": [
       "<Figure size 1440x360 with 16 Axes>"
      ]
     },
     "metadata": {},
     "output_type": "display_data"
    }
   ],
   "source": [
    "g = sns.pairplot(result, x_vars=result.columns.values, y_vars=['NAD', 'WER'])\n",
    "plt.savefig(os.path.join(base_dir, 'stats.png'), dpi=150, bbox_inches='tight')"
   ]
  },
  {
   "cell_type": "code",
   "execution_count": 146,
   "metadata": {},
   "outputs": [
    {
     "data": {
      "text/html": [
       "<div>\n",
       "<style scoped>\n",
       "    .dataframe tbody tr th:only-of-type {\n",
       "        vertical-align: middle;\n",
       "    }\n",
       "\n",
       "    .dataframe tbody tr th {\n",
       "        vertical-align: top;\n",
       "    }\n",
       "\n",
       "    .dataframe thead th {\n",
       "        text-align: right;\n",
       "    }\n",
       "</style>\n",
       "<table border=\"1\" class=\"dataframe\">\n",
       "  <thead>\n",
       "    <tr style=\"text-align: right;\">\n",
       "      <th></th>\n",
       "      <th>accuracy_drop</th>\n",
       "      <th>probability_drop</th>\n",
       "      <th>WER</th>\n",
       "      <th>NAD</th>\n",
       "      <th>levenshtein_weight</th>\n",
       "      <th>beam_size</th>\n",
       "      <th>max_steps</th>\n",
       "      <th>learning_rate</th>\n",
       "    </tr>\n",
       "  </thead>\n",
       "  <tbody>\n",
       "    <tr>\n",
       "      <th>33</th>\n",
       "      <td>0.72</td>\n",
       "      <td>0.566426</td>\n",
       "      <td>5.50</td>\n",
       "      <td>0.167528</td>\n",
       "      <td>10.0</td>\n",
       "      <td>30</td>\n",
       "      <td>30</td>\n",
       "      <td>4.0</td>\n",
       "    </tr>\n",
       "    <tr>\n",
       "      <th>51</th>\n",
       "      <td>0.71</td>\n",
       "      <td>0.557898</td>\n",
       "      <td>5.33</td>\n",
       "      <td>0.166994</td>\n",
       "      <td>10.0</td>\n",
       "      <td>30</td>\n",
       "      <td>100</td>\n",
       "      <td>4.0</td>\n",
       "    </tr>\n",
       "    <tr>\n",
       "      <th>48</th>\n",
       "      <td>0.69</td>\n",
       "      <td>0.518521</td>\n",
       "      <td>5.18</td>\n",
       "      <td>0.165818</td>\n",
       "      <td>10.0</td>\n",
       "      <td>100</td>\n",
       "      <td>30</td>\n",
       "      <td>4.0</td>\n",
       "    </tr>\n",
       "    <tr>\n",
       "      <th>23</th>\n",
       "      <td>0.68</td>\n",
       "      <td>0.512057</td>\n",
       "      <td>5.13</td>\n",
       "      <td>0.164493</td>\n",
       "      <td>10.0</td>\n",
       "      <td>100</td>\n",
       "      <td>100</td>\n",
       "      <td>4.0</td>\n",
       "    </tr>\n",
       "    <tr>\n",
       "      <th>58</th>\n",
       "      <td>0.76</td>\n",
       "      <td>0.596435</td>\n",
       "      <td>6.32</td>\n",
       "      <td>0.163406</td>\n",
       "      <td>1.0</td>\n",
       "      <td>1</td>\n",
       "      <td>100</td>\n",
       "      <td>4.0</td>\n",
       "    </tr>\n",
       "    <tr>\n",
       "      <th>...</th>\n",
       "      <td>...</td>\n",
       "      <td>...</td>\n",
       "      <td>...</td>\n",
       "      <td>...</td>\n",
       "      <td>...</td>\n",
       "      <td>...</td>\n",
       "      <td>...</td>\n",
       "      <td>...</td>\n",
       "    </tr>\n",
       "    <tr>\n",
       "      <th>40</th>\n",
       "      <td>0.10</td>\n",
       "      <td>0.101674</td>\n",
       "      <td>1.34</td>\n",
       "      <td>0.047287</td>\n",
       "      <td>10.0</td>\n",
       "      <td>100</td>\n",
       "      <td>30</td>\n",
       "      <td>1.0</td>\n",
       "    </tr>\n",
       "    <tr>\n",
       "      <th>19</th>\n",
       "      <td>0.09</td>\n",
       "      <td>0.100596</td>\n",
       "      <td>1.25</td>\n",
       "      <td>0.046512</td>\n",
       "      <td>0.1</td>\n",
       "      <td>100</td>\n",
       "      <td>100</td>\n",
       "      <td>1.0</td>\n",
       "    </tr>\n",
       "    <tr>\n",
       "      <th>69</th>\n",
       "      <td>0.11</td>\n",
       "      <td>0.105858</td>\n",
       "      <td>1.33</td>\n",
       "      <td>0.045930</td>\n",
       "      <td>1.0</td>\n",
       "      <td>100</td>\n",
       "      <td>5</td>\n",
       "      <td>1.0</td>\n",
       "    </tr>\n",
       "    <tr>\n",
       "      <th>16</th>\n",
       "      <td>0.11</td>\n",
       "      <td>0.109903</td>\n",
       "      <td>1.30</td>\n",
       "      <td>0.044961</td>\n",
       "      <td>0.1</td>\n",
       "      <td>100</td>\n",
       "      <td>30</td>\n",
       "      <td>1.0</td>\n",
       "    </tr>\n",
       "    <tr>\n",
       "      <th>34</th>\n",
       "      <td>0.07</td>\n",
       "      <td>0.085588</td>\n",
       "      <td>1.13</td>\n",
       "      <td>0.043023</td>\n",
       "      <td>1.0</td>\n",
       "      <td>100</td>\n",
       "      <td>100</td>\n",
       "      <td>1.0</td>\n",
       "    </tr>\n",
       "  </tbody>\n",
       "</table>\n",
       "<p>81 rows × 8 columns</p>\n",
       "</div>"
      ],
      "text/plain": [
       "    accuracy_drop  probability_drop   WER       NAD  levenshtein_weight  \\\n",
       "33           0.72          0.566426  5.50  0.167528                10.0   \n",
       "51           0.71          0.557898  5.33  0.166994                10.0   \n",
       "48           0.69          0.518521  5.18  0.165818                10.0   \n",
       "23           0.68          0.512057  5.13  0.164493                10.0   \n",
       "58           0.76          0.596435  6.32  0.163406                 1.0   \n",
       "..            ...               ...   ...       ...                 ...   \n",
       "40           0.10          0.101674  1.34  0.047287                10.0   \n",
       "19           0.09          0.100596  1.25  0.046512                 0.1   \n",
       "69           0.11          0.105858  1.33  0.045930                 1.0   \n",
       "16           0.11          0.109903  1.30  0.044961                 0.1   \n",
       "34           0.07          0.085588  1.13  0.043023                 1.0   \n",
       "\n",
       "    beam_size  max_steps  learning_rate  \n",
       "33         30         30            4.0  \n",
       "51         30        100            4.0  \n",
       "48        100         30            4.0  \n",
       "23        100        100            4.0  \n",
       "58          1        100            4.0  \n",
       "..        ...        ...            ...  \n",
       "40        100         30            1.0  \n",
       "19        100        100            1.0  \n",
       "69        100          5            1.0  \n",
       "16        100         30            1.0  \n",
       "34        100        100            1.0  \n",
       "\n",
       "[81 rows x 8 columns]"
      ]
     },
     "execution_count": 146,
     "metadata": {},
     "output_type": "execute_result"
    }
   ],
   "source": [
    "result.sort_values(by='NAD', ascending=False)"
   ]
  },
  {
   "cell_type": "code",
   "execution_count": null,
   "metadata": {},
   "outputs": [],
   "source": []
  }
 ],
 "metadata": {
  "kernelspec": {
   "display_name": "Python [conda env:adat] *",
   "language": "python",
   "name": "conda-env-adat-py"
  },
  "language_info": {
   "codemirror_mode": {
    "name": "ipython",
    "version": 3
   },
   "file_extension": ".py",
   "mimetype": "text/x-python",
   "name": "python",
   "nbconvert_exporter": "python",
   "pygments_lexer": "ipython3",
   "version": "3.6.1"
  }
 },
 "nbformat": 4,
 "nbformat_minor": 4
}
