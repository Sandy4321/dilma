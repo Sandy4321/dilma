{
 "cells": [
  {
   "cell_type": "code",
   "execution_count": 38,
   "metadata": {},
   "outputs": [],
   "source": [
    "import subprocess\n",
    "import pandas as pd\n",
    "import os"
   ]
  },
  {
   "cell_type": "code",
   "execution_count": 35,
   "metadata": {},
   "outputs": [
    {
     "name": "stdout",
     "output_type": "stream",
     "text": [
      "cascada : {'accuracy_drop': 0.041000000000000036, 'probability_drop': 0.03534953742149777, 'WER': 0.731, 'NAD': 0.02918571646732761}\n",
      "\n",
      "mcmc : {'accuracy_drop': 0.06399999999999995, 'probability_drop': 0.056384669227768115, 'WER': 1.024, 'NAD': 0.06197553502420822}\n",
      "\n",
      "hotflip : {'accuracy_drop': 0.789, 'probability_drop': 0.6462328299128951, 'WER': 6.472, 'NAD': 0.16620521013092537}\n",
      "\n",
      "random : {'accuracy_drop': 0.06399999999999995, 'probability_drop': 0.05553518383880777, 'WER': 1.094, 'NAD': 0.06226157614262929}\n",
      "\n"
     ]
    }
   ],
   "source": [
    "for method in ['cascada', 'mcmc', 'hotflip', 'random']:\n",
    "\n",
    "    cmd = 'BASE=\"results/ag_news_results/' +  method + '\" && FOLDER=\"$(ls ${BASE} | sort -z | tail -n 2)\" && python eval.py -mp results/ag_news/logit_tfidf.model -arp ${BASE}/${FOLDER}/results.csv -erp ${BASE}/${FOLDER}/eval_metric.json'\n",
    "\n",
    "    result = subprocess.run(cmd, stdout=subprocess.PIPE, shell=True)\n",
    "\n",
    "    print(method, \":\", result.stdout.decode('utf-8'))"
   ]
  },
  {
   "cell_type": "code",
   "execution_count": 47,
   "metadata": {},
   "outputs": [],
   "source": [
    "df = pd.read_csv('data/ag_news/test.csv')"
   ]
  },
  {
   "cell_type": "code",
   "execution_count": 78,
   "metadata": {},
   "outputs": [
    {
     "name": "stdout",
     "output_type": "stream",
     "text": [
      "results/ag_news_results/cascada/20200217_195303/results.csv\n"
     ]
    }
   ],
   "source": [
    "base_dir = 'results/ag_news_results'\n",
    "for method in ['cascada']:\n",
    "    xs = os.listdir(os.path.join(base_dir, method))\n",
    "    x = sorted(xs)[-1]\n",
    "    res_path = os.path.join(base_dir, method, x, 'results.csv')\n",
    "    print(res_path)\n",
    "    res = pd.read_csv(res_path)\n",
    "    del res['label']\n",
    "    del res['sequence']\n",
    "    dfr = res.join(df, how='left')\n",
    "    dfr.rename(columns={'labels':'label', 'sequences':'sequence'}, inplace=True)\n",
    "    dfr.to_csv(res_path, index=False)"
   ]
  },
  {
   "cell_type": "code",
   "execution_count": 79,
   "metadata": {},
   "outputs": [
    {
     "name": "stdout",
     "output_type": "stream",
     "text": [
      "cascada : {'accuracy_drop': 0.721, 'probability_drop': 0.5525898447096369, 'WER': 6.9, 'NAD': 0.14697185761203838}\n",
      "\n"
     ]
    }
   ],
   "source": [
    "for method in ['cascada']:\n",
    "\n",
    "    cmd = 'BASE=\"results/ag_news_results/' +  method + '\" && FOLDER=\"$(ls ${BASE} | sort -z | tail -n 2)\" && python eval.py -mp results/ag_news/logit_tfidf.model -arp ${BASE}/${FOLDER}/results.csv -erp ${BASE}/${FOLDER}/eval_metric.json'\n",
    "\n",
    "    result = subprocess.run(cmd, stdout=subprocess.PIPE, shell=True)\n",
    "\n",
    "    print(method, \":\", result.stdout.decode('utf-8'))"
   ]
  },
  {
   "cell_type": "code",
   "execution_count": 84,
   "metadata": {},
   "outputs": [
    {
     "name": "stdout",
     "output_type": "stream",
     "text": [
      "cascada : {'accuracy_drop': 0.634, 'probability_drop': 0.49027662298054747, 'WER': 5.289, 'NAD': 0.1522005885049933}\n",
      "\n",
      "cascada : {\n",
      "  \"cuda\": 0,\n",
      "  \"csv_path\": \"data/ag_news/test.csv\",\n",
      "  \"results_path\": \"results/ag_news_results/cascada\",\n",
      "  \"copynet_path\": \"experiments/ag_news/nonmasked_copynet_with_attention\",\n",
      "  \"classifier_path\": \"experiments/ag_news/classification_copynet\",\n",
      "  \"levenshtein_path\": \"experiments/ag_news/deep_levenshtein_copynet\",\n",
      "  \"levenshtein_weight\": 0.1,\n",
      "  \"learning_rate\": 3.0,\n",
      "  \"max_steps\": 30,\n",
      "  \"num_updates\": 5,\n",
      "  \"beam_size\": 30,\n",
      "  \"maskers\": \"Identity\",\n",
      "  \"early_stopping\": false,\n",
      "  \"sample\": 1000\n",
      "}\n"
     ]
    }
   ],
   "source": [
    "for method in ['cascada']:\n",
    "\n",
    "    cmd = 'BASE=\"results/ag_news_results/' +  method + '\" && FOLDER=\"$(ls ${BASE} | sort -z | tail -n 4 | head -n 1)\" && python eval.py -mp results/ag_news/logit_tfidf.model -arp ${BASE}/${FOLDER}/results.csv -erp ${BASE}/${FOLDER}/eval_metric.json'\n",
    "    result = subprocess.run(cmd, stdout=subprocess.PIPE, shell=True)\n",
    "    print(method, \":\", result.stdout.decode('utf-8'))\n",
    "    \n",
    "    cmd = 'BASE=\"results/ag_news_results/' +  method + '\" && FOLDER=\"$(ls ${BASE} | sort -z | tail -n 4 | head -n 1)\" && cat ${BASE}/${FOLDER}/args.json'\n",
    "    result = subprocess.run(cmd, stdout=subprocess.PIPE, shell=True)\n",
    "    print(method, \":\", result.stdout.decode('utf-8'))\n",
    "    \n",
    "    "
   ]
  },
  {
   "cell_type": "code",
   "execution_count": null,
   "metadata": {},
   "outputs": [],
   "source": []
  },
  {
   "cell_type": "markdown",
   "metadata": {},
   "source": [
    "## make cascada grisearch"
   ]
  },
  {
   "cell_type": "code",
   "execution_count": 101,
   "metadata": {},
   "outputs": [],
   "source": [
    "levenshtein_weights = [0.1, 1, 10]\n",
    "beam_sizes = [1, 30, 100]\n",
    "max_stepss = [5, 30, 100]\n",
    "learning_rates = [1, 2, 4]"
   ]
  },
  {
   "cell_type": "code",
   "execution_count": 102,
   "metadata": {},
   "outputs": [],
   "source": [
    "import itertools"
   ]
  },
  {
   "cell_type": "code",
   "execution_count": 103,
   "metadata": {},
   "outputs": [],
   "source": [
    "params = list(itertools.product(levenshtein_weights, beam_sizes, max_stepss, learning_rates))"
   ]
  },
  {
   "cell_type": "code",
   "execution_count": 104,
   "metadata": {},
   "outputs": [
    {
     "data": {
      "text/plain": [
       "81"
      ]
     },
     "execution_count": 104,
     "metadata": {},
     "output_type": "execute_result"
    }
   ],
   "source": [
    "len(params)"
   ]
  },
  {
   "cell_type": "code",
   "execution_count": 107,
   "metadata": {},
   "outputs": [],
   "source": [
    "from tqdm import tqdm"
   ]
  },
  {
   "cell_type": "code",
   "execution_count": 148,
   "metadata": {},
   "outputs": [
    {
     "data": {
      "text/plain": [
       "['ag_news',\n",
       " 'ai_academy_data_mini',\n",
       " 'insurance',\n",
       " 'ai_academy_data',\n",
       " 'ag_news_mini',\n",
       " 'kaggle_transactions']"
      ]
     },
     "execution_count": 148,
     "metadata": {},
     "output_type": "execute_result"
    }
   ],
   "source": [
    "os.listdir('data')"
   ]
  },
  {
   "cell_type": "code",
   "execution_count": 149,
   "metadata": {},
   "outputs": [],
   "source": [
    "dataset = 'ai_academy_data'"
   ]
  },
  {
   "cell_type": "code",
   "execution_count": 150,
   "metadata": {},
   "outputs": [],
   "source": [
    "levenshtein_weight, beam_size, max_steps, learning_rate = 0.1, 5, 5, 2"
   ]
  },
  {
   "cell_type": "code",
   "execution_count": null,
   "metadata": {},
   "outputs": [
    {
     "name": "stderr",
     "output_type": "stream",
     "text": [
      "\r",
      "  0%|          | 0/81 [00:00<?, ?it/s]"
     ]
    },
    {
     "name": "stdout",
     "output_type": "stream",
     "text": [
      "(0.1, 1, 5, 1)\n"
     ]
    },
    {
     "name": "stderr",
     "output_type": "stream",
     "text": [
      "\r",
      "  1%|          | 1/81 [00:10<14:08, 10.61s/it]"
     ]
    },
    {
     "name": "stdout",
     "output_type": "stream",
     "text": [
      "(0.1, 1, 5, 2)\n"
     ]
    },
    {
     "name": "stderr",
     "output_type": "stream",
     "text": [
      "\r",
      "  2%|▏         | 2/81 [00:19<13:28, 10.24s/it]"
     ]
    },
    {
     "name": "stdout",
     "output_type": "stream",
     "text": [
      "(0.1, 1, 5, 4)\n"
     ]
    },
    {
     "name": "stderr",
     "output_type": "stream",
     "text": [
      "\r",
      "  4%|▎         | 3/81 [00:29<13:12, 10.15s/it]"
     ]
    },
    {
     "name": "stdout",
     "output_type": "stream",
     "text": [
      "(0.1, 1, 30, 1)\n"
     ]
    },
    {
     "name": "stderr",
     "output_type": "stream",
     "text": [
      "\r",
      "  5%|▍         | 4/81 [01:09<24:22, 18.99s/it]"
     ]
    },
    {
     "name": "stdout",
     "output_type": "stream",
     "text": [
      "(0.1, 1, 30, 2)\n"
     ]
    },
    {
     "name": "stderr",
     "output_type": "stream",
     "text": [
      "\r",
      "  6%|▌         | 5/81 [01:50<32:16, 25.48s/it]"
     ]
    },
    {
     "name": "stdout",
     "output_type": "stream",
     "text": [
      "(0.1, 1, 30, 4)\n"
     ]
    },
    {
     "name": "stderr",
     "output_type": "stream",
     "text": [
      "\r",
      "  7%|▋         | 6/81 [02:34<38:47, 31.03s/it]"
     ]
    },
    {
     "name": "stdout",
     "output_type": "stream",
     "text": [
      "(0.1, 1, 100, 1)\n"
     ]
    },
    {
     "name": "stderr",
     "output_type": "stream",
     "text": [
      "\r",
      "  9%|▊         | 7/81 [04:35<1:11:30, 57.98s/it]"
     ]
    },
    {
     "name": "stdout",
     "output_type": "stream",
     "text": [
      "(0.1, 1, 100, 2)\n"
     ]
    },
    {
     "name": "stderr",
     "output_type": "stream",
     "text": [
      "\r",
      " 10%|▉         | 8/81 [06:38<1:34:36, 77.76s/it]"
     ]
    },
    {
     "name": "stdout",
     "output_type": "stream",
     "text": [
      "(0.1, 1, 100, 4)\n"
     ]
    },
    {
     "name": "stderr",
     "output_type": "stream",
     "text": [
      "\r",
      " 11%|█         | 9/81 [08:56<1:54:53, 95.74s/it]"
     ]
    },
    {
     "name": "stdout",
     "output_type": "stream",
     "text": [
      "(0.1, 30, 5, 1)\n"
     ]
    },
    {
     "name": "stderr",
     "output_type": "stream",
     "text": [
      "\r",
      " 12%|█▏        | 10/81 [09:08<1:23:26, 70.52s/it]"
     ]
    },
    {
     "name": "stdout",
     "output_type": "stream",
     "text": [
      "(0.1, 30, 5, 2)\n"
     ]
    },
    {
     "name": "stderr",
     "output_type": "stream",
     "text": [
      "\r",
      " 14%|█▎        | 11/81 [09:18<1:01:14, 52.50s/it]"
     ]
    },
    {
     "name": "stdout",
     "output_type": "stream",
     "text": [
      "(0.1, 30, 5, 4)\n"
     ]
    },
    {
     "name": "stderr",
     "output_type": "stream",
     "text": [
      "\r",
      " 15%|█▍        | 12/81 [09:30<46:08, 40.13s/it]  "
     ]
    },
    {
     "name": "stdout",
     "output_type": "stream",
     "text": [
      "(0.1, 30, 30, 1)\n"
     ]
    },
    {
     "name": "stderr",
     "output_type": "stream",
     "text": [
      "\r",
      " 16%|█▌        | 13/81 [10:16<47:40, 42.07s/it]"
     ]
    },
    {
     "name": "stdout",
     "output_type": "stream",
     "text": [
      "(0.1, 30, 30, 2)\n"
     ]
    },
    {
     "name": "stderr",
     "output_type": "stream",
     "text": [
      "\r",
      " 17%|█▋        | 14/81 [11:03<48:41, 43.61s/it]"
     ]
    },
    {
     "name": "stdout",
     "output_type": "stream",
     "text": [
      "(0.1, 30, 30, 4)\n"
     ]
    },
    {
     "name": "stderr",
     "output_type": "stream",
     "text": [
      "\r",
      " 19%|█▊        | 15/81 [11:55<50:36, 46.01s/it]"
     ]
    },
    {
     "name": "stdout",
     "output_type": "stream",
     "text": [
      "(0.1, 30, 100, 1)\n"
     ]
    },
    {
     "name": "stderr",
     "output_type": "stream",
     "text": [
      "\r",
      " 20%|█▉        | 16/81 [14:20<1:22:05, 75.77s/it]"
     ]
    },
    {
     "name": "stdout",
     "output_type": "stream",
     "text": [
      "(0.1, 30, 100, 2)\n"
     ]
    },
    {
     "name": "stderr",
     "output_type": "stream",
     "text": [
      "\r",
      " 21%|██        | 17/81 [16:49<1:44:09, 97.64s/it]"
     ]
    },
    {
     "name": "stdout",
     "output_type": "stream",
     "text": [
      "(0.1, 30, 100, 4)\n"
     ]
    },
    {
     "name": "stderr",
     "output_type": "stream",
     "text": [
      "\r",
      " 22%|██▏       | 18/81 [19:35<2:04:09, 118.25s/it]"
     ]
    },
    {
     "name": "stdout",
     "output_type": "stream",
     "text": [
      "(0.1, 100, 5, 1)\n"
     ]
    },
    {
     "name": "stderr",
     "output_type": "stream",
     "text": [
      "\r",
      " 23%|██▎       | 19/81 [19:48<1:29:40, 86.78s/it] "
     ]
    },
    {
     "name": "stdout",
     "output_type": "stream",
     "text": [
      "(0.1, 100, 5, 2)\n"
     ]
    },
    {
     "name": "stderr",
     "output_type": "stream",
     "text": [
      "\r",
      " 25%|██▍       | 20/81 [20:01<1:05:29, 64.42s/it]"
     ]
    },
    {
     "name": "stdout",
     "output_type": "stream",
     "text": [
      "(0.1, 100, 5, 4)\n"
     ]
    },
    {
     "name": "stderr",
     "output_type": "stream",
     "text": [
      "\r",
      " 26%|██▌       | 21/81 [20:14<49:03, 49.05s/it]  "
     ]
    },
    {
     "name": "stdout",
     "output_type": "stream",
     "text": [
      "(0.1, 100, 30, 1)\n"
     ]
    },
    {
     "name": "stderr",
     "output_type": "stream",
     "text": [
      "\r",
      " 27%|██▋       | 22/81 [21:10<50:23, 51.25s/it]"
     ]
    },
    {
     "name": "stdout",
     "output_type": "stream",
     "text": [
      "(0.1, 100, 30, 2)\n"
     ]
    },
    {
     "name": "stderr",
     "output_type": "stream",
     "text": [
      "\r",
      " 28%|██▊       | 23/81 [22:10<51:50, 53.64s/it]"
     ]
    },
    {
     "name": "stdout",
     "output_type": "stream",
     "text": [
      "(0.1, 100, 30, 4)\n"
     ]
    },
    {
     "name": "stderr",
     "output_type": "stream",
     "text": [
      "\r",
      " 30%|██▉       | 24/81 [23:13<53:47, 56.62s/it]"
     ]
    },
    {
     "name": "stdout",
     "output_type": "stream",
     "text": [
      "(0.1, 100, 100, 1)\n"
     ]
    }
   ],
   "source": [
    "for p in tqdm(params):\n",
    "    print(p)\n",
    "    levenshtein_weight, beam_size, max_steps, learning_rate = p\n",
    "    cmd = \\\n",
    "    f'''\n",
    "    python run_cascada.py \n",
    "    --csv_path data/{dataset}/test.csv \n",
    "    --results_path results/{dataset}/cascada\n",
    "    --classifier_path experiments/{dataset}/classification_copynet \n",
    "    --levenshtein_path experiments/{dataset}/deep_levenshtein_copynet \n",
    "    --copynet_path experiments/{dataset}/nonmasked_copynet_with_attention \n",
    "    --levenshtein_weight {levenshtein_weight}\n",
    "    --beam_size {beam_size} \n",
    "    --max_steps {max_steps}\n",
    "    --cuda 0 \n",
    "    --num_updates 5 \n",
    "    --learning_rate {learning_rate} \n",
    "    --sample 100\n",
    "    '''.replace('\\n','')\n",
    "    result = subprocess.run(cmd, stdout=subprocess.PIPE, shell=True)"
   ]
  },
  {
   "cell_type": "code",
   "execution_count": 158,
   "metadata": {},
   "outputs": [],
   "source": [
    "df = pd.read_csv(f'data/{dataset}/test.csv')"
   ]
  },
  {
   "cell_type": "code",
   "execution_count": 159,
   "metadata": {},
   "outputs": [],
   "source": [
    "base_dir = f'results/{dataset}'\n",
    "for method in ['cascada']:\n",
    "    xs = os.listdir(os.path.join(base_dir, method))\n",
    "    for x in xs:\n",
    "        if x != 'backup':\n",
    "            res_path = os.path.join(base_dir, method, x, 'results.csv')\n",
    "            res_path_backup = res_path.replace('.csv', '_backup.csv')\n",
    "            if os.path.exists(res_path_backup):\n",
    "                res = pd.read_csv(res_path_backup)\n",
    "            else:\n",
    "                res = pd.read_csv(res_path)\n",
    "            res.to_csv(res_path.replace('.csv', '_backup.csv'))\n",
    "            del res['label']\n",
    "            del res['sequence']\n",
    "            dfr = res.join(df, how='left')\n",
    "            dfr.rename(columns={'labels':'label', 'sequences':'sequence'}, inplace=True)\n",
    "            dfr.to_csv(res_path, index=False)"
   ]
  },
  {
   "cell_type": "code",
   "execution_count": null,
   "metadata": {},
   "outputs": [],
   "source": []
  },
  {
   "cell_type": "code",
   "execution_count": null,
   "metadata": {},
   "outputs": [],
   "source": []
  },
  {
   "cell_type": "code",
   "execution_count": null,
   "metadata": {},
   "outputs": [],
   "source": []
  },
  {
   "cell_type": "code",
   "execution_count": 160,
   "metadata": {},
   "outputs": [],
   "source": [
    "# for method in ['cascada']:\n",
    "#     base = os.path.join(base_dir, method)\n",
    "#     for folder in os.listdir(base):\n",
    "#         cmd = f'python eval.py -mp {base_dir}/logit_tfidf.model -arp {base}/{folder}/results.csv -erp {base}/{folder}/eval_metric.json'\n",
    "#         result = subprocess.run(cmd, stdout=subprocess.PIPE, shell=True)\n",
    "#         print(method, \":\", result.stdout.decode('utf-8'))"
   ]
  },
  {
   "cell_type": "code",
   "execution_count": 161,
   "metadata": {},
   "outputs": [],
   "source": [
    "from eval import calculate_nad, calculate_metrics\n",
    "import joblib\n",
    "import json\n",
    "from adat.models.classification_model import LogisticRegressionOnTfIdf"
   ]
  },
  {
   "cell_type": "code",
   "execution_count": 162,
   "metadata": {},
   "outputs": [],
   "source": [
    "model = joblib.load(f'results/{dataset}/logit_tfidf.model')\n",
    "\n",
    "for method in ['cascada']:\n",
    "    base = os.path.join(base_dir, method)\n",
    "    for folder in os.listdir(base):\n",
    "        if folder != 'backup':\n",
    "            attack_results_path = f'{base}/{folder}/results.csv'\n",
    "            eval_results_path = f'{base}/{folder}/eval_metric.json'\n",
    "            df = pd.read_csv(attack_results_path)\n",
    "            metrics = calculate_metrics(model, \n",
    "                                    df['label'].values, \n",
    "                                    df['sequence'].values,\n",
    "                                    df['generated_sequence'].values)\n",
    "            json.dump(metrics, open(eval_results_path, 'w'))"
   ]
  },
  {
   "cell_type": "code",
   "execution_count": 163,
   "metadata": {},
   "outputs": [],
   "source": [
    "result = []\n",
    "for method in ['cascada']:\n",
    "    base = os.path.join(base_dir, method)\n",
    "    for folder in os.listdir(base):\n",
    "        if folder != 'backup':\n",
    "            args = json.load(open(os.path.join(base, folder, 'args.json')))\n",
    "            metrics = json.load(open(os.path.join(base, folder, 'eval_metric.json')))\n",
    "            args.update(metrics)\n",
    "            result.append({k:args[k] for k in ['accuracy_drop', 'probability_drop', 'WER', 'NAD',\n",
    "                                               'levenshtein_weight', 'beam_size', 'max_steps', 'learning_rate']})\n",
    "result = pd.DataFrame(result)"
   ]
  },
  {
   "cell_type": "code",
   "execution_count": 164,
   "metadata": {},
   "outputs": [],
   "source": [
    "import seaborn as sns\n",
    "import matplotlib.pyplot as plt\n",
    "%matplotlib inline"
   ]
  },
  {
   "cell_type": "code",
   "execution_count": 165,
   "metadata": {},
   "outputs": [
    {
     "data": {
      "text/html": [
       "<div>\n",
       "<style scoped>\n",
       "    .dataframe tbody tr th:only-of-type {\n",
       "        vertical-align: middle;\n",
       "    }\n",
       "\n",
       "    .dataframe tbody tr th {\n",
       "        vertical-align: top;\n",
       "    }\n",
       "\n",
       "    .dataframe thead th {\n",
       "        text-align: right;\n",
       "    }\n",
       "</style>\n",
       "<table border=\"1\" class=\"dataframe\">\n",
       "  <thead>\n",
       "    <tr style=\"text-align: right;\">\n",
       "      <th></th>\n",
       "      <th>accuracy_drop</th>\n",
       "      <th>probability_drop</th>\n",
       "      <th>WER</th>\n",
       "      <th>NAD</th>\n",
       "      <th>levenshtein_weight</th>\n",
       "      <th>beam_size</th>\n",
       "      <th>max_steps</th>\n",
       "      <th>learning_rate</th>\n",
       "    </tr>\n",
       "  </thead>\n",
       "  <tbody>\n",
       "    <tr>\n",
       "      <th>0</th>\n",
       "      <td>0.31</td>\n",
       "      <td>0.157262</td>\n",
       "      <td>6.04</td>\n",
       "      <td>0.135493</td>\n",
       "      <td>0.1</td>\n",
       "      <td>1</td>\n",
       "      <td>5</td>\n",
       "      <td>4.0</td>\n",
       "    </tr>\n",
       "    <tr>\n",
       "      <th>1</th>\n",
       "      <td>0.09</td>\n",
       "      <td>0.034056</td>\n",
       "      <td>0.78</td>\n",
       "      <td>0.069990</td>\n",
       "      <td>1.0</td>\n",
       "      <td>100</td>\n",
       "      <td>30</td>\n",
       "      <td>2.0</td>\n",
       "    </tr>\n",
       "    <tr>\n",
       "      <th>2</th>\n",
       "      <td>0.04</td>\n",
       "      <td>0.010940</td>\n",
       "      <td>0.47</td>\n",
       "      <td>0.076389</td>\n",
       "      <td>0.1</td>\n",
       "      <td>1</td>\n",
       "      <td>30</td>\n",
       "      <td>1.0</td>\n",
       "    </tr>\n",
       "    <tr>\n",
       "      <th>3</th>\n",
       "      <td>0.10</td>\n",
       "      <td>0.039502</td>\n",
       "      <td>0.90</td>\n",
       "      <td>0.078804</td>\n",
       "      <td>1.0</td>\n",
       "      <td>30</td>\n",
       "      <td>100</td>\n",
       "      <td>2.0</td>\n",
       "    </tr>\n",
       "    <tr>\n",
       "      <th>4</th>\n",
       "      <td>0.30</td>\n",
       "      <td>0.127038</td>\n",
       "      <td>4.14</td>\n",
       "      <td>0.174272</td>\n",
       "      <td>10.0</td>\n",
       "      <td>30</td>\n",
       "      <td>30</td>\n",
       "      <td>4.0</td>\n",
       "    </tr>\n",
       "    <tr>\n",
       "      <th>...</th>\n",
       "      <td>...</td>\n",
       "      <td>...</td>\n",
       "      <td>...</td>\n",
       "      <td>...</td>\n",
       "      <td>...</td>\n",
       "      <td>...</td>\n",
       "      <td>...</td>\n",
       "      <td>...</td>\n",
       "    </tr>\n",
       "    <tr>\n",
       "      <th>77</th>\n",
       "      <td>0.12</td>\n",
       "      <td>0.042081</td>\n",
       "      <td>0.93</td>\n",
       "      <td>0.076562</td>\n",
       "      <td>0.1</td>\n",
       "      <td>30</td>\n",
       "      <td>100</td>\n",
       "      <td>2.0</td>\n",
       "    </tr>\n",
       "    <tr>\n",
       "      <th>78</th>\n",
       "      <td>0.12</td>\n",
       "      <td>0.039696</td>\n",
       "      <td>0.84</td>\n",
       "      <td>0.079365</td>\n",
       "      <td>0.1</td>\n",
       "      <td>100</td>\n",
       "      <td>30</td>\n",
       "      <td>2.0</td>\n",
       "    </tr>\n",
       "    <tr>\n",
       "      <th>79</th>\n",
       "      <td>0.11</td>\n",
       "      <td>0.041819</td>\n",
       "      <td>1.02</td>\n",
       "      <td>0.070412</td>\n",
       "      <td>1.0</td>\n",
       "      <td>30</td>\n",
       "      <td>5</td>\n",
       "      <td>2.0</td>\n",
       "    </tr>\n",
       "    <tr>\n",
       "      <th>80</th>\n",
       "      <td>0.00</td>\n",
       "      <td>-0.001689</td>\n",
       "      <td>0.09</td>\n",
       "      <td>0.000000</td>\n",
       "      <td>10.0</td>\n",
       "      <td>100</td>\n",
       "      <td>100</td>\n",
       "      <td>1.0</td>\n",
       "    </tr>\n",
       "    <tr>\n",
       "      <th>81</th>\n",
       "      <td>0.29</td>\n",
       "      <td>0.139592</td>\n",
       "      <td>5.04</td>\n",
       "      <td>0.130018</td>\n",
       "      <td>1.0</td>\n",
       "      <td>1</td>\n",
       "      <td>30</td>\n",
       "      <td>4.0</td>\n",
       "    </tr>\n",
       "  </tbody>\n",
       "</table>\n",
       "<p>82 rows × 8 columns</p>\n",
       "</div>"
      ],
      "text/plain": [
       "    accuracy_drop  probability_drop   WER       NAD  levenshtein_weight  \\\n",
       "0            0.31          0.157262  6.04  0.135493                 0.1   \n",
       "1            0.09          0.034056  0.78  0.069990                 1.0   \n",
       "2            0.04          0.010940  0.47  0.076389                 0.1   \n",
       "3            0.10          0.039502  0.90  0.078804                 1.0   \n",
       "4            0.30          0.127038  4.14  0.174272                10.0   \n",
       "..            ...               ...   ...       ...                 ...   \n",
       "77           0.12          0.042081  0.93  0.076562                 0.1   \n",
       "78           0.12          0.039696  0.84  0.079365                 0.1   \n",
       "79           0.11          0.041819  1.02  0.070412                 1.0   \n",
       "80           0.00         -0.001689  0.09  0.000000                10.0   \n",
       "81           0.29          0.139592  5.04  0.130018                 1.0   \n",
       "\n",
       "    beam_size  max_steps  learning_rate  \n",
       "0           1          5            4.0  \n",
       "1         100         30            2.0  \n",
       "2           1         30            1.0  \n",
       "3          30        100            2.0  \n",
       "4          30         30            4.0  \n",
       "..        ...        ...            ...  \n",
       "77         30        100            2.0  \n",
       "78        100         30            2.0  \n",
       "79         30          5            2.0  \n",
       "80        100        100            1.0  \n",
       "81          1         30            4.0  \n",
       "\n",
       "[82 rows x 8 columns]"
      ]
     },
     "execution_count": 165,
     "metadata": {},
     "output_type": "execute_result"
    }
   ],
   "source": [
    "result"
   ]
  },
  {
   "cell_type": "code",
   "execution_count": 166,
   "metadata": {},
   "outputs": [],
   "source": [
    "sns.set()"
   ]
  },
  {
   "cell_type": "code",
   "execution_count": 167,
   "metadata": {},
   "outputs": [
    {
     "data": {
      "text/plain": [
       "'results/ai_academy_data'"
      ]
     },
     "execution_count": 167,
     "metadata": {},
     "output_type": "execute_result"
    }
   ],
   "source": [
    "base_dir"
   ]
  },
  {
   "cell_type": "code",
   "execution_count": 144,
   "metadata": {},
   "outputs": [
    {
     "data": {
      "image/png": "[encoded data removed]",
      "text/plain": [
       "<Figure size 1440x360 with 16 Axes>"
      ]
     },
     "metadata": {},
     "output_type": "display_data"
    }
   ],
   "source": [
    "g = sns.pairplot(result, x_vars=result.columns.values, y_vars=['NAD', 'WER'])\n",
    "plt.savefig(os.path.join(base_dir, 'stats.png'), dpi=150, bbox_inches='tight')"
   ]
  },
  {
   "cell_type": "code",
   "execution_count": 168,
   "metadata": {},
   "outputs": [
    {
     "data": {
      "image/png": "[encoded data removed]",
      "text/plain": [
       "<Figure size 1440x360 with 16 Axes>"
      ]
     },
     "metadata": {},
     "output_type": "display_data"
    }
   ],
   "source": [
    "g = sns.pairplot(result, x_vars=result.columns.values, y_vars=['NAD', 'WER'])\n",
    "plt.savefig(os.path.join(base_dir, 'stats.png'), dpi=150, bbox_inches='tight')"
   ]
  },
  {
   "cell_type": "code",
   "execution_count": 169,
   "metadata": {},
   "outputs": [
    {
     "data": {
      "text/html": [
       "<div>\n",
       "<style scoped>\n",
       "    .dataframe tbody tr th:only-of-type {\n",
       "        vertical-align: middle;\n",
       "    }\n",
       "\n",
       "    .dataframe tbody tr th {\n",
       "        vertical-align: top;\n",
       "    }\n",
       "\n",
       "    .dataframe thead th {\n",
       "        text-align: right;\n",
       "    }\n",
       "</style>\n",
       "<table border=\"1\" class=\"dataframe\">\n",
       "  <thead>\n",
       "    <tr style=\"text-align: right;\">\n",
       "      <th></th>\n",
       "      <th>accuracy_drop</th>\n",
       "      <th>probability_drop</th>\n",
       "      <th>WER</th>\n",
       "      <th>NAD</th>\n",
       "      <th>levenshtein_weight</th>\n",
       "      <th>beam_size</th>\n",
       "      <th>max_steps</th>\n",
       "      <th>learning_rate</th>\n",
       "    </tr>\n",
       "  </thead>\n",
       "  <tbody>\n",
       "    <tr>\n",
       "      <th>24</th>\n",
       "      <td>0.33</td>\n",
       "      <td>0.144403</td>\n",
       "      <td>4.65</td>\n",
       "      <td>0.191789</td>\n",
       "      <td>0.1</td>\n",
       "      <td>30</td>\n",
       "      <td>5</td>\n",
       "      <td>4.0</td>\n",
       "    </tr>\n",
       "    <tr>\n",
       "      <th>60</th>\n",
       "      <td>0.30</td>\n",
       "      <td>0.129233</td>\n",
       "      <td>3.59</td>\n",
       "      <td>0.189817</td>\n",
       "      <td>1.0</td>\n",
       "      <td>30</td>\n",
       "      <td>100</td>\n",
       "      <td>4.0</td>\n",
       "    </tr>\n",
       "    <tr>\n",
       "      <th>64</th>\n",
       "      <td>0.30</td>\n",
       "      <td>0.130281</td>\n",
       "      <td>3.72</td>\n",
       "      <td>0.186568</td>\n",
       "      <td>1.0</td>\n",
       "      <td>30</td>\n",
       "      <td>30</td>\n",
       "      <td>4.0</td>\n",
       "    </tr>\n",
       "    <tr>\n",
       "      <th>38</th>\n",
       "      <td>0.32</td>\n",
       "      <td>0.138436</td>\n",
       "      <td>4.37</td>\n",
       "      <td>0.178185</td>\n",
       "      <td>1.0</td>\n",
       "      <td>30</td>\n",
       "      <td>5</td>\n",
       "      <td>4.0</td>\n",
       "    </tr>\n",
       "    <tr>\n",
       "      <th>31</th>\n",
       "      <td>0.29</td>\n",
       "      <td>0.128600</td>\n",
       "      <td>3.31</td>\n",
       "      <td>0.177271</td>\n",
       "      <td>1.0</td>\n",
       "      <td>100</td>\n",
       "      <td>100</td>\n",
       "      <td>4.0</td>\n",
       "    </tr>\n",
       "    <tr>\n",
       "      <th>...</th>\n",
       "      <td>...</td>\n",
       "      <td>...</td>\n",
       "      <td>...</td>\n",
       "      <td>...</td>\n",
       "      <td>...</td>\n",
       "      <td>...</td>\n",
       "      <td>...</td>\n",
       "      <td>...</td>\n",
       "    </tr>\n",
       "    <tr>\n",
       "      <th>63</th>\n",
       "      <td>0.00</td>\n",
       "      <td>-0.001689</td>\n",
       "      <td>0.09</td>\n",
       "      <td>0.000000</td>\n",
       "      <td>10.0</td>\n",
       "      <td>100</td>\n",
       "      <td>30</td>\n",
       "      <td>1.0</td>\n",
       "    </tr>\n",
       "    <tr>\n",
       "      <th>40</th>\n",
       "      <td>0.00</td>\n",
       "      <td>-0.001405</td>\n",
       "      <td>0.11</td>\n",
       "      <td>0.000000</td>\n",
       "      <td>10.0</td>\n",
       "      <td>30</td>\n",
       "      <td>30</td>\n",
       "      <td>1.0</td>\n",
       "    </tr>\n",
       "    <tr>\n",
       "      <th>15</th>\n",
       "      <td>0.00</td>\n",
       "      <td>-0.001405</td>\n",
       "      <td>0.11</td>\n",
       "      <td>0.000000</td>\n",
       "      <td>0.1</td>\n",
       "      <td>30</td>\n",
       "      <td>5</td>\n",
       "      <td>1.0</td>\n",
       "    </tr>\n",
       "    <tr>\n",
       "      <th>22</th>\n",
       "      <td>0.00</td>\n",
       "      <td>-0.001934</td>\n",
       "      <td>0.08</td>\n",
       "      <td>0.000000</td>\n",
       "      <td>0.1</td>\n",
       "      <td>100</td>\n",
       "      <td>5</td>\n",
       "      <td>1.0</td>\n",
       "    </tr>\n",
       "    <tr>\n",
       "      <th>41</th>\n",
       "      <td>0.00</td>\n",
       "      <td>0.000066</td>\n",
       "      <td>0.09</td>\n",
       "      <td>0.000000</td>\n",
       "      <td>1.0</td>\n",
       "      <td>30</td>\n",
       "      <td>100</td>\n",
       "      <td>1.0</td>\n",
       "    </tr>\n",
       "  </tbody>\n",
       "</table>\n",
       "<p>82 rows × 8 columns</p>\n",
       "</div>"
      ],
      "text/plain": [
       "    accuracy_drop  probability_drop   WER       NAD  levenshtein_weight  \\\n",
       "24           0.33          0.144403  4.65  0.191789                 0.1   \n",
       "60           0.30          0.129233  3.59  0.189817                 1.0   \n",
       "64           0.30          0.130281  3.72  0.186568                 1.0   \n",
       "38           0.32          0.138436  4.37  0.178185                 1.0   \n",
       "31           0.29          0.128600  3.31  0.177271                 1.0   \n",
       "..            ...               ...   ...       ...                 ...   \n",
       "63           0.00         -0.001689  0.09  0.000000                10.0   \n",
       "40           0.00         -0.001405  0.11  0.000000                10.0   \n",
       "15           0.00         -0.001405  0.11  0.000000                 0.1   \n",
       "22           0.00         -0.001934  0.08  0.000000                 0.1   \n",
       "41           0.00          0.000066  0.09  0.000000                 1.0   \n",
       "\n",
       "    beam_size  max_steps  learning_rate  \n",
       "24         30          5            4.0  \n",
       "60         30        100            4.0  \n",
       "64         30         30            4.0  \n",
       "38         30          5            4.0  \n",
       "31        100        100            4.0  \n",
       "..        ...        ...            ...  \n",
       "63        100         30            1.0  \n",
       "40         30         30            1.0  \n",
       "15         30          5            1.0  \n",
       "22        100          5            1.0  \n",
       "41         30        100            1.0  \n",
       "\n",
       "[82 rows x 8 columns]"
      ]
     },
     "execution_count": 169,
     "metadata": {},
     "output_type": "execute_result"
    }
   ],
   "source": [
    "result.sort_values(by='NAD', ascending=False)"
   ]
  },
  {
   "cell_type": "code",
   "execution_count": 146,
   "metadata": {},
   "outputs": [
    {
     "data": {
      "text/html": [
       "<div>\n",
       "<style scoped>\n",
       "    .dataframe tbody tr th:only-of-type {\n",
       "        vertical-align: middle;\n",
       "    }\n",
       "\n",
       "    .dataframe tbody tr th {\n",
       "        vertical-align: top;\n",
       "    }\n",
       "\n",
       "    .dataframe thead th {\n",
       "        text-align: right;\n",
       "    }\n",
       "</style>\n",
       "<table border=\"1\" class=\"dataframe\">\n",
       "  <thead>\n",
       "    <tr style=\"text-align: right;\">\n",
       "      <th></th>\n",
       "      <th>accuracy_drop</th>\n",
       "      <th>probability_drop</th>\n",
       "      <th>WER</th>\n",
       "      <th>NAD</th>\n",
       "      <th>levenshtein_weight</th>\n",
       "      <th>beam_size</th>\n",
       "      <th>max_steps</th>\n",
       "      <th>learning_rate</th>\n",
       "    </tr>\n",
       "  </thead>\n",
       "  <tbody>\n",
       "    <tr>\n",
       "      <th>33</th>\n",
       "      <td>0.72</td>\n",
       "      <td>0.566426</td>\n",
       "      <td>5.50</td>\n",
       "      <td>0.167528</td>\n",
       "      <td>10.0</td>\n",
       "      <td>30</td>\n",
       "      <td>30</td>\n",
       "      <td>4.0</td>\n",
       "    </tr>\n",
       "    <tr>\n",
       "      <th>51</th>\n",
       "      <td>0.71</td>\n",
       "      <td>0.557898</td>\n",
       "      <td>5.33</td>\n",
       "      <td>0.166994</td>\n",
       "      <td>10.0</td>\n",
       "      <td>30</td>\n",
       "      <td>100</td>\n",
       "      <td>4.0</td>\n",
       "    </tr>\n",
       "    <tr>\n",
       "      <th>48</th>\n",
       "      <td>0.69</td>\n",
       "      <td>0.518521</td>\n",
       "      <td>5.18</td>\n",
       "      <td>0.165818</td>\n",
       "      <td>10.0</td>\n",
       "      <td>100</td>\n",
       "      <td>30</td>\n",
       "      <td>4.0</td>\n",
       "    </tr>\n",
       "    <tr>\n",
       "      <th>23</th>\n",
       "      <td>0.68</td>\n",
       "      <td>0.512057</td>\n",
       "      <td>5.13</td>\n",
       "      <td>0.164493</td>\n",
       "      <td>10.0</td>\n",
       "      <td>100</td>\n",
       "      <td>100</td>\n",
       "      <td>4.0</td>\n",
       "    </tr>\n",
       "    <tr>\n",
       "      <th>58</th>\n",
       "      <td>0.76</td>\n",
       "      <td>0.596435</td>\n",
       "      <td>6.32</td>\n",
       "      <td>0.163406</td>\n",
       "      <td>1.0</td>\n",
       "      <td>1</td>\n",
       "      <td>100</td>\n",
       "      <td>4.0</td>\n",
       "    </tr>\n",
       "    <tr>\n",
       "      <th>...</th>\n",
       "      <td>...</td>\n",
       "      <td>...</td>\n",
       "      <td>...</td>\n",
       "      <td>...</td>\n",
       "      <td>...</td>\n",
       "      <td>...</td>\n",
       "      <td>...</td>\n",
       "      <td>...</td>\n",
       "    </tr>\n",
       "    <tr>\n",
       "      <th>40</th>\n",
       "      <td>0.10</td>\n",
       "      <td>0.101674</td>\n",
       "      <td>1.34</td>\n",
       "      <td>0.047287</td>\n",
       "      <td>10.0</td>\n",
       "      <td>100</td>\n",
       "      <td>30</td>\n",
       "      <td>1.0</td>\n",
       "    </tr>\n",
       "    <tr>\n",
       "      <th>19</th>\n",
       "      <td>0.09</td>\n",
       "      <td>0.100596</td>\n",
       "      <td>1.25</td>\n",
       "      <td>0.046512</td>\n",
       "      <td>0.1</td>\n",
       "      <td>100</td>\n",
       "      <td>100</td>\n",
       "      <td>1.0</td>\n",
       "    </tr>\n",
       "    <tr>\n",
       "      <th>69</th>\n",
       "      <td>0.11</td>\n",
       "      <td>0.105858</td>\n",
       "      <td>1.33</td>\n",
       "      <td>0.045930</td>\n",
       "      <td>1.0</td>\n",
       "      <td>100</td>\n",
       "      <td>5</td>\n",
       "      <td>1.0</td>\n",
       "    </tr>\n",
       "    <tr>\n",
       "      <th>16</th>\n",
       "      <td>0.11</td>\n",
       "      <td>0.109903</td>\n",
       "      <td>1.30</td>\n",
       "      <td>0.044961</td>\n",
       "      <td>0.1</td>\n",
       "      <td>100</td>\n",
       "      <td>30</td>\n",
       "      <td>1.0</td>\n",
       "    </tr>\n",
       "    <tr>\n",
       "      <th>34</th>\n",
       "      <td>0.07</td>\n",
       "      <td>0.085588</td>\n",
       "      <td>1.13</td>\n",
       "      <td>0.043023</td>\n",
       "      <td>1.0</td>\n",
       "      <td>100</td>\n",
       "      <td>100</td>\n",
       "      <td>1.0</td>\n",
       "    </tr>\n",
       "  </tbody>\n",
       "</table>\n",
       "<p>81 rows × 8 columns</p>\n",
       "</div>"
      ],
      "text/plain": [
       "    accuracy_drop  probability_drop   WER       NAD  levenshtein_weight  \\\n",
       "33           0.72          0.566426  5.50  0.167528                10.0   \n",
       "51           0.71          0.557898  5.33  0.166994                10.0   \n",
       "48           0.69          0.518521  5.18  0.165818                10.0   \n",
       "23           0.68          0.512057  5.13  0.164493                10.0   \n",
       "58           0.76          0.596435  6.32  0.163406                 1.0   \n",
       "..            ...               ...   ...       ...                 ...   \n",
       "40           0.10          0.101674  1.34  0.047287                10.0   \n",
       "19           0.09          0.100596  1.25  0.046512                 0.1   \n",
       "69           0.11          0.105858  1.33  0.045930                 1.0   \n",
       "16           0.11          0.109903  1.30  0.044961                 0.1   \n",
       "34           0.07          0.085588  1.13  0.043023                 1.0   \n",
       "\n",
       "    beam_size  max_steps  learning_rate  \n",
       "33         30         30            4.0  \n",
       "51         30        100            4.0  \n",
       "48        100         30            4.0  \n",
       "23        100        100            4.0  \n",
       "58          1        100            4.0  \n",
       "..        ...        ...            ...  \n",
       "40        100         30            1.0  \n",
       "19        100        100            1.0  \n",
       "69        100          5            1.0  \n",
       "16        100         30            1.0  \n",
       "34        100        100            1.0  \n",
       "\n",
       "[81 rows x 8 columns]"
      ]
     },
     "execution_count": 146,
     "metadata": {},
     "output_type": "execute_result"
    }
   ],
   "source": [
    "result.sort_values(by='NAD', ascending=False)"
   ]
  },
  {
   "cell_type": "code",
   "execution_count": 171,
   "metadata": {},
   "outputs": [],
   "source": [
    "cmd = f\"\"\"\n",
    "    python run_hotflip.py \n",
    "    --csv_path data/{dataset}/test.csv \n",
    "    --results_path results/{dataset}/hotflip\n",
    "    --classifier_path experiments/{dataset}/classifier_basic \n",
    "    --sample 100\n",
    "    \"\"\".replace('\\n','')"
   ]
  },
  {
   "cell_type": "code",
   "execution_count": 172,
   "metadata": {},
   "outputs": [
    {
     "data": {
      "text/plain": [
       "'    python run_hotflip.py     --csv_path data/ai_academy_data/test.csv     --results_path results/ai_academy_data/hotflip    --classifier_path experiments/ai_academy_data/classifier_basic     --sample 100    '"
      ]
     },
     "execution_count": 172,
     "metadata": {},
     "output_type": "execute_result"
    }
   ],
   "source": [
    "cmd"
   ]
  },
  {
   "cell_type": "code",
   "execution_count": 176,
   "metadata": {},
   "outputs": [],
   "source": []
  },
  {
   "cell_type": "code",
   "execution_count": null,
   "metadata": {},
   "outputs": [],
   "source": []
  },
  {
   "cell_type": "code",
   "execution_count": 181,
   "metadata": {},
   "outputs": [],
   "source": [
    "\n",
    "testdf = pd.read_csv(f'data/{dataset}/test.csv')\n",
    "for method in ['hotflip']:\n",
    "    base = os.path.join(base_dir, method)    \n",
    "    for folder in os.listdir(base):\n",
    "        if folder != 'backup':\n",
    "            attack_results_path = f'{base}/{folder}/results.csv'\n",
    "            eval_results_path = f'{base}/{folder}/eval_metric.json'\n",
    "            df = pd.read_csv(attack_results_path)\n",
    "            df = df.join(testdf, how='left').rename(columns={'sequences':'sequence', 'labels':'label'})\n",
    "            metrics = calculate_metrics(model, \n",
    "                                    df['label'].values, \n",
    "                                    df['sequence'].values,\n",
    "                                    df['generated_sequence'].values)\n",
    "            json.dump(metrics, open(eval_results_path, 'w'))"
   ]
  },
  {
   "cell_type": "code",
   "execution_count": 186,
   "metadata": {},
   "outputs": [
    {
     "data": {
      "text/plain": [
       "{'accuracy_drop': 0.37,\n",
       " 'probability_drop': 0.2128507382176137,\n",
       " 'WER': 8.77,\n",
       " 'NAD': 0.11758477206551106}"
      ]
     },
     "execution_count": 186,
     "metadata": {},
     "output_type": "execute_result"
    }
   ],
   "source": [
    "metrics"
   ]
  },
  {
   "cell_type": "code",
   "execution_count": 184,
   "metadata": {},
   "outputs": [],
   "source": [
    "ag_news = json.load(open('results/ag_news_results/hotflip/20200217_084324/eval_metric.json', 'r'))"
   ]
  },
  {
   "cell_type": "code",
   "execution_count": 185,
   "metadata": {},
   "outputs": [
    {
     "data": {
      "text/plain": [
       "{'accuracy_drop': 0.789,\n",
       " 'probability_drop': 0.6462328299128951,\n",
       " 'WER': 6.472,\n",
       " 'NAD': 0.16620521013092537}"
      ]
     },
     "execution_count": 185,
     "metadata": {},
     "output_type": "execute_result"
    }
   ],
   "source": [
    "ag_news"
   ]
  },
  {
   "cell_type": "code",
   "execution_count": null,
   "metadata": {},
   "outputs": [],
   "source": []
  }
 ],
 "metadata": {
  "kernelspec": {
   "display_name": "Python [conda env:adat] *",
   "language": "python",
   "name": "conda-env-adat-py"
  },
  "language_info": {
   "codemirror_mode": {
    "name": "ipython",
    "version": 3
   },
   "file_extension": ".py",
   "mimetype": "text/x-python",
   "name": "python",
   "nbconvert_exporter": "python",
   "pygments_lexer": "ipython3",
   "version": "3.6.1"
  }
 },
 "nbformat": 4,
 "nbformat_minor": 4
}
