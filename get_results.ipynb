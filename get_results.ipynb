{
 "cells": [
  {
   "cell_type": "code",
   "execution_count": 1,
   "metadata": {},
   "outputs": [],
   "source": [
    "import subprocess\n",
    "import pandas as pd\n",
    "import os"
   ]
  },
  {
   "cell_type": "code",
   "execution_count": 2,
   "metadata": {},
   "outputs": [],
   "source": [
    "from eval import calculate_nad, calculate_metrics\n",
    "import joblib\n",
    "import json\n",
    "from adat.models.classification_model import LogisticRegressionOnTfIdf"
   ]
  },
  {
   "cell_type": "code",
   "execution_count": 3,
   "metadata": {},
   "outputs": [],
   "source": [
    "from sklearn.model_selection import ParameterSampler\n",
    "import seaborn as sns\n",
    "import matplotlib.pyplot as plt\n",
    "%matplotlib inline\n",
    "from tqdm import tqdm\n",
    "import numpy as np\n",
    "import itertools\n",
    "import time"
   ]
  },
  {
   "cell_type": "code",
   "execution_count": 27,
   "metadata": {},
   "outputs": [],
   "source": [
    "#dataset = 'kaggle_transactions'\n",
    "dataset = 'ag_news' \n",
    "#dataset = 'insurance'\n",
    "#dataset = 'ai_academy_data'"
   ]
  },
  {
   "cell_type": "code",
   "execution_count": 28,
   "metadata": {},
   "outputs": [],
   "source": [
    "base_dir = f'results/{dataset}'"
   ]
  },
  {
   "cell_type": "code",
   "execution_count": 29,
   "metadata": {},
   "outputs": [],
   "source": [
    "result = []\n",
    "for method in ['random']:\n",
    "    base = os.path.join(base_dir, method)\n",
    "    for folder in os.listdir(base):\n",
    "        if folder != 'backup':\n",
    "            args = json.load(open(os.path.join(base, folder, 'args.json')))\n",
    "            metrics = json.load(open(os.path.join(base, folder, 'eval_metric.json')))\n",
    "            args.update(metrics)\n",
    "            result.append({k:args[k] for k in ['roc_auc_drop', 'accuracy_drop', 'probability_drop', 'WER', 'NAD',\n",
    "                                                'beam_size', 'num_steps', 'std']})\n",
    "result = pd.DataFrame(result)"
   ]
  },
  {
   "cell_type": "code",
   "execution_count": 30,
   "metadata": {},
   "outputs": [
    {
     "name": "stdout",
     "output_type": "stream",
     "text": [
      "random\n"
     ]
    },
    {
     "data": {
      "text/html": [
       "<div>\n",
       "<style scoped>\n",
       "    .dataframe tbody tr th:only-of-type {\n",
       "        vertical-align: middle;\n",
       "    }\n",
       "\n",
       "    .dataframe tbody tr th {\n",
       "        vertical-align: top;\n",
       "    }\n",
       "\n",
       "    .dataframe thead th {\n",
       "        text-align: right;\n",
       "    }\n",
       "</style>\n",
       "<table border=\"1\" class=\"dataframe\">\n",
       "  <thead>\n",
       "    <tr style=\"text-align: right;\">\n",
       "      <th></th>\n",
       "      <th>roc_auc_drop</th>\n",
       "      <th>accuracy_drop</th>\n",
       "      <th>probability_drop</th>\n",
       "      <th>WER</th>\n",
       "      <th>NAD</th>\n",
       "      <th>beam_size</th>\n",
       "      <th>num_steps</th>\n",
       "      <th>std</th>\n",
       "    </tr>\n",
       "  </thead>\n",
       "  <tbody>\n",
       "    <tr>\n",
       "      <th>0</th>\n",
       "      <td>0.277133</td>\n",
       "      <td>0.48</td>\n",
       "      <td>0.3385</td>\n",
       "      <td>5.14</td>\n",
       "      <td>0.143372</td>\n",
       "      <td>30</td>\n",
       "      <td>30</td>\n",
       "      <td>0.50</td>\n",
       "    </tr>\n",
       "    <tr>\n",
       "      <th>1</th>\n",
       "      <td>0.277133</td>\n",
       "      <td>0.48</td>\n",
       "      <td>0.3385</td>\n",
       "      <td>5.14</td>\n",
       "      <td>0.143372</td>\n",
       "      <td>30</td>\n",
       "      <td>30</td>\n",
       "      <td>0.05</td>\n",
       "    </tr>\n",
       "    <tr>\n",
       "      <th>2</th>\n",
       "      <td>0.277133</td>\n",
       "      <td>0.48</td>\n",
       "      <td>0.3385</td>\n",
       "      <td>5.14</td>\n",
       "      <td>0.143372</td>\n",
       "      <td>30</td>\n",
       "      <td>30</td>\n",
       "      <td>1.00</td>\n",
       "    </tr>\n",
       "    <tr>\n",
       "      <th>3</th>\n",
       "      <td>0.277133</td>\n",
       "      <td>0.48</td>\n",
       "      <td>0.3385</td>\n",
       "      <td>5.14</td>\n",
       "      <td>0.143372</td>\n",
       "      <td>30</td>\n",
       "      <td>30</td>\n",
       "      <td>0.20</td>\n",
       "    </tr>\n",
       "    <tr>\n",
       "      <th>4</th>\n",
       "      <td>0.277133</td>\n",
       "      <td>0.48</td>\n",
       "      <td>0.3385</td>\n",
       "      <td>5.14</td>\n",
       "      <td>0.143372</td>\n",
       "      <td>30</td>\n",
       "      <td>30</td>\n",
       "      <td>0.10</td>\n",
       "    </tr>\n",
       "  </tbody>\n",
       "</table>\n",
       "</div>"
      ],
      "text/plain": [
       "   roc_auc_drop  accuracy_drop  probability_drop   WER       NAD  beam_size  \\\n",
       "0      0.277133           0.48            0.3385  5.14  0.143372         30   \n",
       "1      0.277133           0.48            0.3385  5.14  0.143372         30   \n",
       "2      0.277133           0.48            0.3385  5.14  0.143372         30   \n",
       "3      0.277133           0.48            0.3385  5.14  0.143372         30   \n",
       "4      0.277133           0.48            0.3385  5.14  0.143372         30   \n",
       "\n",
       "   num_steps   std  \n",
       "0         30  0.50  \n",
       "1         30  0.05  \n",
       "2         30  1.00  \n",
       "3         30  0.20  \n",
       "4         30  0.10  "
      ]
     },
     "execution_count": 30,
     "metadata": {},
     "output_type": "execute_result"
    }
   ],
   "source": [
    "print('random')\n",
    "result[(result['beam_size'] == 30)&(result['num_steps'] == 30)].sort_values(by='NAD', ascending=False).head()"
   ]
  },
  {
   "cell_type": "code",
   "execution_count": 31,
   "metadata": {},
   "outputs": [],
   "source": [
    "xs = os.listdir(f'results/{dataset}/hotflip')\n",
    "x = np.sort(xs)[-1]\n",
    "result = json.load(open(f'results/{dataset}/hotflip/{x}/eval_metric.json', 'r'))\n",
    "result = pd.DataFrame([result])"
   ]
  },
  {
   "cell_type": "code",
   "execution_count": 32,
   "metadata": {},
   "outputs": [
    {
     "name": "stdout",
     "output_type": "stream",
     "text": [
      "hotflip\n"
     ]
    },
    {
     "data": {
      "text/html": [
       "<div>\n",
       "<style scoped>\n",
       "    .dataframe tbody tr th:only-of-type {\n",
       "        vertical-align: middle;\n",
       "    }\n",
       "\n",
       "    .dataframe tbody tr th {\n",
       "        vertical-align: top;\n",
       "    }\n",
       "\n",
       "    .dataframe thead th {\n",
       "        text-align: right;\n",
       "    }\n",
       "</style>\n",
       "<table border=\"1\" class=\"dataframe\">\n",
       "  <thead>\n",
       "    <tr style=\"text-align: right;\">\n",
       "      <th></th>\n",
       "      <th>roc_auc_drop</th>\n",
       "      <th>accuracy_drop</th>\n",
       "      <th>probability_drop</th>\n",
       "      <th>WER</th>\n",
       "      <th>NAD</th>\n",
       "    </tr>\n",
       "  </thead>\n",
       "  <tbody>\n",
       "    <tr>\n",
       "      <th>0</th>\n",
       "      <td>0.812639</td>\n",
       "      <td>0.81</td>\n",
       "      <td>0.686984</td>\n",
       "      <td>6.41</td>\n",
       "      <td>0.167634</td>\n",
       "    </tr>\n",
       "  </tbody>\n",
       "</table>\n",
       "</div>"
      ],
      "text/plain": [
       "   roc_auc_drop  accuracy_drop  probability_drop   WER       NAD\n",
       "0      0.812639           0.81          0.686984  6.41  0.167634"
      ]
     },
     "execution_count": 32,
     "metadata": {},
     "output_type": "execute_result"
    }
   ],
   "source": [
    "print('hotflip')\n",
    "result[['roc_auc_drop', 'accuracy_drop', 'probability_drop', 'WER', 'NAD']]"
   ]
  },
  {
   "cell_type": "code",
   "execution_count": null,
   "metadata": {},
   "outputs": [],
   "source": []
  },
  {
   "cell_type": "code",
   "execution_count": 33,
   "metadata": {},
   "outputs": [],
   "source": [
    "result = []\n",
    "for method in ['mcmc']:\n",
    "    base = os.path.join(base_dir, method)\n",
    "    for folder in os.listdir(base):\n",
    "        if folder != 'backup':\n",
    "            args = json.load(open(os.path.join(base, folder, 'args.json')))\n",
    "            metrics = json.load(open(os.path.join(base, folder, 'eval_metric.json')))\n",
    "            args.update(metrics)\n",
    "            result.append({k:args[k] for k in ['roc_auc_drop', 'accuracy_drop', 'probability_drop', 'WER', 'NAD',\n",
    "                                                'beam_size', 'num_steps', 'std', 'sigma_wer', 'sigma_class']})\n",
    "result = pd.DataFrame(result)"
   ]
  },
  {
   "cell_type": "code",
   "execution_count": 34,
   "metadata": {},
   "outputs": [
    {
     "name": "stdout",
     "output_type": "stream",
     "text": [
      "mcmc\n"
     ]
    },
    {
     "data": {
      "text/html": [
       "<div>\n",
       "<style scoped>\n",
       "    .dataframe tbody tr th:only-of-type {\n",
       "        vertical-align: middle;\n",
       "    }\n",
       "\n",
       "    .dataframe tbody tr th {\n",
       "        vertical-align: top;\n",
       "    }\n",
       "\n",
       "    .dataframe thead th {\n",
       "        text-align: right;\n",
       "    }\n",
       "</style>\n",
       "<table border=\"1\" class=\"dataframe\">\n",
       "  <thead>\n",
       "    <tr style=\"text-align: right;\">\n",
       "      <th></th>\n",
       "      <th>roc_auc_drop</th>\n",
       "      <th>accuracy_drop</th>\n",
       "      <th>probability_drop</th>\n",
       "      <th>WER</th>\n",
       "      <th>NAD</th>\n",
       "      <th>beam_size</th>\n",
       "      <th>num_steps</th>\n",
       "      <th>std</th>\n",
       "      <th>sigma_wer</th>\n",
       "      <th>sigma_class</th>\n",
       "    </tr>\n",
       "  </thead>\n",
       "  <tbody>\n",
       "    <tr>\n",
       "      <th>15</th>\n",
       "      <td>0.278004</td>\n",
       "      <td>0.48</td>\n",
       "      <td>0.337278</td>\n",
       "      <td>4.83</td>\n",
       "      <td>0.143372</td>\n",
       "      <td>30</td>\n",
       "      <td>30</td>\n",
       "      <td>0.20</td>\n",
       "      <td>1.00</td>\n",
       "      <td>0.75</td>\n",
       "    </tr>\n",
       "    <tr>\n",
       "      <th>10</th>\n",
       "      <td>0.277336</td>\n",
       "      <td>0.48</td>\n",
       "      <td>0.336949</td>\n",
       "      <td>4.87</td>\n",
       "      <td>0.143372</td>\n",
       "      <td>30</td>\n",
       "      <td>30</td>\n",
       "      <td>0.05</td>\n",
       "      <td>1.25</td>\n",
       "      <td>1.00</td>\n",
       "    </tr>\n",
       "    <tr>\n",
       "      <th>21</th>\n",
       "      <td>0.277336</td>\n",
       "      <td>0.48</td>\n",
       "      <td>0.336949</td>\n",
       "      <td>4.87</td>\n",
       "      <td>0.143372</td>\n",
       "      <td>30</td>\n",
       "      <td>30</td>\n",
       "      <td>0.20</td>\n",
       "      <td>0.75</td>\n",
       "      <td>0.75</td>\n",
       "    </tr>\n",
       "    <tr>\n",
       "      <th>20</th>\n",
       "      <td>0.277336</td>\n",
       "      <td>0.48</td>\n",
       "      <td>0.336949</td>\n",
       "      <td>4.87</td>\n",
       "      <td>0.143372</td>\n",
       "      <td>30</td>\n",
       "      <td>30</td>\n",
       "      <td>0.10</td>\n",
       "      <td>1.25</td>\n",
       "      <td>1.25</td>\n",
       "    </tr>\n",
       "    <tr>\n",
       "      <th>18</th>\n",
       "      <td>0.277336</td>\n",
       "      <td>0.48</td>\n",
       "      <td>0.336949</td>\n",
       "      <td>4.87</td>\n",
       "      <td>0.143372</td>\n",
       "      <td>30</td>\n",
       "      <td>30</td>\n",
       "      <td>0.50</td>\n",
       "      <td>1.25</td>\n",
       "      <td>1.00</td>\n",
       "    </tr>\n",
       "  </tbody>\n",
       "</table>\n",
       "</div>"
      ],
      "text/plain": [
       "    roc_auc_drop  accuracy_drop  probability_drop   WER       NAD  beam_size  \\\n",
       "15      0.278004           0.48          0.337278  4.83  0.143372         30   \n",
       "10      0.277336           0.48          0.336949  4.87  0.143372         30   \n",
       "21      0.277336           0.48          0.336949  4.87  0.143372         30   \n",
       "20      0.277336           0.48          0.336949  4.87  0.143372         30   \n",
       "18      0.277336           0.48          0.336949  4.87  0.143372         30   \n",
       "\n",
       "    num_steps   std  sigma_wer  sigma_class  \n",
       "15         30  0.20       1.00         0.75  \n",
       "10         30  0.05       1.25         1.00  \n",
       "21         30  0.20       0.75         0.75  \n",
       "20         30  0.10       1.25         1.25  \n",
       "18         30  0.50       1.25         1.00  "
      ]
     },
     "execution_count": 34,
     "metadata": {},
     "output_type": "execute_result"
    }
   ],
   "source": [
    "print('mcmc')\n",
    "result[(result['beam_size'] == 30)&(result['num_steps'] == 30)].sort_values(by='NAD', ascending=False).head()"
   ]
  },
  {
   "cell_type": "code",
   "execution_count": null,
   "metadata": {},
   "outputs": [],
   "source": []
  },
  {
   "cell_type": "code",
   "execution_count": 35,
   "metadata": {},
   "outputs": [],
   "source": [
    "result = []\n",
    "for method in ['cascada']:\n",
    "    base = os.path.join(base_dir, method)\n",
    "    for folder in os.listdir(base):\n",
    "        if folder != 'backup':\n",
    "            args = json.load(open(os.path.join(base, folder, 'args.json')))\n",
    "            metrics = json.load(open(os.path.join(base, folder, 'eval_metric.json')))\n",
    "            args.update(metrics)\n",
    "            result.append({k:args[k] for k in ['roc_auc_drop', 'accuracy_drop', 'probability_drop', 'WER', 'NAD',\n",
    "                                               'levenshtein_weight', 'beam_size', 'max_steps', 'learning_rate']})\n",
    "result = pd.DataFrame(result)"
   ]
  },
  {
   "cell_type": "code",
   "execution_count": 36,
   "metadata": {},
   "outputs": [
    {
     "name": "stdout",
     "output_type": "stream",
     "text": [
      "cascada\n"
     ]
    },
    {
     "data": {
      "text/html": [
       "<div>\n",
       "<style scoped>\n",
       "    .dataframe tbody tr th:only-of-type {\n",
       "        vertical-align: middle;\n",
       "    }\n",
       "\n",
       "    .dataframe tbody tr th {\n",
       "        vertical-align: top;\n",
       "    }\n",
       "\n",
       "    .dataframe thead th {\n",
       "        text-align: right;\n",
       "    }\n",
       "</style>\n",
       "<table border=\"1\" class=\"dataframe\">\n",
       "  <thead>\n",
       "    <tr style=\"text-align: right;\">\n",
       "      <th></th>\n",
       "      <th>roc_auc_drop</th>\n",
       "      <th>accuracy_drop</th>\n",
       "      <th>probability_drop</th>\n",
       "      <th>WER</th>\n",
       "      <th>NAD</th>\n",
       "      <th>levenshtein_weight</th>\n",
       "      <th>beam_size</th>\n",
       "      <th>max_steps</th>\n",
       "      <th>learning_rate</th>\n",
       "    </tr>\n",
       "  </thead>\n",
       "  <tbody>\n",
       "    <tr>\n",
       "      <th>33</th>\n",
       "      <td>0.566062</td>\n",
       "      <td>0.74</td>\n",
       "      <td>0.566426</td>\n",
       "      <td>5.50</td>\n",
       "      <td>0.171349</td>\n",
       "      <td>10.0</td>\n",
       "      <td>30</td>\n",
       "      <td>30</td>\n",
       "      <td>4.0</td>\n",
       "    </tr>\n",
       "    <tr>\n",
       "      <th>70</th>\n",
       "      <td>0.568571</td>\n",
       "      <td>0.75</td>\n",
       "      <td>0.570435</td>\n",
       "      <td>6.42</td>\n",
       "      <td>0.158386</td>\n",
       "      <td>0.1</td>\n",
       "      <td>30</td>\n",
       "      <td>30</td>\n",
       "      <td>4.0</td>\n",
       "    </tr>\n",
       "    <tr>\n",
       "      <th>65</th>\n",
       "      <td>0.557270</td>\n",
       "      <td>0.70</td>\n",
       "      <td>0.551676</td>\n",
       "      <td>5.61</td>\n",
       "      <td>0.157824</td>\n",
       "      <td>1.0</td>\n",
       "      <td>30</td>\n",
       "      <td>30</td>\n",
       "      <td>4.0</td>\n",
       "    </tr>\n",
       "    <tr>\n",
       "      <th>35</th>\n",
       "      <td>0.313292</td>\n",
       "      <td>0.45</td>\n",
       "      <td>0.354751</td>\n",
       "      <td>3.28</td>\n",
       "      <td>0.141968</td>\n",
       "      <td>0.1</td>\n",
       "      <td>30</td>\n",
       "      <td>30</td>\n",
       "      <td>2.0</td>\n",
       "    </tr>\n",
       "    <tr>\n",
       "      <th>54</th>\n",
       "      <td>0.308149</td>\n",
       "      <td>0.43</td>\n",
       "      <td>0.345154</td>\n",
       "      <td>3.28</td>\n",
       "      <td>0.133169</td>\n",
       "      <td>10.0</td>\n",
       "      <td>30</td>\n",
       "      <td>30</td>\n",
       "      <td>2.0</td>\n",
       "    </tr>\n",
       "  </tbody>\n",
       "</table>\n",
       "</div>"
      ],
      "text/plain": [
       "    roc_auc_drop  accuracy_drop  probability_drop   WER       NAD  \\\n",
       "33      0.566062           0.74          0.566426  5.50  0.171349   \n",
       "70      0.568571           0.75          0.570435  6.42  0.158386   \n",
       "65      0.557270           0.70          0.551676  5.61  0.157824   \n",
       "35      0.313292           0.45          0.354751  3.28  0.141968   \n",
       "54      0.308149           0.43          0.345154  3.28  0.133169   \n",
       "\n",
       "    levenshtein_weight  beam_size  max_steps  learning_rate  \n",
       "33                10.0         30         30            4.0  \n",
       "70                 0.1         30         30            4.0  \n",
       "65                 1.0         30         30            4.0  \n",
       "35                 0.1         30         30            2.0  \n",
       "54                10.0         30         30            2.0  "
      ]
     },
     "execution_count": 36,
     "metadata": {},
     "output_type": "execute_result"
    }
   ],
   "source": [
    "print('cascada')\n",
    "result[(result['beam_size'] == 30)&(result['max_steps'] == 30)].sort_values(by='NAD', ascending=False).head()"
   ]
  },
  {
   "cell_type": "code",
   "execution_count": null,
   "metadata": {},
   "outputs": [],
   "source": []
  },
  {
   "cell_type": "code",
   "execution_count": null,
   "metadata": {},
   "outputs": [],
   "source": []
  },
  {
   "cell_type": "code",
   "execution_count": null,
   "metadata": {},
   "outputs": [],
   "source": []
  },
  {
   "cell_type": "code",
   "execution_count": null,
   "metadata": {},
   "outputs": [],
   "source": []
  }
 ],
 "metadata": {
  "kernelspec": {
   "display_name": "Python [conda env:adat] *",
   "language": "python",
   "name": "conda-env-adat-py"
  },
  "language_info": {
   "codemirror_mode": {
    "name": "ipython",
    "version": 3
   },
   "file_extension": ".py",
   "mimetype": "text/x-python",
   "name": "python",
   "nbconvert_exporter": "python",
   "pygments_lexer": "ipython3",
   "version": "3.6.1"
  }
 },
 "nbformat": 4,
 "nbformat_minor": 4
}
