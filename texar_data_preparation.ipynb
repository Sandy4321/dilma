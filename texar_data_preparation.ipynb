{
 "cells": [
  {
   "cell_type": "code",
   "execution_count": 1,
   "metadata": {},
   "outputs": [],
   "source": [
    "import os\n",
    "\n",
    "import pandas as pd\n",
    "from sklearn.model_selection import train_test_split"
   ]
  },
  {
   "cell_type": "markdown",
   "metadata": {},
   "source": [
    "## Get your data\n",
    "\n",
    "https://github.com/fursovia/fraud_detection\n",
    "\n",
    "```bash\n",
    "cd fraud_detection\n",
    "python data_prep.py -dd data/adversarial\n",
    "```"
   ]
  },
  {
   "cell_type": "code",
   "execution_count": 2,
   "metadata": {},
   "outputs": [],
   "source": [
    "data = pd.read_csv('/Users/fursovia/Desktop/fraud/data/adversarial/full.csv')"
   ]
  },
  {
   "cell_type": "code",
   "execution_count": 3,
   "metadata": {},
   "outputs": [
    {
     "data": {
      "text/html": [
       "<div>\n",
       "<style scoped>\n",
       "    .dataframe tbody tr th:only-of-type {\n",
       "        vertical-align: middle;\n",
       "    }\n",
       "\n",
       "    .dataframe tbody tr th {\n",
       "        vertical-align: top;\n",
       "    }\n",
       "\n",
       "    .dataframe thead th {\n",
       "        text-align: right;\n",
       "    }\n",
       "</style>\n",
       "<table border=\"1\" class=\"dataframe\">\n",
       "  <thead>\n",
       "    <tr style=\"text-align: right;\">\n",
       "      <th></th>\n",
       "      <th>amount</th>\n",
       "      <th>age</th>\n",
       "      <th>sex</th>\n",
       "      <th>ins_type</th>\n",
       "      <th>speciality</th>\n",
       "      <th>id</th>\n",
       "      <th>treatments</th>\n",
       "      <th>types</th>\n",
       "      <th>target</th>\n",
       "    </tr>\n",
       "  </thead>\n",
       "  <tbody>\n",
       "    <tr>\n",
       "      <th>0</th>\n",
       "      <td>330.97</td>\n",
       "      <td>53.570385</td>\n",
       "      <td>0</td>\n",
       "      <td>1</td>\n",
       "      <td>1</td>\n",
       "      <td>ID_1</td>\n",
       "      <td>a_178 a_1884 a_1 a_168 a_172 a_174</td>\n",
       "      <td>aa_10 aa_2 aa_2 aa_10 aa_10 aa_10</td>\n",
       "      <td>0</td>\n",
       "    </tr>\n",
       "    <tr>\n",
       "      <th>1</th>\n",
       "      <td>455.20</td>\n",
       "      <td>83.382720</td>\n",
       "      <td>1</td>\n",
       "      <td>1</td>\n",
       "      <td>1</td>\n",
       "      <td>ID_2</td>\n",
       "      <td>a_765 a_764 a_1257 a_777 a_802 a_797 a_1191 a...</td>\n",
       "      <td>aa_13 aa_13 aa_3 aa_13 aa_13 aa_13 aa_3 aa_13...</td>\n",
       "      <td>0</td>\n",
       "    </tr>\n",
       "    <tr>\n",
       "      <th>2</th>\n",
       "      <td>199.53</td>\n",
       "      <td>69.567510</td>\n",
       "      <td>1</td>\n",
       "      <td>1</td>\n",
       "      <td>1</td>\n",
       "      <td>ID_3</td>\n",
       "      <td>a_1978 a_710 a_1677 a_1701 a_1 a_585 a_375 a_...</td>\n",
       "      <td>aa_2 aa_12 aa_5 aa_5 aa_2 aa_3 aa_3 aa_12 aa_...</td>\n",
       "      <td>0</td>\n",
       "    </tr>\n",
       "    <tr>\n",
       "      <th>3</th>\n",
       "      <td>142.85</td>\n",
       "      <td>69.556330</td>\n",
       "      <td>1</td>\n",
       "      <td>1</td>\n",
       "      <td>1</td>\n",
       "      <td>ID_4</td>\n",
       "      <td>a_1257 a_545 a_1128 a_1 a_1191 a_2001 a_1978 ...</td>\n",
       "      <td>aa_3 aa_3 aa_3 aa_2 aa_3 aa_2 aa_2 aa_2</td>\n",
       "      <td>0</td>\n",
       "    </tr>\n",
       "    <tr>\n",
       "      <th>4</th>\n",
       "      <td>168.87</td>\n",
       "      <td>18.873434</td>\n",
       "      <td>0</td>\n",
       "      <td>1</td>\n",
       "      <td>1</td>\n",
       "      <td>ID_5</td>\n",
       "      <td>a_737 a_20 a_1257 a_1191 a_642 a_1 a_733 a_11...</td>\n",
       "      <td>aa_13 aa_8 aa_3 aa_3 aa_3 aa_2 aa_13 aa_3 aa_...</td>\n",
       "      <td>0</td>\n",
       "    </tr>\n",
       "  </tbody>\n",
       "</table>\n",
       "</div>"
      ],
      "text/plain": [
       "   amount        age  sex  ins_type  speciality    id  \\\n",
       "0  330.97  53.570385    0         1           1  ID_1   \n",
       "1  455.20  83.382720    1         1           1  ID_2   \n",
       "2  199.53  69.567510    1         1           1  ID_3   \n",
       "3  142.85  69.556330    1         1           1  ID_4   \n",
       "4  168.87  18.873434    0         1           1  ID_5   \n",
       "\n",
       "                                          treatments  \\\n",
       "0                 a_178 a_1884 a_1 a_168 a_172 a_174   \n",
       "1   a_765 a_764 a_1257 a_777 a_802 a_797 a_1191 a...   \n",
       "2   a_1978 a_710 a_1677 a_1701 a_1 a_585 a_375 a_...   \n",
       "3   a_1257 a_545 a_1128 a_1 a_1191 a_2001 a_1978 ...   \n",
       "4   a_737 a_20 a_1257 a_1191 a_642 a_1 a_733 a_11...   \n",
       "\n",
       "                                               types  target  \n",
       "0                  aa_10 aa_2 aa_2 aa_10 aa_10 aa_10       0  \n",
       "1   aa_13 aa_13 aa_3 aa_13 aa_13 aa_13 aa_3 aa_13...       0  \n",
       "2   aa_2 aa_12 aa_5 aa_5 aa_2 aa_3 aa_3 aa_12 aa_...       0  \n",
       "3            aa_3 aa_3 aa_3 aa_2 aa_3 aa_2 aa_2 aa_2       0  \n",
       "4   aa_13 aa_8 aa_3 aa_3 aa_3 aa_2 aa_13 aa_3 aa_...       0  "
      ]
     },
     "execution_count": 3,
     "metadata": {},
     "output_type": "execute_result"
    }
   ],
   "source": [
    "data.head()"
   ]
  },
  {
   "cell_type": "code",
   "execution_count": 4,
   "metadata": {},
   "outputs": [],
   "source": [
    "data = data[['treatments', 'target']]"
   ]
  },
  {
   "cell_type": "code",
   "execution_count": 5,
   "metadata": {},
   "outputs": [
    {
     "data": {
      "text/html": [
       "<div>\n",
       "<style scoped>\n",
       "    .dataframe tbody tr th:only-of-type {\n",
       "        vertical-align: middle;\n",
       "    }\n",
       "\n",
       "    .dataframe tbody tr th {\n",
       "        vertical-align: top;\n",
       "    }\n",
       "\n",
       "    .dataframe thead th {\n",
       "        text-align: right;\n",
       "    }\n",
       "</style>\n",
       "<table border=\"1\" class=\"dataframe\">\n",
       "  <thead>\n",
       "    <tr style=\"text-align: right;\">\n",
       "      <th></th>\n",
       "      <th>treatments</th>\n",
       "      <th>target</th>\n",
       "    </tr>\n",
       "  </thead>\n",
       "  <tbody>\n",
       "    <tr>\n",
       "      <th>0</th>\n",
       "      <td>a_178 a_1884 a_1 a_168 a_172 a_174</td>\n",
       "      <td>0</td>\n",
       "    </tr>\n",
       "    <tr>\n",
       "      <th>1</th>\n",
       "      <td>a_765 a_764 a_1257 a_777 a_802 a_797 a_1191 a...</td>\n",
       "      <td>0</td>\n",
       "    </tr>\n",
       "    <tr>\n",
       "      <th>2</th>\n",
       "      <td>a_1978 a_710 a_1677 a_1701 a_1 a_585 a_375 a_...</td>\n",
       "      <td>0</td>\n",
       "    </tr>\n",
       "    <tr>\n",
       "      <th>3</th>\n",
       "      <td>a_1257 a_545 a_1128 a_1 a_1191 a_2001 a_1978 ...</td>\n",
       "      <td>0</td>\n",
       "    </tr>\n",
       "    <tr>\n",
       "      <th>4</th>\n",
       "      <td>a_737 a_20 a_1257 a_1191 a_642 a_1 a_733 a_11...</td>\n",
       "      <td>0</td>\n",
       "    </tr>\n",
       "  </tbody>\n",
       "</table>\n",
       "</div>"
      ],
      "text/plain": [
       "                                          treatments  target\n",
       "0                 a_178 a_1884 a_1 a_168 a_172 a_174       0\n",
       "1   a_765 a_764 a_1257 a_777 a_802 a_797 a_1191 a...       0\n",
       "2   a_1978 a_710 a_1677 a_1701 a_1 a_585 a_375 a_...       0\n",
       "3   a_1257 a_545 a_1128 a_1 a_1191 a_2001 a_1978 ...       0\n",
       "4   a_737 a_20 a_1257 a_1191 a_642 a_1 a_733 a_11...       0"
      ]
     },
     "execution_count": 5,
     "metadata": {},
     "output_type": "execute_result"
    }
   ],
   "source": [
    "data.head()"
   ]
  },
  {
   "cell_type": "code",
   "execution_count": 8,
   "metadata": {},
   "outputs": [
    {
     "name": "stdout",
     "output_type": "stream",
     "text": [
      "Maxiumum sequence length = 168\n"
     ]
    }
   ],
   "source": [
    "max_sequence_len = max(data.treatments.apply(lambda x: len(x.split())))\n",
    "print(f'Maxiumum sequence length = {max_sequence_len}')"
   ]
  },
  {
   "cell_type": "code",
   "execution_count": 12,
   "metadata": {},
   "outputs": [],
   "source": [
    "# the texar model has a tough time handling long sequences\n",
    "\n",
    "max_allowed_length = 20\n",
    "\n",
    "data['treatments'] = data['treatments'].apply(lambda x: ' '.join(x.split()[:max_allowed_length]))"
   ]
  },
  {
   "cell_type": "code",
   "execution_count": 13,
   "metadata": {},
   "outputs": [],
   "source": [
    "train, intermediate_data = train_test_split(data, stratify=data.target, test_size=0.3, random_state=24)\n",
    "dev, test = train_test_split(intermediate_data, stratify=intermediate_data.target, test_size=0.5, random_state=24)"
   ]
  },
  {
   "cell_type": "code",
   "execution_count": 14,
   "metadata": {},
   "outputs": [
    {
     "data": {
      "text/plain": [
       "((266051, 2), (57011, 2), (57012, 2))"
      ]
     },
     "execution_count": 14,
     "metadata": {},
     "output_type": "execute_result"
    }
   ],
   "source": [
    "train.shape, dev.shape, test.shape"
   ]
  },
  {
   "cell_type": "code",
   "execution_count": 15,
   "metadata": {},
   "outputs": [],
   "source": [
    "data_path = '/Users/fursovia/Documents/texar/examples/text_style_transfer/data/insurance_cropped'\n",
    "\n",
    "if not os.path.exists(data_path):\n",
    "    os.mkdir(data_path)"
   ]
  },
  {
   "cell_type": "code",
   "execution_count": 16,
   "metadata": {},
   "outputs": [],
   "source": [
    "vocab_path = '/Users/fursovia/Desktop/fraud/data/adversarial/treatments.txt'\n",
    "new_vocab_path = os.path.join(data_path, 'vocab')"
   ]
  },
  {
   "cell_type": "code",
   "execution_count": 17,
   "metadata": {},
   "outputs": [],
   "source": [
    "! cp {vocab_path} {new_vocab_path}"
   ]
  },
  {
   "cell_type": "markdown",
   "metadata": {},
   "source": [
    "We also need to delete first two tokens from the vocab."
   ]
  },
  {
   "cell_type": "code",
   "execution_count": 18,
   "metadata": {},
   "outputs": [],
   "source": [
    "! sed -i -e 1,2d {new_vocab_path}"
   ]
  },
  {
   "cell_type": "code",
   "execution_count": 19,
   "metadata": {},
   "outputs": [],
   "source": [
    "for df, name in ((train, 'train'), (dev, 'dev'), (test, 'test')):\n",
    "    with open(os.path.join(data_path, f'insurance.{name}.text'), 'w') as file:\n",
    "        for text in df['treatments'].tolist():\n",
    "            file.write(f'{text}\\n')\n",
    "\n",
    "    with open(os.path.join(data_path, f'insurance.{name}.labels'), 'w') as file:\n",
    "        for label in df['target'].tolist():\n",
    "            file.write(f'{label}\\n')"
   ]
  },
  {
   "cell_type": "code",
   "execution_count": 20,
   "metadata": {},
   "outputs": [
    {
     "name": "stdout",
     "output_type": "stream",
     "text": [
      "insurance.dev.labels   insurance.test.text    vocab\r\n",
      "insurance.dev.text     insurance.train.labels vocab-e\r\n",
      "insurance.test.labels  insurance.train.text\r\n"
     ]
    }
   ],
   "source": [
    "! ls {data_path}"
   ]
  },
  {
   "cell_type": "markdown",
   "metadata": {},
   "source": [
    "You can download these files from [here](https://yadi.sk/d/YfllAjLD3H1_Kw)"
   ]
  },
  {
   "cell_type": "markdown",
   "metadata": {},
   "source": [
    "## Update texar config\n",
    "\n",
    "We need to modify data folders and create a new config file. You can use the code below to replace some python variables or just open `config.py` and do it yourself."
   ]
  },
  {
   "cell_type": "code",
   "execution_count": 14,
   "metadata": {},
   "outputs": [],
   "source": [
    "initial_config = '/Users/fursovia/Documents/texar/examples/text_style_transfer/config.py'\n",
    "new_config = '/Users/fursovia/Documents/texar/examples/text_style_transfer/insurance_config.py'"
   ]
  },
  {
   "cell_type": "code",
   "execution_count": null,
   "metadata": {},
   "outputs": [],
   "source": [
    "! sed 's/yelp/insurance/g' {initial_config} > {new_config}\n",
    "! sed  -i 's/sentiment/insurance/g' {new_config}\n",
    "! sed  -i 's/samples/insurance_samples/g' {new_config}\n",
    "! sed  -i 's/checkpoints/insurance_checkpoints/g' {new_config}"
   ]
  },
  {
   "cell_type": "code",
   "execution_count": null,
   "metadata": {
    "scrolled": false
   },
   "outputs": [],
   "source": [
    "! cat {new_config}"
   ]
  }
 ],
 "metadata": {
  "kernelspec": {
   "display_name": "Python 3",
   "language": "python",
   "name": "python3"
  },
  "language_info": {
   "codemirror_mode": {
    "name": "ipython",
    "version": 3
   },
   "file_extension": ".py",
   "mimetype": "text/x-python",
   "name": "python",
   "nbconvert_exporter": "python",
   "pygments_lexer": "ipython3",
   "version": "3.6.8"
  }
 },
 "nbformat": 4,
 "nbformat_minor": 2
}
